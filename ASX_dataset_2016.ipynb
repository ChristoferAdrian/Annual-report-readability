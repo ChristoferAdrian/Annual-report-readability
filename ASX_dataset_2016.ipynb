{
  "nbformat": 4,
  "nbformat_minor": 0,
  "metadata": {
    "colab": {
      "name": "ASX dataset - 2016",
      "provenance": [],
      "collapsed_sections": [],
      "include_colab_link": true
    },
    "kernelspec": {
      "display_name": "Python 3",
      "name": "python3"
    },
    "language_info": {
      "name": "python"
    }
  },
  "cells": [
    {
      "cell_type": "markdown",
      "metadata": {
        "id": "view-in-github",
        "colab_type": "text"
      },
      "source": [
        "<a href=\"https://colab.research.google.com/github/ChristoferAdrian/Annual-report-readability/blob/main/ASX_dataset_2016.ipynb\" target=\"_parent\"><img src=\"https://colab.research.google.com/assets/colab-badge.svg\" alt=\"Open In Colab\"/></a>"
      ]
    },
    {
      "cell_type": "markdown",
      "metadata": {
        "id": "TAaqfVP1Ke0r"
      },
      "source": [
        "# Codes to extract 2016 ASX annual reports\n",
        "\n",
        "##### Remember to change the file names & paths from Step 2 to Step 5, according the year"
      ]
    },
    {
      "cell_type": "markdown",
      "metadata": {
        "id": "e8OxPJ9j_Jal"
      },
      "source": [
        "## Step 1: Import all necessary modules"
      ]
    },
    {
      "cell_type": "code",
      "metadata": {
        "id": "izEVi1wasicJ",
        "colab": {
          "base_uri": "https://localhost:8080/"
        },
        "outputId": "743411be-e878-4e6f-88d6-ff2ab53bd86b"
      },
      "source": [
        "!pip install textstat\n",
        "!pip install PyPDF2\n",
        "!pip install -U textblob\n",
        "!pip install pdfplumber\n",
        "import os\n",
        "import glob\n",
        "import textstat\n",
        "import csv\n",
        "import PyPDF2\n",
        "from textblob import TextBlob\n",
        "import pdfplumber   # read PDF files"
      ],
      "execution_count": null,
      "outputs": [
        {
          "output_type": "stream",
          "name": "stdout",
          "text": [
            "Collecting textstat\n",
            "  Downloading textstat-0.7.2-py3-none-any.whl (101 kB)\n",
            "\u001b[K     |████████████████████████████████| 101 kB 2.9 MB/s \n",
            "\u001b[?25hCollecting pyphen\n",
            "  Downloading pyphen-0.11.0-py3-none-any.whl (2.0 MB)\n",
            "\u001b[K     |████████████████████████████████| 2.0 MB 21.4 MB/s \n",
            "\u001b[?25hInstalling collected packages: pyphen, textstat\n",
            "Successfully installed pyphen-0.11.0 textstat-0.7.2\n",
            "Collecting PyPDF2\n",
            "  Downloading PyPDF2-1.26.0.tar.gz (77 kB)\n",
            "\u001b[K     |████████████████████████████████| 77 kB 2.1 MB/s \n",
            "\u001b[?25hBuilding wheels for collected packages: PyPDF2\n",
            "  Building wheel for PyPDF2 (setup.py) ... \u001b[?25l\u001b[?25hdone\n",
            "  Created wheel for PyPDF2: filename=PyPDF2-1.26.0-py3-none-any.whl size=61101 sha256=8f030527a6fbf051da345bfd95aaa1a83a579f33bbbc929ff2e94c49cc52eccc\n",
            "  Stored in directory: /root/.cache/pip/wheels/80/1a/24/648467ade3a77ed20f35cfd2badd32134e96dd25ca811e64b3\n",
            "Successfully built PyPDF2\n",
            "Installing collected packages: PyPDF2\n",
            "Successfully installed PyPDF2-1.26.0\n",
            "Requirement already satisfied: textblob in /usr/local/lib/python3.7/dist-packages (0.15.3)\n",
            "Collecting textblob\n",
            "  Downloading textblob-0.17.1-py2.py3-none-any.whl (636 kB)\n",
            "\u001b[K     |████████████████████████████████| 636 kB 2.8 MB/s \n",
            "\u001b[?25hRequirement already satisfied: nltk>=3.1 in /usr/local/lib/python3.7/dist-packages (from textblob) (3.2.5)\n",
            "Requirement already satisfied: six in /usr/local/lib/python3.7/dist-packages (from nltk>=3.1->textblob) (1.15.0)\n",
            "Installing collected packages: textblob\n",
            "  Attempting uninstall: textblob\n",
            "    Found existing installation: textblob 0.15.3\n",
            "    Uninstalling textblob-0.15.3:\n",
            "      Successfully uninstalled textblob-0.15.3\n",
            "Successfully installed textblob-0.17.1\n",
            "Collecting pdfplumber\n",
            "  Downloading pdfplumber-0.5.28.tar.gz (45 kB)\n",
            "\u001b[K     |████████████████████████████████| 45 kB 1.1 MB/s \n",
            "\u001b[?25hCollecting pdfminer.six==20200517\n",
            "  Downloading pdfminer.six-20200517-py3-none-any.whl (5.6 MB)\n",
            "\u001b[K     |████████████████████████████████| 5.6 MB 5.0 MB/s \n",
            "\u001b[?25hRequirement already satisfied: Pillow>=7.0.0 in /usr/local/lib/python3.7/dist-packages (from pdfplumber) (7.1.2)\n",
            "Collecting Wand\n",
            "  Downloading Wand-0.6.7-py2.py3-none-any.whl (139 kB)\n",
            "\u001b[K     |████████████████████████████████| 139 kB 37.1 MB/s \n",
            "\u001b[?25hRequirement already satisfied: sortedcontainers in /usr/local/lib/python3.7/dist-packages (from pdfminer.six==20200517->pdfplumber) (2.4.0)\n",
            "Requirement already satisfied: chardet in /usr/local/lib/python3.7/dist-packages (from pdfminer.six==20200517->pdfplumber) (3.0.4)\n",
            "Collecting pycryptodome\n",
            "  Downloading pycryptodome-3.11.0-cp35-abi3-manylinux2010_x86_64.whl (1.9 MB)\n",
            "\u001b[K     |████████████████████████████████| 1.9 MB 35.3 MB/s \n",
            "\u001b[?25hBuilding wheels for collected packages: pdfplumber\n",
            "  Building wheel for pdfplumber (setup.py) ... \u001b[?25l\u001b[?25hdone\n",
            "  Created wheel for pdfplumber: filename=pdfplumber-0.5.28-py3-none-any.whl size=32240 sha256=bc6bfde9577356939a777ae073948f0b2f1eadd532e24f5d06050a828ce223ba\n",
            "  Stored in directory: /root/.cache/pip/wheels/f2/b1/a0/c0a77b756d580f53b3806ae0e0b3ec945a8d05fca1d6e10cc1\n",
            "Successfully built pdfplumber\n",
            "Installing collected packages: pycryptodome, Wand, pdfminer.six, pdfplumber\n",
            "Successfully installed Wand-0.6.7 pdfminer.six-20200517 pdfplumber-0.5.28 pycryptodome-3.11.0\n"
          ]
        }
      ]
    },
    {
      "cell_type": "markdown",
      "metadata": {
        "id": "SeSEa0jh_tWK"
      },
      "source": [
        "## Step 2: Connect to my Google Drive"
      ]
    },
    {
      "cell_type": "code",
      "metadata": {
        "id": "q1mRC6_qsofR",
        "colab": {
          "base_uri": "https://localhost:8080/"
        },
        "outputId": "45271209-a6b9-43a0-e654-2db4c2a5485b"
      },
      "source": [
        "from google.colab import drive\n",
        "drive.mount('/content/drive')"
      ],
      "execution_count": null,
      "outputs": [
        {
          "output_type": "stream",
          "name": "stdout",
          "text": [
            "Mounted at /content/drive\n"
          ]
        }
      ]
    },
    {
      "cell_type": "markdown",
      "metadata": {
        "id": "dIq-YKSC_920"
      },
      "source": [
        "Change to the path of the selected folder here"
      ]
    },
    {
      "cell_type": "code",
      "metadata": {
        "id": "ua612vczs8BJ"
      },
      "source": [
        "TARGET_FILES = r'/content/drive/MyDrive/ASX annual reports/2016 (1814 firms)/*.pdf'\n",
        "file_list = glob.glob(TARGET_FILES)"
      ],
      "execution_count": null,
      "outputs": []
    },
    {
      "cell_type": "code",
      "metadata": {
        "id": "7muXRbOun9U7",
        "colab": {
          "base_uri": "https://localhost:8080/"
        },
        "outputId": "07473265-7fb1-408c-aa3f-d47bcf682639"
      },
      "source": [
        "print(file_list)"
      ],
      "execution_count": null,
      "outputs": [
        {
          "output_type": "stream",
          "name": "stdout",
          "text": [
            "['/content/drive/MyDrive/ASX annual reports/2016 (1814 firms)/tpr16.pdf', '/content/drive/MyDrive/ASX annual reports/2016 (1814 firms)/thx16.pdf', '/content/drive/MyDrive/ASX annual reports/2016 (1814 firms)/tnd16.pdf', '/content/drive/MyDrive/ASX annual reports/2016 (1814 firms)/ttw16.pdf', '/content/drive/MyDrive/ASX annual reports/2016 (1814 firms)/tzn16.pdf', '/content/drive/MyDrive/ASX annual reports/2016 (1814 firms)/tkl16.pdf', '/content/drive/MyDrive/ASX annual reports/2016 (1814 firms)/tig16.pdf', '/content/drive/MyDrive/ASX annual reports/2016 (1814 firms)/tng16.pdf', '/content/drive/MyDrive/ASX annual reports/2016 (1814 firms)/tnr16.pdf', '/content/drive/MyDrive/ASX annual reports/2016 (1814 firms)/ton16.pdf', '/content/drive/MyDrive/ASX annual reports/2016 (1814 firms)/tbr16.pdf', '/content/drive/MyDrive/ASX annual reports/2016 (1814 firms)/vxl16.pdf', '/content/drive/MyDrive/ASX annual reports/2016 (1814 firms)/trm16.pdf', '/content/drive/MyDrive/ASX annual reports/2016 (1814 firms)/van16.pdf', '/content/drive/MyDrive/ASX annual reports/2016 (1814 firms)/try16.pdf', '/content/drive/MyDrive/ASX annual reports/2016 (1814 firms)/vec16.pdf', '/content/drive/MyDrive/ASX annual reports/2016 (1814 firms)/tyx16.pdf', '/content/drive/MyDrive/ASX annual reports/2016 (1814 firms)/vrx16.pdf', '/content/drive/MyDrive/ASX annual reports/2016 (1814 firms)/var16.pdf', '/content/drive/MyDrive/ASX annual reports/2016 (1814 firms)/vmc16.pdf', '/content/drive/MyDrive/ASX annual reports/2016 (1814 firms)/vms16.pdf', '/content/drive/MyDrive/ASX annual reports/2016 (1814 firms)/vic16.pdf', '/content/drive/MyDrive/ASX annual reports/2016 (1814 firms)/tgn16.pdf', '/content/drive/MyDrive/ASX annual reports/2016 (1814 firms)/vxr16.pdf', '/content/drive/MyDrive/ASX annual reports/2016 (1814 firms)/vii16.pdf', '/content/drive/MyDrive/ASX annual reports/2016 (1814 firms)/via16.pdf', '/content/drive/MyDrive/ASX annual reports/2016 (1814 firms)/vka16.pdf', '/content/drive/MyDrive/ASX annual reports/2016 (1814 firms)/vrc16.pdf', '/content/drive/MyDrive/ASX annual reports/2016 (1814 firms)/vml16.pdf', '/content/drive/MyDrive/ASX annual reports/2016 (1814 firms)/wkt16.pdf', '/content/drive/MyDrive/ASX annual reports/2016 (1814 firms)/wgo16.pdf', '/content/drive/MyDrive/ASX annual reports/2016 (1814 firms)/wal16.pdf', '/content/drive/MyDrive/ASX annual reports/2016 (1814 firms)/wcp16.pdf', '/content/drive/MyDrive/ASX annual reports/2016 (1814 firms)/waf16.pdf', '/content/drive/MyDrive/ASX annual reports/2016 (1814 firms)/wwi16.pdf', '/content/drive/MyDrive/ASX annual reports/2016 (1814 firms)/wsa16.pdf', '/content/drive/MyDrive/ASX annual reports/2016 (1814 firms)/wmn16.pdf', '/content/drive/MyDrive/ASX annual reports/2016 (1814 firms)/wcn16.pdf', '/content/drive/MyDrive/ASX annual reports/2016 (1814 firms)/wrm16.pdf', '/content/drive/MyDrive/ASX annual reports/2016 (1814 firms)/wvl16.pdf', '/content/drive/MyDrive/ASX annual reports/2016 (1814 firms)/win16.pdf', '/content/drive/MyDrive/ASX annual reports/2016 (1814 firms)/wfe16.pdf', '/content/drive/MyDrive/ASX annual reports/2016 (1814 firms)/wlf16.pdf', '/content/drive/MyDrive/ASX annual reports/2016 (1814 firms)/wlc16.pdf', '/content/drive/MyDrive/ASX annual reports/2016 (1814 firms)/wtr16.pdf', '/content/drive/MyDrive/ASX annual reports/2016 (1814 firms)/wpg16.pdf', '/content/drive/MyDrive/ASX annual reports/2016 (1814 firms)/xam16.pdf', '/content/drive/MyDrive/ASX annual reports/2016 (1814 firms)/zam16.pdf', '/content/drive/MyDrive/ASX annual reports/2016 (1814 firms)/zrl16.pdf', '/content/drive/MyDrive/ASX annual reports/2016 (1814 firms)/zgm16.pdf', '/content/drive/MyDrive/ASX annual reports/2016 (1814 firms)/znc16.pdf', '/content/drive/MyDrive/ASX annual reports/2016 (1814 firms)/zyl16.pdf', '/content/drive/MyDrive/ASX annual reports/2016 (1814 firms)/zim16.pdf', '/content/drive/MyDrive/ASX annual reports/2016 (1814 firms)/aei16.pdf', '/content/drive/MyDrive/ASX annual reports/2016 (1814 firms)/aqz16.pdf', '/content/drive/MyDrive/ASX annual reports/2016 (1814 firms)/aiz16.pdf', '/content/drive/MyDrive/ASX annual reports/2016 (1814 firms)/ajl16.pdf', '/content/drive/MyDrive/ASX annual reports/2016 (1814 firms)/1ag16.pdf', '/content/drive/MyDrive/ASX annual reports/2016 (1814 firms)/anq16.pdf', '/content/drive/MyDrive/ASX annual reports/2016 (1814 firms)/alq16.pdf', '/content/drive/MyDrive/ASX annual reports/2016 (1814 firms)/ara16.pdf', '/content/drive/MyDrive/ASX annual reports/2016 (1814 firms)/amb16.pdf', '/content/drive/MyDrive/ASX annual reports/2016 (1814 firms)/ama16.pdf', '/content/drive/MyDrive/ASX annual reports/2016 (1814 firms)/awn16.pdf', '/content/drive/MyDrive/ASX annual reports/2016 (1814 firms)/aio16.pdf', '/content/drive/MyDrive/ASX annual reports/2016 (1814 firms)/air16.pdf', '/content/drive/MyDrive/ASX annual reports/2016 (1814 firms)/ash16.pdf', '/content/drive/MyDrive/ASX annual reports/2016 (1814 firms)/ang16.pdf', '/content/drive/MyDrive/ASX annual reports/2016 (1814 firms)/asb16.pdf', '/content/drive/MyDrive/ASX annual reports/2016 (1814 firms)/azj16.pdf', '/content/drive/MyDrive/ASX annual reports/2016 (1814 firms)/bkm16.pdf', '/content/drive/MyDrive/ASX annual reports/2016 (1814 firms)/bmh16.pdf', '/content/drive/MyDrive/ASX annual reports/2016 (1814 firms)/bkn16.pdf', '/content/drive/MyDrive/ASX annual reports/2016 (1814 firms)/aia16.pdf', '/content/drive/MyDrive/ASX annual reports/2016 (1814 firms)/bol16.pdf', '/content/drive/MyDrive/ASX annual reports/2016 (1814 firms)/bsa16.pdf', '/content/drive/MyDrive/ASX annual reports/2016 (1814 firms)/cdd16.pdf', '/content/drive/MyDrive/ASX annual reports/2016 (1814 firms)/chr16.pdf', '/content/drive/MyDrive/ASX annual reports/2016 (1814 firms)/cab16.pdf', '/content/drive/MyDrive/ASX annual reports/2016 (1814 firms)/byl16.pdf', '/content/drive/MyDrive/ASX annual reports/2016 (1814 firms)/cnd16.pdf', '/content/drive/MyDrive/ASX annual reports/2016 (1814 firms)/cim16.pdf', '/content/drive/MyDrive/ASX annual reports/2016 (1814 firms)/bxb16.pdf', '/content/drive/MyDrive/ASX annual reports/2016 (1814 firms)/cgr16.pdf', '/content/drive/MyDrive/ASX annual reports/2016 (1814 firms)/clq16.pdf', '/content/drive/MyDrive/ASX annual reports/2016 (1814 firms)/cwy16.pdf', '/content/drive/MyDrive/ASX annual reports/2016 (1814 firms)/clx16.pdf', '/content/drive/MyDrive/ASX annual reports/2016 (1814 firms)/cmi16.pdf', '/content/drive/MyDrive/ASX annual reports/2016 (1814 firms)/cyg16.pdf', '/content/drive/MyDrive/ASX annual reports/2016 (1814 firms)/cup16.pdf', '/content/drive/MyDrive/ASX annual reports/2016 (1814 firms)/d1316.pdf', '/content/drive/MyDrive/ASX annual reports/2016 (1814 firms)/dro16.pdf', '/content/drive/MyDrive/ASX annual reports/2016 (1814 firms)/eal16.pdf', '/content/drive/MyDrive/ASX annual reports/2016 (1814 firms)/dcg16.pdf', '/content/drive/MyDrive/ASX annual reports/2016 (1814 firms)/dow16.pdf', '/content/drive/MyDrive/ASX annual reports/2016 (1814 firms)/ehl16.pdf', '/content/drive/MyDrive/ASX annual reports/2016 (1814 firms)/eos16.pdf', '/content/drive/MyDrive/ASX annual reports/2016 (1814 firms)/emc16.pdf', '/content/drive/MyDrive/ASX annual reports/2016 (1814 firms)/egy16.pdf', '/content/drive/MyDrive/ASX annual reports/2016 (1814 firms)/eax16.pdf', '/content/drive/MyDrive/ASX annual reports/2016 (1814 firms)/egn16.pdf', '/content/drive/MyDrive/ASX annual reports/2016 (1814 firms)/evz16.pdf', '/content/drive/MyDrive/ASX annual reports/2016 (1814 firms)/esi16.pdf', '/content/drive/MyDrive/ASX annual reports/2016 (1814 firms)/egl16.pdf', '/content/drive/MyDrive/ASX annual reports/2016 (1814 firms)/eza16.pdf', '/content/drive/MyDrive/ASX annual reports/2016 (1814 firms)/ecg16.pdf', '/content/drive/MyDrive/ASX annual reports/2016 (1814 firms)/fgx16.pdf', '/content/drive/MyDrive/ASX annual reports/2016 (1814 firms)/fcg16.pdf', '/content/drive/MyDrive/ASX annual reports/2016 (1814 firms)/gwa16.pdf', '/content/drive/MyDrive/ASX annual reports/2016 (1814 firms)/hit16.pdf', '/content/drive/MyDrive/ASX annual reports/2016 (1814 firms)/ger16.pdf', '/content/drive/MyDrive/ASX annual reports/2016 (1814 firms)/gcs16.pdf', '/content/drive/MyDrive/ASX annual reports/2016 (1814 firms)/emb16.pdf', '/content/drive/MyDrive/ASX annual reports/2016 (1814 firms)/hng16.pdf', '/content/drive/MyDrive/ASX annual reports/2016 (1814 firms)/hjb16.pdf', '/content/drive/MyDrive/ASX annual reports/2016 (1814 firms)/iwg16.pdf', '/content/drive/MyDrive/ASX annual reports/2016 (1814 firms)/hrl16.pdf', '/content/drive/MyDrive/ASX annual reports/2016 (1814 firms)/ivt16.pdf', '/content/drive/MyDrive/ASX annual reports/2016 (1814 firms)/jci16.pdf', '/content/drive/MyDrive/ASX annual reports/2016 (1814 firms)/jvg16.pdf', '/content/drive/MyDrive/ASX annual reports/2016 (1814 firms)/iph16.pdf', '/content/drive/MyDrive/ASX annual reports/2016 (1814 firms)/knh16.pdf', '/content/drive/MyDrive/ASX annual reports/2016 (1814 firms)/kov16.pdf', '/content/drive/MyDrive/ASX annual reports/2016 (1814 firms)/lgd16.pdf', '/content/drive/MyDrive/ASX annual reports/2016 (1814 firms)/lcm16.pdf', '/content/drive/MyDrive/ASX annual reports/2016 (1814 firms)/lau16.pdf', '/content/drive/MyDrive/ASX annual reports/2016 (1814 firms)/ksc16.pdf', '/content/drive/MyDrive/ASX annual reports/2016 (1814 firms)/mqa16.pdf', '/content/drive/MyDrive/ASX annual reports/2016 (1814 firms)/lyl16.pdf', '/content/drive/MyDrive/ASX annual reports/2016 (1814 firms)/mjp16.pdf', '/content/drive/MyDrive/ASX annual reports/2016 (1814 firms)/mxi16.pdf', '/content/drive/MyDrive/ASX annual reports/2016 (1814 firms)/msg16.pdf', '/content/drive/MyDrive/ASX annual reports/2016 (1814 firms)/mms16.pdf', '/content/drive/MyDrive/ASX annual reports/2016 (1814 firms)/mil16.pdf', '/content/drive/MyDrive/ASX annual reports/2016 (1814 firms)/msi16.pdf', '/content/drive/MyDrive/ASX annual reports/2016 (1814 firms)/mpp16.pdf', '/content/drive/MyDrive/ASX annual reports/2016 (1814 firms)/mnd16.pdf', '/content/drive/MyDrive/ASX annual reports/2016 (1814 firms)/lbl16.pdf', '/content/drive/MyDrive/ASX annual reports/2016 (1814 firms)/olh16.pdf', '/content/drive/MyDrive/ASX annual reports/2016 (1814 firms)/nwh16.pdf', '/content/drive/MyDrive/ASX annual reports/2016 (1814 firms)/orh16.pdf', '/content/drive/MyDrive/ASX annual reports/2016 (1814 firms)/otr16.pdf', '/content/drive/MyDrive/ASX annual reports/2016 (1814 firms)/nam16.pdf', '/content/drive/MyDrive/ASX annual reports/2016 (1814 firms)/oec16.pdf', '/content/drive/MyDrive/ASX annual reports/2016 (1814 firms)/oti16.pdf', '/content/drive/MyDrive/ASX annual reports/2016 (1814 firms)/opg16.pdf', '/content/drive/MyDrive/ASX annual reports/2016 (1814 firms)/pmp16.pdf', '/content/drive/MyDrive/ASX annual reports/2016 (1814 firms)/peh16.pdf', '/content/drive/MyDrive/ASX annual reports/2016 (1814 firms)/ppk16.pdf', '/content/drive/MyDrive/ASX annual reports/2016 (1814 firms)/prg16.pdf', '/content/drive/MyDrive/ASX annual reports/2016 (1814 firms)/phk16.pdf', '/content/drive/MyDrive/ASX annual reports/2016 (1814 firms)/pow16.pdf', '/content/drive/MyDrive/ASX annual reports/2016 (1814 firms)/ptb16.pdf', '/content/drive/MyDrive/ASX annual reports/2016 (1814 firms)/otc16.pdf', '/content/drive/MyDrive/ASX annual reports/2016 (1814 firms)/psz16.pdf', '/content/drive/MyDrive/ASX annual reports/2016 (1814 firms)/qhl16.pdf', '/content/drive/MyDrive/ASX annual reports/2016 (1814 firms)/r3d16.pdf', '/content/drive/MyDrive/ASX annual reports/2016 (1814 firms)/qan16.pdf', '/content/drive/MyDrive/ASX annual reports/2016 (1814 firms)/rft16.pdf', '/content/drive/MyDrive/ASX annual reports/2016 (1814 firms)/reh16.pdf', '/content/drive/MyDrive/ASX annual reports/2016 (1814 firms)/rdg16.pdf', '/content/drive/MyDrive/ASX annual reports/2016 (1814 firms)/rfx16.pdf', '/content/drive/MyDrive/ASX annual reports/2016 (1814 firms)/rwh16.pdf', '/content/drive/MyDrive/ASX annual reports/2016 (1814 firms)/rub16.pdf', '/content/drive/MyDrive/ASX annual reports/2016 (1814 firms)/qub16.pdf', '/content/drive/MyDrive/ASX annual reports/2016 (1814 firms)/rcr16.pdf', '/content/drive/MyDrive/ASX annual reports/2016 (1814 firms)/rex16.pdf', '/content/drive/MyDrive/ASX annual reports/2016 (1814 firms)/srh16.pdf', '/content/drive/MyDrive/ASX annual reports/2016 (1814 firms)/sai16.pdf', '/content/drive/MyDrive/ASX annual reports/2016 (1814 firms)/sfg16.pdf', '/content/drive/MyDrive/ASX annual reports/2016 (1814 firms)/ssm16.pdf', '/content/drive/MyDrive/ASX annual reports/2016 (1814 firms)/snd16.pdf', '/content/drive/MyDrive/ASX annual reports/2016 (1814 firms)/siv16.pdf', '/content/drive/MyDrive/ASX annual reports/2016 (1814 firms)/swl16.pdf', '/content/drive/MyDrive/ASX annual reports/2016 (1814 firms)/sit16.pdf', '/content/drive/MyDrive/ASX annual reports/2016 (1814 firms)/svw16.pdf', '/content/drive/MyDrive/ASX annual reports/2016 (1814 firms)/siq16.pdf', '/content/drive/MyDrive/ASX annual reports/2016 (1814 firms)/sgf16.pdf', '/content/drive/MyDrive/ASX annual reports/2016 (1814 firms)/srs16.pdf', '/content/drive/MyDrive/ASX annual reports/2016 (1814 firms)/sst16.pdf', '/content/drive/MyDrive/ASX annual reports/2016 (1814 firms)/spo16.pdf', '/content/drive/MyDrive/ASX annual reports/2016 (1814 firms)/sxe16.pdf', '/content/drive/MyDrive/ASX annual reports/2016 (1814 firms)/sks16.pdf', '/content/drive/MyDrive/ASX annual reports/2016 (1814 firms)/srg16.pdf', '/content/drive/MyDrive/ASX annual reports/2016 (1814 firms)/tps16.pdf', '/content/drive/MyDrive/ASX annual reports/2016 (1814 firms)/tpp16.pdf', '/content/drive/MyDrive/ASX annual reports/2016 (1814 firms)/syd16.pdf', '/content/drive/MyDrive/ASX annual reports/2016 (1814 firms)/tti16.pdf', '/content/drive/MyDrive/ASX annual reports/2016 (1814 firms)/tox16.pdf', '/content/drive/MyDrive/ASX annual reports/2016 (1814 firms)/vmg16.pdf', '/content/drive/MyDrive/ASX annual reports/2016 (1814 firms)/tup16.pdf', '/content/drive/MyDrive/ASX annual reports/2016 (1814 firms)/vah16.pdf', '/content/drive/MyDrive/ASX annual reports/2016 (1814 firms)/tcl16.pdf', '/content/drive/MyDrive/ASX annual reports/2016 (1814 firms)/vip16.pdf', '/content/drive/MyDrive/ASX annual reports/2016 (1814 firms)/wak16.pdf', '/content/drive/MyDrive/ASX annual reports/2016 (1814 firms)/wtp16.pdf', '/content/drive/MyDrive/ASX annual reports/2016 (1814 firms)/xrf16.pdf', '/content/drive/MyDrive/ASX annual reports/2016 (1814 firms)/ugl16.pdf', '/content/drive/MyDrive/ASX annual reports/2016 (1814 firms)/xip16.pdf', '/content/drive/MyDrive/ASX annual reports/2016 (1814 firms)/wll16.pdf', '/content/drive/MyDrive/ASX annual reports/2016 (1814 firms)/zgl16.pdf', '/content/drive/MyDrive/ASX annual reports/2016 (1814 firms)/ypb16.pdf', '/content/drive/MyDrive/ASX annual reports/2016 (1814 firms)/xte16.pdf', '/content/drive/MyDrive/ASX annual reports/2016 (1814 firms)/akg16.pdf', '/content/drive/MyDrive/ASX annual reports/2016 (1814 firms)/abv16.pdf', '/content/drive/MyDrive/ASX annual reports/2016 (1814 firms)/3pl16.pdf', '/content/drive/MyDrive/ASX annual reports/2016 (1814 firms)/ahl16.pdf', '/content/drive/MyDrive/ASX annual reports/2016 (1814 firms)/adh16.pdf', '/content/drive/MyDrive/ASX annual reports/2016 (1814 firms)/ape16.pdf', '/content/drive/MyDrive/ASX annual reports/2016 (1814 firms)/agi16.pdf', '/content/drive/MyDrive/ASX annual reports/2016 (1814 firms)/arb16.pdf', '/content/drive/MyDrive/ASX annual reports/2016 (1814 firms)/apn16.pdf', '/content/drive/MyDrive/ASX annual reports/2016 (1814 firms)/aqs16.pdf', '/content/drive/MyDrive/ASX annual reports/2016 (1814 firms)/aad16.pdf', '/content/drive/MyDrive/ASX annual reports/2016 (1814 firms)/afa16.pdf', '/content/drive/MyDrive/ASX annual reports/2016 (1814 firms)/atp16.pdf', '/content/drive/MyDrive/ASX annual reports/2016 (1814 firms)/ahg16.pdf', '/content/drive/MyDrive/ASX annual reports/2016 (1814 firms)/akp16.pdf', '/content/drive/MyDrive/ASX annual reports/2016 (1814 firms)/ahx16.pdf', '/content/drive/MyDrive/ASX annual reports/2016 (1814 firms)/bbn16.pdf', '/content/drive/MyDrive/ASX annual reports/2016 (1814 firms)/blx16.pdf', '/content/drive/MyDrive/ASX annual reports/2016 (1814 firms)/bop16.pdf', '/content/drive/MyDrive/ASX annual reports/2016 (1814 firms)/brg16.pdf', '/content/drive/MyDrive/ASX annual reports/2016 (1814 firms)/bpg16.pdf', '/content/drive/MyDrive/ASX annual reports/2016 (1814 firms)/bap16.pdf', '/content/drive/MyDrive/ASX annual reports/2016 (1814 firms)/cl816.pdf', '/content/drive/MyDrive/ASX annual reports/2016 (1814 firms)/ckf16.pdf', '/content/drive/MyDrive/ASX annual reports/2016 (1814 firms)/ctd16.pdf', '/content/drive/MyDrive/ASX annual reports/2016 (1814 firms)/all16.pdf', '/content/drive/MyDrive/ASX annual reports/2016 (1814 firms)/dlc16.pdf', '/content/drive/MyDrive/ASX annual reports/2016 (1814 firms)/ddt16.pdf', '/content/drive/MyDrive/ASX annual reports/2016 (1814 firms)/cwn16.pdf', '/content/drive/MyDrive/ASX annual reports/2016 (1814 firms)/bbg16.pdf', '/content/drive/MyDrive/ASX annual reports/2016 (1814 firms)/dna16.pdf', '/content/drive/MyDrive/ASX annual reports/2016 (1814 firms)/dvi16.pdf', '/content/drive/MyDrive/ASX annual reports/2016 (1814 firms)/dmp16.pdf', '/content/drive/MyDrive/ASX annual reports/2016 (1814 firms)/ebg16.pdf', '/content/drive/MyDrive/ASX annual reports/2016 (1814 firms)/enn16.pdf', '/content/drive/MyDrive/ASX annual reports/2016 (1814 firms)/evo16.pdf', '/content/drive/MyDrive/ASX annual reports/2016 (1814 firms)/fwd16.pdf', '/content/drive/MyDrive/ASX annual reports/2016 (1814 firms)/fun16.pdf', '/content/drive/MyDrive/ASX annual reports/2016 (1814 firms)/fan16.pdf', '/content/drive/MyDrive/ASX annual reports/2016 (1814 firms)/gzl16.pdf', '/content/drive/MyDrive/ASX annual reports/2016 (1814 firms)/flt16.pdf', '/content/drive/MyDrive/ASX annual reports/2016 (1814 firms)/gap16.pdf', '/content/drive/MyDrive/ASX annual reports/2016 (1814 firms)/fln16.pdf', '/content/drive/MyDrive/ASX annual reports/2016 (1814 firms)/gem16.pdf', '/content/drive/MyDrive/ASX annual reports/2016 (1814 firms)/gfy16.pdf', '/content/drive/MyDrive/ASX annual reports/2016 (1814 firms)/glb16.pdf', '/content/drive/MyDrive/ASX annual reports/2016 (1814 firms)/gxl16.pdf', '/content/drive/MyDrive/ASX annual reports/2016 (1814 firms)/gud16.pdf', '/content/drive/MyDrive/ASX annual reports/2016 (1814 firms)/ib816.pdf', '/content/drive/MyDrive/ASX annual reports/2016 (1814 firms)/hlo16.pdf', '/content/drive/MyDrive/ASX annual reports/2016 (1814 firms)/ict16.pdf', '/content/drive/MyDrive/ASX annual reports/2016 (1814 firms)/hvn16.pdf', '/content/drive/MyDrive/ASX annual reports/2016 (1814 firms)/gle16.pdf', '/content/drive/MyDrive/ASX annual reports/2016 (1814 firms)/iel16.pdf', '/content/drive/MyDrive/ASX annual reports/2016 (1814 firms)/itq16.pdf', '/content/drive/MyDrive/ASX annual reports/2016 (1814 firms)/idz16.pdf', '/content/drive/MyDrive/ASX annual reports/2016 (1814 firms)/iot16.pdf', '/content/drive/MyDrive/ASX annual reports/2016 (1814 firms)/jbh16.pdf', '/content/drive/MyDrive/ASX annual reports/2016 (1814 firms)/isu16.pdf', '/content/drive/MyDrive/ASX annual reports/2016 (1814 firms)/jat16.pdf', '/content/drive/MyDrive/ASX annual reports/2016 (1814 firms)/ivc16.pdf', '/content/drive/MyDrive/ASX annual reports/2016 (1814 firms)/jin16.pdf', '/content/drive/MyDrive/ASX annual reports/2016 (1814 firms)/kme16.pdf', '/content/drive/MyDrive/ASX annual reports/2016 (1814 firms)/jyc16.pdf', '/content/drive/MyDrive/ASX annual reports/2016 (1814 firms)/itl16.pdf', '/content/drive/MyDrive/ASX annual reports/2016 (1814 firms)/kfg16.pdf', '/content/drive/MyDrive/ASX annual reports/2016 (1814 firms)/kmd16.pdf', '/content/drive/MyDrive/ASX annual reports/2016 (1814 firms)/kfe16.pdf', '/content/drive/MyDrive/ASX annual reports/2016 (1814 firms)/lfc16.pdf', '/content/drive/MyDrive/ASX annual reports/2016 (1814 firms)/mhi16.pdf', '/content/drive/MyDrive/ASX annual reports/2016 (1814 firms)/krs16.pdf', '/content/drive/MyDrive/ASX annual reports/2016 (1814 firms)/myr16.pdf', '/content/drive/MyDrive/ASX annual reports/2016 (1814 firms)/mtr16.pdf', '/content/drive/MyDrive/ASX annual reports/2016 (1814 firms)/lov16.pdf', '/content/drive/MyDrive/ASX annual reports/2016 (1814 firms)/nhh16.pdf', '/content/drive/MyDrive/ASX annual reports/2016 (1814 firms)/1al16.pdf', '/content/drive/MyDrive/ASX annual reports/2016 (1814 firms)/nbl16.pdf', '/content/drive/MyDrive/ASX annual reports/2016 (1814 firms)/nck16.pdf', '/content/drive/MyDrive/ASX annual reports/2016 (1814 firms)/orl16.pdf', '/content/drive/MyDrive/ASX annual reports/2016 (1814 firms)/pwh16.pdf', '/content/drive/MyDrive/ASX annual reports/2016 (1814 firms)/qtm16.pdf', '/content/drive/MyDrive/ASX annual reports/2016 (1814 firms)/pmv16.pdf', '/content/drive/MyDrive/ASX annual reports/2016 (1814 firms)/pka16.pdf', '/content/drive/MyDrive/ASX annual reports/2016 (1814 firms)/rct16.pdf', '/content/drive/MyDrive/ASX annual reports/2016 (1814 firms)/rcg16.pdf', '/content/drive/MyDrive/ASX annual reports/2016 (1814 firms)/rdh16.pdf', '/content/drive/MyDrive/ASX annual reports/2016 (1814 firms)/rfg16.pdf', '/content/drive/MyDrive/ASX annual reports/2016 (1814 firms)/shu16.pdf', '/content/drive/MyDrive/ASX annual reports/2016 (1814 firms)/rhl16.pdf', '/content/drive/MyDrive/ASX annual reports/2016 (1814 firms)/sfc16.pdf', '/content/drive/MyDrive/ASX annual reports/2016 (1814 firms)/nvt16.pdf', '/content/drive/MyDrive/ASX annual reports/2016 (1814 firms)/shp16.pdf', '/content/drive/MyDrive/ASX annual reports/2016 (1814 firms)/shj16.pdf', '/content/drive/MyDrive/ASX annual reports/2016 (1814 firms)/slk16.pdf', '/content/drive/MyDrive/ASX annual reports/2016 (1814 firms)/shm16.pdf', '/content/drive/MyDrive/ASX annual reports/2016 (1814 firms)/skb16.pdf', '/content/drive/MyDrive/ASX annual reports/2016 (1814 firms)/sfh16.pdf', '/content/drive/MyDrive/ASX annual reports/2016 (1814 firms)/skc16.pdf', '/content/drive/MyDrive/ASX annual reports/2016 (1814 firms)/stl16.pdf', '/content/drive/MyDrive/ASX annual reports/2016 (1814 firms)/sgh16.pdf', '/content/drive/MyDrive/ASX annual reports/2016 (1814 firms)/sry16.pdf', '/content/drive/MyDrive/ASX annual reports/2016 (1814 firms)/sbb16.pdf', '/content/drive/MyDrive/ASX annual reports/2016 (1814 firms)/sgu16.pdf', '/content/drive/MyDrive/ASX annual reports/2016 (1814 firms)/six16.pdf', '/content/drive/MyDrive/ASX annual reports/2016 (1814 firms)/snl16.pdf', '/content/drive/MyDrive/ASX annual reports/2016 (1814 firms)/tah16.pdf', '/content/drive/MyDrive/ASX annual reports/2016 (1814 firms)/sul16.pdf', '/content/drive/MyDrive/ASX annual reports/2016 (1814 firms)/twd16.pdf', '/content/drive/MyDrive/ASX annual reports/2016 (1814 firms)/sio16.pdf', '/content/drive/MyDrive/ASX annual reports/2016 (1814 firms)/tts16.pdf', '/content/drive/MyDrive/ASX annual reports/2016 (1814 firms)/tbh16.pdf', '/content/drive/MyDrive/ASX annual reports/2016 (1814 firms)/tnk16.pdf', '/content/drive/MyDrive/ASX annual reports/2016 (1814 firms)/srf16.pdf', '/content/drive/MyDrive/ASX annual reports/2016 (1814 firms)/pgr16.pdf', '/content/drive/MyDrive/ASX annual reports/2016 (1814 firms)/trs16.pdf', '/content/drive/MyDrive/ASX annual reports/2016 (1814 firms)/ucw16.pdf', '/content/drive/MyDrive/ASX annual reports/2016 (1814 firms)/tta16.pdf', '/content/drive/MyDrive/ASX annual reports/2016 (1814 firms)/tau16.pdf', '/content/drive/MyDrive/ASX annual reports/2016 (1814 firms)/tga16.pdf', '/content/drive/MyDrive/ASX annual reports/2016 (1814 firms)/tpw16.pdf', '/content/drive/MyDrive/ASX annual reports/2016 (1814 firms)/sgr16.pdf', '/content/drive/MyDrive/ASX annual reports/2016 (1814 firms)/xpd16.pdf', '/content/drive/MyDrive/ASX annual reports/2016 (1814 firms)/vmt16.pdf', '/content/drive/MyDrive/ASX annual reports/2016 (1814 firms)/tme16.pdf', '/content/drive/MyDrive/ASX annual reports/2016 (1814 firms)/web16.pdf', '/content/drive/MyDrive/ASX annual reports/2016 (1814 firms)/yhl16.pdf', '/content/drive/MyDrive/ASX annual reports/2016 (1814 firms)/tco16.pdf', '/content/drive/MyDrive/ASX annual reports/2016 (1814 firms)/wat16.pdf', '/content/drive/MyDrive/ASX annual reports/2016 (1814 firms)/vtg16.pdf', '/content/drive/MyDrive/ASX annual reports/2016 (1814 firms)/aac16.pdf', '/content/drive/MyDrive/ASX annual reports/2016 (1814 firms)/ahy16.pdf', '/content/drive/MyDrive/ASX annual reports/2016 (1814 firms)/awy16.pdf', '/content/drive/MyDrive/ASX annual reports/2016 (1814 firms)/ayb16.pdf', '/content/drive/MyDrive/ASX annual reports/2016 (1814 firms)/aap16.pdf', '/content/drive/MyDrive/ASX annual reports/2016 (1814 firms)/avg16.pdf', '/content/drive/MyDrive/ASX annual reports/2016 (1814 firms)/bxn16.pdf', '/content/drive/MyDrive/ASX annual reports/2016 (1814 firms)/ahf16.pdf', '/content/drive/MyDrive/ASX annual reports/2016 (1814 firms)/bga16.pdf', '/content/drive/MyDrive/ASX annual reports/2016 (1814 firms)/bal16.pdf', '/content/drive/MyDrive/ASX annual reports/2016 (1814 firms)/bnv16.pdf', '/content/drive/MyDrive/ASX annual reports/2016 (1814 firms)/bfc16.pdf', '/content/drive/MyDrive/ASX annual reports/2016 (1814 firms)/bug16.pdf', '/content/drive/MyDrive/ASX annual reports/2016 (1814 firms)/bwx16.pdf', '/content/drive/MyDrive/ASX annual reports/2016 (1814 firms)/bkl16.pdf', '/content/drive/MyDrive/ASX annual reports/2016 (1814 firms)/czz16.pdf', '/content/drive/MyDrive/ASX annual reports/2016 (1814 firms)/css16.pdf', '/content/drive/MyDrive/ASX annual reports/2016 (1814 firms)/ccl16.pdf', '/content/drive/MyDrive/ASX annual reports/2016 (1814 firms)/dfm16.pdf', '/content/drive/MyDrive/ASX annual reports/2016 (1814 firms)/cgc16.pdf', '/content/drive/MyDrive/ASX annual reports/2016 (1814 firms)/epa16.pdf', '/content/drive/MyDrive/ASX annual reports/2016 (1814 firms)/fbr16.pdf', '/content/drive/MyDrive/ASX annual reports/2016 (1814 firms)/fsf16.pdf', '/content/drive/MyDrive/ASX annual reports/2016 (1814 firms)/ffi16.pdf', '/content/drive/MyDrive/ASX annual reports/2016 (1814 firms)/frm16.pdf', '/content/drive/MyDrive/ASX annual reports/2016 (1814 firms)/grb16.pdf', '/content/drive/MyDrive/ASX annual reports/2016 (1814 firms)/eld16.pdf', '/content/drive/MyDrive/ASX annual reports/2016 (1814 firms)/huo16.pdf', '/content/drive/MyDrive/ASX annual reports/2016 (1814 firms)/mtm16.pdf', '/content/drive/MyDrive/ASX annual reports/2016 (1814 firms)/gnc16.pdf', '/content/drive/MyDrive/ASX annual reports/2016 (1814 firms)/hct16.pdf', '/content/drive/MyDrive/ASX annual reports/2016 (1814 firms)/ozb16.pdf', '/content/drive/MyDrive/ASX annual reports/2016 (1814 firms)/pfl16.pdf', '/content/drive/MyDrive/ASX annual reports/2016 (1814 firms)/mcp16.pdf', '/content/drive/MyDrive/ASX annual reports/2016 (1814 firms)/pop16.pdf', '/content/drive/MyDrive/ASX annual reports/2016 (1814 firms)/rgp16.pdf', '/content/drive/MyDrive/ASX annual reports/2016 (1814 firms)/fnp16.pdf', '/content/drive/MyDrive/ASX annual reports/2016 (1814 firms)/mts16.pdf', '/content/drive/MyDrive/ASX annual reports/2016 (1814 firms)/soi16.pdf', '/content/drive/MyDrive/ASX annual reports/2016 (1814 firms)/ptl16.pdf', '/content/drive/MyDrive/ASX annual reports/2016 (1814 firms)/shv16.pdf', '/content/drive/MyDrive/ASX annual reports/2016 (1814 firms)/sbi16.pdf', '/content/drive/MyDrive/ASX annual reports/2016 (1814 firms)/ric16.pdf', '/content/drive/MyDrive/ASX annual reports/2016 (1814 firms)/tgr16.pdf', '/content/drive/MyDrive/ASX annual reports/2016 (1814 firms)/fod16.pdf', '/content/drive/MyDrive/ASX annual reports/2016 (1814 firms)/a2m16.pdf', '/content/drive/MyDrive/ASX annual reports/2016 (1814 firms)/vit16.pdf', '/content/drive/MyDrive/ASX annual reports/2016 (1814 firms)/twe16.pdf', '/content/drive/MyDrive/ASX annual reports/2016 (1814 firms)/twh16.pdf', '/content/drive/MyDrive/ASX annual reports/2016 (1814 firms)/tfl16.pdf', '/content/drive/MyDrive/ASX annual reports/2016 (1814 firms)/wcb16.pdf', '/content/drive/MyDrive/ASX annual reports/2016 (1814 firms)/wnr16.pdf', '/content/drive/MyDrive/ASX annual reports/2016 (1814 firms)/wba16.pdf', '/content/drive/MyDrive/ASX annual reports/2016 (1814 firms)/wld16.pdf', '/content/drive/MyDrive/ASX annual reports/2016 (1814 firms)/yow16.pdf', '/content/drive/MyDrive/ASX annual reports/2016 (1814 firms)/wow16.pdf', '/content/drive/MyDrive/ASX annual reports/2016 (1814 firms)/wes16.pdf', '/content/drive/MyDrive/ASX annual reports/2016 (1814 firms)/1st16.pdf', '/content/drive/MyDrive/ASX annual reports/2016 (1814 firms)/ont16.pdf', '/content/drive/MyDrive/ASX annual reports/2016 (1814 firms)/acw16.pdf', '/content/drive/MyDrive/ASX annual reports/2016 (1814 firms)/ahz16.pdf', '/content/drive/MyDrive/ASX annual reports/2016 (1814 firms)/adr16.pdf', '/content/drive/MyDrive/ASX annual reports/2016 (1814 firms)/axp16.pdf', '/content/drive/MyDrive/ASX annual reports/2016 (1814 firms)/acr16.pdf', '/content/drive/MyDrive/ASX annual reports/2016 (1814 firms)/amt16.pdf', '/content/drive/MyDrive/ASX annual reports/2016 (1814 firms)/acl16.pdf', '/content/drive/MyDrive/ASX annual reports/2016 (1814 firms)/afp16.pdf', '/content/drive/MyDrive/ASX annual reports/2016 (1814 firms)/alt16.pdf', '/content/drive/MyDrive/ASX annual reports/2016 (1814 firms)/alc16.pdf', '/content/drive/MyDrive/ASX annual reports/2016 (1814 firms)/anr16.pdf', '/content/drive/MyDrive/ASX annual reports/2016 (1814 firms)/ado16.pdf', '/content/drive/MyDrive/ASX annual reports/2016 (1814 firms)/anp16.pdf', '/content/drive/MyDrive/ASX annual reports/2016 (1814 firms)/ann16.pdf', '/content/drive/MyDrive/ASX annual reports/2016 (1814 firms)/ajj16.pdf', '/content/drive/MyDrive/ASX annual reports/2016 (1814 firms)/avx16.pdf', '/content/drive/MyDrive/ASX annual reports/2016 (1814 firms)/avh16.pdf', '/content/drive/MyDrive/ASX annual reports/2016 (1814 firms)/aop16.pdf', '/content/drive/MyDrive/ASX annual reports/2016 (1814 firms)/bd116.pdf', '/content/drive/MyDrive/ASX annual reports/2016 (1814 firms)/api16.pdf', '/content/drive/MyDrive/ASX annual reports/2016 (1814 firms)/azv16.pdf', '/content/drive/MyDrive/ASX annual reports/2016 (1814 firms)/bit16.pdf', '/content/drive/MyDrive/ASX annual reports/2016 (1814 firms)/acg16.pdf', '/content/drive/MyDrive/ASX annual reports/2016 (1814 firms)/bph16.pdf', '/content/drive/MyDrive/ASX annual reports/2016 (1814 firms)/blt16.pdf', '/content/drive/MyDrive/ASX annual reports/2016 (1814 firms)/bno16.pdf', '/content/drive/MyDrive/ASX annual reports/2016 (1814 firms)/caj16.pdf', '/content/drive/MyDrive/ASX annual reports/2016 (1814 firms)/brc16.pdf', '/content/drive/MyDrive/ASX annual reports/2016 (1814 firms)/cuv16.pdf', '/content/drive/MyDrive/ASX annual reports/2016 (1814 firms)/cdy16.pdf', '/content/drive/MyDrive/ASX annual reports/2016 (1814 firms)/coh16.pdf', '/content/drive/MyDrive/ASX annual reports/2016 (1814 firms)/cte16.pdf', '/content/drive/MyDrive/ASX annual reports/2016 (1814 firms)/cgs16.pdf', '/content/drive/MyDrive/ASX annual reports/2016 (1814 firms)/cmp16.pdf', '/content/drive/MyDrive/ASX annual reports/2016 (1814 firms)/cyp16.pdf', '/content/drive/MyDrive/ASX annual reports/2016 (1814 firms)/cyc16.pdf', '/content/drive/MyDrive/ASX annual reports/2016 (1814 firms)/dxb16.pdf', '/content/drive/MyDrive/ASX annual reports/2016 (1814 firms)/csl16.pdf', '/content/drive/MyDrive/ASX annual reports/2016 (1814 firms)/ebo16.pdf', '/content/drive/MyDrive/ASX annual reports/2016 (1814 firms)/ftt16.pdf', '/content/drive/MyDrive/ASX annual reports/2016 (1814 firms)/dvl16.pdf', '/content/drive/MyDrive/ASX annual reports/2016 (1814 firms)/ffc16.pdf', '/content/drive/MyDrive/ASX annual reports/2016 (1814 firms)/elx16.pdf', '/content/drive/MyDrive/ASX annual reports/2016 (1814 firms)/gbi16.pdf', '/content/drive/MyDrive/ASX annual reports/2016 (1814 firms)/gss16.pdf', '/content/drive/MyDrive/ASX annual reports/2016 (1814 firms)/gtg16.pdf', '/content/drive/MyDrive/ASX annual reports/2016 (1814 firms)/ehe16.pdf', '/content/drive/MyDrive/ASX annual reports/2016 (1814 firms)/fph16.pdf', '/content/drive/MyDrive/ASX annual reports/2016 (1814 firms)/gid16.pdf', '/content/drive/MyDrive/ASX annual reports/2016 (1814 firms)/glh16.pdf', '/content/drive/MyDrive/ASX annual reports/2016 (1814 firms)/ics16.pdf', '/content/drive/MyDrive/ASX annual reports/2016 (1814 firms)/idt16.pdf', '/content/drive/MyDrive/ASX annual reports/2016 (1814 firms)/imc16.pdf', '/content/drive/MyDrive/ASX annual reports/2016 (1814 firms)/hso16.pdf', '/content/drive/MyDrive/ASX annual reports/2016 (1814 firms)/imu16.pdf', '/content/drive/MyDrive/ASX annual reports/2016 (1814 firms)/imi16.pdf', '/content/drive/MyDrive/ASX annual reports/2016 (1814 firms)/iil16.pdf', '/content/drive/MyDrive/ASX annual reports/2016 (1814 firms)/idx16.pdf', '/content/drive/MyDrive/ASX annual reports/2016 (1814 firms)/ivx16.pdf', '/content/drive/MyDrive/ASX annual reports/2016 (1814 firms)/ivq16.pdf', '/content/drive/MyDrive/ASX annual reports/2016 (1814 firms)/ipd16.pdf', '/content/drive/MyDrive/ASX annual reports/2016 (1814 firms)/itd16.pdf', '/content/drive/MyDrive/ASX annual reports/2016 (1814 firms)/jhl16.pdf', '/content/drive/MyDrive/ASX annual reports/2016 (1814 firms)/kkt16.pdf', '/content/drive/MyDrive/ASX annual reports/2016 (1814 firms)/jhc16.pdf', '/content/drive/MyDrive/ASX annual reports/2016 (1814 firms)/lbt16.pdf', '/content/drive/MyDrive/ASX annual reports/2016 (1814 firms)/lhc16.pdf', '/content/drive/MyDrive/ASX annual reports/2016 (1814 firms)/lct16.pdf', '/content/drive/MyDrive/ASX annual reports/2016 (1814 firms)/m7t16.pdf', '/content/drive/MyDrive/ASX annual reports/2016 (1814 firms)/myx16.pdf', '/content/drive/MyDrive/ASX annual reports/2016 (1814 firms)/mdr16.pdf', '/content/drive/MyDrive/ASX annual reports/2016 (1814 firms)/meb16.pdf', '/content/drive/MyDrive/ASX annual reports/2016 (1814 firms)/mla16.pdf', '/content/drive/MyDrive/ASX annual reports/2016 (1814 firms)/mgz16.pdf', '/content/drive/MyDrive/ASX annual reports/2016 (1814 firms)/mvp16.pdf', '/content/drive/MyDrive/ASX annual reports/2016 (1814 firms)/mdg16.pdf', '/content/drive/MyDrive/ASX annual reports/2016 (1814 firms)/msb16.pdf', '/content/drive/MyDrive/ASX annual reports/2016 (1814 firms)/mdc16.pdf', '/content/drive/MyDrive/ASX annual reports/2016 (1814 firms)/mxc16.pdf', '/content/drive/MyDrive/ASX annual reports/2016 (1814 firms)/mx116.pdf', '/content/drive/MyDrive/ASX annual reports/2016 (1814 firms)/mmj16.pdf', '/content/drive/MyDrive/ASX annual reports/2016 (1814 firms)/meq16.pdf', '/content/drive/MyDrive/ASX annual reports/2016 (1814 firms)/mvf16.pdf', '/content/drive/MyDrive/ASX annual reports/2016 (1814 firms)/nan16.pdf', '/content/drive/MyDrive/ASX annual reports/2016 (1814 firms)/nvl16.pdf', '/content/drive/MyDrive/ASX annual reports/2016 (1814 firms)/nrt16.pdf', '/content/drive/MyDrive/ASX annual reports/2016 (1814 firms)/neu16.pdf', '/content/drive/MyDrive/ASX annual reports/2016 (1814 firms)/nsp16.pdf', '/content/drive/MyDrive/ASX annual reports/2016 (1814 firms)/obj16.pdf', '/content/drive/MyDrive/ASX annual reports/2016 (1814 firms)/osl16.pdf', '/content/drive/MyDrive/ASX annual reports/2016 (1814 firms)/one16.pdf', '/content/drive/MyDrive/ASX annual reports/2016 (1814 firms)/opt16.pdf', '/content/drive/MyDrive/ASX annual reports/2016 (1814 firms)/oil16.pdf', '/content/drive/MyDrive/ASX annual reports/2016 (1814 firms)/occ16.pdf', '/content/drive/MyDrive/ASX annual reports/2016 (1814 firms)/osp16.pdf', '/content/drive/MyDrive/ASX annual reports/2016 (1814 firms)/ohe16.pdf', '/content/drive/MyDrive/ASX annual reports/2016 (1814 firms)/psq16.pdf', '/content/drive/MyDrive/ASX annual reports/2016 (1814 firms)/par16.pdf', '/content/drive/MyDrive/ASX annual reports/2016 (1814 firms)/pgc16.pdf', '/content/drive/MyDrive/ASX annual reports/2016 (1814 firms)/pab16.pdf', '/content/drive/MyDrive/ASX annual reports/2016 (1814 firms)/paa16.pdf', '/content/drive/MyDrive/ASX annual reports/2016 (1814 firms)/pno16.pdf', '/content/drive/MyDrive/ASX annual reports/2016 (1814 firms)/pxs16.pdf', '/content/drive/MyDrive/ASX annual reports/2016 (1814 firms)/pyc16.pdf', '/content/drive/MyDrive/ASX annual reports/2016 (1814 firms)/pnv16.pdf', '/content/drive/MyDrive/ASX annual reports/2016 (1814 firms)/pbt16.pdf', '/content/drive/MyDrive/ASX annual reports/2016 (1814 firms)/ptx16.pdf', '/content/drive/MyDrive/ASX annual reports/2016 (1814 firms)/pry16.pdf', '/content/drive/MyDrive/ASX annual reports/2016 (1814 firms)/pme16.pdf', '/content/drive/MyDrive/ASX annual reports/2016 (1814 firms)/pbp16.pdf', '/content/drive/MyDrive/ASX annual reports/2016 (1814 firms)/piq16.pdf', '/content/drive/MyDrive/ASX annual reports/2016 (1814 firms)/phg16.pdf', '/content/drive/MyDrive/ASX annual reports/2016 (1814 firms)/qrx16.pdf', '/content/drive/MyDrive/ASX annual reports/2016 (1814 firms)/rhc16.pdf', '/content/drive/MyDrive/ASX annual reports/2016 (1814 firms)/rgs16.pdf', '/content/drive/MyDrive/ASX annual reports/2016 (1814 firms)/reg16.pdf', '/content/drive/MyDrive/ASX annual reports/2016 (1814 firms)/rhs16.pdf', '/content/drive/MyDrive/ASX annual reports/2016 (1814 firms)/rap16.pdf', '/content/drive/MyDrive/ASX annual reports/2016 (1814 firms)/rmd16.pdf', '/content/drive/MyDrive/ASX annual reports/2016 (1814 firms)/rht16.pdf', '/content/drive/MyDrive/ASX annual reports/2016 (1814 firms)/rsh16.pdf', '/content/drive/MyDrive/ASX annual reports/2016 (1814 firms)/rva16.pdf', '/content/drive/MyDrive/ASX annual reports/2016 (1814 firms)/rno16.pdf', '/content/drive/MyDrive/ASX annual reports/2016 (1814 firms)/sie16.pdf', '/content/drive/MyDrive/ASX annual reports/2016 (1814 firms)/sdi16.pdf', '/content/drive/MyDrive/ASX annual reports/2016 (1814 firms)/sip16.pdf', '/content/drive/MyDrive/ASX annual reports/2016 (1814 firms)/sva16.pdf', '/content/drive/MyDrive/ASX annual reports/2016 (1814 firms)/srx16.pdf', '/content/drive/MyDrive/ASX annual reports/2016 (1814 firms)/som16.pdf', '/content/drive/MyDrive/ASX annual reports/2016 (1814 firms)/shl16.pdf', '/content/drive/MyDrive/ASX annual reports/2016 (1814 firms)/spl16.pdf', '/content/drive/MyDrive/ASX annual reports/2016 (1814 firms)/scu16.pdf', '/content/drive/MyDrive/ASX annual reports/2016 (1814 firms)/sud16.pdf', '/content/drive/MyDrive/ASX annual reports/2016 (1814 firms)/tdl16.pdf', '/content/drive/MyDrive/ASX annual reports/2016 (1814 firms)/snz16.pdf', '/content/drive/MyDrive/ASX annual reports/2016 (1814 firms)/tpe16.pdf', '/content/drive/MyDrive/ASX annual reports/2016 (1814 firms)/ttc16.pdf', '/content/drive/MyDrive/ASX annual reports/2016 (1814 firms)/tdx16.pdf', '/content/drive/MyDrive/ASX annual reports/2016 (1814 firms)/uns16.pdf', '/content/drive/MyDrive/ASX annual reports/2016 (1814 firms)/ubi16.pdf', '/content/drive/MyDrive/ASX annual reports/2016 (1814 firms)/vla16.pdf', '/content/drive/MyDrive/ASX annual reports/2016 (1814 firms)/vsc16.pdf', '/content/drive/MyDrive/ASX annual reports/2016 (1814 firms)/vrt16.pdf', '/content/drive/MyDrive/ASX annual reports/2016 (1814 firms)/ucm16.pdf', '/content/drive/MyDrive/ASX annual reports/2016 (1814 firms)/ayi16.pdf', '/content/drive/MyDrive/ASX annual reports/2016 (1814 firms)/asw16.pdf', '/content/drive/MyDrive/ASX annual reports/2016 (1814 firms)/alr16.pdf', '/content/drive/MyDrive/ASX annual reports/2016 (1814 firms)/amp16.pdf', '/content/drive/MyDrive/ASX annual reports/2016 (1814 firms)/8ih16.pdf', '/content/drive/MyDrive/ASX annual reports/2016 (1814 firms)/akf16.pdf', '/content/drive/MyDrive/ASX annual reports/2016 (1814 firms)/auf16.pdf', '/content/drive/MyDrive/ASX annual reports/2016 (1814 firms)/asx16.pdf', '/content/drive/MyDrive/ASX annual reports/2016 (1814 firms)/aub16.pdf', '/content/drive/MyDrive/ASX annual reports/2016 (1814 firms)/abw16.pdf', '/content/drive/MyDrive/ASX annual reports/2016 (1814 firms)/ack16.pdf', '/content/drive/MyDrive/ASX annual reports/2016 (1814 firms)/anz16.pdf', '/content/drive/MyDrive/ASX annual reports/2016 (1814 firms)/aef16.pdf', '/content/drive/MyDrive/ASX annual reports/2016 (1814 firms)/afg16.pdf', '/content/drive/MyDrive/ASX annual reports/2016 (1814 firms)/arc16.pdf', '/content/drive/MyDrive/ASX annual reports/2016 (1814 firms)/aqf16.pdf', '/content/drive/MyDrive/ASX annual reports/2016 (1814 firms)/aba16.pdf', '/content/drive/MyDrive/ASX annual reports/2016 (1814 firms)/bti16.pdf', '/content/drive/MyDrive/ASX annual reports/2016 (1814 firms)/bfg16.pdf', '/content/drive/MyDrive/ASX annual reports/2016 (1814 firms)/boq16.pdf', '/content/drive/MyDrive/ASX annual reports/2016 (1814 firms)/btc16.pdf', '/content/drive/MyDrive/ASX annual reports/2016 (1814 firms)/bsn16.pdf', '/content/drive/MyDrive/ASX annual reports/2016 (1814 firms)/bla16.pdf', '/content/drive/MyDrive/ASX annual reports/2016 (1814 firms)/bgr16.pdf', '/content/drive/MyDrive/ASX annual reports/2016 (1814 firms)/btt16.pdf', '/content/drive/MyDrive/ASX annual reports/2016 (1814 firms)/bwf16.pdf', '/content/drive/MyDrive/ASX annual reports/2016 (1814 firms)/ben16.pdf', '/content/drive/MyDrive/ASX annual reports/2016 (1814 firms)/cya16.pdf', '/content/drive/MyDrive/ASX annual reports/2016 (1814 firms)/cbl16.pdf', '/content/drive/MyDrive/ASX annual reports/2016 (1814 firms)/cgf16.pdf', '/content/drive/MyDrive/ASX annual reports/2016 (1814 firms)/ccv16.pdf', '/content/drive/MyDrive/ASX annual reports/2016 (1814 firms)/caf16.pdf', '/content/drive/MyDrive/ASX annual reports/2016 (1814 firms)/cii16.pdf', '/content/drive/MyDrive/ASX annual reports/2016 (1814 firms)/chf16.pdf', '/content/drive/MyDrive/ASX annual reports/2016 (1814 firms)/chp16.pdf', '/content/drive/MyDrive/ASX annual reports/2016 (1814 firms)/cvw16.pdf', '/content/drive/MyDrive/ASX annual reports/2016 (1814 firms)/ciw16.pdf', '/content/drive/MyDrive/ASX annual reports/2016 (1814 firms)/ctn16.pdf', '/content/drive/MyDrive/ASX annual reports/2016 (1814 firms)/cba16.pdf', '/content/drive/MyDrive/ASX annual reports/2016 (1814 firms)/clh16.pdf', '/content/drive/MyDrive/ASX annual reports/2016 (1814 firms)/ccp16.pdf', '/content/drive/MyDrive/ASX annual reports/2016 (1814 firms)/cvc16.pdf', '/content/drive/MyDrive/ASX annual reports/2016 (1814 firms)/dva16.pdf', '/content/drive/MyDrive/ASX annual reports/2016 (1814 firms)/cvo16.pdf', '/content/drive/MyDrive/ASX annual reports/2016 (1814 firms)/dxf16.pdf', '/content/drive/MyDrive/ASX annual reports/2016 (1814 firms)/dm116.pdf', '/content/drive/MyDrive/ASX annual reports/2016 (1814 firms)/ecx16.pdf', '/content/drive/MyDrive/ASX annual reports/2016 (1814 firms)/eml16.pdf', '/content/drive/MyDrive/ASX annual reports/2016 (1814 firms)/eas16.pdf', '/content/drive/MyDrive/ASX annual reports/2016 (1814 firms)/exo16.pdf', '/content/drive/MyDrive/ASX annual reports/2016 (1814 firms)/cyb16.pdf', '/content/drive/MyDrive/ASX annual reports/2016 (1814 firms)/eqt16.pdf', '/content/drive/MyDrive/ASX annual reports/2016 (1814 firms)/ffg16.pdf', '/content/drive/MyDrive/ASX annual reports/2016 (1814 firms)/ezl16.pdf', '/content/drive/MyDrive/ASX annual reports/2016 (1814 firms)/eve16.pdf', '/content/drive/MyDrive/ASX annual reports/2016 (1814 firms)/fid16.pdf', '/content/drive/MyDrive/ASX annual reports/2016 (1814 firms)/ena16.pdf', '/content/drive/MyDrive/ASX annual reports/2016 (1814 firms)/ggh16.pdf', '/content/drive/MyDrive/ASX annual reports/2016 (1814 firms)/fsa16.pdf', '/content/drive/MyDrive/ASX annual reports/2016 (1814 firms)/gma16.pdf', '/content/drive/MyDrive/ASX annual reports/2016 (1814 firms)/gmy16.pdf', '/content/drive/MyDrive/ASX annual reports/2016 (1814 firms)/gba16.pdf', '/content/drive/MyDrive/ASX annual reports/2016 (1814 firms)/gow16.pdf', '/content/drive/MyDrive/ASX annual reports/2016 (1814 firms)/hfa16.pdf', '/content/drive/MyDrive/ASX annual reports/2016 (1814 firms)/hgg16.pdf', '/content/drive/MyDrive/ASX annual reports/2016 (1814 firms)/hls16.pdf', '/content/drive/MyDrive/ASX annual reports/2016 (1814 firms)/hom16.pdf', '/content/drive/MyDrive/ASX annual reports/2016 (1814 firms)/hub16.pdf', '/content/drive/MyDrive/ASX annual reports/2016 (1814 firms)/hhv16.pdf', '/content/drive/MyDrive/ASX annual reports/2016 (1814 firms)/hhl16.pdf', '/content/drive/MyDrive/ASX annual reports/2016 (1814 firms)/imf16.pdf', '/content/drive/MyDrive/ASX annual reports/2016 (1814 firms)/ipc16.pdf', '/content/drive/MyDrive/ASX annual reports/2016 (1814 firms)/iag16.pdf', '/content/drive/MyDrive/ASX annual reports/2016 (1814 firms)/inv16.pdf', '/content/drive/MyDrive/ASX annual reports/2016 (1814 firms)/ifl16.pdf', '/content/drive/MyDrive/ASX annual reports/2016 (1814 firms)/ipe16.pdf', '/content/drive/MyDrive/ASX annual reports/2016 (1814 firms)/iq316.pdf', '/content/drive/MyDrive/ASX annual reports/2016 (1814 firms)/jkl16.pdf', '/content/drive/MyDrive/ASX annual reports/2016 (1814 firms)/kam16.pdf', '/content/drive/MyDrive/ASX annual reports/2016 (1814 firms)/kbc16.pdf', '/content/drive/MyDrive/ASX annual reports/2016 (1814 firms)/ksl16.pdf', '/content/drive/MyDrive/ASX annual reports/2016 (1814 firms)/lce16.pdf', '/content/drive/MyDrive/ASX annual reports/2016 (1814 firms)/mqg16.pdf', '/content/drive/MyDrive/ASX annual reports/2016 (1814 firms)/mff16.pdf', '/content/drive/MyDrive/ASX annual reports/2016 (1814 firms)/mfg16.pdf', '/content/drive/MyDrive/ASX annual reports/2016 (1814 firms)/mai16.pdf', '/content/drive/MyDrive/ASX annual reports/2016 (1814 firms)/mgp16.pdf', '/content/drive/MyDrive/ASX annual reports/2016 (1814 firms)/mcx16.pdf', '/content/drive/MyDrive/ASX annual reports/2016 (1814 firms)/mpl16.pdf', '/content/drive/MyDrive/ASX annual reports/2016 (1814 firms)/mjc16.pdf', '/content/drive/MyDrive/ASX annual reports/2016 (1814 firms)/mny16.pdf', '/content/drive/MyDrive/ASX annual reports/2016 (1814 firms)/moc16.pdf', '/content/drive/MyDrive/ASX annual reports/2016 (1814 firms)/mch16.pdf', '/content/drive/MyDrive/ASX annual reports/2016 (1814 firms)/mys16.pdf', '/content/drive/MyDrive/ASX annual reports/2016 (1814 firms)/n1h16.pdf', '/content/drive/MyDrive/ASX annual reports/2016 (1814 firms)/nab16.pdf', '/content/drive/MyDrive/ASX annual reports/2016 (1814 firms)/nhf16.pdf', '/content/drive/MyDrive/ASX annual reports/2016 (1814 firms)/nsx16.pdf', '/content/drive/MyDrive/ASX annual reports/2016 (1814 firms)/ocp16.pdf', '/content/drive/MyDrive/ASX annual reports/2016 (1814 firms)/ovh16.pdf', '/content/drive/MyDrive/ASX annual reports/2016 (1814 firms)/pep16.pdf', '/content/drive/MyDrive/ASX annual reports/2016 (1814 firms)/ppt16.pdf', '/content/drive/MyDrive/ASX annual reports/2016 (1814 firms)/oeq16.pdf', '/content/drive/MyDrive/ASX annual reports/2016 (1814 firms)/poh16.pdf', '/content/drive/MyDrive/ASX annual reports/2016 (1814 firms)/pnc16.pdf', '/content/drive/MyDrive/ASX annual reports/2016 (1814 firms)/ptm16.pdf', '/content/drive/MyDrive/ASX annual reports/2016 (1814 firms)/psi16.pdf', '/content/drive/MyDrive/ASX annual reports/2016 (1814 firms)/pfg16.pdf', '/content/drive/MyDrive/ASX annual reports/2016 (1814 firms)/pha16.pdf', '/content/drive/MyDrive/ASX annual reports/2016 (1814 firms)/qbe16.pdf', '/content/drive/MyDrive/ASX annual reports/2016 (1814 firms)/que16.pdf', '/content/drive/MyDrive/ASX annual reports/2016 (1814 firms)/raf16.pdf', '/content/drive/MyDrive/ASX annual reports/2016 (1814 firms)/qst16.pdf', '/content/drive/MyDrive/ASX annual reports/2016 (1814 firms)/sam16.pdf', '/content/drive/MyDrive/ASX annual reports/2016 (1814 firms)/seq16.pdf', '/content/drive/MyDrive/ASX annual reports/2016 (1814 firms)/sfl16.pdf', '/content/drive/MyDrive/ASX annual reports/2016 (1814 firms)/sor16.pdf', '/content/drive/MyDrive/ASX annual reports/2016 (1814 firms)/sdf16.pdf', '/content/drive/MyDrive/ASX annual reports/2016 (1814 firms)/sun16.pdf', '/content/drive/MyDrive/ASX annual reports/2016 (1814 firms)/sbk16.pdf', '/content/drive/MyDrive/ASX annual reports/2016 (1814 firms)/tag16.pdf', '/content/drive/MyDrive/ASX annual reports/2016 (1814 firms)/tcn16.pdf', '/content/drive/MyDrive/ASX annual reports/2016 (1814 firms)/tsm16.pdf', '/content/drive/MyDrive/ASX annual reports/2016 (1814 firms)/twr16.pdf', '/content/drive/MyDrive/ASX annual reports/2016 (1814 firms)/vel16.pdf', '/content/drive/MyDrive/ASX annual reports/2016 (1814 firms)/wbc16.pdf', '/content/drive/MyDrive/ASX annual reports/2016 (1814 firms)/wig16.pdf', '/content/drive/MyDrive/ASX annual reports/2016 (1814 firms)/ybr16.pdf', '/content/drive/MyDrive/ASX annual reports/2016 (1814 firms)/ynb16.pdf', '/content/drive/MyDrive/ASX annual reports/2016 (1814 firms)/zml16.pdf', '/content/drive/MyDrive/ASX annual reports/2016 (1814 firms)/1pg16.pdf', '/content/drive/MyDrive/ASX annual reports/2016 (1814 firms)/4ds16.pdf', '/content/drive/MyDrive/ASX annual reports/2016 (1814 firms)/8co16.pdf', '/content/drive/MyDrive/ASX annual reports/2016 (1814 firms)/nnw16.pdf', '/content/drive/MyDrive/ASX annual reports/2016 (1814 firms)/acu16.pdf', '/content/drive/MyDrive/ASX annual reports/2016 (1814 firms)/ada16.pdf', '/content/drive/MyDrive/ASX annual reports/2016 (1814 firms)/aft16.pdf', '/content/drive/MyDrive/ASX annual reports/2016 (1814 firms)/adj16.pdf', '/content/drive/MyDrive/ASX annual reports/2016 (1814 firms)/acx16.pdf', '/content/drive/MyDrive/ASX annual reports/2016 (1814 firms)/agx16.pdf', '/content/drive/MyDrive/ASX annual reports/2016 (1814 firms)/alu16.pdf', '/content/drive/MyDrive/ASX annual reports/2016 (1814 firms)/amo16.pdf', '/content/drive/MyDrive/ASX annual reports/2016 (1814 firms)/apx16.pdf', '/content/drive/MyDrive/ASX annual reports/2016 (1814 firms)/ala16.pdf', '/content/drive/MyDrive/ASX annual reports/2016 (1814 firms)/asz16.pdf', '/content/drive/MyDrive/ASX annual reports/2016 (1814 firms)/asy16.pdf', '/content/drive/MyDrive/ASX annual reports/2016 (1814 firms)/ayg16.pdf', '/content/drive/MyDrive/ASX annual reports/2016 (1814 firms)/big16.pdf', '/content/drive/MyDrive/ASX annual reports/2016 (1814 firms)/bct16.pdf', '/content/drive/MyDrive/ASX annual reports/2016 (1814 firms)/blg16.pdf', '/content/drive/MyDrive/ASX annual reports/2016 (1814 firms)/brn16.pdf', '/content/drive/MyDrive/ASX annual reports/2016 (1814 firms)/bps16.pdf', '/content/drive/MyDrive/ASX annual reports/2016 (1814 firms)/bud16.pdf', '/content/drive/MyDrive/ASX annual reports/2016 (1814 firms)/bpf16.pdf', '/content/drive/MyDrive/ASX annual reports/2016 (1814 firms)/cat16.pdf', '/content/drive/MyDrive/ASX annual reports/2016 (1814 firms)/biq16.pdf', '/content/drive/MyDrive/ASX annual reports/2016 (1814 firms)/cnw16.pdf', '/content/drive/MyDrive/ASX annual reports/2016 (1814 firms)/clt16.pdf', '/content/drive/MyDrive/ASX annual reports/2016 (1814 firms)/cyo16.pdf', '/content/drive/MyDrive/ASX annual reports/2016 (1814 firms)/cl116.pdf', '/content/drive/MyDrive/ASX annual reports/2016 (1814 firms)/com16.pdf', '/content/drive/MyDrive/ASX annual reports/2016 (1814 firms)/cda16.pdf', '/content/drive/MyDrive/ASX annual reports/2016 (1814 firms)/cpu16.pdf', '/content/drive/MyDrive/ASX annual reports/2016 (1814 firms)/cxz16.pdf', '/content/drive/MyDrive/ASX annual reports/2016 (1814 firms)/coo16.pdf', '/content/drive/MyDrive/ASX annual reports/2016 (1814 firms)/cr816.pdf', '/content/drive/MyDrive/ASX annual reports/2016 (1814 firms)/cgo16.pdf', '/content/drive/MyDrive/ASX annual reports/2016 (1814 firms)/csv16.pdf', '/content/drive/MyDrive/ASX annual reports/2016 (1814 firms)/cv116.pdf', '/content/drive/MyDrive/ASX annual reports/2016 (1814 firms)/dtl16.pdf', '/content/drive/MyDrive/ASX annual reports/2016 (1814 firms)/dtx16.pdf', '/content/drive/MyDrive/ASX annual reports/2016 (1814 firms)/dsx16.pdf', '/content/drive/MyDrive/ASX annual reports/2016 (1814 firms)/ddr16.pdf', '/content/drive/MyDrive/ASX annual reports/2016 (1814 firms)/dcc16.pdf', '/content/drive/MyDrive/ASX annual reports/2016 (1814 firms)/dtz16.pdf', '/content/drive/MyDrive/ASX annual reports/2016 (1814 firms)/dts16.pdf', '/content/drive/MyDrive/ASX annual reports/2016 (1814 firms)/dti16.pdf', '/content/drive/MyDrive/ASX annual reports/2016 (1814 firms)/dub16.pdf', '/content/drive/MyDrive/ASX annual reports/2016 (1814 firms)/dws16.pdf', '/content/drive/MyDrive/ASX annual reports/2016 (1814 firms)/dye16.pdf', '/content/drive/MyDrive/ASX annual reports/2016 (1814 firms)/epd16.pdf', '/content/drive/MyDrive/ASX annual reports/2016 (1814 firms)/eol16.pdf', '/content/drive/MyDrive/ASX annual reports/2016 (1814 firms)/enz16.pdf', '/content/drive/MyDrive/ASX annual reports/2016 (1814 firms)/esv16.pdf', '/content/drive/MyDrive/ASX annual reports/2016 (1814 firms)/esk16.pdf', '/content/drive/MyDrive/ASX annual reports/2016 (1814 firms)/fct16.pdf', '/content/drive/MyDrive/ASX annual reports/2016 (1814 firms)/g8c16.pdf', '/content/drive/MyDrive/ASX annual reports/2016 (1814 firms)/gbt16.pdf', '/content/drive/MyDrive/ASX annual reports/2016 (1814 firms)/geg16.pdf', '/content/drive/MyDrive/ASX annual reports/2016 (1814 firms)/gtk16.pdf', '/content/drive/MyDrive/ASX annual reports/2016 (1814 firms)/hil16.pdf', '/content/drive/MyDrive/ASX annual reports/2016 (1814 firms)/hsn16.pdf', '/content/drive/MyDrive/ASX annual reports/2016 (1814 firms)/fft16.pdf', '/content/drive/MyDrive/ASX annual reports/2016 (1814 firms)/ire16.pdf', '/content/drive/MyDrive/ASX annual reports/2016 (1814 firms)/ifm16.pdf', '/content/drive/MyDrive/ASX annual reports/2016 (1814 firms)/iri16.pdf', '/content/drive/MyDrive/ASX annual reports/2016 (1814 firms)/kte16.pdf', '/content/drive/MyDrive/ASX annual reports/2016 (1814 firms)/isx16.pdf', '/content/drive/MyDrive/ASX annual reports/2016 (1814 firms)/kno16.pdf', '/content/drive/MyDrive/ASX annual reports/2016 (1814 firms)/jcs16.pdf', '/content/drive/MyDrive/ASX annual reports/2016 (1814 firms)/lnu16.pdf', '/content/drive/MyDrive/ASX annual reports/2016 (1814 firms)/kbu16.pdf', '/content/drive/MyDrive/ASX annual reports/2016 (1814 firms)/kkl16.pdf', '/content/drive/MyDrive/ASX annual reports/2016 (1814 firms)/lvt16.pdf', '/content/drive/MyDrive/ASX annual reports/2016 (1814 firms)/isd16.pdf', '/content/drive/MyDrive/ASX annual reports/2016 (1814 firms)/mp116.pdf', '/content/drive/MyDrive/ASX annual reports/2016 (1814 firms)/mnw16.pdf', '/content/drive/MyDrive/ASX annual reports/2016 (1814 firms)/msp16.pdf', '/content/drive/MyDrive/ASX annual reports/2016 (1814 firms)/mbo16.pdf', '/content/drive/MyDrive/ASX annual reports/2016 (1814 firms)/mtl16.pdf', '/content/drive/MyDrive/ASX annual reports/2016 (1814 firms)/mlb16.pdf', '/content/drive/MyDrive/ASX annual reports/2016 (1814 firms)/mbe16.pdf', '/content/drive/MyDrive/ASX annual reports/2016 (1814 firms)/mkb16.pdf', '/content/drive/MyDrive/ASX annual reports/2016 (1814 firms)/mot16.pdf', '/content/drive/MyDrive/ASX annual reports/2016 (1814 firms)/moq16.pdf', '/content/drive/MyDrive/ASX annual reports/2016 (1814 firms)/myq16.pdf', '/content/drive/MyDrive/ASX annual reports/2016 (1814 firms)/lnk16.pdf', '/content/drive/MyDrive/ASX annual reports/2016 (1814 firms)/myo16.pdf', '/content/drive/MyDrive/ASX annual reports/2016 (1814 firms)/ntc16.pdf', '/content/drive/MyDrive/ASX annual reports/2016 (1814 firms)/nxt16.pdf', '/content/drive/MyDrive/ASX annual reports/2016 (1814 firms)/nor16.pdf', '/content/drive/MyDrive/ASX annual reports/2016 (1814 firms)/nea16.pdf', '/content/drive/MyDrive/ASX annual reports/2016 (1814 firms)/nwz16.pdf', '/content/drive/MyDrive/ASX annual reports/2016 (1814 firms)/ocl16.pdf', '/content/drive/MyDrive/ASX annual reports/2016 (1814 firms)/oth16.pdf', '/content/drive/MyDrive/ASX annual reports/2016 (1814 firms)/nuh16.pdf', '/content/drive/MyDrive/ASX annual reports/2016 (1814 firms)/omt16.pdf', '/content/drive/MyDrive/ASX annual reports/2016 (1814 firms)/olv16.pdf', '/content/drive/MyDrive/ASX annual reports/2016 (1814 firms)/pil16.pdf', '/content/drive/MyDrive/ASX annual reports/2016 (1814 firms)/psy16.pdf', '/content/drive/MyDrive/ASX annual reports/2016 (1814 firms)/otw16.pdf', '/content/drive/MyDrive/ASX annual reports/2016 (1814 firms)/qtg16.pdf', '/content/drive/MyDrive/ASX annual reports/2016 (1814 firms)/rkn16.pdf', '/content/drive/MyDrive/ASX annual reports/2016 (1814 firms)/pro16.pdf', '/content/drive/MyDrive/ASX annual reports/2016 (1814 firms)/rfn16.pdf', '/content/drive/MyDrive/ASX annual reports/2016 (1814 firms)/rnl16.pdf', '/content/drive/MyDrive/ASX annual reports/2016 (1814 firms)/rdf16.pdf', '/content/drive/MyDrive/ASX annual reports/2016 (1814 firms)/pps16.pdf', '/content/drive/MyDrive/ASX annual reports/2016 (1814 firms)/rul16.pdf', '/content/drive/MyDrive/ASX annual reports/2016 (1814 firms)/rhp16.pdf', '/content/drive/MyDrive/ASX annual reports/2016 (1814 firms)/sro16.pdf', '/content/drive/MyDrive/ASX annual reports/2016 (1814 firms)/rxp16.pdf', '/content/drive/MyDrive/ASX annual reports/2016 (1814 firms)/sen16.pdf', '/content/drive/MyDrive/ASX annual reports/2016 (1814 firms)/skf16.pdf', '/content/drive/MyDrive/ASX annual reports/2016 (1814 firms)/sma16.pdf', '/content/drive/MyDrive/ASX annual reports/2016 (1814 firms)/spz16.pdf', '/content/drive/MyDrive/ASX annual reports/2016 (1814 firms)/slx16.pdf', '/content/drive/MyDrive/ASX annual reports/2016 (1814 firms)/sfi16.pdf', '/content/drive/MyDrive/ASX annual reports/2016 (1814 firms)/sw116.pdf', '/content/drive/MyDrive/ASX annual reports/2016 (1814 firms)/smx16.pdf', '/content/drive/MyDrive/ASX annual reports/2016 (1814 firms)/smn16.pdf', '/content/drive/MyDrive/ASX annual reports/2016 (1814 firms)/ggl16.pdf', '/content/drive/MyDrive/ASX annual reports/2016 (1814 firms)/rfl16.pdf', '/content/drive/MyDrive/ASX annual reports/2016 (1814 firms)/cgl16.pdf', '/content/drive/MyDrive/ASX annual reports/2016 (1814 firms)/tkf16.pdf', '/content/drive/MyDrive/ASX annual reports/2016 (1814 firms)/ttl16.pdf', '/content/drive/MyDrive/ASX annual reports/2016 (1814 firms)/tsn16.pdf', '/content/drive/MyDrive/ASX annual reports/2016 (1814 firms)/tv216.pdf', '/content/drive/MyDrive/ASX annual reports/2016 (1814 firms)/tch16.pdf', '/content/drive/MyDrive/ASX annual reports/2016 (1814 firms)/upd16.pdf', '/content/drive/MyDrive/ASX annual reports/2016 (1814 firms)/tzl16.pdf', '/content/drive/MyDrive/ASX annual reports/2016 (1814 firms)/vlt16.pdf', '/content/drive/MyDrive/ASX annual reports/2016 (1814 firms)/vig16.pdf', '/content/drive/MyDrive/ASX annual reports/2016 (1814 firms)/wgl16.pdf', '/content/drive/MyDrive/ASX annual reports/2016 (1814 firms)/tne16.pdf', '/content/drive/MyDrive/ASX annual reports/2016 (1814 firms)/vgl16.pdf', '/content/drive/MyDrive/ASX annual reports/2016 (1814 firms)/wmc16.pdf', '/content/drive/MyDrive/ASX annual reports/2016 (1814 firms)/ubn16.pdf', '/content/drive/MyDrive/ASX annual reports/2016 (1814 firms)/vpc16.pdf', '/content/drive/MyDrive/ASX annual reports/2016 (1814 firms)/wsg16.pdf', '/content/drive/MyDrive/ASX annual reports/2016 (1814 firms)/xpe16.pdf', '/content/drive/MyDrive/ASX annual reports/2016 (1814 firms)/xro16.pdf', '/content/drive/MyDrive/ASX annual reports/2016 (1814 firms)/zyb16.pdf', '/content/drive/MyDrive/ASX annual reports/2016 (1814 firms)/yoj16.pdf', '/content/drive/MyDrive/ASX annual reports/2016 (1814 firms)/xf116.pdf', '/content/drive/MyDrive/ASX annual reports/2016 (1814 firms)/aer16.pdf', '/content/drive/MyDrive/ASX annual reports/2016 (1814 firms)/ab116.pdf', '/content/drive/MyDrive/ASX annual reports/2016 (1814 firms)/aau16.pdf', '/content/drive/MyDrive/ASX annual reports/2016 (1814 firms)/dig16.pdf', '/content/drive/MyDrive/ASX annual reports/2016 (1814 firms)/asp16.pdf', '/content/drive/MyDrive/ASX annual reports/2016 (1814 firms)/bgl16.pdf', '/content/drive/MyDrive/ASX annual reports/2016 (1814 firms)/bbl16.pdf', '/content/drive/MyDrive/ASX annual reports/2016 (1814 firms)/byi16.pdf', '/content/drive/MyDrive/ASX annual reports/2016 (1814 firms)/cm816.pdf', '/content/drive/MyDrive/ASX annual reports/2016 (1814 firms)/car16.pdf', '/content/drive/MyDrive/ASX annual reports/2016 (1814 firms)/cnu16.pdf', '/content/drive/MyDrive/ASX annual reports/2016 (1814 firms)/apo16.pdf', '/content/drive/MyDrive/ASX annual reports/2016 (1814 firms)/enc16.pdf', '/content/drive/MyDrive/ASX annual reports/2016 (1814 firms)/evt16.pdf', '/content/drive/MyDrive/ASX annual reports/2016 (1814 firms)/esh16.pdf', '/content/drive/MyDrive/ASX annual reports/2016 (1814 firms)/frx16.pdf', '/content/drive/MyDrive/ASX annual reports/2016 (1814 firms)/egg16.pdf', '/content/drive/MyDrive/ASX annual reports/2016 (1814 firms)/gcn16.pdf', '/content/drive/MyDrive/ASX annual reports/2016 (1814 firms)/fre16.pdf', '/content/drive/MyDrive/ASX annual reports/2016 (1814 firms)/dmc.pdf', '/content/drive/MyDrive/ASX annual reports/2016 (1814 firms)/ici16.pdf', '/content/drive/MyDrive/ASX annual reports/2016 (1814 firms)/icq16.pdf', '/content/drive/MyDrive/ASX annual reports/2016 (1814 firms)/hta16.pdf', '/content/drive/MyDrive/ASX annual reports/2016 (1814 firms)/iab16.pdf', '/content/drive/MyDrive/ASX annual reports/2016 (1814 firms)/icu16.pdf', '/content/drive/MyDrive/ASX annual reports/2016 (1814 firms)/knm16.pdf', '/content/drive/MyDrive/ASX annual reports/2016 (1814 firms)/laa16.pdf', '/content/drive/MyDrive/ASX annual reports/2016 (1814 firms)/ivo16.pdf', '/content/drive/MyDrive/ASX annual reports/2016 (1814 firms)/igl16.pdf', '/content/drive/MyDrive/ASX annual reports/2016 (1814 firms)/fxj16.pdf', '/content/drive/MyDrive/ASX annual reports/2016 (1814 firms)/mwr16.pdf', '/content/drive/MyDrive/ASX annual reports/2016 (1814 firms)/mrn16.pdf', '/content/drive/MyDrive/ASX annual reports/2016 (1814 firms)/maq16.pdf', '/content/drive/MyDrive/ASX annual reports/2016 (1814 firms)/mua16.pdf', '/content/drive/MyDrive/ASX annual reports/2016 (1814 firms)/mnf16.pdf', '/content/drive/MyDrive/ASX annual reports/2016 (1814 firms)/mih16.pdf', '/content/drive/MyDrive/ASX annual reports/2016 (1814 firms)/msm16.pdf', '/content/drive/MyDrive/ASX annual reports/2016 (1814 firms)/nws16.pdf', '/content/drive/MyDrive/ASX annual reports/2016 (1814 firms)/nzm16.pdf', '/content/drive/MyDrive/ASX annual reports/2016 (1814 firms)/nec16.pdf', '/content/drive/MyDrive/ASX annual reports/2016 (1814 firms)/pnw16.pdf', '/content/drive/MyDrive/ASX annual reports/2016 (1814 firms)/oml16.pdf', '/content/drive/MyDrive/ASX annual reports/2016 (1814 firms)/prt16.pdf', '/content/drive/MyDrive/ASX annual reports/2016 (1814 firms)/pch16.pdf', '/content/drive/MyDrive/ASX annual reports/2016 (1814 firms)/ppl16.pdf', '/content/drive/MyDrive/ASX annual reports/2016 (1814 firms)/rev16.pdf', '/content/drive/MyDrive/ASX annual reports/2016 (1814 firms)/rea16.pdf', '/content/drive/MyDrive/ASX annual reports/2016 (1814 firms)/rnt16.pdf', '/content/drive/MyDrive/ASX annual reports/2016 (1814 firms)/ref16.pdf', '/content/drive/MyDrive/ASX annual reports/2016 (1814 firms)/rxh16.pdf', '/content/drive/MyDrive/ASX annual reports/2016 (1814 firms)/slm16.pdf', '/content/drive/MyDrive/ASX annual reports/2016 (1814 firms)/ncl16.pdf', '/content/drive/MyDrive/ASX annual reports/2016 (1814 firms)/sek16.pdf', '/content/drive/MyDrive/ASX annual reports/2016 (1814 firms)/sas16.pdf', '/content/drive/MyDrive/ASX annual reports/2016 (1814 firms)/qms16.pdf', '/content/drive/MyDrive/ASX annual reports/2016 (1814 firms)/swm16.pdf', '/content/drive/MyDrive/ASX annual reports/2016 (1814 firms)/smp16.pdf', '/content/drive/MyDrive/ASX annual reports/2016 (1814 firms)/sda16.pdf', '/content/drive/MyDrive/ASX annual reports/2016 (1814 firms)/skt16.pdf', '/content/drive/MyDrive/ASX annual reports/2016 (1814 firms)/sxl16.pdf', '/content/drive/MyDrive/ASX annual reports/2016 (1814 firms)/spk16.pdf', '/content/drive/MyDrive/ASX annual reports/2016 (1814 firms)/st116.pdf', '/content/drive/MyDrive/ASX annual reports/2016 (1814 firms)/slc16.pdf', '/content/drive/MyDrive/ASX annual reports/2016 (1814 firms)/thd16.pdf', '/content/drive/MyDrive/ASX annual reports/2016 (1814 firms)/tmp16.pdf', '/content/drive/MyDrive/ASX annual reports/2016 (1814 firms)/tpc16.pdf', '/content/drive/MyDrive/ASX annual reports/2016 (1814 firms)/tom16.pdf', '/content/drive/MyDrive/ASX annual reports/2016 (1814 firms)/tls16.pdf', '/content/drive/MyDrive/ASX annual reports/2016 (1814 firms)/ten16.pdf', '/content/drive/MyDrive/ASX annual reports/2016 (1814 firms)/tpm16.pdf', '/content/drive/MyDrive/ASX annual reports/2016 (1814 firms)/vrl16.pdf', '/content/drive/MyDrive/ASX annual reports/2016 (1814 firms)/wns16.pdf', '/content/drive/MyDrive/ASX annual reports/2016 (1814 firms)/xtd16.pdf', '/content/drive/MyDrive/ASX annual reports/2016 (1814 firms)/wrr16.pdf', '/content/drive/MyDrive/ASX annual reports/2016 (1814 firms)/wpp16.pdf', '/content/drive/MyDrive/ASX annual reports/2016 (1814 firms)/xtv16.pdf', '/content/drive/MyDrive/ASX annual reports/2016 (1814 firms)/zip16.pdf', '/content/drive/MyDrive/ASX annual reports/2016 (1814 firms)/voc16.pdf', '/content/drive/MyDrive/ASX annual reports/2016 (1814 firms)/agl16.pdf', '/content/drive/MyDrive/ASX annual reports/2016 (1814 firms)/ays16.pdf', '/content/drive/MyDrive/ASX annual reports/2016 (1814 firms)/ast16.pdf', '/content/drive/MyDrive/ASX annual reports/2016 (1814 firms)/apa16.pdf', '/content/drive/MyDrive/ASX annual reports/2016 (1814 firms)/erj16.pdf', '/content/drive/MyDrive/ASX annual reports/2016 (1814 firms)/enb16.pdf', '/content/drive/MyDrive/ASX annual reports/2016 (1814 firms)/epw16.pdf', '/content/drive/MyDrive/ASX annual reports/2016 (1814 firms)/kpo16.pdf', '/content/drive/MyDrive/ASX annual reports/2016 (1814 firms)/gdy16.pdf', '/content/drive/MyDrive/ASX annual reports/2016 (1814 firms)/cen16.pdf', '/content/drive/MyDrive/ASX annual reports/2016 (1814 firms)/due16.pdf', '/content/drive/MyDrive/ASX annual reports/2016 (1814 firms)/gnx16.pdf', '/content/drive/MyDrive/ASX annual reports/2016 (1814 firms)/evm16.pdf', '/content/drive/MyDrive/ASX annual reports/2016 (1814 firms)/lpe16.pdf', '/content/drive/MyDrive/ASX annual reports/2016 (1814 firms)/pea16.pdf', '/content/drive/MyDrive/ASX annual reports/2016 (1814 firms)/wrg16.pdf', '/content/drive/MyDrive/ASX annual reports/2016 (1814 firms)/ski16.pdf', '/content/drive/MyDrive/ASX annual reports/2016 (1814 firms)/tml16.pdf', '/content/drive/MyDrive/ASX annual reports/2016 (1814 firms)/ift16.pdf', '/content/drive/MyDrive/ASX annual reports/2016 (1814 firms)/cwe16.pdf', '/content/drive/MyDrive/ASX annual reports/2016 (1814 firms)/ewc16.pdf', '/content/drive/MyDrive/ASX annual reports/2016 (1814 firms)/gne16.pdf', '/content/drive/MyDrive/ASX annual reports/2016 (1814 firms)/ifn16.pdf', '/content/drive/MyDrive/ASX annual reports/2016 (1814 firms)/mez16.pdf', '/content/drive/MyDrive/ASX annual reports/2016 (1814 firms)/tgp16.pdf', '/content/drive/MyDrive/ASX annual reports/2016 (1814 firms)/tix16.pdf', '/content/drive/MyDrive/ASX annual reports/2016 (1814 firms)/tof16.pdf', '/content/drive/MyDrive/ASX annual reports/2016 (1814 firms)/agj16.pdf', '/content/drive/MyDrive/ASX annual reports/2016 (1814 firms)/abp16.pdf', '/content/drive/MyDrive/ASX annual reports/2016 (1814 firms)/ajd16.pdf', '/content/drive/MyDrive/ASX annual reports/2016 (1814 firms)/apw16.pdf', '/content/drive/MyDrive/ASX annual reports/2016 (1814 firms)/lep16.pdf', '/content/drive/MyDrive/ASX annual reports/2016 (1814 firms)/arf16.pdf', '/content/drive/MyDrive/ASX annual reports/2016 (1814 firms)/aja16.pdf', '/content/drive/MyDrive/ASX annual reports/2016 (1814 firms)/aak16.pdf', '/content/drive/MyDrive/ASX annual reports/2016 (1814 firms)/apz16.pdf', '/content/drive/MyDrive/ASX annual reports/2016 (1814 firms)/apd16.pdf', '/content/drive/MyDrive/ASX annual reports/2016 (1814 firms)/avj16.pdf', '/content/drive/MyDrive/ASX annual reports/2016 (1814 firms)/aog16.pdf', '/content/drive/MyDrive/ASX annual reports/2016 (1814 firms)/avn16.pdf', '/content/drive/MyDrive/ASX annual reports/2016 (1814 firms)/bwr16.pdf', '/content/drive/MyDrive/ASX annual reports/2016 (1814 firms)/caq16.pdf', '/content/drive/MyDrive/ASX annual reports/2016 (1814 firms)/axi16.pdf', '/content/drive/MyDrive/ASX annual reports/2016 (1814 firms)/bpa16.pdf', '/content/drive/MyDrive/ASX annual reports/2016 (1814 firms)/cwp16.pdf', '/content/drive/MyDrive/ASX annual reports/2016 (1814 firms)/cni16.pdf', '/content/drive/MyDrive/ASX annual reports/2016 (1814 firms)/bmp16.pdf', '/content/drive/MyDrive/ASX annual reports/2016 (1814 firms)/bwp16.pdf', '/content/drive/MyDrive/ASX annual reports/2016 (1814 firms)/cqr16.pdf', '/content/drive/MyDrive/ASX annual reports/2016 (1814 firms)/chc16.pdf', '/content/drive/MyDrive/ASX annual reports/2016 (1814 firms)/dvn16.pdf', '/content/drive/MyDrive/ASX annual reports/2016 (1814 firms)/cmw16.pdf', '/content/drive/MyDrive/ASX annual reports/2016 (1814 firms)/dxs16.pdf', '/content/drive/MyDrive/ASX annual reports/2016 (1814 firms)/dgh16.pdf', '/content/drive/MyDrive/ASX annual reports/2016 (1814 firms)/cma16.pdf', '/content/drive/MyDrive/ASX annual reports/2016 (1814 firms)/flk16.pdf', '/content/drive/MyDrive/ASX annual reports/2016 (1814 firms)/egh16.pdf', '/content/drive/MyDrive/ASX annual reports/2016 (1814 firms)/fet16.pdf', '/content/drive/MyDrive/ASX annual reports/2016 (1814 firms)/gjt16.pdf', '/content/drive/MyDrive/ASX annual reports/2016 (1814 firms)/fri16.pdf', '/content/drive/MyDrive/ASX annual reports/2016 (1814 firms)/gdf16.pdf', '/content/drive/MyDrive/ASX annual reports/2016 (1814 firms)/gdi16.pdf', '/content/drive/MyDrive/ASX annual reports/2016 (1814 firms)/gps16.pdf', '/content/drive/MyDrive/ASX annual reports/2016 (1814 firms)/gpt16.pdf', '/content/drive/MyDrive/ASX annual reports/2016 (1814 firms)/ghc16.pdf', '/content/drive/MyDrive/ASX annual reports/2016 (1814 firms)/gmg16.pdf', '/content/drive/MyDrive/ASX annual reports/2016 (1814 firms)/hpi16.pdf', '/content/drive/MyDrive/ASX annual reports/2016 (1814 firms)/hgl16.pdf', '/content/drive/MyDrive/ASX annual reports/2016 (1814 firms)/gmf16.pdf', '/content/drive/MyDrive/ASX annual reports/2016 (1814 firms)/goz16.pdf', '/content/drive/MyDrive/ASX annual reports/2016 (1814 firms)/gty16.pdf', '/content/drive/MyDrive/ASX annual reports/2016 (1814 firms)/ieq16.pdf', '/content/drive/MyDrive/ASX annual reports/2016 (1814 firms)/ina16.pdf', '/content/drive/MyDrive/ASX annual reports/2016 (1814 firms)/iof16.pdf', '/content/drive/MyDrive/ASX annual reports/2016 (1814 firms)/inm16.pdf', '/content/drive/MyDrive/ASX annual reports/2016 (1814 firms)/ltn16.pdf', '/content/drive/MyDrive/ASX annual reports/2016 (1814 firms)/klo16.pdf', '/content/drive/MyDrive/ASX annual reports/2016 (1814 firms)/idr16.pdf', '/content/drive/MyDrive/ASX annual reports/2016 (1814 firms)/lhm16.pdf', '/content/drive/MyDrive/ASX annual reports/2016 (1814 firms)/lic16.pdf', '/content/drive/MyDrive/ASX annual reports/2016 (1814 firms)/llc16.pdf', '/content/drive/MyDrive/ASX annual reports/2016 (1814 firms)/lhb16.pdf', '/content/drive/MyDrive/ASX annual reports/2016 (1814 firms)/mea16.pdf', '/content/drive/MyDrive/ASX annual reports/2016 (1814 firms)/mpx16.pdf', '/content/drive/MyDrive/ASX annual reports/2016 (1814 firms)/nsr16.pdf', '/content/drive/MyDrive/ASX annual reports/2016 (1814 firms)/lmw16.pdf', '/content/drive/MyDrive/ASX annual reports/2016 (1814 firms)/pay16.pdf', '/content/drive/MyDrive/ASX annual reports/2016 (1814 firms)/qss16.pdf', '/content/drive/MyDrive/ASX annual reports/2016 (1814 firms)/rpg16.pdf', '/content/drive/MyDrive/ASX annual reports/2016 (1814 firms)/pfm16.pdf', '/content/drive/MyDrive/ASX annual reports/2016 (1814 firms)/rny16.pdf', '/content/drive/MyDrive/ASX annual reports/2016 (1814 firms)/phi16.pdf', '/content/drive/MyDrive/ASX annual reports/2016 (1814 firms)/rff16.pdf', '/content/drive/MyDrive/ASX annual reports/2016 (1814 firms)/scg16.pdf', '/content/drive/MyDrive/ASX annual reports/2016 (1814 firms)/rcu16.pdf', '/content/drive/MyDrive/ASX annual reports/2016 (1814 firms)/ppc16.pdf', '/content/drive/MyDrive/ASX annual reports/2016 (1814 firms)/mgr16.pdf', '/content/drive/MyDrive/ASX annual reports/2016 (1814 firms)/scp16.pdf', '/content/drive/MyDrive/ASX annual reports/2016 (1814 firms)/scw16.pdf', '/content/drive/MyDrive/ASX annual reports/2016 (1814 firms)/sgp16.pdf', '/content/drive/MyDrive/ASX annual reports/2016 (1814 firms)/tia16.pdf', '/content/drive/MyDrive/ASX annual reports/2016 (1814 firms)/srv16.pdf', '/content/drive/MyDrive/ASX annual reports/2016 (1814 firms)/ssl16.pdf', '/content/drive/MyDrive/ASX annual reports/2016 (1814 firms)/uul16.pdf', '/content/drive/MyDrive/ASX annual reports/2016 (1814 firms)/sdg16.pdf', '/content/drive/MyDrive/ASX annual reports/2016 (1814 firms)/upg16.pdf', '/content/drive/MyDrive/ASX annual reports/2016 (1814 firms)/uos16.pdf', '/content/drive/MyDrive/ASX annual reports/2016 (1814 firms)/urf16.pdf', '/content/drive/MyDrive/ASX annual reports/2016 (1814 firms)/wfd16.pdf', '/content/drive/MyDrive/ASX annual reports/2016 (1814 firms)/vcx16.pdf', '/content/drive/MyDrive/ASX annual reports/2016 (1814 firms)/vlw16.pdf', '/content/drive/MyDrive/ASX annual reports/2016 (1814 firms)/tdo16.pdf', '/content/drive/MyDrive/ASX annual reports/2016 (1814 firms)/88e16.pdf', '/content/drive/MyDrive/ASX annual reports/2016 (1814 firms)/ajc16.pdf', '/content/drive/MyDrive/ASX annual reports/2016 (1814 firms)/add16.pdf', '/content/drive/MyDrive/ASX annual reports/2016 (1814 firms)/adx16.pdf', '/content/drive/MyDrive/ASX annual reports/2016 (1814 firms)/acb16.pdf', '/content/drive/MyDrive/ASX annual reports/2016 (1814 firms)/aow16.pdf', '/content/drive/MyDrive/ASX annual reports/2016 (1814 firms)/aeb16.pdf', '/content/drive/MyDrive/ASX annual reports/2016 (1814 firms)/age16.pdf', '/content/drive/MyDrive/ASX annual reports/2016 (1814 firms)/avd16.pdf', '/content/drive/MyDrive/ASX annual reports/2016 (1814 firms)/aal16.pdf', '/content/drive/MyDrive/ASX annual reports/2016 (1814 firms)/azz16.pdf', '/content/drive/MyDrive/ASX annual reports/2016 (1814 firms)/ajq16.pdf', '/content/drive/MyDrive/ASX annual reports/2016 (1814 firms)/afr16.pdf', '/content/drive/MyDrive/ASX annual reports/2016 (1814 firms)/arw16.pdf', '/content/drive/MyDrive/ASX annual reports/2016 (1814 firms)/akk16.pdf', '/content/drive/MyDrive/ASX annual reports/2016 (1814 firms)/aqj16.pdf', '/content/drive/MyDrive/ASX annual reports/2016 (1814 firms)/aok16.pdf', '/content/drive/MyDrive/ASX annual reports/2016 (1814 firms)/aee16.pdf', '/content/drive/MyDrive/ASX annual reports/2016 (1814 firms)/apy16.pdf', '/content/drive/MyDrive/ASX annual reports/2016 (1814 firms)/bkp16.pdf', '/content/drive/MyDrive/ASX annual reports/2016 (1814 firms)/awe16.pdf', '/content/drive/MyDrive/ASX annual reports/2016 (1814 firms)/bas16.pdf', '/content/drive/MyDrive/ASX annual reports/2016 (1814 firms)/bsp16.pdf', '/content/drive/MyDrive/ASX annual reports/2016 (1814 firms)/bgg16.pdf', '/content/drive/MyDrive/ASX annual reports/2016 (1814 firms)/bul16.pdf', '/content/drive/MyDrive/ASX annual reports/2016 (1814 firms)/bpt16.pdf', '/content/drive/MyDrive/ASX annual reports/2016 (1814 firms)/blz16.pdf', '/content/drive/MyDrive/ASX annual reports/2016 (1814 firms)/bky16.pdf', '/content/drive/MyDrive/ASX annual reports/2016 (1814 firms)/bru16.pdf', '/content/drive/MyDrive/ASX annual reports/2016 (1814 firms)/brk16.pdf', '/content/drive/MyDrive/ASX annual reports/2016 (1814 firms)/ctx16.pdf', '/content/drive/MyDrive/ASX annual reports/2016 (1814 firms)/cvn16.pdf', '/content/drive/MyDrive/ASX annual reports/2016 (1814 firms)/cnx16.pdf', '/content/drive/MyDrive/ASX annual reports/2016 (1814 firms)/bye16.pdf', '/content/drive/MyDrive/ASX annual reports/2016 (1814 firms)/buy16.pdf', '/content/drive/MyDrive/ASX annual reports/2016 (1814 firms)/cxu16.pdf', '/content/drive/MyDrive/ASX annual reports/2016 (1814 firms)/ctr16.pdf', '/content/drive/MyDrive/ASX annual reports/2016 (1814 firms)/cel16.pdf', '/content/drive/MyDrive/ASX annual reports/2016 (1814 firms)/cbq16.pdf', '/content/drive/MyDrive/ASX annual reports/2016 (1814 firms)/ctp16.pdf', '/content/drive/MyDrive/ASX annual reports/2016 (1814 firms)/coi16.pdf', '/content/drive/MyDrive/ASX annual reports/2016 (1814 firms)/cza16.pdf', '/content/drive/MyDrive/ASX annual reports/2016 (1814 firms)/cmt16.pdf', '/content/drive/MyDrive/ASX annual reports/2016 (1814 firms)/cok16.pdf', '/content/drive/MyDrive/ASX annual reports/2016 (1814 firms)/coe16.pdf', '/content/drive/MyDrive/ASX annual reports/2016 (1814 firms)/ccj16.pdf', '/content/drive/MyDrive/ASX annual reports/2016 (1814 firms)/eer16.pdf', '/content/drive/MyDrive/ASX annual reports/2016 (1814 firms)/dyl16.pdf', '/content/drive/MyDrive/ASX annual reports/2016 (1814 firms)/exr16.pdf', '/content/drive/MyDrive/ASX annual reports/2016 (1814 firms)/epm16.pdf', '/content/drive/MyDrive/ASX annual reports/2016 (1814 firms)/cue16.pdf', '/content/drive/MyDrive/ASX annual reports/2016 (1814 firms)/ede16.pdf', '/content/drive/MyDrive/ASX annual reports/2016 (1814 firms)/elk16.pdf', '/content/drive/MyDrive/ASX annual reports/2016 (1814 firms)/eme16.pdf', '/content/drive/MyDrive/ASX annual reports/2016 (1814 firms)/eeg16.pdf', '/content/drive/MyDrive/ASX annual reports/2016 (1814 firms)/emx16.pdf', '/content/drive/MyDrive/ASX annual reports/2016 (1814 firms)/eor16.pdf', '/content/drive/MyDrive/ASX annual reports/2016 (1814 firms)/era16.pdf', '/content/drive/MyDrive/ASX annual reports/2016 (1814 firms)/ete16.pdf', '/content/drive/MyDrive/ASX annual reports/2016 (1814 firms)/eqx16.pdf', '/content/drive/MyDrive/ASX annual reports/2016 (1814 firms)/ego16.pdf', '/content/drive/MyDrive/ASX annual reports/2016 (1814 firms)/fzr16.pdf', '/content/drive/MyDrive/ASX annual reports/2016 (1814 firms)/fdm16.pdf', '/content/drive/MyDrive/ASX annual reports/2016 (1814 firms)/far16.pdf', '/content/drive/MyDrive/ASX annual reports/2016 (1814 firms)/ggx16.pdf', '/content/drive/MyDrive/ASX annual reports/2016 (1814 firms)/gbx16.pdf', '/content/drive/MyDrive/ASX annual reports/2016 (1814 firms)/gge16.pdf', '/content/drive/MyDrive/ASX annual reports/2016 (1814 firms)/grv16.pdf', '/content/drive/MyDrive/ASX annual reports/2016 (1814 firms)/gbp16.pdf', '/content/drive/MyDrive/ASX annual reports/2016 (1814 firms)/hog16.pdf', '/content/drive/MyDrive/ASX annual reports/2016 (1814 firms)/hpr16.pdf', '/content/drive/MyDrive/ASX annual reports/2016 (1814 firms)/icn16.pdf', '/content/drive/MyDrive/ASX annual reports/2016 (1814 firms)/gll16.pdf', '/content/drive/MyDrive/ASX annual reports/2016 (1814 firms)/ink16.pdf', '/content/drive/MyDrive/ASX annual reports/2016 (1814 firms)/ikw16.pdf', '/content/drive/MyDrive/ASX annual reports/2016 (1814 firms)/hzn16.pdf', '/content/drive/MyDrive/ASX annual reports/2016 (1814 firms)/iog16.pdf', '/content/drive/MyDrive/ASX annual reports/2016 (1814 firms)/ind16.pdf', '/content/drive/MyDrive/ASX annual reports/2016 (1814 firms)/iec16.pdf', '/content/drive/MyDrive/ASX annual reports/2016 (1814 firms)/jka16.pdf', '/content/drive/MyDrive/ASX annual reports/2016 (1814 firms)/ipb16.pdf', '/content/drive/MyDrive/ASX annual reports/2016 (1814 firms)/kik16.pdf', '/content/drive/MyDrive/ASX annual reports/2016 (1814 firms)/jpr16.pdf', '/content/drive/MyDrive/ASX annual reports/2016 (1814 firms)/krl16.pdf', '/content/drive/MyDrive/ASX annual reports/2016 (1814 firms)/ivr16.pdf', '/content/drive/MyDrive/ASX annual reports/2016 (1814 firms)/klr16.pdf', '/content/drive/MyDrive/ASX annual reports/2016 (1814 firms)/kar16.pdf', '/content/drive/MyDrive/ASX annual reports/2016 (1814 firms)/kpl16.pdf', '/content/drive/MyDrive/ASX annual reports/2016 (1814 firms)/key16.pdf', '/content/drive/MyDrive/ASX annual reports/2016 (1814 firms)/kko16.pdf', '/content/drive/MyDrive/ASX annual reports/2016 (1814 firms)/lko16.pdf', '/content/drive/MyDrive/ASX annual reports/2016 (1814 firms)/lam16.pdf', '/content/drive/MyDrive/ASX annual reports/2016 (1814 firms)/lck16.pdf', '/content/drive/MyDrive/ASX annual reports/2016 (1814 firms)/lio16.pdf', '/content/drive/MyDrive/ASX annual reports/2016 (1814 firms)/lng16.pdf', '/content/drive/MyDrive/ASX annual reports/2016 (1814 firms)/lgo16.pdf', '/content/drive/MyDrive/ASX annual reports/2016 (1814 firms)/lwp16.pdf', '/content/drive/MyDrive/ASX annual reports/2016 (1814 firms)/mpe16.pdf', '/content/drive/MyDrive/ASX annual reports/2016 (1814 firms)/mbc16.pdf', '/content/drive/MyDrive/ASX annual reports/2016 (1814 firms)/mhc16.pdf', '/content/drive/MyDrive/ASX annual reports/2016 (1814 firms)/mey16.pdf', '/content/drive/MyDrive/ASX annual reports/2016 (1814 firms)/meu16.pdf', '/content/drive/MyDrive/ASX annual reports/2016 (1814 firms)/mce16.pdf', '/content/drive/MyDrive/ASX annual reports/2016 (1814 firms)/mmr16.pdf', '/content/drive/MyDrive/ASX annual reports/2016 (1814 firms)/meo16.pdf', '/content/drive/MyDrive/ASX annual reports/2016 (1814 firms)/mel16.pdf', '/content/drive/MyDrive/ASX annual reports/2016 (1814 firms)/mbt16.pdf', '/content/drive/MyDrive/ASX annual reports/2016 (1814 firms)/mrm16.pdf', '/content/drive/MyDrive/ASX annual reports/2016 (1814 firms)/mpo16.pdf', '/content/drive/MyDrive/ASX annual reports/2016 (1814 firms)/nms16.pdf', '/content/drive/MyDrive/ASX annual reports/2016 (1814 firms)/nho16.pdf', '/content/drive/MyDrive/ASX annual reports/2016 (1814 firms)/nhc16.pdf', '/content/drive/MyDrive/ASX annual reports/2016 (1814 firms)/mrv16.pdf', '/content/drive/MyDrive/ASX annual reports/2016 (1814 firms)/nae16.pdf', '/content/drive/MyDrive/ASX annual reports/2016 (1814 firms)/nse16.pdf', '/content/drive/MyDrive/ASX annual reports/2016 (1814 firms)/ndo16.pdf', '/content/drive/MyDrive/ASX annual reports/2016 (1814 firms)/nwe16.pdf', '/content/drive/MyDrive/ASX annual reports/2016 (1814 firms)/ngy16.pdf', '/content/drive/MyDrive/ASX annual reports/2016 (1814 firms)/oxx16.pdf', '/content/drive/MyDrive/ASX annual reports/2016 (1814 firms)/odn16.pdf', '/content/drive/MyDrive/ASX annual reports/2016 (1814 firms)/ody16.pdf', '/content/drive/MyDrive/ASX annual reports/2016 (1814 firms)/obl16.pdf', '/content/drive/MyDrive/ASX annual reports/2016 (1814 firms)/osh16.pdf', '/content/drive/MyDrive/ASX annual reports/2016 (1814 firms)/oex16.pdf', '/content/drive/MyDrive/ASX annual reports/2016 (1814 firms)/ogy16.pdf', '/content/drive/MyDrive/ASX annual reports/2016 (1814 firms)/oeg16.pdf', '/content/drive/MyDrive/ASX annual reports/2016 (1814 firms)/org16.pdf', '/content/drive/MyDrive/ASX annual reports/2016 (1814 firms)/oel16.pdf', '/content/drive/MyDrive/ASX annual reports/2016 (1814 firms)/pdn16.pdf', '/content/drive/MyDrive/ASX annual reports/2016 (1814 firms)/pzc16.pdf', '/content/drive/MyDrive/ASX annual reports/2016 (1814 firms)/ppp16.pdf', '/content/drive/MyDrive/ASX annual reports/2016 (1814 firms)/pcl16.pdf', '/content/drive/MyDrive/ASX annual reports/2016 (1814 firms)/pnl16.pdf', '/content/drive/MyDrive/ASX annual reports/2016 (1814 firms)/psa16.pdf', '/content/drive/MyDrive/ASX annual reports/2016 (1814 firms)/prl16.pdf', '/content/drive/MyDrive/ASX annual reports/2016 (1814 firms)/pgy16.pdf', '/content/drive/MyDrive/ASX annual reports/2016 (1814 firms)/pgs16.pdf', '/content/drive/MyDrive/ASX annual reports/2016 (1814 firms)/pve16.pdf', '/content/drive/MyDrive/ASX annual reports/2016 (1814 firms)/pez16.pdf', '/content/drive/MyDrive/ASX annual reports/2016 (1814 firms)/pvd16.pdf', '/content/drive/MyDrive/ASX annual reports/2016 (1814 firms)/raw16.pdf', '/content/drive/MyDrive/ASX annual reports/2016 (1814 firms)/rrs16.pdf', '/content/drive/MyDrive/ASX annual reports/2016 (1814 firms)/rle16.pdf', '/content/drive/MyDrive/ASX annual reports/2016 (1814 firms)/rmp16.pdf', '/content/drive/MyDrive/ASX annual reports/2016 (1814 firms)/rog16.pdf', '/content/drive/MyDrive/ASX annual reports/2016 (1814 firms)/rgu16.pdf', '/content/drive/MyDrive/ASX annual reports/2016 (1814 firms)/rnu16.pdf', '/content/drive/MyDrive/ASX annual reports/2016 (1814 firms)/res16.pdf', '/content/drive/MyDrive/ASX annual reports/2016 (1814 firms)/rey16.pdf', '/content/drive/MyDrive/ASX annual reports/2016 (1814 firms)/rum16.pdf', '/content/drive/MyDrive/ASX annual reports/2016 (1814 firms)/sgc16.pdf', '/content/drive/MyDrive/ASX annual reports/2016 (1814 firms)/san16.pdf', '/content/drive/MyDrive/ASX annual reports/2016 (1814 firms)/ssn16.pdf', '/content/drive/MyDrive/ASX annual reports/2016 (1814 firms)/sto16.pdf', '/content/drive/MyDrive/ASX annual reports/2016 (1814 firms)/sxy16.pdf', '/content/drive/MyDrive/ASX annual reports/2016 (1814 firms)/skp16.pdf', '/content/drive/MyDrive/ASX annual reports/2016 (1814 firms)/spb16.pdf', '/content/drive/MyDrive/ASX annual reports/2016 (1814 firms)/srt16.pdf', '/content/drive/MyDrive/ASX annual reports/2016 (1814 firms)/seh16.pdf', '/content/drive/MyDrive/ASX annual reports/2016 (1814 firms)/smr16.pdf', '/content/drive/MyDrive/ASX annual reports/2016 (1814 firms)/sxa16.pdf', '/content/drive/MyDrive/ASX annual reports/2016 (1814 firms)/stx16.pdf', '/content/drive/MyDrive/ASX annual reports/2016 (1814 firms)/smm16.pdf', '/content/drive/MyDrive/ASX annual reports/2016 (1814 firms)/sny16.pdf', '/content/drive/MyDrive/ASX annual reports/2016 (1814 firms)/sur16.pdf', '/content/drive/MyDrive/ASX annual reports/2016 (1814 firms)/sea16.pdf', '/content/drive/MyDrive/ASX annual reports/2016 (1814 firms)/swe16.pdf', '/content/drive/MyDrive/ASX annual reports/2016 (1814 firms)/sys16.pdf', '/content/drive/MyDrive/ASX annual reports/2016 (1814 firms)/tpd16.pdf', '/content/drive/MyDrive/ASX annual reports/2016 (1814 firms)/tmk16.pdf', '/content/drive/MyDrive/ASX annual reports/2016 (1814 firms)/tap16.pdf', '/content/drive/MyDrive/ASX annual reports/2016 (1814 firms)/tex16.pdf', '/content/drive/MyDrive/ASX annual reports/2016 (1814 firms)/ter16.pdf', '/content/drive/MyDrive/ASX annual reports/2016 (1814 firms)/ttn16.pdf', '/content/drive/MyDrive/ASX annual reports/2016 (1814 firms)/toe16.pdf', '/content/drive/MyDrive/ASX annual reports/2016 (1814 firms)/tou16.pdf', '/content/drive/MyDrive/ASX annual reports/2016 (1814 firms)/tsv16.pdf', '/content/drive/MyDrive/ASX annual reports/2016 (1814 firms)/teg16.pdf', '/content/drive/MyDrive/ASX annual reports/2016 (1814 firms)/tte16.pdf', '/content/drive/MyDrive/ASX annual reports/2016 (1814 firms)/uil16.pdf', '/content/drive/MyDrive/ASX annual reports/2016 (1814 firms)/tyk16.pdf', '/content/drive/MyDrive/ASX annual reports/2016 (1814 firms)/tnp16.pdf', '/content/drive/MyDrive/ASX annual reports/2016 (1814 firms)/unv16.pdf', '/content/drive/MyDrive/ASX annual reports/2016 (1814 firms)/ueq16.pdf', '/content/drive/MyDrive/ASX annual reports/2016 (1814 firms)/uri16.pdf', '/content/drive/MyDrive/ASX annual reports/2016 (1814 firms)/usa16.pdf', '/content/drive/MyDrive/ASX annual reports/2016 (1814 firms)/vmx16.pdf', '/content/drive/MyDrive/ASX annual reports/2016 (1814 firms)/vmy16.pdf', '/content/drive/MyDrive/ASX annual reports/2016 (1814 firms)/vgr16.pdf', '/content/drive/MyDrive/ASX annual reports/2016 (1814 firms)/sol16.pdf', '/content/drive/MyDrive/ASX annual reports/2016 (1814 firms)/wec16.pdf', '/content/drive/MyDrive/ASX annual reports/2016 (1814 firms)/whn16.pdf', '/content/drive/MyDrive/ASX annual reports/2016 (1814 firms)/wel16.pdf', '/content/drive/MyDrive/ASX annual reports/2016 (1814 firms)/wof16.pdf', '/content/drive/MyDrive/ASX annual reports/2016 (1814 firms)/whc16.pdf', '/content/drive/MyDrive/ASX annual reports/2016 (1814 firms)/wpl16.pdf', '/content/drive/MyDrive/ASX annual reports/2016 (1814 firms)/xst16.pdf', '/content/drive/MyDrive/ASX annual reports/2016 (1814 firms)/wor16.pdf', '/content/drive/MyDrive/ASX annual reports/2016 (1814 firms)/ycn16.pdf', '/content/drive/MyDrive/ASX annual reports/2016 (1814 firms)/zta16.pdf', '/content/drive/MyDrive/ASX annual reports/2016 (1814 firms)/yal16.pdf', '/content/drive/MyDrive/ASX annual reports/2016 (1814 firms)/zel16.pdf', '/content/drive/MyDrive/ASX annual reports/2016 (1814 firms)/zeu16.pdf', '/content/drive/MyDrive/ASX annual reports/2016 (1814 firms)/ddd16.pdf', '/content/drive/MyDrive/ASX annual reports/2016 (1814 firms)/abl16.pdf', '/content/drive/MyDrive/ASX annual reports/2016 (1814 firms)/ayc16.pdf', '/content/drive/MyDrive/ASX annual reports/2016 (1814 firms)/acs16.pdf', '/content/drive/MyDrive/ASX annual reports/2016 (1814 firms)/abu16.pdf', '/content/drive/MyDrive/ASX annual reports/2016 (1814 firms)/aiv16.pdf', '/content/drive/MyDrive/ASX annual reports/2016 (1814 firms)/ady16.pdf', '/content/drive/MyDrive/ASX annual reports/2016 (1814 firms)/aby16.pdf', '/content/drive/MyDrive/ASX annual reports/2016 (1814 firms)/ano16.pdf', '/content/drive/MyDrive/ASX annual reports/2016 (1814 firms)/amn16.pdf', '/content/drive/MyDrive/ASX annual reports/2016 (1814 firms)/aml16.pdf', '/content/drive/MyDrive/ASX annual reports/2016 (1814 firms)/adn16.pdf', '/content/drive/MyDrive/ASX annual reports/2016 (1814 firms)/agr16.pdf', '/content/drive/MyDrive/ASX annual reports/2016 (1814 firms)/aqg16.pdf', '/content/drive/MyDrive/ASX annual reports/2016 (1814 firms)/abc16.pdf', '/content/drive/MyDrive/ASX annual reports/2016 (1814 firms)/ais16.pdf', '/content/drive/MyDrive/ASX annual reports/2016 (1814 firms)/auq16.pdf', '/content/drive/MyDrive/ASX annual reports/2016 (1814 firms)/aly16.pdf', '/content/drive/MyDrive/ASX annual reports/2016 (1814 firms)/ajx16.pdf', '/content/drive/MyDrive/ASX annual reports/2016 (1814 firms)/aqx16.pdf', '/content/drive/MyDrive/ASX annual reports/2016 (1814 firms)/aqi16.pdf', '/content/drive/MyDrive/ASX annual reports/2016 (1814 firms)/alk16.pdf', '/content/drive/MyDrive/ASX annual reports/2016 (1814 firms)/ahq16.pdf', '/content/drive/MyDrive/ASX annual reports/2016 (1814 firms)/ags16.pdf', '/content/drive/MyDrive/ASX annual reports/2016 (1814 firms)/ayr16.pdf', '/content/drive/MyDrive/ASX annual reports/2016 (1814 firms)/ars16.pdf', '/content/drive/MyDrive/ASX annual reports/2016 (1814 firms)/atc16.pdf', '/content/drive/MyDrive/ASX annual reports/2016 (1814 firms)/ame16.pdf', '/content/drive/MyDrive/ASX annual reports/2016 (1814 firms)/aoh16.pdf', '/content/drive/MyDrive/ASX annual reports/2016 (1814 firms)/ajm16.pdf', '/content/drive/MyDrive/ASX annual reports/2016 (1814 firms)/awc16.pdf', '/content/drive/MyDrive/ASX annual reports/2016 (1814 firms)/amc16.pdf', '/content/drive/MyDrive/ASX annual reports/2016 (1814 firms)/axz16.pdf', '/content/drive/MyDrive/ASX annual reports/2016 (1814 firms)/ahr16.pdf', '/content/drive/MyDrive/ASX annual reports/2016 (1814 firms)/atm16.pdf', '/content/drive/MyDrive/ASX annual reports/2016 (1814 firms)/aar16.pdf', '/content/drive/MyDrive/ASX annual reports/2016 (1814 firms)/agg16.pdf', '/content/drive/MyDrive/ASX annual reports/2016 (1814 firms)/awv16.pdf', '/content/drive/MyDrive/ASX annual reports/2016 (1814 firms)/asn16.pdf', '/content/drive/MyDrive/ASX annual reports/2016 (1814 firms)/aww16.pdf', '/content/drive/MyDrive/ASX annual reports/2016 (1814 firms)/azy16.pdf', '/content/drive/MyDrive/ASX annual reports/2016 (1814 firms)/aqq16.pdf', '/content/drive/MyDrive/ASX annual reports/2016 (1814 firms)/aru16.pdf', '/content/drive/MyDrive/ASX annual reports/2016 (1814 firms)/aon16.pdf', '/content/drive/MyDrive/ASX annual reports/2016 (1814 firms)/arx16.pdf', '/content/drive/MyDrive/ASX annual reports/2016 (1814 firms)/axe16.pdf', '/content/drive/MyDrive/ASX annual reports/2016 (1814 firms)/adv16.pdf', '/content/drive/MyDrive/ASX annual reports/2016 (1814 firms)/ard16.pdf', '/content/drive/MyDrive/ASX annual reports/2016 (1814 firms)/axt16.pdf', '/content/drive/MyDrive/ASX annual reports/2016 (1814 firms)/are16.pdf', '/content/drive/MyDrive/ASX annual reports/2016 (1814 firms)/agy16.pdf', '/content/drive/MyDrive/ASX annual reports/2016 (1814 firms)/ahk16.pdf', '/content/drive/MyDrive/ASX annual reports/2016 (1814 firms)/ar116.pdf', '/content/drive/MyDrive/ASX annual reports/2016 (1814 firms)/arv16.pdf', '/content/drive/MyDrive/ASX annual reports/2016 (1814 firms)/aaj16.pdf', '/content/drive/MyDrive/ASX annual reports/2016 (1814 firms)/ajy16.pdf', '/content/drive/MyDrive/ASX annual reports/2016 (1814 firms)/akm16.pdf', '/content/drive/MyDrive/ASX annual reports/2016 (1814 firms)/aro16.pdf', '/content/drive/MyDrive/ASX annual reports/2016 (1814 firms)/atr16.pdf', '/content/drive/MyDrive/ASX annual reports/2016 (1814 firms)/ata16.pdf', '/content/drive/MyDrive/ASX annual reports/2016 (1814 firms)/ahn16.pdf', '/content/drive/MyDrive/ASX annual reports/2016 (1814 firms)/ago16.pdf', '/content/drive/MyDrive/ASX annual reports/2016 (1814 firms)/atu16.pdf', '/content/drive/MyDrive/ASX annual reports/2016 (1814 firms)/aya16.pdf', '/content/drive/MyDrive/ASX annual reports/2016 (1814 firms)/acp16.pdf', '/content/drive/MyDrive/ASX annual reports/2016 (1814 firms)/auk16.pdf', '/content/drive/MyDrive/ASX annual reports/2016 (1814 firms)/ami16.pdf', '/content/drive/MyDrive/ASX annual reports/2016 (1814 firms)/aou16.pdf', '/content/drive/MyDrive/ASX annual reports/2016 (1814 firms)/arm16.pdf', '/content/drive/MyDrive/ASX annual reports/2016 (1814 firms)/anw16.pdf', '/content/drive/MyDrive/ASX annual reports/2016 (1814 firms)/asl16.pdf', '/content/drive/MyDrive/ASX annual reports/2016 (1814 firms)/auc16.pdf', '/content/drive/MyDrive/ASX annual reports/2016 (1814 firms)/aoa16.pdf', '/content/drive/MyDrive/ASX annual reports/2016 (1814 firms)/aqd16.pdf', '/content/drive/MyDrive/ASX annual reports/2016 (1814 firms)/apg16.pdf', '/content/drive/MyDrive/ASX annual reports/2016 (1814 firms)/agd16.pdf', '/content/drive/MyDrive/ASX annual reports/2016 (1814 firms)/auz16.pdf', '/content/drive/MyDrive/ASX annual reports/2016 (1814 firms)/abx16.pdf', '/content/drive/MyDrive/ASX annual reports/2016 (1814 firms)/aym16.pdf', '/content/drive/MyDrive/ASX annual reports/2016 (1814 firms)/avl16.pdf', '/content/drive/MyDrive/ASX annual reports/2016 (1814 firms)/avb16.pdf', '/content/drive/MyDrive/ASX annual reports/2016 (1814 firms)/aev16.pdf', '/content/drive/MyDrive/ASX annual reports/2016 (1814 firms)/avz16.pdf', '/content/drive/MyDrive/ASX annual reports/2016 (1814 firms)/azm16.pdf', '/content/drive/MyDrive/ASX annual reports/2016 (1814 firms)/avi16.pdf', '/content/drive/MyDrive/ASX annual reports/2016 (1814 firms)/aqc16.pdf', '/content/drive/MyDrive/ASX annual reports/2016 (1814 firms)/bmn16.pdf', '/content/drive/MyDrive/ASX annual reports/2016 (1814 firms)/azs16.pdf', '/content/drive/MyDrive/ASX annual reports/2016 (1814 firms)/bsm16.pdf', '/content/drive/MyDrive/ASX annual reports/2016 (1814 firms)/bse16.pdf', '/content/drive/MyDrive/ASX annual reports/2016 (1814 firms)/avq16.pdf', '/content/drive/MyDrive/ASX annual reports/2016 (1814 firms)/bat16.pdf', '/content/drive/MyDrive/ASX annual reports/2016 (1814 firms)/bsr16.pdf', '/content/drive/MyDrive/ASX annual reports/2016 (1814 firms)/bar16.pdf', '/content/drive/MyDrive/ASX annual reports/2016 (1814 firms)/brl16.pdf', '/content/drive/MyDrive/ASX annual reports/2016 (1814 firms)/bau16.pdf', '/content/drive/MyDrive/ASX annual reports/2016 (1814 firms)/bbx16.pdf', '/content/drive/MyDrive/ASX annual reports/2016 (1814 firms)/bgd16.pdf', '/content/drive/MyDrive/ASX annual reports/2016 (1814 firms)/bcn16.pdf', '/content/drive/MyDrive/ASX annual reports/2016 (1814 firms)/bdr16.pdf', '/content/drive/MyDrive/ASX annual reports/2016 (1814 firms)/bci16.pdf', '/content/drive/MyDrive/ASX annual reports/2016 (1814 firms)/bgs16.pdf', '/content/drive/MyDrive/ASX annual reports/2016 (1814 firms)/bhp16.pdf', '/content/drive/MyDrive/ASX annual reports/2016 (1814 firms)/bmz16.pdf', '/content/drive/MyDrive/ASX annual reports/2016 (1814 firms)/bis16.pdf', '/content/drive/MyDrive/ASX annual reports/2016 (1814 firms)/bgh16.pdf', '/content/drive/MyDrive/ASX annual reports/2016 (1814 firms)/brd16.pdf', '/content/drive/MyDrive/ASX annual reports/2016 (1814 firms)/blk16.pdf', '/content/drive/MyDrive/ASX annual reports/2016 (1814 firms)/bdi16.pdf', '/content/drive/MyDrive/ASX annual reports/2016 (1814 firms)/bkt16.pdf', '/content/drive/MyDrive/ASX annual reports/2016 (1814 firms)/bmg16.pdf', '/content/drive/MyDrive/ASX annual reports/2016 (1814 firms)/bbr16.pdf', '/content/drive/MyDrive/ASX annual reports/2016 (1814 firms)/bly16.pdf', '/content/drive/MyDrive/ASX annual reports/2016 (1814 firms)/bsl16.pdf', '/content/drive/MyDrive/ASX annual reports/2016 (1814 firms)/boa16.pdf', '/content/drive/MyDrive/ASX annual reports/2016 (1814 firms)/bld16.pdf', '/content/drive/MyDrive/ASX annual reports/2016 (1814 firms)/boe16.pdf', '/content/drive/MyDrive/ASX annual reports/2016 (1814 firms)/boc16.pdf', '/content/drive/MyDrive/ASX annual reports/2016 (1814 firms)/bkw16.pdf', '/content/drive/MyDrive/ASX annual reports/2016 (1814 firms)/bml16.pdf', '/content/drive/MyDrive/ASX annual reports/2016 (1814 firms)/brb16.pdf', '/content/drive/MyDrive/ASX annual reports/2016 (1814 firms)/bck16.pdf', '/content/drive/MyDrive/ASX annual reports/2016 (1814 firms)/bpl16.pdf', '/content/drive/MyDrive/ASX annual reports/2016 (1814 firms)/bnr16.pdf', '/content/drive/MyDrive/ASX annual reports/2016 (1814 firms)/byr16.pdf', '/content/drive/MyDrive/ASX annual reports/2016 (1814 firms)/bua16.pdf', '/content/drive/MyDrive/ASX annual reports/2016 (1814 firms)/bux16.pdf', '/content/drive/MyDrive/ASX annual reports/2016 (1814 firms)/cbs16.pdf', '/content/drive/MyDrive/ASX annual reports/2016 (1814 firms)/cad16.pdf', '/content/drive/MyDrive/ASX annual reports/2016 (1814 firms)/cae16.pdf', '/content/drive/MyDrive/ASX annual reports/2016 (1814 firms)/cmy16.pdf', '/content/drive/MyDrive/ASX annual reports/2016 (1814 firms)/cfe16.pdf', '/content/drive/MyDrive/ASX annual reports/2016 (1814 firms)/cvv16.pdf', '/content/drive/MyDrive/ASX annual reports/2016 (1814 firms)/cay16.pdf', '/content/drive/MyDrive/ASX annual reports/2016 (1814 firms)/caa16.pdf', '/content/drive/MyDrive/ASX annual reports/2016 (1814 firms)/cmm16.pdf', '/content/drive/MyDrive/ASX annual reports/2016 (1814 firms)/crm16.pdf', '/content/drive/MyDrive/ASX annual reports/2016 (1814 firms)/cnq16.pdf', '/content/drive/MyDrive/ASX annual reports/2016 (1814 firms)/crb16.pdf', '/content/drive/MyDrive/ASX annual reports/2016 (1814 firms)/ccz16.pdf', '/content/drive/MyDrive/ASX annual reports/2016 (1814 firms)/cap16.pdf', '/content/drive/MyDrive/ASX annual reports/2016 (1814 firms)/cav16.pdf', '/content/drive/MyDrive/ASX annual reports/2016 (1814 firms)/cdv16.pdf', '/content/drive/MyDrive/ASX annual reports/2016 (1814 firms)/cdt16.pdf', '/content/drive/MyDrive/ASX annual reports/2016 (1814 firms)/cnl16.pdf', '/content/drive/MyDrive/ASX annual reports/2016 (1814 firms)/czi16.pdf', '/content/drive/MyDrive/ASX annual reports/2016 (1814 firms)/cla16.pdf', '/content/drive/MyDrive/ASX annual reports/2016 (1814 firms)/cyl16.pdf', '/content/drive/MyDrive/ASX annual reports/2016 (1814 firms)/cvs16.pdf', '/content/drive/MyDrive/ASX annual reports/2016 (1814 firms)/ctm16.pdf', '/content/drive/MyDrive/ASX annual reports/2016 (1814 firms)/caz16.pdf', '/content/drive/MyDrive/ASX annual reports/2016 (1814 firms)/cia16.pdf', '/content/drive/MyDrive/ASX annual reports/2016 (1814 firms)/chn16.pdf', '/content/drive/MyDrive/ASX annual reports/2016 (1814 firms)/cmc16.pdf', '/content/drive/MyDrive/ASX annual reports/2016 (1814 firms)/cyu16.pdf', '/content/drive/MyDrive/ASX annual reports/2016 (1814 firms)/chz16.pdf', '/content/drive/MyDrive/ASX annual reports/2016 (1814 firms)/cdh16.pdf', '/content/drive/MyDrive/ASX annual reports/2016 (1814 firms)/cxm16.pdf', '/content/drive/MyDrive/ASX annual reports/2016 (1814 firms)/cly16.pdf', '/content/drive/MyDrive/ASX annual reports/2016 (1814 firms)/cto16.pdf', '/content/drive/MyDrive/ASX annual reports/2016 (1814 firms)/chk16.pdf', '/content/drive/MyDrive/ASX annual reports/2016 (1814 firms)/clz16.pdf', '/content/drive/MyDrive/ASX annual reports/2016 (1814 firms)/cka16.pdf', '/content/drive/MyDrive/ASX annual reports/2016 (1814 firms)/clv16.pdf', '/content/drive/MyDrive/ASX annual reports/2016 (1814 firms)/crl16.pdf', '/content/drive/MyDrive/ASX annual reports/2016 (1814 firms)/cvg16.pdf', '/content/drive/MyDrive/ASX annual reports/2016 (1814 firms)/cse16.pdf', '/content/drive/MyDrive/ASX annual reports/2016 (1814 firms)/cnj16.pdf', '/content/drive/MyDrive/ASX annual reports/2016 (1814 firms)/czl16.pdf', '/content/drive/MyDrive/ASX annual reports/2016 (1814 firms)/csd16.pdf', '/content/drive/MyDrive/ASX annual reports/2016 (1814 firms)/coy16.pdf', '/content/drive/MyDrive/ASX annual reports/2016 (1814 firms)/czn16.pdf', '/content/drive/MyDrive/ASX annual reports/2016 (1814 firms)/cgm16.pdf', '/content/drive/MyDrive/ASX annual reports/2016 (1814 firms)/cvt16.pdf', '/content/drive/MyDrive/ASX annual reports/2016 (1814 firms)/cve16.pdf', '/content/drive/MyDrive/ASX annual reports/2016 (1814 firms)/cyy16.pdf', '/content/drive/MyDrive/ASX annual reports/2016 (1814 firms)/cxo16.pdf', '/content/drive/MyDrive/ASX annual reports/2016 (1814 firms)/czr16.pdf', '/content/drive/MyDrive/ASX annual reports/2016 (1814 firms)/cxx16.pdf', '/content/drive/MyDrive/ASX annual reports/2016 (1814 firms)/cux16.pdf', '/content/drive/MyDrive/ASX annual reports/2016 (1814 firms)/cgn16.pdf', '/content/drive/MyDrive/ASX annual reports/2016 (1814 firms)/cas16.pdf', '/content/drive/MyDrive/ASX annual reports/2016 (1814 firms)/csr16.pdf', '/content/drive/MyDrive/ASX annual reports/2016 (1814 firms)/cdu16.pdf', '/content/drive/MyDrive/ASX annual reports/2016 (1814 firms)/cul16.pdf', '/content/drive/MyDrive/ASX annual reports/2016 (1814 firms)/dcn16.pdf', '/content/drive/MyDrive/ASX annual reports/2016 (1814 firms)/dko16.pdf', '/content/drive/MyDrive/ASX annual reports/2016 (1814 firms)/dau16.pdf', '/content/drive/MyDrive/ASX annual reports/2016 (1814 firms)/dnk16.pdf', '/content/drive/MyDrive/ASX annual reports/2016 (1814 firms)/dhr16.pdf', '/content/drive/MyDrive/ASX annual reports/2016 (1814 firms)/dtm16.pdf', '/content/drive/MyDrive/ASX annual reports/2016 (1814 firms)/dtr16.pdf', '/content/drive/MyDrive/ASX annual reports/2016 (1814 firms)/dsb16.pdf', '/content/drive/MyDrive/ASX annual reports/2016 (1814 firms)/deg16.pdf', '/content/drive/MyDrive/ASX annual reports/2016 (1814 firms)/dmi16.pdf', '/content/drive/MyDrive/ASX annual reports/2016 (1814 firms)/dgo16.pdf', '/content/drive/MyDrive/ASX annual reports/2016 (1814 firms)/dgr16.pdf', '/content/drive/MyDrive/ASX annual reports/2016 (1814 firms)/daf16.pdf', '/content/drive/MyDrive/ASX annual reports/2016 (1814 firms)/dme16.pdf', '/content/drive/MyDrive/ASX annual reports/2016 (1814 firms)/drx16.pdf', '/content/drive/MyDrive/ASX annual reports/2016 (1814 firms)/dra16.pdf', '/content/drive/MyDrive/ASX annual reports/2016 (1814 firms)/dmg16.pdf', '/content/drive/MyDrive/ASX annual reports/2016 (1814 firms)/drm16.pdf', '/content/drive/MyDrive/ASX annual reports/2016 (1814 firms)/drg16.pdf', '/content/drive/MyDrive/ASX annual reports/2016 (1814 firms)/dle16.pdf', '/content/drive/MyDrive/ASX annual reports/2016 (1814 firms)/drk16.pdf', '/content/drive/MyDrive/ASX annual reports/2016 (1814 firms)/dkm16.pdf', '/content/drive/MyDrive/ASX annual reports/2016 (1814 firms)/dlx16.pdf', '/content/drive/MyDrive/ASX annual reports/2016 (1814 firms)/dma16.pdf', '/content/drive/MyDrive/ASX annual reports/2016 (1814 firms)/enl16.pdf', '/content/drive/MyDrive/ASX annual reports/2016 (1814 firms)/egs16.pdf', '/content/drive/MyDrive/ASX annual reports/2016 (1814 firms)/efe16.pdf', '/content/drive/MyDrive/ASX annual reports/2016 (1814 firms)/elt16.pdf', '/content/drive/MyDrive/ASX annual reports/2016 (1814 firms)/ear16.pdf', '/content/drive/MyDrive/ASX annual reports/2016 (1814 firms)/eym16.pdf', '/content/drive/MyDrive/ASX annual reports/2016 (1814 firms)/emr16.pdf', '/content/drive/MyDrive/ASX annual reports/2016 (1814 firms)/emg16.pdf', '/content/drive/MyDrive/ASX annual reports/2016 (1814 firms)/erm16.pdf', '/content/drive/MyDrive/ASX annual reports/2016 (1814 firms)/erx16.pdf', '/content/drive/MyDrive/ASX annual reports/2016 (1814 firms)/erl16.pdf', '/content/drive/MyDrive/ASX annual reports/2016 (1814 firms)/emu16.pdf', '/content/drive/MyDrive/ASX annual reports/2016 (1814 firms)/enx16.pdf', '/content/drive/MyDrive/ASX annual reports/2016 (1814 firms)/ent16.pdf', '/content/drive/MyDrive/ASX annual reports/2016 (1814 firms)/equ16.pdf', '/content/drive/MyDrive/ASX annual reports/2016 (1814 firms)/enr16.pdf', '/content/drive/MyDrive/ASX annual reports/2016 (1814 firms)/eqe16.pdf', '/content/drive/MyDrive/ASX annual reports/2016 (1814 firms)/esr16.pdf', '/content/drive/MyDrive/ASX annual reports/2016 (1814 firms)/esm16.pdf', '/content/drive/MyDrive/ASX annual reports/2016 (1814 firms)/eum16.pdf', '/content/drive/MyDrive/ASX annual reports/2016 (1814 firms)/emh16.pdf', '/content/drive/MyDrive/ASX annual reports/2016 (1814 firms)/exu16.pdf', '/content/drive/MyDrive/ASX annual reports/2016 (1814 firms)/exg16.pdf', '/content/drive/MyDrive/ASX annual reports/2016 (1814 firms)/exm16.pdf', '/content/drive/MyDrive/ASX annual reports/2016 (1814 firms)/evn16.pdf', '/content/drive/MyDrive/ASX annual reports/2016 (1814 firms)/exc16.pdf', '/content/drive/MyDrive/ASX annual reports/2016 (1814 firms)/fel16.pdf', '/content/drive/MyDrive/ASX annual reports/2016 (1814 firms)/fcn16.pdf', '/content/drive/MyDrive/ASX annual reports/2016 (1814 firms)/fcr16.pdf', '/content/drive/MyDrive/ASX annual reports/2016 (1814 firms)/ftz16.pdf', '/content/drive/MyDrive/ASX annual reports/2016 (1814 firms)/fnd16.pdf', '/content/drive/MyDrive/ASX annual reports/2016 (1814 firms)/fgr16.pdf', '/content/drive/MyDrive/ASX annual reports/2016 (1814 firms)/fxl16.pdf', '/content/drive/MyDrive/ASX annual reports/2016 (1814 firms)/fms16.pdf', '/content/drive/MyDrive/ASX annual reports/2016 (1814 firms)/fbu16.pdf', '/content/drive/MyDrive/ASX annual reports/2016 (1814 firms)/fml16.pdf', '/content/drive/MyDrive/ASX annual reports/2016 (1814 firms)/frc16.pdf', '/content/drive/MyDrive/ASX annual reports/2016 (1814 firms)/foy16.pdf', '/content/drive/MyDrive/ASX annual reports/2016 (1814 firms)/frn16.pdf', '/content/drive/MyDrive/ASX annual reports/2016 (1814 firms)/fyi16.pdf', '/content/drive/MyDrive/ASX annual reports/2016 (1814 firms)/fmg16.pdf', '/content/drive/MyDrive/ASX annual reports/2016 (1814 firms)/fnt16.pdf', '/content/drive/MyDrive/ASX annual reports/2016 (1814 firms)/gml16.pdf', '/content/drive/MyDrive/ASX annual reports/2016 (1814 firms)/gcy16.pdf', '/content/drive/MyDrive/ASX annual reports/2016 (1814 firms)/gbm16.pdf', '/content/drive/MyDrive/ASX annual reports/2016 (1814 firms)/gxy16.pdf', '/content/drive/MyDrive/ASX annual reports/2016 (1814 firms)/gmd16.pdf', '/content/drive/MyDrive/ASX annual reports/2016 (1814 firms)/gla16.pdf', '/content/drive/MyDrive/ASX annual reports/2016 (1814 firms)/ges16.pdf', '/content/drive/MyDrive/ASX annual reports/2016 (1814 firms)/gln16.pdf', '/content/drive/MyDrive/ASX annual reports/2016 (1814 firms)/gpr16.pdf', '/content/drive/MyDrive/ASX annual reports/2016 (1814 firms)/gbz16.pdf', '/content/drive/MyDrive/ASX annual reports/2016 (1814 firms)/gxn16.pdf', '/content/drive/MyDrive/ASX annual reports/2016 (1814 firms)/gsc16.pdf', '/content/drive/MyDrive/ASX annual reports/2016 (1814 firms)/gbe16.pdf', '/content/drive/MyDrive/ASX annual reports/2016 (1814 firms)/gbg16.pdf', '/content/drive/MyDrive/ASX annual reports/2016 (1814 firms)/gmn16.pdf', '/content/drive/MyDrive/ASX annual reports/2016 (1814 firms)/gme16.pdf', '/content/drive/MyDrive/ASX annual reports/2016 (1814 firms)/ged16.pdf', '/content/drive/MyDrive/ASX annual reports/2016 (1814 firms)/gcr16.pdf', '/content/drive/MyDrive/ASX annual reports/2016 (1814 firms)/gmr16.pdf', '/content/drive/MyDrive/ASX annual reports/2016 (1814 firms)/gse16.pdf', '/content/drive/MyDrive/ASX annual reports/2016 (1814 firms)/gph16.pdf', '/content/drive/MyDrive/ASX annual reports/2016 (1814 firms)/gor16.pdf', '/content/drive/MyDrive/ASX annual reports/2016 (1814 firms)/gda16.pdf', '/content/drive/MyDrive/ASX annual reports/2016 (1814 firms)/grr16.pdf', '/content/drive/MyDrive/ASX annual reports/2016 (1814 firms)/gra16.pdf', '/content/drive/MyDrive/ASX annual reports/2016 (1814 firms)/gte16.pdf', '/content/drive/MyDrive/ASX annual reports/2016 (1814 firms)/gng16.pdf', '/content/drive/MyDrive/ASX annual reports/2016 (1814 firms)/gpp16.pdf', '/content/drive/MyDrive/ASX annual reports/2016 (1814 firms)/glf16.pdf', '/content/drive/MyDrive/ASX annual reports/2016 (1814 firms)/gry16.pdf', '/content/drive/MyDrive/ASX annual reports/2016 (1814 firms)/gmc16.pdf', '/content/drive/MyDrive/ASX annual reports/2016 (1814 firms)/gtr16.pdf', '/content/drive/MyDrive/ASX annual reports/2016 (1814 firms)/ggg16.pdf', '/content/drive/MyDrive/ASX annual reports/2016 (1814 firms)/gul16.pdf', '/content/drive/MyDrive/ASX annual reports/2016 (1814 firms)/hhm16.pdf', '/content/drive/MyDrive/ASX annual reports/2016 (1814 firms)/hmx16.pdf', '/content/drive/MyDrive/ASX annual reports/2016 (1814 firms)/har16.pdf', '/content/drive/MyDrive/ASX annual reports/2016 (1814 firms)/gwr16.pdf', '/content/drive/MyDrive/ASX annual reports/2016 (1814 firms)/hnr16.pdf', '/content/drive/MyDrive/ASX annual reports/2016 (1814 firms)/hao16.pdf', '/content/drive/MyDrive/ASX annual reports/2016 (1814 firms)/hav16.pdf', '/content/drive/MyDrive/ASX annual reports/2016 (1814 firms)/hzr16.pdf', '/content/drive/MyDrive/ASX annual reports/2016 (1814 firms)/has16.pdf', '/content/drive/MyDrive/ASX annual reports/2016 (1814 firms)/haw16.pdf', '/content/drive/MyDrive/ASX annual reports/2016 (1814 firms)/hsk16.pdf', '/content/drive/MyDrive/ASX annual reports/2016 (1814 firms)/hlx16.pdf', '/content/drive/MyDrive/ASX annual reports/2016 (1814 firms)/hxg16.pdf', '/content/drive/MyDrive/ASX annual reports/2016 (1814 firms)/hig16.pdf', '/content/drive/MyDrive/ASX annual reports/2016 (1814 firms)/heg16.pdf', '/content/drive/MyDrive/ASX annual reports/2016 (1814 firms)/hor16.pdf', '/content/drive/MyDrive/ASX annual reports/2016 (1814 firms)/hrr16.pdf', '/content/drive/MyDrive/ASX annual reports/2016 (1814 firms)/hgo16.pdf', '/content/drive/MyDrive/ASX annual reports/2016 (1814 firms)/hdx16.pdf', '/content/drive/MyDrive/ASX annual reports/2016 (1814 firms)/hfr16.pdf', '/content/drive/MyDrive/ASX annual reports/2016 (1814 firms)/ilu16.pdf', '/content/drive/MyDrive/ASX annual reports/2016 (1814 firms)/imd16.pdf', '/content/drive/MyDrive/ASX annual reports/2016 (1814 firms)/ima16.pdf', '/content/drive/MyDrive/ASX annual reports/2016 (1814 firms)/hch16.pdf', '/content/drive/MyDrive/ASX annual reports/2016 (1814 firms)/icg16.pdf', '/content/drive/MyDrive/ASX annual reports/2016 (1814 firms)/ipl16.pdf', '/content/drive/MyDrive/ASX annual reports/2016 (1814 firms)/ipt16.pdf', '/content/drive/MyDrive/ASX annual reports/2016 (1814 firms)/irl16.pdf', '/content/drive/MyDrive/ASX annual reports/2016 (1814 firms)/igo16.pdf', '/content/drive/MyDrive/ASX annual reports/2016 (1814 firms)/ida16.pdf', '/content/drive/MyDrive/ASX annual reports/2016 (1814 firms)/ido16.pdf', '/content/drive/MyDrive/ASX annual reports/2016 (1814 firms)/idc16.pdf', '/content/drive/MyDrive/ASX annual reports/2016 (1814 firms)/inl16.pdf', '/content/drive/MyDrive/ASX annual reports/2016 (1814 firms)/irc16.pdf', '/content/drive/MyDrive/ASX annual reports/2016 (1814 firms)/iau16.pdf', '/content/drive/MyDrive/ASX annual reports/2016 (1814 firms)/irm16.pdf', '/content/drive/MyDrive/ASX annual reports/2016 (1814 firms)/ird16.pdf', '/content/drive/MyDrive/ASX annual reports/2016 (1814 firms)/ibg16.pdf', '/content/drive/MyDrive/ASX annual reports/2016 (1814 firms)/ish16.pdf', '/content/drive/MyDrive/ASX annual reports/2016 (1814 firms)/jhx16.pdf', '/content/drive/MyDrive/ASX annual reports/2016 (1814 firms)/jal16.pdf', '/content/drive/MyDrive/ASX annual reports/2016 (1814 firms)/jrl16.pdf', '/content/drive/MyDrive/ASX annual reports/2016 (1814 firms)/kgm16.pdf', '/content/drive/MyDrive/ASX annual reports/2016 (1814 firms)/kpt16.pdf', '/content/drive/MyDrive/ASX annual reports/2016 (1814 firms)/jrv16.pdf', '/content/drive/MyDrive/ASX annual reports/2016 (1814 firms)/kas16.pdf', '/content/drive/MyDrive/ASX annual reports/2016 (1814 firms)/kai16.pdf', '/content/drive/MyDrive/ASX annual reports/2016 (1814 firms)/kpc16.pdf', '/content/drive/MyDrive/ASX annual reports/2016 (1814 firms)/kgl16.pdf', '/content/drive/MyDrive/ASX annual reports/2016 (1814 firms)/knl16.pdf', '/content/drive/MyDrive/ASX annual reports/2016 (1814 firms)/kdr16.pdf', '/content/drive/MyDrive/ASX annual reports/2016 (1814 firms)/kin16.pdf', '/content/drive/MyDrive/ASX annual reports/2016 (1814 firms)/kdl16.pdf', '/content/drive/MyDrive/ASX annual reports/2016 (1814 firms)/kis16.pdf', '/content/drive/MyDrive/ASX annual reports/2016 (1814 firms)/krc16.pdf', '/content/drive/MyDrive/ASX annual reports/2016 (1814 firms)/kcn16.pdf', '/content/drive/MyDrive/ASX annual reports/2016 (1814 firms)/krm16.pdf', '/content/drive/MyDrive/ASX annual reports/2016 (1814 firms)/kor16.pdf', '/content/drive/MyDrive/ASX annual reports/2016 (1814 firms)/ksn16.pdf', '/content/drive/MyDrive/ASX annual reports/2016 (1814 firms)/k2p16.pdf', '/content/drive/MyDrive/ASX annual reports/2016 (1814 firms)/kta16.pdf', '/content/drive/MyDrive/ASX annual reports/2016 (1814 firms)/kgd16.pdf', '/content/drive/MyDrive/ASX annual reports/2016 (1814 firms)/lcr16.pdf', '/content/drive/MyDrive/ASX annual reports/2016 (1814 firms)/lke16.pdf', '/content/drive/MyDrive/ASX annual reports/2016 (1814 firms)/lny16.pdf', '/content/drive/MyDrive/ASX annual reports/2016 (1814 firms)/lgr16.pdf', '/content/drive/MyDrive/ASX annual reports/2016 (1814 firms)/lmg16.pdf', '/content/drive/MyDrive/ASX annual reports/2016 (1814 firms)/lrs16.pdf', '/content/drive/MyDrive/ASX annual reports/2016 (1814 firms)/lcd16.pdf', '/content/drive/MyDrive/ASX annual reports/2016 (1814 firms)/lsn16.pdf', '/content/drive/MyDrive/ASX annual reports/2016 (1814 firms)/ler16.pdf', '/content/drive/MyDrive/ASX annual reports/2016 (1814 firms)/lcy16.pdf', '/content/drive/MyDrive/ASX annual reports/2016 (1814 firms)/leg16.pdf', '/content/drive/MyDrive/ASX annual reports/2016 (1814 firms)/lrl16.pdf', '/content/drive/MyDrive/ASX annual reports/2016 (1814 firms)/lml16.pdf', '/content/drive/MyDrive/ASX annual reports/2016 (1814 firms)/lin16.pdf', '/content/drive/MyDrive/ASX annual reports/2016 (1814 firms)/llo16.pdf', '/content/drive/MyDrive/ASX annual reports/2016 (1814 firms)/ltr16.pdf', '/content/drive/MyDrive/ASX annual reports/2016 (1814 firms)/ltx16.pdf', '/content/drive/MyDrive/ASX annual reports/2016 (1814 firms)/lcg16.pdf', '/content/drive/MyDrive/ASX annual reports/2016 (1814 firms)/lit16.pdf', '/content/drive/MyDrive/ASX annual reports/2016 (1814 firms)/lsr16.pdf', '/content/drive/MyDrive/ASX annual reports/2016 (1814 firms)/lom16.pdf', '/content/drive/MyDrive/ASX annual reports/2016 (1814 firms)/lgm16.pdf', '/content/drive/MyDrive/ASX annual reports/2016 (1814 firms)/lyc16.pdf', '/content/drive/MyDrive/ASX annual reports/2016 (1814 firms)/mgu16.pdf', '/content/drive/MyDrive/ASX annual reports/2016 (1814 firms)/mdd16.pdf', '/content/drive/MyDrive/ASX annual reports/2016 (1814 firms)/mah16.pdf', '/content/drive/MyDrive/ASX annual reports/2016 (1814 firms)/mld16.pdf', '/content/drive/MyDrive/ASX annual reports/2016 (1814 firms)/mrp16.pdf', '/content/drive/MyDrive/ASX annual reports/2016 (1814 firms)/msr16.pdf', '/content/drive/MyDrive/ASX annual reports/2016 (1814 firms)/mgl16.pdf', '/content/drive/MyDrive/ASX annual reports/2016 (1814 firms)/mar16.pdf', '/content/drive/MyDrive/ASX annual reports/2016 (1814 firms)/med16.pdf', '/content/drive/MyDrive/ASX annual reports/2016 (1814 firms)/mns16.pdf', '/content/drive/MyDrive/ASX annual reports/2016 (1814 firms)/mau16.pdf', '/content/drive/MyDrive/ASX annual reports/2016 (1814 firms)/mzn16.pdf', '/content/drive/MyDrive/ASX annual reports/2016 (1814 firms)/mnm16.pdf', '/content/drive/MyDrive/ASX annual reports/2016 (1814 firms)/mne16.pdf', '/content/drive/MyDrive/ASX annual reports/2016 (1814 firms)/mls16.pdf', '/content/drive/MyDrive/ASX annual reports/2016 (1814 firms)/mgt16.pdf', '/content/drive/MyDrive/ASX annual reports/2016 (1814 firms)/mbk16.pdf', '/content/drive/MyDrive/ASX annual reports/2016 (1814 firms)/mxr16.pdf', '/content/drive/MyDrive/ASX annual reports/2016 (1814 firms)/mml16.pdf', '/content/drive/MyDrive/ASX annual reports/2016 (1814 firms)/mhm16.pdf', '/content/drive/MyDrive/ASX annual reports/2016 (1814 firms)/mlm16.pdf', '/content/drive/MyDrive/ASX annual reports/2016 (1814 firms)/mgs16.pdf', '/content/drive/MyDrive/ASX annual reports/2016 (1814 firms)/mnc16.pdf', '/content/drive/MyDrive/ASX annual reports/2016 (1814 firms)/mnb16.pdf', '/content/drive/MyDrive/ASX annual reports/2016 (1814 firms)/mct16.pdf', '/content/drive/MyDrive/ASX annual reports/2016 (1814 firms)/mat16.pdf', '/content/drive/MyDrive/ASX annual reports/2016 (1814 firms)/mdx16.pdf', '/content/drive/MyDrive/ASX annual reports/2016 (1814 firms)/mei16.pdf', '/content/drive/MyDrive/ASX annual reports/2016 (1814 firms)/mdi16.pdf', '/content/drive/MyDrive/ASX annual reports/2016 (1814 firms)/mrc16.pdf', '/content/drive/MyDrive/ASX annual reports/2016 (1814 firms)/mko16.pdf', '/content/drive/MyDrive/ASX annual reports/2016 (1814 firms)/mye16.pdf', '/content/drive/MyDrive/ASX annual reports/2016 (1814 firms)/mlx16.pdf', '/content/drive/MyDrive/ASX annual reports/2016 (1814 firms)/mth16.pdf', '/content/drive/MyDrive/ASX annual reports/2016 (1814 firms)/mnq16.pdf', '/content/drive/MyDrive/ASX annual reports/2016 (1814 firms)/mdl16.pdf', '/content/drive/MyDrive/ASX annual reports/2016 (1814 firms)/mol16.pdf', '/content/drive/MyDrive/ASX annual reports/2016 (1814 firms)/mli16.pdf', '/content/drive/MyDrive/ASX annual reports/2016 (1814 firms)/mep16.pdf', '/content/drive/MyDrive/ASX annual reports/2016 (1814 firms)/mrr16.pdf', '/content/drive/MyDrive/ASX annual reports/2016 (1814 firms)/mum16.pdf', '/content/drive/MyDrive/ASX annual reports/2016 (1814 firms)/mtb16.pdf', '/content/drive/MyDrive/ASX annual reports/2016 (1814 firms)/min16.pdf', '/content/drive/MyDrive/ASX annual reports/2016 (1814 firms)/mcr16.pdf', '/content/drive/MyDrive/ASX annual reports/2016 (1814 firms)/mmg16.pdf', '/content/drive/MyDrive/ASX annual reports/2016 (1814 firms)/mrq16.pdf', '/content/drive/MyDrive/ASX annual reports/2016 (1814 firms)/msv16.pdf', '/content/drive/MyDrive/ASX annual reports/2016 (1814 firms)/mmi16.pdf', '/content/drive/MyDrive/ASX annual reports/2016 (1814 firms)/mgx16.pdf', '/content/drive/MyDrive/ASX annual reports/2016 (1814 firms)/mgv16.pdf', '/content/drive/MyDrive/ASX annual reports/2016 (1814 firms)/mzm16.pdf', '/content/drive/MyDrive/ASX annual reports/2016 (1814 firms)/nav16.pdf', '/content/drive/MyDrive/ASX annual reports/2016 (1814 firms)/mrd16.pdf', '/content/drive/MyDrive/ASX annual reports/2016 (1814 firms)/mzi16.pdf', '/content/drive/MyDrive/ASX annual reports/2016 (1814 firms)/nco16.pdf', '/content/drive/MyDrive/ASX annual reports/2016 (1814 firms)/mus16.pdf', '/content/drive/MyDrive/ASX annual reports/2016 (1814 firms)/nxr16.pdf', '/content/drive/MyDrive/ASX annual reports/2016 (1814 firms)/nml16.pdf', '/content/drive/MyDrive/ASX annual reports/2016 (1814 firms)/nvi16.pdf', '/content/drive/MyDrive/ASX annual reports/2016 (1814 firms)/ntl16.pdf', '/content/drive/MyDrive/ASX annual reports/2016 (1814 firms)/mod16.pdf', '/content/drive/MyDrive/ASX annual reports/2016 (1814 firms)/niu16.pdf', '/content/drive/MyDrive/ASX annual reports/2016 (1814 firms)/nkp16.pdf', '/content/drive/MyDrive/ASX annual reports/2016 (1814 firms)/moy16.pdf', '/content/drive/MyDrive/ASX annual reports/2016 (1814 firms)/nmt16.pdf', '/content/drive/MyDrive/ASX annual reports/2016 (1814 firms)/nag16.pdf', '/content/drive/MyDrive/ASX annual reports/2016 (1814 firms)/nio16.pdf', '/content/drive/MyDrive/ASX annual reports/2016 (1814 firms)/nmg16.pdf', '/content/drive/MyDrive/ASX annual reports/2016 (1814 firms)/ncm16.pdf', '/content/drive/MyDrive/ASX annual reports/2016 (1814 firms)/mox16.pdf', '/content/drive/MyDrive/ASX annual reports/2016 (1814 firms)/ntm16.pdf', '/content/drive/MyDrive/ASX annual reports/2016 (1814 firms)/ncr16.pdf', '/content/drive/MyDrive/ASX annual reports/2016 (1814 firms)/nxm16.pdf', '/content/drive/MyDrive/ASX annual reports/2016 (1814 firms)/nyo16.pdf', '/content/drive/MyDrive/ASX annual reports/2016 (1814 firms)/nmm16.pdf', '/content/drive/MyDrive/ASX annual reports/2016 (1814 firms)/oar16.pdf', '/content/drive/MyDrive/ASX annual reports/2016 (1814 firms)/nmi16.pdf', '/content/drive/MyDrive/ASX annual reports/2016 (1814 firms)/okj16.pdf', '/content/drive/MyDrive/ASX annual reports/2016 (1814 firms)/ntu16.pdf', '/content/drive/MyDrive/ASX annual reports/2016 (1814 firms)/ook16.pdf', '/content/drive/MyDrive/ASX annual reports/2016 (1814 firms)/nsl16.pdf', '/content/drive/MyDrive/ASX annual reports/2016 (1814 firms)/nst16.pdf', '/content/drive/MyDrive/ASX annual reports/2016 (1814 firms)/nwf16.pdf', '/content/drive/MyDrive/ASX annual reports/2016 (1814 firms)/nme16.pdf', '/content/drive/MyDrive/ASX annual reports/2016 (1814 firms)/omh16.pdf', '/content/drive/MyDrive/ASX annual reports/2016 (1814 firms)/ogx16.pdf', '/content/drive/MyDrive/ASX annual reports/2016 (1814 firms)/nuf16.pdf', '/content/drive/MyDrive/ASX annual reports/2016 (1814 firms)/ovl16.pdf', '/content/drive/MyDrive/ASX annual reports/2016 (1814 firms)/ovr16.pdf', '/content/drive/MyDrive/ASX annual reports/2016 (1814 firms)/orm16.pdf', '/content/drive/MyDrive/ASX annual reports/2016 (1814 firms)/orx16.pdf', '/content/drive/MyDrive/ASX annual reports/2016 (1814 firms)/ore16.pdf', '/content/drive/MyDrive/ASX annual reports/2016 (1814 firms)/orr16.pdf', '/content/drive/MyDrive/ASX annual reports/2016 (1814 firms)/oku16.pdf', '/content/drive/MyDrive/ASX annual reports/2016 (1814 firms)/orn16.pdf', '/content/drive/MyDrive/ASX annual reports/2016 (1814 firms)/ora16.pdf', '/content/drive/MyDrive/ASX annual reports/2016 (1814 firms)/ori16.pdf', '/content/drive/MyDrive/ASX annual reports/2016 (1814 firms)/ogc16.pdf', '/content/drive/MyDrive/ASX annual reports/2016 (1814 firms)/ozl16.pdf', '/content/drive/MyDrive/ASX annual reports/2016 (1814 firms)/pak16.pdf', '/content/drive/MyDrive/ASX annual reports/2016 (1814 firms)/psf16.pdf', '/content/drive/MyDrive/ASX annual reports/2016 (1814 firms)/pmy16.pdf', '/content/drive/MyDrive/ASX annual reports/2016 (1814 firms)/pdy.pdf', '/content/drive/MyDrive/ASX annual reports/2016 (1814 firms)/pdm16.pdf', '/content/drive/MyDrive/ASX annual reports/2016 (1814 firms)/ppy16.pdf', '/content/drive/MyDrive/ASX annual reports/2016 (1814 firms)/pnr16.pdf', '/content/drive/MyDrive/ASX annual reports/2016 (1814 firms)/pml16.pdf', '/content/drive/MyDrive/ASX annual reports/2016 (1814 firms)/pgi16.pdf', '/content/drive/MyDrive/ASX annual reports/2016 (1814 firms)/pne16.pdf', '/content/drive/MyDrive/ASX annual reports/2016 (1814 firms)/pan16.pdf', '/content/drive/MyDrive/ASX annual reports/2016 (1814 firms)/pgh16.pdf', '/content/drive/MyDrive/ASX annual reports/2016 (1814 firms)/pun16.pdf', '/content/drive/MyDrive/ASX annual reports/2016 (1814 firms)/pek16.pdf', '/content/drive/MyDrive/ASX annual reports/2016 (1814 firms)/pko16.pdf', '/content/drive/MyDrive/ASX annual reports/2016 (1814 firms)/pel16.pdf', '/content/drive/MyDrive/ASX annual reports/2016 (1814 firms)/pen16.pdf', '/content/drive/MyDrive/ASX annual reports/2016 (1814 firms)/psm16.pdf', '/content/drive/MyDrive/ASX annual reports/2016 (1814 firms)/pex16.pdf', '/content/drive/MyDrive/ASX annual reports/2016 (1814 firms)/ptr16.pdf', '/content/drive/MyDrive/ASX annual reports/2016 (1814 firms)/pnn16.pdf', '/content/drive/MyDrive/ASX annual reports/2016 (1814 firms)/poz16.pdf', '/content/drive/MyDrive/ASX annual reports/2016 (1814 firms)/pio16.pdf', '/content/drive/MyDrive/ASX annual reports/2016 (1814 firms)/pgm16.pdf', '/content/drive/MyDrive/ASX annual reports/2016 (1814 firms)/pec16.pdf', '/content/drive/MyDrive/ASX annual reports/2016 (1814 firms)/plh16.pdf', '/content/drive/MyDrive/ASX annual reports/2016 (1814 firms)/plp16.pdf', '/content/drive/MyDrive/ASX annual reports/2016 (1814 firms)/pls16.pdf', '/content/drive/MyDrive/ASX annual reports/2016 (1814 firms)/pww16.pdf', '/content/drive/MyDrive/ASX annual reports/2016 (1814 firms)/pwn16.pdf', '/content/drive/MyDrive/ASX annual reports/2016 (1814 firms)/pos16.pdf', '/content/drive/MyDrive/ASX annual reports/2016 (1814 firms)/prr16.pdf', '/content/drive/MyDrive/ASX annual reports/2016 (1814 firms)/pdz16.pdf', '/content/drive/MyDrive/ASX annual reports/2016 (1814 firms)/ppg16.pdf', '/content/drive/MyDrive/ASX annual reports/2016 (1814 firms)/pru16.pdf', '/content/drive/MyDrive/ASX annual reports/2016 (1814 firms)/pgo16.pdf', '/content/drive/MyDrive/ASX annual reports/2016 (1814 firms)/pdi16.pdf', '/content/drive/MyDrive/ASX annual reports/2016 (1814 firms)/psc16.pdf', '/content/drive/MyDrive/ASX annual reports/2016 (1814 firms)/qur16.pdf', '/content/drive/MyDrive/ASX annual reports/2016 (1814 firms)/psp16.pdf', '/content/drive/MyDrive/ASX annual reports/2016 (1814 firms)/qnl16.pdf', '/content/drive/MyDrive/ASX annual reports/2016 (1814 firms)/pnx16.pdf', '/content/drive/MyDrive/ASX annual reports/2016 (1814 firms)/qbl16.pdf', '/content/drive/MyDrive/ASX annual reports/2016 (1814 firms)/rad16.pdf', '/content/drive/MyDrive/ASX annual reports/2016 (1814 firms)/qmn16.pdf', '/content/drive/MyDrive/ASX annual reports/2016 (1814 firms)/rmr16.pdf', '/content/drive/MyDrive/ASX annual reports/2016 (1814 firms)/rrp16.pdf', '/content/drive/MyDrive/ASX annual reports/2016 (1814 firms)/red16.pdf', '/content/drive/MyDrive/ASX annual reports/2016 (1814 firms)/rnd16.pdf', '/content/drive/MyDrive/ASX annual reports/2016 (1814 firms)/rbr16.pdf', '/content/drive/MyDrive/ASX annual reports/2016 (1814 firms)/rmx16.pdf', '/content/drive/MyDrive/ASX annual reports/2016 (1814 firms)/rhi16.pdf', '/content/drive/MyDrive/ASX annual reports/2016 (1814 firms)/rcp16.pdf', '/content/drive/MyDrive/ASX annual reports/2016 (1814 firms)/rvr16.pdf', '/content/drive/MyDrive/ASX annual reports/2016 (1814 firms)/rlc16.pdf', '/content/drive/MyDrive/ASX annual reports/2016 (1814 firms)/rer16.pdf', '/content/drive/MyDrive/ASX annual reports/2016 (1814 firms)/rds16.pdf', '/content/drive/MyDrive/ASX annual reports/2016 (1814 firms)/rdm16.pdf', '/content/drive/MyDrive/ASX annual reports/2016 (1814 firms)/rms16.pdf', '/content/drive/MyDrive/ASX annual reports/2016 (1814 firms)/rbx16.pdf', '/content/drive/MyDrive/ASX annual reports/2016 (1814 firms)/rez16.pdf', '/content/drive/MyDrive/ASX annual reports/2016 (1814 firms)/rmi16.pdf', '/content/drive/MyDrive/ASX annual reports/2016 (1814 firms)/rns16.pdf', '/content/drive/MyDrive/ASX annual reports/2016 (1814 firms)/rsg16.pdf', '/content/drive/MyDrive/ASX annual reports/2016 (1814 firms)/rie16.pdf', '/content/drive/MyDrive/ASX annual reports/2016 (1814 firms)/rxm16.pdf', '/content/drive/MyDrive/ASX annual reports/2016 (1814 firms)/rwd16.pdf', '/content/drive/MyDrive/ASX annual reports/2016 (1814 firms)/rim16.pdf', '/content/drive/MyDrive/ASX annual reports/2016 (1814 firms)/rmt16.pdf', '/content/drive/MyDrive/ASX annual reports/2016 (1814 firms)/rrl16.pdf', '/content/drive/MyDrive/ASX annual reports/2016 (1814 firms)/rio16.pdf', '/content/drive/MyDrive/ASX annual reports/2016 (1814 firms)/rmg16.pdf', '/content/drive/MyDrive/ASX annual reports/2016 (1814 firms)/rvy16.pdf', '/content/drive/MyDrive/ASX annual reports/2016 (1814 firms)/rni16.pdf', '/content/drive/MyDrive/ASX annual reports/2016 (1814 firms)/rxl16.pdf', '/content/drive/MyDrive/ASX annual reports/2016 (1814 firms)/rtr16.pdf', '/content/drive/MyDrive/ASX annual reports/2016 (1814 firms)/sbr16.pdf', '/content/drive/MyDrive/ASX annual reports/2016 (1814 firms)/s2r16.pdf', '/content/drive/MyDrive/ASX annual reports/2016 (1814 firms)/so416.pdf', '/content/drive/MyDrive/ASX annual reports/2016 (1814 firms)/rtg16.pdf', '/content/drive/MyDrive/ASX annual reports/2016 (1814 firms)/sfr16.pdf', '/content/drive/MyDrive/ASX annual reports/2016 (1814 firms)/smi16.pdf', '/content/drive/MyDrive/ASX annual reports/2016 (1814 firms)/sgz16.pdf', '/content/drive/MyDrive/ASX annual reports/2016 (1814 firms)/sar16.pdf', '/content/drive/MyDrive/ASX annual reports/2016 (1814 firms)/sya16.pdf', '/content/drive/MyDrive/ASX annual reports/2016 (1814 firms)/ses16.pdf', '/content/drive/MyDrive/ASX annual reports/2016 (1814 firms)/rco16.pdf', '/content/drive/MyDrive/ASX annual reports/2016 (1814 firms)/srr16.pdf', '/content/drive/MyDrive/ASX annual reports/2016 (1814 firms)/shh16.pdf', '/content/drive/MyDrive/ASX annual reports/2016 (1814 firms)/sbu16.pdf', '/content/drive/MyDrive/ASX annual reports/2016 (1814 firms)/sfx16.pdf', '/content/drive/MyDrive/ASX annual reports/2016 (1814 firms)/seg16.pdf', '/content/drive/MyDrive/ASX annual reports/2016 (1814 firms)/svl16.pdf', '/content/drive/MyDrive/ASX annual reports/2016 (1814 firms)/sih16.pdf', '/content/drive/MyDrive/ASX annual reports/2016 (1814 firms)/snv16.pdf', '/content/drive/MyDrive/ASX annual reports/2016 (1814 firms)/sop16.pdf', '/content/drive/MyDrive/ASX annual reports/2016 (1814 firms)/slr16.pdf', '/content/drive/MyDrive/ASX annual reports/2016 (1814 firms)/say16.pdf', '/content/drive/MyDrive/ASX annual reports/2016 (1814 firms)/sri16.pdf', '/content/drive/MyDrive/ASX annual reports/2016 (1814 firms)/smg16.pdf', '/content/drive/MyDrive/ASX annual reports/2016 (1814 firms)/sgm16.pdf', '/content/drive/MyDrive/ASX annual reports/2016 (1814 firms)/sxi16.pdf', '/content/drive/MyDrive/ASX annual reports/2016 (1814 firms)/sxx16.pdf', '/content/drive/MyDrive/ASX annual reports/2016 (1814 firms)/suh16.pdf', '/content/drive/MyDrive/ASX annual reports/2016 (1814 firms)/sau16.pdf', '/content/drive/MyDrive/ASX annual reports/2016 (1814 firms)/soc16.pdf', '/content/drive/MyDrive/ASX annual reports/2016 (1814 firms)/sci16.pdf', '/content/drive/MyDrive/ASX annual reports/2016 (1814 firms)/spx16.pdf', '/content/drive/MyDrive/ASX annual reports/2016 (1814 firms)/svm16.pdf', '/content/drive/MyDrive/ASX annual reports/2016 (1814 firms)/s3216.pdf', '/content/drive/MyDrive/ASX annual reports/2016 (1814 firms)/sbm16.pdf', '/content/drive/MyDrive/ASX annual reports/2016 (1814 firms)/spi16.pdf', '/content/drive/MyDrive/ASX annual reports/2016 (1814 firms)/srz16.pdf', '/content/drive/MyDrive/ASX annual reports/2016 (1814 firms)/shk16.pdf', '/content/drive/MyDrive/ASX annual reports/2016 (1814 firms)/sta16.pdf', '/content/drive/MyDrive/ASX annual reports/2016 (1814 firms)/ser16.pdf', '/content/drive/MyDrive/ASX annual reports/2016 (1814 firms)/swj16.pdf', '/content/drive/MyDrive/ASX annual reports/2016 (1814 firms)/sgq16.pdf', '/content/drive/MyDrive/ASX annual reports/2016 (1814 firms)/svy16.pdf', '/content/drive/MyDrive/ASX annual reports/2016 (1814 firms)/sdl16.pdf', '/content/drive/MyDrive/ASX annual reports/2016 (1814 firms)/srk16.pdf', '/content/drive/MyDrive/ASX annual reports/2016 (1814 firms)/smd16.pdf', '/content/drive/MyDrive/ASX annual reports/2016 (1814 firms)/swk16.pdf', '/content/drive/MyDrive/ASX annual reports/2016 (1814 firms)/smc16.pdf', '/content/drive/MyDrive/ASX annual reports/2016 (1814 firms)/sum16.pdf', '/content/drive/MyDrive/ASX annual reports/2016 (1814 firms)/syr16.pdf', '/content/drive/MyDrive/ASX annual reports/2016 (1814 firms)/tlm16.pdf', '/content/drive/MyDrive/ASX annual reports/2016 (1814 firms)/spq16.pdf', '/content/drive/MyDrive/ASX annual reports/2016 (1814 firms)/tam16.pdf', '/content/drive/MyDrive/ASX annual reports/2016 (1814 firms)/tar16.pdf', '/content/drive/MyDrive/ASX annual reports/2016 (1814 firms)/tas16.pdf', '/content/drive/MyDrive/ASX annual reports/2016 (1814 firms)/tlg16.pdf', '/content/drive/MyDrive/ASX annual reports/2016 (1814 firms)/tmm16.pdf', '/content/drive/MyDrive/ASX annual reports/2016 (1814 firms)/trl16.pdf', '/content/drive/MyDrive/ASX annual reports/2016 (1814 firms)/taw16.pdf', '/content/drive/MyDrive/ASX annual reports/2016 (1814 firms)/cjc16.pdf', '/content/drive/MyDrive/ASX annual reports/2016 (1814 firms)/tmx16.pdf', '/content/drive/MyDrive/ASX annual reports/2016 (1814 firms)/tgz16.pdf', '/content/drive/MyDrive/ASX annual reports/2016 (1814 firms)/thr16.pdf', '/content/drive/MyDrive/ASX annual reports/2016 (1814 firms)/tfc16.pdf', '/content/drive/MyDrive/ASX annual reports/2016 (1814 firms)/tmz16.pdf', '/content/drive/MyDrive/ASX annual reports/2016 (1814 firms)/tpo16.pdf']\n"
          ]
        }
      ]
    },
    {
      "cell_type": "markdown",
      "metadata": {
        "id": "tx3afZbVAN2b"
      },
      "source": [
        "Check the number of files in this folder"
      ]
    },
    {
      "cell_type": "code",
      "metadata": {
        "id": "OZc7OJure1px",
        "colab": {
          "base_uri": "https://localhost:8080/"
        },
        "outputId": "e127ee95-4e42-4435-99eb-6fbd70b3adf7"
      },
      "source": [
        "len(file_list)"
      ],
      "execution_count": null,
      "outputs": [
        {
          "output_type": "execute_result",
          "data": {
            "text/plain": [
              "1814"
            ]
          },
          "metadata": {},
          "execution_count": 5
        }
      ]
    },
    {
      "cell_type": "markdown",
      "metadata": {
        "id": "6oRlSJ9bAkDh"
      },
      "source": [
        "## Step 3: Extract PDF files (around 500 each time)"
      ]
    },
    {
      "cell_type": "markdown",
      "metadata": {
        "id": "9oCRr5GlKDXp"
      },
      "source": [
        "### Step 3.1: List 1"
      ]
    },
    {
      "cell_type": "markdown",
      "metadata": {
        "id": "blqeFTlcA407"
      },
      "source": [
        "e.g., the following piece of code is to extract 500 PDF files (with index 0-499)"
      ]
    },
    {
      "cell_type": "code",
      "metadata": {
        "id": "-UGuhBjCZPeA"
      },
      "source": [
        "new_list1={}\n",
        "\n",
        "for file in file_list[:500]:   # start from 0, up to 500 but not including\n",
        "  print(file)\n",
        "    \n",
        "  if file.endswith(\".pdf\"):\n",
        "    try:\n",
        "      with pdfplumber.open(file) as pdf:\n",
        "        fulltext = \"\"\n",
        "        try:\n",
        "          for page in pdf.pages:\n",
        "            try:\n",
        "              text = page.extract_text()\n",
        "              fulltext += str(text)\n",
        "            except:\n",
        "              fulltext = \"\"\n",
        "              print(\"Blank\")\n",
        "            finally:\n",
        "              pass\n",
        "        except:\n",
        "          pass\n",
        "    except:\n",
        "      pass\n",
        "        \n",
        "        \n",
        "    new_list1[file]=(fulltext) "
      ],
      "execution_count": null,
      "outputs": []
    },
    {
      "cell_type": "markdown",
      "metadata": {
        "id": "i90NhSkBBaZP"
      },
      "source": [
        "check the number of files in the first list"
      ]
    },
    {
      "cell_type": "code",
      "metadata": {
        "id": "GIxYwCQF1yLR"
      },
      "source": [
        "len(new_list1)"
      ],
      "execution_count": null,
      "outputs": []
    },
    {
      "cell_type": "markdown",
      "metadata": {
        "id": "G8mYbEmiKNAR"
      },
      "source": [
        "### Step 3.2: List 2"
      ]
    },
    {
      "cell_type": "code",
      "metadata": {
        "id": "eAAT2LUCtr7U"
      },
      "source": [
        "new_list2={}\n",
        "\n",
        "for file in file_list[500:750]:  \n",
        "  print(file)\n",
        "    \n",
        "  if file.endswith(\".pdf\"):\n",
        "    try:\n",
        "      with pdfplumber.open(file) as pdf:\n",
        "        fulltext = \"\"\n",
        "        try:\n",
        "          for page in pdf.pages:\n",
        "            try:\n",
        "              text = page.extract_text()\n",
        "              fulltext += str(text)\n",
        "            except:\n",
        "              fulltext = \"\"\n",
        "              print(\"Blank\")\n",
        "            finally:\n",
        "              pass\n",
        "        except:\n",
        "          pass\n",
        "    except:\n",
        "      pass\n",
        "        \n",
        "        \n",
        "    new_list2[file]=(fulltext) "
      ],
      "execution_count": null,
      "outputs": []
    },
    {
      "cell_type": "code",
      "metadata": {
        "id": "D9sIIRD6B_eL"
      },
      "source": [
        "len(new_list2)"
      ],
      "execution_count": null,
      "outputs": []
    },
    {
      "cell_type": "markdown",
      "metadata": {
        "id": "_pmKCKXvKRzb"
      },
      "source": [
        "### Step 3.3: List 3"
      ]
    },
    {
      "cell_type": "code",
      "metadata": {
        "id": "lrUmBC9Wt1Yk",
        "colab": {
          "base_uri": "https://localhost:8080/"
        },
        "outputId": "e331394c-8282-46b1-9862-bf1b3fb59cea"
      },
      "source": [
        "new_list3={}\n",
        "\n",
        "for file in file_list[750:1000]:  \n",
        "  print(file)\n",
        "    \n",
        "  if file.endswith(\".pdf\"):\n",
        "    try:\n",
        "      with pdfplumber.open(file) as pdf:\n",
        "        fulltext = \"\"\n",
        "        try:\n",
        "          for page in pdf.pages:\n",
        "            try:\n",
        "              text = page.extract_text()\n",
        "              fulltext += str(text)\n",
        "            except:\n",
        "              fulltext = \"\"\n",
        "              print(\"Blank\")\n",
        "            finally:\n",
        "              pass\n",
        "        except:\n",
        "          pass\n",
        "    except:\n",
        "      pass\n",
        "        \n",
        "        \n",
        "    new_list3[file]=(fulltext) "
      ],
      "execution_count": null,
      "outputs": [
        {
          "output_type": "stream",
          "name": "stdout",
          "text": [
            "/content/drive/MyDrive/ASX annual reports/2016 (1814 firms)/myq16.pdf\n",
            "/content/drive/MyDrive/ASX annual reports/2016 (1814 firms)/lnk16.pdf\n",
            "/content/drive/MyDrive/ASX annual reports/2016 (1814 firms)/myo16.pdf\n",
            "/content/drive/MyDrive/ASX annual reports/2016 (1814 firms)/ntc16.pdf\n",
            "/content/drive/MyDrive/ASX annual reports/2016 (1814 firms)/nxt16.pdf\n",
            "/content/drive/MyDrive/ASX annual reports/2016 (1814 firms)/nor16.pdf\n",
            "/content/drive/MyDrive/ASX annual reports/2016 (1814 firms)/nea16.pdf\n",
            "/content/drive/MyDrive/ASX annual reports/2016 (1814 firms)/nwz16.pdf\n",
            "/content/drive/MyDrive/ASX annual reports/2016 (1814 firms)/ocl16.pdf\n",
            "/content/drive/MyDrive/ASX annual reports/2016 (1814 firms)/oth16.pdf\n",
            "/content/drive/MyDrive/ASX annual reports/2016 (1814 firms)/nuh16.pdf\n",
            "/content/drive/MyDrive/ASX annual reports/2016 (1814 firms)/omt16.pdf\n",
            "/content/drive/MyDrive/ASX annual reports/2016 (1814 firms)/olv16.pdf\n",
            "/content/drive/MyDrive/ASX annual reports/2016 (1814 firms)/pil16.pdf\n",
            "/content/drive/MyDrive/ASX annual reports/2016 (1814 firms)/psy16.pdf\n",
            "/content/drive/MyDrive/ASX annual reports/2016 (1814 firms)/otw16.pdf\n",
            "/content/drive/MyDrive/ASX annual reports/2016 (1814 firms)/qtg16.pdf\n",
            "/content/drive/MyDrive/ASX annual reports/2016 (1814 firms)/rkn16.pdf\n",
            "/content/drive/MyDrive/ASX annual reports/2016 (1814 firms)/pro16.pdf\n",
            "/content/drive/MyDrive/ASX annual reports/2016 (1814 firms)/rfn16.pdf\n",
            "/content/drive/MyDrive/ASX annual reports/2016 (1814 firms)/rnl16.pdf\n",
            "/content/drive/MyDrive/ASX annual reports/2016 (1814 firms)/rdf16.pdf\n",
            "/content/drive/MyDrive/ASX annual reports/2016 (1814 firms)/pps16.pdf\n",
            "/content/drive/MyDrive/ASX annual reports/2016 (1814 firms)/rul16.pdf\n",
            "/content/drive/MyDrive/ASX annual reports/2016 (1814 firms)/rhp16.pdf\n",
            "/content/drive/MyDrive/ASX annual reports/2016 (1814 firms)/sro16.pdf\n",
            "/content/drive/MyDrive/ASX annual reports/2016 (1814 firms)/rxp16.pdf\n",
            "/content/drive/MyDrive/ASX annual reports/2016 (1814 firms)/sen16.pdf\n",
            "/content/drive/MyDrive/ASX annual reports/2016 (1814 firms)/skf16.pdf\n",
            "/content/drive/MyDrive/ASX annual reports/2016 (1814 firms)/sma16.pdf\n",
            "/content/drive/MyDrive/ASX annual reports/2016 (1814 firms)/spz16.pdf\n",
            "/content/drive/MyDrive/ASX annual reports/2016 (1814 firms)/slx16.pdf\n",
            "/content/drive/MyDrive/ASX annual reports/2016 (1814 firms)/sfi16.pdf\n",
            "/content/drive/MyDrive/ASX annual reports/2016 (1814 firms)/sw116.pdf\n",
            "/content/drive/MyDrive/ASX annual reports/2016 (1814 firms)/smx16.pdf\n",
            "/content/drive/MyDrive/ASX annual reports/2016 (1814 firms)/smn16.pdf\n",
            "/content/drive/MyDrive/ASX annual reports/2016 (1814 firms)/ggl16.pdf\n",
            "/content/drive/MyDrive/ASX annual reports/2016 (1814 firms)/rfl16.pdf\n",
            "/content/drive/MyDrive/ASX annual reports/2016 (1814 firms)/cgl16.pdf\n",
            "/content/drive/MyDrive/ASX annual reports/2016 (1814 firms)/tkf16.pdf\n",
            "/content/drive/MyDrive/ASX annual reports/2016 (1814 firms)/ttl16.pdf\n",
            "/content/drive/MyDrive/ASX annual reports/2016 (1814 firms)/tsn16.pdf\n",
            "/content/drive/MyDrive/ASX annual reports/2016 (1814 firms)/tv216.pdf\n",
            "/content/drive/MyDrive/ASX annual reports/2016 (1814 firms)/tch16.pdf\n",
            "/content/drive/MyDrive/ASX annual reports/2016 (1814 firms)/upd16.pdf\n",
            "/content/drive/MyDrive/ASX annual reports/2016 (1814 firms)/tzl16.pdf\n",
            "/content/drive/MyDrive/ASX annual reports/2016 (1814 firms)/vlt16.pdf\n",
            "/content/drive/MyDrive/ASX annual reports/2016 (1814 firms)/vig16.pdf\n",
            "/content/drive/MyDrive/ASX annual reports/2016 (1814 firms)/wgl16.pdf\n",
            "/content/drive/MyDrive/ASX annual reports/2016 (1814 firms)/tne16.pdf\n",
            "/content/drive/MyDrive/ASX annual reports/2016 (1814 firms)/vgl16.pdf\n",
            "/content/drive/MyDrive/ASX annual reports/2016 (1814 firms)/wmc16.pdf\n",
            "/content/drive/MyDrive/ASX annual reports/2016 (1814 firms)/ubn16.pdf\n",
            "/content/drive/MyDrive/ASX annual reports/2016 (1814 firms)/vpc16.pdf\n",
            "/content/drive/MyDrive/ASX annual reports/2016 (1814 firms)/wsg16.pdf\n",
            "/content/drive/MyDrive/ASX annual reports/2016 (1814 firms)/xpe16.pdf\n",
            "/content/drive/MyDrive/ASX annual reports/2016 (1814 firms)/xro16.pdf\n",
            "/content/drive/MyDrive/ASX annual reports/2016 (1814 firms)/zyb16.pdf\n",
            "/content/drive/MyDrive/ASX annual reports/2016 (1814 firms)/yoj16.pdf\n",
            "/content/drive/MyDrive/ASX annual reports/2016 (1814 firms)/xf116.pdf\n",
            "/content/drive/MyDrive/ASX annual reports/2016 (1814 firms)/aer16.pdf\n",
            "/content/drive/MyDrive/ASX annual reports/2016 (1814 firms)/ab116.pdf\n",
            "/content/drive/MyDrive/ASX annual reports/2016 (1814 firms)/aau16.pdf\n",
            "/content/drive/MyDrive/ASX annual reports/2016 (1814 firms)/dig16.pdf\n",
            "/content/drive/MyDrive/ASX annual reports/2016 (1814 firms)/asp16.pdf\n",
            "/content/drive/MyDrive/ASX annual reports/2016 (1814 firms)/bgl16.pdf\n",
            "/content/drive/MyDrive/ASX annual reports/2016 (1814 firms)/bbl16.pdf\n",
            "/content/drive/MyDrive/ASX annual reports/2016 (1814 firms)/byi16.pdf\n",
            "/content/drive/MyDrive/ASX annual reports/2016 (1814 firms)/cm816.pdf\n",
            "/content/drive/MyDrive/ASX annual reports/2016 (1814 firms)/car16.pdf\n",
            "/content/drive/MyDrive/ASX annual reports/2016 (1814 firms)/cnu16.pdf\n",
            "/content/drive/MyDrive/ASX annual reports/2016 (1814 firms)/apo16.pdf\n",
            "/content/drive/MyDrive/ASX annual reports/2016 (1814 firms)/enc16.pdf\n",
            "/content/drive/MyDrive/ASX annual reports/2016 (1814 firms)/evt16.pdf\n",
            "/content/drive/MyDrive/ASX annual reports/2016 (1814 firms)/esh16.pdf\n",
            "/content/drive/MyDrive/ASX annual reports/2016 (1814 firms)/frx16.pdf\n",
            "/content/drive/MyDrive/ASX annual reports/2016 (1814 firms)/egg16.pdf\n",
            "/content/drive/MyDrive/ASX annual reports/2016 (1814 firms)/gcn16.pdf\n",
            "/content/drive/MyDrive/ASX annual reports/2016 (1814 firms)/fre16.pdf\n",
            "/content/drive/MyDrive/ASX annual reports/2016 (1814 firms)/dmc.pdf\n",
            "/content/drive/MyDrive/ASX annual reports/2016 (1814 firms)/ici16.pdf\n",
            "/content/drive/MyDrive/ASX annual reports/2016 (1814 firms)/icq16.pdf\n",
            "/content/drive/MyDrive/ASX annual reports/2016 (1814 firms)/hta16.pdf\n",
            "/content/drive/MyDrive/ASX annual reports/2016 (1814 firms)/iab16.pdf\n",
            "/content/drive/MyDrive/ASX annual reports/2016 (1814 firms)/icu16.pdf\n",
            "/content/drive/MyDrive/ASX annual reports/2016 (1814 firms)/knm16.pdf\n",
            "/content/drive/MyDrive/ASX annual reports/2016 (1814 firms)/laa16.pdf\n",
            "/content/drive/MyDrive/ASX annual reports/2016 (1814 firms)/ivo16.pdf\n",
            "/content/drive/MyDrive/ASX annual reports/2016 (1814 firms)/igl16.pdf\n",
            "/content/drive/MyDrive/ASX annual reports/2016 (1814 firms)/fxj16.pdf\n",
            "/content/drive/MyDrive/ASX annual reports/2016 (1814 firms)/mwr16.pdf\n",
            "/content/drive/MyDrive/ASX annual reports/2016 (1814 firms)/mrn16.pdf\n",
            "/content/drive/MyDrive/ASX annual reports/2016 (1814 firms)/maq16.pdf\n",
            "/content/drive/MyDrive/ASX annual reports/2016 (1814 firms)/mua16.pdf\n",
            "/content/drive/MyDrive/ASX annual reports/2016 (1814 firms)/mnf16.pdf\n",
            "/content/drive/MyDrive/ASX annual reports/2016 (1814 firms)/mih16.pdf\n",
            "/content/drive/MyDrive/ASX annual reports/2016 (1814 firms)/msm16.pdf\n",
            "/content/drive/MyDrive/ASX annual reports/2016 (1814 firms)/nws16.pdf\n",
            "/content/drive/MyDrive/ASX annual reports/2016 (1814 firms)/nzm16.pdf\n",
            "/content/drive/MyDrive/ASX annual reports/2016 (1814 firms)/nec16.pdf\n",
            "/content/drive/MyDrive/ASX annual reports/2016 (1814 firms)/pnw16.pdf\n",
            "/content/drive/MyDrive/ASX annual reports/2016 (1814 firms)/oml16.pdf\n",
            "/content/drive/MyDrive/ASX annual reports/2016 (1814 firms)/prt16.pdf\n",
            "/content/drive/MyDrive/ASX annual reports/2016 (1814 firms)/pch16.pdf\n",
            "/content/drive/MyDrive/ASX annual reports/2016 (1814 firms)/ppl16.pdf\n",
            "/content/drive/MyDrive/ASX annual reports/2016 (1814 firms)/rev16.pdf\n",
            "/content/drive/MyDrive/ASX annual reports/2016 (1814 firms)/rea16.pdf\n",
            "/content/drive/MyDrive/ASX annual reports/2016 (1814 firms)/rnt16.pdf\n",
            "/content/drive/MyDrive/ASX annual reports/2016 (1814 firms)/ref16.pdf\n",
            "/content/drive/MyDrive/ASX annual reports/2016 (1814 firms)/rxh16.pdf\n",
            "/content/drive/MyDrive/ASX annual reports/2016 (1814 firms)/slm16.pdf\n",
            "/content/drive/MyDrive/ASX annual reports/2016 (1814 firms)/ncl16.pdf\n",
            "/content/drive/MyDrive/ASX annual reports/2016 (1814 firms)/sek16.pdf\n",
            "/content/drive/MyDrive/ASX annual reports/2016 (1814 firms)/sas16.pdf\n",
            "/content/drive/MyDrive/ASX annual reports/2016 (1814 firms)/qms16.pdf\n",
            "/content/drive/MyDrive/ASX annual reports/2016 (1814 firms)/swm16.pdf\n",
            "/content/drive/MyDrive/ASX annual reports/2016 (1814 firms)/smp16.pdf\n",
            "/content/drive/MyDrive/ASX annual reports/2016 (1814 firms)/sda16.pdf\n",
            "/content/drive/MyDrive/ASX annual reports/2016 (1814 firms)/skt16.pdf\n",
            "/content/drive/MyDrive/ASX annual reports/2016 (1814 firms)/sxl16.pdf\n",
            "/content/drive/MyDrive/ASX annual reports/2016 (1814 firms)/spk16.pdf\n",
            "/content/drive/MyDrive/ASX annual reports/2016 (1814 firms)/st116.pdf\n",
            "/content/drive/MyDrive/ASX annual reports/2016 (1814 firms)/slc16.pdf\n",
            "/content/drive/MyDrive/ASX annual reports/2016 (1814 firms)/thd16.pdf\n",
            "/content/drive/MyDrive/ASX annual reports/2016 (1814 firms)/tmp16.pdf\n",
            "/content/drive/MyDrive/ASX annual reports/2016 (1814 firms)/tpc16.pdf\n",
            "/content/drive/MyDrive/ASX annual reports/2016 (1814 firms)/tom16.pdf\n",
            "/content/drive/MyDrive/ASX annual reports/2016 (1814 firms)/tls16.pdf\n",
            "/content/drive/MyDrive/ASX annual reports/2016 (1814 firms)/ten16.pdf\n",
            "/content/drive/MyDrive/ASX annual reports/2016 (1814 firms)/tpm16.pdf\n",
            "/content/drive/MyDrive/ASX annual reports/2016 (1814 firms)/vrl16.pdf\n",
            "/content/drive/MyDrive/ASX annual reports/2016 (1814 firms)/wns16.pdf\n",
            "/content/drive/MyDrive/ASX annual reports/2016 (1814 firms)/xtd16.pdf\n",
            "/content/drive/MyDrive/ASX annual reports/2016 (1814 firms)/wrr16.pdf\n",
            "/content/drive/MyDrive/ASX annual reports/2016 (1814 firms)/wpp16.pdf\n",
            "/content/drive/MyDrive/ASX annual reports/2016 (1814 firms)/xtv16.pdf\n",
            "/content/drive/MyDrive/ASX annual reports/2016 (1814 firms)/zip16.pdf\n",
            "/content/drive/MyDrive/ASX annual reports/2016 (1814 firms)/voc16.pdf\n",
            "/content/drive/MyDrive/ASX annual reports/2016 (1814 firms)/agl16.pdf\n",
            "/content/drive/MyDrive/ASX annual reports/2016 (1814 firms)/ays16.pdf\n",
            "/content/drive/MyDrive/ASX annual reports/2016 (1814 firms)/ast16.pdf\n",
            "/content/drive/MyDrive/ASX annual reports/2016 (1814 firms)/apa16.pdf\n",
            "/content/drive/MyDrive/ASX annual reports/2016 (1814 firms)/erj16.pdf\n",
            "/content/drive/MyDrive/ASX annual reports/2016 (1814 firms)/enb16.pdf\n",
            "/content/drive/MyDrive/ASX annual reports/2016 (1814 firms)/epw16.pdf\n",
            "/content/drive/MyDrive/ASX annual reports/2016 (1814 firms)/kpo16.pdf\n",
            "/content/drive/MyDrive/ASX annual reports/2016 (1814 firms)/gdy16.pdf\n",
            "/content/drive/MyDrive/ASX annual reports/2016 (1814 firms)/cen16.pdf\n",
            "/content/drive/MyDrive/ASX annual reports/2016 (1814 firms)/due16.pdf\n",
            "/content/drive/MyDrive/ASX annual reports/2016 (1814 firms)/gnx16.pdf\n",
            "/content/drive/MyDrive/ASX annual reports/2016 (1814 firms)/evm16.pdf\n",
            "/content/drive/MyDrive/ASX annual reports/2016 (1814 firms)/lpe16.pdf\n",
            "/content/drive/MyDrive/ASX annual reports/2016 (1814 firms)/pea16.pdf\n",
            "/content/drive/MyDrive/ASX annual reports/2016 (1814 firms)/wrg16.pdf\n",
            "/content/drive/MyDrive/ASX annual reports/2016 (1814 firms)/ski16.pdf\n",
            "/content/drive/MyDrive/ASX annual reports/2016 (1814 firms)/tml16.pdf\n",
            "/content/drive/MyDrive/ASX annual reports/2016 (1814 firms)/ift16.pdf\n",
            "/content/drive/MyDrive/ASX annual reports/2016 (1814 firms)/cwe16.pdf\n",
            "/content/drive/MyDrive/ASX annual reports/2016 (1814 firms)/ewc16.pdf\n",
            "/content/drive/MyDrive/ASX annual reports/2016 (1814 firms)/gne16.pdf\n",
            "/content/drive/MyDrive/ASX annual reports/2016 (1814 firms)/ifn16.pdf\n",
            "/content/drive/MyDrive/ASX annual reports/2016 (1814 firms)/mez16.pdf\n",
            "/content/drive/MyDrive/ASX annual reports/2016 (1814 firms)/tgp16.pdf\n",
            "/content/drive/MyDrive/ASX annual reports/2016 (1814 firms)/tix16.pdf\n",
            "/content/drive/MyDrive/ASX annual reports/2016 (1814 firms)/tof16.pdf\n",
            "/content/drive/MyDrive/ASX annual reports/2016 (1814 firms)/agj16.pdf\n",
            "/content/drive/MyDrive/ASX annual reports/2016 (1814 firms)/abp16.pdf\n",
            "/content/drive/MyDrive/ASX annual reports/2016 (1814 firms)/ajd16.pdf\n",
            "/content/drive/MyDrive/ASX annual reports/2016 (1814 firms)/apw16.pdf\n",
            "/content/drive/MyDrive/ASX annual reports/2016 (1814 firms)/lep16.pdf\n",
            "/content/drive/MyDrive/ASX annual reports/2016 (1814 firms)/arf16.pdf\n",
            "/content/drive/MyDrive/ASX annual reports/2016 (1814 firms)/aja16.pdf\n",
            "/content/drive/MyDrive/ASX annual reports/2016 (1814 firms)/aak16.pdf\n",
            "/content/drive/MyDrive/ASX annual reports/2016 (1814 firms)/apz16.pdf\n",
            "/content/drive/MyDrive/ASX annual reports/2016 (1814 firms)/apd16.pdf\n",
            "/content/drive/MyDrive/ASX annual reports/2016 (1814 firms)/avj16.pdf\n",
            "/content/drive/MyDrive/ASX annual reports/2016 (1814 firms)/aog16.pdf\n",
            "/content/drive/MyDrive/ASX annual reports/2016 (1814 firms)/avn16.pdf\n",
            "/content/drive/MyDrive/ASX annual reports/2016 (1814 firms)/bwr16.pdf\n",
            "/content/drive/MyDrive/ASX annual reports/2016 (1814 firms)/caq16.pdf\n",
            "/content/drive/MyDrive/ASX annual reports/2016 (1814 firms)/axi16.pdf\n",
            "/content/drive/MyDrive/ASX annual reports/2016 (1814 firms)/bpa16.pdf\n",
            "/content/drive/MyDrive/ASX annual reports/2016 (1814 firms)/cwp16.pdf\n",
            "/content/drive/MyDrive/ASX annual reports/2016 (1814 firms)/cni16.pdf\n",
            "/content/drive/MyDrive/ASX annual reports/2016 (1814 firms)/bmp16.pdf\n",
            "/content/drive/MyDrive/ASX annual reports/2016 (1814 firms)/bwp16.pdf\n",
            "/content/drive/MyDrive/ASX annual reports/2016 (1814 firms)/cqr16.pdf\n",
            "/content/drive/MyDrive/ASX annual reports/2016 (1814 firms)/chc16.pdf\n",
            "/content/drive/MyDrive/ASX annual reports/2016 (1814 firms)/dvn16.pdf\n",
            "/content/drive/MyDrive/ASX annual reports/2016 (1814 firms)/cmw16.pdf\n",
            "/content/drive/MyDrive/ASX annual reports/2016 (1814 firms)/dxs16.pdf\n",
            "/content/drive/MyDrive/ASX annual reports/2016 (1814 firms)/dgh16.pdf\n",
            "/content/drive/MyDrive/ASX annual reports/2016 (1814 firms)/cma16.pdf\n",
            "/content/drive/MyDrive/ASX annual reports/2016 (1814 firms)/flk16.pdf\n",
            "/content/drive/MyDrive/ASX annual reports/2016 (1814 firms)/egh16.pdf\n",
            "/content/drive/MyDrive/ASX annual reports/2016 (1814 firms)/fet16.pdf\n",
            "/content/drive/MyDrive/ASX annual reports/2016 (1814 firms)/gjt16.pdf\n",
            "/content/drive/MyDrive/ASX annual reports/2016 (1814 firms)/fri16.pdf\n",
            "/content/drive/MyDrive/ASX annual reports/2016 (1814 firms)/gdf16.pdf\n",
            "/content/drive/MyDrive/ASX annual reports/2016 (1814 firms)/gdi16.pdf\n",
            "/content/drive/MyDrive/ASX annual reports/2016 (1814 firms)/gps16.pdf\n",
            "/content/drive/MyDrive/ASX annual reports/2016 (1814 firms)/gpt16.pdf\n",
            "/content/drive/MyDrive/ASX annual reports/2016 (1814 firms)/ghc16.pdf\n",
            "/content/drive/MyDrive/ASX annual reports/2016 (1814 firms)/gmg16.pdf\n",
            "/content/drive/MyDrive/ASX annual reports/2016 (1814 firms)/hpi16.pdf\n",
            "/content/drive/MyDrive/ASX annual reports/2016 (1814 firms)/hgl16.pdf\n",
            "/content/drive/MyDrive/ASX annual reports/2016 (1814 firms)/gmf16.pdf\n",
            "/content/drive/MyDrive/ASX annual reports/2016 (1814 firms)/goz16.pdf\n",
            "/content/drive/MyDrive/ASX annual reports/2016 (1814 firms)/gty16.pdf\n",
            "/content/drive/MyDrive/ASX annual reports/2016 (1814 firms)/ieq16.pdf\n",
            "/content/drive/MyDrive/ASX annual reports/2016 (1814 firms)/ina16.pdf\n",
            "/content/drive/MyDrive/ASX annual reports/2016 (1814 firms)/iof16.pdf\n",
            "/content/drive/MyDrive/ASX annual reports/2016 (1814 firms)/inm16.pdf\n",
            "/content/drive/MyDrive/ASX annual reports/2016 (1814 firms)/ltn16.pdf\n",
            "/content/drive/MyDrive/ASX annual reports/2016 (1814 firms)/klo16.pdf\n",
            "/content/drive/MyDrive/ASX annual reports/2016 (1814 firms)/idr16.pdf\n",
            "/content/drive/MyDrive/ASX annual reports/2016 (1814 firms)/lhm16.pdf\n",
            "/content/drive/MyDrive/ASX annual reports/2016 (1814 firms)/lic16.pdf\n",
            "/content/drive/MyDrive/ASX annual reports/2016 (1814 firms)/llc16.pdf\n",
            "/content/drive/MyDrive/ASX annual reports/2016 (1814 firms)/lhb16.pdf\n",
            "/content/drive/MyDrive/ASX annual reports/2016 (1814 firms)/mea16.pdf\n",
            "/content/drive/MyDrive/ASX annual reports/2016 (1814 firms)/mpx16.pdf\n",
            "/content/drive/MyDrive/ASX annual reports/2016 (1814 firms)/nsr16.pdf\n",
            "/content/drive/MyDrive/ASX annual reports/2016 (1814 firms)/lmw16.pdf\n",
            "/content/drive/MyDrive/ASX annual reports/2016 (1814 firms)/pay16.pdf\n",
            "/content/drive/MyDrive/ASX annual reports/2016 (1814 firms)/qss16.pdf\n",
            "/content/drive/MyDrive/ASX annual reports/2016 (1814 firms)/rpg16.pdf\n",
            "/content/drive/MyDrive/ASX annual reports/2016 (1814 firms)/pfm16.pdf\n",
            "/content/drive/MyDrive/ASX annual reports/2016 (1814 firms)/rny16.pdf\n",
            "/content/drive/MyDrive/ASX annual reports/2016 (1814 firms)/phi16.pdf\n",
            "/content/drive/MyDrive/ASX annual reports/2016 (1814 firms)/rff16.pdf\n",
            "/content/drive/MyDrive/ASX annual reports/2016 (1814 firms)/scg16.pdf\n",
            "/content/drive/MyDrive/ASX annual reports/2016 (1814 firms)/rcu16.pdf\n",
            "/content/drive/MyDrive/ASX annual reports/2016 (1814 firms)/ppc16.pdf\n",
            "/content/drive/MyDrive/ASX annual reports/2016 (1814 firms)/mgr16.pdf\n",
            "/content/drive/MyDrive/ASX annual reports/2016 (1814 firms)/scp16.pdf\n",
            "/content/drive/MyDrive/ASX annual reports/2016 (1814 firms)/scw16.pdf\n"
          ]
        }
      ]
    },
    {
      "cell_type": "code",
      "metadata": {
        "id": "_CkPkLl6B9G6"
      },
      "source": [
        "len(new_list3)"
      ],
      "execution_count": null,
      "outputs": []
    },
    {
      "cell_type": "markdown",
      "metadata": {
        "id": "iRVr1huo18BW"
      },
      "source": [
        "### Step 3.4: List 4"
      ]
    },
    {
      "cell_type": "code",
      "metadata": {
        "id": "gsmaFqXl0hjN"
      },
      "source": [
        "new_list4={}\n",
        "\n",
        "for file in file_list[1000:1250]:  \n",
        "  print(file)\n",
        "    \n",
        "  if file.endswith(\".pdf\"):\n",
        "    try:\n",
        "      with pdfplumber.open(file) as pdf:\n",
        "        fulltext = \"\"\n",
        "        try:\n",
        "          for page in pdf.pages:\n",
        "            try:\n",
        "              text = page.extract_text()\n",
        "              fulltext += str(text)\n",
        "            except:\n",
        "              fulltext = \"\"\n",
        "              print(\"Blank\")\n",
        "            finally:\n",
        "              pass\n",
        "        except:\n",
        "          pass\n",
        "    except:\n",
        "      pass\n",
        "        \n",
        "        \n",
        "    new_list4[file]=(fulltext) "
      ],
      "execution_count": null,
      "outputs": []
    },
    {
      "cell_type": "code",
      "metadata": {
        "id": "MBBY-9771pUl"
      },
      "source": [
        "len(new_list4)"
      ],
      "execution_count": null,
      "outputs": []
    },
    {
      "cell_type": "markdown",
      "metadata": {
        "id": "ZcFLiq8I2Cwe"
      },
      "source": [
        "### Step 3.5: List 5"
      ]
    },
    {
      "cell_type": "code",
      "metadata": {
        "id": "wptcyV5V0zFs"
      },
      "source": [
        "new_list5={}\n",
        "\n",
        "for file in file_list[1250:1500]:  \n",
        "  print(file)\n",
        "    \n",
        "  if file.endswith(\".pdf\"):\n",
        "    try:\n",
        "      with pdfplumber.open(file) as pdf:\n",
        "        fulltext = \"\"\n",
        "        try:\n",
        "          for page in pdf.pages:\n",
        "            try:\n",
        "              text = page.extract_text()\n",
        "              fulltext += str(text)\n",
        "            except:\n",
        "              fulltext = \"\"\n",
        "              print(\"Blank\")\n",
        "            finally:\n",
        "              pass\n",
        "        except:\n",
        "          pass\n",
        "    except:\n",
        "      pass\n",
        "        \n",
        "        \n",
        "    new_list5[file]=(fulltext) "
      ],
      "execution_count": null,
      "outputs": []
    },
    {
      "cell_type": "code",
      "metadata": {
        "id": "3ickvvlk1zK-"
      },
      "source": [
        "len(new_list5)"
      ],
      "execution_count": null,
      "outputs": []
    },
    {
      "cell_type": "markdown",
      "metadata": {
        "id": "4NvnUhAn2GAY"
      },
      "source": [
        "### Step 3.6: List 6"
      ]
    },
    {
      "cell_type": "code",
      "metadata": {
        "id": "ANz-QKrW0_Uj"
      },
      "source": [
        "new_list6={}\n",
        "\n",
        "for file in file_list[1500:]:  \n",
        "  print(file)\n",
        "    \n",
        "  if file.endswith(\".pdf\"):\n",
        "    try:\n",
        "      with pdfplumber.open(file) as pdf:\n",
        "        fulltext = \"\"\n",
        "        try:\n",
        "          for page in pdf.pages:\n",
        "            try:\n",
        "              text = page.extract_text()\n",
        "              fulltext += str(text)\n",
        "            except:\n",
        "              fulltext = \"\"\n",
        "              print(\"Blank\")\n",
        "            finally:\n",
        "              pass\n",
        "        except:\n",
        "          pass\n",
        "    except:\n",
        "      pass\n",
        "        \n",
        "        \n",
        "    new_list6[file]=(fulltext) "
      ],
      "execution_count": null,
      "outputs": []
    },
    {
      "cell_type": "code",
      "metadata": {
        "id": "uAjrV1d0122P"
      },
      "source": [
        "len(new_list6)"
      ],
      "execution_count": null,
      "outputs": []
    },
    {
      "cell_type": "markdown",
      "metadata": {
        "id": "lNsmRIQCCmGM"
      },
      "source": [
        "So far, all PDF files in the selected folder are extracted. "
      ]
    },
    {
      "cell_type": "markdown",
      "metadata": {
        "id": "Z138QCYECuJE"
      },
      "source": [
        "## Step 4: Save each generated list as a json file"
      ]
    },
    {
      "cell_type": "code",
      "metadata": {
        "id": "zM31ikmIckTa"
      },
      "source": [
        "import json"
      ],
      "execution_count": null,
      "outputs": []
    },
    {
      "cell_type": "markdown",
      "metadata": {
        "id": "1YOn1qLbC_a0"
      },
      "source": [
        "### Step 4.1: List 1\n",
        "\n",
        "##### Step 4.1.1: Create json files"
      ]
    },
    {
      "cell_type": "code",
      "metadata": {
        "id": "hPJKUQ8Ea9U6"
      },
      "source": [
        "json1 = json.dumps(new_list1)    # convert a Python object into a json string\n",
        "\n",
        "# open file for writing, \"w\" \n",
        "f = open(\"2016_1.json\",\"w\")      # create a new json file, called 2021_1\n",
        "\n",
        "# write json object to file\n",
        "f.write(json1)                   \n",
        "\n",
        "# close file\n",
        "f.close()\n"
      ],
      "execution_count": null,
      "outputs": []
    },
    {
      "cell_type": "markdown",
      "metadata": {
        "id": "8y1Zt_GaExyW"
      },
      "source": [
        "##### Step 4.1.2: Save & upload the created json files\n",
        "\n",
        "##### (1) right click to save the json file into my local machine\n",
        "\n",
        "##### (2) upload the json file to my Google Drive\n",
        "\n",
        "##### (3) open the json file in Python"
      ]
    },
    {
      "cell_type": "code",
      "metadata": {
        "id": "GhI4F7p_a-AT"
      },
      "source": [
        "#Open JSON file\n",
        "a1 = open('/content/drive/MyDrive/NEW dataset - MAJ/2016/2016_1.json', 'r')\n",
        "output1 = a1.read()\n",
        "\n",
        "#Convert JSON file to python dictionary\n",
        "final_list1 = json.loads(output1)\n",
        "final_list1"
      ],
      "execution_count": null,
      "outputs": []
    },
    {
      "cell_type": "code",
      "metadata": {
        "id": "gu_4tFtuhx1u"
      },
      "source": [
        "type(final_list1)"
      ],
      "execution_count": null,
      "outputs": []
    },
    {
      "cell_type": "markdown",
      "metadata": {
        "id": "VhQesR6VMD9F"
      },
      "source": [
        "### Step 4.2: List 2"
      ]
    },
    {
      "cell_type": "code",
      "metadata": {
        "id": "Hj4xme7LtTVa"
      },
      "source": [
        "json2 = json.dumps(new_list2)\n",
        "\n",
        "# open file for writing, \"w\" \n",
        "f = open(\"2016_2.json\",\"w\")\n",
        "\n",
        "# write json object to file\n",
        "f.write(json2)\n",
        "\n",
        "# close file\n",
        "f.close()"
      ],
      "execution_count": null,
      "outputs": []
    },
    {
      "cell_type": "code",
      "metadata": {
        "id": "FEpLsAjvtUg0"
      },
      "source": [
        "#Open JSON file\n",
        "a2 = open('/content/drive/MyDrive/NEW dataset - MAJ/2016/2016_2.json', 'r')\n",
        "output2 = a2.read()\n",
        "\n",
        "#Convert JSON file to python dictionary\n",
        "final_list2 = json.loads(output2)\n",
        "final_list2"
      ],
      "execution_count": null,
      "outputs": []
    },
    {
      "cell_type": "markdown",
      "metadata": {
        "id": "guOc46mLNEcl"
      },
      "source": [
        "### Step 4.3: List 3"
      ]
    },
    {
      "cell_type": "code",
      "metadata": {
        "id": "mjD349vjuLKG"
      },
      "source": [
        "json3 = json.dumps(new_list3)\n",
        "\n",
        "# open file for writing, \"w\" \n",
        "f = open(\"2016_3.json\",\"w\")\n",
        "\n",
        "# write json object to file\n",
        "f.write(json3)\n",
        "\n",
        "# close file\n",
        "f.close()"
      ],
      "execution_count": null,
      "outputs": []
    },
    {
      "cell_type": "code",
      "metadata": {
        "id": "SyZv4RUKuOXI"
      },
      "source": [
        "#Open JSON file\n",
        "a3 = open('/content/drive/MyDrive/NEW dataset - MAJ/2016/2016_3.json', 'r')\n",
        "output3 = a3.read()\n",
        "\n",
        "#Convert JSON file to python dictionary\n",
        "final_list3 = json.loads(output3)\n",
        "final_list3"
      ],
      "execution_count": null,
      "outputs": []
    },
    {
      "cell_type": "markdown",
      "metadata": {
        "id": "qc0mTnNS4CVo"
      },
      "source": [
        "### Step 4.4: List 4"
      ]
    },
    {
      "cell_type": "code",
      "metadata": {
        "id": "mypDBzhr2Qki"
      },
      "source": [
        "json4 = json.dumps(new_list4)\n",
        "\n",
        "# open file for writing, \"w\" \n",
        "f = open(\"2016_4.json\",\"w\")\n",
        "\n",
        "# write json object to file\n",
        "f.write(json4)\n",
        "\n",
        "# close file\n",
        "f.close()"
      ],
      "execution_count": null,
      "outputs": []
    },
    {
      "cell_type": "code",
      "metadata": {
        "id": "q236svwj2VHM"
      },
      "source": [
        "#Open JSON file\n",
        "a4 = open('/content/drive/MyDrive/NEW dataset - MAJ/2016/2016_4.json', 'r')\n",
        "output4 = a4.read()\n",
        "\n",
        "#Convert JSON file to python dictionary\n",
        "final_list4 = json.loads(output4)\n",
        "final_list4"
      ],
      "execution_count": null,
      "outputs": []
    },
    {
      "cell_type": "markdown",
      "metadata": {
        "id": "NXrH7XuG4XsI"
      },
      "source": [
        "### Step 4.5: List 5"
      ]
    },
    {
      "cell_type": "code",
      "metadata": {
        "id": "JzXB21423FvV"
      },
      "source": [
        "json5 = json.dumps(new_list5)\n",
        "\n",
        "# open file for writing, \"w\" \n",
        "f = open(\"2016_5.json\",\"w\")\n",
        "\n",
        "# write json object to file\n",
        "f.write(json5)\n",
        "\n",
        "# close file\n",
        "f.close()"
      ],
      "execution_count": null,
      "outputs": []
    },
    {
      "cell_type": "code",
      "metadata": {
        "id": "Ng_nOO9E3QHJ"
      },
      "source": [
        "#Open JSON file\n",
        "a5 = open('/content/drive/MyDrive/NEW dataset - MAJ/2016/2016_5.json', 'r')\n",
        "output5 = a5.read()\n",
        "\n",
        "#Convert JSON file to python dictionary\n",
        "final_list5 = json.loads(output5)\n",
        "final_list5"
      ],
      "execution_count": null,
      "outputs": []
    },
    {
      "cell_type": "markdown",
      "metadata": {
        "id": "I_ofbJ0S4m7d"
      },
      "source": [
        "### Step 4.6: List 6"
      ]
    },
    {
      "cell_type": "code",
      "metadata": {
        "id": "yJAMn7Y73maV"
      },
      "source": [
        "json6 = json.dumps(new_list6)\n",
        "\n",
        "# open file for writing, \"w\" \n",
        "f = open(\"2016_6.json\",\"w\")\n",
        "\n",
        "# write json object to file\n",
        "f.write(json6)\n",
        "\n",
        "# close file\n",
        "f.close()"
      ],
      "execution_count": null,
      "outputs": []
    },
    {
      "cell_type": "code",
      "metadata": {
        "id": "iciF5Pnf3sQT"
      },
      "source": [
        "#Open JSON file\n",
        "a6 = open('/content/drive/MyDrive/NEW dataset - MAJ/2016/2016_6.json', 'r')\n",
        "output6 = a6.read()\n",
        "\n",
        "#Convert JSON file to python dictionary\n",
        "final_list6 = json.loads(output6)\n",
        "final_list6"
      ],
      "execution_count": null,
      "outputs": []
    },
    {
      "cell_type": "markdown",
      "metadata": {
        "id": "AIyIQ5-eOBkN"
      },
      "source": [
        "So far, all six json files are saved in Google Drive."
      ]
    },
    {
      "cell_type": "markdown",
      "metadata": {
        "id": "MmIQsoA1FzSN"
      },
      "source": [
        "## Step 5: Combine all six individual dictionaries"
      ]
    },
    {
      "cell_type": "code",
      "metadata": {
        "id": "LoRAv9s6uhUC"
      },
      "source": [
        "#Combine all dictionaries\n",
        "final_list = {**final_list1, **final_list2, **final_list3, **final_list4, **final_list5, **final_list6}   # number of dictionaries to be combined can be changed here"
      ],
      "execution_count": null,
      "outputs": []
    },
    {
      "cell_type": "code",
      "metadata": {
        "id": "Il2oO_VbumyA"
      },
      "source": [
        "json_final = json.dumps(final_list)\n",
        "\n",
        "# open file for writing, \"w\" \n",
        "f = open(\"2016_final.json\",\"w\")\n",
        "\n",
        "# write json object to file\n",
        "f.write(json_final)\n",
        "\n",
        "# close file\n",
        "f.close()"
      ],
      "execution_count": null,
      "outputs": []
    },
    {
      "cell_type": "code",
      "metadata": {
        "id": "TDGMyZEEusvO"
      },
      "source": [
        "#Open JSON file\n",
        "a = open('/content/drive/MyDrive/NEW dataset - MAJ/2016/2016_final.json', 'r')\n",
        "output = a.read()\n",
        "\n",
        "#Convert JSON file to python dictionary\n",
        "final_list = json.loads(output)\n",
        "final_list"
      ],
      "execution_count": null,
      "outputs": []
    },
    {
      "cell_type": "code",
      "metadata": {
        "id": "pYF6h2hadqds"
      },
      "source": [
        "len(final_list)"
      ],
      "execution_count": null,
      "outputs": []
    },
    {
      "cell_type": "markdown",
      "metadata": {
        "id": "9gH6_qLtHkzw"
      },
      "source": [
        "# All done!"
      ]
    },
    {
      "cell_type": "code",
      "metadata": {
        "id": "kvnCMOQGCWvS"
      },
      "source": [
        "pagen=[]\n",
        "for file in file_list:\n",
        "  # print(file)\n",
        "  n=(file.split('.pdf',0))\n",
        "  \n",
        "  \n",
        "  if file.endswith(\".pdf\"):\n",
        "    try:\n",
        "      with pdfplumber.open(file) as pdf:\n",
        "        pagen.append(len(pdf.pages))\n",
        "    except:\n",
        "        pagen.append('N/A')\n",
        "    finally:  \n",
        "      pass"
      ],
      "execution_count": null,
      "outputs": []
    },
    {
      "cell_type": "code",
      "metadata": {
        "id": "-bJUTa3rCh6r"
      },
      "source": [
        "#Readability + word count\n",
        "sc = []\n",
        "gf=[]\n",
        "kg=[]\n",
        "ke=[]\n",
        "dc=[]\n",
        "word_count=[]\n",
        "\n",
        "for k,v in final_list.items():\n",
        "  # print(k)\n",
        "  # print(len(v))\n",
        "  try:\n",
        "    sc.append(textstat.sentence_count(v))\n",
        "    gf.append(textstat.gunning_fog(v))\n",
        "    kg.append(textstat.flesch_kincaid_grade(v))\n",
        "    ke.append(textstat.flesch_reading_ease(v))\n",
        "    dc.append(textstat.dale_chall_readability_score(v))\n",
        "    word_count.append(textstat.lexicon_count(v, removepunct=True))\n",
        "    \n",
        "  except:\n",
        "    pass"
      ],
      "execution_count": null,
      "outputs": []
    },
    {
      "cell_type": "code",
      "metadata": {
        "id": "48zunr9JCmEe"
      },
      "source": [
        "asxcode=[]\n",
        "fyear=[]\n",
        "\n",
        "\n",
        "for file in file_list:\n",
        "  try:\n",
        "    n=(file.split('.pdf',0))\n",
        "    asxcode.append((file.rsplit('/content/drive/MyDrive/ASX annual reports/2004 (1359 firms)/')[1][0:3]).upper())\n",
        "    fyear.append((file.rsplit('/content/drive/MyDrive/ASX annual reports/2004 (1359 firms)/')[1][3:5]))\n",
        "    \n",
        "  except:\n",
        "    pass\n",
        "  "
      ],
      "execution_count": null,
      "outputs": []
    },
    {
      "cell_type": "code",
      "metadata": {
        "id": "8Gsj7y4hCmkT"
      },
      "source": [
        "from itertools import zip_longest\n",
        "data = [asxcode, fyear, sc, gf, kg, ke, dc, word_count, pagen]\n",
        "export_data = zip_longest(*data, fillvalue = '')\n",
        "with open('/content/drive/MyDrive/MAJ trial/NEW 2004 results.csv', 'w', encoding=\"ISO-8859-1\", newline='') as file:\n",
        "      write = csv.writer(file)\n",
        "      write.writerow(('asxcode', 'fyear', 'sc', 'gf', 'kg', 'ke', 'dc', 'word_count', 'pagen'))\n",
        "      write.writerows(export_data)"
      ],
      "execution_count": null,
      "outputs": []
    }
  ]
}