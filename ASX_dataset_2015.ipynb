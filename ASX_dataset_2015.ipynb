{
  "nbformat": 4,
  "nbformat_minor": 0,
  "metadata": {
    "colab": {
      "name": "ASX dataset - 2015",
      "provenance": [],
      "collapsed_sections": [],
      "include_colab_link": true
    },
    "kernelspec": {
      "display_name": "Python 3",
      "name": "python3"
    },
    "language_info": {
      "name": "python"
    }
  },
  "cells": [
    {
      "cell_type": "markdown",
      "metadata": {
        "id": "view-in-github",
        "colab_type": "text"
      },
      "source": [
        "<a href=\"https://colab.research.google.com/github/ChristoferAdrian/Annual-report-readability/blob/main/ASX_dataset_2015.ipynb\" target=\"_parent\"><img src=\"https://colab.research.google.com/assets/colab-badge.svg\" alt=\"Open In Colab\"/></a>"
      ]
    },
    {
      "cell_type": "markdown",
      "metadata": {
        "id": "TAaqfVP1Ke0r"
      },
      "source": [
        "# Codes to extract 2015 ASX annual reports\n",
        "\n",
        "##### Remember to change the file names & paths from Step 2 to Step 5, according the year"
      ]
    },
    {
      "cell_type": "markdown",
      "metadata": {
        "id": "e8OxPJ9j_Jal"
      },
      "source": [
        "## Step 1: Import all necessary modules"
      ]
    },
    {
      "cell_type": "code",
      "metadata": {
        "id": "izEVi1wasicJ",
        "colab": {
          "base_uri": "https://localhost:8080/"
        },
        "outputId": "ea75673b-fd13-4858-b2d3-26aae6f3ebf6"
      },
      "source": [
        "!pip install textstat\n",
        "!pip install PyPDF2\n",
        "!pip install -U textblob\n",
        "!pip install pdfplumber\n",
        "import os\n",
        "import glob\n",
        "import textstat\n",
        "import csv\n",
        "import PyPDF2\n",
        "from textblob import TextBlob\n",
        "import pdfplumber   # read PDF files"
      ],
      "execution_count": null,
      "outputs": [
        {
          "output_type": "stream",
          "name": "stdout",
          "text": [
            "Collecting textstat\n",
            "  Downloading textstat-0.7.2-py3-none-any.whl (101 kB)\n",
            "\u001b[K     |████████████████████████████████| 101 kB 4.5 MB/s \n",
            "\u001b[?25hCollecting pyphen\n",
            "  Downloading pyphen-0.11.0-py3-none-any.whl (2.0 MB)\n",
            "\u001b[K     |████████████████████████████████| 2.0 MB 18.2 MB/s \n",
            "\u001b[?25hInstalling collected packages: pyphen, textstat\n",
            "Successfully installed pyphen-0.11.0 textstat-0.7.2\n",
            "Collecting PyPDF2\n",
            "  Downloading PyPDF2-1.26.0.tar.gz (77 kB)\n",
            "\u001b[K     |████████████████████████████████| 77 kB 3.4 MB/s \n",
            "\u001b[?25hBuilding wheels for collected packages: PyPDF2\n",
            "  Building wheel for PyPDF2 (setup.py) ... \u001b[?25l\u001b[?25hdone\n",
            "  Created wheel for PyPDF2: filename=PyPDF2-1.26.0-py3-none-any.whl size=61101 sha256=01617e50a280b5af694ec6fd172af9a627c99d09ad8103e294a2cc5f0632025c\n",
            "  Stored in directory: /root/.cache/pip/wheels/80/1a/24/648467ade3a77ed20f35cfd2badd32134e96dd25ca811e64b3\n",
            "Successfully built PyPDF2\n",
            "Installing collected packages: PyPDF2\n",
            "Successfully installed PyPDF2-1.26.0\n",
            "Requirement already satisfied: textblob in /usr/local/lib/python3.7/dist-packages (0.15.3)\n",
            "Collecting textblob\n",
            "  Downloading textblob-0.17.1-py2.py3-none-any.whl (636 kB)\n",
            "\u001b[K     |████████████████████████████████| 636 kB 5.3 MB/s \n",
            "\u001b[?25hRequirement already satisfied: nltk>=3.1 in /usr/local/lib/python3.7/dist-packages (from textblob) (3.2.5)\n",
            "Requirement already satisfied: six in /usr/local/lib/python3.7/dist-packages (from nltk>=3.1->textblob) (1.15.0)\n",
            "Installing collected packages: textblob\n",
            "  Attempting uninstall: textblob\n",
            "    Found existing installation: textblob 0.15.3\n",
            "    Uninstalling textblob-0.15.3:\n",
            "      Successfully uninstalled textblob-0.15.3\n",
            "Successfully installed textblob-0.17.1\n",
            "Collecting pdfplumber\n",
            "  Downloading pdfplumber-0.5.28.tar.gz (45 kB)\n",
            "\u001b[K     |████████████████████████████████| 45 kB 3.0 MB/s \n",
            "\u001b[?25hCollecting pdfminer.six==20200517\n",
            "  Downloading pdfminer.six-20200517-py3-none-any.whl (5.6 MB)\n",
            "\u001b[K     |████████████████████████████████| 5.6 MB 6.6 MB/s \n",
            "\u001b[?25hRequirement already satisfied: Pillow>=7.0.0 in /usr/local/lib/python3.7/dist-packages (from pdfplumber) (7.1.2)\n",
            "Collecting Wand\n",
            "  Downloading Wand-0.6.7-py2.py3-none-any.whl (139 kB)\n",
            "\u001b[K     |████████████████████████████████| 139 kB 68.9 MB/s \n",
            "\u001b[?25hRequirement already satisfied: sortedcontainers in /usr/local/lib/python3.7/dist-packages (from pdfminer.six==20200517->pdfplumber) (2.4.0)\n",
            "Collecting pycryptodome\n",
            "  Downloading pycryptodome-3.11.0-cp35-abi3-manylinux2010_x86_64.whl (1.9 MB)\n",
            "\u001b[K     |████████████████████████████████| 1.9 MB 49.0 MB/s \n",
            "\u001b[?25hRequirement already satisfied: chardet in /usr/local/lib/python3.7/dist-packages (from pdfminer.six==20200517->pdfplumber) (3.0.4)\n",
            "Building wheels for collected packages: pdfplumber\n",
            "  Building wheel for pdfplumber (setup.py) ... \u001b[?25l\u001b[?25hdone\n",
            "  Created wheel for pdfplumber: filename=pdfplumber-0.5.28-py3-none-any.whl size=32240 sha256=24e9fd3522a41ffed04a3e4893c209e573098a77d1b46467f030c28f8b71b88a\n",
            "  Stored in directory: /root/.cache/pip/wheels/f2/b1/a0/c0a77b756d580f53b3806ae0e0b3ec945a8d05fca1d6e10cc1\n",
            "Successfully built pdfplumber\n",
            "Installing collected packages: pycryptodome, Wand, pdfminer.six, pdfplumber\n",
            "Successfully installed Wand-0.6.7 pdfminer.six-20200517 pdfplumber-0.5.28 pycryptodome-3.11.0\n"
          ]
        }
      ]
    },
    {
      "cell_type": "markdown",
      "metadata": {
        "id": "SeSEa0jh_tWK"
      },
      "source": [
        "## Step 2: Connect to my Google Drive"
      ]
    },
    {
      "cell_type": "code",
      "metadata": {
        "id": "q1mRC6_qsofR",
        "colab": {
          "base_uri": "https://localhost:8080/"
        },
        "outputId": "86c6247a-26fe-4e72-886f-4b4deee5831f"
      },
      "source": [
        "from google.colab import drive\n",
        "drive.mount('/content/drive')"
      ],
      "execution_count": null,
      "outputs": [
        {
          "output_type": "stream",
          "name": "stdout",
          "text": [
            "Mounted at /content/drive\n"
          ]
        }
      ]
    },
    {
      "cell_type": "markdown",
      "metadata": {
        "id": "dIq-YKSC_920"
      },
      "source": [
        "Change to the path of the selected folder here"
      ]
    },
    {
      "cell_type": "code",
      "metadata": {
        "id": "ua612vczs8BJ"
      },
      "source": [
        "TARGET_FILES = r'/content/drive/MyDrive/ASX annual reports/2015 (1766 firms)/*.pdf'\n",
        "file_list = glob.glob(TARGET_FILES)"
      ],
      "execution_count": null,
      "outputs": []
    },
    {
      "cell_type": "code",
      "metadata": {
        "id": "7muXRbOun9U7",
        "colab": {
          "base_uri": "https://localhost:8080/"
        },
        "outputId": "e6a952ff-50d7-4124-f0a4-831e5b5093d2"
      },
      "source": [
        "print(file_list)"
      ],
      "execution_count": null,
      "outputs": [
        {
          "output_type": "stream",
          "name": "stdout",
          "text": [
            "['/content/drive/MyDrive/ASX annual reports/2015 (1766 firms)/pra15.pdf', '/content/drive/MyDrive/ASX annual reports/2015 (1766 firms)/psp15.pdf', '/content/drive/MyDrive/ASX annual reports/2015 (1766 firms)/qur15.pdf', '/content/drive/MyDrive/ASX annual reports/2015 (1766 firms)/qnl15.pdf', '/content/drive/MyDrive/ASX annual reports/2015 (1766 firms)/rad15.pdf', '/content/drive/MyDrive/ASX annual reports/2015 (1766 firms)/qbl15.pdf', '/content/drive/MyDrive/ASX annual reports/2015 (1766 firms)/qmn15.pdf', '/content/drive/MyDrive/ASX annual reports/2015 (1766 firms)/rmr15.pdf', '/content/drive/MyDrive/ASX annual reports/2015 (1766 firms)/rrp15.pdf', '/content/drive/MyDrive/ASX annual reports/2015 (1766 firms)/rnd15.pdf', '/content/drive/MyDrive/ASX annual reports/2015 (1766 firms)/red15.pdf', '/content/drive/MyDrive/ASX annual reports/2015 (1766 firms)/rhi15.pdf', '/content/drive/MyDrive/ASX annual reports/2015 (1766 firms)/rgx15.pdf', '/content/drive/MyDrive/ASX annual reports/2015 (1766 firms)/rvr15.pdf', '/content/drive/MyDrive/ASX annual reports/2015 (1766 firms)/rdm15.pdf', '/content/drive/MyDrive/ASX annual reports/2015 (1766 firms)/rmx15.pdf', '/content/drive/MyDrive/ASX annual reports/2015 (1766 firms)/rcp15.pdf', '/content/drive/MyDrive/ASX annual reports/2015 (1766 firms)/rms15.pdf', '/content/drive/MyDrive/ASX annual reports/2015 (1766 firms)/rds15.pdf', '/content/drive/MyDrive/ASX annual reports/2015 (1766 firms)/rlc15.pdf', '/content/drive/MyDrive/ASX annual reports/2015 (1766 firms)/rbx15.pdf', '/content/drive/MyDrive/ASX annual reports/2015 (1766 firms)/rrl15.pdf', '/content/drive/MyDrive/ASX annual reports/2015 (1766 firms)/rns15.pdf', '/content/drive/MyDrive/ASX annual reports/2015 (1766 firms)/rmi15.pdf', '/content/drive/MyDrive/ASX annual reports/2015 (1766 firms)/rez15.pdf', '/content/drive/MyDrive/ASX annual reports/2015 (1766 firms)/rer15.pdf', '/content/drive/MyDrive/ASX annual reports/2015 (1766 firms)/rvy15.pdf', '/content/drive/MyDrive/ASX annual reports/2015 (1766 firms)/rsg15.pdf', '/content/drive/MyDrive/ASX annual reports/2015 (1766 firms)/rie15.pdf', '/content/drive/MyDrive/ASX annual reports/2015 (1766 firms)/rim15.pdf', '/content/drive/MyDrive/ASX annual reports/2015 (1766 firms)/rmt15.pdf', '/content/drive/MyDrive/ASX annual reports/2015 (1766 firms)/rwd15.pdf', '/content/drive/MyDrive/ASX annual reports/2015 (1766 firms)/rmg15.pdf', '/content/drive/MyDrive/ASX annual reports/2015 (1766 firms)/rxm15.pdf', '/content/drive/MyDrive/ASX annual reports/2015 (1766 firms)/rni15.pdf', '/content/drive/MyDrive/ASX annual reports/2015 (1766 firms)/rio15.pdf', '/content/drive/MyDrive/ASX annual reports/2015 (1766 firms)/rxl15.pdf', '/content/drive/MyDrive/ASX annual reports/2015 (1766 firms)/rco15.pdf', '/content/drive/MyDrive/ASX annual reports/2015 (1766 firms)/roy15.pdf', '/content/drive/MyDrive/ASX annual reports/2015 (1766 firms)/rre15.pdf', '/content/drive/MyDrive/ASX annual reports/2015 (1766 firms)/rtr15.pdf', '/content/drive/MyDrive/ASX annual reports/2015 (1766 firms)/rbr15.pdf', '/content/drive/MyDrive/ASX annual reports/2015 (1766 firms)/sbr15.pdf', '/content/drive/MyDrive/ASX annual reports/2015 (1766 firms)/smi15.pdf', '/content/drive/MyDrive/ASX annual reports/2015 (1766 firms)/rtg15.pdf', '/content/drive/MyDrive/ASX annual reports/2015 (1766 firms)/sfr15.pdf', '/content/drive/MyDrive/ASX annual reports/2015 (1766 firms)/sar15.pdf', '/content/drive/MyDrive/ASX annual reports/2015 (1766 firms)/sgz15.pdf', '/content/drive/MyDrive/ASX annual reports/2015 (1766 firms)/ses15.pdf', '/content/drive/MyDrive/ASX annual reports/2015 (1766 firms)/sfx15.pdf', '/content/drive/MyDrive/ASX annual reports/2015 (1766 firms)/sya15.pdf', '/content/drive/MyDrive/ASX annual reports/2015 (1766 firms)/srr15.pdf', '/content/drive/MyDrive/ASX annual reports/2015 (1766 firms)/seg15.pdf', '/content/drive/MyDrive/ASX annual reports/2015 (1766 firms)/sbu15.pdf', '/content/drive/MyDrive/ASX annual reports/2015 (1766 firms)/slr15.pdf', '/content/drive/MyDrive/ASX annual reports/2015 (1766 firms)/sih15.pdf', '/content/drive/MyDrive/ASX annual reports/2015 (1766 firms)/sci15.pdf', '/content/drive/MyDrive/ASX annual reports/2015 (1766 firms)/svl15.pdf', '/content/drive/MyDrive/ASX annual reports/2015 (1766 firms)/say15.pdf', '/content/drive/MyDrive/ASX annual reports/2015 (1766 firms)/sop15.pdf', '/content/drive/MyDrive/ASX annual reports/2015 (1766 firms)/snv15.pdf', '/content/drive/MyDrive/ASX annual reports/2015 (1766 firms)/sfz15.pdf', '/content/drive/MyDrive/ASX annual reports/2015 (1766 firms)/sxi15.pdf', '/content/drive/MyDrive/ASX annual reports/2015 (1766 firms)/sgm15.pdf', '/content/drive/MyDrive/ASX annual reports/2015 (1766 firms)/sxx15.pdf', '/content/drive/MyDrive/ASX annual reports/2015 (1766 firms)/sri15.pdf', '/content/drive/MyDrive/ASX annual reports/2015 (1766 firms)/sau15.pdf', '/content/drive/MyDrive/ASX annual reports/2015 (1766 firms)/swr15.pdf', '/content/drive/MyDrive/ASX annual reports/2015 (1766 firms)/suh15.pdf', '/content/drive/MyDrive/ASX annual reports/2015 (1766 firms)/soc15.pdf', '/content/drive/MyDrive/ASX annual reports/2015 (1766 firms)/spi15.pdf', '/content/drive/MyDrive/ASX annual reports/2015 (1766 firms)/spx15.pdf', '/content/drive/MyDrive/ASX annual reports/2015 (1766 firms)/svm15.pdf', '/content/drive/MyDrive/ASX annual reports/2015 (1766 firms)/sph15.pdf', '/content/drive/MyDrive/ASX annual reports/2015 (1766 firms)/sbm15.pdf', '/content/drive/MyDrive/ASX annual reports/2015 (1766 firms)/sgq15.pdf', '/content/drive/MyDrive/ASX annual reports/2015 (1766 firms)/svy15.pdf', '/content/drive/MyDrive/ASX annual reports/2015 (1766 firms)/srz15.pdf', '/content/drive/MyDrive/ASX annual reports/2015 (1766 firms)/shk15.pdf', '/content/drive/MyDrive/ASX annual reports/2015 (1766 firms)/swj15.pdf', '/content/drive/MyDrive/ASX annual reports/2015 (1766 firms)/srq15.pdf', '/content/drive/MyDrive/ASX annual reports/2015 (1766 firms)/sta15.pdf', '/content/drive/MyDrive/ASX annual reports/2015 (1766 firms)/ser15.pdf', '/content/drive/MyDrive/ASX annual reports/2015 (1766 firms)/sxt15.pdf', '/content/drive/MyDrive/ASX annual reports/2015 (1766 firms)/smc15.pdf', '/content/drive/MyDrive/ASX annual reports/2015 (1766 firms)/srk15.pdf', '/content/drive/MyDrive/ASX annual reports/2015 (1766 firms)/sum15.pdf', '/content/drive/MyDrive/ASX annual reports/2015 (1766 firms)/sdl15.pdf', '/content/drive/MyDrive/ASX annual reports/2015 (1766 firms)/spq15.pdf', '/content/drive/MyDrive/ASX annual reports/2015 (1766 firms)/swa15.pdf', '/content/drive/MyDrive/ASX annual reports/2015 (1766 firms)/swk15.pdf', '/content/drive/MyDrive/ASX annual reports/2015 (1766 firms)/smd15.pdf', '/content/drive/MyDrive/ASX annual reports/2015 (1766 firms)/syr15.pdf', '/content/drive/MyDrive/ASX annual reports/2015 (1766 firms)/tlg15.pdf', '/content/drive/MyDrive/ASX annual reports/2015 (1766 firms)/tlm15.pdf', '/content/drive/MyDrive/ASX annual reports/2015 (1766 firms)/tam15.pdf', '/content/drive/MyDrive/ASX annual reports/2015 (1766 firms)/trl15.pdf', '/content/drive/MyDrive/ASX annual reports/2015 (1766 firms)/tar15.pdf', '/content/drive/MyDrive/ASX annual reports/2015 (1766 firms)/tas15.pdf', '/content/drive/MyDrive/ASX annual reports/2015 (1766 firms)/tmm15.pdf', '/content/drive/MyDrive/ASX annual reports/2015 (1766 firms)/taw15.pdf', '/content/drive/MyDrive/ASX annual reports/2015 (1766 firms)/tgz15.pdf', '/content/drive/MyDrive/ASX annual reports/2015 (1766 firms)/tmx15.pdf', '/content/drive/MyDrive/ASX annual reports/2015 (1766 firms)/tzn15.pdf', '/content/drive/MyDrive/ASX annual reports/2015 (1766 firms)/cjc15.pdf', '/content/drive/MyDrive/ASX annual reports/2015 (1766 firms)/tfc15.pdf', '/content/drive/MyDrive/ASX annual reports/2015 (1766 firms)/tmz15.pdf', '/content/drive/MyDrive/ASX annual reports/2015 (1766 firms)/thr15.pdf', '/content/drive/MyDrive/ASX annual reports/2015 (1766 firms)/thx15.pdf', '/content/drive/MyDrive/ASX annual reports/2015 (1766 firms)/tpo15.pdf', '/content/drive/MyDrive/ASX annual reports/2015 (1766 firms)/tpr15.pdf', '/content/drive/MyDrive/ASX annual reports/2015 (1766 firms)/tgs15.pdf', '/content/drive/MyDrive/ASX annual reports/2015 (1766 firms)/tig15.pdf', '/content/drive/MyDrive/ASX annual reports/2015 (1766 firms)/tng15.pdf', '/content/drive/MyDrive/ASX annual reports/2015 (1766 firms)/tnd15.pdf', '/content/drive/MyDrive/ASX annual reports/2015 (1766 firms)/tnr15.pdf', '/content/drive/MyDrive/ASX annual reports/2015 (1766 firms)/tkl15.pdf', '/content/drive/MyDrive/ASX annual reports/2015 (1766 firms)/tbr15.pdf', '/content/drive/MyDrive/ASX annual reports/2015 (1766 firms)/ton15.pdf', '/content/drive/MyDrive/ASX annual reports/2015 (1766 firms)/try15.pdf', '/content/drive/MyDrive/ASX annual reports/2015 (1766 firms)/trm15.pdf', '/content/drive/MyDrive/ASX annual reports/2015 (1766 firms)/tgn15.pdf', '/content/drive/MyDrive/ASX annual reports/2015 (1766 firms)/tyx15.pdf', '/content/drive/MyDrive/ASX annual reports/2015 (1766 firms)/uml15.pdf', '/content/drive/MyDrive/ASX annual reports/2015 (1766 firms)/vxl15.pdf', '/content/drive/MyDrive/ASX annual reports/2015 (1766 firms)/van15.pdf', '/content/drive/MyDrive/ASX annual reports/2015 (1766 firms)/var15.pdf', '/content/drive/MyDrive/ASX annual reports/2015 (1766 firms)/vec15.pdf', '/content/drive/MyDrive/ASX annual reports/2015 (1766 firms)/vrx15.pdf', '/content/drive/MyDrive/ASX annual reports/2015 (1766 firms)/vms15.pdf', '/content/drive/MyDrive/ASX annual reports/2015 (1766 firms)/vxr15.pdf', '/content/drive/MyDrive/ASX annual reports/2015 (1766 firms)/vmc15.pdf', '/content/drive/MyDrive/ASX annual reports/2015 (1766 firms)/via15.pdf', '/content/drive/MyDrive/ASX annual reports/2015 (1766 firms)/vic15.pdf', '/content/drive/MyDrive/ASX annual reports/2015 (1766 firms)/vii15.pdf', '/content/drive/MyDrive/ASX annual reports/2015 (1766 firms)/vka15.pdf', '/content/drive/MyDrive/ASX annual reports/2015 (1766 firms)/vml15.pdf', '/content/drive/MyDrive/ASX annual reports/2015 (1766 firms)/vtm15.pdf', '/content/drive/MyDrive/ASX annual reports/2015 (1766 firms)/wkt15.pdf', '/content/drive/MyDrive/ASX annual reports/2015 (1766 firms)/wgo15.pdf', '/content/drive/MyDrive/ASX annual reports/2015 (1766 firms)/wcp15.pdf', '/content/drive/MyDrive/ASX annual reports/2015 (1766 firms)/waf15.pdf', '/content/drive/MyDrive/ASX annual reports/2015 (1766 firms)/wal15.pdf', '/content/drive/MyDrive/ASX annual reports/2015 (1766 firms)/wpi15.pdf', '/content/drive/MyDrive/ASX annual reports/2015 (1766 firms)/wwi15.pdf', '/content/drive/MyDrive/ASX annual reports/2015 (1766 firms)/wsa15.pdf', '/content/drive/MyDrive/ASX annual reports/2015 (1766 firms)/wmn15.pdf', '/content/drive/MyDrive/ASX annual reports/2015 (1766 firms)/wrm15.pdf', '/content/drive/MyDrive/ASX annual reports/2015 (1766 firms)/wcn15.pdf', '/content/drive/MyDrive/ASX annual reports/2015 (1766 firms)/wac15.pdf', '/content/drive/MyDrive/ASX annual reports/2015 (1766 firms)/wvl15.pdf', '/content/drive/MyDrive/ASX annual reports/2015 (1766 firms)/win15.pdf', '/content/drive/MyDrive/ASX annual reports/2015 (1766 firms)/wfe15.pdf', '/content/drive/MyDrive/ASX annual reports/2015 (1766 firms)/wlf15.pdf', '/content/drive/MyDrive/ASX annual reports/2015 (1766 firms)/wlc15.pdf', '/content/drive/MyDrive/ASX annual reports/2015 (1766 firms)/wtr15.pdf', '/content/drive/MyDrive/ASX annual reports/2015 (1766 firms)/wpg15.pdf', '/content/drive/MyDrive/ASX annual reports/2015 (1766 firms)/xam15.pdf', '/content/drive/MyDrive/ASX annual reports/2015 (1766 firms)/yrr15.pdf', '/content/drive/MyDrive/ASX annual reports/2015 (1766 firms)/zam15.pdf', '/content/drive/MyDrive/ASX annual reports/2015 (1766 firms)/zrl15.pdf', '/content/drive/MyDrive/ASX annual reports/2015 (1766 firms)/zgm15.pdf', '/content/drive/MyDrive/ASX annual reports/2015 (1766 firms)/znc15.pdf', '/content/drive/MyDrive/ASX annual reports/2015 (1766 firms)/zyl15.pdf', '/content/drive/MyDrive/ASX annual reports/2015 (1766 firms)/zim15.pdf', '/content/drive/MyDrive/ASX annual reports/2015 (1766 firms)/adq15.pdf', '/content/drive/MyDrive/ASX annual reports/2015 (1766 firms)/aei15.pdf', '/content/drive/MyDrive/ASX annual reports/2015 (1766 firms)/ahj15.pdf', '/content/drive/MyDrive/ASX annual reports/2015 (1766 firms)/aiz15.pdf', '/content/drive/MyDrive/ASX annual reports/2015 (1766 firms)/aqz15.pdf', '/content/drive/MyDrive/ASX annual reports/2015 (1766 firms)/ajl15.pdf', '/content/drive/MyDrive/ASX annual reports/2015 (1766 firms)/amb15.pdf', '/content/drive/MyDrive/ASX annual reports/2015 (1766 firms)/ara15.pdf', '/content/drive/MyDrive/ASX annual reports/2015 (1766 firms)/ama.pdf', '/content/drive/MyDrive/ASX annual reports/2015 (1766 firms)/anq15.pdf', '/content/drive/MyDrive/ASX annual reports/2015 (1766 firms)/awn15.pdf', '/content/drive/MyDrive/ASX annual reports/2015 (1766 firms)/alq15.pdf', '/content/drive/MyDrive/ASX annual reports/2015 (1766 firms)/air15.pdf', '/content/drive/MyDrive/ASX annual reports/2015 (1766 firms)/ash15.pdf', '/content/drive/MyDrive/ASX annual reports/2015 (1766 firms)/azj15.pdf', '/content/drive/MyDrive/ASX annual reports/2015 (1766 firms)/aio15.pdf', '/content/drive/MyDrive/ASX annual reports/2015 (1766 firms)/bkm15.pdf', '/content/drive/MyDrive/ASX annual reports/2015 (1766 firms)/ang15.pdf', '/content/drive/MyDrive/ASX annual reports/2015 (1766 firms)/asb15.pdf', '/content/drive/MyDrive/ASX annual reports/2015 (1766 firms)/aax15.pdf', '/content/drive/MyDrive/ASX annual reports/2015 (1766 firms)/aia15.pdf', '/content/drive/MyDrive/ASX annual reports/2015 (1766 firms)/bxb15.pdf', '/content/drive/MyDrive/ASX annual reports/2015 (1766 firms)/bol15.pdf', '/content/drive/MyDrive/ASX annual reports/2015 (1766 firms)/bsa15.pdf', '/content/drive/MyDrive/ASX annual reports/2015 (1766 firms)/byl15.pdf', '/content/drive/MyDrive/ASX annual reports/2015 (1766 firms)/bkn15.pdf', '/content/drive/MyDrive/ASX annual reports/2015 (1766 firms)/cab15.pdf', '/content/drive/MyDrive/ASX annual reports/2015 (1766 firms)/ccf15.pdf', '/content/drive/MyDrive/ASX annual reports/2015 (1766 firms)/cwc15.pdf', '/content/drive/MyDrive/ASX annual reports/2015 (1766 firms)/cdd15.pdf', '/content/drive/MyDrive/ASX annual reports/2015 (1766 firms)/cnd15.pdf', '/content/drive/MyDrive/ASX annual reports/2015 (1766 firms)/chr15.pdf', '/content/drive/MyDrive/ASX annual reports/2015 (1766 firms)/cim15.pdf', '/content/drive/MyDrive/ASX annual reports/2015 (1766 firms)/cgr15.pdf', '/content/drive/MyDrive/ASX annual reports/2015 (1766 firms)/clq15.pdf', '/content/drive/MyDrive/ASX annual reports/2015 (1766 firms)/cmi15.pdf', '/content/drive/MyDrive/ASX annual reports/2015 (1766 firms)/cof15.pdf', '/content/drive/MyDrive/ASX annual reports/2015 (1766 firms)/cyg15.pdf', '/content/drive/MyDrive/ASX annual reports/2015 (1766 firms)/clx15.pdf', '/content/drive/MyDrive/ASX annual reports/2015 (1766 firms)/dgx15.pdf', '/content/drive/MyDrive/ASX annual reports/2015 (1766 firms)/cgh15.pdf', '/content/drive/MyDrive/ASX annual reports/2015 (1766 firms)/dow15.pdf', '/content/drive/MyDrive/ASX annual reports/2015 (1766 firms)/eal15.pdf', '/content/drive/MyDrive/ASX annual reports/2015 (1766 firms)/dcg15.pdf', '/content/drive/MyDrive/ASX annual reports/2015 (1766 firms)/emb15.pdf', '/content/drive/MyDrive/ASX annual reports/2015 (1766 firms)/eos15.pdf', '/content/drive/MyDrive/ASX annual reports/2015 (1766 firms)/cup15.pdf', '/content/drive/MyDrive/ASX annual reports/2015 (1766 firms)/ehl15.pdf', '/content/drive/MyDrive/ASX annual reports/2015 (1766 firms)/eax15.pdf', '/content/drive/MyDrive/ASX annual reports/2015 (1766 firms)/egy15.pdf', '/content/drive/MyDrive/ASX annual reports/2015 (1766 firms)/egn15.pdf', '/content/drive/MyDrive/ASX annual reports/2015 (1766 firms)/emc15.pdf', '/content/drive/MyDrive/ASX annual reports/2015 (1766 firms)/evz15.pdf', '/content/drive/MyDrive/ASX annual reports/2015 (1766 firms)/egl15.pdf', '/content/drive/MyDrive/ASX annual reports/2015 (1766 firms)/fgi15.pdf', '/content/drive/MyDrive/ASX annual reports/2015 (1766 firms)/eza15.pdf', '/content/drive/MyDrive/ASX annual reports/2015 (1766 firms)/ecg15.pdf', '/content/drive/MyDrive/ASX annual reports/2015 (1766 firms)/fgx15.pdf', '/content/drive/MyDrive/ASX annual reports/2015 (1766 firms)/fcg15.pdf', '/content/drive/MyDrive/ASX annual reports/2015 (1766 firms)/ger15.pdf', '/content/drive/MyDrive/ASX annual reports/2015 (1766 firms)/hit15.pdf', '/content/drive/MyDrive/ASX annual reports/2015 (1766 firms)/esi15.pdf', '/content/drive/MyDrive/ASX annual reports/2015 (1766 firms)/gcs15.pdf', '/content/drive/MyDrive/ASX annual reports/2015 (1766 firms)/gwa15.pdf', '/content/drive/MyDrive/ASX annual reports/2015 (1766 firms)/hng15.pdf', '/content/drive/MyDrive/ASX annual reports/2015 (1766 firms)/hrl15.pdf', '/content/drive/MyDrive/ASX annual reports/2015 (1766 firms)/hjb15.pdf', '/content/drive/MyDrive/ASX annual reports/2015 (1766 firms)/jvg15.pdf', '/content/drive/MyDrive/ASX annual reports/2015 (1766 firms)/ivt15.pdf', '/content/drive/MyDrive/ASX annual reports/2015 (1766 firms)/iwg15.pdf', '/content/drive/MyDrive/ASX annual reports/2015 (1766 firms)/shr15.pdf', '/content/drive/MyDrive/ASX annual reports/2015 (1766 firms)/iph15.pdf', '/content/drive/MyDrive/ASX annual reports/2015 (1766 firms)/ilh15.pdf', '/content/drive/MyDrive/ASX annual reports/2015 (1766 firms)/knh15.pdf', '/content/drive/MyDrive/ASX annual reports/2015 (1766 firms)/ksc15.pdf', '/content/drive/MyDrive/ASX annual reports/2015 (1766 firms)/lgd15.pdf', '/content/drive/MyDrive/ASX annual reports/2015 (1766 firms)/lcm15.pdf', '/content/drive/MyDrive/ASX annual reports/2015 (1766 firms)/kov15.pdf', '/content/drive/MyDrive/ASX annual reports/2015 (1766 firms)/lau15.pdf', '/content/drive/MyDrive/ASX annual reports/2015 (1766 firms)/lyl15.pdf', '/content/drive/MyDrive/ASX annual reports/2015 (1766 firms)/mcs15.pdf', '/content/drive/MyDrive/ASX annual reports/2015 (1766 firms)/mxi15.pdf', '/content/drive/MyDrive/ASX annual reports/2015 (1766 firms)/mqa15.pdf', '/content/drive/MyDrive/ASX annual reports/2015 (1766 firms)/msi15.pdf', '/content/drive/MyDrive/ASX annual reports/2015 (1766 firms)/lbl15.pdf', '/content/drive/MyDrive/ASX annual reports/2015 (1766 firms)/nod15.pdf', '/content/drive/MyDrive/ASX annual reports/2015 (1766 firms)/mpp15.pdf', '/content/drive/MyDrive/ASX annual reports/2015 (1766 firms)/mnd15.pdf', '/content/drive/MyDrive/ASX annual reports/2015 (1766 firms)/mms15.pdf', '/content/drive/MyDrive/ASX annual reports/2015 (1766 firms)/nwh15.pdf', '/content/drive/MyDrive/ASX annual reports/2015 (1766 firms)/olh15.pdf', '/content/drive/MyDrive/ASX annual reports/2015 (1766 firms)/ofw15.pdf', '/content/drive/MyDrive/ASX annual reports/2015 (1766 firms)/orh15.pdf', '/content/drive/MyDrive/ASX annual reports/2015 (1766 firms)/nam15.pdf', '/content/drive/MyDrive/ASX annual reports/2015 (1766 firms)/oti15.pdf', '/content/drive/MyDrive/ASX annual reports/2015 (1766 firms)/oec15.pdf', '/content/drive/MyDrive/ASX annual reports/2015 (1766 firms)/opg15.pdf', '/content/drive/MyDrive/ASX annual reports/2015 (1766 firms)/ppx15.pdf', '/content/drive/MyDrive/ASX annual reports/2015 (1766 firms)/peh15.pdf', '/content/drive/MyDrive/ASX annual reports/2015 (1766 firms)/otc15.pdf', '/content/drive/MyDrive/ASX annual reports/2015 (1766 firms)/ppk15.pdf', '/content/drive/MyDrive/ASX annual reports/2015 (1766 firms)/phk15.pdf', '/content/drive/MyDrive/ASX annual reports/2015 (1766 firms)/psz15.pdf', '/content/drive/MyDrive/ASX annual reports/2015 (1766 firms)/ptb15.pdf', '/content/drive/MyDrive/ASX annual reports/2015 (1766 firms)/pmp15.pdf', '/content/drive/MyDrive/ASX annual reports/2015 (1766 firms)/qan15.pdf', '/content/drive/MyDrive/ASX annual reports/2015 (1766 firms)/qhl15.pdf', '/content/drive/MyDrive/ASX annual reports/2015 (1766 firms)/prg15.pdf', '/content/drive/MyDrive/ASX annual reports/2015 (1766 firms)/qub15.pdf', '/content/drive/MyDrive/ASX annual reports/2015 (1766 firms)/rcm15.pdf', '/content/drive/MyDrive/ASX annual reports/2015 (1766 firms)/rcr15.pdf', '/content/drive/MyDrive/ASX annual reports/2015 (1766 firms)/rft15.pdf', '/content/drive/MyDrive/ASX annual reports/2015 (1766 firms)/rdg15.pdf', '/content/drive/MyDrive/ASX annual reports/2015 (1766 firms)/rfx15.pdf', '/content/drive/MyDrive/ASX annual reports/2015 (1766 firms)/rec15.pdf', '/content/drive/MyDrive/ASX annual reports/2015 (1766 firms)/ris15.pdf', '/content/drive/MyDrive/ASX annual reports/2015 (1766 firms)/rub15.pdf', '/content/drive/MyDrive/ASX annual reports/2015 (1766 firms)/rwh15.pdf', '/content/drive/MyDrive/ASX annual reports/2015 (1766 firms)/reh15.pdf', '/content/drive/MyDrive/ASX annual reports/2015 (1766 firms)/sai15.pdf', '/content/drive/MyDrive/ASX annual reports/2015 (1766 firms)/sfg15.pdf', '/content/drive/MyDrive/ASX annual reports/2015 (1766 firms)/rex15.pdf', '/content/drive/MyDrive/ASX annual reports/2015 (1766 firms)/sdm15.pdf', '/content/drive/MyDrive/ASX annual reports/2015 (1766 firms)/ssm15.pdf', '/content/drive/MyDrive/ASX annual reports/2015 (1766 firms)/snd15.pdf', '/content/drive/MyDrive/ASX annual reports/2015 (1766 firms)/svw15.pdf', '/content/drive/MyDrive/ASX annual reports/2015 (1766 firms)/swl15.pdf', '/content/drive/MyDrive/ASX annual reports/2015 (1766 firms)/sgf15.pdf', '/content/drive/MyDrive/ASX annual reports/2015 (1766 firms)/sle15.pdf', '/content/drive/MyDrive/ASX annual reports/2015 (1766 firms)/srh15.pdf', '/content/drive/MyDrive/ASX annual reports/2015 (1766 firms)/sit15.pdf', '/content/drive/MyDrive/ASX annual reports/2015 (1766 firms)/siv15.pdf', '/content/drive/MyDrive/ASX annual reports/2015 (1766 firms)/ske15.pdf', '/content/drive/MyDrive/ASX annual reports/2015 (1766 firms)/soo15.pdf', '/content/drive/MyDrive/ASX annual reports/2015 (1766 firms)/spo15.pdf', '/content/drive/MyDrive/ASX annual reports/2015 (1766 firms)/sst15.pdf', '/content/drive/MyDrive/ASX annual reports/2015 (1766 firms)/siq15.pdf', '/content/drive/MyDrive/ASX annual reports/2015 (1766 firms)/szg15.pdf', '/content/drive/MyDrive/ASX annual reports/2015 (1766 firms)/sks15.pdf', '/content/drive/MyDrive/ASX annual reports/2015 (1766 firms)/tho15.pdf', '/content/drive/MyDrive/ASX annual reports/2015 (1766 firms)/sts15.pdf', '/content/drive/MyDrive/ASX annual reports/2015 (1766 firms)/tpp15.pdf', '/content/drive/MyDrive/ASX annual reports/2015 (1766 firms)/syd15.pdf', '/content/drive/MyDrive/ASX annual reports/2015 (1766 firms)/tse15.pdf', '/content/drive/MyDrive/ASX annual reports/2015 (1766 firms)/tcl15.pdf', '/content/drive/MyDrive/ASX annual reports/2015 (1766 firms)/tup15.pdf', '/content/drive/MyDrive/ASX annual reports/2015 (1766 firms)/tti15.pdf', '/content/drive/MyDrive/ASX annual reports/2015 (1766 firms)/tox15.pdf', '/content/drive/MyDrive/ASX annual reports/2015 (1766 firms)/vtx15.pdf', '/content/drive/MyDrive/ASX annual reports/2015 (1766 firms)/tpi15.pdf', '/content/drive/MyDrive/ASX annual reports/2015 (1766 firms)/ugl15.pdf', '/content/drive/MyDrive/ASX annual reports/2015 (1766 firms)/wll15.pdf', '/content/drive/MyDrive/ASX annual reports/2015 (1766 firms)/xrf15.pdf', '/content/drive/MyDrive/ASX annual reports/2015 (1766 firms)/xte15.pdf', '/content/drive/MyDrive/ASX annual reports/2015 (1766 firms)/zgl15.pdf', '/content/drive/MyDrive/ASX annual reports/2015 (1766 firms)/ypb15.pdf', '/content/drive/MyDrive/ASX annual reports/2015 (1766 firms)/wtp15.pdf', '/content/drive/MyDrive/ASX annual reports/2015 (1766 firms)/vmg15.pdf', '/content/drive/MyDrive/ASX annual reports/2015 (1766 firms)/vgp15.pdf', '/content/drive/MyDrive/ASX annual reports/2015 (1766 firms)/ved15.pdf', '/content/drive/MyDrive/ASX annual reports/2015 (1766 firms)/vah15.pdf', '/content/drive/MyDrive/ASX annual reports/2015 (1766 firms)/vip15.pdf', '/content/drive/MyDrive/ASX annual reports/2015 (1766 firms)/akg15.pdf', '/content/drive/MyDrive/ASX annual reports/2015 (1766 firms)/abv15.pdf', '/content/drive/MyDrive/ASX annual reports/2015 (1766 firms)/ace15.pdf', '/content/drive/MyDrive/ASX annual reports/2015 (1766 firms)/3pl15.pdf', '/content/drive/MyDrive/ASX annual reports/2015 (1766 firms)/ahd15.pdf', '/content/drive/MyDrive/ASX annual reports/2015 (1766 firms)/ape15.pdf', '/content/drive/MyDrive/ASX annual reports/2015 (1766 firms)/aqs15.pdf', '/content/drive/MyDrive/ASX annual reports/2015 (1766 firms)/agi15.pdf', '/content/drive/MyDrive/ASX annual reports/2015 (1766 firms)/apn15.pdf', '/content/drive/MyDrive/ASX annual reports/2015 (1766 firms)/afa15.pdf', '/content/drive/MyDrive/ASX annual reports/2015 (1766 firms)/all15.pdf', '/content/drive/MyDrive/ASX annual reports/2015 (1766 firms)/akp15.pdf', '/content/drive/MyDrive/ASX annual reports/2015 (1766 firms)/atp15.pdf', '/content/drive/MyDrive/ASX annual reports/2015 (1766 firms)/arb15.pdf', '/content/drive/MyDrive/ASX annual reports/2015 (1766 firms)/aco15.pdf', '/content/drive/MyDrive/ASX annual reports/2015 (1766 firms)/ahg15.pdf', '/content/drive/MyDrive/ASX annual reports/2015 (1766 firms)/blx15.pdf', '/content/drive/MyDrive/ASX annual reports/2015 (1766 firms)/bop15.pdf', '/content/drive/MyDrive/ASX annual reports/2015 (1766 firms)/aad15.pdf', '/content/drive/MyDrive/ASX annual reports/2015 (1766 firms)/brg15.pdf', '/content/drive/MyDrive/ASX annual reports/2015 (1766 firms)/bpg15.pdf', '/content/drive/MyDrive/ASX annual reports/2015 (1766 firms)/bbg15.pdf', '/content/drive/MyDrive/ASX annual reports/2015 (1766 firms)/cik15.pdf', '/content/drive/MyDrive/ASX annual reports/2015 (1766 firms)/bic15.pdf', '/content/drive/MyDrive/ASX annual reports/2015 (1766 firms)/cl815.pdf', '/content/drive/MyDrive/ASX annual reports/2015 (1766 firms)/bap15.pdf', '/content/drive/MyDrive/ASX annual reports/2015 (1766 firms)/ckf15.pdf', '/content/drive/MyDrive/ASX annual reports/2015 (1766 firms)/ctd15.pdf', '/content/drive/MyDrive/ASX annual reports/2015 (1766 firms)/cgw15.pdf', '/content/drive/MyDrive/ASX annual reports/2015 (1766 firms)/dlc15.pdf', '/content/drive/MyDrive/ASX annual reports/2015 (1766 firms)/ddt15.pdf', '/content/drive/MyDrive/ASX annual reports/2015 (1766 firms)/dvi15.pdf', '/content/drive/MyDrive/ASX annual reports/2015 (1766 firms)/dmp15.pdf', '/content/drive/MyDrive/ASX annual reports/2015 (1766 firms)/ebt15.pdf', '/content/drive/MyDrive/ASX annual reports/2015 (1766 firms)/cwn15.pdf', '/content/drive/MyDrive/ASX annual reports/2015 (1766 firms)/enn15.pdf', '/content/drive/MyDrive/ASX annual reports/2015 (1766 firms)/dsh15.pdf', '/content/drive/MyDrive/ASX annual reports/2015 (1766 firms)/ebg15.pdf', '/content/drive/MyDrive/ASX annual reports/2015 (1766 firms)/egp15.pdf', '/content/drive/MyDrive/ASX annual reports/2015 (1766 firms)/dna15.pdf', '/content/drive/MyDrive/ASX annual reports/2015 (1766 firms)/flt15.pdf', '/content/drive/MyDrive/ASX annual reports/2015 (1766 firms)/fan15.pdf', '/content/drive/MyDrive/ASX annual reports/2015 (1766 firms)/fwd15.pdf', '/content/drive/MyDrive/ASX annual reports/2015 (1766 firms)/fln15.pdf', '/content/drive/MyDrive/ASX annual reports/2015 (1766 firms)/gzl15.pdf', '/content/drive/MyDrive/ASX annual reports/2015 (1766 firms)/gap15.pdf', '/content/drive/MyDrive/ASX annual reports/2015 (1766 firms)/fun15.pdf', '/content/drive/MyDrive/ASX annual reports/2015 (1766 firms)/gem15.pdf', '/content/drive/MyDrive/ASX annual reports/2015 (1766 firms)/gud15.pdf', '/content/drive/MyDrive/ASX annual reports/2015 (1766 firms)/gxl15.pdf', '/content/drive/MyDrive/ASX annual reports/2015 (1766 firms)/gle15.pdf', '/content/drive/MyDrive/ASX annual reports/2015 (1766 firms)/hlo15.pdf', '/content/drive/MyDrive/ASX annual reports/2015 (1766 firms)/ict15.pdf', '/content/drive/MyDrive/ASX annual reports/2015 (1766 firms)/glb15.pdf', '/content/drive/MyDrive/ASX annual reports/2015 (1766 firms)/hvn15.pdf', '/content/drive/MyDrive/ASX annual reports/2015 (1766 firms)/idz15.pdf', '/content/drive/MyDrive/ASX annual reports/2015 (1766 firms)/iqe15.pdf', '/content/drive/MyDrive/ASX annual reports/2015 (1766 firms)/jat15.pdf', '/content/drive/MyDrive/ASX annual reports/2015 (1766 firms)/jbh15.pdf', '/content/drive/MyDrive/ASX annual reports/2015 (1766 firms)/jyc15.pdf', '/content/drive/MyDrive/ASX annual reports/2015 (1766 firms)/isu15.pdf', '/content/drive/MyDrive/ASX annual reports/2015 (1766 firms)/kmd15.pdf', '/content/drive/MyDrive/ASX annual reports/2015 (1766 firms)/kfg15.pdf', '/content/drive/MyDrive/ASX annual reports/2015 (1766 firms)/kme15.pdf', '/content/drive/MyDrive/ASX annual reports/2015 (1766 firms)/ivc15.pdf', '/content/drive/MyDrive/ASX annual reports/2015 (1766 firms)/kfe15.pdf', '/content/drive/MyDrive/ASX annual reports/2015 (1766 firms)/las15.pdf', '/content/drive/MyDrive/ASX annual reports/2015 (1766 firms)/krs15.pdf', '/content/drive/MyDrive/ASX annual reports/2015 (1766 firms)/jin15.pdf', '/content/drive/MyDrive/ASX annual reports/2015 (1766 firms)/lfc15.pdf', '/content/drive/MyDrive/ASX annual reports/2015 (1766 firms)/lov15.pdf', '/content/drive/MyDrive/ASX annual reports/2015 (1766 firms)/mtr15.pdf', '/content/drive/MyDrive/ASX annual reports/2015 (1766 firms)/mui15.pdf', '/content/drive/MyDrive/ASX annual reports/2015 (1766 firms)/mhi15.pdf', '/content/drive/MyDrive/ASX annual reports/2015 (1766 firms)/mzu15.pdf', '/content/drive/MyDrive/ASX annual reports/2015 (1766 firms)/myr15.pdf', '/content/drive/MyDrive/ASX annual reports/2015 (1766 firms)/nvt15.pdf', '/content/drive/MyDrive/ASX annual reports/2015 (1766 firms)/nhh15.pdf', '/content/drive/MyDrive/ASX annual reports/2015 (1766 firms)/nck15.pdf', '/content/drive/MyDrive/ASX annual reports/2015 (1766 firms)/nbl15.pdf', '/content/drive/MyDrive/ASX annual reports/2015 (1766 firms)/orl15.pdf', '/content/drive/MyDrive/ASX annual reports/2015 (1766 firms)/pbg15.pdf', '/content/drive/MyDrive/ASX annual reports/2015 (1766 firms)/peg15.pdf', '/content/drive/MyDrive/ASX annual reports/2015 (1766 firms)/qtm15.pdf', '/content/drive/MyDrive/ASX annual reports/2015 (1766 firms)/pmv15.pdf', '/content/drive/MyDrive/ASX annual reports/2015 (1766 firms)/rcg15.pdf', '/content/drive/MyDrive/ASX annual reports/2015 (1766 firms)/rdh15.pdf', '/content/drive/MyDrive/ASX annual reports/2015 (1766 firms)/rma15.pdf', '/content/drive/MyDrive/ASX annual reports/2015 (1766 firms)/rct15.pdf', '/content/drive/MyDrive/ASX annual reports/2015 (1766 firms)/rfg15.pdf', '/content/drive/MyDrive/ASX annual reports/2015 (1766 firms)/rhl15.pdf', '/content/drive/MyDrive/ASX annual reports/2015 (1766 firms)/sfc15.pdf', '/content/drive/MyDrive/ASX annual reports/2015 (1766 firms)/slk15.pdf', '/content/drive/MyDrive/ASX annual reports/2015 (1766 firms)/shj15.pdf', '/content/drive/MyDrive/ASX annual reports/2015 (1766 firms)/shp15.pdf', '/content/drive/MyDrive/ASX annual reports/2015 (1766 firms)/sio15.pdf', '/content/drive/MyDrive/ASX annual reports/2015 (1766 firms)/skc15.pdf', '/content/drive/MyDrive/ASX annual reports/2015 (1766 firms)/sfh15.pdf', '/content/drive/MyDrive/ASX annual reports/2015 (1766 firms)/sgh15.pdf', '/content/drive/MyDrive/ASX annual reports/2015 (1766 firms)/shu15.pdf', '/content/drive/MyDrive/ASX annual reports/2015 (1766 firms)/six15.pdf', '/content/drive/MyDrive/ASX annual reports/2015 (1766 firms)/stl15.pdf', '/content/drive/MyDrive/ASX annual reports/2015 (1766 firms)/sgn15.pdf', '/content/drive/MyDrive/ASX annual reports/2015 (1766 firms)/sgu15.pdf', '/content/drive/MyDrive/ASX annual reports/2015 (1766 firms)/sbb15.pdf', '/content/drive/MyDrive/ASX annual reports/2015 (1766 firms)/sul15.pdf', '/content/drive/MyDrive/ASX annual reports/2015 (1766 firms)/snl15.pdf', '/content/drive/MyDrive/ASX annual reports/2015 (1766 firms)/twd15.pdf', '/content/drive/MyDrive/ASX annual reports/2015 (1766 firms)/tah15.pdf', '/content/drive/MyDrive/ASX annual reports/2015 (1766 firms)/pgr15.pdf', '/content/drive/MyDrive/ASX annual reports/2015 (1766 firms)/trs15.pdf', '/content/drive/MyDrive/ASX annual reports/2015 (1766 firms)/tnk15.pdf', '/content/drive/MyDrive/ASX annual reports/2015 (1766 firms)/tts15.pdf', '/content/drive/MyDrive/ASX annual reports/2015 (1766 firms)/tme15.pdf', '/content/drive/MyDrive/ASX annual reports/2015 (1766 firms)/srf15.pdf', '/content/drive/MyDrive/ASX annual reports/2015 (1766 firms)/tga15.pdf', '/content/drive/MyDrive/ASX annual reports/2015 (1766 firms)/tau15.pdf', '/content/drive/MyDrive/ASX annual reports/2015 (1766 firms)/tta15.pdf', '/content/drive/MyDrive/ASX annual reports/2015 (1766 firms)/tco15.pdf', '/content/drive/MyDrive/ASX annual reports/2015 (1766 firms)/ucw15.pdf', '/content/drive/MyDrive/ASX annual reports/2015 (1766 firms)/vtg15.pdf', '/content/drive/MyDrive/ASX annual reports/2015 (1766 firms)/vmt15.pdf', '/content/drive/MyDrive/ASX annual reports/2015 (1766 firms)/vet15.pdf', '/content/drive/MyDrive/ASX annual reports/2015 (1766 firms)/wat15.pdf', '/content/drive/MyDrive/ASX annual reports/2015 (1766 firms)/xpd15.pdf', '/content/drive/MyDrive/ASX annual reports/2015 (1766 firms)/web15.pdf', '/content/drive/MyDrive/ASX annual reports/2015 (1766 firms)/yhl15.pdf', '/content/drive/MyDrive/ASX annual reports/2015 (1766 firms)/ahy15.pdf', '/content/drive/MyDrive/ASX annual reports/2015 (1766 firms)/aap15.pdf', '/content/drive/MyDrive/ASX annual reports/2015 (1766 firms)/ayb15.pdf', '/content/drive/MyDrive/ASX annual reports/2015 (1766 firms)/ahf15.pdf', '/content/drive/MyDrive/ASX annual reports/2015 (1766 firms)/aac15.pdf', '/content/drive/MyDrive/ASX annual reports/2015 (1766 firms)/bxn15.pdf', '/content/drive/MyDrive/ASX annual reports/2015 (1766 firms)/bga15.pdf', '/content/drive/MyDrive/ASX annual reports/2015 (1766 firms)/avg15.pdf', '/content/drive/MyDrive/ASX annual reports/2015 (1766 firms)/bal15.pdf', '/content/drive/MyDrive/ASX annual reports/2015 (1766 firms)/bnv15.pdf', '/content/drive/MyDrive/ASX annual reports/2015 (1766 firms)/bug15.pdf', '/content/drive/MyDrive/ASX annual reports/2015 (1766 firms)/bkl15.pdf', '/content/drive/MyDrive/ASX annual reports/2015 (1766 firms)/dmy15.pdf', '/content/drive/MyDrive/ASX annual reports/2015 (1766 firms)/frm15.pdf', '/content/drive/MyDrive/ASX annual reports/2015 (1766 firms)/css15.pdf', '/content/drive/MyDrive/ASX annual reports/2015 (1766 firms)/epa15.pdf', '/content/drive/MyDrive/ASX annual reports/2015 (1766 firms)/eld15.pdf', '/content/drive/MyDrive/ASX annual reports/2015 (1766 firms)/ffi15.pdf', '/content/drive/MyDrive/ASX annual reports/2015 (1766 firms)/flr15.pdf', '/content/drive/MyDrive/ASX annual reports/2015 (1766 firms)/grb15.pdf', '/content/drive/MyDrive/ASX annual reports/2015 (1766 firms)/ccl15.pdf', '/content/drive/MyDrive/ASX annual reports/2015 (1766 firms)/czz15.pdf', '/content/drive/MyDrive/ASX annual reports/2015 (1766 firms)/fsf15.pdf', '/content/drive/MyDrive/ASX annual reports/2015 (1766 firms)/fnp15.pdf', '/content/drive/MyDrive/ASX annual reports/2015 (1766 firms)/gnc15.pdf', '/content/drive/MyDrive/ASX annual reports/2015 (1766 firms)/huo15.pdf', '/content/drive/MyDrive/ASX annual reports/2015 (1766 firms)/ozb15.pdf', '/content/drive/MyDrive/ASX annual reports/2015 (1766 firms)/mti15.pdf', '/content/drive/MyDrive/ASX annual reports/2015 (1766 firms)/mts15.pdf', '/content/drive/MyDrive/ASX annual reports/2015 (1766 firms)/mcp15.pdf', '/content/drive/MyDrive/ASX annual reports/2015 (1766 firms)/pfl15.pdf', '/content/drive/MyDrive/ASX annual reports/2015 (1766 firms)/pop15.pdf', '/content/drive/MyDrive/ASX annual reports/2015 (1766 firms)/hct15.pdf', '/content/drive/MyDrive/ASX annual reports/2015 (1766 firms)/rgp15.pdf', '/content/drive/MyDrive/ASX annual reports/2015 (1766 firms)/ric15.pdf', '/content/drive/MyDrive/ASX annual reports/2015 (1766 firms)/tfl15.pdf', '/content/drive/MyDrive/ASX annual reports/2015 (1766 firms)/soi15.pdf', '/content/drive/MyDrive/ASX annual reports/2015 (1766 firms)/sbi15.pdf', '/content/drive/MyDrive/ASX annual reports/2015 (1766 firms)/tgr15.pdf', '/content/drive/MyDrive/ASX annual reports/2015 (1766 firms)/shv15.pdf', '/content/drive/MyDrive/ASX annual reports/2015 (1766 firms)/twh15.pdf', '/content/drive/MyDrive/ASX annual reports/2015 (1766 firms)/yow15.pdf', '/content/drive/MyDrive/ASX annual reports/2015 (1766 firms)/ptl15.pdf', '/content/drive/MyDrive/ASX annual reports/2015 (1766 firms)/wcb15.pdf', '/content/drive/MyDrive/ASX annual reports/2015 (1766 firms)/twe15.pdf', '/content/drive/MyDrive/ASX annual reports/2015 (1766 firms)/wba15.pdf', '/content/drive/MyDrive/ASX annual reports/2015 (1766 firms)/wes15.pdf', '/content/drive/MyDrive/ASX annual reports/2015 (1766 firms)/wow15.pdf', '/content/drive/MyDrive/ASX annual reports/2015 (1766 firms)/3dm15.pdf', '/content/drive/MyDrive/ASX annual reports/2015 (1766 firms)/acr15.pdf', '/content/drive/MyDrive/ASX annual reports/2015 (1766 firms)/acw15.pdf', '/content/drive/MyDrive/ASX annual reports/2015 (1766 firms)/ahz15.pdf', '/content/drive/MyDrive/ASX annual reports/2015 (1766 firms)/ont15.pdf', '/content/drive/MyDrive/ASX annual reports/2015 (1766 firms)/acl15.pdf', '/content/drive/MyDrive/ASX annual reports/2015 (1766 firms)/amt15.pdf', '/content/drive/MyDrive/ASX annual reports/2015 (1766 firms)/alt15.pdf', '/content/drive/MyDrive/ASX annual reports/2015 (1766 firms)/anr15.pdf', '/content/drive/MyDrive/ASX annual reports/2015 (1766 firms)/ann15.pdf', '/content/drive/MyDrive/ASX annual reports/2015 (1766 firms)/anp15.pdf', '/content/drive/MyDrive/ASX annual reports/2015 (1766 firms)/avx15.pdf', '/content/drive/MyDrive/ASX annual reports/2015 (1766 firms)/ado15.pdf', '/content/drive/MyDrive/ASX annual reports/2015 (1766 firms)/api15.pdf', '/content/drive/MyDrive/ASX annual reports/2015 (1766 firms)/bit15.pdf', '/content/drive/MyDrive/ASX annual reports/2015 (1766 firms)/ajj15.pdf', '/content/drive/MyDrive/ASX annual reports/2015 (1766 firms)/blt15.pdf', '/content/drive/MyDrive/ASX annual reports/2015 (1766 firms)/avh15.pdf', '/content/drive/MyDrive/ASX annual reports/2015 (1766 firms)/bne15.pdf', '/content/drive/MyDrive/ASX annual reports/2015 (1766 firms)/brc15.pdf', '/content/drive/MyDrive/ASX annual reports/2015 (1766 firms)/bph15.pdf', '/content/drive/MyDrive/ASX annual reports/2015 (1766 firms)/caj15.pdf', '/content/drive/MyDrive/ASX annual reports/2015 (1766 firms)/azv15.pdf', '/content/drive/MyDrive/ASX annual reports/2015 (1766 firms)/bno15.pdf', '/content/drive/MyDrive/ASX annual reports/2015 (1766 firms)/cdy15.pdf', '/content/drive/MyDrive/ASX annual reports/2015 (1766 firms)/aop15.pdf', '/content/drive/MyDrive/ASX annual reports/2015 (1766 firms)/acg15.pdf', '/content/drive/MyDrive/ASX annual reports/2015 (1766 firms)/cir15.pdf', '/content/drive/MyDrive/ASX annual reports/2015 (1766 firms)/cuv15.pdf', '/content/drive/MyDrive/ASX annual reports/2015 (1766 firms)/coh15.pdf', '/content/drive/MyDrive/ASX annual reports/2015 (1766 firms)/cgs15.pdf', '/content/drive/MyDrive/ASX annual reports/2015 (1766 firms)/cmp15.pdf', '/content/drive/MyDrive/ASX annual reports/2015 (1766 firms)/cte15.pdf', '/content/drive/MyDrive/ASX annual reports/2015 (1766 firms)/csl15.pdf', '/content/drive/MyDrive/ASX annual reports/2015 (1766 firms)/cyc15.pdf', '/content/drive/MyDrive/ASX annual reports/2015 (1766 firms)/cyp15.pdf', '/content/drive/MyDrive/ASX annual reports/2015 (1766 firms)/ebo15.pdf', '/content/drive/MyDrive/ASX annual reports/2015 (1766 firms)/dvl15.pdf', '/content/drive/MyDrive/ASX annual reports/2015 (1766 firms)/elx15.pdf', '/content/drive/MyDrive/ASX annual reports/2015 (1766 firms)/ehe15.pdf', '/content/drive/MyDrive/ASX annual reports/2015 (1766 firms)/fph15.pdf', '/content/drive/MyDrive/ASX annual reports/2015 (1766 firms)/gbi15.pdf', '/content/drive/MyDrive/ASX annual reports/2015 (1766 firms)/gtg15.pdf', '/content/drive/MyDrive/ASX annual reports/2015 (1766 firms)/gid15.pdf', '/content/drive/MyDrive/ASX annual reports/2015 (1766 firms)/glh15.pdf', '/content/drive/MyDrive/ASX annual reports/2015 (1766 firms)/hso15.pdf', '/content/drive/MyDrive/ASX annual reports/2015 (1766 firms)/ics15.pdf', '/content/drive/MyDrive/ASX annual reports/2015 (1766 firms)/idt15.pdf', '/content/drive/MyDrive/ASX annual reports/2015 (1766 firms)/imi15.pdf', '/content/drive/MyDrive/ASX annual reports/2015 (1766 firms)/imc15.pdf', '/content/drive/MyDrive/ASX annual reports/2015 (1766 firms)/ipd15.pdf', '/content/drive/MyDrive/ASX annual reports/2015 (1766 firms)/imu15.pdf', '/content/drive/MyDrive/ASX annual reports/2015 (1766 firms)/iil15.pdf', '/content/drive/MyDrive/ASX annual reports/2015 (1766 firms)/ivx15.pdf', '/content/drive/MyDrive/ASX annual reports/2015 (1766 firms)/isn15.pdf', '/content/drive/MyDrive/ASX annual reports/2015 (1766 firms)/itd15.pdf', '/content/drive/MyDrive/ASX annual reports/2015 (1766 firms)/jhc15.pdf', '/content/drive/MyDrive/ASX annual reports/2015 (1766 firms)/kkt15.pdf', '/content/drive/MyDrive/ASX annual reports/2015 (1766 firms)/lbt15.pdf', '/content/drive/MyDrive/ASX annual reports/2015 (1766 firms)/lhc15.pdf', '/content/drive/MyDrive/ASX annual reports/2015 (1766 firms)/lct15.pdf', '/content/drive/MyDrive/ASX annual reports/2015 (1766 firms)/myx15.pdf', '/content/drive/MyDrive/ASX annual reports/2015 (1766 firms)/meb15.pdf', '/content/drive/MyDrive/ASX annual reports/2015 (1766 firms)/mvp15.pdf', '/content/drive/MyDrive/ASX annual reports/2015 (1766 firms)/mla15.pdf', '/content/drive/MyDrive/ASX annual reports/2015 (1766 firms)/mgz15.pdf', '/content/drive/MyDrive/ASX annual reports/2015 (1766 firms)/mdg15.pdf', '/content/drive/MyDrive/ASX annual reports/2015 (1766 firms)/msb15.pdf', '/content/drive/MyDrive/ASX annual reports/2015 (1766 firms)/meq15.pdf', '/content/drive/MyDrive/ASX annual reports/2015 (1766 firms)/mvf15.pdf', '/content/drive/MyDrive/ASX annual reports/2015 (1766 firms)/nan15.pdf', '/content/drive/MyDrive/ASX annual reports/2015 (1766 firms)/nls15.pdf', '/content/drive/MyDrive/ASX annual reports/2015 (1766 firms)/neu15.pdf', '/content/drive/MyDrive/ASX annual reports/2015 (1766 firms)/nrt15.pdf', '/content/drive/MyDrive/ASX annual reports/2015 (1766 firms)/nsp15.pdf', '/content/drive/MyDrive/ASX annual reports/2015 (1766 firms)/obj15.pdf', '/content/drive/MyDrive/ASX annual reports/2015 (1766 firms)/osl15.pdf', '/content/drive/MyDrive/ASX annual reports/2015 (1766 firms)/oil15.pdf', '/content/drive/MyDrive/ASX annual reports/2015 (1766 firms)/occ15.pdf', '/content/drive/MyDrive/ASX annual reports/2015 (1766 firms)/osp15.pdf', '/content/drive/MyDrive/ASX annual reports/2015 (1766 firms)/psq15.pdf', '/content/drive/MyDrive/ASX annual reports/2015 (1766 firms)/pgc15.pdf', '/content/drive/MyDrive/ASX annual reports/2015 (1766 firms)/pab15.pdf', '/content/drive/MyDrive/ASX annual reports/2015 (1766 firms)/pno15.pdf', '/content/drive/MyDrive/ASX annual reports/2015 (1766 firms)/paa15.pdf', '/content/drive/MyDrive/ASX annual reports/2015 (1766 firms)/pxs15.pdf', '/content/drive/MyDrive/ASX annual reports/2015 (1766 firms)/pyc15.pdf', '/content/drive/MyDrive/ASX annual reports/2015 (1766 firms)/pld15.pdf', '/content/drive/MyDrive/ASX annual reports/2015 (1766 firms)/pnv15.pdf', '/content/drive/MyDrive/ASX annual reports/2015 (1766 firms)/pbt15.pdf', '/content/drive/MyDrive/ASX annual reports/2015 (1766 firms)/ptx15.pdf', '/content/drive/MyDrive/ASX annual reports/2015 (1766 firms)/pry15.pdf', '/content/drive/MyDrive/ASX annual reports/2015 (1766 firms)/pva15.pdf', '/content/drive/MyDrive/ASX annual reports/2015 (1766 firms)/pbp15.pdf', '/content/drive/MyDrive/ASX annual reports/2015 (1766 firms)/pgl15.pdf', '/content/drive/MyDrive/ASX annual reports/2015 (1766 firms)/pme15.pdf', '/content/drive/MyDrive/ASX annual reports/2015 (1766 firms)/phg15.pdf', '/content/drive/MyDrive/ASX annual reports/2015 (1766 firms)/qrx15.pdf', '/content/drive/MyDrive/ASX annual reports/2015 (1766 firms)/rhc15.pdf', '/content/drive/MyDrive/ASX annual reports/2015 (1766 firms)/rgs15.pdf', '/content/drive/MyDrive/ASX annual reports/2015 (1766 firms)/reg15.pdf', '/content/drive/MyDrive/ASX annual reports/2015 (1766 firms)/rmd15.pdf', '/content/drive/MyDrive/ASX annual reports/2015 (1766 firms)/rhs15.pdf', '/content/drive/MyDrive/ASX annual reports/2015 (1766 firms)/rht15.pdf', '/content/drive/MyDrive/ASX annual reports/2015 (1766 firms)/rva15.pdf', '/content/drive/MyDrive/ASX annual reports/2015 (1766 firms)/rno15.pdf', '/content/drive/MyDrive/ASX annual reports/2015 (1766 firms)/sie15.pdf', '/content/drive/MyDrive/ASX annual reports/2015 (1766 firms)/sdi15.pdf', '/content/drive/MyDrive/ASX annual reports/2015 (1766 firms)/sip15.pdf', '/content/drive/MyDrive/ASX annual reports/2015 (1766 firms)/sva15.pdf', '/content/drive/MyDrive/ASX annual reports/2015 (1766 firms)/srx15.pdf', '/content/drive/MyDrive/ASX annual reports/2015 (1766 firms)/sla15.pdf', '/content/drive/MyDrive/ASX annual reports/2015 (1766 firms)/som15.pdf', '/content/drive/MyDrive/ASX annual reports/2015 (1766 firms)/shl15.pdf', '/content/drive/MyDrive/ASX annual reports/2015 (1766 firms)/sud15.pdf', '/content/drive/MyDrive/ASX annual reports/2015 (1766 firms)/spl15.pdf', '/content/drive/MyDrive/ASX annual reports/2015 (1766 firms)/snz15.pdf', '/content/drive/MyDrive/ASX annual reports/2015 (1766 firms)/sbn15.pdf', '/content/drive/MyDrive/ASX annual reports/2015 (1766 firms)/tis15.pdf', '/content/drive/MyDrive/ASX annual reports/2015 (1766 firms)/tdx15.pdf', '/content/drive/MyDrive/ASX annual reports/2015 (1766 firms)/ttc15.pdf', '/content/drive/MyDrive/ASX annual reports/2015 (1766 firms)/uns15.pdf', '/content/drive/MyDrive/ASX annual reports/2015 (1766 firms)/ubi15.pdf', '/content/drive/MyDrive/ASX annual reports/2015 (1766 firms)/ucm15.pdf', '/content/drive/MyDrive/ASX annual reports/2015 (1766 firms)/vla15.pdf', '/content/drive/MyDrive/ASX annual reports/2015 (1766 firms)/vrt15.pdf', '/content/drive/MyDrive/ASX annual reports/2015 (1766 firms)/vei15.pdf', '/content/drive/MyDrive/ASX annual reports/2015 (1766 firms)/vsc15.pdf', '/content/drive/MyDrive/ASX annual reports/2015 (1766 firms)/ayi15.pdf', '/content/drive/MyDrive/ASX annual reports/2015 (1766 firms)/alr15.pdf', '/content/drive/MyDrive/ASX annual reports/2015 (1766 firms)/asw15.pdf', '/content/drive/MyDrive/ASX annual reports/2015 (1766 firms)/aha15.pdf', '/content/drive/MyDrive/ASX annual reports/2015 (1766 firms)/abw15.pdf', '/content/drive/MyDrive/ASX annual reports/2015 (1766 firms)/auf15.pdf', '/content/drive/MyDrive/ASX annual reports/2015 (1766 firms)/agf15.pdf', '/content/drive/MyDrive/ASX annual reports/2015 (1766 firms)/asx15.pdf', '/content/drive/MyDrive/ASX annual reports/2015 (1766 firms)/aky15.pdf', '/content/drive/MyDrive/ASX annual reports/2015 (1766 firms)/arc15.pdf', '/content/drive/MyDrive/ASX annual reports/2015 (1766 firms)/anz15.pdf', '/content/drive/MyDrive/ASX annual reports/2015 (1766 firms)/aub15.pdf', '/content/drive/MyDrive/ASX annual reports/2015 (1766 firms)/aqf15.pdf', '/content/drive/MyDrive/ASX annual reports/2015 (1766 firms)/bfg15.pdf', '/content/drive/MyDrive/ASX annual reports/2015 (1766 firms)/aef15.pdf', '/content/drive/MyDrive/ASX annual reports/2015 (1766 firms)/btc15.pdf', '/content/drive/MyDrive/ASX annual reports/2015 (1766 firms)/amp15.pdf', '/content/drive/MyDrive/ASX annual reports/2015 (1766 firms)/bsn15.pdf', '/content/drive/MyDrive/ASX annual reports/2015 (1766 firms)/bgc15.pdf', '/content/drive/MyDrive/ASX annual reports/2015 (1766 firms)/akf15.pdf', '/content/drive/MyDrive/ASX annual reports/2015 (1766 firms)/aba15.pdf', '/content/drive/MyDrive/ASX annual reports/2015 (1766 firms)/bla15.pdf', '/content/drive/MyDrive/ASX annual reports/2015 (1766 firms)/bgr15.pdf', '/content/drive/MyDrive/ASX annual reports/2015 (1766 firms)/boq15.pdf', '/content/drive/MyDrive/ASX annual reports/2015 (1766 firms)/cya15.pdf', '/content/drive/MyDrive/ASX annual reports/2015 (1766 firms)/ccv15.pdf', '/content/drive/MyDrive/ASX annual reports/2015 (1766 firms)/caf15.pdf', '/content/drive/MyDrive/ASX annual reports/2015 (1766 firms)/ben15.pdf', '/content/drive/MyDrive/ASX annual reports/2015 (1766 firms)/cii15.pdf', '/content/drive/MyDrive/ASX annual reports/2015 (1766 firms)/chf15.pdf', '/content/drive/MyDrive/ASX annual reports/2015 (1766 firms)/bti15.pdf', '/content/drive/MyDrive/ASX annual reports/2015 (1766 firms)/ciw15.pdf', '/content/drive/MyDrive/ASX annual reports/2015 (1766 firms)/cvw15.pdf', '/content/drive/MyDrive/ASX annual reports/2015 (1766 firms)/chp15.pdf', '/content/drive/MyDrive/ASX annual reports/2015 (1766 firms)/cot15.pdf', '/content/drive/MyDrive/ASX annual reports/2015 (1766 firms)/cvc15.pdf', '/content/drive/MyDrive/ASX annual reports/2015 (1766 firms)/bwf15.pdf', '/content/drive/MyDrive/ASX annual reports/2015 (1766 firms)/ack15.pdf', '/content/drive/MyDrive/ASX annual reports/2015 (1766 firms)/ccp15.pdf', '/content/drive/MyDrive/ASX annual reports/2015 (1766 firms)/cba15.pdf', '/content/drive/MyDrive/ASX annual reports/2015 (1766 firms)/btt15.pdf', '/content/drive/MyDrive/ASX annual reports/2015 (1766 firms)/dcc15.pdf', '/content/drive/MyDrive/ASX annual reports/2015 (1766 firms)/ctn15.pdf', '/content/drive/MyDrive/ASX annual reports/2015 (1766 firms)/eml15.pdf', '/content/drive/MyDrive/ASX annual reports/2015 (1766 firms)/ggh15.pdf', '/content/drive/MyDrive/ASX annual reports/2015 (1766 firms)/eco15.pdf', '/content/drive/MyDrive/ASX annual reports/2015 (1766 firms)/ffg15.pdf', '/content/drive/MyDrive/ASX annual reports/2015 (1766 firms)/gow15.pdf', '/content/drive/MyDrive/ASX annual reports/2015 (1766 firms)/dva15.pdf', '/content/drive/MyDrive/ASX annual reports/2015 (1766 firms)/clh15.pdf', '/content/drive/MyDrive/ASX annual reports/2015 (1766 firms)/grf15.pdf', '/content/drive/MyDrive/ASX annual reports/2015 (1766 firms)/hls15.pdf', '/content/drive/MyDrive/ASX annual reports/2015 (1766 firms)/fsa15.pdf', '/content/drive/MyDrive/ASX annual reports/2015 (1766 firms)/gma15.pdf', '/content/drive/MyDrive/ASX annual reports/2015 (1766 firms)/gba15.pdf', '/content/drive/MyDrive/ASX annual reports/2015 (1766 firms)/cvo15.pdf', '/content/drive/MyDrive/ASX annual reports/2015 (1766 firms)/hfa15.pdf', '/content/drive/MyDrive/ASX annual reports/2015 (1766 firms)/hhv15.pdf', '/content/drive/MyDrive/ASX annual reports/2015 (1766 firms)/hhl15.pdf', '/content/drive/MyDrive/ASX annual reports/2015 (1766 firms)/ezl15.pdf', '/content/drive/MyDrive/ASX annual reports/2015 (1766 firms)/ipc15.pdf', '/content/drive/MyDrive/ASX annual reports/2015 (1766 firms)/grp15.pdf', '/content/drive/MyDrive/ASX annual reports/2015 (1766 firms)/hub15.pdf', '/content/drive/MyDrive/ASX annual reports/2015 (1766 firms)/eas15.pdf', '/content/drive/MyDrive/ASX annual reports/2015 (1766 firms)/ipe15.pdf', '/content/drive/MyDrive/ASX annual reports/2015 (1766 firms)/kam15.pdf', '/content/drive/MyDrive/ASX annual reports/2015 (1766 firms)/ipa15.pdf', '/content/drive/MyDrive/ASX annual reports/2015 (1766 firms)/iag15.pdf', '/content/drive/MyDrive/ASX annual reports/2015 (1766 firms)/ifl15.pdf', '/content/drive/MyDrive/ASX annual reports/2015 (1766 firms)/eqt15.pdf', '/content/drive/MyDrive/ASX annual reports/2015 (1766 firms)/imf15.pdf', '/content/drive/MyDrive/ASX annual reports/2015 (1766 firms)/dm115.pdf', '/content/drive/MyDrive/ASX annual reports/2015 (1766 firms)/lce15.pdf', '/content/drive/MyDrive/ASX annual reports/2015 (1766 firms)/hom15.pdf', '/content/drive/MyDrive/ASX annual reports/2015 (1766 firms)/mpl15.pdf', '/content/drive/MyDrive/ASX annual reports/2015 (1766 firms)/mfg15.pdf', '/content/drive/MyDrive/ASX annual reports/2015 (1766 firms)/mff15.pdf', '/content/drive/MyDrive/ASX annual reports/2015 (1766 firms)/moc15.pdf', '/content/drive/MyDrive/ASX annual reports/2015 (1766 firms)/mgp15.pdf', '/content/drive/MyDrive/ASX annual reports/2015 (1766 firms)/mch15.pdf', '/content/drive/MyDrive/ASX annual reports/2015 (1766 firms)/mny15.pdf', '/content/drive/MyDrive/ASX annual reports/2015 (1766 firms)/cgf15.pdf', '/content/drive/MyDrive/ASX annual reports/2015 (1766 firms)/hgg15.pdf', '/content/drive/MyDrive/ASX annual reports/2015 (1766 firms)/mws15.pdf', '/content/drive/MyDrive/ASX annual reports/2015 (1766 firms)/ocp15.pdf', '/content/drive/MyDrive/ASX annual reports/2015 (1766 firms)/jkl15.pdf', '/content/drive/MyDrive/ASX annual reports/2015 (1766 firms)/kbc15.pdf', '/content/drive/MyDrive/ASX annual reports/2015 (1766 firms)/nsx15.pdf', '/content/drive/MyDrive/ASX annual reports/2015 (1766 firms)/nhf15.pdf', '/content/drive/MyDrive/ASX annual reports/2015 (1766 firms)/mqg15.pdf', '/content/drive/MyDrive/ASX annual reports/2015 (1766 firms)/oeq15.pdf', '/content/drive/MyDrive/ASX annual reports/2015 (1766 firms)/mys15.pdf', '/content/drive/MyDrive/ASX annual reports/2015 (1766 firms)/ppt15.pdf', '/content/drive/MyDrive/ASX annual reports/2015 (1766 firms)/nab15.pdf', '/content/drive/MyDrive/ASX annual reports/2015 (1766 firms)/pnc15.pdf', '/content/drive/MyDrive/ASX annual reports/2015 (1766 firms)/mcx15.pdf', '/content/drive/MyDrive/ASX annual reports/2015 (1766 firms)/ptm15.pdf', '/content/drive/MyDrive/ASX annual reports/2015 (1766 firms)/pha15.pdf', '/content/drive/MyDrive/ASX annual reports/2015 (1766 firms)/ovh15.pdf', '/content/drive/MyDrive/ASX annual reports/2015 (1766 firms)/poh15.pdf', '/content/drive/MyDrive/ASX annual reports/2015 (1766 firms)/qbe15.pdf', '/content/drive/MyDrive/ASX annual reports/2015 (1766 firms)/qst15.pdf', '/content/drive/MyDrive/ASX annual reports/2015 (1766 firms)/que15.pdf', '/content/drive/MyDrive/ASX annual reports/2015 (1766 firms)/pfg15.pdf', '/content/drive/MyDrive/ASX annual reports/2015 (1766 firms)/raf15.pdf', '/content/drive/MyDrive/ASX annual reports/2015 (1766 firms)/sfn15.pdf', '/content/drive/MyDrive/ASX annual reports/2015 (1766 firms)/sam15.pdf', '/content/drive/MyDrive/ASX annual reports/2015 (1766 firms)/sdf15.pdf', '/content/drive/MyDrive/ASX annual reports/2015 (1766 firms)/sor15.pdf', '/content/drive/MyDrive/ASX annual reports/2015 (1766 firms)/sun15.pdf', '/content/drive/MyDrive/ASX annual reports/2015 (1766 firms)/sbk15.pdf', '/content/drive/MyDrive/ASX annual reports/2015 (1766 firms)/tag15.pdf', '/content/drive/MyDrive/ASX annual reports/2015 (1766 firms)/tcn15.pdf', '/content/drive/MyDrive/ASX annual reports/2015 (1766 firms)/tsm15.pdf', '/content/drive/MyDrive/ASX annual reports/2015 (1766 firms)/vel15.pdf', '/content/drive/MyDrive/ASX annual reports/2015 (1766 firms)/twr15.pdf', '/content/drive/MyDrive/ASX annual reports/2015 (1766 firms)/wbc15.pdf', '/content/drive/MyDrive/ASX annual reports/2015 (1766 firms)/wig15.pdf', '/content/drive/MyDrive/ASX annual reports/2015 (1766 firms)/ybr15.pdf', '/content/drive/MyDrive/ASX annual reports/2015 (1766 firms)/ynb15.pdf', '/content/drive/MyDrive/ASX annual reports/2015 (1766 firms)/1pg15.pdf', '/content/drive/MyDrive/ASX annual reports/2015 (1766 firms)/aat15.pdf', '/content/drive/MyDrive/ASX annual reports/2015 (1766 firms)/nnw15.pdf', '/content/drive/MyDrive/ASX annual reports/2015 (1766 firms)/acx15.pdf', '/content/drive/MyDrive/ASX annual reports/2015 (1766 firms)/8co15.pdf', '/content/drive/MyDrive/ASX annual reports/2015 (1766 firms)/acu15.pdf', '/content/drive/MyDrive/ASX annual reports/2015 (1766 firms)/ada15.pdf', '/content/drive/MyDrive/ASX annual reports/2015 (1766 firms)/adj15.pdf', '/content/drive/MyDrive/ASX annual reports/2015 (1766 firms)/agx15.pdf', '/content/drive/MyDrive/ASX annual reports/2015 (1766 firms)/aft15.pdf', '/content/drive/MyDrive/ASX annual reports/2015 (1766 firms)/alu15.pdf', '/content/drive/MyDrive/ASX annual reports/2015 (1766 firms)/ala15.pdf', '/content/drive/MyDrive/ASX annual reports/2015 (1766 firms)/apx15.pdf', '/content/drive/MyDrive/ASX annual reports/2015 (1766 firms)/ayg15.pdf', '/content/drive/MyDrive/ASX annual reports/2015 (1766 firms)/bhg15.pdf', '/content/drive/MyDrive/ASX annual reports/2015 (1766 firms)/amo15.pdf', '/content/drive/MyDrive/ASX annual reports/2015 (1766 firms)/asz15.pdf', '/content/drive/MyDrive/ASX annual reports/2015 (1766 firms)/bct15.pdf', '/content/drive/MyDrive/ASX annual reports/2015 (1766 firms)/big15.pdf', '/content/drive/MyDrive/ASX annual reports/2015 (1766 firms)/brn15.pdf', '/content/drive/MyDrive/ASX annual reports/2015 (1766 firms)/blg15.pdf', '/content/drive/MyDrive/ASX annual reports/2015 (1766 firms)/bpf15.pdf', '/content/drive/MyDrive/ASX annual reports/2015 (1766 firms)/bun15.pdf', '/content/drive/MyDrive/ASX annual reports/2015 (1766 firms)/clt15.pdf', '/content/drive/MyDrive/ASX annual reports/2015 (1766 firms)/cyo15.pdf', '/content/drive/MyDrive/ASX annual reports/2015 (1766 firms)/bps15.pdf', '/content/drive/MyDrive/ASX annual reports/2015 (1766 firms)/com15.pdf', '/content/drive/MyDrive/ASX annual reports/2015 (1766 firms)/cnw15.pdf', '/content/drive/MyDrive/ASX annual reports/2015 (1766 firms)/cpu15.pdf', '/content/drive/MyDrive/ASX annual reports/2015 (1766 firms)/cgo15.pdf', '/content/drive/MyDrive/ASX annual reports/2015 (1766 firms)/coo15.pdf', '/content/drive/MyDrive/ASX annual reports/2015 (1766 firms)/cda15.pdf', '/content/drive/MyDrive/ASX annual reports/2015 (1766 firms)/csv15.pdf', '/content/drive/MyDrive/ASX annual reports/2015 (1766 firms)/cxz15.pdf', '/content/drive/MyDrive/ASX annual reports/2015 (1766 firms)/dtl15.pdf', '/content/drive/MyDrive/ASX annual reports/2015 (1766 firms)/ddr15.pdf', '/content/drive/MyDrive/ASX annual reports/2015 (1766 firms)/dsx15.pdf', '/content/drive/MyDrive/ASX annual reports/2015 (1766 firms)/dub15.pdf', '/content/drive/MyDrive/ASX annual reports/2015 (1766 firms)/dws15.pdf', '/content/drive/MyDrive/ASX annual reports/2015 (1766 firms)/dye15.pdf', '/content/drive/MyDrive/ASX annual reports/2015 (1766 firms)/eol15.pdf', '/content/drive/MyDrive/ASX annual reports/2015 (1766 firms)/epd15.pdf', '/content/drive/MyDrive/ASX annual reports/2015 (1766 firms)/enz15.pdf', '/content/drive/MyDrive/ASX annual reports/2015 (1766 firms)/esv15.pdf', '/content/drive/MyDrive/ASX annual reports/2015 (1766 firms)/esk15.pdf', '/content/drive/MyDrive/ASX annual reports/2015 (1766 firms)/gbt15.pdf', '/content/drive/MyDrive/ASX annual reports/2015 (1766 firms)/gtk15.pdf', '/content/drive/MyDrive/ASX annual reports/2015 (1766 firms)/geg15.pdf', '/content/drive/MyDrive/ASX annual reports/2015 (1766 firms)/hsn15.pdf', '/content/drive/MyDrive/ASX annual reports/2015 (1766 firms)/hil15.pdf', '/content/drive/MyDrive/ASX annual reports/2015 (1766 firms)/iri15.pdf', '/content/drive/MyDrive/ASX annual reports/2015 (1766 firms)/ifm15.pdf', '/content/drive/MyDrive/ASX annual reports/2015 (1766 firms)/int15.pdf', '/content/drive/MyDrive/ASX annual reports/2015 (1766 firms)/isx15.pdf', '/content/drive/MyDrive/ASX annual reports/2015 (1766 firms)/kte15.pdf', '/content/drive/MyDrive/ASX annual reports/2015 (1766 firms)/jcs15.pdf', '/content/drive/MyDrive/ASX annual reports/2015 (1766 firms)/ire15.pdf', '/content/drive/MyDrive/ASX annual reports/2015 (1766 firms)/lvt15.pdf', '/content/drive/MyDrive/ASX annual reports/2015 (1766 firms)/kkl15.pdf', '/content/drive/MyDrive/ASX annual reports/2015 (1766 firms)/lmc15.pdf', '/content/drive/MyDrive/ASX annual reports/2015 (1766 firms)/mnw15.pdf', '/content/drive/MyDrive/ASX annual reports/2015 (1766 firms)/msp15.pdf', '/content/drive/MyDrive/ASX annual reports/2015 (1766 firms)/isd15.pdf', '/content/drive/MyDrive/ASX annual reports/2015 (1766 firms)/mkb15.pdf', '/content/drive/MyDrive/ASX annual reports/2015 (1766 firms)/mtl15.pdf', '/content/drive/MyDrive/ASX annual reports/2015 (1766 firms)/mbo15.pdf', '/content/drive/MyDrive/ASX annual reports/2015 (1766 firms)/moq15.pdf', '/content/drive/MyDrive/ASX annual reports/2015 (1766 firms)/mot15.pdf', '/content/drive/MyDrive/ASX annual reports/2015 (1766 firms)/mbe15.pdf', '/content/drive/MyDrive/ASX annual reports/2015 (1766 firms)/mov15.pdf', '/content/drive/MyDrive/ASX annual reports/2015 (1766 firms)/mlb15.pdf', '/content/drive/MyDrive/ASX annual reports/2015 (1766 firms)/myo15.pdf', '/content/drive/MyDrive/ASX annual reports/2015 (1766 firms)/nea15.pdf', '/content/drive/MyDrive/ASX annual reports/2015 (1766 firms)/ntc15.pdf', '/content/drive/MyDrive/ASX annual reports/2015 (1766 firms)/nwz15.pdf', '/content/drive/MyDrive/ASX annual reports/2015 (1766 firms)/nor15.pdf', '/content/drive/MyDrive/ASX annual reports/2015 (1766 firms)/nxt15.pdf', '/content/drive/MyDrive/ASX annual reports/2015 (1766 firms)/ocl15.pdf', '/content/drive/MyDrive/ASX annual reports/2015 (1766 firms)/omt15.pdf', '/content/drive/MyDrive/ASX annual reports/2015 (1766 firms)/onq15.pdf', '/content/drive/MyDrive/ASX annual reports/2015 (1766 firms)/oth15.pdf', '/content/drive/MyDrive/ASX annual reports/2015 (1766 firms)/psy15.pdf', '/content/drive/MyDrive/ASX annual reports/2015 (1766 firms)/pro15.pdf', '/content/drive/MyDrive/ASX annual reports/2015 (1766 firms)/qtg15.pdf', '/content/drive/MyDrive/ASX annual reports/2015 (1766 firms)/pps15.pdf', '/content/drive/MyDrive/ASX annual reports/2015 (1766 firms)/rkn15.pdf', '/content/drive/MyDrive/ASX annual reports/2015 (1766 firms)/rdf15.pdf', '/content/drive/MyDrive/ASX annual reports/2015 (1766 firms)/rfn15.pdf', '/content/drive/MyDrive/ASX annual reports/2015 (1766 firms)/rhp15.pdf', '/content/drive/MyDrive/ASX annual reports/2015 (1766 firms)/rfl15.pdf', '/content/drive/MyDrive/ASX annual reports/2015 (1766 firms)/rul15.pdf', '/content/drive/MyDrive/ASX annual reports/2015 (1766 firms)/rxp15.pdf', '/content/drive/MyDrive/ASX annual reports/2015 (1766 firms)/scd15.pdf', '/content/drive/MyDrive/ASX annual reports/2015 (1766 firms)/sen15.pdf', '/content/drive/MyDrive/ASX annual reports/2015 (1766 firms)/slx15.pdf', '/content/drive/MyDrive/ASX annual reports/2015 (1766 firms)/skf15.pdf', '/content/drive/MyDrive/ASX annual reports/2015 (1766 firms)/spz15.pdf', '/content/drive/MyDrive/ASX annual reports/2015 (1766 firms)/sma15.pdf', '/content/drive/MyDrive/ASX annual reports/2015 (1766 firms)/smx15.pdf', '/content/drive/MyDrive/ASX annual reports/2015 (1766 firms)/sfi15.pdf', '/content/drive/MyDrive/ASX annual reports/2015 (1766 firms)/sgo15.pdf', '/content/drive/MyDrive/ASX annual reports/2015 (1766 firms)/smn15.pdf', '/content/drive/MyDrive/ASX annual reports/2015 (1766 firms)/snr15.pdf', '/content/drive/MyDrive/ASX annual reports/2015 (1766 firms)/tne15.pdf', '/content/drive/MyDrive/ASX annual reports/2015 (1766 firms)/tch15.pdf', '/content/drive/MyDrive/ASX annual reports/2015 (1766 firms)/tsn15.pdf', '/content/drive/MyDrive/ASX annual reports/2015 (1766 firms)/tzl15.pdf', '/content/drive/MyDrive/ASX annual reports/2015 (1766 firms)/ubn15.pdf', '/content/drive/MyDrive/ASX annual reports/2015 (1766 firms)/uxc15.pdf', '/content/drive/MyDrive/ASX annual reports/2015 (1766 firms)/vig15.pdf', '/content/drive/MyDrive/ASX annual reports/2015 (1766 firms)/vcl15.pdf', '/content/drive/MyDrive/ASX annual reports/2015 (1766 firms)/vgl15.pdf', '/content/drive/MyDrive/ASX annual reports/2015 (1766 firms)/wse15.pdf', '/content/drive/MyDrive/ASX annual reports/2015 (1766 firms)/xro15.pdf', '/content/drive/MyDrive/ASX annual reports/2015 (1766 firms)/wsg15.pdf', '/content/drive/MyDrive/ASX annual reports/2015 (1766 firms)/ab115.pdf', '/content/drive/MyDrive/ASX annual reports/2015 (1766 firms)/apo15.pdf', '/content/drive/MyDrive/ASX annual reports/2015 (1766 firms)/asp15.pdf', '/content/drive/MyDrive/ASX annual reports/2015 (1766 firms)/aau15.pdf', '/content/drive/MyDrive/ASX annual reports/2015 (1766 firms)/abf15.pdf', '/content/drive/MyDrive/ASX annual reports/2015 (1766 firms)/dig15.pdf', '/content/drive/MyDrive/ASX annual reports/2015 (1766 firms)/byi15.pdf', '/content/drive/MyDrive/ASX annual reports/2015 (1766 firms)/bgl15.pdf', '/content/drive/MyDrive/ASX annual reports/2015 (1766 firms)/cnu15.pdf', '/content/drive/MyDrive/ASX annual reports/2015 (1766 firms)/car15.pdf', '/content/drive/MyDrive/ASX annual reports/2015 (1766 firms)/cm815.pdf', '/content/drive/MyDrive/ASX annual reports/2015 (1766 firms)/fxj15.pdf', '/content/drive/MyDrive/ASX annual reports/2015 (1766 firms)/bbl15.pdf', '/content/drive/MyDrive/ASX annual reports/2015 (1766 firms)/fre15.pdf', '/content/drive/MyDrive/ASX annual reports/2015 (1766 firms)/gcn15.pdf', '/content/drive/MyDrive/ASX annual reports/2015 (1766 firms)/hta15.pdf', '/content/drive/MyDrive/ASX annual reports/2015 (1766 firms)/icq15.pdf', '/content/drive/MyDrive/ASX annual reports/2015 (1766 firms)/egg15.pdf', '/content/drive/MyDrive/ASX annual reports/2015 (1766 firms)/ivo15.pdf', '/content/drive/MyDrive/ASX annual reports/2015 (1766 firms)/iab15.pdf', '/content/drive/MyDrive/ASX annual reports/2015 (1766 firms)/icu15.pdf', '/content/drive/MyDrive/ASX annual reports/2015 (1766 firms)/knm15.pdf', '/content/drive/MyDrive/ASX annual reports/2015 (1766 firms)/mrn15.pdf', '/content/drive/MyDrive/ASX annual reports/2015 (1766 firms)/laa15.pdf', '/content/drive/MyDrive/ASX annual reports/2015 (1766 firms)/mwr15.pdf', '/content/drive/MyDrive/ASX annual reports/2015 (1766 firms)/mtu15.pdf', '/content/drive/MyDrive/ASX annual reports/2015 (1766 firms)/mih15.pdf', '/content/drive/MyDrive/ASX annual reports/2015 (1766 firms)/mnf15.pdf', '/content/drive/MyDrive/ASX annual reports/2015 (1766 firms)/mig15.pdf', '/content/drive/MyDrive/ASX annual reports/2015 (1766 firms)/pnw15.pdf', '/content/drive/MyDrive/ASX annual reports/2015 (1766 firms)/maq15.pdf', '/content/drive/MyDrive/ASX annual reports/2015 (1766 firms)/oml15.pdf', '/content/drive/MyDrive/ASX annual reports/2015 (1766 firms)/prt15.pdf', '/content/drive/MyDrive/ASX annual reports/2015 (1766 firms)/nws15.pdf', '/content/drive/MyDrive/ASX annual reports/2015 (1766 firms)/nec15.pdf', '/content/drive/MyDrive/ASX annual reports/2015 (1766 firms)/rnt15.pdf', '/content/drive/MyDrive/ASX annual reports/2015 (1766 firms)/ref15.pdf', '/content/drive/MyDrive/ASX annual reports/2015 (1766 firms)/slm15.pdf', '/content/drive/MyDrive/ASX annual reports/2015 (1766 firms)/rea15.pdf', '/content/drive/MyDrive/ASX annual reports/2015 (1766 firms)/sek15.pdf', '/content/drive/MyDrive/ASX annual reports/2015 (1766 firms)/swm15.pdf', '/content/drive/MyDrive/ASX annual reports/2015 (1766 firms)/rxh15.pdf', '/content/drive/MyDrive/ASX annual reports/2015 (1766 firms)/tmp15.pdf', '/content/drive/MyDrive/ASX annual reports/2015 (1766 firms)/skt15.pdf', '/content/drive/MyDrive/ASX annual reports/2015 (1766 firms)/spk15.pdf', '/content/drive/MyDrive/ASX annual reports/2015 (1766 firms)/tpc15.pdf', '/content/drive/MyDrive/ASX annual reports/2015 (1766 firms)/sxl15.pdf', '/content/drive/MyDrive/ASX annual reports/2015 (1766 firms)/smp15.pdf', '/content/drive/MyDrive/ASX annual reports/2015 (1766 firms)/tls15.pdf', '/content/drive/MyDrive/ASX annual reports/2015 (1766 firms)/tpm15.pdf', '/content/drive/MyDrive/ASX annual reports/2015 (1766 firms)/ten15.pdf', '/content/drive/MyDrive/ASX annual reports/2015 (1766 firms)/voc15.pdf', '/content/drive/MyDrive/ASX annual reports/2015 (1766 firms)/vrl15.pdf', '/content/drive/MyDrive/ASX annual reports/2015 (1766 firms)/tom15.pdf', '/content/drive/MyDrive/ASX annual reports/2015 (1766 firms)/wns15.pdf', '/content/drive/MyDrive/ASX annual reports/2015 (1766 firms)/zip15.pdf', '/content/drive/MyDrive/ASX annual reports/2015 (1766 firms)/xtv15.pdf', '/content/drive/MyDrive/ASX annual reports/2015 (1766 firms)/xtd15.pdf', '/content/drive/MyDrive/ASX annual reports/2015 (1766 firms)/wrr15.pdf', '/content/drive/MyDrive/ASX annual reports/2015 (1766 firms)/tof15.pdf', '/content/drive/MyDrive/ASX annual reports/2015 (1766 firms)/tix15.pdf', '/content/drive/MyDrive/ASX annual reports/2015 (1766 firms)/agl15.pdf', '/content/drive/MyDrive/ASX annual reports/2015 (1766 firms)/abp15.pdf', '/content/drive/MyDrive/ASX annual reports/2015 (1766 firms)/apd15.pdf', '/content/drive/MyDrive/ASX annual reports/2015 (1766 firms)/apw15.pdf', '/content/drive/MyDrive/ASX annual reports/2015 (1766 firms)/apa15.pdf', '/content/drive/MyDrive/ASX annual reports/2015 (1766 firms)/ajd15.pdf', '/content/drive/MyDrive/ASX annual reports/2015 (1766 firms)/arf15.pdf', '/content/drive/MyDrive/ASX annual reports/2015 (1766 firms)/ast15.pdf', '/content/drive/MyDrive/ASX annual reports/2015 (1766 firms)/apz15.pdf', '/content/drive/MyDrive/ASX annual reports/2015 (1766 firms)/aog15.pdf', '/content/drive/MyDrive/ASX annual reports/2015 (1766 firms)/avj15.pdf', '/content/drive/MyDrive/ASX annual reports/2015 (1766 firms)/ani15.pdf', '/content/drive/MyDrive/ASX annual reports/2015 (1766 firms)/lep15.pdf', '/content/drive/MyDrive/ASX annual reports/2015 (1766 firms)/bpa15.pdf', '/content/drive/MyDrive/ASX annual reports/2015 (1766 firms)/caq15.pdf', '/content/drive/MyDrive/ASX annual reports/2015 (1766 firms)/cwp15.pdf', '/content/drive/MyDrive/ASX annual reports/2015 (1766 firms)/cdp15.pdf', '/content/drive/MyDrive/ASX annual reports/2015 (1766 firms)/cni15.pdf', '/content/drive/MyDrive/ASX annual reports/2015 (1766 firms)/chc15.pdf', '/content/drive/MyDrive/ASX annual reports/2015 (1766 firms)/cwe15.pdf', '/content/drive/MyDrive/ASX annual reports/2015 (1766 firms)/cqr15.pdf', '/content/drive/MyDrive/ASX annual reports/2015 (1766 firms)/cmw15.pdf', '/content/drive/MyDrive/ASX annual reports/2015 (1766 firms)/enb15.pdf', '/content/drive/MyDrive/ASX annual reports/2015 (1766 firms)/erj15.pdf', '/content/drive/MyDrive/ASX annual reports/2015 (1766 firms)/due15.pdf', '/content/drive/MyDrive/ASX annual reports/2015 (1766 firms)/evm15.pdf', '/content/drive/MyDrive/ASX annual reports/2015 (1766 firms)/epw15.pdf', '/content/drive/MyDrive/ASX annual reports/2015 (1766 firms)/epx15.pdf', '/content/drive/MyDrive/ASX annual reports/2015 (1766 firms)/dgh15.pdf', '/content/drive/MyDrive/ASX annual reports/2015 (1766 firms)/egh15.pdf', '/content/drive/MyDrive/ASX annual reports/2015 (1766 firms)/dxs15.pdf', '/content/drive/MyDrive/ASX annual reports/2015 (1766 firms)/fdc15.pdf', '/content/drive/MyDrive/ASX annual reports/2015 (1766 firms)/fet15.pdf', '/content/drive/MyDrive/ASX annual reports/2015 (1766 firms)/fri15.pdf', '/content/drive/MyDrive/ASX annual reports/2015 (1766 firms)/flk15.pdf', '/content/drive/MyDrive/ASX annual reports/2015 (1766 firms)/ghc15.pdf', '/content/drive/MyDrive/ASX annual reports/2015 (1766 firms)/gjt15.pdf', '/content/drive/MyDrive/ASX annual reports/2015 (1766 firms)/gne15.pdf', '/content/drive/MyDrive/ASX annual reports/2015 (1766 firms)/gmg15.pdf', '/content/drive/MyDrive/ASX annual reports/2015 (1766 firms)/gpt15.pdf', '/content/drive/MyDrive/ASX annual reports/2015 (1766 firms)/gmf15.pdf', '/content/drive/MyDrive/ASX annual reports/2015 (1766 firms)/hpi15.pdf', '/content/drive/MyDrive/ASX annual reports/2015 (1766 firms)/hgl15.pdf', '/content/drive/MyDrive/ASX annual reports/2015 (1766 firms)/idr15.pdf', '/content/drive/MyDrive/ASX annual reports/2015 (1766 firms)/ifn15.pdf', '/content/drive/MyDrive/ASX annual reports/2015 (1766 firms)/ifz15.pdf', '/content/drive/MyDrive/ASX annual reports/2015 (1766 firms)/ina15.pdf', '/content/drive/MyDrive/ASX annual reports/2015 (1766 firms)/iof15.pdf', '/content/drive/MyDrive/ASX annual reports/2015 (1766 firms)/ieq15.pdf', '/content/drive/MyDrive/ASX annual reports/2015 (1766 firms)/llc15.pdf', '/content/drive/MyDrive/ASX annual reports/2015 (1766 firms)/lic15.pdf', '/content/drive/MyDrive/ASX annual reports/2015 (1766 firms)/mtd15.pdf', '/content/drive/MyDrive/ASX annual reports/2015 (1766 firms)/lmw15.pdf', '/content/drive/MyDrive/ASX annual reports/2015 (1766 firms)/mgr15.pdf', '/content/drive/MyDrive/ASX annual reports/2015 (1766 firms)/myt15.pdf', '/content/drive/MyDrive/ASX annual reports/2015 (1766 firms)/mez15.pdf', '/content/drive/MyDrive/ASX annual reports/2015 (1766 firms)/pbd15.pdf', '/content/drive/MyDrive/ASX annual reports/2015 (1766 firms)/pea15.pdf', '/content/drive/MyDrive/ASX annual reports/2015 (1766 firms)/mue15.pdf', '/content/drive/MyDrive/ASX annual reports/2015 (1766 firms)/rpg15.pdf', '/content/drive/MyDrive/ASX annual reports/2015 (1766 firms)/qss15.pdf', '/content/drive/MyDrive/ASX annual reports/2015 (1766 firms)/rny15.pdf', '/content/drive/MyDrive/ASX annual reports/2015 (1766 firms)/rff15.pdf', '/content/drive/MyDrive/ASX annual reports/2015 (1766 firms)/phi15.pdf', '/content/drive/MyDrive/ASX annual reports/2015 (1766 firms)/scw15.pdf', '/content/drive/MyDrive/ASX annual reports/2015 (1766 firms)/sdg15.pdf', '/content/drive/MyDrive/ASX annual reports/2015 (1766 firms)/uul15.pdf', '/content/drive/MyDrive/ASX annual reports/2015 (1766 firms)/sgp15.pdf', '/content/drive/MyDrive/ASX annual reports/2015 (1766 firms)/scp15.pdf', '/content/drive/MyDrive/ASX annual reports/2015 (1766 firms)/vlw15.pdf', '/content/drive/MyDrive/ASX annual reports/2015 (1766 firms)/upg15.pdf', '/content/drive/MyDrive/ASX annual reports/2015 (1766 firms)/wfd15.pdf', '/content/drive/MyDrive/ASX annual reports/2015 (1766 firms)/srv15.pdf', '/content/drive/MyDrive/ASX annual reports/2015 (1766 firms)/88e15.pdf', '/content/drive/MyDrive/ASX annual reports/2015 (1766 firms)/tdo15.pdf', '/content/drive/MyDrive/ASX annual reports/2015 (1766 firms)/add15.pdf', '/content/drive/MyDrive/ASX annual reports/2015 (1766 firms)/ajc15.pdf', '/content/drive/MyDrive/ASX annual reports/2015 (1766 firms)/adx15.pdf', '/content/drive/MyDrive/ASX annual reports/2015 (1766 firms)/awd15.pdf', '/content/drive/MyDrive/ASX annual reports/2015 (1766 firms)/afr15.pdf', '/content/drive/MyDrive/ASX annual reports/2015 (1766 firms)/aed15.pdf', '/content/drive/MyDrive/ASX annual reports/2015 (1766 firms)/aeb15.pdf', '/content/drive/MyDrive/ASX annual reports/2015 (1766 firms)/aek15.pdf', '/content/drive/MyDrive/ASX annual reports/2015 (1766 firms)/aow15.pdf', '/content/drive/MyDrive/ASX annual reports/2015 (1766 firms)/aal15.pdf', '/content/drive/MyDrive/ASX annual reports/2015 (1766 firms)/avd15.pdf', '/content/drive/MyDrive/ASX annual reports/2015 (1766 firms)/ajq15.pdf', '/content/drive/MyDrive/ASX annual reports/2015 (1766 firms)/aqj15.pdf', '/content/drive/MyDrive/ASX annual reports/2015 (1766 firms)/aee15.pdf', '/content/drive/MyDrive/ASX annual reports/2015 (1766 firms)/acb15.pdf', '/content/drive/MyDrive/ASX annual reports/2015 (1766 firms)/aok15.pdf', '/content/drive/MyDrive/ASX annual reports/2015 (1766 firms)/akk15.pdf', '/content/drive/MyDrive/ASX annual reports/2015 (1766 firms)/bkp15.pdf', '/content/drive/MyDrive/ASX annual reports/2015 (1766 firms)/apy15.pdf', '/content/drive/MyDrive/ASX annual reports/2015 (1766 firms)/age15.pdf', '/content/drive/MyDrive/ASX annual reports/2015 (1766 firms)/bas15.pdf', '/content/drive/MyDrive/ASX annual reports/2015 (1766 firms)/awe15.pdf', '/content/drive/MyDrive/ASX annual reports/2015 (1766 firms)/bsp15.pdf', '/content/drive/MyDrive/ASX annual reports/2015 (1766 firms)/bky15.pdf', '/content/drive/MyDrive/ASX annual reports/2015 (1766 firms)/bgg15.pdf', '/content/drive/MyDrive/ASX annual reports/2015 (1766 firms)/arw15.pdf', '/content/drive/MyDrive/ASX annual reports/2015 (1766 firms)/bnt15.pdf', '/content/drive/MyDrive/ASX annual reports/2015 (1766 firms)/bul15.pdf', '/content/drive/MyDrive/ASX annual reports/2015 (1766 firms)/bur15.pdf', '/content/drive/MyDrive/ASX annual reports/2015 (1766 firms)/brk15.pdf', '/content/drive/MyDrive/ASX annual reports/2015 (1766 firms)/buy15.pdf', '/content/drive/MyDrive/ASX annual reports/2015 (1766 firms)/bpt15.pdf', '/content/drive/MyDrive/ASX annual reports/2015 (1766 firms)/cuu15.pdf', '/content/drive/MyDrive/ASX annual reports/2015 (1766 firms)/bru15.pdf', '/content/drive/MyDrive/ASX annual reports/2015 (1766 firms)/bye15.pdf', '/content/drive/MyDrive/ASX annual reports/2015 (1766 firms)/ctx15.pdf', '/content/drive/MyDrive/ASX annual reports/2015 (1766 firms)/cvn15.pdf', '/content/drive/MyDrive/ASX annual reports/2015 (1766 firms)/cxu15.pdf', '/content/drive/MyDrive/ASX annual reports/2015 (1766 firms)/cnx15.pdf', '/content/drive/MyDrive/ASX annual reports/2015 (1766 firms)/ctr15.pdf', '/content/drive/MyDrive/ASX annual reports/2015 (1766 firms)/cel15.pdf', '/content/drive/MyDrive/ASX annual reports/2015 (1766 firms)/blz15.pdf', '/content/drive/MyDrive/ASX annual reports/2015 (1766 firms)/ctp15.pdf', '/content/drive/MyDrive/ASX annual reports/2015 (1766 firms)/cbq15.pdf', '/content/drive/MyDrive/ASX annual reports/2015 (1766 firms)/coi15.pdf', '/content/drive/MyDrive/ASX annual reports/2015 (1766 firms)/cmt15.pdf', '/content/drive/MyDrive/ASX annual reports/2015 (1766 firms)/ccj15.pdf', '/content/drive/MyDrive/ASX annual reports/2015 (1766 firms)/cok15.pdf', '/content/drive/MyDrive/ASX annual reports/2015 (1766 firms)/coe15.pdf', '/content/drive/MyDrive/ASX annual reports/2015 (1766 firms)/cqc15.pdf', '/content/drive/MyDrive/ASX annual reports/2015 (1766 firms)/dyl15.pdf', '/content/drive/MyDrive/ASX annual reports/2015 (1766 firms)/eaf15.pdf', '/content/drive/MyDrive/ASX annual reports/2015 (1766 firms)/dls15.pdf', '/content/drive/MyDrive/ASX annual reports/2015 (1766 firms)/cza15.pdf', '/content/drive/MyDrive/ASX annual reports/2015 (1766 firms)/cue15.pdf', '/content/drive/MyDrive/ASX annual reports/2015 (1766 firms)/exr15.pdf', '/content/drive/MyDrive/ASX annual reports/2015 (1766 firms)/ede15.pdf', '/content/drive/MyDrive/ASX annual reports/2015 (1766 firms)/elk15.pdf', '/content/drive/MyDrive/ASX annual reports/2015 (1766 firms)/epm15.pdf', '/content/drive/MyDrive/ASX annual reports/2015 (1766 firms)/enx15.pdf', '/content/drive/MyDrive/ASX annual reports/2015 (1766 firms)/eeg15.pdf', '/content/drive/MyDrive/ASX annual reports/2015 (1766 firms)/emx15.pdf', '/content/drive/MyDrive/ASX annual reports/2015 (1766 firms)/ego15.pdf', '/content/drive/MyDrive/ASX annual reports/2015 (1766 firms)/era15.pdf', '/content/drive/MyDrive/ASX annual reports/2015 (1766 firms)/eor15.pdf', '/content/drive/MyDrive/ASX annual reports/2015 (1766 firms)/eve15.pdf', '/content/drive/MyDrive/ASX annual reports/2015 (1766 firms)/enu15.pdf', '/content/drive/MyDrive/ASX annual reports/2015 (1766 firms)/fse15.pdf', '/content/drive/MyDrive/ASX annual reports/2015 (1766 firms)/exe15.pdf', '/content/drive/MyDrive/ASX annual reports/2015 (1766 firms)/gal15.pdf', '/content/drive/MyDrive/ASX annual reports/2015 (1766 firms)/eqx15.pdf', '/content/drive/MyDrive/ASX annual reports/2015 (1766 firms)/fzr15.pdf', '/content/drive/MyDrive/ASX annual reports/2015 (1766 firms)/gbx15.pdf', '/content/drive/MyDrive/ASX annual reports/2015 (1766 firms)/ggx15.pdf', '/content/drive/MyDrive/ASX annual reports/2015 (1766 firms)/far15.pdf', '/content/drive/MyDrive/ASX annual reports/2015 (1766 firms)/grv15.pdf', '/content/drive/MyDrive/ASX annual reports/2015 (1766 firms)/gbp15.pdf', '/content/drive/MyDrive/ASX annual reports/2015 (1766 firms)/gge15.pdf', '/content/drive/MyDrive/ASX annual reports/2015 (1766 firms)/gll15.pdf', '/content/drive/MyDrive/ASX annual reports/2015 (1766 firms)/hpr15.pdf', '/content/drive/MyDrive/ASX annual reports/2015 (1766 firms)/guf15.pdf', '/content/drive/MyDrive/ASX annual reports/2015 (1766 firms)/ete15.pdf', '/content/drive/MyDrive/ASX annual reports/2015 (1766 firms)/hog15.pdf', '/content/drive/MyDrive/ASX annual reports/2015 (1766 firms)/icn15.pdf', '/content/drive/MyDrive/ASX annual reports/2015 (1766 firms)/ikw15.pdf', '/content/drive/MyDrive/ASX annual reports/2015 (1766 firms)/ind15.pdf', '/content/drive/MyDrive/ASX annual reports/2015 (1766 firms)/icx15.pdf', '/content/drive/MyDrive/ASX annual reports/2015 (1766 firms)/iog15.pdf', '/content/drive/MyDrive/ASX annual reports/2015 (1766 firms)/hzn15.pdf', '/content/drive/MyDrive/ASX annual reports/2015 (1766 firms)/iec15.pdf', '/content/drive/MyDrive/ASX annual reports/2015 (1766 firms)/ipb15.pdf', '/content/drive/MyDrive/ASX annual reports/2015 (1766 firms)/jka15.pdf', '/content/drive/MyDrive/ASX annual reports/2015 (1766 firms)/jpr15.pdf', '/content/drive/MyDrive/ASX annual reports/2015 (1766 firms)/kik15.pdf', '/content/drive/MyDrive/ASX annual reports/2015 (1766 firms)/ivr15.pdf', '/content/drive/MyDrive/ASX annual reports/2015 (1766 firms)/krl15.pdf', '/content/drive/MyDrive/ASX annual reports/2015 (1766 firms)/klr15.pdf', '/content/drive/MyDrive/ASX annual reports/2015 (1766 firms)/kko15.pdf', '/content/drive/MyDrive/ASX annual reports/2015 (1766 firms)/key15.pdf', '/content/drive/MyDrive/ASX annual reports/2015 (1766 firms)/kpl15.pdf', '/content/drive/MyDrive/ASX annual reports/2015 (1766 firms)/lmr15.pdf', '/content/drive/MyDrive/ASX annual reports/2015 (1766 firms)/lam15.pdf', '/content/drive/MyDrive/ASX annual reports/2015 (1766 firms)/kar15.pdf', '/content/drive/MyDrive/ASX annual reports/2015 (1766 firms)/lko15.pdf', '/content/drive/MyDrive/ASX annual reports/2015 (1766 firms)/lnr15.pdf', '/content/drive/MyDrive/ASX annual reports/2015 (1766 firms)/lgo15.pdf', '/content/drive/MyDrive/ASX annual reports/2015 (1766 firms)/mpe15.pdf', '/content/drive/MyDrive/ASX annual reports/2015 (1766 firms)/lwp15.pdf', '/content/drive/MyDrive/ASX annual reports/2015 (1766 firms)/mbc15.pdf', '/content/drive/MyDrive/ASX annual reports/2015 (1766 firms)/mhc15.pdf', '/content/drive/MyDrive/ASX annual reports/2015 (1766 firms)/mey15.pdf', '/content/drive/MyDrive/ASX annual reports/2015 (1766 firms)/mae15.pdf', '/content/drive/MyDrive/ASX annual reports/2015 (1766 firms)/lio15.pdf', '/content/drive/MyDrive/ASX annual reports/2015 (1766 firms)/mad15.pdf', '/content/drive/MyDrive/ASX annual reports/2015 (1766 firms)/mmr15.pdf', '/content/drive/MyDrive/ASX annual reports/2015 (1766 firms)/mce15.pdf', '/content/drive/MyDrive/ASX annual reports/2015 (1766 firms)/lng15.pdf', '/content/drive/MyDrive/ASX annual reports/2015 (1766 firms)/meo15.pdf', '/content/drive/MyDrive/ASX annual reports/2015 (1766 firms)/mel15.pdf', '/content/drive/MyDrive/ASX annual reports/2015 (1766 firms)/mbt15.pdf', '/content/drive/MyDrive/ASX annual reports/2015 (1766 firms)/mrm15.pdf', '/content/drive/MyDrive/ASX annual reports/2015 (1766 firms)/meu15.pdf', '/content/drive/MyDrive/ASX annual reports/2015 (1766 firms)/mpo15.pdf', '/content/drive/MyDrive/ASX annual reports/2015 (1766 firms)/nen15.pdf', '/content/drive/MyDrive/ASX annual reports/2015 (1766 firms)/moz15.pdf', '/content/drive/MyDrive/ASX annual reports/2015 (1766 firms)/nms15.pdf', '/content/drive/MyDrive/ASX annual reports/2015 (1766 firms)/nae15.pdf', '/content/drive/MyDrive/ASX annual reports/2015 (1766 firms)/nho15.pdf', '/content/drive/MyDrive/ASX annual reports/2015 (1766 firms)/nhc15.pdf', '/content/drive/MyDrive/ASX annual reports/2015 (1766 firms)/nse15.pdf', '/content/drive/MyDrive/ASX annual reports/2015 (1766 firms)/nzo15.pdf', '/content/drive/MyDrive/ASX annual reports/2015 (1766 firms)/mrv15.pdf', '/content/drive/MyDrive/ASX annual reports/2015 (1766 firms)/nwe15.pdf', '/content/drive/MyDrive/ASX annual reports/2015 (1766 firms)/ndo15.pdf', '/content/drive/MyDrive/ASX annual reports/2015 (1766 firms)/ngy15.pdf', '/content/drive/MyDrive/ASX annual reports/2015 (1766 firms)/ody15.pdf', '/content/drive/MyDrive/ASX annual reports/2015 (1766 firms)/oxx15.pdf', '/content/drive/MyDrive/ASX annual reports/2015 (1766 firms)/obl15.pdf', '/content/drive/MyDrive/ASX annual reports/2015 (1766 firms)/osh15.pdf', '/content/drive/MyDrive/ASX annual reports/2015 (1766 firms)/odn15.pdf', '/content/drive/MyDrive/ASX annual reports/2015 (1766 firms)/oex15.pdf', '/content/drive/MyDrive/ASX annual reports/2015 (1766 firms)/ogy15.pdf', '/content/drive/MyDrive/ASX annual reports/2015 (1766 firms)/org15.pdf', '/content/drive/MyDrive/ASX annual reports/2015 (1766 firms)/oeg15.pdf', '/content/drive/MyDrive/ASX annual reports/2015 (1766 firms)/oel15.pdf', '/content/drive/MyDrive/ASX annual reports/2015 (1766 firms)/pzr15.pdf', '/content/drive/MyDrive/ASX annual reports/2015 (1766 firms)/pdn15.pdf', '/content/drive/MyDrive/ASX annual reports/2015 (1766 firms)/pzc15.pdf', '/content/drive/MyDrive/ASX annual reports/2015 (1766 firms)/ppp15.pdf', '/content/drive/MyDrive/ASX annual reports/2015 (1766 firms)/pcl15.pdf', '/content/drive/MyDrive/ASX annual reports/2015 (1766 firms)/pnl15.pdf', '/content/drive/MyDrive/ASX annual reports/2015 (1766 firms)/paw15.pdf', '/content/drive/MyDrive/ASX annual reports/2015 (1766 firms)/pko15.pdf', '/content/drive/MyDrive/ASX annual reports/2015 (1766 firms)/prl15.pdf', '/content/drive/MyDrive/ASX annual reports/2015 (1766 firms)/psa15.pdf', '/content/drive/MyDrive/ASX annual reports/2015 (1766 firms)/pgy15.pdf', '/content/drive/MyDrive/ASX annual reports/2015 (1766 firms)/pgs15.pdf', '/content/drive/MyDrive/ASX annual reports/2015 (1766 firms)/pve15.pdf', '/content/drive/MyDrive/ASX annual reports/2015 (1766 firms)/pez15.pdf', '/content/drive/MyDrive/ASX annual reports/2015 (1766 firms)/pym15.pdf', '/content/drive/MyDrive/ASX annual reports/2015 (1766 firms)/pvd15.pdf', '/content/drive/MyDrive/ASX annual reports/2015 (1766 firms)/rrs15.pdf', '/content/drive/MyDrive/ASX annual reports/2015 (1766 firms)/raw15.pdf', '/content/drive/MyDrive/ASX annual reports/2015 (1766 firms)/ryg15.pdf', '/content/drive/MyDrive/ASX annual reports/2015 (1766 firms)/rle15.pdf', '/content/drive/MyDrive/ASX annual reports/2015 (1766 firms)/rmp15.pdf', '/content/drive/MyDrive/ASX annual reports/2015 (1766 firms)/rog15.pdf', '/content/drive/MyDrive/ASX annual reports/2015 (1766 firms)/rgu15.pdf', '/content/drive/MyDrive/ASX annual reports/2015 (1766 firms)/rsl15.pdf', '/content/drive/MyDrive/ASX annual reports/2015 (1766 firms)/res15.pdf', '/content/drive/MyDrive/ASX annual reports/2015 (1766 firms)/sgc15.pdf', '/content/drive/MyDrive/ASX annual reports/2015 (1766 firms)/rnu15.pdf', '/content/drive/MyDrive/ASX annual reports/2015 (1766 firms)/ssn15.pdf', '/content/drive/MyDrive/ASX annual reports/2015 (1766 firms)/rey15.pdf', '/content/drive/MyDrive/ASX annual reports/2015 (1766 firms)/sxy15.pdf', '/content/drive/MyDrive/ASX annual reports/2015 (1766 firms)/sto15.pdf', '/content/drive/MyDrive/ASX annual reports/2015 (1766 firms)/rum15.pdf', '/content/drive/MyDrive/ASX annual reports/2015 (1766 firms)/scy15.pdf', '/content/drive/MyDrive/ASX annual reports/2015 (1766 firms)/seh15.pdf', '/content/drive/MyDrive/ASX annual reports/2015 (1766 firms)/spb15.pdf', '/content/drive/MyDrive/ASX annual reports/2015 (1766 firms)/smr15.pdf', '/content/drive/MyDrive/ASX annual reports/2015 (1766 firms)/she15.pdf', '/content/drive/MyDrive/ASX annual reports/2015 (1766 firms)/sxa15.pdf', '/content/drive/MyDrive/ASX annual reports/2015 (1766 firms)/stx15.pdf', '/content/drive/MyDrive/ASX annual reports/2015 (1766 firms)/smm15.pdf', '/content/drive/MyDrive/ASX annual reports/2015 (1766 firms)/sur15.pdf', '/content/drive/MyDrive/ASX annual reports/2015 (1766 firms)/sny15.pdf', '/content/drive/MyDrive/ASX annual reports/2015 (1766 firms)/sea15.pdf', '/content/drive/MyDrive/ASX annual reports/2015 (1766 firms)/swe15.pdf', '/content/drive/MyDrive/ASX annual reports/2015 (1766 firms)/sys15.pdf', '/content/drive/MyDrive/ASX annual reports/2015 (1766 firms)/tpd15.pdf', '/content/drive/MyDrive/ASX annual reports/2015 (1766 firms)/tap15.pdf', '/content/drive/MyDrive/ASX annual reports/2015 (1766 firms)/tmk15.pdf', '/content/drive/MyDrive/ASX annual reports/2015 (1766 firms)/tex15.pdf', '/content/drive/MyDrive/ASX annual reports/2015 (1766 firms)/ttn15.pdf', '/content/drive/MyDrive/ASX annual reports/2015 (1766 firms)/tou15.pdf', '/content/drive/MyDrive/ASX annual reports/2015 (1766 firms)/toe15.pdf', '/content/drive/MyDrive/ASX annual reports/2015 (1766 firms)/tsv15.pdf', '/content/drive/MyDrive/ASX annual reports/2015 (1766 firms)/teg15.pdf', '/content/drive/MyDrive/ASX annual reports/2015 (1766 firms)/tnp15.pdf', '/content/drive/MyDrive/ASX annual reports/2015 (1766 firms)/tte15.pdf', '/content/drive/MyDrive/ASX annual reports/2015 (1766 firms)/tyk15.pdf', '/content/drive/MyDrive/ASX annual reports/2015 (1766 firms)/uil15.pdf', '/content/drive/MyDrive/ASX annual reports/2015 (1766 firms)/unv15.pdf', '/content/drive/MyDrive/ASX annual reports/2015 (1766 firms)/ueq15.pdf', '/content/drive/MyDrive/ASX annual reports/2015 (1766 firms)/uxa15.pdf', '/content/drive/MyDrive/ASX annual reports/2015 (1766 firms)/usa15.pdf', '/content/drive/MyDrive/ASX annual reports/2015 (1766 firms)/vmx15.pdf', '/content/drive/MyDrive/ASX annual reports/2015 (1766 firms)/vgr15.pdf', '/content/drive/MyDrive/ASX annual reports/2015 (1766 firms)/vmy15.pdf', '/content/drive/MyDrive/ASX annual reports/2015 (1766 firms)/sol15.pdf', '/content/drive/MyDrive/ASX annual reports/2015 (1766 firms)/wcc15.pdf', '/content/drive/MyDrive/ASX annual reports/2015 (1766 firms)/wec15.pdf', '/content/drive/MyDrive/ASX annual reports/2015 (1766 firms)/whc15.pdf', '/content/drive/MyDrive/ASX annual reports/2015 (1766 firms)/whn15.pdf', '/content/drive/MyDrive/ASX annual reports/2015 (1766 firms)/wof15.pdf', '/content/drive/MyDrive/ASX annual reports/2015 (1766 firms)/wel15.pdf', '/content/drive/MyDrive/ASX annual reports/2015 (1766 firms)/whe15.pdf', '/content/drive/MyDrive/ASX annual reports/2015 (1766 firms)/xst15.pdf', '/content/drive/MyDrive/ASX annual reports/2015 (1766 firms)/wpl15.pdf', '/content/drive/MyDrive/ASX annual reports/2015 (1766 firms)/wor15.pdf', '/content/drive/MyDrive/ASX annual reports/2015 (1766 firms)/yal15.pdf', '/content/drive/MyDrive/ASX annual reports/2015 (1766 firms)/zta15.pdf', '/content/drive/MyDrive/ASX annual reports/2015 (1766 firms)/znz15.pdf', '/content/drive/MyDrive/ASX annual reports/2015 (1766 firms)/zeu15.pdf', '/content/drive/MyDrive/ASX annual reports/2015 (1766 firms)/ddd15.pdf', '/content/drive/MyDrive/ASX annual reports/2015 (1766 firms)/ayc15.pdf', '/content/drive/MyDrive/ASX annual reports/2015 (1766 firms)/abl15.pdf', '/content/drive/MyDrive/ASX annual reports/2015 (1766 firms)/acs15.pdf', '/content/drive/MyDrive/ASX annual reports/2015 (1766 firms)/abu15.pdf', '/content/drive/MyDrive/ASX annual reports/2015 (1766 firms)/abc15.pdf', '/content/drive/MyDrive/ASX annual reports/2015 (1766 firms)/adn15.pdf', '/content/drive/MyDrive/ASX annual reports/2015 (1766 firms)/ady15.pdf', '/content/drive/MyDrive/ASX annual reports/2015 (1766 firms)/aiv15.pdf', '/content/drive/MyDrive/ASX annual reports/2015 (1766 firms)/amn15.pdf', '/content/drive/MyDrive/ASX annual reports/2015 (1766 firms)/agr15.pdf', '/content/drive/MyDrive/ASX annual reports/2015 (1766 firms)/aqg15.pdf', '/content/drive/MyDrive/ASX annual reports/2015 (1766 firms)/auq15.pdf', '/content/drive/MyDrive/ASX annual reports/2015 (1766 firms)/aly15.pdf', '/content/drive/MyDrive/ASX annual reports/2015 (1766 firms)/ajx15.pdf', '/content/drive/MyDrive/ASX annual reports/2015 (1766 firms)/aqr15.pdf', '/content/drive/MyDrive/ASX annual reports/2015 (1766 firms)/aqi15.pdf', '/content/drive/MyDrive/ASX annual reports/2015 (1766 firms)/aby15.pdf', '/content/drive/MyDrive/ASX annual reports/2015 (1766 firms)/ags15.pdf', '/content/drive/MyDrive/ASX annual reports/2015 (1766 firms)/ahq15.pdf', '/content/drive/MyDrive/ASX annual reports/2015 (1766 firms)/alk15.pdf', '/content/drive/MyDrive/ASX annual reports/2015 (1766 firms)/aoh15.pdf', '/content/drive/MyDrive/ASX annual reports/2015 (1766 firms)/ayr15.pdf', '/content/drive/MyDrive/ASX annual reports/2015 (1766 firms)/aai15.pdf', '/content/drive/MyDrive/ASX annual reports/2015 (1766 firms)/atc15.pdf', '/content/drive/MyDrive/ASX annual reports/2015 (1766 firms)/awc15.pdf', '/content/drive/MyDrive/ASX annual reports/2015 (1766 firms)/ajm15.pdf', '/content/drive/MyDrive/ASX annual reports/2015 (1766 firms)/amc15.pdf', '/content/drive/MyDrive/ASX annual reports/2015 (1766 firms)/axz15.pdf', '/content/drive/MyDrive/ASX annual reports/2015 (1766 firms)/aar15.pdf', '/content/drive/MyDrive/ASX annual reports/2015 (1766 firms)/ahr15.pdf', '/content/drive/MyDrive/ASX annual reports/2015 (1766 firms)/atm15.pdf', '/content/drive/MyDrive/ASX annual reports/2015 (1766 firms)/aww15.pdf', '/content/drive/MyDrive/ASX annual reports/2015 (1766 firms)/agg15.pdf', '/content/drive/MyDrive/ASX annual reports/2015 (1766 firms)/ano15.pdf', '/content/drive/MyDrive/ASX annual reports/2015 (1766 firms)/aqq15.pdf', '/content/drive/MyDrive/ASX annual reports/2015 (1766 firms)/awv15.pdf', '/content/drive/MyDrive/ASX annual reports/2015 (1766 firms)/azy15.pdf', '/content/drive/MyDrive/ASX annual reports/2015 (1766 firms)/aru15.pdf', '/content/drive/MyDrive/ASX annual reports/2015 (1766 firms)/aon15.pdf', '/content/drive/MyDrive/ASX annual reports/2015 (1766 firms)/awo15.pdf', '/content/drive/MyDrive/ASX annual reports/2015 (1766 firms)/arx15.pdf', '/content/drive/MyDrive/ASX annual reports/2015 (1766 firms)/adv15.pdf', '/content/drive/MyDrive/ASX annual reports/2015 (1766 firms)/aqp15.pdf', '/content/drive/MyDrive/ASX annual reports/2015 (1766 firms)/axt15.pdf', '/content/drive/MyDrive/ASX annual reports/2015 (1766 firms)/axe15.pdf', '/content/drive/MyDrive/ASX annual reports/2015 (1766 firms)/agy15.pdf', '/content/drive/MyDrive/ASX annual reports/2015 (1766 firms)/ahk15.pdf', '/content/drive/MyDrive/ASX annual reports/2015 (1766 firms)/ard15.pdf', '/content/drive/MyDrive/ASX annual reports/2015 (1766 firms)/arv15.pdf', '/content/drive/MyDrive/ASX annual reports/2015 (1766 firms)/are15.pdf', '/content/drive/MyDrive/ASX annual reports/2015 (1766 firms)/aaj15.pdf', '/content/drive/MyDrive/ASX annual reports/2015 (1766 firms)/ajy15.pdf', '/content/drive/MyDrive/ASX annual reports/2015 (1766 firms)/ari15.pdf', '/content/drive/MyDrive/ASX annual reports/2015 (1766 firms)/ajr15.pdf', '/content/drive/MyDrive/ASX annual reports/2015 (1766 firms)/azq15.pdf', '/content/drive/MyDrive/ASX annual reports/2015 (1766 firms)/atr15.pdf', '/content/drive/MyDrive/ASX annual reports/2015 (1766 firms)/akm15.pdf', '/content/drive/MyDrive/ASX annual reports/2015 (1766 firms)/ahn15.pdf', '/content/drive/MyDrive/ASX annual reports/2015 (1766 firms)/aro15.pdf', '/content/drive/MyDrive/ASX annual reports/2015 (1766 firms)/ate15.pdf', '/content/drive/MyDrive/ASX annual reports/2015 (1766 firms)/ati15.pdf', '/content/drive/MyDrive/ASX annual reports/2015 (1766 firms)/atu15.pdf', '/content/drive/MyDrive/ASX annual reports/2015 (1766 firms)/aya15.pdf', '/content/drive/MyDrive/ASX annual reports/2015 (1766 firms)/ago15.pdf', '/content/drive/MyDrive/ASX annual reports/2015 (1766 firms)/auk15.pdf', '/content/drive/MyDrive/ASX annual reports/2015 (1766 firms)/ami15.pdf', '/content/drive/MyDrive/ASX annual reports/2015 (1766 firms)/aou15.pdf', '/content/drive/MyDrive/ASX annual reports/2015 (1766 firms)/anw15.pdf', '/content/drive/MyDrive/ASX annual reports/2015 (1766 firms)/arm15.pdf', '/content/drive/MyDrive/ASX annual reports/2015 (1766 firms)/asl15.pdf', '/content/drive/MyDrive/ASX annual reports/2015 (1766 firms)/aoa15.pdf', '/content/drive/MyDrive/ASX annual reports/2015 (1766 firms)/auc15.pdf', '/content/drive/MyDrive/ASX annual reports/2015 (1766 firms)/aqd15.pdf', '/content/drive/MyDrive/ASX annual reports/2015 (1766 firms)/apg15.pdf', '/content/drive/MyDrive/ASX annual reports/2015 (1766 firms)/agd15.pdf', '/content/drive/MyDrive/ASX annual reports/2015 (1766 firms)/anb15.pdf', '/content/drive/MyDrive/ASX annual reports/2015 (1766 firms)/auz15.pdf', '/content/drive/MyDrive/ASX annual reports/2015 (1766 firms)/aym15.pdf', '/content/drive/MyDrive/ASX annual reports/2015 (1766 firms)/azc15.pdf', '/content/drive/MyDrive/ASX annual reports/2015 (1766 firms)/aqc15.pdf', '/content/drive/MyDrive/ASX annual reports/2015 (1766 firms)/avb15.pdf', '/content/drive/MyDrive/ASX annual reports/2015 (1766 firms)/avi15.pdf', '/content/drive/MyDrive/ASX annual reports/2015 (1766 firms)/abx15.pdf', '/content/drive/MyDrive/ASX annual reports/2015 (1766 firms)/avz15.pdf', '/content/drive/MyDrive/ASX annual reports/2015 (1766 firms)/avq15.pdf', '/content/drive/MyDrive/ASX annual reports/2015 (1766 firms)/azm15.pdf', '/content/drive/MyDrive/ASX annual reports/2015 (1766 firms)/azs15.pdf', '/content/drive/MyDrive/ASX annual reports/2015 (1766 firms)/bmn15.pdf', '/content/drive/MyDrive/ASX annual reports/2015 (1766 firms)/bar15.pdf', '/content/drive/MyDrive/ASX annual reports/2015 (1766 firms)/bsm15.pdf', '/content/drive/MyDrive/ASX annual reports/2015 (1766 firms)/bse15.pdf', '/content/drive/MyDrive/ASX annual reports/2015 (1766 firms)/bsr15.pdf', '/content/drive/MyDrive/ASX annual reports/2015 (1766 firms)/brl15.pdf', '/content/drive/MyDrive/ASX annual reports/2015 (1766 firms)/bau15.pdf', '/content/drive/MyDrive/ASX annual reports/2015 (1766 firms)/bbx15.pdf', '/content/drive/MyDrive/ASX annual reports/2015 (1766 firms)/bci15.pdf', '/content/drive/MyDrive/ASX annual reports/2015 (1766 firms)/bcn15.pdf', '/content/drive/MyDrive/ASX annual reports/2015 (1766 firms)/bdr15.pdf', '/content/drive/MyDrive/ASX annual reports/2015 (1766 firms)/bgd15.pdf', '/content/drive/MyDrive/ASX annual reports/2015 (1766 firms)/bgs15.pdf', '/content/drive/MyDrive/ASX annual reports/2015 (1766 firms)/bhp15.pdf', '/content/drive/MyDrive/ASX annual reports/2015 (1766 firms)/bmz15.pdf', '/content/drive/MyDrive/ASX annual reports/2015 (1766 firms)/bis15.pdf', '/content/drive/MyDrive/ASX annual reports/2015 (1766 firms)/bok15.pdf', '/content/drive/MyDrive/ASX annual reports/2015 (1766 firms)/blk15.pdf', '/content/drive/MyDrive/ASX annual reports/2015 (1766 firms)/bgh15.pdf', '/content/drive/MyDrive/ASX annual reports/2015 (1766 firms)/brd15.pdf', '/content/drive/MyDrive/ASX annual reports/2015 (1766 firms)/bdi15.pdf', '/content/drive/MyDrive/ASX annual reports/2015 (1766 firms)/bmg15.pdf', '/content/drive/MyDrive/ASX annual reports/2015 (1766 firms)/boa15.pdf', '/content/drive/MyDrive/ASX annual reports/2015 (1766 firms)/bkt15.pdf', '/content/drive/MyDrive/ASX annual reports/2015 (1766 firms)/bbr15.pdf', '/content/drive/MyDrive/ASX annual reports/2015 (1766 firms)/bsl15.pdf', '/content/drive/MyDrive/ASX annual reports/2015 (1766 firms)/bld15.pdf', '/content/drive/MyDrive/ASX annual reports/2015 (1766 firms)/bml15.pdf', '/content/drive/MyDrive/ASX annual reports/2015 (1766 firms)/bly15.pdf', '/content/drive/MyDrive/ASX annual reports/2015 (1766 firms)/boe15.pdf', '/content/drive/MyDrive/ASX annual reports/2015 (1766 firms)/bkw15.pdf', '/content/drive/MyDrive/ASX annual reports/2015 (1766 firms)/bzl15.pdf', '/content/drive/MyDrive/ASX annual reports/2015 (1766 firms)/brb15.pdf', '/content/drive/MyDrive/ASX annual reports/2015 (1766 firms)/bpl15.pdf', '/content/drive/MyDrive/ASX annual reports/2015 (1766 firms)/byr15.pdf', '/content/drive/MyDrive/ASX annual reports/2015 (1766 firms)/bck15.pdf', '/content/drive/MyDrive/ASX annual reports/2015 (1766 firms)/cbs15.pdf', '/content/drive/MyDrive/ASX annual reports/2015 (1766 firms)/bux15.pdf', '/content/drive/MyDrive/ASX annual reports/2015 (1766 firms)/cad15.pdf', '/content/drive/MyDrive/ASX annual reports/2015 (1766 firms)/cae15.pdf', '/content/drive/MyDrive/ASX annual reports/2015 (1766 firms)/bnr15.pdf', '/content/drive/MyDrive/ASX annual reports/2015 (1766 firms)/cay15.pdf', '/content/drive/MyDrive/ASX annual reports/2015 (1766 firms)/cfe15.pdf', '/content/drive/MyDrive/ASX annual reports/2015 (1766 firms)/cmy15.pdf', '/content/drive/MyDrive/ASX annual reports/2015 (1766 firms)/caa15.pdf', '/content/drive/MyDrive/ASX annual reports/2015 (1766 firms)/cvv15.pdf', '/content/drive/MyDrive/ASX annual reports/2015 (1766 firms)/crb15.pdf', '/content/drive/MyDrive/ASX annual reports/2015 (1766 firms)/cnq15.pdf', '/content/drive/MyDrive/ASX annual reports/2015 (1766 firms)/crm15.pdf', '/content/drive/MyDrive/ASX annual reports/2015 (1766 firms)/cdv15.pdf', '/content/drive/MyDrive/ASX annual reports/2015 (1766 firms)/cav15.pdf', '/content/drive/MyDrive/ASX annual reports/2015 (1766 firms)/cap15.pdf', '/content/drive/MyDrive/ASX annual reports/2015 (1766 firms)/czi15.pdf', '/content/drive/MyDrive/ASX annual reports/2015 (1766 firms)/ccz15.pdf', '/content/drive/MyDrive/ASX annual reports/2015 (1766 firms)/cdt15.pdf', '/content/drive/MyDrive/ASX annual reports/2015 (1766 firms)/cyl15.pdf', '/content/drive/MyDrive/ASX annual reports/2015 (1766 firms)/caz15.pdf', '/content/drive/MyDrive/ASX annual reports/2015 (1766 firms)/cnl15.pdf', '/content/drive/MyDrive/ASX annual reports/2015 (1766 firms)/cla15.pdf', '/content/drive/MyDrive/ASX annual reports/2015 (1766 firms)/ctm15.pdf', '/content/drive/MyDrive/ASX annual reports/2015 (1766 firms)/cxm15.pdf', '/content/drive/MyDrive/ASX annual reports/2015 (1766 firms)/cvs15.pdf', '/content/drive/MyDrive/ASX annual reports/2015 (1766 firms)/chn15.pdf', '/content/drive/MyDrive/ASX annual reports/2015 (1766 firms)/cia15.pdf', '/content/drive/MyDrive/ASX annual reports/2015 (1766 firms)/chz15.pdf', '/content/drive/MyDrive/ASX annual reports/2015 (1766 firms)/cmc15.pdf', '/content/drive/MyDrive/ASX annual reports/2015 (1766 firms)/cyu15.pdf', '/content/drive/MyDrive/ASX annual reports/2015 (1766 firms)/cdh15.pdf', '/content/drive/MyDrive/ASX annual reports/2015 (1766 firms)/cys15.pdf', '/content/drive/MyDrive/ASX annual reports/2015 (1766 firms)/cto15.pdf', '/content/drive/MyDrive/ASX annual reports/2015 (1766 firms)/cly15.pdf', '/content/drive/MyDrive/ASX annual reports/2015 (1766 firms)/clz15.pdf', '/content/drive/MyDrive/ASX annual reports/2015 (1766 firms)/cdg15.pdf', '/content/drive/MyDrive/ASX annual reports/2015 (1766 firms)/cxb15.pdf', '/content/drive/MyDrive/ASX annual reports/2015 (1766 firms)/chk15.pdf', '/content/drive/MyDrive/ASX annual reports/2015 (1766 firms)/clv15.pdf', '/content/drive/MyDrive/ASX annual reports/2015 (1766 firms)/ckl15.pdf', '/content/drive/MyDrive/ASX annual reports/2015 (1766 firms)/cka15.pdf', '/content/drive/MyDrive/ASX annual reports/2015 (1766 firms)/crl15.pdf', '/content/drive/MyDrive/ASX annual reports/2015 (1766 firms)/cdb15.pdf', '/content/drive/MyDrive/ASX annual reports/2015 (1766 firms)/cpd15.pdf', '/content/drive/MyDrive/ASX annual reports/2015 (1766 firms)/cnj15.pdf', '/content/drive/MyDrive/ASX annual reports/2015 (1766 firms)/csd15.pdf', '/content/drive/MyDrive/ASX annual reports/2015 (1766 firms)/czl15.pdf', '/content/drive/MyDrive/ASX annual reports/2015 (1766 firms)/cvg15.pdf', '/content/drive/MyDrive/ASX annual reports/2015 (1766 firms)/cse15.pdf', '/content/drive/MyDrive/ASX annual reports/2015 (1766 firms)/coy15.pdf', '/content/drive/MyDrive/ASX annual reports/2015 (1766 firms)/czn15.pdf', '/content/drive/MyDrive/ASX annual reports/2015 (1766 firms)/cxo15.pdf', '/content/drive/MyDrive/ASX annual reports/2015 (1766 firms)/cgm15.pdf', '/content/drive/MyDrive/ASX annual reports/2015 (1766 firms)/cvt15.pdf', '/content/drive/MyDrive/ASX annual reports/2015 (1766 firms)/cve15.pdf', '/content/drive/MyDrive/ASX annual reports/2015 (1766 firms)/cyy15.pdf', '/content/drive/MyDrive/ASX annual reports/2015 (1766 firms)/czr15.pdf', '/content/drive/MyDrive/ASX annual reports/2015 (1766 firms)/cxx15.pdf', '/content/drive/MyDrive/ASX annual reports/2015 (1766 firms)/cgn15.pdf', '/content/drive/MyDrive/ASX annual reports/2015 (1766 firms)/crq15.pdf', '/content/drive/MyDrive/ASX annual reports/2015 (1766 firms)/ctt15.pdf', '/content/drive/MyDrive/ASX annual reports/2015 (1766 firms)/crx15.pdf', '/content/drive/MyDrive/ASX annual reports/2015 (1766 firms)/cux15.pdf', '/content/drive/MyDrive/ASX annual reports/2015 (1766 firms)/cas15.pdf', '/content/drive/MyDrive/ASX annual reports/2015 (1766 firms)/csr15.pdf', '/content/drive/MyDrive/ASX annual reports/2015 (1766 firms)/cwh15.pdf', '/content/drive/MyDrive/ASX annual reports/2015 (1766 firms)/dko15.pdf', '/content/drive/MyDrive/ASX annual reports/2015 (1766 firms)/dau15.pdf', '/content/drive/MyDrive/ASX annual reports/2015 (1766 firms)/cul15.pdf', '/content/drive/MyDrive/ASX annual reports/2015 (1766 firms)/cdu15.pdf', '/content/drive/MyDrive/ASX annual reports/2015 (1766 firms)/dcn15.pdf', '/content/drive/MyDrive/ASX annual reports/2015 (1766 firms)/dnk15.pdf', '/content/drive/MyDrive/ASX annual reports/2015 (1766 firms)/dtm15.pdf', '/content/drive/MyDrive/ASX annual reports/2015 (1766 firms)/dtr15.pdf', '/content/drive/MyDrive/ASX annual reports/2015 (1766 firms)/deg15.pdf', '/content/drive/MyDrive/ASX annual reports/2015 (1766 firms)/dsb15.pdf', '/content/drive/MyDrive/ASX annual reports/2015 (1766 firms)/dmi15.pdf', '/content/drive/MyDrive/ASX annual reports/2015 (1766 firms)/daf15.pdf', '/content/drive/MyDrive/ASX annual reports/2015 (1766 firms)/dgr15.pdf', '/content/drive/MyDrive/ASX annual reports/2015 (1766 firms)/dme15.pdf', '/content/drive/MyDrive/ASX annual reports/2015 (1766 firms)/duo15.pdf', '/content/drive/MyDrive/ASX annual reports/2015 (1766 firms)/dra15.pdf', '/content/drive/MyDrive/ASX annual reports/2015 (1766 firms)/dle15.pdf', '/content/drive/MyDrive/ASX annual reports/2015 (1766 firms)/dmg15.pdf', '/content/drive/MyDrive/ASX annual reports/2015 (1766 firms)/drg15.pdf', '/content/drive/MyDrive/ASX annual reports/2015 (1766 firms)/drx15.pdf', '/content/drive/MyDrive/ASX annual reports/2015 (1766 firms)/dgo15.pdf', '/content/drive/MyDrive/ASX annual reports/2015 (1766 firms)/drm15.pdf', '/content/drive/MyDrive/ASX annual reports/2015 (1766 firms)/dkm15.pdf', '/content/drive/MyDrive/ASX annual reports/2015 (1766 firms)/drk15.pdf', '/content/drive/MyDrive/ASX annual reports/2015 (1766 firms)/dma15.pdf', '/content/drive/MyDrive/ASX annual reports/2015 (1766 firms)/enl15.pdf', '/content/drive/MyDrive/ASX annual reports/2015 (1766 firms)/dlx15.pdf', '/content/drive/MyDrive/ASX annual reports/2015 (1766 firms)/ear15.pdf', '/content/drive/MyDrive/ASX annual reports/2015 (1766 firms)/elm15.pdf', '/content/drive/MyDrive/ASX annual reports/2015 (1766 firms)/elr15.pdf', '/content/drive/MyDrive/ASX annual reports/2015 (1766 firms)/emr15.pdf', '/content/drive/MyDrive/ASX annual reports/2015 (1766 firms)/elt15.pdf', '/content/drive/MyDrive/ASX annual reports/2015 (1766 firms)/efe15.pdf', '/content/drive/MyDrive/ASX annual reports/2015 (1766 firms)/eym15.pdf', '/content/drive/MyDrive/ASX annual reports/2015 (1766 firms)/erm15.pdf', '/content/drive/MyDrive/ASX annual reports/2015 (1766 firms)/emg15.pdf', '/content/drive/MyDrive/ASX annual reports/2015 (1766 firms)/erx15.pdf', '/content/drive/MyDrive/ASX annual reports/2015 (1766 firms)/erl15.pdf', '/content/drive/MyDrive/ASX annual reports/2015 (1766 firms)/equ15.pdf', '/content/drive/MyDrive/ASX annual reports/2015 (1766 firms)/emu15.pdf', '/content/drive/MyDrive/ASX annual reports/2015 (1766 firms)/esm15.pdf', '/content/drive/MyDrive/ASX annual reports/2015 (1766 firms)/ent15.pdf', '/content/drive/MyDrive/ASX annual reports/2015 (1766 firms)/eri15.pdf', '/content/drive/MyDrive/ASX annual reports/2015 (1766 firms)/eqe15.pdf', '/content/drive/MyDrive/ASX annual reports/2015 (1766 firms)/eug15.pdf', '/content/drive/MyDrive/ASX annual reports/2015 (1766 firms)/eum15.pdf', '/content/drive/MyDrive/ASX annual reports/2015 (1766 firms)/esr15.pdf', '/content/drive/MyDrive/ASX annual reports/2015 (1766 firms)/enr15.pdf', '/content/drive/MyDrive/ASX annual reports/2015 (1766 firms)/emh15.pdf', '/content/drive/MyDrive/ASX annual reports/2015 (1766 firms)/exu15.pdf', '/content/drive/MyDrive/ASX annual reports/2015 (1766 firms)/erd15.pdf', '/content/drive/MyDrive/ASX annual reports/2015 (1766 firms)/exc15.pdf', '/content/drive/MyDrive/ASX annual reports/2015 (1766 firms)/exm15.pdf', '/content/drive/MyDrive/ASX annual reports/2015 (1766 firms)/fcn15.pdf', '/content/drive/MyDrive/ASX annual reports/2015 (1766 firms)/fel15.pdf', '/content/drive/MyDrive/ASX annual reports/2015 (1766 firms)/fwl15.pdf', '/content/drive/MyDrive/ASX annual reports/2015 (1766 firms)/evn15.pdf', '/content/drive/MyDrive/ASX annual reports/2015 (1766 firms)/ftz15.pdf', '/content/drive/MyDrive/ASX annual reports/2015 (1766 firms)/fie15.pdf', '/content/drive/MyDrive/ASX annual reports/2015 (1766 firms)/fcr15.pdf', '/content/drive/MyDrive/ASX annual reports/2015 (1766 firms)/fry15.pdf', '/content/drive/MyDrive/ASX annual reports/2015 (1766 firms)/fxl15.pdf', '/content/drive/MyDrive/ASX annual reports/2015 (1766 firms)/exg15.pdf', '/content/drive/MyDrive/ASX annual reports/2015 (1766 firms)/fnd15.pdf', '/content/drive/MyDrive/ASX annual reports/2015 (1766 firms)/fml15.pdf', '/content/drive/MyDrive/ASX annual reports/2015 (1766 firms)/fbu15.pdf', '/content/drive/MyDrive/ASX annual reports/2015 (1766 firms)/fms15.pdf', '/content/drive/MyDrive/ASX annual reports/2015 (1766 firms)/frc15.pdf', '/content/drive/MyDrive/ASX annual reports/2015 (1766 firms)/fnt15.pdf', '/content/drive/MyDrive/ASX annual reports/2015 (1766 firms)/frn15.pdf', '/content/drive/MyDrive/ASX annual reports/2015 (1766 firms)/fyi15.pdf', '/content/drive/MyDrive/ASX annual reports/2015 (1766 firms)/gcy15.pdf', '/content/drive/MyDrive/ASX annual reports/2015 (1766 firms)/gxy15.pdf', '/content/drive/MyDrive/ASX annual reports/2015 (1766 firms)/gml15.pdf', '/content/drive/MyDrive/ASX annual reports/2015 (1766 firms)/gbm15.pdf', '/content/drive/MyDrive/ASX annual reports/2015 (1766 firms)/fmg15.pdf', '/content/drive/MyDrive/ASX annual reports/2015 (1766 firms)/gmm15.pdf', '/content/drive/MyDrive/ASX annual reports/2015 (1766 firms)/foy15.pdf', '/content/drive/MyDrive/ASX annual reports/2015 (1766 firms)/ges15.pdf', '/content/drive/MyDrive/ASX annual reports/2015 (1766 firms)/gip15.pdf', '/content/drive/MyDrive/ASX annual reports/2015 (1766 firms)/gpr15.pdf', '/content/drive/MyDrive/ASX annual reports/2015 (1766 firms)/gln15.pdf', '/content/drive/MyDrive/ASX annual reports/2015 (1766 firms)/gbz15.pdf', '/content/drive/MyDrive/ASX annual reports/2015 (1766 firms)/gsc15.pdf', '/content/drive/MyDrive/ASX annual reports/2015 (1766 firms)/gla15.pdf', '/content/drive/MyDrive/ASX annual reports/2015 (1766 firms)/gxn15.pdf', '/content/drive/MyDrive/ASX annual reports/2015 (1766 firms)/gbg15.pdf', '/content/drive/MyDrive/ASX annual reports/2015 (1766 firms)/gme15.pdf', '/content/drive/MyDrive/ASX annual reports/2015 (1766 firms)/gbe15.pdf', '/content/drive/MyDrive/ASX annual reports/2015 (1766 firms)/gmr15.pdf', '/content/drive/MyDrive/ASX annual reports/2015 (1766 firms)/ged15.pdf', '/content/drive/MyDrive/ASX annual reports/2015 (1766 firms)/gor15.pdf', '/content/drive/MyDrive/ASX annual reports/2015 (1766 firms)/gse15.pdf', '/content/drive/MyDrive/ASX annual reports/2015 (1766 firms)/gcr15.pdf', '/content/drive/MyDrive/ASX annual reports/2015 (1766 firms)/gng15.pdf', '/content/drive/MyDrive/ASX annual reports/2015 (1766 firms)/gda15.pdf', '/content/drive/MyDrive/ASX annual reports/2015 (1766 firms)/gph15.pdf', '/content/drive/MyDrive/ASX annual reports/2015 (1766 firms)/gmn15.pdf', '/content/drive/MyDrive/ASX annual reports/2015 (1766 firms)/gte15.pdf', '/content/drive/MyDrive/ASX annual reports/2015 (1766 firms)/grr15.pdf', '/content/drive/MyDrive/ASX annual reports/2015 (1766 firms)/gpp15.pdf', '/content/drive/MyDrive/ASX annual reports/2015 (1766 firms)/ggg15.pdf', '/content/drive/MyDrive/ASX annual reports/2015 (1766 firms)/glf15.pdf', '/content/drive/MyDrive/ASX annual reports/2015 (1766 firms)/gtr15.pdf', '/content/drive/MyDrive/ASX annual reports/2015 (1766 firms)/gry15.pdf', '/content/drive/MyDrive/ASX annual reports/2015 (1766 firms)/gul15.pdf', '/content/drive/MyDrive/ASX annual reports/2015 (1766 firms)/gmc15.pdf', '/content/drive/MyDrive/ASX annual reports/2015 (1766 firms)/gwr15.pdf', '/content/drive/MyDrive/ASX annual reports/2015 (1766 firms)/hhm15.pdf', '/content/drive/MyDrive/ASX annual reports/2015 (1766 firms)/har15.pdf', '/content/drive/MyDrive/ASX annual reports/2015 (1766 firms)/hmi15.pdf', '/content/drive/MyDrive/ASX annual reports/2015 (1766 firms)/hao15.pdf', '/content/drive/MyDrive/ASX annual reports/2015 (1766 firms)/hmx15.pdf', '/content/drive/MyDrive/ASX annual reports/2015 (1766 firms)/has15.pdf', '/content/drive/MyDrive/ASX annual reports/2015 (1766 firms)/haz15.pdf', '/content/drive/MyDrive/ASX annual reports/2015 (1766 firms)/hnr15.pdf', '/content/drive/MyDrive/ASX annual reports/2015 (1766 firms)/haw15.pdf', '/content/drive/MyDrive/ASX annual reports/2015 (1766 firms)/hav15.pdf', '/content/drive/MyDrive/ASX annual reports/2015 (1766 firms)/hsk15.pdf', '/content/drive/MyDrive/ASX annual reports/2015 (1766 firms)/hlx15.pdf', '/content/drive/MyDrive/ASX annual reports/2015 (1766 firms)/hrr15.pdf', '/content/drive/MyDrive/ASX annual reports/2015 (1766 firms)/heg15.pdf', '/content/drive/MyDrive/ASX annual reports/2015 (1766 firms)/hig15.pdf', '/content/drive/MyDrive/ASX annual reports/2015 (1766 firms)/hgo15.pdf', '/content/drive/MyDrive/ASX annual reports/2015 (1766 firms)/hfr15.pdf', '/content/drive/MyDrive/ASX annual reports/2015 (1766 firms)/hor15.pdf', '/content/drive/MyDrive/ASX annual reports/2015 (1766 firms)/hdx15.pdf', '/content/drive/MyDrive/ASX annual reports/2015 (1766 firms)/ima15.pdf', '/content/drive/MyDrive/ASX annual reports/2015 (1766 firms)/ilu15.pdf', '/content/drive/MyDrive/ASX annual reports/2015 (1766 firms)/ixr15.pdf', '/content/drive/MyDrive/ASX annual reports/2015 (1766 firms)/hch15.pdf', '/content/drive/MyDrive/ASX annual reports/2015 (1766 firms)/ipt15.pdf', '/content/drive/MyDrive/ASX annual reports/2015 (1766 firms)/imd15.pdf', '/content/drive/MyDrive/ASX annual reports/2015 (1766 firms)/icg15.pdf', '/content/drive/MyDrive/ASX annual reports/2015 (1766 firms)/irl15.pdf', '/content/drive/MyDrive/ASX annual reports/2015 (1766 firms)/ido15.pdf', '/content/drive/MyDrive/ASX annual reports/2015 (1766 firms)/ipl15.pdf', '/content/drive/MyDrive/ASX annual reports/2015 (1766 firms)/inl15.pdf', '/content/drive/MyDrive/ASX annual reports/2015 (1766 firms)/igs15.pdf', '/content/drive/MyDrive/ASX annual reports/2015 (1766 firms)/iau15.pdf', '/content/drive/MyDrive/ASX annual reports/2015 (1766 firms)/irm15.pdf', '/content/drive/MyDrive/ASX annual reports/2015 (1766 firms)/irc15.pdf', '/content/drive/MyDrive/ASX annual reports/2015 (1766 firms)/ibg15.pdf', '/content/drive/MyDrive/ASX annual reports/2015 (1766 firms)/ish15.pdf', '/content/drive/MyDrive/ASX annual reports/2015 (1766 firms)/igo15.pdf', '/content/drive/MyDrive/ASX annual reports/2015 (1766 firms)/jrl15.pdf', '/content/drive/MyDrive/ASX annual reports/2015 (1766 firms)/idc15.pdf', '/content/drive/MyDrive/ASX annual reports/2015 (1766 firms)/jhx15.pdf', '/content/drive/MyDrive/ASX annual reports/2015 (1766 firms)/jal15.pdf', '/content/drive/MyDrive/ASX annual reports/2015 (1766 firms)/kgm15.pdf', '/content/drive/MyDrive/ASX annual reports/2015 (1766 firms)/kpt15.pdf', '/content/drive/MyDrive/ASX annual reports/2015 (1766 firms)/kpc15.pdf', '/content/drive/MyDrive/ASX annual reports/2015 (1766 firms)/kas15.pdf', '/content/drive/MyDrive/ASX annual reports/2015 (1766 firms)/kgl15.pdf', '/content/drive/MyDrive/ASX annual reports/2015 (1766 firms)/knl15.pdf', '/content/drive/MyDrive/ASX annual reports/2015 (1766 firms)/ird15.pdf', '/content/drive/MyDrive/ASX annual reports/2015 (1766 firms)/kbl15.pdf', '/content/drive/MyDrive/ASX annual reports/2015 (1766 firms)/kdr15.pdf', '/content/drive/MyDrive/ASX annual reports/2015 (1766 firms)/kin15.pdf', '/content/drive/MyDrive/ASX annual reports/2015 (1766 firms)/kra15.pdf', '/content/drive/MyDrive/ASX annual reports/2015 (1766 firms)/krc15.pdf', '/content/drive/MyDrive/ASX annual reports/2015 (1766 firms)/kis15.pdf', '/content/drive/MyDrive/ASX annual reports/2015 (1766 firms)/jrv15.pdf', '/content/drive/MyDrive/ASX annual reports/2015 (1766 firms)/kdl15.pdf', '/content/drive/MyDrive/ASX annual reports/2015 (1766 firms)/kso15.pdf', '/content/drive/MyDrive/ASX annual reports/2015 (1766 firms)/kcn15.pdf', '/content/drive/MyDrive/ASX annual reports/2015 (1766 firms)/krm15.pdf', '/content/drive/MyDrive/ASX annual reports/2015 (1766 firms)/kta15.pdf', '/content/drive/MyDrive/ASX annual reports/2015 (1766 firms)/ksn15.pdf', '/content/drive/MyDrive/ASX annual reports/2015 (1766 firms)/kor15.pdf', '/content/drive/MyDrive/ASX annual reports/2015 (1766 firms)/kgd15.pdf', '/content/drive/MyDrive/ASX annual reports/2015 (1766 firms)/kne15.pdf', '/content/drive/MyDrive/ASX annual reports/2015 (1766 firms)/lcr15.pdf', '/content/drive/MyDrive/ASX annual reports/2015 (1766 firms)/lke15.pdf', '/content/drive/MyDrive/ASX annual reports/2015 (1766 firms)/lmb15.pdf', '/content/drive/MyDrive/ASX annual reports/2015 (1766 firms)/lny15.pdf', '/content/drive/MyDrive/ASX annual reports/2015 (1766 firms)/lcd15.pdf', '/content/drive/MyDrive/ASX annual reports/2015 (1766 firms)/lrs15.pdf', '/content/drive/MyDrive/ASX annual reports/2015 (1766 firms)/lmg15.pdf', '/content/drive/MyDrive/ASX annual reports/2015 (1766 firms)/lsn15.pdf', '/content/drive/MyDrive/ASX annual reports/2015 (1766 firms)/ler15.pdf', '/content/drive/MyDrive/ASX annual reports/2015 (1766 firms)/lrl15.pdf', '/content/drive/MyDrive/ASX annual reports/2015 (1766 firms)/lrr15.pdf', '/content/drive/MyDrive/ASX annual reports/2015 (1766 firms)/lcy15.pdf', '/content/drive/MyDrive/ASX annual reports/2015 (1766 firms)/leg15.pdf', '/content/drive/MyDrive/ASX annual reports/2015 (1766 firms)/lml15.pdf', '/content/drive/MyDrive/ASX annual reports/2015 (1766 firms)/lin15.pdf', '/content/drive/MyDrive/ASX annual reports/2015 (1766 firms)/llo15.pdf', '/content/drive/MyDrive/ASX annual reports/2015 (1766 firms)/ltx15.pdf', '/content/drive/MyDrive/ASX annual reports/2015 (1766 firms)/ltr15.pdf', '/content/drive/MyDrive/ASX annual reports/2015 (1766 firms)/lgm15.pdf', '/content/drive/MyDrive/ASX annual reports/2015 (1766 firms)/lsr15.pdf', '/content/drive/MyDrive/ASX annual reports/2015 (1766 firms)/lom15.pdf', '/content/drive/MyDrive/ASX annual reports/2015 (1766 firms)/lyc15.pdf', '/content/drive/MyDrive/ASX annual reports/2015 (1766 firms)/mld15.pdf', '/content/drive/MyDrive/ASX annual reports/2015 (1766 firms)/mah15.pdf', '/content/drive/MyDrive/ASX annual reports/2015 (1766 firms)/mrp15.pdf', '/content/drive/MyDrive/ASX annual reports/2015 (1766 firms)/mau15.pdf', '/content/drive/MyDrive/ASX annual reports/2015 (1766 firms)/mns15.pdf', '/content/drive/MyDrive/ASX annual reports/2015 (1766 firms)/mgb15.pdf', '/content/drive/MyDrive/ASX annual reports/2015 (1766 firms)/mgu15.pdf', '/content/drive/MyDrive/ASX annual reports/2015 (1766 firms)/mgl15.pdf', '/content/drive/MyDrive/ASX annual reports/2015 (1766 firms)/mar15.pdf', '/content/drive/MyDrive/ASX annual reports/2015 (1766 firms)/mgy15.pdf', '/content/drive/MyDrive/ASX annual reports/2015 (1766 firms)/msr15.pdf', '/content/drive/MyDrive/ASX annual reports/2015 (1766 firms)/mdd15.pdf', '/content/drive/MyDrive/ASX annual reports/2015 (1766 firms)/mnm15.pdf', '/content/drive/MyDrive/ASX annual reports/2015 (1766 firms)/mtn15.pdf', '/content/drive/MyDrive/ASX annual reports/2015 (1766 firms)/mxr15.pdf', '/content/drive/MyDrive/ASX annual reports/2015 (1766 firms)/mzn15.pdf', '/content/drive/MyDrive/ASX annual reports/2015 (1766 firms)/med15.pdf', '/content/drive/MyDrive/ASX annual reports/2015 (1766 firms)/mas15.pdf', '/content/drive/MyDrive/ASX annual reports/2015 (1766 firms)/mml15.pdf', '/content/drive/MyDrive/ASX annual reports/2015 (1766 firms)/myn15.pdf', '/content/drive/MyDrive/ASX annual reports/2015 (1766 firms)/mbk15.pdf', '/content/drive/MyDrive/ASX annual reports/2015 (1766 firms)/mat15.pdf', '/content/drive/MyDrive/ASX annual reports/2015 (1766 firms)/mls15.pdf', '/content/drive/MyDrive/ASX annual reports/2015 (1766 firms)/mne15.pdf', '/content/drive/MyDrive/ASX annual reports/2015 (1766 firms)/mye15.pdf', '/content/drive/MyDrive/ASX annual reports/2015 (1766 firms)/mlm15.pdf', '/content/drive/MyDrive/ASX annual reports/2015 (1766 firms)/mta15.pdf', '/content/drive/MyDrive/ASX annual reports/2015 (1766 firms)/mei15.pdf', '/content/drive/MyDrive/ASX annual reports/2015 (1766 firms)/mlx15.pdf', '/content/drive/MyDrive/ASX annual reports/2015 (1766 firms)/mnc15.pdf', '/content/drive/MyDrive/ASX annual reports/2015 (1766 firms)/mko15.pdf', '/content/drive/MyDrive/ASX annual reports/2015 (1766 firms)/mhm15.pdf', '/content/drive/MyDrive/ASX annual reports/2015 (1766 firms)/mnb15.pdf', '/content/drive/MyDrive/ASX annual reports/2015 (1766 firms)/mdi15.pdf', '/content/drive/MyDrive/ASX annual reports/2015 (1766 firms)/mmi15.pdf', '/content/drive/MyDrive/ASX annual reports/2015 (1766 firms)/mdx15.pdf', '/content/drive/MyDrive/ASX annual reports/2015 (1766 firms)/moy15.pdf', '/content/drive/MyDrive/ASX annual reports/2015 (1766 firms)/mrc15.pdf', '/content/drive/MyDrive/ASX annual reports/2015 (1766 firms)/msc15.pdf', '/content/drive/MyDrive/ASX annual reports/2015 (1766 firms)/mdl15.pdf', '/content/drive/MyDrive/ASX annual reports/2015 (1766 firms)/mgs15.pdf', '/content/drive/MyDrive/ASX annual reports/2015 (1766 firms)/mpj15.pdf', '/content/drive/MyDrive/ASX annual reports/2015 (1766 firms)/min15.pdf', '/content/drive/MyDrive/ASX annual reports/2015 (1766 firms)/mep15.pdf', '/content/drive/MyDrive/ASX annual reports/2015 (1766 firms)/mrr15.pdf', '/content/drive/MyDrive/ASX annual reports/2015 (1766 firms)/mcr15.pdf', '/content/drive/MyDrive/ASX annual reports/2015 (1766 firms)/mth15.pdf', '/content/drive/MyDrive/ASX annual reports/2015 (1766 firms)/mli15.pdf', '/content/drive/MyDrive/ASX annual reports/2015 (1766 firms)/mak15.pdf', '/content/drive/MyDrive/ASX annual reports/2015 (1766 firms)/msv15.pdf', '/content/drive/MyDrive/ASX annual reports/2015 (1766 firms)/mod15.pdf', '/content/drive/MyDrive/ASX annual reports/2015 (1766 firms)/moo15.pdf', '/content/drive/MyDrive/ASX annual reports/2015 (1766 firms)/mol15.pdf', '/content/drive/MyDrive/ASX annual reports/2015 (1766 firms)/mum15.pdf', '/content/drive/MyDrive/ASX annual reports/2015 (1766 firms)/mtb15.pdf', '/content/drive/MyDrive/ASX annual reports/2015 (1766 firms)/mgx15.pdf', '/content/drive/MyDrive/ASX annual reports/2015 (1766 firms)/mzm15.pdf', '/content/drive/MyDrive/ASX annual reports/2015 (1766 firms)/mox15.pdf', '/content/drive/MyDrive/ASX annual reports/2015 (1766 firms)/mrq15.pdf', '/content/drive/MyDrive/ASX annual reports/2015 (1766 firms)/mgv15.pdf', '/content/drive/MyDrive/ASX annual reports/2015 (1766 firms)/mzi15.pdf', '/content/drive/MyDrive/ASX annual reports/2015 (1766 firms)/mrd15.pdf', '/content/drive/MyDrive/ASX annual reports/2015 (1766 firms)/mrf15.pdf', '/content/drive/MyDrive/ASX annual reports/2015 (1766 firms)/nco15.pdf', '/content/drive/MyDrive/ASX annual reports/2015 (1766 firms)/nag15.pdf', '/content/drive/MyDrive/ASX annual reports/2015 (1766 firms)/nxr15.pdf', '/content/drive/MyDrive/ASX annual reports/2015 (1766 firms)/nav15.pdf', '/content/drive/MyDrive/ASX annual reports/2015 (1766 firms)/nvg15.pdf', '/content/drive/MyDrive/ASX annual reports/2015 (1766 firms)/mus15.pdf', '/content/drive/MyDrive/ASX annual reports/2015 (1766 firms)/nvi15.pdf', '/content/drive/MyDrive/ASX annual reports/2015 (1766 firms)/nrr15.pdf', '/content/drive/MyDrive/ASX annual reports/2015 (1766 firms)/nml15.pdf', '/content/drive/MyDrive/ASX annual reports/2015 (1766 firms)/ntl15.pdf', '/content/drive/MyDrive/ASX annual reports/2015 (1766 firms)/nmt15.pdf', '/content/drive/MyDrive/ASX annual reports/2015 (1766 firms)/nme15.pdf', '/content/drive/MyDrive/ASX annual reports/2015 (1766 firms)/mnq15.pdf', '/content/drive/MyDrive/ASX annual reports/2015 (1766 firms)/niu15.pdf', '/content/drive/MyDrive/ASX annual reports/2015 (1766 firms)/nkp15.pdf', '/content/drive/MyDrive/ASX annual reports/2015 (1766 firms)/nwf15.pdf', '/content/drive/MyDrive/ASX annual reports/2015 (1766 firms)/ncm15.pdf', '/content/drive/MyDrive/ASX annual reports/2015 (1766 firms)/nfe15.pdf', '/content/drive/MyDrive/ASX annual reports/2015 (1766 firms)/nxm15.pdf', '/content/drive/MyDrive/ASX annual reports/2015 (1766 firms)/nio15.pdf', '/content/drive/MyDrive/ASX annual reports/2015 (1766 firms)/nmg15.pdf', '/content/drive/MyDrive/ASX annual reports/2015 (1766 firms)/ntm15.pdf', '/content/drive/MyDrive/ASX annual reports/2015 (1766 firms)/ntu15.pdf', '/content/drive/MyDrive/ASX annual reports/2015 (1766 firms)/nmi15.pdf', '/content/drive/MyDrive/ASX annual reports/2015 (1766 firms)/nst15.pdf', '/content/drive/MyDrive/ASX annual reports/2015 (1766 firms)/nsl15.pdf', '/content/drive/MyDrive/ASX annual reports/2015 (1766 firms)/ncr15.pdf', '/content/drive/MyDrive/ASX annual reports/2015 (1766 firms)/nuf15.pdf', '/content/drive/MyDrive/ASX annual reports/2015 (1766 firms)/npx15.pdf', '/content/drive/MyDrive/ASX annual reports/2015 (1766 firms)/nyo15.pdf', '/content/drive/MyDrive/ASX annual reports/2015 (1766 firms)/okj15.pdf', '/content/drive/MyDrive/ASX annual reports/2015 (1766 firms)/oar15.pdf', '/content/drive/MyDrive/ASX annual reports/2015 (1766 firms)/ogc15.pdf', '/content/drive/MyDrive/ASX annual reports/2015 (1766 firms)/ogh15.pdf', '/content/drive/MyDrive/ASX annual reports/2015 (1766 firms)/ors15.pdf', '/content/drive/MyDrive/ASX annual reports/2015 (1766 firms)/oku15.pdf', '/content/drive/MyDrive/ASX annual reports/2015 (1766 firms)/omh15.pdf', '/content/drive/MyDrive/ASX annual reports/2015 (1766 firms)/orr15.pdf', '/content/drive/MyDrive/ASX annual reports/2015 (1766 firms)/ogx15.pdf', '/content/drive/MyDrive/ASX annual reports/2015 (1766 firms)/ori15.pdf', '/content/drive/MyDrive/ASX annual reports/2015 (1766 firms)/orn15.pdf', '/content/drive/MyDrive/ASX annual reports/2015 (1766 firms)/orm15.pdf', '/content/drive/MyDrive/ASX annual reports/2015 (1766 firms)/ovl15.pdf', '/content/drive/MyDrive/ASX annual reports/2015 (1766 firms)/ore15.pdf', '/content/drive/MyDrive/ASX annual reports/2015 (1766 firms)/ora15.pdf', '/content/drive/MyDrive/ASX annual reports/2015 (1766 firms)/orx15.pdf', '/content/drive/MyDrive/ASX annual reports/2015 (1766 firms)/ovr15.pdf', '/content/drive/MyDrive/ASX annual reports/2015 (1766 firms)/ozl15.pdf', '/content/drive/MyDrive/ASX annual reports/2015 (1766 firms)/pak15.pdf', '/content/drive/MyDrive/ASX annual reports/2015 (1766 firms)/pnr15.pdf', '/content/drive/MyDrive/ASX annual reports/2015 (1766 firms)/psf15.pdf', '/content/drive/MyDrive/ASX annual reports/2015 (1766 firms)/pdy15.pdf', '/content/drive/MyDrive/ASX annual reports/2015 (1766 firms)/pmy15.pdf', '/content/drive/MyDrive/ASX annual reports/2015 (1766 firms)/pan15.pdf', '/content/drive/MyDrive/ASX annual reports/2015 (1766 firms)/ppy15.pdf', '/content/drive/MyDrive/ASX annual reports/2015 (1766 firms)/pgi15.pdf', '/content/drive/MyDrive/ASX annual reports/2015 (1766 firms)/pgh15.pdf', '/content/drive/MyDrive/ASX annual reports/2015 (1766 firms)/pdm15.pdf', '/content/drive/MyDrive/ASX annual reports/2015 (1766 firms)/pml15.pdf', '/content/drive/MyDrive/ASX annual reports/2015 (1766 firms)/pne15.pdf', '/content/drive/MyDrive/ASX annual reports/2015 (1766 firms)/pex15.pdf', '/content/drive/MyDrive/ASX annual reports/2015 (1766 firms)/pun15.pdf', '/content/drive/MyDrive/ASX annual reports/2015 (1766 firms)/pel15.pdf', '/content/drive/MyDrive/ASX annual reports/2015 (1766 firms)/pkr15.pdf', '/content/drive/MyDrive/ASX annual reports/2015 (1766 firms)/pcp15.pdf', '/content/drive/MyDrive/ASX annual reports/2015 (1766 firms)/pek15.pdf', '/content/drive/MyDrive/ASX annual reports/2015 (1766 firms)/pen15.pdf', '/content/drive/MyDrive/ASX annual reports/2015 (1766 firms)/ptr15.pdf', '/content/drive/MyDrive/ASX annual reports/2015 (1766 firms)/pnn15.pdf', '/content/drive/MyDrive/ASX annual reports/2015 (1766 firms)/psm15.pdf', '/content/drive/MyDrive/ASX annual reports/2015 (1766 firms)/prh15.pdf', '/content/drive/MyDrive/ASX annual reports/2015 (1766 firms)/pnx15.pdf', '/content/drive/MyDrive/ASX annual reports/2015 (1766 firms)/pec15.pdf', '/content/drive/MyDrive/ASX annual reports/2015 (1766 firms)/pru15.pdf', '/content/drive/MyDrive/ASX annual reports/2015 (1766 firms)/pxg15.pdf', '/content/drive/MyDrive/ASX annual reports/2015 (1766 firms)/pio15.pdf', '/content/drive/MyDrive/ASX annual reports/2015 (1766 firms)/poz15.pdf', '/content/drive/MyDrive/ASX annual reports/2015 (1766 firms)/plp15.pdf', '/content/drive/MyDrive/ASX annual reports/2015 (1766 firms)/pgm15.pdf', '/content/drive/MyDrive/ASX annual reports/2015 (1766 firms)/plh15.pdf', '/content/drive/MyDrive/ASX annual reports/2015 (1766 firms)/pls15.pdf', '/content/drive/MyDrive/ASX annual reports/2015 (1766 firms)/prm15.pdf', '/content/drive/MyDrive/ASX annual reports/2015 (1766 firms)/pok15.pdf', '/content/drive/MyDrive/ASX annual reports/2015 (1766 firms)/pww15.pdf', '/content/drive/MyDrive/ASX annual reports/2015 (1766 firms)/pos15.pdf', '/content/drive/MyDrive/ASX annual reports/2015 (1766 firms)/pwn15.pdf', '/content/drive/MyDrive/ASX annual reports/2015 (1766 firms)/pdz15.pdf', '/content/drive/MyDrive/ASX annual reports/2015 (1766 firms)/ppg15.pdf', '/content/drive/MyDrive/ASX annual reports/2015 (1766 firms)/pdi15.pdf', '/content/drive/MyDrive/ASX annual reports/2015 (1766 firms)/prr15.pdf', '/content/drive/MyDrive/ASX annual reports/2015 (1766 firms)/pgo15.pdf', '/content/drive/MyDrive/ASX annual reports/2015 (1766 firms)/psc15.pdf']\n"
          ]
        }
      ]
    },
    {
      "cell_type": "markdown",
      "metadata": {
        "id": "tx3afZbVAN2b"
      },
      "source": [
        "Check the number of files in this folder"
      ]
    },
    {
      "cell_type": "code",
      "metadata": {
        "id": "OZc7OJure1px",
        "colab": {
          "base_uri": "https://localhost:8080/"
        },
        "outputId": "8f250502-35d8-45df-ed6a-dd81c84d9b14"
      },
      "source": [
        "len(file_list)"
      ],
      "execution_count": null,
      "outputs": [
        {
          "output_type": "execute_result",
          "data": {
            "text/plain": [
              "1766"
            ]
          },
          "metadata": {},
          "execution_count": 5
        }
      ]
    },
    {
      "cell_type": "markdown",
      "metadata": {
        "id": "6oRlSJ9bAkDh"
      },
      "source": [
        "## Step 3: Extract PDF files (around 500 each time)"
      ]
    },
    {
      "cell_type": "markdown",
      "metadata": {
        "id": "9oCRr5GlKDXp"
      },
      "source": [
        "### Step 3.1: List 1"
      ]
    },
    {
      "cell_type": "markdown",
      "metadata": {
        "id": "blqeFTlcA407"
      },
      "source": [
        "e.g., the following piece of code is to extract 500 PDF files (with index 0-499)"
      ]
    },
    {
      "cell_type": "code",
      "metadata": {
        "id": "-UGuhBjCZPeA"
      },
      "source": [
        "new_list1={}\n",
        "\n",
        "for file in file_list[:500]:   # start from 0, up to 500 but not including\n",
        "  print(file)\n",
        "    \n",
        "  if file.endswith(\".pdf\"):\n",
        "    try:\n",
        "      with pdfplumber.open(file) as pdf:\n",
        "        fulltext = \"\"\n",
        "        try:\n",
        "          for page in pdf.pages:\n",
        "            try:\n",
        "              text = page.extract_text()\n",
        "              fulltext += str(text)\n",
        "            except:\n",
        "              fulltext = \"\"\n",
        "              print(\"Blank\")\n",
        "            finally:\n",
        "              pass\n",
        "        except:\n",
        "          pass\n",
        "    except:\n",
        "      pass\n",
        "        \n",
        "        \n",
        "    new_list1[file]=(fulltext) "
      ],
      "execution_count": null,
      "outputs": []
    },
    {
      "cell_type": "markdown",
      "metadata": {
        "id": "i90NhSkBBaZP"
      },
      "source": [
        "check the number of files in the first list"
      ]
    },
    {
      "cell_type": "code",
      "metadata": {
        "id": "GIxYwCQF1yLR"
      },
      "source": [
        "len(new_list1)"
      ],
      "execution_count": null,
      "outputs": []
    },
    {
      "cell_type": "markdown",
      "metadata": {
        "id": "G8mYbEmiKNAR"
      },
      "source": [
        "### Step 3.2: List 2"
      ]
    },
    {
      "cell_type": "code",
      "metadata": {
        "id": "eAAT2LUCtr7U"
      },
      "source": [
        "new_list2={}\n",
        "\n",
        "for file in file_list[500:750]:   \n",
        "  print(file)\n",
        "    \n",
        "  if file.endswith(\".pdf\"):\n",
        "    try:\n",
        "      with pdfplumber.open(file) as pdf:\n",
        "        fulltext = \"\"\n",
        "        try:\n",
        "          for page in pdf.pages:\n",
        "            try:\n",
        "              text = page.extract_text()\n",
        "              fulltext += str(text)\n",
        "            except:\n",
        "              fulltext = \"\"\n",
        "              print(\"Blank\")\n",
        "            finally:\n",
        "              pass\n",
        "        except:\n",
        "          pass\n",
        "    except:\n",
        "      pass\n",
        "        \n",
        "        \n",
        "    new_list2[file]=(fulltext) "
      ],
      "execution_count": null,
      "outputs": []
    },
    {
      "cell_type": "code",
      "metadata": {
        "id": "D9sIIRD6B_eL"
      },
      "source": [
        "len(new_list2)"
      ],
      "execution_count": null,
      "outputs": []
    },
    {
      "cell_type": "markdown",
      "metadata": {
        "id": "_pmKCKXvKRzb"
      },
      "source": [
        "### Step 3.3: List 3"
      ]
    },
    {
      "cell_type": "code",
      "metadata": {
        "id": "lrUmBC9Wt1Yk",
        "colab": {
          "base_uri": "https://localhost:8080/"
        },
        "outputId": "e8838f9a-e0a6-4873-ba84-f8141001c07a"
      },
      "source": [
        "new_list3={}\n",
        "\n",
        "for file in file_list[750:1000]:  \n",
        "  print(file)\n",
        "    \n",
        "  if file.endswith(\".pdf\"):\n",
        "    try:\n",
        "      with pdfplumber.open(file) as pdf:\n",
        "        fulltext = \"\"\n",
        "        try:\n",
        "          for page in pdf.pages:\n",
        "            try:\n",
        "              text = page.extract_text()\n",
        "              fulltext += str(text)\n",
        "            except:\n",
        "              fulltext = \"\"\n",
        "              print(\"Blank\")\n",
        "            finally:\n",
        "              pass\n",
        "        except:\n",
        "          pass\n",
        "    except:\n",
        "      pass\n",
        "        \n",
        "        \n",
        "    new_list3[file]=(fulltext) "
      ],
      "execution_count": null,
      "outputs": [
        {
          "output_type": "stream",
          "name": "stdout",
          "text": [
            "/content/drive/MyDrive/ASX annual reports/2015 (1766 firms)/1pg15.pdf\n",
            "/content/drive/MyDrive/ASX annual reports/2015 (1766 firms)/aat15.pdf\n",
            "/content/drive/MyDrive/ASX annual reports/2015 (1766 firms)/nnw15.pdf\n",
            "/content/drive/MyDrive/ASX annual reports/2015 (1766 firms)/acx15.pdf\n",
            "/content/drive/MyDrive/ASX annual reports/2015 (1766 firms)/8co15.pdf\n",
            "/content/drive/MyDrive/ASX annual reports/2015 (1766 firms)/acu15.pdf\n",
            "/content/drive/MyDrive/ASX annual reports/2015 (1766 firms)/ada15.pdf\n",
            "/content/drive/MyDrive/ASX annual reports/2015 (1766 firms)/adj15.pdf\n",
            "/content/drive/MyDrive/ASX annual reports/2015 (1766 firms)/agx15.pdf\n",
            "/content/drive/MyDrive/ASX annual reports/2015 (1766 firms)/aft15.pdf\n",
            "/content/drive/MyDrive/ASX annual reports/2015 (1766 firms)/alu15.pdf\n",
            "/content/drive/MyDrive/ASX annual reports/2015 (1766 firms)/ala15.pdf\n",
            "/content/drive/MyDrive/ASX annual reports/2015 (1766 firms)/apx15.pdf\n",
            "/content/drive/MyDrive/ASX annual reports/2015 (1766 firms)/ayg15.pdf\n",
            "/content/drive/MyDrive/ASX annual reports/2015 (1766 firms)/bhg15.pdf\n",
            "/content/drive/MyDrive/ASX annual reports/2015 (1766 firms)/amo15.pdf\n",
            "/content/drive/MyDrive/ASX annual reports/2015 (1766 firms)/asz15.pdf\n",
            "/content/drive/MyDrive/ASX annual reports/2015 (1766 firms)/bct15.pdf\n",
            "/content/drive/MyDrive/ASX annual reports/2015 (1766 firms)/big15.pdf\n",
            "/content/drive/MyDrive/ASX annual reports/2015 (1766 firms)/brn15.pdf\n",
            "/content/drive/MyDrive/ASX annual reports/2015 (1766 firms)/blg15.pdf\n",
            "/content/drive/MyDrive/ASX annual reports/2015 (1766 firms)/bpf15.pdf\n",
            "/content/drive/MyDrive/ASX annual reports/2015 (1766 firms)/bun15.pdf\n",
            "/content/drive/MyDrive/ASX annual reports/2015 (1766 firms)/clt15.pdf\n",
            "/content/drive/MyDrive/ASX annual reports/2015 (1766 firms)/cyo15.pdf\n",
            "/content/drive/MyDrive/ASX annual reports/2015 (1766 firms)/bps15.pdf\n",
            "/content/drive/MyDrive/ASX annual reports/2015 (1766 firms)/com15.pdf\n",
            "/content/drive/MyDrive/ASX annual reports/2015 (1766 firms)/cnw15.pdf\n",
            "/content/drive/MyDrive/ASX annual reports/2015 (1766 firms)/cpu15.pdf\n",
            "/content/drive/MyDrive/ASX annual reports/2015 (1766 firms)/cgo15.pdf\n",
            "/content/drive/MyDrive/ASX annual reports/2015 (1766 firms)/coo15.pdf\n",
            "/content/drive/MyDrive/ASX annual reports/2015 (1766 firms)/cda15.pdf\n",
            "/content/drive/MyDrive/ASX annual reports/2015 (1766 firms)/csv15.pdf\n",
            "/content/drive/MyDrive/ASX annual reports/2015 (1766 firms)/cxz15.pdf\n",
            "/content/drive/MyDrive/ASX annual reports/2015 (1766 firms)/dtl15.pdf\n",
            "/content/drive/MyDrive/ASX annual reports/2015 (1766 firms)/ddr15.pdf\n",
            "/content/drive/MyDrive/ASX annual reports/2015 (1766 firms)/dsx15.pdf\n",
            "/content/drive/MyDrive/ASX annual reports/2015 (1766 firms)/dub15.pdf\n",
            "/content/drive/MyDrive/ASX annual reports/2015 (1766 firms)/dws15.pdf\n",
            "/content/drive/MyDrive/ASX annual reports/2015 (1766 firms)/dye15.pdf\n",
            "/content/drive/MyDrive/ASX annual reports/2015 (1766 firms)/eol15.pdf\n",
            "/content/drive/MyDrive/ASX annual reports/2015 (1766 firms)/epd15.pdf\n",
            "/content/drive/MyDrive/ASX annual reports/2015 (1766 firms)/enz15.pdf\n",
            "/content/drive/MyDrive/ASX annual reports/2015 (1766 firms)/esv15.pdf\n",
            "/content/drive/MyDrive/ASX annual reports/2015 (1766 firms)/esk15.pdf\n",
            "/content/drive/MyDrive/ASX annual reports/2015 (1766 firms)/gbt15.pdf\n",
            "/content/drive/MyDrive/ASX annual reports/2015 (1766 firms)/gtk15.pdf\n",
            "/content/drive/MyDrive/ASX annual reports/2015 (1766 firms)/geg15.pdf\n",
            "/content/drive/MyDrive/ASX annual reports/2015 (1766 firms)/hsn15.pdf\n",
            "/content/drive/MyDrive/ASX annual reports/2015 (1766 firms)/hil15.pdf\n",
            "/content/drive/MyDrive/ASX annual reports/2015 (1766 firms)/iri15.pdf\n",
            "/content/drive/MyDrive/ASX annual reports/2015 (1766 firms)/ifm15.pdf\n",
            "/content/drive/MyDrive/ASX annual reports/2015 (1766 firms)/int15.pdf\n",
            "/content/drive/MyDrive/ASX annual reports/2015 (1766 firms)/isx15.pdf\n",
            "/content/drive/MyDrive/ASX annual reports/2015 (1766 firms)/kte15.pdf\n",
            "/content/drive/MyDrive/ASX annual reports/2015 (1766 firms)/jcs15.pdf\n",
            "/content/drive/MyDrive/ASX annual reports/2015 (1766 firms)/ire15.pdf\n",
            "/content/drive/MyDrive/ASX annual reports/2015 (1766 firms)/lvt15.pdf\n",
            "/content/drive/MyDrive/ASX annual reports/2015 (1766 firms)/kkl15.pdf\n",
            "/content/drive/MyDrive/ASX annual reports/2015 (1766 firms)/lmc15.pdf\n",
            "/content/drive/MyDrive/ASX annual reports/2015 (1766 firms)/mnw15.pdf\n",
            "/content/drive/MyDrive/ASX annual reports/2015 (1766 firms)/msp15.pdf\n",
            "/content/drive/MyDrive/ASX annual reports/2015 (1766 firms)/isd15.pdf\n",
            "/content/drive/MyDrive/ASX annual reports/2015 (1766 firms)/mkb15.pdf\n",
            "/content/drive/MyDrive/ASX annual reports/2015 (1766 firms)/mtl15.pdf\n",
            "/content/drive/MyDrive/ASX annual reports/2015 (1766 firms)/mbo15.pdf\n",
            "/content/drive/MyDrive/ASX annual reports/2015 (1766 firms)/moq15.pdf\n",
            "/content/drive/MyDrive/ASX annual reports/2015 (1766 firms)/mot15.pdf\n",
            "/content/drive/MyDrive/ASX annual reports/2015 (1766 firms)/mbe15.pdf\n",
            "/content/drive/MyDrive/ASX annual reports/2015 (1766 firms)/mov15.pdf\n",
            "/content/drive/MyDrive/ASX annual reports/2015 (1766 firms)/mlb15.pdf\n",
            "/content/drive/MyDrive/ASX annual reports/2015 (1766 firms)/myo15.pdf\n",
            "/content/drive/MyDrive/ASX annual reports/2015 (1766 firms)/nea15.pdf\n",
            "/content/drive/MyDrive/ASX annual reports/2015 (1766 firms)/ntc15.pdf\n",
            "/content/drive/MyDrive/ASX annual reports/2015 (1766 firms)/nwz15.pdf\n",
            "/content/drive/MyDrive/ASX annual reports/2015 (1766 firms)/nor15.pdf\n",
            "/content/drive/MyDrive/ASX annual reports/2015 (1766 firms)/nxt15.pdf\n",
            "/content/drive/MyDrive/ASX annual reports/2015 (1766 firms)/ocl15.pdf\n",
            "/content/drive/MyDrive/ASX annual reports/2015 (1766 firms)/omt15.pdf\n",
            "/content/drive/MyDrive/ASX annual reports/2015 (1766 firms)/onq15.pdf\n",
            "/content/drive/MyDrive/ASX annual reports/2015 (1766 firms)/oth15.pdf\n",
            "/content/drive/MyDrive/ASX annual reports/2015 (1766 firms)/psy15.pdf\n",
            "/content/drive/MyDrive/ASX annual reports/2015 (1766 firms)/pro15.pdf\n",
            "/content/drive/MyDrive/ASX annual reports/2015 (1766 firms)/qtg15.pdf\n",
            "/content/drive/MyDrive/ASX annual reports/2015 (1766 firms)/pps15.pdf\n",
            "/content/drive/MyDrive/ASX annual reports/2015 (1766 firms)/rkn15.pdf\n",
            "/content/drive/MyDrive/ASX annual reports/2015 (1766 firms)/rdf15.pdf\n",
            "/content/drive/MyDrive/ASX annual reports/2015 (1766 firms)/rfn15.pdf\n",
            "/content/drive/MyDrive/ASX annual reports/2015 (1766 firms)/rhp15.pdf\n",
            "/content/drive/MyDrive/ASX annual reports/2015 (1766 firms)/rfl15.pdf\n",
            "/content/drive/MyDrive/ASX annual reports/2015 (1766 firms)/rul15.pdf\n",
            "/content/drive/MyDrive/ASX annual reports/2015 (1766 firms)/rxp15.pdf\n",
            "/content/drive/MyDrive/ASX annual reports/2015 (1766 firms)/scd15.pdf\n",
            "/content/drive/MyDrive/ASX annual reports/2015 (1766 firms)/sen15.pdf\n",
            "/content/drive/MyDrive/ASX annual reports/2015 (1766 firms)/slx15.pdf\n",
            "/content/drive/MyDrive/ASX annual reports/2015 (1766 firms)/skf15.pdf\n",
            "/content/drive/MyDrive/ASX annual reports/2015 (1766 firms)/spz15.pdf\n",
            "/content/drive/MyDrive/ASX annual reports/2015 (1766 firms)/sma15.pdf\n",
            "/content/drive/MyDrive/ASX annual reports/2015 (1766 firms)/smx15.pdf\n",
            "/content/drive/MyDrive/ASX annual reports/2015 (1766 firms)/sfi15.pdf\n",
            "/content/drive/MyDrive/ASX annual reports/2015 (1766 firms)/sgo15.pdf\n",
            "/content/drive/MyDrive/ASX annual reports/2015 (1766 firms)/smn15.pdf\n",
            "/content/drive/MyDrive/ASX annual reports/2015 (1766 firms)/snr15.pdf\n",
            "/content/drive/MyDrive/ASX annual reports/2015 (1766 firms)/tne15.pdf\n",
            "/content/drive/MyDrive/ASX annual reports/2015 (1766 firms)/tch15.pdf\n",
            "/content/drive/MyDrive/ASX annual reports/2015 (1766 firms)/tsn15.pdf\n",
            "/content/drive/MyDrive/ASX annual reports/2015 (1766 firms)/tzl15.pdf\n",
            "/content/drive/MyDrive/ASX annual reports/2015 (1766 firms)/ubn15.pdf\n",
            "/content/drive/MyDrive/ASX annual reports/2015 (1766 firms)/uxc15.pdf\n",
            "/content/drive/MyDrive/ASX annual reports/2015 (1766 firms)/vig15.pdf\n",
            "/content/drive/MyDrive/ASX annual reports/2015 (1766 firms)/vcl15.pdf\n",
            "/content/drive/MyDrive/ASX annual reports/2015 (1766 firms)/vgl15.pdf\n",
            "/content/drive/MyDrive/ASX annual reports/2015 (1766 firms)/wse15.pdf\n",
            "/content/drive/MyDrive/ASX annual reports/2015 (1766 firms)/xro15.pdf\n",
            "/content/drive/MyDrive/ASX annual reports/2015 (1766 firms)/wsg15.pdf\n",
            "/content/drive/MyDrive/ASX annual reports/2015 (1766 firms)/ab115.pdf\n",
            "/content/drive/MyDrive/ASX annual reports/2015 (1766 firms)/apo15.pdf\n",
            "/content/drive/MyDrive/ASX annual reports/2015 (1766 firms)/asp15.pdf\n",
            "/content/drive/MyDrive/ASX annual reports/2015 (1766 firms)/aau15.pdf\n",
            "/content/drive/MyDrive/ASX annual reports/2015 (1766 firms)/abf15.pdf\n",
            "/content/drive/MyDrive/ASX annual reports/2015 (1766 firms)/dig15.pdf\n",
            "/content/drive/MyDrive/ASX annual reports/2015 (1766 firms)/byi15.pdf\n",
            "/content/drive/MyDrive/ASX annual reports/2015 (1766 firms)/bgl15.pdf\n",
            "/content/drive/MyDrive/ASX annual reports/2015 (1766 firms)/cnu15.pdf\n",
            "/content/drive/MyDrive/ASX annual reports/2015 (1766 firms)/car15.pdf\n",
            "/content/drive/MyDrive/ASX annual reports/2015 (1766 firms)/cm815.pdf\n",
            "/content/drive/MyDrive/ASX annual reports/2015 (1766 firms)/fxj15.pdf\n",
            "/content/drive/MyDrive/ASX annual reports/2015 (1766 firms)/bbl15.pdf\n",
            "/content/drive/MyDrive/ASX annual reports/2015 (1766 firms)/fre15.pdf\n",
            "/content/drive/MyDrive/ASX annual reports/2015 (1766 firms)/gcn15.pdf\n",
            "/content/drive/MyDrive/ASX annual reports/2015 (1766 firms)/hta15.pdf\n",
            "/content/drive/MyDrive/ASX annual reports/2015 (1766 firms)/icq15.pdf\n",
            "/content/drive/MyDrive/ASX annual reports/2015 (1766 firms)/egg15.pdf\n",
            "/content/drive/MyDrive/ASX annual reports/2015 (1766 firms)/ivo15.pdf\n",
            "/content/drive/MyDrive/ASX annual reports/2015 (1766 firms)/iab15.pdf\n",
            "/content/drive/MyDrive/ASX annual reports/2015 (1766 firms)/icu15.pdf\n",
            "/content/drive/MyDrive/ASX annual reports/2015 (1766 firms)/knm15.pdf\n",
            "/content/drive/MyDrive/ASX annual reports/2015 (1766 firms)/mrn15.pdf\n",
            "/content/drive/MyDrive/ASX annual reports/2015 (1766 firms)/laa15.pdf\n",
            "/content/drive/MyDrive/ASX annual reports/2015 (1766 firms)/mwr15.pdf\n",
            "/content/drive/MyDrive/ASX annual reports/2015 (1766 firms)/mtu15.pdf\n",
            "/content/drive/MyDrive/ASX annual reports/2015 (1766 firms)/mih15.pdf\n",
            "/content/drive/MyDrive/ASX annual reports/2015 (1766 firms)/mnf15.pdf\n",
            "/content/drive/MyDrive/ASX annual reports/2015 (1766 firms)/mig15.pdf\n",
            "/content/drive/MyDrive/ASX annual reports/2015 (1766 firms)/pnw15.pdf\n",
            "/content/drive/MyDrive/ASX annual reports/2015 (1766 firms)/maq15.pdf\n",
            "/content/drive/MyDrive/ASX annual reports/2015 (1766 firms)/oml15.pdf\n",
            "/content/drive/MyDrive/ASX annual reports/2015 (1766 firms)/prt15.pdf\n",
            "/content/drive/MyDrive/ASX annual reports/2015 (1766 firms)/nws15.pdf\n",
            "/content/drive/MyDrive/ASX annual reports/2015 (1766 firms)/nec15.pdf\n",
            "/content/drive/MyDrive/ASX annual reports/2015 (1766 firms)/rnt15.pdf\n",
            "/content/drive/MyDrive/ASX annual reports/2015 (1766 firms)/ref15.pdf\n",
            "/content/drive/MyDrive/ASX annual reports/2015 (1766 firms)/slm15.pdf\n",
            "/content/drive/MyDrive/ASX annual reports/2015 (1766 firms)/rea15.pdf\n",
            "/content/drive/MyDrive/ASX annual reports/2015 (1766 firms)/sek15.pdf\n",
            "/content/drive/MyDrive/ASX annual reports/2015 (1766 firms)/swm15.pdf\n",
            "/content/drive/MyDrive/ASX annual reports/2015 (1766 firms)/rxh15.pdf\n",
            "/content/drive/MyDrive/ASX annual reports/2015 (1766 firms)/tmp15.pdf\n",
            "/content/drive/MyDrive/ASX annual reports/2015 (1766 firms)/skt15.pdf\n",
            "/content/drive/MyDrive/ASX annual reports/2015 (1766 firms)/spk15.pdf\n",
            "/content/drive/MyDrive/ASX annual reports/2015 (1766 firms)/tpc15.pdf\n",
            "/content/drive/MyDrive/ASX annual reports/2015 (1766 firms)/sxl15.pdf\n",
            "/content/drive/MyDrive/ASX annual reports/2015 (1766 firms)/smp15.pdf\n",
            "/content/drive/MyDrive/ASX annual reports/2015 (1766 firms)/tls15.pdf\n",
            "/content/drive/MyDrive/ASX annual reports/2015 (1766 firms)/tpm15.pdf\n",
            "/content/drive/MyDrive/ASX annual reports/2015 (1766 firms)/ten15.pdf\n",
            "/content/drive/MyDrive/ASX annual reports/2015 (1766 firms)/voc15.pdf\n",
            "/content/drive/MyDrive/ASX annual reports/2015 (1766 firms)/vrl15.pdf\n",
            "/content/drive/MyDrive/ASX annual reports/2015 (1766 firms)/tom15.pdf\n",
            "/content/drive/MyDrive/ASX annual reports/2015 (1766 firms)/wns15.pdf\n",
            "/content/drive/MyDrive/ASX annual reports/2015 (1766 firms)/zip15.pdf\n",
            "/content/drive/MyDrive/ASX annual reports/2015 (1766 firms)/xtv15.pdf\n",
            "/content/drive/MyDrive/ASX annual reports/2015 (1766 firms)/xtd15.pdf\n",
            "/content/drive/MyDrive/ASX annual reports/2015 (1766 firms)/wrr15.pdf\n",
            "/content/drive/MyDrive/ASX annual reports/2015 (1766 firms)/tof15.pdf\n",
            "/content/drive/MyDrive/ASX annual reports/2015 (1766 firms)/tix15.pdf\n",
            "/content/drive/MyDrive/ASX annual reports/2015 (1766 firms)/agl15.pdf\n",
            "/content/drive/MyDrive/ASX annual reports/2015 (1766 firms)/abp15.pdf\n",
            "/content/drive/MyDrive/ASX annual reports/2015 (1766 firms)/apd15.pdf\n",
            "/content/drive/MyDrive/ASX annual reports/2015 (1766 firms)/apw15.pdf\n",
            "/content/drive/MyDrive/ASX annual reports/2015 (1766 firms)/apa15.pdf\n",
            "/content/drive/MyDrive/ASX annual reports/2015 (1766 firms)/ajd15.pdf\n",
            "/content/drive/MyDrive/ASX annual reports/2015 (1766 firms)/arf15.pdf\n",
            "/content/drive/MyDrive/ASX annual reports/2015 (1766 firms)/ast15.pdf\n",
            "/content/drive/MyDrive/ASX annual reports/2015 (1766 firms)/apz15.pdf\n",
            "/content/drive/MyDrive/ASX annual reports/2015 (1766 firms)/aog15.pdf\n",
            "/content/drive/MyDrive/ASX annual reports/2015 (1766 firms)/avj15.pdf\n",
            "/content/drive/MyDrive/ASX annual reports/2015 (1766 firms)/ani15.pdf\n",
            "/content/drive/MyDrive/ASX annual reports/2015 (1766 firms)/lep15.pdf\n",
            "/content/drive/MyDrive/ASX annual reports/2015 (1766 firms)/bpa15.pdf\n",
            "/content/drive/MyDrive/ASX annual reports/2015 (1766 firms)/caq15.pdf\n",
            "/content/drive/MyDrive/ASX annual reports/2015 (1766 firms)/cwp15.pdf\n",
            "/content/drive/MyDrive/ASX annual reports/2015 (1766 firms)/cdp15.pdf\n",
            "/content/drive/MyDrive/ASX annual reports/2015 (1766 firms)/cni15.pdf\n",
            "/content/drive/MyDrive/ASX annual reports/2015 (1766 firms)/chc15.pdf\n",
            "/content/drive/MyDrive/ASX annual reports/2015 (1766 firms)/cwe15.pdf\n",
            "/content/drive/MyDrive/ASX annual reports/2015 (1766 firms)/cqr15.pdf\n",
            "/content/drive/MyDrive/ASX annual reports/2015 (1766 firms)/cmw15.pdf\n",
            "/content/drive/MyDrive/ASX annual reports/2015 (1766 firms)/enb15.pdf\n",
            "/content/drive/MyDrive/ASX annual reports/2015 (1766 firms)/erj15.pdf\n",
            "/content/drive/MyDrive/ASX annual reports/2015 (1766 firms)/due15.pdf\n",
            "/content/drive/MyDrive/ASX annual reports/2015 (1766 firms)/evm15.pdf\n",
            "/content/drive/MyDrive/ASX annual reports/2015 (1766 firms)/epw15.pdf\n",
            "/content/drive/MyDrive/ASX annual reports/2015 (1766 firms)/epx15.pdf\n",
            "/content/drive/MyDrive/ASX annual reports/2015 (1766 firms)/dgh15.pdf\n",
            "/content/drive/MyDrive/ASX annual reports/2015 (1766 firms)/egh15.pdf\n",
            "/content/drive/MyDrive/ASX annual reports/2015 (1766 firms)/dxs15.pdf\n",
            "/content/drive/MyDrive/ASX annual reports/2015 (1766 firms)/fdc15.pdf\n",
            "/content/drive/MyDrive/ASX annual reports/2015 (1766 firms)/fet15.pdf\n",
            "/content/drive/MyDrive/ASX annual reports/2015 (1766 firms)/fri15.pdf\n",
            "/content/drive/MyDrive/ASX annual reports/2015 (1766 firms)/flk15.pdf\n",
            "/content/drive/MyDrive/ASX annual reports/2015 (1766 firms)/ghc15.pdf\n",
            "/content/drive/MyDrive/ASX annual reports/2015 (1766 firms)/gjt15.pdf\n",
            "/content/drive/MyDrive/ASX annual reports/2015 (1766 firms)/gne15.pdf\n",
            "/content/drive/MyDrive/ASX annual reports/2015 (1766 firms)/gmg15.pdf\n",
            "/content/drive/MyDrive/ASX annual reports/2015 (1766 firms)/gpt15.pdf\n",
            "/content/drive/MyDrive/ASX annual reports/2015 (1766 firms)/gmf15.pdf\n",
            "/content/drive/MyDrive/ASX annual reports/2015 (1766 firms)/hpi15.pdf\n",
            "/content/drive/MyDrive/ASX annual reports/2015 (1766 firms)/hgl15.pdf\n",
            "/content/drive/MyDrive/ASX annual reports/2015 (1766 firms)/idr15.pdf\n",
            "/content/drive/MyDrive/ASX annual reports/2015 (1766 firms)/ifn15.pdf\n",
            "/content/drive/MyDrive/ASX annual reports/2015 (1766 firms)/ifz15.pdf\n",
            "/content/drive/MyDrive/ASX annual reports/2015 (1766 firms)/ina15.pdf\n",
            "/content/drive/MyDrive/ASX annual reports/2015 (1766 firms)/iof15.pdf\n",
            "/content/drive/MyDrive/ASX annual reports/2015 (1766 firms)/ieq15.pdf\n",
            "/content/drive/MyDrive/ASX annual reports/2015 (1766 firms)/llc15.pdf\n",
            "/content/drive/MyDrive/ASX annual reports/2015 (1766 firms)/lic15.pdf\n",
            "/content/drive/MyDrive/ASX annual reports/2015 (1766 firms)/mtd15.pdf\n",
            "/content/drive/MyDrive/ASX annual reports/2015 (1766 firms)/lmw15.pdf\n",
            "/content/drive/MyDrive/ASX annual reports/2015 (1766 firms)/mgr15.pdf\n",
            "/content/drive/MyDrive/ASX annual reports/2015 (1766 firms)/myt15.pdf\n",
            "/content/drive/MyDrive/ASX annual reports/2015 (1766 firms)/mez15.pdf\n",
            "/content/drive/MyDrive/ASX annual reports/2015 (1766 firms)/pbd15.pdf\n",
            "/content/drive/MyDrive/ASX annual reports/2015 (1766 firms)/pea15.pdf\n",
            "/content/drive/MyDrive/ASX annual reports/2015 (1766 firms)/mue15.pdf\n",
            "/content/drive/MyDrive/ASX annual reports/2015 (1766 firms)/rpg15.pdf\n",
            "/content/drive/MyDrive/ASX annual reports/2015 (1766 firms)/qss15.pdf\n",
            "/content/drive/MyDrive/ASX annual reports/2015 (1766 firms)/rny15.pdf\n",
            "/content/drive/MyDrive/ASX annual reports/2015 (1766 firms)/rff15.pdf\n",
            "/content/drive/MyDrive/ASX annual reports/2015 (1766 firms)/phi15.pdf\n",
            "/content/drive/MyDrive/ASX annual reports/2015 (1766 firms)/scw15.pdf\n"
          ]
        }
      ]
    },
    {
      "cell_type": "code",
      "metadata": {
        "id": "_CkPkLl6B9G6"
      },
      "source": [
        "len(new_list3)"
      ],
      "execution_count": null,
      "outputs": []
    },
    {
      "cell_type": "markdown",
      "metadata": {
        "id": "ak0CDxsZ1PDs"
      },
      "source": [
        "### Step 3.4: List 4"
      ]
    },
    {
      "cell_type": "code",
      "metadata": {
        "id": "gsmaFqXl0hjN"
      },
      "source": [
        "new_list4={}\n",
        "\n",
        "for file in file_list[1000:1250]:  \n",
        "  print(file)\n",
        "    \n",
        "  if file.endswith(\".pdf\"):\n",
        "    try:\n",
        "      with pdfplumber.open(file) as pdf:\n",
        "        fulltext = \"\"\n",
        "        try:\n",
        "          for page in pdf.pages:\n",
        "            try:\n",
        "              text = page.extract_text()\n",
        "              fulltext += str(text)\n",
        "            except:\n",
        "              fulltext = \"\"\n",
        "              print(\"Blank\")\n",
        "            finally:\n",
        "              pass\n",
        "        except:\n",
        "          pass\n",
        "    except:\n",
        "      pass\n",
        "        \n",
        "        \n",
        "    new_list4[file]=(fulltext) "
      ],
      "execution_count": null,
      "outputs": []
    },
    {
      "cell_type": "code",
      "metadata": {
        "id": "Dvvzl3mC0Rgu"
      },
      "source": [
        "len(new_list4)"
      ],
      "execution_count": null,
      "outputs": []
    },
    {
      "cell_type": "markdown",
      "metadata": {
        "id": "B0o8NhBo1T83"
      },
      "source": [
        "### Step 3.5: List 5"
      ]
    },
    {
      "cell_type": "code",
      "metadata": {
        "id": "wptcyV5V0zFs"
      },
      "source": [
        "new_list5={}\n",
        "\n",
        "for file in file_list[1250:1500]:  \n",
        "  print(file)\n",
        "    \n",
        "  if file.endswith(\".pdf\"):\n",
        "    try:\n",
        "      with pdfplumber.open(file) as pdf:\n",
        "        fulltext = \"\"\n",
        "        try:\n",
        "          for page in pdf.pages:\n",
        "            try:\n",
        "              text = page.extract_text()\n",
        "              fulltext += str(text)\n",
        "            except:\n",
        "              fulltext = \"\"\n",
        "              print(\"Blank\")\n",
        "            finally:\n",
        "              pass\n",
        "        except:\n",
        "          pass\n",
        "    except:\n",
        "      pass\n",
        "        \n",
        "        \n",
        "    new_list5[file]=(fulltext) "
      ],
      "execution_count": null,
      "outputs": []
    },
    {
      "cell_type": "code",
      "metadata": {
        "id": "XYjhVILL05Ub"
      },
      "source": [
        "len(new_list5)"
      ],
      "execution_count": null,
      "outputs": []
    },
    {
      "cell_type": "markdown",
      "metadata": {
        "id": "UvjrT18m1W4E"
      },
      "source": [
        "### Step 3.6: List 6"
      ]
    },
    {
      "cell_type": "code",
      "metadata": {
        "id": "ANz-QKrW0_Uj"
      },
      "source": [
        "new_list6={}\n",
        "\n",
        "for file in file_list[1500:]:  \n",
        "  print(file)\n",
        "    \n",
        "  if file.endswith(\".pdf\"):\n",
        "    try:\n",
        "      with pdfplumber.open(file) as pdf:\n",
        "        fulltext = \"\"\n",
        "        try:\n",
        "          for page in pdf.pages:\n",
        "            try:\n",
        "              text = page.extract_text()\n",
        "              fulltext += str(text)\n",
        "            except:\n",
        "              fulltext = \"\"\n",
        "              print(\"Blank\")\n",
        "            finally:\n",
        "              pass\n",
        "        except:\n",
        "          pass\n",
        "    except:\n",
        "      pass\n",
        "        \n",
        "        \n",
        "    new_list6[file]=(fulltext) "
      ],
      "execution_count": null,
      "outputs": []
    },
    {
      "cell_type": "code",
      "metadata": {
        "id": "OcFla8Y81EZO"
      },
      "source": [
        "len(new_list6)"
      ],
      "execution_count": null,
      "outputs": []
    },
    {
      "cell_type": "markdown",
      "metadata": {
        "id": "lNsmRIQCCmGM"
      },
      "source": [
        "So far, all PDF files in the selected folder are extracted. "
      ]
    },
    {
      "cell_type": "markdown",
      "metadata": {
        "id": "Z138QCYECuJE"
      },
      "source": [
        "## Step 4: Save each generated list as a json file"
      ]
    },
    {
      "cell_type": "code",
      "metadata": {
        "id": "zM31ikmIckTa"
      },
      "source": [
        "import json"
      ],
      "execution_count": null,
      "outputs": []
    },
    {
      "cell_type": "markdown",
      "metadata": {
        "id": "1YOn1qLbC_a0"
      },
      "source": [
        "### Step 4.1: List 1\n",
        "\n",
        "##### Step 4.1.1: Create json files"
      ]
    },
    {
      "cell_type": "code",
      "metadata": {
        "id": "hPJKUQ8Ea9U6"
      },
      "source": [
        "json1 = json.dumps(new_list1)    # convert a Python object into a json string\n",
        "\n",
        "# open file for writing, \"w\" \n",
        "f = open(\"2015_1.json\",\"w\")      # create a new json file, called 2021_1\n",
        "\n",
        "# write json object to file\n",
        "f.write(json1)                   \n",
        "\n",
        "# close file\n",
        "f.close()\n"
      ],
      "execution_count": null,
      "outputs": []
    },
    {
      "cell_type": "markdown",
      "metadata": {
        "id": "8y1Zt_GaExyW"
      },
      "source": [
        "##### Step 4.1.2: Save & upload the created json files\n",
        "\n",
        "##### (1) right click to save the json file into my local machine\n",
        "\n",
        "##### (2) upload the json file to my Google Drive\n",
        "\n",
        "##### (3) open the json file in Python"
      ]
    },
    {
      "cell_type": "code",
      "metadata": {
        "id": "GhI4F7p_a-AT"
      },
      "source": [
        "#Open JSON file\n",
        "a1 = open('/content/drive/MyDrive/NEW dataset - MAJ/2015/2015_1.json', 'r')\n",
        "output1 = a1.read()\n",
        "\n",
        "#Convert JSON file to python dictionary\n",
        "final_list1 = json.loads(output1)\n",
        "final_list1"
      ],
      "execution_count": null,
      "outputs": []
    },
    {
      "cell_type": "code",
      "metadata": {
        "id": "gu_4tFtuhx1u"
      },
      "source": [
        "type(final_list1)"
      ],
      "execution_count": null,
      "outputs": []
    },
    {
      "cell_type": "markdown",
      "metadata": {
        "id": "VhQesR6VMD9F"
      },
      "source": [
        "### Step 4.2: List 2"
      ]
    },
    {
      "cell_type": "code",
      "metadata": {
        "id": "Hj4xme7LtTVa"
      },
      "source": [
        "json2 = json.dumps(new_list2)\n",
        "\n",
        "# open file for writing, \"w\" \n",
        "f = open(\"2015_2.json\",\"w\")\n",
        "\n",
        "# write json object to file\n",
        "f.write(json2)\n",
        "\n",
        "# close file\n",
        "f.close()"
      ],
      "execution_count": null,
      "outputs": []
    },
    {
      "cell_type": "code",
      "metadata": {
        "id": "FEpLsAjvtUg0"
      },
      "source": [
        "#Open JSON file\n",
        "a2 = open('/content/drive/MyDrive/NEW dataset - MAJ/2015/2015_2.json', 'r')\n",
        "output2 = a2.read()\n",
        "\n",
        "#Convert JSON file to python dictionary\n",
        "final_list2 = json.loads(output2)\n",
        "final_list2"
      ],
      "execution_count": null,
      "outputs": []
    },
    {
      "cell_type": "markdown",
      "metadata": {
        "id": "guOc46mLNEcl"
      },
      "source": [
        "### Step 4.3: List 3"
      ]
    },
    {
      "cell_type": "code",
      "metadata": {
        "id": "mjD349vjuLKG"
      },
      "source": [
        "json3 = json.dumps(new_list3)\n",
        "\n",
        "# open file for writing, \"w\" \n",
        "f = open(\"2015_3.json\",\"w\")\n",
        "\n",
        "# write json object to file\n",
        "f.write(json3)\n",
        "\n",
        "# close file\n",
        "f.close()"
      ],
      "execution_count": null,
      "outputs": []
    },
    {
      "cell_type": "code",
      "metadata": {
        "id": "SyZv4RUKuOXI"
      },
      "source": [
        "#Open JSON file\n",
        "a3 = open('/content/drive/MyDrive/NEW dataset - MAJ/2015/2015_3.json', 'r')\n",
        "output3 = a3.read()\n",
        "\n",
        "#Convert JSON file to python dictionary\n",
        "final_list3 = json.loads(output3)\n",
        "final_list3"
      ],
      "execution_count": null,
      "outputs": []
    },
    {
      "cell_type": "markdown",
      "metadata": {
        "id": "CiN4xAss2ZAa"
      },
      "source": [
        "### Step 4.4: List 4"
      ]
    },
    {
      "cell_type": "code",
      "metadata": {
        "id": "mypDBzhr2Qki"
      },
      "source": [
        "json4 = json.dumps(new_list4)\n",
        "\n",
        "# open file for writing, \"w\" \n",
        "f = open(\"2015_4.json\",\"w\")\n",
        "\n",
        "# write json object to file\n",
        "f.write(json4)\n",
        "\n",
        "# close file\n",
        "f.close()"
      ],
      "execution_count": null,
      "outputs": []
    },
    {
      "cell_type": "code",
      "metadata": {
        "id": "q236svwj2VHM"
      },
      "source": [
        "#Open JSON file\n",
        "a4 = open('/content/drive/MyDrive/NEW dataset - MAJ/2015/2015_4.json', 'r')\n",
        "output4 = a4.read()\n",
        "\n",
        "#Convert JSON file to python dictionary\n",
        "final_list4 = json.loads(output4)\n",
        "final_list4"
      ],
      "execution_count": null,
      "outputs": []
    },
    {
      "cell_type": "markdown",
      "metadata": {
        "id": "Ob4898rm2_3_"
      },
      "source": [
        "### Step 4.5: List 5"
      ]
    },
    {
      "cell_type": "code",
      "metadata": {
        "id": "JzXB21423FvV"
      },
      "source": [
        "json5 = json.dumps(new_list5)\n",
        "\n",
        "# open file for writing, \"w\" \n",
        "f = open(\"2015_5.json\",\"w\")\n",
        "\n",
        "# write json object to file\n",
        "f.write(json5)\n",
        "\n",
        "# close file\n",
        "f.close()"
      ],
      "execution_count": null,
      "outputs": []
    },
    {
      "cell_type": "code",
      "metadata": {
        "id": "Ng_nOO9E3QHJ"
      },
      "source": [
        "#Open JSON file\n",
        "a5 = open('/content/drive/MyDrive/NEW dataset - MAJ/2015/2015_5.json', 'r')\n",
        "output5 = a5.read()\n",
        "\n",
        "#Convert JSON file to python dictionary\n",
        "final_list5 = json.loads(output5)\n",
        "final_list5"
      ],
      "execution_count": null,
      "outputs": []
    },
    {
      "cell_type": "markdown",
      "metadata": {
        "id": "2GU-ElS13gXX"
      },
      "source": [
        "### Step 4.6: List 6"
      ]
    },
    {
      "cell_type": "code",
      "metadata": {
        "id": "yJAMn7Y73maV"
      },
      "source": [
        "json6 = json.dumps(new_list6)\n",
        "\n",
        "# open file for writing, \"w\" \n",
        "f = open(\"2015_6.json\",\"w\")\n",
        "\n",
        "# write json object to file\n",
        "f.write(json6)\n",
        "\n",
        "# close file\n",
        "f.close()"
      ],
      "execution_count": null,
      "outputs": []
    },
    {
      "cell_type": "code",
      "metadata": {
        "id": "iciF5Pnf3sQT"
      },
      "source": [
        "#Open JSON file\n",
        "a6 = open('/content/drive/MyDrive/NEW dataset - MAJ/2015/2015_6.json', 'r')\n",
        "output6 = a6.read()\n",
        "\n",
        "#Convert JSON file to python dictionary\n",
        "final_list6 = json.loads(output6)\n",
        "final_list6"
      ],
      "execution_count": null,
      "outputs": []
    },
    {
      "cell_type": "markdown",
      "metadata": {
        "id": "AIyIQ5-eOBkN"
      },
      "source": [
        "So far, all six json files are saved in Google Drive."
      ]
    },
    {
      "cell_type": "markdown",
      "metadata": {
        "id": "MmIQsoA1FzSN"
      },
      "source": [
        "## Step 5: Combine all six individual dictionaries"
      ]
    },
    {
      "cell_type": "code",
      "metadata": {
        "id": "LoRAv9s6uhUC"
      },
      "source": [
        "#Combine all dictionaries\n",
        "final_list = {**final_list1, **final_list2, **final_list3, **final_list4, **final_list5, **final_list6}   # number of dictionaries to be combined can be changed here"
      ],
      "execution_count": null,
      "outputs": []
    },
    {
      "cell_type": "code",
      "metadata": {
        "id": "Il2oO_VbumyA"
      },
      "source": [
        "json_final = json.dumps(final_list)\n",
        "\n",
        "# open file for writing, \"w\" \n",
        "f = open(\"2015_final.json\",\"w\")\n",
        "\n",
        "# write json object to file\n",
        "f.write(json_final)\n",
        "\n",
        "# close file\n",
        "f.close()"
      ],
      "execution_count": null,
      "outputs": []
    },
    {
      "cell_type": "code",
      "metadata": {
        "id": "TDGMyZEEusvO"
      },
      "source": [
        "#Open JSON file\n",
        "a = open('/content/drive/MyDrive/NEW dataset - MAJ/2015/2015_final.json', 'r')\n",
        "output = a.read()\n",
        "\n",
        "#Convert JSON file to python dictionary\n",
        "final_list = json.loads(output)\n",
        "final_list"
      ],
      "execution_count": null,
      "outputs": []
    },
    {
      "cell_type": "code",
      "metadata": {
        "id": "pYF6h2hadqds"
      },
      "source": [
        "len(final_list)"
      ],
      "execution_count": null,
      "outputs": []
    },
    {
      "cell_type": "markdown",
      "metadata": {
        "id": "9gH6_qLtHkzw"
      },
      "source": [
        "# All done!"
      ]
    },
    {
      "cell_type": "code",
      "metadata": {
        "id": "kvnCMOQGCWvS"
      },
      "source": [
        "pagen=[]\n",
        "for file in file_list:\n",
        "  # print(file)\n",
        "  n=(file.split('.pdf',0))\n",
        "  \n",
        "  \n",
        "  if file.endswith(\".pdf\"):\n",
        "    try:\n",
        "      with pdfplumber.open(file) as pdf:\n",
        "        pagen.append(len(pdf.pages))\n",
        "    except:\n",
        "        pagen.append('N/A')\n",
        "    finally:  \n",
        "      pass"
      ],
      "execution_count": null,
      "outputs": []
    },
    {
      "cell_type": "code",
      "metadata": {
        "id": "-bJUTa3rCh6r"
      },
      "source": [
        "#Readability + word count\n",
        "sc = []\n",
        "gf=[]\n",
        "kg=[]\n",
        "ke=[]\n",
        "dc=[]\n",
        "word_count=[]\n",
        "\n",
        "for k,v in final_list.items():\n",
        "  # print(k)\n",
        "  # print(len(v))\n",
        "  try:\n",
        "    sc.append(textstat.sentence_count(v))\n",
        "    gf.append(textstat.gunning_fog(v))\n",
        "    kg.append(textstat.flesch_kincaid_grade(v))\n",
        "    ke.append(textstat.flesch_reading_ease(v))\n",
        "    dc.append(textstat.dale_chall_readability_score(v))\n",
        "    word_count.append(textstat.lexicon_count(v, removepunct=True))\n",
        "    \n",
        "  except:\n",
        "    pass"
      ],
      "execution_count": null,
      "outputs": []
    },
    {
      "cell_type": "code",
      "metadata": {
        "id": "48zunr9JCmEe"
      },
      "source": [
        "asxcode=[]\n",
        "fyear=[]\n",
        "\n",
        "\n",
        "for file in file_list:\n",
        "  try:\n",
        "    n=(file.split('.pdf',0))\n",
        "    asxcode.append((file.rsplit('/content/drive/MyDrive/ASX annual reports/2004 (1359 firms)/')[1][0:3]).upper())\n",
        "    fyear.append((file.rsplit('/content/drive/MyDrive/ASX annual reports/2004 (1359 firms)/')[1][3:5]))\n",
        "    \n",
        "  except:\n",
        "    pass\n",
        "  "
      ],
      "execution_count": null,
      "outputs": []
    },
    {
      "cell_type": "code",
      "metadata": {
        "id": "8Gsj7y4hCmkT"
      },
      "source": [
        "from itertools import zip_longest\n",
        "data = [asxcode, fyear, sc, gf, kg, ke, dc, word_count, pagen]\n",
        "export_data = zip_longest(*data, fillvalue = '')\n",
        "with open('/content/drive/MyDrive/MAJ trial/NEW 2004 results.csv', 'w', encoding=\"ISO-8859-1\", newline='') as file:\n",
        "      write = csv.writer(file)\n",
        "      write.writerow(('asxcode', 'fyear', 'sc', 'gf', 'kg', 'ke', 'dc', 'word_count', 'pagen'))\n",
        "      write.writerows(export_data)"
      ],
      "execution_count": null,
      "outputs": []
    }
  ]
}