{
  "nbformat": 4,
  "nbformat_minor": 0,
  "metadata": {
    "colab": {
      "name": "ASX dataset - 2014",
      "provenance": [],
      "collapsed_sections": [],
      "include_colab_link": true
    },
    "kernelspec": {
      "display_name": "Python 3",
      "name": "python3"
    },
    "language_info": {
      "name": "python"
    }
  },
  "cells": [
    {
      "cell_type": "markdown",
      "metadata": {
        "id": "view-in-github",
        "colab_type": "text"
      },
      "source": [
        "<a href=\"https://colab.research.google.com/github/ChristoferAdrian/Annual-report-readability/blob/main/ASX_dataset_2014.ipynb\" target=\"_parent\"><img src=\"https://colab.research.google.com/assets/colab-badge.svg\" alt=\"Open In Colab\"/></a>"
      ]
    },
    {
      "cell_type": "markdown",
      "metadata": {
        "id": "TAaqfVP1Ke0r"
      },
      "source": [
        "# Codes to extract 2014 ASX annual reports\n",
        "\n",
        "##### Remember to change the file names & paths from Step 2 to Step 5, according the year"
      ]
    },
    {
      "cell_type": "markdown",
      "metadata": {
        "id": "e8OxPJ9j_Jal"
      },
      "source": [
        "## Step 1: Import all necessary modules"
      ]
    },
    {
      "cell_type": "code",
      "metadata": {
        "id": "izEVi1wasicJ",
        "colab": {
          "base_uri": "https://localhost:8080/"
        },
        "outputId": "fdfba691-1fc7-40eb-b6d5-96e236d3e3e3"
      },
      "source": [
        "!pip install textstat\n",
        "!pip install PyPDF2\n",
        "!pip install -U textblob\n",
        "!pip install pdfplumber\n",
        "import os\n",
        "import glob\n",
        "import textstat\n",
        "import csv\n",
        "import PyPDF2\n",
        "from textblob import TextBlob\n",
        "import pdfplumber   # read PDF files"
      ],
      "execution_count": null,
      "outputs": [
        {
          "output_type": "stream",
          "name": "stdout",
          "text": [
            "Collecting textstat\n",
            "  Downloading textstat-0.7.2-py3-none-any.whl (101 kB)\n",
            "\u001b[?25l\r\u001b[K     |███▏                            | 10 kB 25.6 MB/s eta 0:00:01\r\u001b[K     |██████▍                         | 20 kB 26.7 MB/s eta 0:00:01\r\u001b[K     |█████████▋                      | 30 kB 25.9 MB/s eta 0:00:01\r\u001b[K     |████████████▉                   | 40 kB 18.1 MB/s eta 0:00:01\r\u001b[K     |████████████████                | 51 kB 10.8 MB/s eta 0:00:01\r\u001b[K     |███████████████████▎            | 61 kB 9.5 MB/s eta 0:00:01\r\u001b[K     |██████████████████████▌         | 71 kB 10.2 MB/s eta 0:00:01\r\u001b[K     |█████████████████████████▊      | 81 kB 11.3 MB/s eta 0:00:01\r\u001b[K     |█████████████████████████████   | 92 kB 8.9 MB/s eta 0:00:01\r\u001b[K     |████████████████████████████████| 101 kB 5.7 MB/s \n",
            "\u001b[?25hCollecting pyphen\n",
            "  Downloading pyphen-0.11.0-py3-none-any.whl (2.0 MB)\n",
            "\u001b[K     |████████████████████████████████| 2.0 MB 54.3 MB/s \n",
            "\u001b[?25hInstalling collected packages: pyphen, textstat\n",
            "Successfully installed pyphen-0.11.0 textstat-0.7.2\n",
            "Collecting PyPDF2\n",
            "  Downloading PyPDF2-1.26.0.tar.gz (77 kB)\n",
            "\u001b[K     |████████████████████████████████| 77 kB 3.9 MB/s \n",
            "\u001b[?25hBuilding wheels for collected packages: PyPDF2\n",
            "  Building wheel for PyPDF2 (setup.py) ... \u001b[?25l\u001b[?25hdone\n",
            "  Created wheel for PyPDF2: filename=PyPDF2-1.26.0-py3-none-any.whl size=61101 sha256=e79233b10cb424a92aa0d8283c36a9e6e9d37fe1f52da98a75a77173114d227a\n",
            "  Stored in directory: /root/.cache/pip/wheels/80/1a/24/648467ade3a77ed20f35cfd2badd32134e96dd25ca811e64b3\n",
            "Successfully built PyPDF2\n",
            "Installing collected packages: PyPDF2\n",
            "Successfully installed PyPDF2-1.26.0\n",
            "Requirement already satisfied: textblob in /usr/local/lib/python3.7/dist-packages (0.15.3)\n",
            "Collecting textblob\n",
            "  Downloading textblob-0.17.1-py2.py3-none-any.whl (636 kB)\n",
            "\u001b[K     |████████████████████████████████| 636 kB 7.7 MB/s \n",
            "\u001b[?25hRequirement already satisfied: nltk>=3.1 in /usr/local/lib/python3.7/dist-packages (from textblob) (3.2.5)\n",
            "Requirement already satisfied: six in /usr/local/lib/python3.7/dist-packages (from nltk>=3.1->textblob) (1.15.0)\n",
            "Installing collected packages: textblob\n",
            "  Attempting uninstall: textblob\n",
            "    Found existing installation: textblob 0.15.3\n",
            "    Uninstalling textblob-0.15.3:\n",
            "      Successfully uninstalled textblob-0.15.3\n",
            "Successfully installed textblob-0.17.1\n",
            "Collecting pdfplumber\n",
            "  Downloading pdfplumber-0.5.28.tar.gz (45 kB)\n",
            "\u001b[K     |████████████████████████████████| 45 kB 3.0 MB/s \n",
            "\u001b[?25hCollecting pdfminer.six==20200517\n",
            "  Downloading pdfminer.six-20200517-py3-none-any.whl (5.6 MB)\n",
            "\u001b[K     |████████████████████████████████| 5.6 MB 5.6 MB/s \n",
            "\u001b[?25hRequirement already satisfied: Pillow>=7.0.0 in /usr/local/lib/python3.7/dist-packages (from pdfplumber) (7.1.2)\n",
            "Collecting Wand\n",
            "  Downloading Wand-0.6.7-py2.py3-none-any.whl (139 kB)\n",
            "\u001b[K     |████████████████████████████████| 139 kB 56.2 MB/s \n",
            "\u001b[?25hRequirement already satisfied: sortedcontainers in /usr/local/lib/python3.7/dist-packages (from pdfminer.six==20200517->pdfplumber) (2.4.0)\n",
            "Requirement already satisfied: chardet in /usr/local/lib/python3.7/dist-packages (from pdfminer.six==20200517->pdfplumber) (3.0.4)\n",
            "Collecting pycryptodome\n",
            "  Downloading pycryptodome-3.11.0-cp35-abi3-manylinux2010_x86_64.whl (1.9 MB)\n",
            "\u001b[K     |████████████████████████████████| 1.9 MB 29.7 MB/s \n",
            "\u001b[?25hBuilding wheels for collected packages: pdfplumber\n",
            "  Building wheel for pdfplumber (setup.py) ... \u001b[?25l\u001b[?25hdone\n",
            "  Created wheel for pdfplumber: filename=pdfplumber-0.5.28-py3-none-any.whl size=32240 sha256=4b453dc6af3519b4f4cbee2394a6dcae6ffc7040b6732dff4f9ef14d38933c47\n",
            "  Stored in directory: /root/.cache/pip/wheels/f2/b1/a0/c0a77b756d580f53b3806ae0e0b3ec945a8d05fca1d6e10cc1\n",
            "Successfully built pdfplumber\n",
            "Installing collected packages: pycryptodome, Wand, pdfminer.six, pdfplumber\n",
            "Successfully installed Wand-0.6.7 pdfminer.six-20200517 pdfplumber-0.5.28 pycryptodome-3.11.0\n"
          ]
        }
      ]
    },
    {
      "cell_type": "markdown",
      "metadata": {
        "id": "SeSEa0jh_tWK"
      },
      "source": [
        "## Step 2: Connect to my Google Drive"
      ]
    },
    {
      "cell_type": "code",
      "metadata": {
        "id": "q1mRC6_qsofR",
        "colab": {
          "base_uri": "https://localhost:8080/"
        },
        "outputId": "85ececce-b967-44f0-a4fa-7f0762c6ae4c"
      },
      "source": [
        "from google.colab import drive\n",
        "drive.mount('/content/drive')"
      ],
      "execution_count": null,
      "outputs": [
        {
          "output_type": "stream",
          "name": "stdout",
          "text": [
            "Mounted at /content/drive\n"
          ]
        }
      ]
    },
    {
      "cell_type": "markdown",
      "metadata": {
        "id": "dIq-YKSC_920"
      },
      "source": [
        "Change to the path of the selected folder here"
      ]
    },
    {
      "cell_type": "code",
      "metadata": {
        "id": "ua612vczs8BJ"
      },
      "source": [
        "TARGET_FILES = r'/content/drive/MyDrive/ASX annual reports/2014 (1655 firms)/*.pdf'\n",
        "file_list = glob.glob(TARGET_FILES)"
      ],
      "execution_count": null,
      "outputs": []
    },
    {
      "cell_type": "code",
      "metadata": {
        "id": "7muXRbOun9U7",
        "colab": {
          "base_uri": "https://localhost:8080/"
        },
        "outputId": "0a76fbf0-35bd-4649-ffb7-634bb4fd1ae0"
      },
      "source": [
        "print(file_list)"
      ],
      "execution_count": null,
      "outputs": [
        {
          "output_type": "stream",
          "name": "stdout",
          "text": [
            "['/content/drive/MyDrive/ASX annual reports/2014 (1655 firms)/pgm14.pdf', '/content/drive/MyDrive/ASX annual reports/2014 (1655 firms)/pls14.pdf', '/content/drive/MyDrive/ASX annual reports/2014 (1655 firms)/prh14.pdf', '/content/drive/MyDrive/ASX annual reports/2014 (1655 firms)/pok14.pdf', '/content/drive/MyDrive/ASX annual reports/2014 (1655 firms)/pos14.pdf', '/content/drive/MyDrive/ASX annual reports/2014 (1655 firms)/pww14.pdf', '/content/drive/MyDrive/ASX annual reports/2014 (1655 firms)/pwn14.pdf', '/content/drive/MyDrive/ASX annual reports/2014 (1655 firms)/pmr14.pdf', '/content/drive/MyDrive/ASX annual reports/2014 (1655 firms)/pdz14.pdf', '/content/drive/MyDrive/ASX annual reports/2014 (1655 firms)/prr14.pdf', '/content/drive/MyDrive/ASX annual reports/2014 (1655 firms)/pim14.pdf', '/content/drive/MyDrive/ASX annual reports/2014 (1655 firms)/pdi14.pdf', '/content/drive/MyDrive/ASX annual reports/2014 (1655 firms)/ppg14.pdf', '/content/drive/MyDrive/ASX annual reports/2014 (1655 firms)/psc14.pdf', '/content/drive/MyDrive/ASX annual reports/2014 (1655 firms)/pgo14.pdf', '/content/drive/MyDrive/ASX annual reports/2014 (1655 firms)/qnl14.pdf', '/content/drive/MyDrive/ASX annual reports/2014 (1655 firms)/pra14.pdf', '/content/drive/MyDrive/ASX annual reports/2014 (1655 firms)/psp14.pdf', '/content/drive/MyDrive/ASX annual reports/2014 (1655 firms)/qur14.pdf', '/content/drive/MyDrive/ASX annual reports/2014 (1655 firms)/rad14.pdf', '/content/drive/MyDrive/ASX annual reports/2014 (1655 firms)/qrl14.pdf', '/content/drive/MyDrive/ASX annual reports/2014 (1655 firms)/rau14.pdf', '/content/drive/MyDrive/ASX annual reports/2014 (1655 firms)/rmr14.pdf', '/content/drive/MyDrive/ASX annual reports/2014 (1655 firms)/rrp14.pdf', '/content/drive/MyDrive/ASX annual reports/2014 (1655 firms)/rnd14.pdf', '/content/drive/MyDrive/ASX annual reports/2014 (1655 firms)/qmn14.pdf', '/content/drive/MyDrive/ASX annual reports/2014 (1655 firms)/red14.pdf', '/content/drive/MyDrive/ASX annual reports/2014 (1655 firms)/rgx14.pdf', '/content/drive/MyDrive/ASX annual reports/2014 (1655 firms)/rvr14.pdf', '/content/drive/MyDrive/ASX annual reports/2014 (1655 firms)/rcp14.pdf', '/content/drive/MyDrive/ASX annual reports/2014 (1655 firms)/rhi14.pdf', '/content/drive/MyDrive/ASX annual reports/2014 (1655 firms)/rcf14.pdf', '/content/drive/MyDrive/ASX annual reports/2014 (1655 firms)/rmx14.pdf', '/content/drive/MyDrive/ASX annual reports/2014 (1655 firms)/rdm14.pdf', '/content/drive/MyDrive/ASX annual reports/2014 (1655 firms)/rdr14.pdf', '/content/drive/MyDrive/ASX annual reports/2014 (1655 firms)/rms14.pdf', '/content/drive/MyDrive/ASX annual reports/2014 (1655 firms)/rlc14.pdf', '/content/drive/MyDrive/ASX annual reports/2014 (1655 firms)/rer14.pdf', '/content/drive/MyDrive/ASX annual reports/2014 (1655 firms)/rns14.pdf', '/content/drive/MyDrive/ASX annual reports/2014 (1655 firms)/rrl14.pdf', '/content/drive/MyDrive/ASX annual reports/2014 (1655 firms)/rds14.pdf', '/content/drive/MyDrive/ASX annual reports/2014 (1655 firms)/rbx14.pdf', '/content/drive/MyDrive/ASX annual reports/2014 (1655 firms)/rmi14.pdf', '/content/drive/MyDrive/ASX annual reports/2014 (1655 firms)/rez14.pdf', '/content/drive/MyDrive/ASX annual reports/2014 (1655 firms)/rwd14.pdf', '/content/drive/MyDrive/ASX annual reports/2014 (1655 firms)/rie14.pdf', '/content/drive/MyDrive/ASX annual reports/2014 (1655 firms)/rsg14.pdf', '/content/drive/MyDrive/ASX annual reports/2014 (1655 firms)/rvy14.pdf', '/content/drive/MyDrive/ASX annual reports/2014 (1655 firms)/rmt14.pdf', '/content/drive/MyDrive/ASX annual reports/2014 (1655 firms)/rio14.pdf', '/content/drive/MyDrive/ASX annual reports/2014 (1655 firms)/rni14.pdf', '/content/drive/MyDrive/ASX annual reports/2014 (1655 firms)/rxm14.pdf', '/content/drive/MyDrive/ASX annual reports/2014 (1655 firms)/rim14.pdf', '/content/drive/MyDrive/ASX annual reports/2014 (1655 firms)/rol14.pdf', '/content/drive/MyDrive/ASX annual reports/2014 (1655 firms)/rco14.pdf', '/content/drive/MyDrive/ASX annual reports/2014 (1655 firms)/rmg14.pdf', '/content/drive/MyDrive/ASX annual reports/2014 (1655 firms)/rre14.pdf', '/content/drive/MyDrive/ASX annual reports/2014 (1655 firms)/roy14.pdf', '/content/drive/MyDrive/ASX annual reports/2014 (1655 firms)/rtr14.pdf', '/content/drive/MyDrive/ASX annual reports/2014 (1655 firms)/rxl14.pdf', '/content/drive/MyDrive/ASX annual reports/2014 (1655 firms)/rbr14.pdf', '/content/drive/MyDrive/ASX annual reports/2014 (1655 firms)/sbr14.pdf', '/content/drive/MyDrive/ASX annual reports/2014 (1655 firms)/rtg14.pdf', '/content/drive/MyDrive/ASX annual reports/2014 (1655 firms)/sya14.pdf', '/content/drive/MyDrive/ASX annual reports/2014 (1655 firms)/sgz14.pdf', '/content/drive/MyDrive/ASX annual reports/2014 (1655 firms)/smi14.pdf', '/content/drive/MyDrive/ASX annual reports/2014 (1655 firms)/sfr14.pdf', '/content/drive/MyDrive/ASX annual reports/2014 (1655 firms)/rta14.pdf', '/content/drive/MyDrive/ASX annual reports/2014 (1655 firms)/shh14.pdf', '/content/drive/MyDrive/ASX annual reports/2014 (1655 firms)/seg14.pdf', '/content/drive/MyDrive/ASX annual reports/2014 (1655 firms)/sar14.pdf', '/content/drive/MyDrive/ASX annual reports/2014 (1655 firms)/srr14.pdf', '/content/drive/MyDrive/ASX annual reports/2014 (1655 firms)/sbu14.pdf', '/content/drive/MyDrive/ASX annual reports/2014 (1655 firms)/sfx14.pdf', '/content/drive/MyDrive/ASX annual reports/2014 (1655 firms)/sbl14.pdf', '/content/drive/MyDrive/ASX annual reports/2014 (1655 firms)/sih14.pdf', '/content/drive/MyDrive/ASX annual reports/2014 (1655 firms)/svl14.pdf', '/content/drive/MyDrive/ASX annual reports/2014 (1655 firms)/snv14.pdf', '/content/drive/MyDrive/ASX annual reports/2014 (1655 firms)/sci14.pdf', '/content/drive/MyDrive/ASX annual reports/2014 (1655 firms)/sgm14.pdf', '/content/drive/MyDrive/ASX annual reports/2014 (1655 firms)/sri14.pdf', '/content/drive/MyDrive/ASX annual reports/2014 (1655 firms)/smd14.pdf', '/content/drive/MyDrive/ASX annual reports/2014 (1655 firms)/say14.pdf', '/content/drive/MyDrive/ASX annual reports/2014 (1655 firms)/slr14.pdf', '/content/drive/MyDrive/ASX annual reports/2014 (1655 firms)/sop14.pdf', '/content/drive/MyDrive/ASX annual reports/2014 (1655 firms)/sir14.pdf', '/content/drive/MyDrive/ASX annual reports/2014 (1655 firms)/stb14.pdf', '/content/drive/MyDrive/ASX annual reports/2014 (1655 firms)/sxx14.pdf', '/content/drive/MyDrive/ASX annual reports/2014 (1655 firms)/sxi14.pdf', '/content/drive/MyDrive/ASX annual reports/2014 (1655 firms)/sfz14.pdf', '/content/drive/MyDrive/ASX annual reports/2014 (1655 firms)/swr14.pdf', '/content/drive/MyDrive/ASX annual reports/2014 (1655 firms)/sxg14.pdf', '/content/drive/MyDrive/ASX annual reports/2014 (1655 firms)/svm14.pdf', '/content/drive/MyDrive/ASX annual reports/2014 (1655 firms)/soc14.pdf', '/content/drive/MyDrive/ASX annual reports/2014 (1655 firms)/sau14.pdf', '/content/drive/MyDrive/ASX annual reports/2014 (1655 firms)/sph14.pdf', '/content/drive/MyDrive/ASX annual reports/2014 (1655 firms)/spi14.pdf', '/content/drive/MyDrive/ASX annual reports/2014 (1655 firms)/sbm14.pdf', '/content/drive/MyDrive/ASX annual reports/2014 (1655 firms)/srz14.pdf', '/content/drive/MyDrive/ASX annual reports/2014 (1655 firms)/shk14.pdf', '/content/drive/MyDrive/ASX annual reports/2014 (1655 firms)/spx14.pdf', '/content/drive/MyDrive/ASX annual reports/2014 (1655 firms)/swj14.pdf', '/content/drive/MyDrive/ASX annual reports/2014 (1655 firms)/suh14.pdf', '/content/drive/MyDrive/ASX annual reports/2014 (1655 firms)/sgq14.pdf', '/content/drive/MyDrive/ASX annual reports/2014 (1655 firms)/ser14.pdf', '/content/drive/MyDrive/ASX annual reports/2014 (1655 firms)/sat14.pdf', '/content/drive/MyDrive/ASX annual reports/2014 (1655 firms)/sxt14.pdf', '/content/drive/MyDrive/ASX annual reports/2014 (1655 firms)/srk14.pdf', '/content/drive/MyDrive/ASX annual reports/2014 (1655 firms)/sum14.pdf', '/content/drive/MyDrive/ASX annual reports/2014 (1655 firms)/srq14.pdf', '/content/drive/MyDrive/ASX annual reports/2014 (1655 firms)/sdl14.pdf', '/content/drive/MyDrive/ASX annual reports/2014 (1655 firms)/swa14.pdf', '/content/drive/MyDrive/ASX annual reports/2014 (1655 firms)/smc14.pdf', '/content/drive/MyDrive/ASX annual reports/2014 (1655 firms)/syr14.pdf', '/content/drive/MyDrive/ASX annual reports/2014 (1655 firms)/swk14.pdf', '/content/drive/MyDrive/ASX annual reports/2014 (1655 firms)/spq14.pdf', '/content/drive/MyDrive/ASX annual reports/2014 (1655 firms)/tlg14.pdf', '/content/drive/MyDrive/ASX annual reports/2014 (1655 firms)/tam14.pdf', '/content/drive/MyDrive/ASX annual reports/2014 (1655 firms)/tas14.pdf', '/content/drive/MyDrive/ASX annual reports/2014 (1655 firms)/tmm14.pdf', '/content/drive/MyDrive/ASX annual reports/2014 (1655 firms)/tlm14.pdf', '/content/drive/MyDrive/ASX annual reports/2014 (1655 firms)/tar14.pdf', '/content/drive/MyDrive/ASX annual reports/2014 (1655 firms)/tgz14.pdf', '/content/drive/MyDrive/ASX annual reports/2014 (1655 firms)/tmx14.pdf', '/content/drive/MyDrive/ASX annual reports/2014 (1655 firms)/tzn14.pdf', '/content/drive/MyDrive/ASX annual reports/2014 (1655 firms)/tlu14.pdf', '/content/drive/MyDrive/ASX annual reports/2014 (1655 firms)/tfc14.pdf', '/content/drive/MyDrive/ASX annual reports/2014 (1655 firms)/taw14.pdf', '/content/drive/MyDrive/ASX annual reports/2014 (1655 firms)/thx14.pdf', '/content/drive/MyDrive/ASX annual reports/2014 (1655 firms)/tmz14.pdf', '/content/drive/MyDrive/ASX annual reports/2014 (1655 firms)/tpr14.pdf', '/content/drive/MyDrive/ASX annual reports/2014 (1655 firms)/tgs14.pdf', '/content/drive/MyDrive/ASX annual reports/2014 (1655 firms)/tig14.pdf', '/content/drive/MyDrive/ASX annual reports/2014 (1655 firms)/tnd14.pdf', '/content/drive/MyDrive/ASX annual reports/2014 (1655 firms)/tng14.pdf', '/content/drive/MyDrive/ASX annual reports/2014 (1655 firms)/tnr14.pdf', '/content/drive/MyDrive/ASX annual reports/2014 (1655 firms)/tkl14.pdf', '/content/drive/MyDrive/ASX annual reports/2014 (1655 firms)/tri14.pdf', '/content/drive/MyDrive/ASX annual reports/2014 (1655 firms)/ton14.pdf', '/content/drive/MyDrive/ASX annual reports/2014 (1655 firms)/tbr14.pdf', '/content/drive/MyDrive/ASX annual reports/2014 (1655 firms)/trf14.pdf', '/content/drive/MyDrive/ASX annual reports/2014 (1655 firms)/try14.pdf', '/content/drive/MyDrive/ASX annual reports/2014 (1655 firms)/trm14.pdf', '/content/drive/MyDrive/ASX annual reports/2014 (1655 firms)/tgn14.pdf', '/content/drive/MyDrive/ASX annual reports/2014 (1655 firms)/uml14.pdf', '/content/drive/MyDrive/ASX annual reports/2014 (1655 firms)/unx14.pdf', '/content/drive/MyDrive/ASX annual reports/2014 (1655 firms)/vec14.pdf', '/content/drive/MyDrive/ASX annual reports/2014 (1655 firms)/var14.pdf', '/content/drive/MyDrive/ASX annual reports/2014 (1655 firms)/vrx14.pdf', '/content/drive/MyDrive/ASX annual reports/2014 (1655 firms)/vms14.pdf', '/content/drive/MyDrive/ASX annual reports/2014 (1655 firms)/vmc14.pdf', '/content/drive/MyDrive/ASX annual reports/2014 (1655 firms)/vic14.pdf', '/content/drive/MyDrive/ASX annual reports/2014 (1655 firms)/vii14.pdf', '/content/drive/MyDrive/ASX annual reports/2014 (1655 firms)/vka14.pdf', '/content/drive/MyDrive/ASX annual reports/2014 (1655 firms)/vml14.pdf', '/content/drive/MyDrive/ASX annual reports/2014 (1655 firms)/vtm14.pdf', '/content/drive/MyDrive/ASX annual reports/2014 (1655 firms)/vor14.pdf', '/content/drive/MyDrive/ASX annual reports/2014 (1655 firms)/wkt14.pdf', '/content/drive/MyDrive/ASX annual reports/2014 (1655 firms)/wgo14.pdf', '/content/drive/MyDrive/ASX annual reports/2014 (1655 firms)/wcp14.pdf', '/content/drive/MyDrive/ASX annual reports/2014 (1655 firms)/waf14.pdf', '/content/drive/MyDrive/ASX annual reports/2014 (1655 firms)/wpi14.pdf', '/content/drive/MyDrive/ASX annual reports/2014 (1655 firms)/wwi14.pdf', '/content/drive/MyDrive/ASX annual reports/2014 (1655 firms)/wsa14.pdf', '/content/drive/MyDrive/ASX annual reports/2014 (1655 firms)/wmn14.pdf', '/content/drive/MyDrive/ASX annual reports/2014 (1655 firms)/weg14.pdf', '/content/drive/MyDrive/ASX annual reports/2014 (1655 firms)/wrm14.pdf', '/content/drive/MyDrive/ASX annual reports/2014 (1655 firms)/wvl14.pdf', '/content/drive/MyDrive/ASX annual reports/2014 (1655 firms)/win14.pdf', '/content/drive/MyDrive/ASX annual reports/2014 (1655 firms)/wfe14.pdf', '/content/drive/MyDrive/ASX annual reports/2014 (1655 firms)/wlf14.pdf', '/content/drive/MyDrive/ASX annual reports/2014 (1655 firms)/wlr14.pdf', '/content/drive/MyDrive/ASX annual reports/2014 (1655 firms)/wlc14.pdf', '/content/drive/MyDrive/ASX annual reports/2014 (1655 firms)/wtr14.pdf', '/content/drive/MyDrive/ASX annual reports/2014 (1655 firms)/wpg14.pdf', '/content/drive/MyDrive/ASX annual reports/2014 (1655 firms)/xam14.pdf', '/content/drive/MyDrive/ASX annual reports/2014 (1655 firms)/zam14.pdf', '/content/drive/MyDrive/ASX annual reports/2014 (1655 firms)/yrr14.pdf', '/content/drive/MyDrive/ASX annual reports/2014 (1655 firms)/zrl14.pdf', '/content/drive/MyDrive/ASX annual reports/2014 (1655 firms)/zgm14.pdf', '/content/drive/MyDrive/ASX annual reports/2014 (1655 firms)/znc14.pdf', '/content/drive/MyDrive/ASX annual reports/2014 (1655 firms)/zim14.pdf', '/content/drive/MyDrive/ASX annual reports/2014 (1655 firms)/zyl14.pdf', '/content/drive/MyDrive/ASX annual reports/2014 (1655 firms)/cay14.pdf', '/content/drive/MyDrive/ASX annual reports/2014 (1655 firms)/cla14.pdf', '/content/drive/MyDrive/ASX annual reports/2014 (1655 firms)/ctm14.pdf', '/content/drive/MyDrive/ASX annual reports/2014 (1655 firms)/cwg14.pdf', '/content/drive/MyDrive/ASX annual reports/2014 (1655 firms)/cvs14.pdf', '/content/drive/MyDrive/ASX annual reports/2014 (1655 firms)/cxm14.pdf', '/content/drive/MyDrive/ASX annual reports/2014 (1655 firms)/chn14.pdf', '/content/drive/MyDrive/ASX annual reports/2014 (1655 firms)/chz14.pdf', '/content/drive/MyDrive/ASX annual reports/2014 (1655 firms)/cia14.pdf', '/content/drive/MyDrive/ASX annual reports/2014 (1655 firms)/cmc14.pdf', '/content/drive/MyDrive/ASX annual reports/2014 (1655 firms)/cyu14.pdf', '/content/drive/MyDrive/ASX annual reports/2014 (1655 firms)/elt14.pdf', '/content/drive/MyDrive/ASX annual reports/2014 (1655 firms)/elr14.pdf', '/content/drive/MyDrive/ASX annual reports/2014 (1655 firms)/erm14.pdf', '/content/drive/MyDrive/ASX annual reports/2014 (1655 firms)/eym14.pdf', '/content/drive/MyDrive/ASX annual reports/2014 (1655 firms)/emg14.pdf', '/content/drive/MyDrive/ASX annual reports/2014 (1655 firms)/erl14.pdf', '/content/drive/MyDrive/ASX annual reports/2014 (1655 firms)/emu14.pdf', '/content/drive/MyDrive/ASX annual reports/2014 (1655 firms)/ent14.pdf', '/content/drive/MyDrive/ASX annual reports/2014 (1655 firms)/equ14.pdf', '/content/drive/MyDrive/ASX annual reports/2014 (1655 firms)/eqe14.pdf', '/content/drive/MyDrive/ASX annual reports/2014 (1655 firms)/eri14.pdf', '/content/drive/MyDrive/ASX annual reports/2014 (1655 firms)/esm14.pdf', '/content/drive/MyDrive/ASX annual reports/2014 (1655 firms)/eug14.pdf', '/content/drive/MyDrive/ASX annual reports/2014 (1655 firms)/eum14.pdf', '/content/drive/MyDrive/ASX annual reports/2014 (1655 firms)/exu14.pdf', '/content/drive/MyDrive/ASX annual reports/2014 (1655 firms)/exc14.pdf', '/content/drive/MyDrive/ASX annual reports/2014 (1655 firms)/fnd14.pdf', '/content/drive/MyDrive/ASX annual reports/2014 (1655 firms)/fie14.pdf', '/content/drive/MyDrive/ASX annual reports/2014 (1655 firms)/ftz14.pdf', '/content/drive/MyDrive/ASX annual reports/2014 (1655 firms)/fry14.pdf', '/content/drive/MyDrive/ASX annual reports/2014 (1655 firms)/fbu14.pdf', '/content/drive/MyDrive/ASX annual reports/2014 (1655 firms)/fxl14.pdf', '/content/drive/MyDrive/ASX annual reports/2014 (1655 firms)/fms14.pdf', '/content/drive/MyDrive/ASX annual reports/2014 (1655 firms)/fml14.pdf', '/content/drive/MyDrive/ASX annual reports/2014 (1655 firms)/frc14.pdf', '/content/drive/MyDrive/ASX annual reports/2014 (1655 firms)/fmg14.pdf', '/content/drive/MyDrive/ASX annual reports/2014 (1655 firms)/fot14.pdf', '/content/drive/MyDrive/ASX annual reports/2014 (1655 firms)/fxr14.pdf', '/content/drive/MyDrive/ASX annual reports/2014 (1655 firms)/foy14.pdf', '/content/drive/MyDrive/ASX annual reports/2014 (1655 firms)/frn14.pdf', '/content/drive/MyDrive/ASX annual reports/2014 (1655 firms)/fnt14.pdf', '/content/drive/MyDrive/ASX annual reports/2014 (1655 firms)/fyi14.pdf', '/content/drive/MyDrive/ASX annual reports/2014 (1655 firms)/gxy14.pdf', '/content/drive/MyDrive/ASX annual reports/2014 (1655 firms)/gcy14.pdf', '/content/drive/MyDrive/ASX annual reports/2014 (1655 firms)/gml14.pdf', '/content/drive/MyDrive/ASX annual reports/2014 (1655 firms)/gbm14.pdf', '/content/drive/MyDrive/ASX annual reports/2014 (1655 firms)/gbz14.pdf', '/content/drive/MyDrive/ASX annual reports/2014 (1655 firms)/gmm14.pdf', '/content/drive/MyDrive/ASX annual reports/2014 (1655 firms)/gmd14.pdf', '/content/drive/MyDrive/ASX annual reports/2014 (1655 firms)/ges14.pdf', '/content/drive/MyDrive/ASX annual reports/2014 (1655 firms)/gip14.pdf', '/content/drive/MyDrive/ASX annual reports/2014 (1655 firms)/gln14.pdf', '/content/drive/MyDrive/ASX annual reports/2014 (1655 firms)/gla14.pdf', '/content/drive/MyDrive/ASX annual reports/2014 (1655 firms)/gsc14.pdf', '/content/drive/MyDrive/ASX annual reports/2014 (1655 firms)/gxn14.pdf', '/content/drive/MyDrive/ASX annual reports/2014 (1655 firms)/grm14.pdf', '/content/drive/MyDrive/ASX annual reports/2014 (1655 firms)/gbe14.pdf', '/content/drive/MyDrive/ASX annual reports/2014 (1655 firms)/gor14.pdf', '/content/drive/MyDrive/ASX annual reports/2014 (1655 firms)/gme14.pdf', '/content/drive/MyDrive/ASX annual reports/2014 (1655 firms)/gcr14.pdf', '/content/drive/MyDrive/ASX annual reports/2014 (1655 firms)/ged14.pdf', '/content/drive/MyDrive/ASX annual reports/2014 (1655 firms)/gmr14.pdf', '/content/drive/MyDrive/ASX annual reports/2014 (1655 firms)/gmx14.pdf', '/content/drive/MyDrive/ASX annual reports/2014 (1655 firms)/gph14.pdf', '/content/drive/MyDrive/ASX annual reports/2014 (1655 firms)/gse14.pdf', '/content/drive/MyDrive/ASX annual reports/2014 (1655 firms)/gda14.pdf', '/content/drive/MyDrive/ASX annual reports/2014 (1655 firms)/gng14.pdf', '/content/drive/MyDrive/ASX annual reports/2014 (1655 firms)/gte14.pdf', '/content/drive/MyDrive/ASX annual reports/2014 (1655 firms)/grr14.pdf', '/content/drive/MyDrive/ASX annual reports/2014 (1655 firms)/ggg14.pdf', '/content/drive/MyDrive/ASX annual reports/2014 (1655 firms)/hsk14.pdf', '/content/drive/MyDrive/ASX annual reports/2014 (1655 firms)/haw14.pdf', '/content/drive/MyDrive/ASX annual reports/2014 (1655 firms)/haz14.pdf', '/content/drive/MyDrive/ASX annual reports/2014 (1655 firms)/heg14.pdf', '/content/drive/MyDrive/ASX annual reports/2014 (1655 firms)/ilu14.pdf', '/content/drive/MyDrive/ASX annual reports/2014 (1655 firms)/ima14.pdf', '/content/drive/MyDrive/ASX annual reports/2014 (1655 firms)/ixr14.pdf', '/content/drive/MyDrive/ASX annual reports/2014 (1655 firms)/imd14.pdf', '/content/drive/MyDrive/ASX annual reports/2014 (1655 firms)/icg14.pdf', '/content/drive/MyDrive/ASX annual reports/2014 (1655 firms)/ipt14.pdf', '/content/drive/MyDrive/ASX annual reports/2014 (1655 firms)/ipl14.pdf', '/content/drive/MyDrive/ASX annual reports/2014 (1655 firms)/irl14.pdf', '/content/drive/MyDrive/ASX annual reports/2014 (1655 firms)/idc14.pdf', '/content/drive/MyDrive/ASX annual reports/2014 (1655 firms)/ido14.pdf', '/content/drive/MyDrive/ASX annual reports/2014 (1655 firms)/igo14.pdf', '/content/drive/MyDrive/ASX annual reports/2014 (1655 firms)/izm14.pdf', '/content/drive/MyDrive/ASX annual reports/2014 (1655 firms)/inl14.pdf', '/content/drive/MyDrive/ASX annual reports/2014 (1655 firms)/itt14.pdf', '/content/drive/MyDrive/ASX annual reports/2014 (1655 firms)/igs14.pdf', '/content/drive/MyDrive/ASX annual reports/2014 (1655 firms)/irm14.pdf', '/content/drive/MyDrive/ASX annual reports/2014 (1655 firms)/ioh14.pdf', '/content/drive/MyDrive/ASX annual reports/2014 (1655 firms)/ibg14.pdf', '/content/drive/MyDrive/ASX annual reports/2014 (1655 firms)/ird14.pdf', '/content/drive/MyDrive/ASX annual reports/2014 (1655 firms)/ish14.pdf', '/content/drive/MyDrive/ASX annual reports/2014 (1655 firms)/jal14.pdf', '/content/drive/MyDrive/ASX annual reports/2014 (1655 firms)/jrv14.pdf', '/content/drive/MyDrive/ASX annual reports/2014 (1655 firms)/kgm14.pdf', '/content/drive/MyDrive/ASX annual reports/2014 (1655 firms)/jrl14.pdf', '/content/drive/MyDrive/ASX annual reports/2014 (1655 firms)/kpt14.pdf', '/content/drive/MyDrive/ASX annual reports/2014 (1655 firms)/kas14.pdf', '/content/drive/MyDrive/ASX annual reports/2014 (1655 firms)/kgl14.pdf', '/content/drive/MyDrive/ASX annual reports/2014 (1655 firms)/kdr14.pdf', '/content/drive/MyDrive/ASX annual reports/2014 (1655 firms)/kdl14.pdf', '/content/drive/MyDrive/ASX annual reports/2014 (1655 firms)/kin14.pdf', '/content/drive/MyDrive/ASX annual reports/2014 (1655 firms)/kis14.pdf', '/content/drive/MyDrive/ASX annual reports/2014 (1655 firms)/krc14.pdf', '/content/drive/MyDrive/ASX annual reports/2014 (1655 firms)/kcn14.pdf', '/content/drive/MyDrive/ASX annual reports/2014 (1655 firms)/irg14.pdf', '/content/drive/MyDrive/ASX annual reports/2014 (1655 firms)/kor14.pdf', '/content/drive/MyDrive/ASX annual reports/2014 (1655 firms)/kta14.pdf', '/content/drive/MyDrive/ASX annual reports/2014 (1655 firms)/kpr14.pdf', '/content/drive/MyDrive/ASX annual reports/2014 (1655 firms)/lke14.pdf', '/content/drive/MyDrive/ASX annual reports/2014 (1655 firms)/lmb14.pdf', '/content/drive/MyDrive/ASX annual reports/2014 (1655 firms)/lny14.pdf', '/content/drive/MyDrive/ASX annual reports/2014 (1655 firms)/lcr14.pdf', '/content/drive/MyDrive/ASX annual reports/2014 (1655 firms)/lmg14.pdf', '/content/drive/MyDrive/ASX annual reports/2014 (1655 firms)/lrs14.pdf', '/content/drive/MyDrive/ASX annual reports/2014 (1655 firms)/lsn14.pdf', '/content/drive/MyDrive/ASX annual reports/2014 (1655 firms)/mrr14.pdf', '/content/drive/MyDrive/ASX annual reports/2014 (1655 firms)/mth14.pdf', '/content/drive/MyDrive/ASX annual reports/2014 (1655 firms)/mod14.pdf', '/content/drive/MyDrive/ASX annual reports/2014 (1655 firms)/mol14.pdf', '/content/drive/MyDrive/ASX annual reports/2014 (1655 firms)/mrf14.pdf', '/content/drive/MyDrive/ASX annual reports/2014 (1655 firms)/mzm14.pdf', '/content/drive/MyDrive/ASX annual reports/2014 (1655 firms)/mry14.pdf', '/content/drive/MyDrive/ASX annual reports/2014 (1655 firms)/mox14.pdf', '/content/drive/MyDrive/ASX annual reports/2014 (1655 firms)/lcy14.pdf', '/content/drive/MyDrive/ASX annual reports/2014 (1655 firms)/ksn14.pdf', '/content/drive/MyDrive/ASX annual reports/2014 (1655 firms)/erd14.pdf', '/content/drive/MyDrive/ASX annual reports/2014 (1655 firms)/esr14.pdf', '/content/drive/MyDrive/ASX annual reports/2014 (1655 firms)/adq14.pdf', '/content/drive/MyDrive/ASX annual reports/2014 (1655 firms)/aiz14.pdf', '/content/drive/MyDrive/ASX annual reports/2014 (1655 firms)/aqz14.pdf', '/content/drive/MyDrive/ASX annual reports/2014 (1655 firms)/ahj14.pdf', '/content/drive/MyDrive/ASX annual reports/2014 (1655 firms)/ajl14.pdf', '/content/drive/MyDrive/ASX annual reports/2014 (1655 firms)/aei14.pdf', '/content/drive/MyDrive/ASX annual reports/2014 (1655 firms)/amb14.pdf', '/content/drive/MyDrive/ASX annual reports/2014 (1655 firms)/ama14.pdf', '/content/drive/MyDrive/ASX annual reports/2014 (1655 firms)/ara14.pdf', '/content/drive/MyDrive/ASX annual reports/2014 (1655 firms)/awn14.pdf', '/content/drive/MyDrive/ASX annual reports/2014 (1655 firms)/alq14.pdf', '/content/drive/MyDrive/ASX annual reports/2014 (1655 firms)/air14.pdf', '/content/drive/MyDrive/ASX annual reports/2014 (1655 firms)/anq14.pdf', '/content/drive/MyDrive/ASX annual reports/2014 (1655 firms)/azj14.pdf', '/content/drive/MyDrive/ASX annual reports/2014 (1655 firms)/aio14.pdf', '/content/drive/MyDrive/ASX annual reports/2014 (1655 firms)/aia14.pdf', '/content/drive/MyDrive/ASX annual reports/2014 (1655 firms)/ang14.pdf', '/content/drive/MyDrive/ASX annual reports/2014 (1655 firms)/asb14.pdf', '/content/drive/MyDrive/ASX annual reports/2014 (1655 firms)/aix14.pdf', '/content/drive/MyDrive/ASX annual reports/2014 (1655 firms)/bkm14.pdf', '/content/drive/MyDrive/ASX annual reports/2014 (1655 firms)/aax14.pdf', '/content/drive/MyDrive/ASX annual reports/2014 (1655 firms)/bol14.pdf', '/content/drive/MyDrive/ASX annual reports/2014 (1655 firms)/byl14.pdf', '/content/drive/MyDrive/ASX annual reports/2014 (1655 firms)/bxb14.pdf', '/content/drive/MyDrive/ASX annual reports/2014 (1655 firms)/cab14.pdf', '/content/drive/MyDrive/ASX annual reports/2014 (1655 firms)/ccf14.pdf', '/content/drive/MyDrive/ASX annual reports/2014 (1655 firms)/bkn14.pdf', '/content/drive/MyDrive/ASX annual reports/2014 (1655 firms)/bsa14.pdf', '/content/drive/MyDrive/ASX annual reports/2014 (1655 firms)/caq14.pdf', '/content/drive/MyDrive/ASX annual reports/2014 (1655 firms)/cgh14.pdf', '/content/drive/MyDrive/ASX annual reports/2014 (1655 firms)/cfu14.pdf', '/content/drive/MyDrive/ASX annual reports/2014 (1655 firms)/cmg14.pdf', '/content/drive/MyDrive/ASX annual reports/2014 (1655 firms)/cdd14.pdf', '/content/drive/MyDrive/ASX annual reports/2014 (1655 firms)/clq14.pdf', '/content/drive/MyDrive/ASX annual reports/2014 (1655 firms)/chr14.pdf', '/content/drive/MyDrive/ASX annual reports/2014 (1655 firms)/cgr14.pdf', '/content/drive/MyDrive/ASX annual reports/2014 (1655 firms)/cyg14.pdf', '/content/drive/MyDrive/ASX annual reports/2014 (1655 firms)/cof14.pdf', '/content/drive/MyDrive/ASX annual reports/2014 (1655 firms)/clx14.pdf', '/content/drive/MyDrive/ASX annual reports/2014 (1655 firms)/cnd14.pdf', '/content/drive/MyDrive/ASX annual reports/2014 (1655 firms)/crh14.pdf', '/content/drive/MyDrive/ASX annual reports/2014 (1655 firms)/dcg14.pdf', '/content/drive/MyDrive/ASX annual reports/2014 (1655 firms)/dgx14.pdf', '/content/drive/MyDrive/ASX annual reports/2014 (1655 firms)/eal14.pdf', '/content/drive/MyDrive/ASX annual reports/2014 (1655 firms)/dow14.pdf', '/content/drive/MyDrive/ASX annual reports/2014 (1655 firms)/emb14.pdf', '/content/drive/MyDrive/ASX annual reports/2014 (1655 firms)/cup14.pdf', '/content/drive/MyDrive/ASX annual reports/2014 (1655 firms)/ecv14.pdf', '/content/drive/MyDrive/ASX annual reports/2014 (1655 firms)/egy14.pdf', '/content/drive/MyDrive/ASX annual reports/2014 (1655 firms)/eax14.pdf', '/content/drive/MyDrive/ASX annual reports/2014 (1655 firms)/egn14.pdf', '/content/drive/MyDrive/ASX annual reports/2014 (1655 firms)/ehl14.pdf', '/content/drive/MyDrive/ASX annual reports/2014 (1655 firms)/eos14.pdf', '/content/drive/MyDrive/ASX annual reports/2014 (1655 firms)/egl14.pdf', '/content/drive/MyDrive/ASX annual reports/2014 (1655 firms)/eza14.pdf', '/content/drive/MyDrive/ASX annual reports/2014 (1655 firms)/fgi14.pdf', '/content/drive/MyDrive/ASX annual reports/2014 (1655 firms)/gnv14.pdf', '/content/drive/MyDrive/ASX annual reports/2014 (1655 firms)/ger14.pdf', '/content/drive/MyDrive/ASX annual reports/2014 (1655 firms)/gwa14.pdf', '/content/drive/MyDrive/ASX annual reports/2014 (1655 firms)/gcs14.pdf', '/content/drive/MyDrive/ASX annual reports/2014 (1655 firms)/evz14.pdf', '/content/drive/MyDrive/ASX annual reports/2014 (1655 firms)/hjb14.pdf', '/content/drive/MyDrive/ASX annual reports/2014 (1655 firms)/esi14.pdf', '/content/drive/MyDrive/ASX annual reports/2014 (1655 firms)/hrl14.pdf', '/content/drive/MyDrive/ASX annual reports/2014 (1655 firms)/hit14.pdf', '/content/drive/MyDrive/ASX annual reports/2014 (1655 firms)/iaw14.pdf', '/content/drive/MyDrive/ASX annual reports/2014 (1655 firms)/shr14.pdf', '/content/drive/MyDrive/ASX annual reports/2014 (1655 firms)/ivt14.pdf', '/content/drive/MyDrive/ASX annual reports/2014 (1655 firms)/hng14.pdf', '/content/drive/MyDrive/ASX annual reports/2014 (1655 firms)/jvg14.pdf', '/content/drive/MyDrive/ASX annual reports/2014 (1655 firms)/knh14.pdf', '/content/drive/MyDrive/ASX annual reports/2014 (1655 firms)/kov14.pdf', '/content/drive/MyDrive/ASX annual reports/2014 (1655 firms)/lgd14.pdf', '/content/drive/MyDrive/ASX annual reports/2014 (1655 firms)/ksc14.pdf', '/content/drive/MyDrive/ASX annual reports/2014 (1655 firms)/lau14.pdf', '/content/drive/MyDrive/ASX annual reports/2014 (1655 firms)/lei14.pdf', '/content/drive/MyDrive/ASX annual reports/2014 (1655 firms)/lcm14.pdf', '/content/drive/MyDrive/ASX annual reports/2014 (1655 firms)/mxi14.pdf', '/content/drive/MyDrive/ASX annual reports/2014 (1655 firms)/mqa14.pdf', '/content/drive/MyDrive/ASX annual reports/2014 (1655 firms)/lyl14.pdf', '/content/drive/MyDrive/ASX annual reports/2014 (1655 firms)/mcs14.pdf', '/content/drive/MyDrive/ASX annual reports/2014 (1655 firms)/mms14.pdf', '/content/drive/MyDrive/ASX annual reports/2014 (1655 firms)/mfc14.pdf', '/content/drive/MyDrive/ASX annual reports/2014 (1655 firms)/mbd14.pdf', '/content/drive/MyDrive/ASX annual reports/2014 (1655 firms)/msi14.pdf', '/content/drive/MyDrive/ASX annual reports/2014 (1655 firms)/lbl14.pdf', '/content/drive/MyDrive/ASX annual reports/2014 (1655 firms)/mnd14.pdf', '/content/drive/MyDrive/ASX annual reports/2014 (1655 firms)/mya14.pdf', '/content/drive/MyDrive/ASX annual reports/2014 (1655 firms)/nod14.pdf', '/content/drive/MyDrive/ASX annual reports/2014 (1655 firms)/olh14.pdf', '/content/drive/MyDrive/ASX annual reports/2014 (1655 firms)/nwh14.pdf', '/content/drive/MyDrive/ASX annual reports/2014 (1655 firms)/oec14.pdf', '/content/drive/MyDrive/ASX annual reports/2014 (1655 firms)/orh14.pdf', '/content/drive/MyDrive/ASX annual reports/2014 (1655 firms)/oti14.pdf', '/content/drive/MyDrive/ASX annual reports/2014 (1655 firms)/nam14.pdf', '/content/drive/MyDrive/ASX annual reports/2014 (1655 firms)/phk14.pdf', '/content/drive/MyDrive/ASX annual reports/2014 (1655 firms)/ofw14.pdf', '/content/drive/MyDrive/ASX annual reports/2014 (1655 firms)/ppx14.pdf', '/content/drive/MyDrive/ASX annual reports/2014 (1655 firms)/peh14.pdf', '/content/drive/MyDrive/ASX annual reports/2014 (1655 firms)/psz14.pdf', '/content/drive/MyDrive/ASX annual reports/2014 (1655 firms)/ppk14.pdf', '/content/drive/MyDrive/ASX annual reports/2014 (1655 firms)/otc14.pdf', '/content/drive/MyDrive/ASX annual reports/2014 (1655 firms)/pmp14.pdf', '/content/drive/MyDrive/ASX annual reports/2014 (1655 firms)/qxq14.pdf', '/content/drive/MyDrive/ASX annual reports/2014 (1655 firms)/ptb14.pdf', '/content/drive/MyDrive/ASX annual reports/2014 (1655 firms)/qub14.pdf', '/content/drive/MyDrive/ASX annual reports/2014 (1655 firms)/qhl14.pdf', '/content/drive/MyDrive/ASX annual reports/2014 (1655 firms)/rcm14.pdf', '/content/drive/MyDrive/ASX annual reports/2014 (1655 firms)/rec14.pdf', '/content/drive/MyDrive/ASX annual reports/2014 (1655 firms)/prg14.pdf', '/content/drive/MyDrive/ASX annual reports/2014 (1655 firms)/rcr14.pdf', '/content/drive/MyDrive/ASX annual reports/2014 (1655 firms)/rfx14.pdf', '/content/drive/MyDrive/ASX annual reports/2014 (1655 firms)/reh14.pdf', '/content/drive/MyDrive/ASX annual reports/2014 (1655 firms)/qan14.pdf', '/content/drive/MyDrive/ASX annual reports/2014 (1655 firms)/rql14.pdf', '/content/drive/MyDrive/ASX annual reports/2014 (1655 firms)/rub14.pdf', '/content/drive/MyDrive/ASX annual reports/2014 (1655 firms)/rex14.pdf', '/content/drive/MyDrive/ASX annual reports/2014 (1655 firms)/ris14.pdf', '/content/drive/MyDrive/ASX annual reports/2014 (1655 firms)/srh14.pdf', '/content/drive/MyDrive/ASX annual reports/2014 (1655 firms)/sai14.pdf', '/content/drive/MyDrive/ASX annual reports/2014 (1655 firms)/sav14.pdf', '/content/drive/MyDrive/ASX annual reports/2014 (1655 firms)/snd14.pdf', '/content/drive/MyDrive/ASX annual reports/2014 (1655 firms)/rwh14.pdf', '/content/drive/MyDrive/ASX annual reports/2014 (1655 firms)/ssm14.pdf', '/content/drive/MyDrive/ASX annual reports/2014 (1655 firms)/svw14.pdf', '/content/drive/MyDrive/ASX annual reports/2014 (1655 firms)/rft14.pdf', '/content/drive/MyDrive/ASX annual reports/2014 (1655 firms)/sdm14.pdf', '/content/drive/MyDrive/ASX annual reports/2014 (1655 firms)/sst14.pdf', '/content/drive/MyDrive/ASX annual reports/2014 (1655 firms)/sks14.pdf', '/content/drive/MyDrive/ASX annual reports/2014 (1655 firms)/tox14.pdf', '/content/drive/MyDrive/ASX annual reports/2014 (1655 firms)/swl14.pdf', '/content/drive/MyDrive/ASX annual reports/2014 (1655 firms)/tse14.pdf', '/content/drive/MyDrive/ASX annual reports/2014 (1655 firms)/wtp14.pdf', '/content/drive/MyDrive/ASX annual reports/2014 (1655 firms)/wds14.pdf', '/content/drive/MyDrive/ASX annual reports/2014 (1655 firms)/tti14.pdf', '/content/drive/MyDrive/ASX annual reports/2014 (1655 firms)/sle14.pdf', '/content/drive/MyDrive/ASX annual reports/2014 (1655 firms)/siv14.pdf', '/content/drive/MyDrive/ASX annual reports/2014 (1655 firms)/sit14.pdf', '/content/drive/MyDrive/ASX annual reports/2014 (1655 firms)/ske14.pdf', '/content/drive/MyDrive/ASX annual reports/2014 (1655 firms)/soo14.pdf', '/content/drive/MyDrive/ASX annual reports/2014 (1655 firms)/sts14.pdf', '/content/drive/MyDrive/ASX annual reports/2014 (1655 firms)/syp14.pdf', '/content/drive/MyDrive/ASX annual reports/2014 (1655 firms)/szg14.pdf', '/content/drive/MyDrive/ASX annual reports/2014 (1655 firms)/syd14.pdf', '/content/drive/MyDrive/ASX annual reports/2014 (1655 firms)/tpp14.pdf', '/content/drive/MyDrive/ASX annual reports/2014 (1655 firms)/tho14.pdf', '/content/drive/MyDrive/ASX annual reports/2014 (1655 firms)/tol14.pdf', '/content/drive/MyDrive/ASX annual reports/2014 (1655 firms)/tpi14.pdf', '/content/drive/MyDrive/ASX annual reports/2014 (1655 firms)/tup14.pdf', '/content/drive/MyDrive/ASX annual reports/2014 (1655 firms)/tcl14.pdf', '/content/drive/MyDrive/ASX annual reports/2014 (1655 firms)/ugl14.pdf', '/content/drive/MyDrive/ASX annual reports/2014 (1655 firms)/vmg14.pdf', '/content/drive/MyDrive/ASX annual reports/2014 (1655 firms)/vgp14.pdf', '/content/drive/MyDrive/ASX annual reports/2014 (1655 firms)/ved14.pdf', '/content/drive/MyDrive/ASX annual reports/2014 (1655 firms)/vah14.pdf', '/content/drive/MyDrive/ASX annual reports/2014 (1655 firms)/vip14.pdf', '/content/drive/MyDrive/ASX annual reports/2014 (1655 firms)/vie14.pdf', '/content/drive/MyDrive/ASX annual reports/2014 (1655 firms)/vtx14.pdf', '/content/drive/MyDrive/ASX annual reports/2014 (1655 firms)/xrf14.pdf', '/content/drive/MyDrive/ASX annual reports/2014 (1655 firms)/xte14.pdf', '/content/drive/MyDrive/ASX annual reports/2014 (1655 firms)/wll14.pdf', '/content/drive/MyDrive/ASX annual reports/2014 (1655 firms)/ypb14.pdf', '/content/drive/MyDrive/ASX annual reports/2014 (1655 firms)/zgl14.pdf', '/content/drive/MyDrive/ASX annual reports/2014 (1655 firms)/ace14.pdf', '/content/drive/MyDrive/ASX annual reports/2014 (1655 firms)/akg14.pdf', '/content/drive/MyDrive/ASX annual reports/2014 (1655 firms)/abv14.pdf', '/content/drive/MyDrive/ASX annual reports/2014 (1655 firms)/afj14.pdf', '/content/drive/MyDrive/ASX annual reports/2014 (1655 firms)/acj14.pdf', '/content/drive/MyDrive/ASX annual reports/2014 (1655 firms)/ahd14.pdf', '/content/drive/MyDrive/ASX annual reports/2014 (1655 firms)/agi14.pdf', '/content/drive/MyDrive/ASX annual reports/2014 (1655 firms)/aqu14.pdf', '/content/drive/MyDrive/ASX annual reports/2014 (1655 firms)/apn14.pdf', '/content/drive/MyDrive/ASX annual reports/2014 (1655 firms)/arp14.pdf', '/content/drive/MyDrive/ASX annual reports/2014 (1655 firms)/ape14.pdf', '/content/drive/MyDrive/ASX annual reports/2014 (1655 firms)/afa14.pdf', '/content/drive/MyDrive/ASX annual reports/2014 (1655 firms)/aad14.pdf', '/content/drive/MyDrive/ASX annual reports/2014 (1655 firms)/atp14.pdf', '/content/drive/MyDrive/ASX annual reports/2014 (1655 firms)/ber14.pdf', '/content/drive/MyDrive/ASX annual reports/2014 (1655 firms)/all14.pdf', '/content/drive/MyDrive/ASX annual reports/2014 (1655 firms)/bbg14.pdf', '/content/drive/MyDrive/ASX annual reports/2014 (1655 firms)/bop14.pdf', '/content/drive/MyDrive/ASX annual reports/2014 (1655 firms)/ahe14.pdf', '/content/drive/MyDrive/ASX annual reports/2014 (1655 firms)/bic14.pdf', '/content/drive/MyDrive/ASX annual reports/2014 (1655 firms)/brg14.pdf', '/content/drive/MyDrive/ASX annual reports/2014 (1655 firms)/bpg14.pdf', '/content/drive/MyDrive/ASX annual reports/2014 (1655 firms)/akp14.pdf', '/content/drive/MyDrive/ASX annual reports/2014 (1655 firms)/cgw14.pdf', '/content/drive/MyDrive/ASX annual reports/2014 (1655 firms)/cik14.pdf', '/content/drive/MyDrive/ASX annual reports/2014 (1655 firms)/ckf14.pdf', '/content/drive/MyDrive/ASX annual reports/2014 (1655 firms)/ctd14.pdf', '/content/drive/MyDrive/ASX annual reports/2014 (1655 firms)/dlc14.pdf', '/content/drive/MyDrive/ASX annual reports/2014 (1655 firms)/dsh14.pdf', '/content/drive/MyDrive/ASX annual reports/2014 (1655 firms)/dvi14.pdf', '/content/drive/MyDrive/ASX annual reports/2014 (1655 firms)/dmp14.pdf', '/content/drive/MyDrive/ASX annual reports/2014 (1655 firms)/ddt14.pdf', '/content/drive/MyDrive/ASX annual reports/2014 (1655 firms)/cwn14.pdf', '/content/drive/MyDrive/ASX annual reports/2014 (1655 firms)/ebg14.pdf', '/content/drive/MyDrive/ASX annual reports/2014 (1655 firms)/fan14.pdf', '/content/drive/MyDrive/ASX annual reports/2014 (1655 firms)/dna14.pdf', '/content/drive/MyDrive/ASX annual reports/2014 (1655 firms)/egp14.pdf', '/content/drive/MyDrive/ASX annual reports/2014 (1655 firms)/ebt14.pdf', '/content/drive/MyDrive/ASX annual reports/2014 (1655 firms)/fun14.pdf', '/content/drive/MyDrive/ASX annual reports/2014 (1655 firms)/fwd14.pdf', '/content/drive/MyDrive/ASX annual reports/2014 (1655 firms)/flt14.pdf', '/content/drive/MyDrive/ASX annual reports/2014 (1655 firms)/gap14.pdf', '/content/drive/MyDrive/ASX annual reports/2014 (1655 firms)/gzl14.pdf', '/content/drive/MyDrive/ASX annual reports/2014 (1655 firms)/fln14.pdf', '/content/drive/MyDrive/ASX annual reports/2014 (1655 firms)/gle14.pdf', '/content/drive/MyDrive/ASX annual reports/2014 (1655 firms)/gxl14.pdf', '/content/drive/MyDrive/ASX annual reports/2014 (1655 firms)/hlo14.pdf', '/content/drive/MyDrive/ASX annual reports/2014 (1655 firms)/glb14.pdf', '/content/drive/MyDrive/ASX annual reports/2014 (1655 firms)/gud14.pdf', '/content/drive/MyDrive/ASX annual reports/2014 (1655 firms)/icp14.pdf', '/content/drive/MyDrive/ASX annual reports/2014 (1655 firms)/gem14.pdf', '/content/drive/MyDrive/ASX annual reports/2014 (1655 firms)/ict14.pdf', '/content/drive/MyDrive/ASX annual reports/2014 (1655 firms)/hvn14.pdf', '/content/drive/MyDrive/ASX annual reports/2014 (1655 firms)/idz14.pdf', '/content/drive/MyDrive/ASX annual reports/2014 (1655 firms)/idp14.pdf', '/content/drive/MyDrive/ASX annual reports/2014 (1655 firms)/jyc14.pdf', '/content/drive/MyDrive/ASX annual reports/2014 (1655 firms)/jbh14.pdf', '/content/drive/MyDrive/ASX annual reports/2014 (1655 firms)/isu14.pdf', '/content/drive/MyDrive/ASX annual reports/2014 (1655 firms)/jat14.pdf', '/content/drive/MyDrive/ASX annual reports/2014 (1655 firms)/jin14.pdf', '/content/drive/MyDrive/ASX annual reports/2014 (1655 firms)/las14.pdf', '/content/drive/MyDrive/ASX annual reports/2014 (1655 firms)/kmd14.pdf', '/content/drive/MyDrive/ASX annual reports/2014 (1655 firms)/ivc14.pdf', '/content/drive/MyDrive/ASX annual reports/2014 (1655 firms)/kfg14.pdf', '/content/drive/MyDrive/ASX annual reports/2014 (1655 firms)/kme14.pdf', '/content/drive/MyDrive/ASX annual reports/2014 (1655 firms)/mzu14.pdf', '/content/drive/MyDrive/ASX annual reports/2014 (1655 firms)/mui14.pdf', '/content/drive/MyDrive/ASX annual reports/2014 (1655 firms)/mhi14.pdf', '/content/drive/MyDrive/ASX annual reports/2014 (1655 firms)/krs14.pdf', '/content/drive/MyDrive/ASX annual reports/2014 (1655 firms)/nhh14.pdf', '/content/drive/MyDrive/ASX annual reports/2014 (1655 firms)/nvt14.pdf', '/content/drive/MyDrive/ASX annual reports/2014 (1655 firms)/lfc14.pdf', '/content/drive/MyDrive/ASX annual reports/2014 (1655 firms)/nbl14.pdf', '/content/drive/MyDrive/ASX annual reports/2014 (1655 firms)/nck14.pdf', '/content/drive/MyDrive/ASX annual reports/2014 (1655 firms)/orl14.pdf', '/content/drive/MyDrive/ASX annual reports/2014 (1655 firms)/qtm14.pdf', '/content/drive/MyDrive/ASX annual reports/2014 (1655 firms)/pmv14.pdf', '/content/drive/MyDrive/ASX annual reports/2014 (1655 firms)/qfx14.pdf', '/content/drive/MyDrive/ASX annual reports/2014 (1655 firms)/myr14.pdf', '/content/drive/MyDrive/ASX annual reports/2014 (1655 firms)/rma14.pdf', '/content/drive/MyDrive/ASX annual reports/2014 (1655 firms)/rct14.pdf', '/content/drive/MyDrive/ASX annual reports/2014 (1655 firms)/rdh14.pdf', '/content/drive/MyDrive/ASX annual reports/2014 (1655 firms)/shu14.pdf', '/content/drive/MyDrive/ASX annual reports/2014 (1655 firms)/rhl14.pdf', '/content/drive/MyDrive/ASX annual reports/2014 (1655 firms)/slk14.pdf', '/content/drive/MyDrive/ASX annual reports/2014 (1655 firms)/shp14.pdf', '/content/drive/MyDrive/ASX annual reports/2014 (1655 firms)/shj14.pdf', '/content/drive/MyDrive/ASX annual reports/2014 (1655 firms)/sfc14.pdf', '/content/drive/MyDrive/ASX annual reports/2014 (1655 firms)/sgh14.pdf', '/content/drive/MyDrive/ASX annual reports/2014 (1655 firms)/sfh14.pdf', '/content/drive/MyDrive/ASX annual reports/2014 (1655 firms)/skc14.pdf', '/content/drive/MyDrive/ASX annual reports/2014 (1655 firms)/sgu14.pdf', '/content/drive/MyDrive/ASX annual reports/2014 (1655 firms)/rfg14.pdf', '/content/drive/MyDrive/ASX annual reports/2014 (1655 firms)/twd14.pdf', '/content/drive/MyDrive/ASX annual reports/2014 (1655 firms)/tah14.pdf', '/content/drive/MyDrive/ASX annual reports/2014 (1655 firms)/snl14.pdf', '/content/drive/MyDrive/ASX annual reports/2014 (1655 firms)/sgn14.pdf', '/content/drive/MyDrive/ASX annual reports/2014 (1655 firms)/trs14.pdf', '/content/drive/MyDrive/ASX annual reports/2014 (1655 firms)/tts14.pdf', '/content/drive/MyDrive/ASX annual reports/2014 (1655 firms)/tyo14.pdf', '/content/drive/MyDrive/ASX annual reports/2014 (1655 firms)/tco14.pdf', '/content/drive/MyDrive/ASX annual reports/2014 (1655 firms)/tau14.pdf', '/content/drive/MyDrive/ASX annual reports/2014 (1655 firms)/ucw14.pdf', '/content/drive/MyDrive/ASX annual reports/2014 (1655 firms)/tta14.pdf', '/content/drive/MyDrive/ASX annual reports/2014 (1655 firms)/tme14.pdf', '/content/drive/MyDrive/ASX annual reports/2014 (1655 firms)/tga14.pdf', '/content/drive/MyDrive/ASX annual reports/2014 (1655 firms)/vmt14.pdf', '/content/drive/MyDrive/ASX annual reports/2014 (1655 firms)/web14.pdf', '/content/drive/MyDrive/ASX annual reports/2014 (1655 firms)/vet14.pdf', '/content/drive/MyDrive/ASX annual reports/2014 (1655 firms)/vtg14.pdf', '/content/drive/MyDrive/ASX annual reports/2014 (1655 firms)/yhl14.pdf', '/content/drive/MyDrive/ASX annual reports/2014 (1655 firms)/wtf14.pdf', '/content/drive/MyDrive/ASX annual reports/2014 (1655 firms)/wat14.pdf', '/content/drive/MyDrive/ASX annual reports/2014 (1655 firms)/sul14.pdf', '/content/drive/MyDrive/ASX annual reports/2014 (1655 firms)/ont14.pdf', '/content/drive/MyDrive/ASX annual reports/2014 (1655 firms)/acu14.pdf', '/content/drive/MyDrive/ASX annual reports/2014 (1655 firms)/amt14.pdf', '/content/drive/MyDrive/ASX annual reports/2014 (1655 firms)/acr14.pdf', '/content/drive/MyDrive/ASX annual reports/2014 (1655 firms)/ahz14.pdf', '/content/drive/MyDrive/ASX annual reports/2014 (1655 firms)/ado14.pdf', '/content/drive/MyDrive/ASX annual reports/2014 (1655 firms)/ann14.pdf', '/content/drive/MyDrive/ASX annual reports/2014 (1655 firms)/acl14.pdf', '/content/drive/MyDrive/ASX annual reports/2014 (1655 firms)/acg14.pdf', '/content/drive/MyDrive/ASX annual reports/2014 (1655 firms)/aap14.pdf', '/content/drive/MyDrive/ASX annual reports/2014 (1655 firms)/aop14.pdf', '/content/drive/MyDrive/ASX annual reports/2014 (1655 firms)/avx14.pdf', '/content/drive/MyDrive/ASX annual reports/2014 (1655 firms)/ajj14.pdf', '/content/drive/MyDrive/ASX annual reports/2014 (1655 firms)/aac14.pdf', '/content/drive/MyDrive/ASX annual reports/2014 (1655 firms)/avh14.pdf', '/content/drive/MyDrive/ASX annual reports/2014 (1655 firms)/avg14.pdf', '/content/drive/MyDrive/ASX annual reports/2014 (1655 firms)/bit14.pdf', '/content/drive/MyDrive/ASX annual reports/2014 (1655 firms)/api14.pdf', '/content/drive/MyDrive/ASX annual reports/2014 (1655 firms)/bxn14.pdf', '/content/drive/MyDrive/ASX annual reports/2014 (1655 firms)/bph14.pdf', '/content/drive/MyDrive/ASX annual reports/2014 (1655 firms)/bne14.pdf', '/content/drive/MyDrive/ASX annual reports/2014 (1655 firms)/bkl14.pdf', '/content/drive/MyDrive/ASX annual reports/2014 (1655 firms)/bga14.pdf', '/content/drive/MyDrive/ASX annual reports/2014 (1655 firms)/czz14.pdf', '/content/drive/MyDrive/ASX annual reports/2014 (1655 firms)/brc14.pdf', '/content/drive/MyDrive/ASX annual reports/2014 (1655 firms)/bno14.pdf', '/content/drive/MyDrive/ASX annual reports/2014 (1655 firms)/caj14.pdf', '/content/drive/MyDrive/ASX annual reports/2014 (1655 firms)/bug14.pdf', '/content/drive/MyDrive/ASX annual reports/2014 (1655 firms)/cdy14.pdf', '/content/drive/MyDrive/ASX annual reports/2014 (1655 firms)/cir14.pdf', '/content/drive/MyDrive/ASX annual reports/2014 (1655 firms)/cuv14.pdf', '/content/drive/MyDrive/ASX annual reports/2014 (1655 firms)/coh14.pdf', '/content/drive/MyDrive/ASX annual reports/2014 (1655 firms)/cgs14.pdf', '/content/drive/MyDrive/ASX annual reports/2014 (1655 firms)/cte14.pdf', '/content/drive/MyDrive/ASX annual reports/2014 (1655 firms)/css14.pdf', '/content/drive/MyDrive/ASX annual reports/2014 (1655 firms)/csl14.pdf', '/content/drive/MyDrive/ASX annual reports/2014 (1655 firms)/ccl14.pdf', '/content/drive/MyDrive/ASX annual reports/2014 (1655 firms)/dvl14.pdf', '/content/drive/MyDrive/ASX annual reports/2014 (1655 firms)/ebo14.pdf', '/content/drive/MyDrive/ASX annual reports/2014 (1655 firms)/dmy14.pdf', '/content/drive/MyDrive/ASX annual reports/2014 (1655 firms)/ffi14.pdf', '/content/drive/MyDrive/ASX annual reports/2014 (1655 firms)/elx14.pdf', '/content/drive/MyDrive/ASX annual reports/2014 (1655 firms)/cyp14.pdf', '/content/drive/MyDrive/ASX annual reports/2014 (1655 firms)/epa14.pdf', '/content/drive/MyDrive/ASX annual reports/2014 (1655 firms)/grb14.pdf', '/content/drive/MyDrive/ASX annual reports/2014 (1655 firms)/eld14.pdf', '/content/drive/MyDrive/ASX annual reports/2014 (1655 firms)/fph14.pdf', '/content/drive/MyDrive/ASX annual reports/2014 (1655 firms)/gid14.pdf', '/content/drive/MyDrive/ASX annual reports/2014 (1655 firms)/glh14.pdf', '/content/drive/MyDrive/ASX annual reports/2014 (1655 firms)/htx14.pdf', '/content/drive/MyDrive/ASX annual reports/2014 (1655 firms)/gff14.pdf', '/content/drive/MyDrive/ASX annual reports/2014 (1655 firms)/ics14.pdf', '/content/drive/MyDrive/ASX annual reports/2014 (1655 firms)/fnp14.pdf', '/content/drive/MyDrive/ASX annual reports/2014 (1655 firms)/idt14.pdf', '/content/drive/MyDrive/ASX annual reports/2014 (1655 firms)/fsf14.pdf', '/content/drive/MyDrive/ASX annual reports/2014 (1655 firms)/iil14.pdf', '/content/drive/MyDrive/ASX annual reports/2014 (1655 firms)/gnc14.pdf', '/content/drive/MyDrive/ASX annual reports/2014 (1655 firms)/lbt14.pdf', '/content/drive/MyDrive/ASX annual reports/2014 (1655 firms)/lct14.pdf', '/content/drive/MyDrive/ASX annual reports/2014 (1655 firms)/imi14.pdf', '/content/drive/MyDrive/ASX annual reports/2014 (1655 firms)/mla14.pdf', '/content/drive/MyDrive/ASX annual reports/2014 (1655 firms)/myx14.pdf', '/content/drive/MyDrive/ASX annual reports/2014 (1655 firms)/mgz14.pdf', '/content/drive/MyDrive/ASX annual reports/2014 (1655 firms)/ivx14.pdf', '/content/drive/MyDrive/ASX annual reports/2014 (1655 firms)/mti14.pdf', '/content/drive/MyDrive/ASX annual reports/2014 (1655 firms)/nan14.pdf', '/content/drive/MyDrive/ASX annual reports/2014 (1655 firms)/msb14.pdf', '/content/drive/MyDrive/ASX annual reports/2014 (1655 firms)/neu14.pdf', '/content/drive/MyDrive/ASX annual reports/2014 (1655 firms)/obj14.pdf', '/content/drive/MyDrive/ASX annual reports/2014 (1655 firms)/oil14.pdf', '/content/drive/MyDrive/ASX annual reports/2014 (1655 firms)/ozb14.pdf', '/content/drive/MyDrive/ASX annual reports/2014 (1655 firms)/mcp14.pdf', '/content/drive/MyDrive/ASX annual reports/2014 (1655 firms)/omi14.pdf', '/content/drive/MyDrive/ASX annual reports/2014 (1655 firms)/osp14.pdf', '/content/drive/MyDrive/ASX annual reports/2014 (1655 firms)/pgc14.pdf', '/content/drive/MyDrive/ASX annual reports/2014 (1655 firms)/phw14.pdf', '/content/drive/MyDrive/ASX annual reports/2014 (1655 firms)/paa14.pdf', '/content/drive/MyDrive/ASX annual reports/2014 (1655 firms)/pab14.pdf', '/content/drive/MyDrive/ASX annual reports/2014 (1655 firms)/pxs14.pdf', '/content/drive/MyDrive/ASX annual reports/2014 (1655 firms)/pry14.pdf', '/content/drive/MyDrive/ASX annual reports/2014 (1655 firms)/pyc14.pdf', '/content/drive/MyDrive/ASX annual reports/2014 (1655 firms)/pop14.pdf', '/content/drive/MyDrive/ASX annual reports/2014 (1655 firms)/nrt14.pdf', '/content/drive/MyDrive/ASX annual reports/2014 (1655 firms)/pva14.pdf', '/content/drive/MyDrive/ASX annual reports/2014 (1655 firms)/qrx14.pdf', '/content/drive/MyDrive/ASX annual reports/2014 (1655 firms)/rgp14.pdf', '/content/drive/MyDrive/ASX annual reports/2014 (1655 firms)/rgs14.pdf', '/content/drive/MyDrive/ASX annual reports/2014 (1655 firms)/pme14.pdf', '/content/drive/MyDrive/ASX annual reports/2014 (1655 firms)/rhs14.pdf', '/content/drive/MyDrive/ASX annual reports/2014 (1655 firms)/rht14.pdf', '/content/drive/MyDrive/ASX annual reports/2014 (1655 firms)/rva14.pdf', '/content/drive/MyDrive/ASX annual reports/2014 (1655 firms)/ric14.pdf', '/content/drive/MyDrive/ASX annual reports/2014 (1655 firms)/sie14.pdf', '/content/drive/MyDrive/ASX annual reports/2014 (1655 firms)/sfp14.pdf', '/content/drive/MyDrive/ASX annual reports/2014 (1655 firms)/sip14.pdf', '/content/drive/MyDrive/ASX annual reports/2014 (1655 firms)/shv14.pdf', '/content/drive/MyDrive/ASX annual reports/2014 (1655 firms)/srx14.pdf', '/content/drive/MyDrive/ASX annual reports/2014 (1655 firms)/rno14.pdf', '/content/drive/MyDrive/ASX annual reports/2014 (1655 firms)/soi14.pdf', '/content/drive/MyDrive/ASX annual reports/2014 (1655 firms)/som14.pdf', '/content/drive/MyDrive/ASX annual reports/2014 (1655 firms)/snz14.pdf', '/content/drive/MyDrive/ASX annual reports/2014 (1655 firms)/spl14.pdf', '/content/drive/MyDrive/ASX annual reports/2014 (1655 firms)/shl14.pdf', '/content/drive/MyDrive/ASX annual reports/2014 (1655 firms)/sbn14.pdf', '/content/drive/MyDrive/ASX annual reports/2014 (1655 firms)/tgr14.pdf', '/content/drive/MyDrive/ASX annual reports/2014 (1655 firms)/tis14.pdf', '/content/drive/MyDrive/ASX annual reports/2014 (1655 firms)/twe14.pdf', '/content/drive/MyDrive/ASX annual reports/2014 (1655 firms)/twh14.pdf', '/content/drive/MyDrive/ASX annual reports/2014 (1655 firms)/tan14.pdf', '/content/drive/MyDrive/ASX annual reports/2014 (1655 firms)/rhc14.pdf', '/content/drive/MyDrive/ASX annual reports/2014 (1655 firms)/vhl14.pdf', '/content/drive/MyDrive/ASX annual reports/2014 (1655 firms)/vla14.pdf', '/content/drive/MyDrive/ASX annual reports/2014 (1655 firms)/ucm14.pdf', '/content/drive/MyDrive/ASX annual reports/2014 (1655 firms)/ubi14.pdf', '/content/drive/MyDrive/ASX annual reports/2014 (1655 firms)/wcb14.pdf', '/content/drive/MyDrive/ASX annual reports/2014 (1655 firms)/vei14.pdf', '/content/drive/MyDrive/ASX annual reports/2014 (1655 firms)/vrt14.pdf', '/content/drive/MyDrive/ASX annual reports/2014 (1655 firms)/vsc14.pdf', '/content/drive/MyDrive/ASX annual reports/2014 (1655 firms)/yow14.pdf', '/content/drive/MyDrive/ASX annual reports/2014 (1655 firms)/wes14.pdf', '/content/drive/MyDrive/ASX annual reports/2014 (1655 firms)/wba14.pdf', '/content/drive/MyDrive/ASX annual reports/2014 (1655 firms)/wow14.pdf', '/content/drive/MyDrive/ASX annual reports/2014 (1655 firms)/ayi14.pdf', '/content/drive/MyDrive/ASX annual reports/2014 (1655 firms)/aha14.pdf', '/content/drive/MyDrive/ASX annual reports/2014 (1655 firms)/asw14.pdf', '/content/drive/MyDrive/ASX annual reports/2014 (1655 firms)/app14.pdf', '/content/drive/MyDrive/ASX annual reports/2014 (1655 firms)/auf14.pdf', '/content/drive/MyDrive/ASX annual reports/2014 (1655 firms)/akf14.pdf', '/content/drive/MyDrive/ASX annual reports/2014 (1655 firms)/alr14.pdf', '/content/drive/MyDrive/ASX annual reports/2014 (1655 firms)/abw14.pdf', '/content/drive/MyDrive/ASX annual reports/2014 (1655 firms)/agf14.pdf', '/content/drive/MyDrive/ASX annual reports/2014 (1655 firms)/amp14.pdf', '/content/drive/MyDrive/ASX annual reports/2014 (1655 firms)/asx14.pdf', '/content/drive/MyDrive/ASX annual reports/2014 (1655 firms)/afv14.pdf', '/content/drive/MyDrive/ASX annual reports/2014 (1655 firms)/ack14.pdf', '/content/drive/MyDrive/ASX annual reports/2014 (1655 firms)/aqf14.pdf', '/content/drive/MyDrive/ASX annual reports/2014 (1655 firms)/aub14.pdf', '/content/drive/MyDrive/ASX annual reports/2014 (1655 firms)/anz14.pdf', '/content/drive/MyDrive/ASX annual reports/2014 (1655 firms)/aef14.pdf', '/content/drive/MyDrive/ASX annual reports/2014 (1655 firms)/aky14.pdf', '/content/drive/MyDrive/ASX annual reports/2014 (1655 firms)/bfg14.pdf', '/content/drive/MyDrive/ASX annual reports/2014 (1655 firms)/imf14.pdf', '/content/drive/MyDrive/ASX annual reports/2014 (1655 firms)/btc14.pdf', '/content/drive/MyDrive/ASX annual reports/2014 (1655 firms)/ben14.pdf', '/content/drive/MyDrive/ASX annual reports/2014 (1655 firms)/bsn14.pdf', '/content/drive/MyDrive/ASX annual reports/2014 (1655 firms)/bla14.pdf', '/content/drive/MyDrive/ASX annual reports/2014 (1655 firms)/btt14.pdf', '/content/drive/MyDrive/ASX annual reports/2014 (1655 firms)/boq14.pdf', '/content/drive/MyDrive/ASX annual reports/2014 (1655 firms)/cfy14.pdf', '/content/drive/MyDrive/ASX annual reports/2014 (1655 firms)/cya14.pdf', '/content/drive/MyDrive/ASX annual reports/2014 (1655 firms)/ccv14.pdf', '/content/drive/MyDrive/ASX annual reports/2014 (1655 firms)/caf14.pdf', '/content/drive/MyDrive/ASX annual reports/2014 (1655 firms)/cii14.pdf', '/content/drive/MyDrive/ASX annual reports/2014 (1655 firms)/chf14.pdf', '/content/drive/MyDrive/ASX annual reports/2014 (1655 firms)/cgf14.pdf', '/content/drive/MyDrive/ASX annual reports/2014 (1655 firms)/bwf14.pdf', '/content/drive/MyDrive/ASX annual reports/2014 (1655 firms)/cvw14.pdf', '/content/drive/MyDrive/ASX annual reports/2014 (1655 firms)/chp14.pdf', '/content/drive/MyDrive/ASX annual reports/2014 (1655 firms)/ciw14.pdf', '/content/drive/MyDrive/ASX annual reports/2014 (1655 firms)/cot14.pdf', '/content/drive/MyDrive/ASX annual reports/2014 (1655 firms)/cba14.pdf', '/content/drive/MyDrive/ASX annual reports/2014 (1655 firms)/clh14.pdf', '/content/drive/MyDrive/ASX annual reports/2014 (1655 firms)/ccp14.pdf', '/content/drive/MyDrive/ASX annual reports/2014 (1655 firms)/cvc14.pdf', '/content/drive/MyDrive/ASX annual reports/2014 (1655 firms)/eas14.pdf', '/content/drive/MyDrive/ASX annual reports/2014 (1655 firms)/dcc14.pdf', '/content/drive/MyDrive/ASX annual reports/2014 (1655 firms)/ctn14.pdf', '/content/drive/MyDrive/ASX annual reports/2014 (1655 firms)/dva14.pdf', '/content/drive/MyDrive/ASX annual reports/2014 (1655 firms)/eml14.pdf', '/content/drive/MyDrive/ASX annual reports/2014 (1655 firms)/eqt14.pdf', '/content/drive/MyDrive/ASX annual reports/2014 (1655 firms)/cvo14.pdf', '/content/drive/MyDrive/ASX annual reports/2014 (1655 firms)/ezl14.pdf', '/content/drive/MyDrive/ASX annual reports/2014 (1655 firms)/fps14.pdf', '/content/drive/MyDrive/ASX annual reports/2014 (1655 firms)/fsa14.pdf', '/content/drive/MyDrive/ASX annual reports/2014 (1655 firms)/ggh14.pdf', '/content/drive/MyDrive/ASX annual reports/2014 (1655 firms)/grf14.pdf', '/content/drive/MyDrive/ASX annual reports/2014 (1655 firms)/gma14.pdf', '/content/drive/MyDrive/ASX annual reports/2014 (1655 firms)/ffg14.pdf', '/content/drive/MyDrive/ASX annual reports/2014 (1655 firms)/gmy14.pdf', '/content/drive/MyDrive/ASX annual reports/2014 (1655 firms)/fff14.pdf', '/content/drive/MyDrive/ASX annual reports/2014 (1655 firms)/gba14.pdf', '/content/drive/MyDrive/ASX annual reports/2014 (1655 firms)/gow14.pdf', '/content/drive/MyDrive/ASX annual reports/2014 (1655 firms)/hfa14.pdf', '/content/drive/MyDrive/ASX annual reports/2014 (1655 firms)/hls14.pdf', '/content/drive/MyDrive/ASX annual reports/2014 (1655 firms)/grp14.pdf', '/content/drive/MyDrive/ASX annual reports/2014 (1655 firms)/hhv14.pdf', '/content/drive/MyDrive/ASX annual reports/2014 (1655 firms)/hgg14.pdf', '/content/drive/MyDrive/ASX annual reports/2014 (1655 firms)/hub14.pdf', '/content/drive/MyDrive/ASX annual reports/2014 (1655 firms)/hhl14.pdf', '/content/drive/MyDrive/ASX annual reports/2014 (1655 firms)/hom14.pdf', '/content/drive/MyDrive/ASX annual reports/2014 (1655 firms)/ipa14.pdf', '/content/drive/MyDrive/ASX annual reports/2014 (1655 firms)/iag14.pdf', '/content/drive/MyDrive/ASX annual reports/2014 (1655 firms)/kam14.pdf', '/content/drive/MyDrive/ASX annual reports/2014 (1655 firms)/ipc14.pdf', '/content/drive/MyDrive/ASX annual reports/2014 (1655 firms)/ipe14.pdf', '/content/drive/MyDrive/ASX annual reports/2014 (1655 firms)/ifl14.pdf', '/content/drive/MyDrive/ASX annual reports/2014 (1655 firms)/kbc14.pdf', '/content/drive/MyDrive/ASX annual reports/2014 (1655 firms)/lce14.pdf', '/content/drive/MyDrive/ASX annual reports/2014 (1655 firms)/mfg14.pdf', '/content/drive/MyDrive/ASX annual reports/2014 (1655 firms)/mff14.pdf', '/content/drive/MyDrive/ASX annual reports/2014 (1655 firms)/mcx14.pdf', '/content/drive/MyDrive/ASX annual reports/2014 (1655 firms)/mws14.pdf', '/content/drive/MyDrive/ASX annual reports/2014 (1655 firms)/mny14.pdf', '/content/drive/MyDrive/ASX annual reports/2014 (1655 firms)/mut14.pdf', '/content/drive/MyDrive/ASX annual reports/2014 (1655 firms)/mch14.pdf', '/content/drive/MyDrive/ASX annual reports/2014 (1655 firms)/mqg14.pdf', '/content/drive/MyDrive/ASX annual reports/2014 (1655 firms)/moc14.pdf', '/content/drive/MyDrive/ASX annual reports/2014 (1655 firms)/mys14.pdf', '/content/drive/MyDrive/ASX annual reports/2014 (1655 firms)/ocp14.pdf', '/content/drive/MyDrive/ASX annual reports/2014 (1655 firms)/nhf14.pdf', '/content/drive/MyDrive/ASX annual reports/2014 (1655 firms)/oeq14.pdf', '/content/drive/MyDrive/ASX annual reports/2014 (1655 firms)/nsx14.pdf', '/content/drive/MyDrive/ASX annual reports/2014 (1655 firms)/onc14.pdf', '/content/drive/MyDrive/ASX annual reports/2014 (1655 firms)/ppt14.pdf', '/content/drive/MyDrive/ASX annual reports/2014 (1655 firms)/poh14.pdf', '/content/drive/MyDrive/ASX annual reports/2014 (1655 firms)/nab14.pdf', '/content/drive/MyDrive/ASX annual reports/2014 (1655 firms)/pfg14.pdf', '/content/drive/MyDrive/ASX annual reports/2014 (1655 firms)/ptm14.pdf', '/content/drive/MyDrive/ASX annual reports/2014 (1655 firms)/qst14.pdf', '/content/drive/MyDrive/ASX annual reports/2014 (1655 firms)/que14.pdf', '/content/drive/MyDrive/ASX annual reports/2014 (1655 firms)/pha14.pdf', '/content/drive/MyDrive/ASX annual reports/2014 (1655 firms)/rks14.pdf', '/content/drive/MyDrive/ASX annual reports/2014 (1655 firms)/sfn14.pdf', '/content/drive/MyDrive/ASX annual reports/2014 (1655 firms)/raf14.pdf', '/content/drive/MyDrive/ASX annual reports/2014 (1655 firms)/sor14.pdf', '/content/drive/MyDrive/ASX annual reports/2014 (1655 firms)/sdf14.pdf', '/content/drive/MyDrive/ASX annual reports/2014 (1655 firms)/qbe14.pdf', '/content/drive/MyDrive/ASX annual reports/2014 (1655 firms)/tag14.pdf', '/content/drive/MyDrive/ASX annual reports/2014 (1655 firms)/sbk14.pdf', '/content/drive/MyDrive/ASX annual reports/2014 (1655 firms)/sun14.pdf', '/content/drive/MyDrive/ASX annual reports/2014 (1655 firms)/tcn14.pdf', '/content/drive/MyDrive/ASX annual reports/2014 (1655 firms)/tsm14.pdf', '/content/drive/MyDrive/ASX annual reports/2014 (1655 firms)/twr14.pdf', '/content/drive/MyDrive/ASX annual reports/2014 (1655 firms)/tdi14.pdf', '/content/drive/MyDrive/ASX annual reports/2014 (1655 firms)/tpa14.pdf', '/content/drive/MyDrive/ASX annual reports/2014 (1655 firms)/vel14.pdf', '/content/drive/MyDrive/ASX annual reports/2014 (1655 firms)/wbc14.pdf', '/content/drive/MyDrive/ASX annual reports/2014 (1655 firms)/wbb14.pdf', '/content/drive/MyDrive/ASX annual reports/2014 (1655 firms)/wig14.pdf', '/content/drive/MyDrive/ASX annual reports/2014 (1655 firms)/ybr14.pdf', '/content/drive/MyDrive/ASX annual reports/2014 (1655 firms)/ada14.pdf', '/content/drive/MyDrive/ASX annual reports/2014 (1655 firms)/nnw14.pdf', '/content/drive/MyDrive/ASX annual reports/2014 (1655 firms)/adj14.pdf', '/content/drive/MyDrive/ASX annual reports/2014 (1655 firms)/alu14.pdf', '/content/drive/MyDrive/ASX annual reports/2014 (1655 firms)/aau14.pdf', '/content/drive/MyDrive/ASX annual reports/2014 (1655 firms)/asp14.pdf', '/content/drive/MyDrive/ASX annual reports/2014 (1655 firms)/amo14.pdf', '/content/drive/MyDrive/ASX annual reports/2014 (1655 firms)/ala14.pdf', '/content/drive/MyDrive/ASX annual reports/2014 (1655 firms)/bct14.pdf', '/content/drive/MyDrive/ASX annual reports/2014 (1655 firms)/amm14.pdf', '/content/drive/MyDrive/ASX annual reports/2014 (1655 firms)/byi14.pdf', '/content/drive/MyDrive/ASX annual reports/2014 (1655 firms)/blg14.pdf', '/content/drive/MyDrive/ASX annual reports/2014 (1655 firms)/bro14.pdf', '/content/drive/MyDrive/ASX annual reports/2014 (1655 firms)/clt14.pdf', '/content/drive/MyDrive/ASX annual reports/2014 (1655 firms)/cnu14.pdf', '/content/drive/MyDrive/ASX annual reports/2014 (1655 firms)/coj14.pdf', '/content/drive/MyDrive/ASX annual reports/2014 (1655 firms)/com14.pdf', '/content/drive/MyDrive/ASX annual reports/2014 (1655 firms)/coo14.pdf', '/content/drive/MyDrive/ASX annual reports/2014 (1655 firms)/bbl14.pdf', '/content/drive/MyDrive/ASX annual reports/2014 (1655 firms)/csv14.pdf', '/content/drive/MyDrive/ASX annual reports/2014 (1655 firms)/cpu14.pdf', '/content/drive/MyDrive/ASX annual reports/2014 (1655 firms)/dye14.pdf', '/content/drive/MyDrive/ASX annual reports/2014 (1655 firms)/dsx14.pdf', '/content/drive/MyDrive/ASX annual reports/2014 (1655 firms)/cda14.pdf', '/content/drive/MyDrive/ASX annual reports/2014 (1655 firms)/cag14.pdf', '/content/drive/MyDrive/ASX annual reports/2014 (1655 firms)/ddr14.pdf', '/content/drive/MyDrive/ASX annual reports/2014 (1655 firms)/eol14.pdf', '/content/drive/MyDrive/ASX annual reports/2014 (1655 firms)/fre14.pdf', '/content/drive/MyDrive/ASX annual reports/2014 (1655 firms)/esk14.pdf', '/content/drive/MyDrive/ASX annual reports/2014 (1655 firms)/gcn14.pdf', '/content/drive/MyDrive/ASX annual reports/2014 (1655 firms)/hta14.pdf', '/content/drive/MyDrive/ASX annual reports/2014 (1655 firms)/fxj14.pdf', '/content/drive/MyDrive/ASX annual reports/2014 (1655 firms)/epd14.pdf', '/content/drive/MyDrive/ASX annual reports/2014 (1655 firms)/icq14.pdf', '/content/drive/MyDrive/ASX annual reports/2014 (1655 firms)/esv14.pdf', '/content/drive/MyDrive/ASX annual reports/2014 (1655 firms)/iab14.pdf', '/content/drive/MyDrive/ASX annual reports/2014 (1655 firms)/ipp14.pdf', '/content/drive/MyDrive/ASX annual reports/2014 (1655 firms)/hsn14.pdf', '/content/drive/MyDrive/ASX annual reports/2014 (1655 firms)/jcs14.pdf', '/content/drive/MyDrive/ASX annual reports/2014 (1655 firms)/lmc14.pdf', '/content/drive/MyDrive/ASX annual reports/2014 (1655 firms)/kte14.pdf', '/content/drive/MyDrive/ASX annual reports/2014 (1655 firms)/ifm14.pdf', '/content/drive/MyDrive/ASX annual reports/2014 (1655 firms)/iri14.pdf', '/content/drive/MyDrive/ASX annual reports/2014 (1655 firms)/mrn14.pdf', '/content/drive/MyDrive/ASX annual reports/2014 (1655 firms)/maq14.pdf', '/content/drive/MyDrive/ASX annual reports/2014 (1655 firms)/iin14.pdf', '/content/drive/MyDrive/ASX annual reports/2014 (1655 firms)/mnw14.pdf', '/content/drive/MyDrive/ASX annual reports/2014 (1655 firms)/mig14.pdf', '/content/drive/MyDrive/ASX annual reports/2014 (1655 firms)/mtu14.pdf', '/content/drive/MyDrive/ASX annual reports/2014 (1655 firms)/mlb14.pdf', '/content/drive/MyDrive/ASX annual reports/2014 (1655 firms)/mnf14.pdf', '/content/drive/MyDrive/ASX annual reports/2014 (1655 firms)/mnz14.pdf', '/content/drive/MyDrive/ASX annual reports/2014 (1655 firms)/myb14.pdf', '/content/drive/MyDrive/ASX annual reports/2014 (1655 firms)/nwz14.pdf', '/content/drive/MyDrive/ASX annual reports/2014 (1655 firms)/nea14.pdf', '/content/drive/MyDrive/ASX annual reports/2014 (1655 firms)/mbe14.pdf', '/content/drive/MyDrive/ASX annual reports/2014 (1655 firms)/nxt14.pdf', '/content/drive/MyDrive/ASX annual reports/2014 (1655 firms)/ntc14.pdf', '/content/drive/MyDrive/ASX annual reports/2014 (1655 firms)/psy14.pdf', '/content/drive/MyDrive/ASX annual reports/2014 (1655 firms)/nec14.pdf', '/content/drive/MyDrive/ASX annual reports/2014 (1655 firms)/ocl14.pdf', '/content/drive/MyDrive/ASX annual reports/2014 (1655 firms)/nwt14.pdf', '/content/drive/MyDrive/ASX annual reports/2014 (1655 firms)/pro14.pdf', '/content/drive/MyDrive/ASX annual reports/2014 (1655 firms)/qtg14.pdf', '/content/drive/MyDrive/ASX annual reports/2014 (1655 firms)/pps14.pdf', '/content/drive/MyDrive/ASX annual reports/2014 (1655 firms)/prt14.pdf', '/content/drive/MyDrive/ASX annual reports/2014 (1655 firms)/rdf14.pdf', '/content/drive/MyDrive/ASX annual reports/2014 (1655 firms)/rkn14.pdf', '/content/drive/MyDrive/ASX annual reports/2014 (1655 firms)/ref14.pdf', '/content/drive/MyDrive/ASX annual reports/2014 (1655 firms)/rul14.pdf', '/content/drive/MyDrive/ASX annual reports/2014 (1655 firms)/slm14.pdf', '/content/drive/MyDrive/ASX annual reports/2014 (1655 firms)/oth14.pdf', '/content/drive/MyDrive/ASX annual reports/2014 (1655 firms)/rxp14.pdf', '/content/drive/MyDrive/ASX annual reports/2014 (1655 firms)/rea14.pdf', '/content/drive/MyDrive/ASX annual reports/2014 (1655 firms)/sen14.pdf', '/content/drive/MyDrive/ASX annual reports/2014 (1655 firms)/scd14.pdf', '/content/drive/MyDrive/ASX annual reports/2014 (1655 firms)/rxh14.pdf', '/content/drive/MyDrive/ASX annual reports/2014 (1655 firms)/sek14.pdf', '/content/drive/MyDrive/ASX annual reports/2014 (1655 firms)/slx14.pdf', '/content/drive/MyDrive/ASX annual reports/2014 (1655 firms)/skt14.pdf', '/content/drive/MyDrive/ASX annual reports/2014 (1655 firms)/swm14.pdf', '/content/drive/MyDrive/ASX annual reports/2014 (1655 firms)/smp14.pdf', '/content/drive/MyDrive/ASX annual reports/2014 (1655 firms)/sgo14.pdf', '/content/drive/MyDrive/ASX annual reports/2014 (1655 firms)/smn14.pdf', '/content/drive/MyDrive/ASX annual reports/2014 (1655 firms)/smx14.pdf', '/content/drive/MyDrive/ASX annual reports/2014 (1655 firms)/sgt14.pdf', '/content/drive/MyDrive/ASX annual reports/2014 (1655 firms)/tls14.pdf', '/content/drive/MyDrive/ASX annual reports/2014 (1655 firms)/tsn14.pdf', '/content/drive/MyDrive/ASX annual reports/2014 (1655 firms)/sxl14.pdf', '/content/drive/MyDrive/ASX annual reports/2014 (1655 firms)/tne14.pdf', '/content/drive/MyDrive/ASX annual reports/2014 (1655 firms)/wrr14.pdf', '/content/drive/MyDrive/ASX annual reports/2014 (1655 firms)/xro14.pdf', '/content/drive/MyDrive/ASX annual reports/2014 (1655 firms)/uxc14.pdf', '/content/drive/MyDrive/ASX annual reports/2014 (1655 firms)/vrl14.pdf', '/content/drive/MyDrive/ASX annual reports/2014 (1655 firms)/ten14.pdf', '/content/drive/MyDrive/ASX annual reports/2014 (1655 firms)/wns14.pdf', '/content/drive/MyDrive/ASX annual reports/2014 (1655 firms)/zmg14.pdf', '/content/drive/MyDrive/ASX annual reports/2014 (1655 firms)/zip14.pdf', '/content/drive/MyDrive/ASX annual reports/2014 (1655 firms)/tgp14.pdf', '/content/drive/MyDrive/ASX annual reports/2014 (1655 firms)/arf14.pdf', '/content/drive/MyDrive/ASX annual reports/2014 (1655 firms)/ajd14.pdf', '/content/drive/MyDrive/ASX annual reports/2014 (1655 firms)/apw14.pdf', '/content/drive/MyDrive/ASX annual reports/2014 (1655 firms)/apd14.pdf', '/content/drive/MyDrive/ASX annual reports/2014 (1655 firms)/apa14.pdf', '/content/drive/MyDrive/ASX annual reports/2014 (1655 firms)/aog14.pdf', '/content/drive/MyDrive/ASX annual reports/2014 (1655 firms)/avj14.pdf', '/content/drive/MyDrive/ASX annual reports/2014 (1655 firms)/bpa14.pdf', '/content/drive/MyDrive/ASX annual reports/2014 (1655 firms)/apz14.pdf', '/content/drive/MyDrive/ASX annual reports/2014 (1655 firms)/bwp14.pdf', '/content/drive/MyDrive/ASX annual reports/2014 (1655 firms)/cwp14.pdf', '/content/drive/MyDrive/ASX annual reports/2014 (1655 firms)/cdp14.pdf', '/content/drive/MyDrive/ASX annual reports/2014 (1655 firms)/aja14.pdf', '/content/drive/MyDrive/ASX annual reports/2014 (1655 firms)/ani14.pdf', '/content/drive/MyDrive/ASX annual reports/2014 (1655 firms)/chc14.pdf', '/content/drive/MyDrive/ASX annual reports/2014 (1655 firms)/cqr14.pdf', '/content/drive/MyDrive/ASX annual reports/2014 (1655 firms)/cfx14.pdf', '/content/drive/MyDrive/ASX annual reports/2014 (1655 firms)/cmw14.pdf', '/content/drive/MyDrive/ASX annual reports/2014 (1655 firms)/dvn14.pdf', '/content/drive/MyDrive/ASX annual reports/2014 (1655 firms)/erj14.pdf', '/content/drive/MyDrive/ASX annual reports/2014 (1655 firms)/dgh14.pdf', '/content/drive/MyDrive/ASX annual reports/2014 (1655 firms)/enb14.pdf', '/content/drive/MyDrive/ASX annual reports/2014 (1655 firms)/cnb14.pdf', '/content/drive/MyDrive/ASX annual reports/2014 (1655 firms)/esy14.pdf', '/content/drive/MyDrive/ASX annual reports/2014 (1655 firms)/fst14.pdf', '/content/drive/MyDrive/ASX annual reports/2014 (1655 firms)/ewc14.pdf', '/content/drive/MyDrive/ASX annual reports/2014 (1655 firms)/flk14.pdf', '/content/drive/MyDrive/ASX annual reports/2014 (1655 firms)/fri14.pdf', '/content/drive/MyDrive/ASX annual reports/2014 (1655 firms)/ghc14.pdf', '/content/drive/MyDrive/ASX annual reports/2014 (1655 firms)/gps14.pdf', '/content/drive/MyDrive/ASX annual reports/2014 (1655 firms)/gdy14.pdf', '/content/drive/MyDrive/ASX annual reports/2014 (1655 firms)/gmg14.pdf', '/content/drive/MyDrive/ASX annual reports/2014 (1655 firms)/dxs14.pdf', '/content/drive/MyDrive/ASX annual reports/2014 (1655 firms)/hgl14.pdf', '/content/drive/MyDrive/ASX annual reports/2014 (1655 firms)/gpt14.pdf', '/content/drive/MyDrive/ASX annual reports/2014 (1655 firms)/goz14.pdf', '/content/drive/MyDrive/ASX annual reports/2014 (1655 firms)/ifz14.pdf', '/content/drive/MyDrive/ASX annual reports/2014 (1655 firms)/ifn14.pdf', '/content/drive/MyDrive/ASX annual reports/2014 (1655 firms)/idr14.pdf', '/content/drive/MyDrive/ASX annual reports/2014 (1655 firms)/ieq14.pdf', '/content/drive/MyDrive/ASX annual reports/2014 (1655 firms)/ina14.pdf', '/content/drive/MyDrive/ASX annual reports/2014 (1655 firms)/mez14.pdf', '/content/drive/MyDrive/ASX annual reports/2014 (1655 firms)/llc14.pdf', '/content/drive/MyDrive/ASX annual reports/2014 (1655 firms)/myt14.pdf', '/content/drive/MyDrive/ASX annual reports/2014 (1655 firms)/mtd14.pdf', '/content/drive/MyDrive/ASX annual reports/2014 (1655 firms)/iof14.pdf', '/content/drive/MyDrive/ASX annual reports/2014 (1655 firms)/pfm14.pdf', '/content/drive/MyDrive/ASX annual reports/2014 (1655 firms)/mue14.pdf', '/content/drive/MyDrive/ASX annual reports/2014 (1655 firms)/pay14.pdf', '/content/drive/MyDrive/ASX annual reports/2014 (1655 firms)/nsr14.pdf', '/content/drive/MyDrive/ASX annual reports/2014 (1655 firms)/pea14.pdf', '/content/drive/MyDrive/ASX annual reports/2014 (1655 firms)/pbd14.pdf', '/content/drive/MyDrive/ASX annual reports/2014 (1655 firms)/rny14.pdf', '/content/drive/MyDrive/ASX annual reports/2014 (1655 firms)/qss14.pdf', '/content/drive/MyDrive/ASX annual reports/2014 (1655 firms)/ppc14.pdf', '/content/drive/MyDrive/ASX annual reports/2014 (1655 firms)/scg14.pdf', '/content/drive/MyDrive/ASX annual reports/2014 (1655 firms)/scp14.pdf', '/content/drive/MyDrive/ASX annual reports/2014 (1655 firms)/ssl14.pdf', '/content/drive/MyDrive/ASX annual reports/2014 (1655 firms)/ski14.pdf', '/content/drive/MyDrive/ASX annual reports/2014 (1655 firms)/spn14.pdf', '/content/drive/MyDrive/ASX annual reports/2014 (1655 firms)/sgp14.pdf', '/content/drive/MyDrive/ASX annual reports/2014 (1655 firms)/sdg14.pdf', '/content/drive/MyDrive/ASX annual reports/2014 (1655 firms)/srv14.pdf', '/content/drive/MyDrive/ASX annual reports/2014 (1655 firms)/uos14.pdf', '/content/drive/MyDrive/ASX annual reports/2014 (1655 firms)/wrg14.pdf', '/content/drive/MyDrive/ASX annual reports/2014 (1655 firms)/wfd14.pdf', '/content/drive/MyDrive/ASX annual reports/2014 (1655 firms)/urf14.pdf', '/content/drive/MyDrive/ASX annual reports/2014 (1655 firms)/tcq14.pdf', '/content/drive/MyDrive/ASX annual reports/2014 (1655 firms)/vlw14.pdf', '/content/drive/MyDrive/ASX annual reports/2014 (1655 firms)/tdo14.pdf', '/content/drive/MyDrive/ASX annual reports/2014 (1655 firms)/adx14.pdf', '/content/drive/MyDrive/ASX annual reports/2014 (1655 firms)/ajc14.pdf', '/content/drive/MyDrive/ASX annual reports/2014 (1655 firms)/acb14.pdf', '/content/drive/MyDrive/ASX annual reports/2014 (1655 firms)/add14.pdf', '/content/drive/MyDrive/ASX annual reports/2014 (1655 firms)/aeb14.pdf', '/content/drive/MyDrive/ASX annual reports/2014 (1655 firms)/aed14.pdf', '/content/drive/MyDrive/ASX annual reports/2014 (1655 firms)/awd14.pdf', '/content/drive/MyDrive/ASX annual reports/2014 (1655 firms)/azz14.pdf', '/content/drive/MyDrive/ASX annual reports/2014 (1655 firms)/aek14.pdf', '/content/drive/MyDrive/ASX annual reports/2014 (1655 firms)/aal14.pdf', '/content/drive/MyDrive/ASX annual reports/2014 (1655 firms)/avd14.pdf', '/content/drive/MyDrive/ASX annual reports/2014 (1655 firms)/afr14.pdf', '/content/drive/MyDrive/ASX annual reports/2014 (1655 firms)/age14.pdf', '/content/drive/MyDrive/ASX annual reports/2014 (1655 firms)/ajq14.pdf', '/content/drive/MyDrive/ASX annual reports/2014 (1655 firms)/aem14.pdf', '/content/drive/MyDrive/ASX annual reports/2014 (1655 firms)/aok14.pdf', '/content/drive/MyDrive/ASX annual reports/2014 (1655 firms)/aee14.pdf', '/content/drive/MyDrive/ASX annual reports/2014 (1655 firms)/aoc14.pdf', '/content/drive/MyDrive/ASX annual reports/2014 (1655 firms)/apy14.pdf', '/content/drive/MyDrive/ASX annual reports/2014 (1655 firms)/akk14.pdf', '/content/drive/MyDrive/ASX annual reports/2014 (1655 firms)/bnd14.pdf', '/content/drive/MyDrive/ASX annual reports/2014 (1655 firms)/bkp14.pdf', '/content/drive/MyDrive/ASX annual reports/2014 (1655 firms)/arw14.pdf', '/content/drive/MyDrive/ASX annual reports/2014 (1655 firms)/awe14.pdf', '/content/drive/MyDrive/ASX annual reports/2014 (1655 firms)/blr14.pdf', '/content/drive/MyDrive/ASX annual reports/2014 (1655 firms)/bas14.pdf', '/content/drive/MyDrive/ASX annual reports/2014 (1655 firms)/bsp14.pdf', '/content/drive/MyDrive/ASX annual reports/2014 (1655 firms)/bgg14.pdf', '/content/drive/MyDrive/ASX annual reports/2014 (1655 firms)/blz14.pdf', '/content/drive/MyDrive/ASX annual reports/2014 (1655 firms)/bpt14.pdf', '/content/drive/MyDrive/ASX annual reports/2014 (1655 firms)/bnt14.pdf', '/content/drive/MyDrive/ASX annual reports/2014 (1655 firms)/bky14.pdf', '/content/drive/MyDrive/ASX annual reports/2014 (1655 firms)/bul14.pdf', '/content/drive/MyDrive/ASX annual reports/2014 (1655 firms)/cuu14.pdf', '/content/drive/MyDrive/ASX annual reports/2014 (1655 firms)/aqo14.pdf', '/content/drive/MyDrive/ASX annual reports/2014 (1655 firms)/bur14.pdf', '/content/drive/MyDrive/ASX annual reports/2014 (1655 firms)/bru14.pdf', '/content/drive/MyDrive/ASX annual reports/2014 (1655 firms)/buy14.pdf', '/content/drive/MyDrive/ASX annual reports/2014 (1655 firms)/bye14.pdf', '/content/drive/MyDrive/ASX annual reports/2014 (1655 firms)/cnx14.pdf', '/content/drive/MyDrive/ASX annual reports/2014 (1655 firms)/cel14.pdf', '/content/drive/MyDrive/ASX annual reports/2014 (1655 firms)/cxu14.pdf', '/content/drive/MyDrive/ASX annual reports/2014 (1655 firms)/ctp14.pdf', '/content/drive/MyDrive/ASX annual reports/2014 (1655 firms)/cvn14.pdf', '/content/drive/MyDrive/ASX annual reports/2014 (1655 firms)/ces14.pdf', '/content/drive/MyDrive/ASX annual reports/2014 (1655 firms)/ctx14.pdf', '/content/drive/MyDrive/ASX annual reports/2014 (1655 firms)/ctr14.pdf', '/content/drive/MyDrive/ASX annual reports/2014 (1655 firms)/cpl14.pdf', '/content/drive/MyDrive/ASX annual reports/2014 (1655 firms)/coi14.pdf', '/content/drive/MyDrive/ASX annual reports/2014 (1655 firms)/cok14.pdf', '/content/drive/MyDrive/ASX annual reports/2014 (1655 firms)/ccc14.pdf', '/content/drive/MyDrive/ASX annual reports/2014 (1655 firms)/cmt14.pdf', '/content/drive/MyDrive/ASX annual reports/2014 (1655 firms)/cza14.pdf', '/content/drive/MyDrive/ASX annual reports/2014 (1655 firms)/csp14.pdf', '/content/drive/MyDrive/ASX annual reports/2014 (1655 firms)/ckk14.pdf', '/content/drive/MyDrive/ASX annual reports/2014 (1655 firms)/ccj14.pdf', '/content/drive/MyDrive/ASX annual reports/2014 (1655 firms)/coe14.pdf', '/content/drive/MyDrive/ASX annual reports/2014 (1655 firms)/cqc14.pdf', '/content/drive/MyDrive/ASX annual reports/2014 (1655 firms)/dte14.pdf', '/content/drive/MyDrive/ASX annual reports/2014 (1655 firms)/dyl14.pdf', '/content/drive/MyDrive/ASX annual reports/2014 (1655 firms)/eer14.pdf', '/content/drive/MyDrive/ASX annual reports/2014 (1655 firms)/ede14.pdf', '/content/drive/MyDrive/ASX annual reports/2014 (1655 firms)/eaf14.pdf', '/content/drive/MyDrive/ASX annual reports/2014 (1655 firms)/dls14.pdf', '/content/drive/MyDrive/ASX annual reports/2014 (1655 firms)/exr14.pdf', '/content/drive/MyDrive/ASX annual reports/2014 (1655 firms)/eeg14.pdf', '/content/drive/MyDrive/ASX annual reports/2014 (1655 firms)/emr14.pdf', '/content/drive/MyDrive/ASX annual reports/2014 (1655 firms)/elk14.pdf', '/content/drive/MyDrive/ASX annual reports/2014 (1655 firms)/enx14.pdf', '/content/drive/MyDrive/ASX annual reports/2014 (1655 firms)/eme14.pdf', '/content/drive/MyDrive/ASX annual reports/2014 (1655 firms)/emx14.pdf', '/content/drive/MyDrive/ASX annual reports/2014 (1655 firms)/cue14.pdf', '/content/drive/MyDrive/ASX annual reports/2014 (1655 firms)/ema14.pdf', '/content/drive/MyDrive/ASX annual reports/2014 (1655 firms)/epm14.pdf', '/content/drive/MyDrive/ASX annual reports/2014 (1655 firms)/ete14.pdf', '/content/drive/MyDrive/ASX annual reports/2014 (1655 firms)/eve14.pdf', '/content/drive/MyDrive/ASX annual reports/2014 (1655 firms)/enu14.pdf', '/content/drive/MyDrive/ASX annual reports/2014 (1655 firms)/fse14.pdf', '/content/drive/MyDrive/ASX annual reports/2014 (1655 firms)/exe14.pdf', '/content/drive/MyDrive/ASX annual reports/2014 (1655 firms)/era14.pdf', '/content/drive/MyDrive/ASX annual reports/2014 (1655 firms)/fte14.pdf', '/content/drive/MyDrive/ASX annual reports/2014 (1655 firms)/fzr14.pdf', '/content/drive/MyDrive/ASX annual reports/2014 (1655 firms)/gal14.pdf', '/content/drive/MyDrive/ASX annual reports/2014 (1655 firms)/eqx14.pdf', '/content/drive/MyDrive/ASX annual reports/2014 (1655 firms)/gbx14.pdf', '/content/drive/MyDrive/ASX annual reports/2014 (1655 firms)/gll14.pdf', '/content/drive/MyDrive/ASX annual reports/2014 (1655 firms)/far14.pdf', '/content/drive/MyDrive/ASX annual reports/2014 (1655 firms)/gge14.pdf', '/content/drive/MyDrive/ASX annual reports/2014 (1655 firms)/grv14.pdf', '/content/drive/MyDrive/ASX annual reports/2014 (1655 firms)/ggx14.pdf', '/content/drive/MyDrive/ASX annual reports/2014 (1655 firms)/hog14.pdf', '/content/drive/MyDrive/ASX annual reports/2014 (1655 firms)/gbp14.pdf', '/content/drive/MyDrive/ASX annual reports/2014 (1655 firms)/hpr14.pdf', '/content/drive/MyDrive/ASX annual reports/2014 (1655 firms)/guf14.pdf', '/content/drive/MyDrive/ASX annual reports/2014 (1655 firms)/ikw14.pdf', '/content/drive/MyDrive/ASX annual reports/2014 (1655 firms)/iog14.pdf', '/content/drive/MyDrive/ASX annual reports/2014 (1655 firms)/iec14.pdf', '/content/drive/MyDrive/ASX annual reports/2014 (1655 firms)/hzn14.pdf', '/content/drive/MyDrive/ASX annual reports/2014 (1655 firms)/ivr14.pdf', '/content/drive/MyDrive/ASX annual reports/2014 (1655 firms)/icn14.pdf', '/content/drive/MyDrive/ASX annual reports/2014 (1655 firms)/jpr14.pdf', '/content/drive/MyDrive/ASX annual reports/2014 (1655 firms)/icx14.pdf', '/content/drive/MyDrive/ASX annual reports/2014 (1655 firms)/krl14.pdf', '/content/drive/MyDrive/ASX annual reports/2014 (1655 firms)/ipb14.pdf', '/content/drive/MyDrive/ASX annual reports/2014 (1655 firms)/key14.pdf', '/content/drive/MyDrive/ASX annual reports/2014 (1655 firms)/kpl14.pdf', '/content/drive/MyDrive/ASX annual reports/2014 (1655 firms)/kko14.pdf', '/content/drive/MyDrive/ASX annual reports/2014 (1655 firms)/kar14.pdf', '/content/drive/MyDrive/ASX annual reports/2014 (1655 firms)/jka14.pdf', '/content/drive/MyDrive/ASX annual reports/2014 (1655 firms)/lko14.pdf', '/content/drive/MyDrive/ASX annual reports/2014 (1655 firms)/lam14.pdf', '/content/drive/MyDrive/ASX annual reports/2014 (1655 firms)/lng14.pdf', '/content/drive/MyDrive/ASX annual reports/2014 (1655 firms)/kik14.pdf', '/content/drive/MyDrive/ASX annual reports/2014 (1655 firms)/ler14.pdf', '/content/drive/MyDrive/ASX annual reports/2014 (1655 firms)/lgo14.pdf', '/content/drive/MyDrive/ASX annual reports/2014 (1655 firms)/lio14.pdf', '/content/drive/MyDrive/ASX annual reports/2014 (1655 firms)/mpe14.pdf', '/content/drive/MyDrive/ASX annual reports/2014 (1655 firms)/mbc14.pdf', '/content/drive/MyDrive/ASX annual reports/2014 (1655 firms)/lnr14.pdf', '/content/drive/MyDrive/ASX annual reports/2014 (1655 firms)/mey14.pdf', '/content/drive/MyDrive/ASX annual reports/2014 (1655 firms)/mae14.pdf', '/content/drive/MyDrive/ASX annual reports/2014 (1655 firms)/mhc14.pdf', '/content/drive/MyDrive/ASX annual reports/2014 (1655 firms)/meu14.pdf', '/content/drive/MyDrive/ASX annual reports/2014 (1655 firms)/mce14.pdf', '/content/drive/MyDrive/ASX annual reports/2014 (1655 firms)/mmr14.pdf', '/content/drive/MyDrive/ASX annual reports/2014 (1655 firms)/meo14.pdf', '/content/drive/MyDrive/ASX annual reports/2014 (1655 firms)/mel14.pdf', '/content/drive/MyDrive/ASX annual reports/2014 (1655 firms)/mte14.pdf', '/content/drive/MyDrive/ASX annual reports/2014 (1655 firms)/mrm14.pdf', '/content/drive/MyDrive/ASX annual reports/2014 (1655 firms)/mbt14.pdf', '/content/drive/MyDrive/ASX annual reports/2014 (1655 firms)/mou14.pdf', '/content/drive/MyDrive/ASX annual reports/2014 (1655 firms)/mpo14.pdf', '/content/drive/MyDrive/ASX annual reports/2014 (1655 firms)/mrv14.pdf', '/content/drive/MyDrive/ASX annual reports/2014 (1655 firms)/moz14.pdf', '/content/drive/MyDrive/ASX annual reports/2014 (1655 firms)/nfl14.pdf', '/content/drive/MyDrive/ASX annual reports/2014 (1655 firms)/nen14.pdf', '/content/drive/MyDrive/ASX annual reports/2014 (1655 firms)/nms14.pdf', '/content/drive/MyDrive/ASX annual reports/2014 (1655 firms)/nae14.pdf', '/content/drive/MyDrive/ASX annual reports/2014 (1655 firms)/nhc14.pdf', '/content/drive/MyDrive/ASX annual reports/2014 (1655 firms)/nho14.pdf', '/content/drive/MyDrive/ASX annual reports/2014 (1655 firms)/nse14.pdf', '/content/drive/MyDrive/ASX annual reports/2014 (1655 firms)/nzo14.pdf', '/content/drive/MyDrive/ASX annual reports/2014 (1655 firms)/nru14.pdf', '/content/drive/MyDrive/ASX annual reports/2014 (1655 firms)/ngy14.pdf', '/content/drive/MyDrive/ASX annual reports/2014 (1655 firms)/nwe14.pdf', '/content/drive/MyDrive/ASX annual reports/2014 (1655 firms)/ndo14.pdf', '/content/drive/MyDrive/ASX annual reports/2014 (1655 firms)/oxx14.pdf', '/content/drive/MyDrive/ASX annual reports/2014 (1655 firms)/odn14.pdf', '/content/drive/MyDrive/ASX annual reports/2014 (1655 firms)/ody14.pdf', '/content/drive/MyDrive/ASX annual reports/2014 (1655 firms)/ogi14.pdf', '/content/drive/MyDrive/ASX annual reports/2014 (1655 firms)/obl14.pdf', '/content/drive/MyDrive/ASX annual reports/2014 (1655 firms)/osh14.pdf', '/content/drive/MyDrive/ASX annual reports/2014 (1655 firms)/oex14.pdf', '/content/drive/MyDrive/ASX annual reports/2014 (1655 firms)/oeg14.pdf', '/content/drive/MyDrive/ASX annual reports/2014 (1655 firms)/org14.pdf', '/content/drive/MyDrive/ASX annual reports/2014 (1655 firms)/ote14.pdf', '/content/drive/MyDrive/ASX annual reports/2014 (1655 firms)/oel14.pdf', '/content/drive/MyDrive/ASX annual reports/2014 (1655 firms)/pxr14.pdf', '/content/drive/MyDrive/ASX annual reports/2014 (1655 firms)/pzc14.pdf', '/content/drive/MyDrive/ASX annual reports/2014 (1655 firms)/pdn14.pdf', '/content/drive/MyDrive/ASX annual reports/2014 (1655 firms)/ppp14.pdf', '/content/drive/MyDrive/ASX annual reports/2014 (1655 firms)/pnl14.pdf', '/content/drive/MyDrive/ASX annual reports/2014 (1655 firms)/paw14.pdf', '/content/drive/MyDrive/ASX annual reports/2014 (1655 firms)/pko14.pdf', '/content/drive/MyDrive/ASX annual reports/2014 (1655 firms)/psa14.pdf', '/content/drive/MyDrive/ASX annual reports/2014 (1655 firms)/prl14.pdf', '/content/drive/MyDrive/ASX annual reports/2014 (1655 firms)/pve14.pdf', '/content/drive/MyDrive/ASX annual reports/2014 (1655 firms)/pgs14.pdf', '/content/drive/MyDrive/ASX annual reports/2014 (1655 firms)/pez14.pdf', '/content/drive/MyDrive/ASX annual reports/2014 (1655 firms)/pym14.pdf', '/content/drive/MyDrive/ASX annual reports/2014 (1655 firms)/pvd14.pdf', '/content/drive/MyDrive/ASX annual reports/2014 (1655 firms)/qpn14.pdf', '/content/drive/MyDrive/ASX annual reports/2014 (1655 firms)/rtd14.pdf', '/content/drive/MyDrive/ASX annual reports/2014 (1655 firms)/rrs14.pdf', '/content/drive/MyDrive/ASX annual reports/2014 (1655 firms)/raw14.pdf', '/content/drive/MyDrive/ASX annual reports/2014 (1655 firms)/ryg14.pdf', '/content/drive/MyDrive/ASX annual reports/2014 (1655 firms)/rle14.pdf', '/content/drive/MyDrive/ASX annual reports/2014 (1655 firms)/rfe14.pdf', '/content/drive/MyDrive/ASX annual reports/2014 (1655 firms)/rmp14.pdf', '/content/drive/MyDrive/ASX annual reports/2014 (1655 firms)/rog14.pdf', '/content/drive/MyDrive/ASX annual reports/2014 (1655 firms)/rsl14.pdf', '/content/drive/MyDrive/ASX annual reports/2014 (1655 firms)/res14.pdf', '/content/drive/MyDrive/ASX annual reports/2014 (1655 firms)/rnu14.pdf', '/content/drive/MyDrive/ASX annual reports/2014 (1655 firms)/rey14.pdf', '/content/drive/MyDrive/ASX annual reports/2014 (1655 firms)/slt14.pdf', '/content/drive/MyDrive/ASX annual reports/2014 (1655 firms)/ssn14.pdf', '/content/drive/MyDrive/ASX annual reports/2014 (1655 firms)/scy14.pdf', '/content/drive/MyDrive/ASX annual reports/2014 (1655 firms)/sxs14.pdf', '/content/drive/MyDrive/ASX annual reports/2014 (1655 firms)/sto14.pdf', '/content/drive/MyDrive/ASX annual reports/2014 (1655 firms)/sxy14.pdf', '/content/drive/MyDrive/ASX annual reports/2014 (1655 firms)/sps14.pdf', '/content/drive/MyDrive/ASX annual reports/2014 (1655 firms)/seh14.pdf', '/content/drive/MyDrive/ASX annual reports/2014 (1655 firms)/smr14.pdf', '/content/drive/MyDrive/ASX annual reports/2014 (1655 firms)/she14.pdf', '/content/drive/MyDrive/ASX annual reports/2014 (1655 firms)/rum14.pdf', '/content/drive/MyDrive/ASX annual reports/2014 (1655 firms)/smm14.pdf', '/content/drive/MyDrive/ASX annual reports/2014 (1655 firms)/sxa14.pdf', '/content/drive/MyDrive/ASX annual reports/2014 (1655 firms)/sww14.pdf', '/content/drive/MyDrive/ASX annual reports/2014 (1655 firms)/sny14.pdf', '/content/drive/MyDrive/ASX annual reports/2014 (1655 firms)/stx14.pdf', '/content/drive/MyDrive/ASX annual reports/2014 (1655 firms)/sys14.pdf', '/content/drive/MyDrive/ASX annual reports/2014 (1655 firms)/sur14.pdf', '/content/drive/MyDrive/ASX annual reports/2014 (1655 firms)/tpt14.pdf', '/content/drive/MyDrive/ASX annual reports/2014 (1655 firms)/tpd14.pdf', '/content/drive/MyDrive/ASX annual reports/2014 (1655 firms)/swe14.pdf', '/content/drive/MyDrive/ASX annual reports/2014 (1655 firms)/tte14.pdf', '/content/drive/MyDrive/ASX annual reports/2014 (1655 firms)/tap14.pdf', '/content/drive/MyDrive/ASX annual reports/2014 (1655 firms)/tmk14.pdf', '/content/drive/MyDrive/ASX annual reports/2014 (1655 firms)/sea14.pdf', '/content/drive/MyDrive/ASX annual reports/2014 (1655 firms)/ttn14.pdf', '/content/drive/MyDrive/ASX annual reports/2014 (1655 firms)/tex14.pdf', '/content/drive/MyDrive/ASX annual reports/2014 (1655 firms)/tsv14.pdf', '/content/drive/MyDrive/ASX annual reports/2014 (1655 firms)/tou14.pdf', '/content/drive/MyDrive/ASX annual reports/2014 (1655 firms)/teg14.pdf', '/content/drive/MyDrive/ASX annual reports/2014 (1655 firms)/uul14.pdf', '/content/drive/MyDrive/ASX annual reports/2014 (1655 firms)/toe14.pdf', '/content/drive/MyDrive/ASX annual reports/2014 (1655 firms)/tnp14.pdf', '/content/drive/MyDrive/ASX annual reports/2014 (1655 firms)/unv14.pdf', '/content/drive/MyDrive/ASX annual reports/2014 (1655 firms)/ueq14.pdf', '/content/drive/MyDrive/ASX annual reports/2014 (1655 firms)/tyk14.pdf', '/content/drive/MyDrive/ASX annual reports/2014 (1655 firms)/usa14.pdf', '/content/drive/MyDrive/ASX annual reports/2014 (1655 firms)/vmx14.pdf', '/content/drive/MyDrive/ASX annual reports/2014 (1655 firms)/uxa14.pdf', '/content/drive/MyDrive/ASX annual reports/2014 (1655 firms)/sol14.pdf', '/content/drive/MyDrive/ASX annual reports/2014 (1655 firms)/wcc14.pdf', '/content/drive/MyDrive/ASX annual reports/2014 (1655 firms)/wof14.pdf', '/content/drive/MyDrive/ASX annual reports/2014 (1655 firms)/whe14.pdf', '/content/drive/MyDrive/ASX annual reports/2014 (1655 firms)/wec14.pdf', '/content/drive/MyDrive/ASX annual reports/2014 (1655 firms)/whn14.pdf', '/content/drive/MyDrive/ASX annual reports/2014 (1655 firms)/xst14.pdf', '/content/drive/MyDrive/ASX annual reports/2014 (1655 firms)/whc14.pdf', '/content/drive/MyDrive/ASX annual reports/2014 (1655 firms)/wpl14.pdf', '/content/drive/MyDrive/ASX annual reports/2014 (1655 firms)/zta14.pdf', '/content/drive/MyDrive/ASX annual reports/2014 (1655 firms)/yal14.pdf', '/content/drive/MyDrive/ASX annual reports/2014 (1655 firms)/wor14.pdf', '/content/drive/MyDrive/ASX annual reports/2014 (1655 firms)/zeu14.pdf', '/content/drive/MyDrive/ASX annual reports/2014 (1655 firms)/znz14.pdf', '/content/drive/MyDrive/ASX annual reports/2014 (1655 firms)/acs14.pdf', '/content/drive/MyDrive/ASX annual reports/2014 (1655 firms)/ddd14.pdf', '/content/drive/MyDrive/ASX annual reports/2014 (1655 firms)/ayc14.pdf', '/content/drive/MyDrive/ASX annual reports/2014 (1655 firms)/abc14.pdf', '/content/drive/MyDrive/ASX annual reports/2014 (1655 firms)/adn14.pdf', '/content/drive/MyDrive/ASX annual reports/2014 (1655 firms)/aiv14.pdf', '/content/drive/MyDrive/ASX annual reports/2014 (1655 firms)/abu14.pdf', '/content/drive/MyDrive/ASX annual reports/2014 (1655 firms)/ady14.pdf', '/content/drive/MyDrive/ASX annual reports/2014 (1655 firms)/agr14.pdf', '/content/drive/MyDrive/ASX annual reports/2014 (1655 firms)/aqg14.pdf', '/content/drive/MyDrive/ASX annual reports/2014 (1655 firms)/aly14.pdf', '/content/drive/MyDrive/ASX annual reports/2014 (1655 firms)/aby14.pdf', '/content/drive/MyDrive/ASX annual reports/2014 (1655 firms)/aqr14.pdf', '/content/drive/MyDrive/ASX annual reports/2014 (1655 firms)/aai14.pdf', '/content/drive/MyDrive/ASX annual reports/2014 (1655 firms)/ajx14.pdf', '/content/drive/MyDrive/ASX annual reports/2014 (1655 firms)/ahq14.pdf', '/content/drive/MyDrive/ASX annual reports/2014 (1655 firms)/auq14.pdf', '/content/drive/MyDrive/ASX annual reports/2014 (1655 firms)/aqi14.pdf', '/content/drive/MyDrive/ASX annual reports/2014 (1655 firms)/alk14.pdf', '/content/drive/MyDrive/ASX annual reports/2014 (1655 firms)/ags14.pdf', '/content/drive/MyDrive/ASX annual reports/2014 (1655 firms)/aoh14.pdf', '/content/drive/MyDrive/ASX annual reports/2014 (1655 firms)/aym14.pdf', '/content/drive/MyDrive/ASX annual reports/2014 (1655 firms)/ajm14.pdf', '/content/drive/MyDrive/ASX annual reports/2014 (1655 firms)/axz14.pdf', '/content/drive/MyDrive/ASX annual reports/2014 (1655 firms)/awc14.pdf', '/content/drive/MyDrive/ASX annual reports/2014 (1655 firms)/amc14.pdf', '/content/drive/MyDrive/ASX annual reports/2014 (1655 firms)/ayr14.pdf', '/content/drive/MyDrive/ASX annual reports/2014 (1655 firms)/aar14.pdf', '/content/drive/MyDrive/ASX annual reports/2014 (1655 firms)/agg14.pdf', '/content/drive/MyDrive/ASX annual reports/2014 (1655 firms)/ahr14.pdf', '/content/drive/MyDrive/ASX annual reports/2014 (1655 firms)/azy14.pdf', '/content/drive/MyDrive/ASX annual reports/2014 (1655 firms)/aqq14.pdf', '/content/drive/MyDrive/ASX annual reports/2014 (1655 firms)/awv14.pdf', '/content/drive/MyDrive/ASX annual reports/2014 (1655 firms)/atm14.pdf', '/content/drive/MyDrive/ASX annual reports/2014 (1655 firms)/aqp14.pdf', '/content/drive/MyDrive/ASX annual reports/2014 (1655 firms)/ano14.pdf', '/content/drive/MyDrive/ASX annual reports/2014 (1655 firms)/aru14.pdf', '/content/drive/MyDrive/ASX annual reports/2014 (1655 firms)/aon14.pdf', '/content/drive/MyDrive/ASX annual reports/2014 (1655 firms)/awo14.pdf', '/content/drive/MyDrive/ASX annual reports/2014 (1655 firms)/arx14.pdf', '/content/drive/MyDrive/ASX annual reports/2014 (1655 firms)/are14.pdf', '/content/drive/MyDrive/ASX annual reports/2014 (1655 firms)/axt14.pdf', '/content/drive/MyDrive/ASX annual reports/2014 (1655 firms)/avk14.pdf', '/content/drive/MyDrive/ASX annual reports/2014 (1655 firms)/axe14.pdf', '/content/drive/MyDrive/ASX annual reports/2014 (1655 firms)/ahk14.pdf', '/content/drive/MyDrive/ASX annual reports/2014 (1655 firms)/ard14.pdf', '/content/drive/MyDrive/ASX annual reports/2014 (1655 firms)/arv14.pdf', '/content/drive/MyDrive/ASX annual reports/2014 (1655 firms)/ajy14.pdf', '/content/drive/MyDrive/ASX annual reports/2014 (1655 firms)/aaj14.pdf', '/content/drive/MyDrive/ASX annual reports/2014 (1655 firms)/ajr14.pdf', '/content/drive/MyDrive/ASX annual reports/2014 (1655 firms)/agy14.pdf', '/content/drive/MyDrive/ASX annual reports/2014 (1655 firms)/aro14.pdf', '/content/drive/MyDrive/ASX annual reports/2014 (1655 firms)/akm14.pdf', '/content/drive/MyDrive/ASX annual reports/2014 (1655 firms)/azq14.pdf', '/content/drive/MyDrive/ASX annual reports/2014 (1655 firms)/ahn14.pdf', '/content/drive/MyDrive/ASX annual reports/2014 (1655 firms)/ari14.pdf', '/content/drive/MyDrive/ASX annual reports/2014 (1655 firms)/atr14.pdf', '/content/drive/MyDrive/ASX annual reports/2014 (1655 firms)/ati14.pdf', '/content/drive/MyDrive/ASX annual reports/2014 (1655 firms)/acp14.pdf', '/content/drive/MyDrive/ASX annual reports/2014 (1655 firms)/aya14.pdf', '/content/drive/MyDrive/ASX annual reports/2014 (1655 firms)/atu14.pdf', '/content/drive/MyDrive/ASX annual reports/2014 (1655 firms)/ami14.pdf', '/content/drive/MyDrive/ASX annual reports/2014 (1655 firms)/auk14.pdf', '/content/drive/MyDrive/ASX annual reports/2014 (1655 firms)/ago14.pdf', '/content/drive/MyDrive/ASX annual reports/2014 (1655 firms)/aou14.pdf', '/content/drive/MyDrive/ASX annual reports/2014 (1655 firms)/anw14.pdf', '/content/drive/MyDrive/ASX annual reports/2014 (1655 firms)/auc14.pdf', '/content/drive/MyDrive/ASX annual reports/2014 (1655 firms)/arm14.pdf', '/content/drive/MyDrive/ASX annual reports/2014 (1655 firms)/aiw14.pdf', '/content/drive/MyDrive/ASX annual reports/2014 (1655 firms)/asl14.pdf', '/content/drive/MyDrive/ASX annual reports/2014 (1655 firms)/aqd14.pdf', '/content/drive/MyDrive/ASX annual reports/2014 (1655 firms)/aoa14.pdf', '/content/drive/MyDrive/ASX annual reports/2014 (1655 firms)/arh14.pdf', '/content/drive/MyDrive/ASX annual reports/2014 (1655 firms)/agd14.pdf', '/content/drive/MyDrive/ASX annual reports/2014 (1655 firms)/apg14.pdf', '/content/drive/MyDrive/ASX annual reports/2014 (1655 firms)/anb14.pdf', '/content/drive/MyDrive/ASX annual reports/2014 (1655 firms)/azc14.pdf', '/content/drive/MyDrive/ASX annual reports/2014 (1655 firms)/aka14.pdf', '/content/drive/MyDrive/ASX annual reports/2014 (1655 firms)/auz14.pdf', '/content/drive/MyDrive/ASX annual reports/2014 (1655 firms)/abx14.pdf', '/content/drive/MyDrive/ASX annual reports/2014 (1655 firms)/avz14.pdf', '/content/drive/MyDrive/ASX annual reports/2014 (1655 firms)/avb14.pdf', '/content/drive/MyDrive/ASX annual reports/2014 (1655 firms)/avi14.pdf', '/content/drive/MyDrive/ASX annual reports/2014 (1655 firms)/aqc14.pdf', '/content/drive/MyDrive/ASX annual reports/2014 (1655 firms)/bmn14.pdf', '/content/drive/MyDrive/ASX annual reports/2014 (1655 firms)/azk14.pdf', '/content/drive/MyDrive/ASX annual reports/2014 (1655 firms)/axc14.pdf', '/content/drive/MyDrive/ASX annual reports/2014 (1655 firms)/azs14.pdf', '/content/drive/MyDrive/ASX annual reports/2014 (1655 firms)/azm14.pdf', '/content/drive/MyDrive/ASX annual reports/2014 (1655 firms)/avq14.pdf', '/content/drive/MyDrive/ASX annual reports/2014 (1655 firms)/bmb14.pdf', '/content/drive/MyDrive/ASX annual reports/2014 (1655 firms)/bsm14.pdf', '/content/drive/MyDrive/ASX annual reports/2014 (1655 firms)/bsr14.pdf', '/content/drive/MyDrive/ASX annual reports/2014 (1655 firms)/bar14.pdf', '/content/drive/MyDrive/ASX annual reports/2014 (1655 firms)/brl14.pdf', '/content/drive/MyDrive/ASX annual reports/2014 (1655 firms)/bbx14.pdf', '/content/drive/MyDrive/ASX annual reports/2014 (1655 firms)/bcd14.pdf', '/content/drive/MyDrive/ASX annual reports/2014 (1655 firms)/bse14.pdf', '/content/drive/MyDrive/ASX annual reports/2014 (1655 firms)/bau14.pdf', '/content/drive/MyDrive/ASX annual reports/2014 (1655 firms)/bci14.pdf', '/content/drive/MyDrive/ASX annual reports/2014 (1655 firms)/bcn14.pdf', '/content/drive/MyDrive/ASX annual reports/2014 (1655 firms)/bgs14.pdf', '/content/drive/MyDrive/ASX annual reports/2014 (1655 firms)/bfe14.pdf', '/content/drive/MyDrive/ASX annual reports/2014 (1655 firms)/bmz14.pdf', '/content/drive/MyDrive/ASX annual reports/2014 (1655 firms)/bdr14.pdf', '/content/drive/MyDrive/ASX annual reports/2014 (1655 firms)/brd14.pdf', '/content/drive/MyDrive/ASX annual reports/2014 (1655 firms)/bis14.pdf', '/content/drive/MyDrive/ASX annual reports/2014 (1655 firms)/bgh14.pdf', '/content/drive/MyDrive/ASX annual reports/2014 (1655 firms)/btr14.pdf', '/content/drive/MyDrive/ASX annual reports/2014 (1655 firms)/bdi14.pdf', '/content/drive/MyDrive/ASX annual reports/2014 (1655 firms)/bhp14.pdf', '/content/drive/MyDrive/ASX annual reports/2014 (1655 firms)/boa14.pdf', '/content/drive/MyDrive/ASX annual reports/2014 (1655 firms)/bmg14.pdf', '/content/drive/MyDrive/ASX annual reports/2014 (1655 firms)/bbr14.pdf', '/content/drive/MyDrive/ASX annual reports/2014 (1655 firms)/bld14.pdf', '/content/drive/MyDrive/ASX annual reports/2014 (1655 firms)/bsl14.pdf', '/content/drive/MyDrive/ASX annual reports/2014 (1655 firms)/boc14.pdf', '/content/drive/MyDrive/ASX annual reports/2014 (1655 firms)/boe14.pdf', '/content/drive/MyDrive/ASX annual reports/2014 (1655 firms)/bgd14.pdf', '/content/drive/MyDrive/ASX annual reports/2014 (1655 firms)/bml14.pdf', '/content/drive/MyDrive/ASX annual reports/2014 (1655 firms)/bly14.pdf', '/content/drive/MyDrive/ASX annual reports/2014 (1655 firms)/bzl14.pdf', '/content/drive/MyDrive/ASX annual reports/2014 (1655 firms)/brb14.pdf', '/content/drive/MyDrive/ASX annual reports/2014 (1655 firms)/bkw14.pdf', '/content/drive/MyDrive/ASX annual reports/2014 (1655 firms)/bpl14.pdf', '/content/drive/MyDrive/ASX annual reports/2014 (1655 firms)/bnr14.pdf', '/content/drive/MyDrive/ASX annual reports/2014 (1655 firms)/cbs14.pdf', '/content/drive/MyDrive/ASX annual reports/2014 (1655 firms)/bux14.pdf', '/content/drive/MyDrive/ASX annual reports/2014 (1655 firms)/bck14.pdf', '/content/drive/MyDrive/ASX annual reports/2014 (1655 firms)/cbx14.pdf', '/content/drive/MyDrive/ASX annual reports/2014 (1655 firms)/cmy14.pdf', '/content/drive/MyDrive/ASX annual reports/2014 (1655 firms)/bmy14.pdf', '/content/drive/MyDrive/ASX annual reports/2014 (1655 firms)/caa14.pdf', '/content/drive/MyDrive/ASX annual reports/2014 (1655 firms)/crj14.pdf', '/content/drive/MyDrive/ASX annual reports/2014 (1655 firms)/cad14.pdf', '/content/drive/MyDrive/ASX annual reports/2014 (1655 firms)/cvv14.pdf', '/content/drive/MyDrive/ASX annual reports/2014 (1655 firms)/crm14.pdf', '/content/drive/MyDrive/ASX annual reports/2014 (1655 firms)/cnq14.pdf', '/content/drive/MyDrive/ASX annual reports/2014 (1655 firms)/crb14.pdf', '/content/drive/MyDrive/ASX annual reports/2014 (1655 firms)/cav14.pdf', '/content/drive/MyDrive/ASX annual reports/2014 (1655 firms)/cfe14.pdf', '/content/drive/MyDrive/ASX annual reports/2014 (1655 firms)/cap14.pdf', '/content/drive/MyDrive/ASX annual reports/2014 (1655 firms)/ccz14.pdf', '/content/drive/MyDrive/ASX annual reports/2014 (1655 firms)/cdv14.pdf', '/content/drive/MyDrive/ASX annual reports/2014 (1655 firms)/czi14.pdf', '/content/drive/MyDrive/ASX annual reports/2014 (1655 firms)/cdt14.pdf', '/content/drive/MyDrive/ASX annual reports/2014 (1655 firms)/cnn14.pdf', '/content/drive/MyDrive/ASX annual reports/2014 (1655 firms)/cyl14.pdf', '/content/drive/MyDrive/ASX annual reports/2014 (1655 firms)/cdh14.pdf', '/content/drive/MyDrive/ASX annual reports/2014 (1655 firms)/cnl14.pdf', '/content/drive/MyDrive/ASX annual reports/2014 (1655 firms)/caz14.pdf', '/content/drive/MyDrive/ASX annual reports/2014 (1655 firms)/cto14.pdf', '/content/drive/MyDrive/ASX annual reports/2014 (1655 firms)/cys14.pdf', '/content/drive/MyDrive/ASX annual reports/2014 (1655 firms)/clz14.pdf', '/content/drive/MyDrive/ASX annual reports/2014 (1655 firms)/clv14.pdf', '/content/drive/MyDrive/ASX annual reports/2014 (1655 firms)/cly14.pdf', '/content/drive/MyDrive/ASX annual reports/2014 (1655 firms)/cxb14.pdf', '/content/drive/MyDrive/ASX annual reports/2014 (1655 firms)/chk14.pdf', '/content/drive/MyDrive/ASX annual reports/2014 (1655 firms)/ckl14.pdf', '/content/drive/MyDrive/ASX annual reports/2014 (1655 firms)/cdg14.pdf', '/content/drive/MyDrive/ASX annual reports/2014 (1655 firms)/cka14.pdf', '/content/drive/MyDrive/ASX annual reports/2014 (1655 firms)/cpd14.pdf', '/content/drive/MyDrive/ASX annual reports/2014 (1655 firms)/crl14.pdf', '/content/drive/MyDrive/ASX annual reports/2014 (1655 firms)/cdb14.pdf', '/content/drive/MyDrive/ASX annual reports/2014 (1655 firms)/cgi14.pdf', '/content/drive/MyDrive/ASX annual reports/2014 (1655 firms)/cgu14.pdf', '/content/drive/MyDrive/ASX annual reports/2014 (1655 firms)/cnj14.pdf', '/content/drive/MyDrive/ASX annual reports/2014 (1655 firms)/csd14.pdf', '/content/drive/MyDrive/ASX annual reports/2014 (1655 firms)/czn14.pdf', '/content/drive/MyDrive/ASX annual reports/2014 (1655 firms)/cse14.pdf', '/content/drive/MyDrive/ASX annual reports/2014 (1655 firms)/cyy14.pdf', '/content/drive/MyDrive/ASX annual reports/2014 (1655 firms)/cve14.pdf', '/content/drive/MyDrive/ASX annual reports/2014 (1655 firms)/cvg14.pdf', '/content/drive/MyDrive/ASX annual reports/2014 (1655 firms)/coy14.pdf', '/content/drive/MyDrive/ASX annual reports/2014 (1655 firms)/czr14.pdf', '/content/drive/MyDrive/ASX annual reports/2014 (1655 firms)/cxo14.pdf', '/content/drive/MyDrive/ASX annual reports/2014 (1655 firms)/cxx14.pdf', '/content/drive/MyDrive/ASX annual reports/2014 (1655 firms)/cgn14.pdf', '/content/drive/MyDrive/ASX annual reports/2014 (1655 firms)/crq14.pdf', '/content/drive/MyDrive/ASX annual reports/2014 (1655 firms)/cug14.pdf', '/content/drive/MyDrive/ASX annual reports/2014 (1655 firms)/cux14.pdf', '/content/drive/MyDrive/ASX annual reports/2014 (1655 firms)/cgm14.pdf', '/content/drive/MyDrive/ASX annual reports/2014 (1655 firms)/ctt14.pdf', '/content/drive/MyDrive/ASX annual reports/2014 (1655 firms)/cwh14.pdf', '/content/drive/MyDrive/ASX annual reports/2014 (1655 firms)/cas14.pdf', '/content/drive/MyDrive/ASX annual reports/2014 (1655 firms)/csr14.pdf', '/content/drive/MyDrive/ASX annual reports/2014 (1655 firms)/cul14.pdf', '/content/drive/MyDrive/ASX annual reports/2014 (1655 firms)/dau14.pdf', '/content/drive/MyDrive/ASX annual reports/2014 (1655 firms)/dtm14.pdf', '/content/drive/MyDrive/ASX annual reports/2014 (1655 firms)/dtr14.pdf', '/content/drive/MyDrive/ASX annual reports/2014 (1655 firms)/deg14.pdf', '/content/drive/MyDrive/ASX annual reports/2014 (1655 firms)/dsb14.pdf', '/content/drive/MyDrive/ASX annual reports/2014 (1655 firms)/dcn14.pdf', '/content/drive/MyDrive/ASX annual reports/2014 (1655 firms)/dgr14.pdf', '/content/drive/MyDrive/ASX annual reports/2014 (1655 firms)/daf14.pdf', '/content/drive/MyDrive/ASX annual reports/2014 (1655 firms)/dmi14.pdf', '/content/drive/MyDrive/ASX annual reports/2014 (1655 firms)/dis14.pdf', '/content/drive/MyDrive/ASX annual reports/2014 (1655 firms)/drx14.pdf', '/content/drive/MyDrive/ASX annual reports/2014 (1655 firms)/dme14.pdf', '/content/drive/MyDrive/ASX annual reports/2014 (1655 firms)/duo14.pdf', '/content/drive/MyDrive/ASX annual reports/2014 (1655 firms)/drg14.pdf', '/content/drive/MyDrive/ASX annual reports/2014 (1655 firms)/dml14.pdf', '/content/drive/MyDrive/ASX annual reports/2014 (1655 firms)/dle14.pdf', '/content/drive/MyDrive/ASX annual reports/2014 (1655 firms)/cdu14.pdf', '/content/drive/MyDrive/ASX annual reports/2014 (1655 firms)/dra14.pdf', '/content/drive/MyDrive/ASX annual reports/2014 (1655 firms)/dmg14.pdf', '/content/drive/MyDrive/ASX annual reports/2014 (1655 firms)/drm14.pdf', '/content/drive/MyDrive/ASX annual reports/2014 (1655 firms)/dgo14.pdf', '/content/drive/MyDrive/ASX annual reports/2014 (1655 firms)/enl14.pdf', '/content/drive/MyDrive/ASX annual reports/2014 (1655 firms)/dma14.pdf', '/content/drive/MyDrive/ASX annual reports/2014 (1655 firms)/drk14.pdf', '/content/drive/MyDrive/ASX annual reports/2014 (1655 firms)/ear14.pdf', '/content/drive/MyDrive/ASX annual reports/2014 (1655 firms)/efe14.pdf', '/content/drive/MyDrive/ASX annual reports/2014 (1655 firms)/dlx14.pdf', '/content/drive/MyDrive/ASX annual reports/2014 (1655 firms)/emh14.pdf', '/content/drive/MyDrive/ASX annual reports/2014 (1655 firms)/enr14.pdf', '/content/drive/MyDrive/ASX annual reports/2014 (1655 firms)/exm14.pdf', '/content/drive/MyDrive/ASX annual reports/2014 (1655 firms)/elm14.pdf', '/content/drive/MyDrive/ASX annual reports/2014 (1655 firms)/evn14.pdf', '/content/drive/MyDrive/ASX annual reports/2014 (1655 firms)/fcn14.pdf', '/content/drive/MyDrive/ASX annual reports/2014 (1655 firms)/fwl14.pdf', '/content/drive/MyDrive/ASX annual reports/2014 (1655 firms)/fel14.pdf', '/content/drive/MyDrive/ASX annual reports/2014 (1655 firms)/fcr14.pdf', '/content/drive/MyDrive/ASX annual reports/2014 (1655 firms)/fas14.pdf', '/content/drive/MyDrive/ASX annual reports/2014 (1655 firms)/exg14.pdf', '/content/drive/MyDrive/ASX annual reports/2014 (1655 firms)/feo14.pdf', '/content/drive/MyDrive/ASX annual reports/2014 (1655 firms)/gbg14.pdf', '/content/drive/MyDrive/ASX annual reports/2014 (1655 firms)/gpp14.pdf', '/content/drive/MyDrive/ASX annual reports/2014 (1655 firms)/glf14.pdf', '/content/drive/MyDrive/ASX annual reports/2014 (1655 firms)/gtr14.pdf', '/content/drive/MyDrive/ASX annual reports/2014 (1655 firms)/gpr14.pdf', '/content/drive/MyDrive/ASX annual reports/2014 (1655 firms)/gul14.pdf', '/content/drive/MyDrive/ASX annual reports/2014 (1655 firms)/gun14.pdf', '/content/drive/MyDrive/ASX annual reports/2014 (1655 firms)/gry14.pdf', '/content/drive/MyDrive/ASX annual reports/2014 (1655 firms)/hhm14.pdf', '/content/drive/MyDrive/ASX annual reports/2014 (1655 firms)/gmc14.pdf', '/content/drive/MyDrive/ASX annual reports/2014 (1655 firms)/hao14.pdf', '/content/drive/MyDrive/ASX annual reports/2014 (1655 firms)/gwr14.pdf', '/content/drive/MyDrive/ASX annual reports/2014 (1655 firms)/hav14.pdf', '/content/drive/MyDrive/ASX annual reports/2014 (1655 firms)/has14.pdf', '/content/drive/MyDrive/ASX annual reports/2014 (1655 firms)/hnr14.pdf', '/content/drive/MyDrive/ASX annual reports/2014 (1655 firms)/hrr14.pdf', '/content/drive/MyDrive/ASX annual reports/2014 (1655 firms)/hmx14.pdf', '/content/drive/MyDrive/ASX annual reports/2014 (1655 firms)/hfr14.pdf', '/content/drive/MyDrive/ASX annual reports/2014 (1655 firms)/hgo14.pdf', '/content/drive/MyDrive/ASX annual reports/2014 (1655 firms)/hig14.pdf', '/content/drive/MyDrive/ASX annual reports/2014 (1655 firms)/hdg14.pdf', '/content/drive/MyDrive/ASX annual reports/2014 (1655 firms)/hlx14.pdf', '/content/drive/MyDrive/ASX annual reports/2014 (1655 firms)/idm14.pdf', '/content/drive/MyDrive/ASX annual reports/2014 (1655 firms)/hdx14.pdf', '/content/drive/MyDrive/ASX annual reports/2014 (1655 firms)/irc14.pdf', '/content/drive/MyDrive/ASX annual reports/2014 (1655 firms)/iau14.pdf', '/content/drive/MyDrive/ASX annual reports/2014 (1655 firms)/hor14.pdf', '/content/drive/MyDrive/ASX annual reports/2014 (1655 firms)/ife14.pdf', '/content/drive/MyDrive/ASX annual reports/2014 (1655 firms)/jhx14.pdf', '/content/drive/MyDrive/ASX annual reports/2014 (1655 firms)/hch14.pdf', '/content/drive/MyDrive/ASX annual reports/2014 (1655 firms)/kso14.pdf', '/content/drive/MyDrive/ASX annual reports/2014 (1655 firms)/kpc14.pdf', '/content/drive/MyDrive/ASX annual reports/2014 (1655 firms)/kra14.pdf', '/content/drive/MyDrive/ASX annual reports/2014 (1655 firms)/kgd14.pdf', '/content/drive/MyDrive/ASX annual reports/2014 (1655 firms)/krb14.pdf', '/content/drive/MyDrive/ASX annual reports/2014 (1655 firms)/kbl14.pdf', '/content/drive/MyDrive/ASX annual reports/2014 (1655 firms)/lsa14.pdf', '/content/drive/MyDrive/ASX annual reports/2014 (1655 firms)/kne14.pdf', '/content/drive/MyDrive/ASX annual reports/2014 (1655 firms)/lrl14.pdf', '/content/drive/MyDrive/ASX annual reports/2014 (1655 firms)/knl14.pdf', '/content/drive/MyDrive/ASX annual reports/2014 (1655 firms)/lrr14.pdf', '/content/drive/MyDrive/ASX annual reports/2014 (1655 firms)/lml14.pdf', '/content/drive/MyDrive/ASX annual reports/2014 (1655 firms)/leg14.pdf', '/content/drive/MyDrive/ASX annual reports/2014 (1655 firms)/lin14.pdf', '/content/drive/MyDrive/ASX annual reports/2014 (1655 firms)/lby14.pdf', '/content/drive/MyDrive/ASX annual reports/2014 (1655 firms)/llo14.pdf', '/content/drive/MyDrive/ASX annual reports/2014 (1655 firms)/lgm14.pdf', '/content/drive/MyDrive/ASX annual reports/2014 (1655 firms)/ltx14.pdf', '/content/drive/MyDrive/ASX annual reports/2014 (1655 firms)/lyc14.pdf', '/content/drive/MyDrive/ASX annual reports/2014 (1655 firms)/mld14.pdf', '/content/drive/MyDrive/ASX annual reports/2014 (1655 firms)/lom14.pdf', '/content/drive/MyDrive/ASX annual reports/2014 (1655 firms)/ltr14.pdf', '/content/drive/MyDrive/ASX annual reports/2014 (1655 firms)/mgb14.pdf', '/content/drive/MyDrive/ASX annual reports/2014 (1655 firms)/mrp14.pdf', '/content/drive/MyDrive/ASX annual reports/2014 (1655 firms)/mah14.pdf', '/content/drive/MyDrive/ASX annual reports/2014 (1655 firms)/mgu14.pdf', '/content/drive/MyDrive/ASX annual reports/2014 (1655 firms)/lsr14.pdf', '/content/drive/MyDrive/ASX annual reports/2014 (1655 firms)/msr14.pdf', '/content/drive/MyDrive/ASX annual reports/2014 (1655 firms)/mau14.pdf', '/content/drive/MyDrive/ASX annual reports/2014 (1655 firms)/mgl14.pdf', '/content/drive/MyDrive/ASX annual reports/2014 (1655 firms)/mdd14.pdf', '/content/drive/MyDrive/ASX annual reports/2014 (1655 firms)/mtn14.pdf', '/content/drive/MyDrive/ASX annual reports/2014 (1655 firms)/mgy14.pdf', '/content/drive/MyDrive/ASX annual reports/2014 (1655 firms)/mar14.pdf', '/content/drive/MyDrive/ASX annual reports/2014 (1655 firms)/mmc14.pdf', '/content/drive/MyDrive/ASX annual reports/2014 (1655 firms)/mat14.pdf', '/content/drive/MyDrive/ASX annual reports/2014 (1655 firms)/mnm14.pdf', '/content/drive/MyDrive/ASX annual reports/2014 (1655 firms)/myn14.pdf', '/content/drive/MyDrive/ASX annual reports/2014 (1655 firms)/meh14.pdf', '/content/drive/MyDrive/ASX annual reports/2014 (1655 firms)/mye14.pdf', '/content/drive/MyDrive/ASX annual reports/2014 (1655 firms)/mxr14.pdf', '/content/drive/MyDrive/ASX annual reports/2014 (1655 firms)/med14.pdf', '/content/drive/MyDrive/ASX annual reports/2014 (1655 firms)/mas14.pdf', '/content/drive/MyDrive/ASX annual reports/2014 (1655 firms)/mlm14.pdf', '/content/drive/MyDrive/ASX annual reports/2014 (1655 firms)/mml14.pdf', '/content/drive/MyDrive/ASX annual reports/2014 (1655 firms)/mko14.pdf', '/content/drive/MyDrive/ASX annual reports/2014 (1655 firms)/mta14.pdf', '/content/drive/MyDrive/ASX annual reports/2014 (1655 firms)/mls14.pdf', '/content/drive/MyDrive/ASX annual reports/2014 (1655 firms)/mbk14.pdf', '/content/drive/MyDrive/ASX annual reports/2014 (1655 firms)/mlx14.pdf', '/content/drive/MyDrive/ASX annual reports/2014 (1655 firms)/mhm14.pdf', '/content/drive/MyDrive/ASX annual reports/2014 (1655 firms)/mei14.pdf', '/content/drive/MyDrive/ASX annual reports/2014 (1655 firms)/mnc14.pdf', '/content/drive/MyDrive/ASX annual reports/2014 (1655 firms)/mnb14.pdf', '/content/drive/MyDrive/ASX annual reports/2014 (1655 firms)/mgs14.pdf', '/content/drive/MyDrive/ASX annual reports/2014 (1655 firms)/mne14.pdf', '/content/drive/MyDrive/ASX annual reports/2014 (1655 firms)/mdi14.pdf', '/content/drive/MyDrive/ASX annual reports/2014 (1655 firms)/mdx14.pdf', '/content/drive/MyDrive/ASX annual reports/2014 (1655 firms)/miz14.pdf', '/content/drive/MyDrive/ASX annual reports/2014 (1655 firms)/moy14.pdf', '/content/drive/MyDrive/ASX annual reports/2014 (1655 firms)/mrc14.pdf', '/content/drive/MyDrive/ASX annual reports/2014 (1655 firms)/mak14.pdf', '/content/drive/MyDrive/ASX annual reports/2014 (1655 firms)/msc14.pdf', '/content/drive/MyDrive/ASX annual reports/2014 (1655 firms)/mcr14.pdf', '/content/drive/MyDrive/ASX annual reports/2014 (1655 firms)/mdl14.pdf', '/content/drive/MyDrive/ASX annual reports/2014 (1655 firms)/mli14.pdf', '/content/drive/MyDrive/ASX annual reports/2014 (1655 firms)/mep14.pdf', '/content/drive/MyDrive/ASX annual reports/2014 (1655 firms)/mbn14.pdf', '/content/drive/MyDrive/ASX annual reports/2014 (1655 firms)/mpj14.pdf', '/content/drive/MyDrive/ASX annual reports/2014 (1655 firms)/min14.pdf', '/content/drive/MyDrive/ASX annual reports/2014 (1655 firms)/mtb14.pdf', '/content/drive/MyDrive/ASX annual reports/2014 (1655 firms)/mum14.pdf', '/content/drive/MyDrive/ASX annual reports/2014 (1655 firms)/moo14.pdf', '/content/drive/MyDrive/ASX annual reports/2014 (1655 firms)/mrq14.pdf', '/content/drive/MyDrive/ASX annual reports/2014 (1655 firms)/msv14.pdf', '/content/drive/MyDrive/ASX annual reports/2014 (1655 firms)/mux14.pdf', '/content/drive/MyDrive/ASX annual reports/2014 (1655 firms)/mgx14.pdf', '/content/drive/MyDrive/ASX annual reports/2014 (1655 firms)/mgv14.pdf', '/content/drive/MyDrive/ASX annual reports/2014 (1655 firms)/myg14.pdf', '/content/drive/MyDrive/ASX annual reports/2014 (1655 firms)/nco14.pdf', '/content/drive/MyDrive/ASX annual reports/2014 (1655 firms)/nvg14.pdf', '/content/drive/MyDrive/ASX annual reports/2014 (1655 firms)/nml14.pdf', '/content/drive/MyDrive/ASX annual reports/2014 (1655 firms)/nag14.pdf', '/content/drive/MyDrive/ASX annual reports/2014 (1655 firms)/ntl14.pdf', '/content/drive/MyDrive/ASX annual reports/2014 (1655 firms)/nrr14.pdf', '/content/drive/MyDrive/ASX annual reports/2014 (1655 firms)/nvi14.pdf', '/content/drive/MyDrive/ASX annual reports/2014 (1655 firms)/nav14.pdf', '/content/drive/MyDrive/ASX annual reports/2014 (1655 firms)/nxr14.pdf', '/content/drive/MyDrive/ASX annual reports/2014 (1655 firms)/nme14.pdf', '/content/drive/MyDrive/ASX annual reports/2014 (1655 firms)/nxm14.pdf', '/content/drive/MyDrive/ASX annual reports/2014 (1655 firms)/nwf14.pdf', '/content/drive/MyDrive/ASX annual reports/2014 (1655 firms)/nio14.pdf', '/content/drive/MyDrive/ASX annual reports/2014 (1655 firms)/niu14.pdf', '/content/drive/MyDrive/ASX annual reports/2014 (1655 firms)/mzi14.pdf', '/content/drive/MyDrive/ASX annual reports/2014 (1655 firms)/nkp14.pdf', '/content/drive/MyDrive/ASX annual reports/2014 (1655 firms)/ncm14.pdf', '/content/drive/MyDrive/ASX annual reports/2014 (1655 firms)/ngx14.pdf', '/content/drive/MyDrive/ASX annual reports/2014 (1655 firms)/ntu14.pdf', '/content/drive/MyDrive/ASX annual reports/2014 (1655 firms)/nmi14.pdf', '/content/drive/MyDrive/ASX annual reports/2014 (1655 firms)/nfe14.pdf', '/content/drive/MyDrive/ASX annual reports/2014 (1655 firms)/ngf14.pdf', '/content/drive/MyDrive/ASX annual reports/2014 (1655 firms)/noe14.pdf', '/content/drive/MyDrive/ASX annual reports/2014 (1655 firms)/nst14.pdf', '/content/drive/MyDrive/ASX annual reports/2014 (1655 firms)/nsl14.pdf', '/content/drive/MyDrive/ASX annual reports/2014 (1655 firms)/ncr14.pdf', '/content/drive/MyDrive/ASX annual reports/2014 (1655 firms)/okj14.pdf', '/content/drive/MyDrive/ASX annual reports/2014 (1655 firms)/oar14.pdf', '/content/drive/MyDrive/ASX annual reports/2014 (1655 firms)/nyo14.pdf', '/content/drive/MyDrive/ASX annual reports/2014 (1655 firms)/npx14.pdf', '/content/drive/MyDrive/ASX annual reports/2014 (1655 firms)/ogc14.pdf', '/content/drive/MyDrive/ASX annual reports/2014 (1655 firms)/ogh14.pdf', '/content/drive/MyDrive/ASX annual reports/2014 (1655 firms)/nuf14.pdf', '/content/drive/MyDrive/ASX annual reports/2014 (1655 firms)/ors14.pdf', '/content/drive/MyDrive/ASX annual reports/2014 (1655 firms)/ord14.pdf', '/content/drive/MyDrive/ASX annual reports/2014 (1655 firms)/oku14.pdf', '/content/drive/MyDrive/ASX annual reports/2014 (1655 firms)/ogx14.pdf', '/content/drive/MyDrive/ASX annual reports/2014 (1655 firms)/obs14.pdf', '/content/drive/MyDrive/ASX annual reports/2014 (1655 firms)/omh14.pdf', '/content/drive/MyDrive/ASX annual reports/2014 (1655 firms)/orr14.pdf', '/content/drive/MyDrive/ASX annual reports/2014 (1655 firms)/ovl14.pdf', '/content/drive/MyDrive/ASX annual reports/2014 (1655 firms)/orm14.pdf', '/content/drive/MyDrive/ASX annual reports/2014 (1655 firms)/ori14.pdf', '/content/drive/MyDrive/ASX annual reports/2014 (1655 firms)/oro14.pdf', '/content/drive/MyDrive/ASX annual reports/2014 (1655 firms)/oum14.pdf', '/content/drive/MyDrive/ASX annual reports/2014 (1655 firms)/ovr14.pdf', '/content/drive/MyDrive/ASX annual reports/2014 (1655 firms)/pnr14.pdf', '/content/drive/MyDrive/ASX annual reports/2014 (1655 firms)/ore14.pdf', '/content/drive/MyDrive/ASX annual reports/2014 (1655 firms)/orn14.pdf', '/content/drive/MyDrive/ASX annual reports/2014 (1655 firms)/ozl14.pdf', '/content/drive/MyDrive/ASX annual reports/2014 (1655 firms)/ora14.pdf', '/content/drive/MyDrive/ASX annual reports/2014 (1655 firms)/orx14.pdf', '/content/drive/MyDrive/ASX annual reports/2014 (1655 firms)/pdy14.pdf', '/content/drive/MyDrive/ASX annual reports/2014 (1655 firms)/pmy14.pdf', '/content/drive/MyDrive/ASX annual reports/2014 (1655 firms)/psf14.pdf', '/content/drive/MyDrive/ASX annual reports/2014 (1655 firms)/pna14.pdf', '/content/drive/MyDrive/ASX annual reports/2014 (1655 firms)/pgi14.pdf', '/content/drive/MyDrive/ASX annual reports/2014 (1655 firms)/ppy14.pdf', '/content/drive/MyDrive/ASX annual reports/2014 (1655 firms)/pir14.pdf', '/content/drive/MyDrive/ASX annual reports/2014 (1655 firms)/pdm14.pdf', '/content/drive/MyDrive/ASX annual reports/2014 (1655 firms)/pml14.pdf', '/content/drive/MyDrive/ASX annual reports/2014 (1655 firms)/pgh14.pdf', '/content/drive/MyDrive/ASX annual reports/2014 (1655 firms)/pkr14.pdf', '/content/drive/MyDrive/ASX annual reports/2014 (1655 firms)/pan14.pdf', '/content/drive/MyDrive/ASX annual reports/2014 (1655 firms)/pcp14.pdf', '/content/drive/MyDrive/ASX annual reports/2014 (1655 firms)/pun14.pdf', '/content/drive/MyDrive/ASX annual reports/2014 (1655 firms)/pne14.pdf', '/content/drive/MyDrive/ASX annual reports/2014 (1655 firms)/pel14.pdf', '/content/drive/MyDrive/ASX annual reports/2014 (1655 firms)/pex14.pdf', '/content/drive/MyDrive/ASX annual reports/2014 (1655 firms)/pek14.pdf', '/content/drive/MyDrive/ASX annual reports/2014 (1655 firms)/psm14.pdf', '/content/drive/MyDrive/ASX annual reports/2014 (1655 firms)/pen14.pdf', '/content/drive/MyDrive/ASX annual reports/2014 (1655 firms)/ptr14.pdf', '/content/drive/MyDrive/ASX annual reports/2014 (1655 firms)/pnn14.pdf', '/content/drive/MyDrive/ASX annual reports/2014 (1655 firms)/pnx14.pdf', '/content/drive/MyDrive/ASX annual reports/2014 (1655 firms)/pxg14.pdf', '/content/drive/MyDrive/ASX annual reports/2014 (1655 firms)/pec14.pdf', '/content/drive/MyDrive/ASX annual reports/2014 (1655 firms)/poz14.pdf', '/content/drive/MyDrive/ASX annual reports/2014 (1655 firms)/pio14.pdf', '/content/drive/MyDrive/ASX annual reports/2014 (1655 firms)/pmq14.pdf', '/content/drive/MyDrive/ASX annual reports/2014 (1655 firms)/pru14.pdf', '/content/drive/MyDrive/ASX annual reports/2014 (1655 firms)/plp14.pdf', '/content/drive/MyDrive/ASX annual reports/2014 (1655 firms)/plh14.pdf']\n"
          ]
        }
      ]
    },
    {
      "cell_type": "markdown",
      "metadata": {
        "id": "tx3afZbVAN2b"
      },
      "source": [
        "Check the number of files in this folder"
      ]
    },
    {
      "cell_type": "code",
      "metadata": {
        "id": "OZc7OJure1px",
        "colab": {
          "base_uri": "https://localhost:8080/"
        },
        "outputId": "77b77ba8-e728-4ecc-dca9-340e3a6a085d"
      },
      "source": [
        "len(file_list)"
      ],
      "execution_count": null,
      "outputs": [
        {
          "output_type": "execute_result",
          "data": {
            "text/plain": [
              "1655"
            ]
          },
          "metadata": {},
          "execution_count": 6
        }
      ]
    },
    {
      "cell_type": "markdown",
      "metadata": {
        "id": "6oRlSJ9bAkDh"
      },
      "source": [
        "## Step 3: Extract PDF files (around 500 each time)"
      ]
    },
    {
      "cell_type": "markdown",
      "metadata": {
        "id": "9oCRr5GlKDXp"
      },
      "source": [
        "### Step 3.1: List 1"
      ]
    },
    {
      "cell_type": "markdown",
      "metadata": {
        "id": "blqeFTlcA407"
      },
      "source": [
        "e.g., the following piece of code is to extract 500 PDF files (with index 0-499)"
      ]
    },
    {
      "cell_type": "code",
      "metadata": {
        "id": "-UGuhBjCZPeA",
        "colab": {
          "base_uri": "https://localhost:8080/"
        },
        "outputId": "f18fab6b-c760-4997-9161-6cf6716a2bef"
      },
      "source": [
        "new_list1={}\n",
        "\n",
        "for file in file_list[:500]:   # start from 0, up to 500 but not including\n",
        "  print(file)\n",
        "    \n",
        "  if file.endswith(\".pdf\"):\n",
        "    try:\n",
        "      with pdfplumber.open(file) as pdf:\n",
        "        fulltext = \"\"\n",
        "        try:\n",
        "          for page in pdf.pages:\n",
        "            try:\n",
        "              text = page.extract_text()\n",
        "              fulltext += str(text)\n",
        "            except:\n",
        "              fulltext = \"\"\n",
        "              print(\"Blank\")\n",
        "            finally:\n",
        "              pass\n",
        "        except:\n",
        "          pass\n",
        "    except:\n",
        "      pass\n",
        "        \n",
        "        \n",
        "    new_list1[file]=(fulltext) "
      ],
      "execution_count": null,
      "outputs": [
        {
          "output_type": "stream",
          "name": "stdout",
          "text": [
            "/content/drive/MyDrive/ASX annual reports/2014 (1655 firms)/pgm14.pdf\n",
            "/content/drive/MyDrive/ASX annual reports/2014 (1655 firms)/pls14.pdf\n",
            "/content/drive/MyDrive/ASX annual reports/2014 (1655 firms)/prh14.pdf\n",
            "/content/drive/MyDrive/ASX annual reports/2014 (1655 firms)/pok14.pdf\n",
            "/content/drive/MyDrive/ASX annual reports/2014 (1655 firms)/pos14.pdf\n",
            "/content/drive/MyDrive/ASX annual reports/2014 (1655 firms)/pww14.pdf\n",
            "/content/drive/MyDrive/ASX annual reports/2014 (1655 firms)/pwn14.pdf\n",
            "/content/drive/MyDrive/ASX annual reports/2014 (1655 firms)/pmr14.pdf\n",
            "/content/drive/MyDrive/ASX annual reports/2014 (1655 firms)/pdz14.pdf\n",
            "/content/drive/MyDrive/ASX annual reports/2014 (1655 firms)/prr14.pdf\n",
            "/content/drive/MyDrive/ASX annual reports/2014 (1655 firms)/pim14.pdf\n",
            "/content/drive/MyDrive/ASX annual reports/2014 (1655 firms)/pdi14.pdf\n",
            "/content/drive/MyDrive/ASX annual reports/2014 (1655 firms)/ppg14.pdf\n",
            "/content/drive/MyDrive/ASX annual reports/2014 (1655 firms)/psc14.pdf\n",
            "/content/drive/MyDrive/ASX annual reports/2014 (1655 firms)/pgo14.pdf\n",
            "/content/drive/MyDrive/ASX annual reports/2014 (1655 firms)/qnl14.pdf\n",
            "/content/drive/MyDrive/ASX annual reports/2014 (1655 firms)/pra14.pdf\n",
            "/content/drive/MyDrive/ASX annual reports/2014 (1655 firms)/psp14.pdf\n",
            "/content/drive/MyDrive/ASX annual reports/2014 (1655 firms)/qur14.pdf\n",
            "/content/drive/MyDrive/ASX annual reports/2014 (1655 firms)/rad14.pdf\n",
            "/content/drive/MyDrive/ASX annual reports/2014 (1655 firms)/qrl14.pdf\n",
            "/content/drive/MyDrive/ASX annual reports/2014 (1655 firms)/rau14.pdf\n",
            "/content/drive/MyDrive/ASX annual reports/2014 (1655 firms)/rmr14.pdf\n",
            "/content/drive/MyDrive/ASX annual reports/2014 (1655 firms)/rrp14.pdf\n",
            "/content/drive/MyDrive/ASX annual reports/2014 (1655 firms)/rnd14.pdf\n",
            "/content/drive/MyDrive/ASX annual reports/2014 (1655 firms)/qmn14.pdf\n",
            "/content/drive/MyDrive/ASX annual reports/2014 (1655 firms)/red14.pdf\n",
            "/content/drive/MyDrive/ASX annual reports/2014 (1655 firms)/rgx14.pdf\n",
            "/content/drive/MyDrive/ASX annual reports/2014 (1655 firms)/rvr14.pdf\n",
            "/content/drive/MyDrive/ASX annual reports/2014 (1655 firms)/rcp14.pdf\n",
            "/content/drive/MyDrive/ASX annual reports/2014 (1655 firms)/rhi14.pdf\n",
            "/content/drive/MyDrive/ASX annual reports/2014 (1655 firms)/rcf14.pdf\n",
            "/content/drive/MyDrive/ASX annual reports/2014 (1655 firms)/rmx14.pdf\n",
            "/content/drive/MyDrive/ASX annual reports/2014 (1655 firms)/rdm14.pdf\n",
            "/content/drive/MyDrive/ASX annual reports/2014 (1655 firms)/rdr14.pdf\n",
            "/content/drive/MyDrive/ASX annual reports/2014 (1655 firms)/rms14.pdf\n",
            "/content/drive/MyDrive/ASX annual reports/2014 (1655 firms)/rlc14.pdf\n",
            "/content/drive/MyDrive/ASX annual reports/2014 (1655 firms)/rer14.pdf\n",
            "/content/drive/MyDrive/ASX annual reports/2014 (1655 firms)/rns14.pdf\n",
            "/content/drive/MyDrive/ASX annual reports/2014 (1655 firms)/rrl14.pdf\n",
            "/content/drive/MyDrive/ASX annual reports/2014 (1655 firms)/rds14.pdf\n",
            "/content/drive/MyDrive/ASX annual reports/2014 (1655 firms)/rbx14.pdf\n",
            "/content/drive/MyDrive/ASX annual reports/2014 (1655 firms)/rmi14.pdf\n",
            "/content/drive/MyDrive/ASX annual reports/2014 (1655 firms)/rez14.pdf\n",
            "/content/drive/MyDrive/ASX annual reports/2014 (1655 firms)/rwd14.pdf\n",
            "/content/drive/MyDrive/ASX annual reports/2014 (1655 firms)/rie14.pdf\n",
            "/content/drive/MyDrive/ASX annual reports/2014 (1655 firms)/rsg14.pdf\n",
            "/content/drive/MyDrive/ASX annual reports/2014 (1655 firms)/rvy14.pdf\n",
            "/content/drive/MyDrive/ASX annual reports/2014 (1655 firms)/rmt14.pdf\n",
            "/content/drive/MyDrive/ASX annual reports/2014 (1655 firms)/rio14.pdf\n",
            "/content/drive/MyDrive/ASX annual reports/2014 (1655 firms)/rni14.pdf\n",
            "/content/drive/MyDrive/ASX annual reports/2014 (1655 firms)/rxm14.pdf\n",
            "/content/drive/MyDrive/ASX annual reports/2014 (1655 firms)/rim14.pdf\n",
            "/content/drive/MyDrive/ASX annual reports/2014 (1655 firms)/rol14.pdf\n",
            "/content/drive/MyDrive/ASX annual reports/2014 (1655 firms)/rco14.pdf\n",
            "/content/drive/MyDrive/ASX annual reports/2014 (1655 firms)/rmg14.pdf\n",
            "/content/drive/MyDrive/ASX annual reports/2014 (1655 firms)/rre14.pdf\n",
            "/content/drive/MyDrive/ASX annual reports/2014 (1655 firms)/roy14.pdf\n",
            "/content/drive/MyDrive/ASX annual reports/2014 (1655 firms)/rtr14.pdf\n",
            "/content/drive/MyDrive/ASX annual reports/2014 (1655 firms)/rxl14.pdf\n",
            "/content/drive/MyDrive/ASX annual reports/2014 (1655 firms)/rbr14.pdf\n",
            "/content/drive/MyDrive/ASX annual reports/2014 (1655 firms)/sbr14.pdf\n",
            "/content/drive/MyDrive/ASX annual reports/2014 (1655 firms)/rtg14.pdf\n",
            "/content/drive/MyDrive/ASX annual reports/2014 (1655 firms)/sya14.pdf\n",
            "/content/drive/MyDrive/ASX annual reports/2014 (1655 firms)/sgz14.pdf\n",
            "/content/drive/MyDrive/ASX annual reports/2014 (1655 firms)/smi14.pdf\n",
            "/content/drive/MyDrive/ASX annual reports/2014 (1655 firms)/sfr14.pdf\n",
            "/content/drive/MyDrive/ASX annual reports/2014 (1655 firms)/rta14.pdf\n",
            "/content/drive/MyDrive/ASX annual reports/2014 (1655 firms)/shh14.pdf\n",
            "/content/drive/MyDrive/ASX annual reports/2014 (1655 firms)/seg14.pdf\n",
            "/content/drive/MyDrive/ASX annual reports/2014 (1655 firms)/sar14.pdf\n",
            "/content/drive/MyDrive/ASX annual reports/2014 (1655 firms)/srr14.pdf\n",
            "/content/drive/MyDrive/ASX annual reports/2014 (1655 firms)/sbu14.pdf\n",
            "/content/drive/MyDrive/ASX annual reports/2014 (1655 firms)/sfx14.pdf\n",
            "/content/drive/MyDrive/ASX annual reports/2014 (1655 firms)/sbl14.pdf\n",
            "/content/drive/MyDrive/ASX annual reports/2014 (1655 firms)/sih14.pdf\n",
            "/content/drive/MyDrive/ASX annual reports/2014 (1655 firms)/svl14.pdf\n",
            "/content/drive/MyDrive/ASX annual reports/2014 (1655 firms)/snv14.pdf\n",
            "/content/drive/MyDrive/ASX annual reports/2014 (1655 firms)/sci14.pdf\n",
            "/content/drive/MyDrive/ASX annual reports/2014 (1655 firms)/sgm14.pdf\n",
            "/content/drive/MyDrive/ASX annual reports/2014 (1655 firms)/sri14.pdf\n",
            "/content/drive/MyDrive/ASX annual reports/2014 (1655 firms)/smd14.pdf\n",
            "/content/drive/MyDrive/ASX annual reports/2014 (1655 firms)/say14.pdf\n",
            "/content/drive/MyDrive/ASX annual reports/2014 (1655 firms)/slr14.pdf\n",
            "/content/drive/MyDrive/ASX annual reports/2014 (1655 firms)/sop14.pdf\n",
            "/content/drive/MyDrive/ASX annual reports/2014 (1655 firms)/sir14.pdf\n",
            "/content/drive/MyDrive/ASX annual reports/2014 (1655 firms)/stb14.pdf\n",
            "/content/drive/MyDrive/ASX annual reports/2014 (1655 firms)/sxx14.pdf\n",
            "/content/drive/MyDrive/ASX annual reports/2014 (1655 firms)/sxi14.pdf\n",
            "/content/drive/MyDrive/ASX annual reports/2014 (1655 firms)/sfz14.pdf\n",
            "/content/drive/MyDrive/ASX annual reports/2014 (1655 firms)/swr14.pdf\n",
            "/content/drive/MyDrive/ASX annual reports/2014 (1655 firms)/sxg14.pdf\n",
            "/content/drive/MyDrive/ASX annual reports/2014 (1655 firms)/svm14.pdf\n",
            "/content/drive/MyDrive/ASX annual reports/2014 (1655 firms)/soc14.pdf\n",
            "/content/drive/MyDrive/ASX annual reports/2014 (1655 firms)/sau14.pdf\n",
            "/content/drive/MyDrive/ASX annual reports/2014 (1655 firms)/sph14.pdf\n",
            "/content/drive/MyDrive/ASX annual reports/2014 (1655 firms)/spi14.pdf\n",
            "/content/drive/MyDrive/ASX annual reports/2014 (1655 firms)/sbm14.pdf\n",
            "/content/drive/MyDrive/ASX annual reports/2014 (1655 firms)/srz14.pdf\n",
            "/content/drive/MyDrive/ASX annual reports/2014 (1655 firms)/shk14.pdf\n",
            "/content/drive/MyDrive/ASX annual reports/2014 (1655 firms)/spx14.pdf\n",
            "/content/drive/MyDrive/ASX annual reports/2014 (1655 firms)/swj14.pdf\n",
            "/content/drive/MyDrive/ASX annual reports/2014 (1655 firms)/suh14.pdf\n",
            "/content/drive/MyDrive/ASX annual reports/2014 (1655 firms)/sgq14.pdf\n",
            "/content/drive/MyDrive/ASX annual reports/2014 (1655 firms)/ser14.pdf\n",
            "/content/drive/MyDrive/ASX annual reports/2014 (1655 firms)/sat14.pdf\n",
            "/content/drive/MyDrive/ASX annual reports/2014 (1655 firms)/sxt14.pdf\n",
            "/content/drive/MyDrive/ASX annual reports/2014 (1655 firms)/srk14.pdf\n",
            "/content/drive/MyDrive/ASX annual reports/2014 (1655 firms)/sum14.pdf\n",
            "/content/drive/MyDrive/ASX annual reports/2014 (1655 firms)/srq14.pdf\n",
            "/content/drive/MyDrive/ASX annual reports/2014 (1655 firms)/sdl14.pdf\n",
            "/content/drive/MyDrive/ASX annual reports/2014 (1655 firms)/swa14.pdf\n",
            "/content/drive/MyDrive/ASX annual reports/2014 (1655 firms)/smc14.pdf\n",
            "/content/drive/MyDrive/ASX annual reports/2014 (1655 firms)/syr14.pdf\n",
            "/content/drive/MyDrive/ASX annual reports/2014 (1655 firms)/swk14.pdf\n",
            "/content/drive/MyDrive/ASX annual reports/2014 (1655 firms)/spq14.pdf\n",
            "/content/drive/MyDrive/ASX annual reports/2014 (1655 firms)/tlg14.pdf\n",
            "/content/drive/MyDrive/ASX annual reports/2014 (1655 firms)/tam14.pdf\n",
            "/content/drive/MyDrive/ASX annual reports/2014 (1655 firms)/tas14.pdf\n",
            "/content/drive/MyDrive/ASX annual reports/2014 (1655 firms)/tmm14.pdf\n",
            "/content/drive/MyDrive/ASX annual reports/2014 (1655 firms)/tlm14.pdf\n",
            "/content/drive/MyDrive/ASX annual reports/2014 (1655 firms)/tar14.pdf\n",
            "/content/drive/MyDrive/ASX annual reports/2014 (1655 firms)/tgz14.pdf\n",
            "/content/drive/MyDrive/ASX annual reports/2014 (1655 firms)/tmx14.pdf\n",
            "/content/drive/MyDrive/ASX annual reports/2014 (1655 firms)/tzn14.pdf\n",
            "/content/drive/MyDrive/ASX annual reports/2014 (1655 firms)/tlu14.pdf\n",
            "/content/drive/MyDrive/ASX annual reports/2014 (1655 firms)/tfc14.pdf\n",
            "/content/drive/MyDrive/ASX annual reports/2014 (1655 firms)/taw14.pdf\n",
            "/content/drive/MyDrive/ASX annual reports/2014 (1655 firms)/thx14.pdf\n",
            "/content/drive/MyDrive/ASX annual reports/2014 (1655 firms)/tmz14.pdf\n",
            "/content/drive/MyDrive/ASX annual reports/2014 (1655 firms)/tpr14.pdf\n",
            "/content/drive/MyDrive/ASX annual reports/2014 (1655 firms)/tgs14.pdf\n",
            "/content/drive/MyDrive/ASX annual reports/2014 (1655 firms)/tig14.pdf\n",
            "/content/drive/MyDrive/ASX annual reports/2014 (1655 firms)/tnd14.pdf\n",
            "/content/drive/MyDrive/ASX annual reports/2014 (1655 firms)/tng14.pdf\n",
            "/content/drive/MyDrive/ASX annual reports/2014 (1655 firms)/tnr14.pdf\n",
            "/content/drive/MyDrive/ASX annual reports/2014 (1655 firms)/tkl14.pdf\n",
            "/content/drive/MyDrive/ASX annual reports/2014 (1655 firms)/tri14.pdf\n",
            "/content/drive/MyDrive/ASX annual reports/2014 (1655 firms)/ton14.pdf\n",
            "/content/drive/MyDrive/ASX annual reports/2014 (1655 firms)/tbr14.pdf\n",
            "/content/drive/MyDrive/ASX annual reports/2014 (1655 firms)/trf14.pdf\n",
            "/content/drive/MyDrive/ASX annual reports/2014 (1655 firms)/try14.pdf\n",
            "/content/drive/MyDrive/ASX annual reports/2014 (1655 firms)/trm14.pdf\n",
            "/content/drive/MyDrive/ASX annual reports/2014 (1655 firms)/tgn14.pdf\n",
            "/content/drive/MyDrive/ASX annual reports/2014 (1655 firms)/uml14.pdf\n",
            "/content/drive/MyDrive/ASX annual reports/2014 (1655 firms)/unx14.pdf\n",
            "/content/drive/MyDrive/ASX annual reports/2014 (1655 firms)/vec14.pdf\n",
            "/content/drive/MyDrive/ASX annual reports/2014 (1655 firms)/var14.pdf\n",
            "/content/drive/MyDrive/ASX annual reports/2014 (1655 firms)/vrx14.pdf\n",
            "/content/drive/MyDrive/ASX annual reports/2014 (1655 firms)/vms14.pdf\n",
            "/content/drive/MyDrive/ASX annual reports/2014 (1655 firms)/vmc14.pdf\n",
            "/content/drive/MyDrive/ASX annual reports/2014 (1655 firms)/vic14.pdf\n",
            "/content/drive/MyDrive/ASX annual reports/2014 (1655 firms)/vii14.pdf\n",
            "/content/drive/MyDrive/ASX annual reports/2014 (1655 firms)/vka14.pdf\n",
            "/content/drive/MyDrive/ASX annual reports/2014 (1655 firms)/vml14.pdf\n",
            "/content/drive/MyDrive/ASX annual reports/2014 (1655 firms)/vtm14.pdf\n",
            "/content/drive/MyDrive/ASX annual reports/2014 (1655 firms)/vor14.pdf\n",
            "/content/drive/MyDrive/ASX annual reports/2014 (1655 firms)/wkt14.pdf\n",
            "/content/drive/MyDrive/ASX annual reports/2014 (1655 firms)/wgo14.pdf\n",
            "/content/drive/MyDrive/ASX annual reports/2014 (1655 firms)/wcp14.pdf\n",
            "/content/drive/MyDrive/ASX annual reports/2014 (1655 firms)/waf14.pdf\n",
            "/content/drive/MyDrive/ASX annual reports/2014 (1655 firms)/wpi14.pdf\n",
            "/content/drive/MyDrive/ASX annual reports/2014 (1655 firms)/wwi14.pdf\n",
            "/content/drive/MyDrive/ASX annual reports/2014 (1655 firms)/wsa14.pdf\n",
            "/content/drive/MyDrive/ASX annual reports/2014 (1655 firms)/wmn14.pdf\n",
            "/content/drive/MyDrive/ASX annual reports/2014 (1655 firms)/weg14.pdf\n",
            "/content/drive/MyDrive/ASX annual reports/2014 (1655 firms)/wrm14.pdf\n",
            "/content/drive/MyDrive/ASX annual reports/2014 (1655 firms)/wvl14.pdf\n",
            "/content/drive/MyDrive/ASX annual reports/2014 (1655 firms)/win14.pdf\n",
            "/content/drive/MyDrive/ASX annual reports/2014 (1655 firms)/wfe14.pdf\n",
            "/content/drive/MyDrive/ASX annual reports/2014 (1655 firms)/wlf14.pdf\n",
            "/content/drive/MyDrive/ASX annual reports/2014 (1655 firms)/wlr14.pdf\n",
            "/content/drive/MyDrive/ASX annual reports/2014 (1655 firms)/wlc14.pdf\n",
            "/content/drive/MyDrive/ASX annual reports/2014 (1655 firms)/wtr14.pdf\n",
            "/content/drive/MyDrive/ASX annual reports/2014 (1655 firms)/wpg14.pdf\n",
            "/content/drive/MyDrive/ASX annual reports/2014 (1655 firms)/xam14.pdf\n",
            "/content/drive/MyDrive/ASX annual reports/2014 (1655 firms)/zam14.pdf\n",
            "/content/drive/MyDrive/ASX annual reports/2014 (1655 firms)/yrr14.pdf\n",
            "/content/drive/MyDrive/ASX annual reports/2014 (1655 firms)/zrl14.pdf\n",
            "/content/drive/MyDrive/ASX annual reports/2014 (1655 firms)/zgm14.pdf\n",
            "/content/drive/MyDrive/ASX annual reports/2014 (1655 firms)/znc14.pdf\n",
            "/content/drive/MyDrive/ASX annual reports/2014 (1655 firms)/zim14.pdf\n",
            "/content/drive/MyDrive/ASX annual reports/2014 (1655 firms)/zyl14.pdf\n",
            "/content/drive/MyDrive/ASX annual reports/2014 (1655 firms)/cay14.pdf\n",
            "/content/drive/MyDrive/ASX annual reports/2014 (1655 firms)/cla14.pdf\n",
            "/content/drive/MyDrive/ASX annual reports/2014 (1655 firms)/ctm14.pdf\n",
            "/content/drive/MyDrive/ASX annual reports/2014 (1655 firms)/cwg14.pdf\n",
            "/content/drive/MyDrive/ASX annual reports/2014 (1655 firms)/cvs14.pdf\n",
            "/content/drive/MyDrive/ASX annual reports/2014 (1655 firms)/cxm14.pdf\n",
            "/content/drive/MyDrive/ASX annual reports/2014 (1655 firms)/chn14.pdf\n",
            "/content/drive/MyDrive/ASX annual reports/2014 (1655 firms)/chz14.pdf\n",
            "/content/drive/MyDrive/ASX annual reports/2014 (1655 firms)/cia14.pdf\n",
            "/content/drive/MyDrive/ASX annual reports/2014 (1655 firms)/cmc14.pdf\n",
            "/content/drive/MyDrive/ASX annual reports/2014 (1655 firms)/cyu14.pdf\n",
            "/content/drive/MyDrive/ASX annual reports/2014 (1655 firms)/elt14.pdf\n",
            "/content/drive/MyDrive/ASX annual reports/2014 (1655 firms)/elr14.pdf\n",
            "/content/drive/MyDrive/ASX annual reports/2014 (1655 firms)/erm14.pdf\n",
            "/content/drive/MyDrive/ASX annual reports/2014 (1655 firms)/eym14.pdf\n",
            "/content/drive/MyDrive/ASX annual reports/2014 (1655 firms)/emg14.pdf\n",
            "/content/drive/MyDrive/ASX annual reports/2014 (1655 firms)/erl14.pdf\n",
            "/content/drive/MyDrive/ASX annual reports/2014 (1655 firms)/emu14.pdf\n",
            "/content/drive/MyDrive/ASX annual reports/2014 (1655 firms)/ent14.pdf\n",
            "/content/drive/MyDrive/ASX annual reports/2014 (1655 firms)/equ14.pdf\n",
            "/content/drive/MyDrive/ASX annual reports/2014 (1655 firms)/eqe14.pdf\n",
            "/content/drive/MyDrive/ASX annual reports/2014 (1655 firms)/eri14.pdf\n",
            "/content/drive/MyDrive/ASX annual reports/2014 (1655 firms)/esm14.pdf\n",
            "/content/drive/MyDrive/ASX annual reports/2014 (1655 firms)/eug14.pdf\n",
            "/content/drive/MyDrive/ASX annual reports/2014 (1655 firms)/eum14.pdf\n",
            "/content/drive/MyDrive/ASX annual reports/2014 (1655 firms)/exu14.pdf\n",
            "/content/drive/MyDrive/ASX annual reports/2014 (1655 firms)/exc14.pdf\n",
            "/content/drive/MyDrive/ASX annual reports/2014 (1655 firms)/fnd14.pdf\n",
            "/content/drive/MyDrive/ASX annual reports/2014 (1655 firms)/fie14.pdf\n",
            "/content/drive/MyDrive/ASX annual reports/2014 (1655 firms)/ftz14.pdf\n",
            "/content/drive/MyDrive/ASX annual reports/2014 (1655 firms)/fry14.pdf\n",
            "/content/drive/MyDrive/ASX annual reports/2014 (1655 firms)/fbu14.pdf\n",
            "/content/drive/MyDrive/ASX annual reports/2014 (1655 firms)/fxl14.pdf\n",
            "/content/drive/MyDrive/ASX annual reports/2014 (1655 firms)/fms14.pdf\n",
            "/content/drive/MyDrive/ASX annual reports/2014 (1655 firms)/fml14.pdf\n",
            "/content/drive/MyDrive/ASX annual reports/2014 (1655 firms)/frc14.pdf\n",
            "/content/drive/MyDrive/ASX annual reports/2014 (1655 firms)/fmg14.pdf\n",
            "/content/drive/MyDrive/ASX annual reports/2014 (1655 firms)/fot14.pdf\n",
            "/content/drive/MyDrive/ASX annual reports/2014 (1655 firms)/fxr14.pdf\n",
            "/content/drive/MyDrive/ASX annual reports/2014 (1655 firms)/foy14.pdf\n",
            "/content/drive/MyDrive/ASX annual reports/2014 (1655 firms)/frn14.pdf\n",
            "/content/drive/MyDrive/ASX annual reports/2014 (1655 firms)/fnt14.pdf\n",
            "/content/drive/MyDrive/ASX annual reports/2014 (1655 firms)/fyi14.pdf\n",
            "/content/drive/MyDrive/ASX annual reports/2014 (1655 firms)/gxy14.pdf\n",
            "/content/drive/MyDrive/ASX annual reports/2014 (1655 firms)/gcy14.pdf\n",
            "/content/drive/MyDrive/ASX annual reports/2014 (1655 firms)/gml14.pdf\n",
            "/content/drive/MyDrive/ASX annual reports/2014 (1655 firms)/gbm14.pdf\n",
            "/content/drive/MyDrive/ASX annual reports/2014 (1655 firms)/gbz14.pdf\n",
            "/content/drive/MyDrive/ASX annual reports/2014 (1655 firms)/gmm14.pdf\n",
            "/content/drive/MyDrive/ASX annual reports/2014 (1655 firms)/gmd14.pdf\n",
            "/content/drive/MyDrive/ASX annual reports/2014 (1655 firms)/ges14.pdf\n",
            "/content/drive/MyDrive/ASX annual reports/2014 (1655 firms)/gip14.pdf\n",
            "/content/drive/MyDrive/ASX annual reports/2014 (1655 firms)/gln14.pdf\n",
            "/content/drive/MyDrive/ASX annual reports/2014 (1655 firms)/gla14.pdf\n",
            "/content/drive/MyDrive/ASX annual reports/2014 (1655 firms)/gsc14.pdf\n",
            "/content/drive/MyDrive/ASX annual reports/2014 (1655 firms)/gxn14.pdf\n",
            "/content/drive/MyDrive/ASX annual reports/2014 (1655 firms)/grm14.pdf\n",
            "/content/drive/MyDrive/ASX annual reports/2014 (1655 firms)/gbe14.pdf\n",
            "/content/drive/MyDrive/ASX annual reports/2014 (1655 firms)/gor14.pdf\n",
            "/content/drive/MyDrive/ASX annual reports/2014 (1655 firms)/gme14.pdf\n",
            "/content/drive/MyDrive/ASX annual reports/2014 (1655 firms)/gcr14.pdf\n",
            "/content/drive/MyDrive/ASX annual reports/2014 (1655 firms)/ged14.pdf\n",
            "/content/drive/MyDrive/ASX annual reports/2014 (1655 firms)/gmr14.pdf\n",
            "/content/drive/MyDrive/ASX annual reports/2014 (1655 firms)/gmx14.pdf\n",
            "/content/drive/MyDrive/ASX annual reports/2014 (1655 firms)/gph14.pdf\n",
            "/content/drive/MyDrive/ASX annual reports/2014 (1655 firms)/gse14.pdf\n",
            "/content/drive/MyDrive/ASX annual reports/2014 (1655 firms)/gda14.pdf\n",
            "/content/drive/MyDrive/ASX annual reports/2014 (1655 firms)/gng14.pdf\n",
            "/content/drive/MyDrive/ASX annual reports/2014 (1655 firms)/gte14.pdf\n",
            "/content/drive/MyDrive/ASX annual reports/2014 (1655 firms)/grr14.pdf\n",
            "/content/drive/MyDrive/ASX annual reports/2014 (1655 firms)/ggg14.pdf\n",
            "/content/drive/MyDrive/ASX annual reports/2014 (1655 firms)/hsk14.pdf\n",
            "/content/drive/MyDrive/ASX annual reports/2014 (1655 firms)/haw14.pdf\n",
            "/content/drive/MyDrive/ASX annual reports/2014 (1655 firms)/haz14.pdf\n",
            "/content/drive/MyDrive/ASX annual reports/2014 (1655 firms)/heg14.pdf\n",
            "/content/drive/MyDrive/ASX annual reports/2014 (1655 firms)/ilu14.pdf\n",
            "/content/drive/MyDrive/ASX annual reports/2014 (1655 firms)/ima14.pdf\n",
            "/content/drive/MyDrive/ASX annual reports/2014 (1655 firms)/ixr14.pdf\n",
            "/content/drive/MyDrive/ASX annual reports/2014 (1655 firms)/imd14.pdf\n",
            "/content/drive/MyDrive/ASX annual reports/2014 (1655 firms)/icg14.pdf\n",
            "/content/drive/MyDrive/ASX annual reports/2014 (1655 firms)/ipt14.pdf\n",
            "/content/drive/MyDrive/ASX annual reports/2014 (1655 firms)/ipl14.pdf\n",
            "/content/drive/MyDrive/ASX annual reports/2014 (1655 firms)/irl14.pdf\n",
            "/content/drive/MyDrive/ASX annual reports/2014 (1655 firms)/idc14.pdf\n",
            "/content/drive/MyDrive/ASX annual reports/2014 (1655 firms)/ido14.pdf\n",
            "/content/drive/MyDrive/ASX annual reports/2014 (1655 firms)/igo14.pdf\n",
            "/content/drive/MyDrive/ASX annual reports/2014 (1655 firms)/izm14.pdf\n",
            "/content/drive/MyDrive/ASX annual reports/2014 (1655 firms)/inl14.pdf\n",
            "/content/drive/MyDrive/ASX annual reports/2014 (1655 firms)/itt14.pdf\n",
            "/content/drive/MyDrive/ASX annual reports/2014 (1655 firms)/igs14.pdf\n",
            "/content/drive/MyDrive/ASX annual reports/2014 (1655 firms)/irm14.pdf\n",
            "/content/drive/MyDrive/ASX annual reports/2014 (1655 firms)/ioh14.pdf\n",
            "/content/drive/MyDrive/ASX annual reports/2014 (1655 firms)/ibg14.pdf\n",
            "/content/drive/MyDrive/ASX annual reports/2014 (1655 firms)/ird14.pdf\n",
            "/content/drive/MyDrive/ASX annual reports/2014 (1655 firms)/ish14.pdf\n",
            "/content/drive/MyDrive/ASX annual reports/2014 (1655 firms)/jal14.pdf\n",
            "/content/drive/MyDrive/ASX annual reports/2014 (1655 firms)/jrv14.pdf\n",
            "/content/drive/MyDrive/ASX annual reports/2014 (1655 firms)/kgm14.pdf\n",
            "/content/drive/MyDrive/ASX annual reports/2014 (1655 firms)/jrl14.pdf\n",
            "/content/drive/MyDrive/ASX annual reports/2014 (1655 firms)/kpt14.pdf\n",
            "/content/drive/MyDrive/ASX annual reports/2014 (1655 firms)/kas14.pdf\n",
            "/content/drive/MyDrive/ASX annual reports/2014 (1655 firms)/kgl14.pdf\n",
            "/content/drive/MyDrive/ASX annual reports/2014 (1655 firms)/kdr14.pdf\n",
            "/content/drive/MyDrive/ASX annual reports/2014 (1655 firms)/kdl14.pdf\n",
            "/content/drive/MyDrive/ASX annual reports/2014 (1655 firms)/kin14.pdf\n",
            "/content/drive/MyDrive/ASX annual reports/2014 (1655 firms)/kis14.pdf\n",
            "/content/drive/MyDrive/ASX annual reports/2014 (1655 firms)/krc14.pdf\n",
            "/content/drive/MyDrive/ASX annual reports/2014 (1655 firms)/kcn14.pdf\n",
            "/content/drive/MyDrive/ASX annual reports/2014 (1655 firms)/irg14.pdf\n",
            "/content/drive/MyDrive/ASX annual reports/2014 (1655 firms)/kor14.pdf\n",
            "/content/drive/MyDrive/ASX annual reports/2014 (1655 firms)/kta14.pdf\n",
            "/content/drive/MyDrive/ASX annual reports/2014 (1655 firms)/kpr14.pdf\n",
            "/content/drive/MyDrive/ASX annual reports/2014 (1655 firms)/lke14.pdf\n",
            "/content/drive/MyDrive/ASX annual reports/2014 (1655 firms)/lmb14.pdf\n",
            "/content/drive/MyDrive/ASX annual reports/2014 (1655 firms)/lny14.pdf\n",
            "/content/drive/MyDrive/ASX annual reports/2014 (1655 firms)/lcr14.pdf\n",
            "/content/drive/MyDrive/ASX annual reports/2014 (1655 firms)/lmg14.pdf\n",
            "/content/drive/MyDrive/ASX annual reports/2014 (1655 firms)/lrs14.pdf\n",
            "/content/drive/MyDrive/ASX annual reports/2014 (1655 firms)/lsn14.pdf\n",
            "/content/drive/MyDrive/ASX annual reports/2014 (1655 firms)/mrr14.pdf\n",
            "/content/drive/MyDrive/ASX annual reports/2014 (1655 firms)/mth14.pdf\n",
            "/content/drive/MyDrive/ASX annual reports/2014 (1655 firms)/mod14.pdf\n",
            "/content/drive/MyDrive/ASX annual reports/2014 (1655 firms)/mol14.pdf\n",
            "/content/drive/MyDrive/ASX annual reports/2014 (1655 firms)/mrf14.pdf\n",
            "/content/drive/MyDrive/ASX annual reports/2014 (1655 firms)/mzm14.pdf\n",
            "/content/drive/MyDrive/ASX annual reports/2014 (1655 firms)/mry14.pdf\n",
            "/content/drive/MyDrive/ASX annual reports/2014 (1655 firms)/mox14.pdf\n",
            "/content/drive/MyDrive/ASX annual reports/2014 (1655 firms)/lcy14.pdf\n",
            "/content/drive/MyDrive/ASX annual reports/2014 (1655 firms)/ksn14.pdf\n",
            "/content/drive/MyDrive/ASX annual reports/2014 (1655 firms)/erd14.pdf\n",
            "/content/drive/MyDrive/ASX annual reports/2014 (1655 firms)/esr14.pdf\n",
            "/content/drive/MyDrive/ASX annual reports/2014 (1655 firms)/adq14.pdf\n",
            "/content/drive/MyDrive/ASX annual reports/2014 (1655 firms)/aiz14.pdf\n",
            "/content/drive/MyDrive/ASX annual reports/2014 (1655 firms)/aqz14.pdf\n",
            "/content/drive/MyDrive/ASX annual reports/2014 (1655 firms)/ahj14.pdf\n",
            "/content/drive/MyDrive/ASX annual reports/2014 (1655 firms)/ajl14.pdf\n",
            "/content/drive/MyDrive/ASX annual reports/2014 (1655 firms)/aei14.pdf\n",
            "/content/drive/MyDrive/ASX annual reports/2014 (1655 firms)/amb14.pdf\n",
            "/content/drive/MyDrive/ASX annual reports/2014 (1655 firms)/ama14.pdf\n",
            "/content/drive/MyDrive/ASX annual reports/2014 (1655 firms)/ara14.pdf\n",
            "/content/drive/MyDrive/ASX annual reports/2014 (1655 firms)/awn14.pdf\n",
            "/content/drive/MyDrive/ASX annual reports/2014 (1655 firms)/alq14.pdf\n",
            "/content/drive/MyDrive/ASX annual reports/2014 (1655 firms)/air14.pdf\n",
            "/content/drive/MyDrive/ASX annual reports/2014 (1655 firms)/anq14.pdf\n",
            "/content/drive/MyDrive/ASX annual reports/2014 (1655 firms)/azj14.pdf\n",
            "/content/drive/MyDrive/ASX annual reports/2014 (1655 firms)/aio14.pdf\n",
            "/content/drive/MyDrive/ASX annual reports/2014 (1655 firms)/aia14.pdf\n",
            "/content/drive/MyDrive/ASX annual reports/2014 (1655 firms)/ang14.pdf\n",
            "/content/drive/MyDrive/ASX annual reports/2014 (1655 firms)/asb14.pdf\n",
            "/content/drive/MyDrive/ASX annual reports/2014 (1655 firms)/aix14.pdf\n",
            "/content/drive/MyDrive/ASX annual reports/2014 (1655 firms)/bkm14.pdf\n",
            "/content/drive/MyDrive/ASX annual reports/2014 (1655 firms)/aax14.pdf\n",
            "/content/drive/MyDrive/ASX annual reports/2014 (1655 firms)/bol14.pdf\n",
            "/content/drive/MyDrive/ASX annual reports/2014 (1655 firms)/byl14.pdf\n",
            "/content/drive/MyDrive/ASX annual reports/2014 (1655 firms)/bxb14.pdf\n",
            "/content/drive/MyDrive/ASX annual reports/2014 (1655 firms)/cab14.pdf\n",
            "/content/drive/MyDrive/ASX annual reports/2014 (1655 firms)/ccf14.pdf\n",
            "/content/drive/MyDrive/ASX annual reports/2014 (1655 firms)/bkn14.pdf\n",
            "/content/drive/MyDrive/ASX annual reports/2014 (1655 firms)/bsa14.pdf\n",
            "/content/drive/MyDrive/ASX annual reports/2014 (1655 firms)/caq14.pdf\n",
            "/content/drive/MyDrive/ASX annual reports/2014 (1655 firms)/cgh14.pdf\n",
            "/content/drive/MyDrive/ASX annual reports/2014 (1655 firms)/cfu14.pdf\n",
            "/content/drive/MyDrive/ASX annual reports/2014 (1655 firms)/cmg14.pdf\n",
            "/content/drive/MyDrive/ASX annual reports/2014 (1655 firms)/cdd14.pdf\n",
            "/content/drive/MyDrive/ASX annual reports/2014 (1655 firms)/clq14.pdf\n",
            "/content/drive/MyDrive/ASX annual reports/2014 (1655 firms)/chr14.pdf\n",
            "/content/drive/MyDrive/ASX annual reports/2014 (1655 firms)/cgr14.pdf\n",
            "/content/drive/MyDrive/ASX annual reports/2014 (1655 firms)/cyg14.pdf\n",
            "/content/drive/MyDrive/ASX annual reports/2014 (1655 firms)/cof14.pdf\n",
            "/content/drive/MyDrive/ASX annual reports/2014 (1655 firms)/clx14.pdf\n",
            "/content/drive/MyDrive/ASX annual reports/2014 (1655 firms)/cnd14.pdf\n",
            "/content/drive/MyDrive/ASX annual reports/2014 (1655 firms)/crh14.pdf\n",
            "/content/drive/MyDrive/ASX annual reports/2014 (1655 firms)/dcg14.pdf\n",
            "/content/drive/MyDrive/ASX annual reports/2014 (1655 firms)/dgx14.pdf\n",
            "/content/drive/MyDrive/ASX annual reports/2014 (1655 firms)/eal14.pdf\n",
            "/content/drive/MyDrive/ASX annual reports/2014 (1655 firms)/dow14.pdf\n",
            "/content/drive/MyDrive/ASX annual reports/2014 (1655 firms)/emb14.pdf\n",
            "/content/drive/MyDrive/ASX annual reports/2014 (1655 firms)/cup14.pdf\n",
            "/content/drive/MyDrive/ASX annual reports/2014 (1655 firms)/ecv14.pdf\n",
            "/content/drive/MyDrive/ASX annual reports/2014 (1655 firms)/egy14.pdf\n",
            "/content/drive/MyDrive/ASX annual reports/2014 (1655 firms)/eax14.pdf\n",
            "/content/drive/MyDrive/ASX annual reports/2014 (1655 firms)/egn14.pdf\n",
            "/content/drive/MyDrive/ASX annual reports/2014 (1655 firms)/ehl14.pdf\n",
            "/content/drive/MyDrive/ASX annual reports/2014 (1655 firms)/eos14.pdf\n",
            "/content/drive/MyDrive/ASX annual reports/2014 (1655 firms)/egl14.pdf\n",
            "/content/drive/MyDrive/ASX annual reports/2014 (1655 firms)/eza14.pdf\n",
            "/content/drive/MyDrive/ASX annual reports/2014 (1655 firms)/fgi14.pdf\n",
            "/content/drive/MyDrive/ASX annual reports/2014 (1655 firms)/gnv14.pdf\n",
            "/content/drive/MyDrive/ASX annual reports/2014 (1655 firms)/ger14.pdf\n",
            "/content/drive/MyDrive/ASX annual reports/2014 (1655 firms)/gwa14.pdf\n",
            "/content/drive/MyDrive/ASX annual reports/2014 (1655 firms)/gcs14.pdf\n",
            "/content/drive/MyDrive/ASX annual reports/2014 (1655 firms)/evz14.pdf\n",
            "/content/drive/MyDrive/ASX annual reports/2014 (1655 firms)/hjb14.pdf\n",
            "/content/drive/MyDrive/ASX annual reports/2014 (1655 firms)/esi14.pdf\n",
            "/content/drive/MyDrive/ASX annual reports/2014 (1655 firms)/hrl14.pdf\n",
            "/content/drive/MyDrive/ASX annual reports/2014 (1655 firms)/hit14.pdf\n",
            "/content/drive/MyDrive/ASX annual reports/2014 (1655 firms)/iaw14.pdf\n",
            "/content/drive/MyDrive/ASX annual reports/2014 (1655 firms)/shr14.pdf\n",
            "/content/drive/MyDrive/ASX annual reports/2014 (1655 firms)/ivt14.pdf\n",
            "/content/drive/MyDrive/ASX annual reports/2014 (1655 firms)/hng14.pdf\n",
            "/content/drive/MyDrive/ASX annual reports/2014 (1655 firms)/jvg14.pdf\n",
            "/content/drive/MyDrive/ASX annual reports/2014 (1655 firms)/knh14.pdf\n",
            "/content/drive/MyDrive/ASX annual reports/2014 (1655 firms)/kov14.pdf\n",
            "/content/drive/MyDrive/ASX annual reports/2014 (1655 firms)/lgd14.pdf\n",
            "/content/drive/MyDrive/ASX annual reports/2014 (1655 firms)/ksc14.pdf\n",
            "/content/drive/MyDrive/ASX annual reports/2014 (1655 firms)/lau14.pdf\n",
            "/content/drive/MyDrive/ASX annual reports/2014 (1655 firms)/lei14.pdf\n",
            "/content/drive/MyDrive/ASX annual reports/2014 (1655 firms)/lcm14.pdf\n",
            "/content/drive/MyDrive/ASX annual reports/2014 (1655 firms)/mxi14.pdf\n",
            "/content/drive/MyDrive/ASX annual reports/2014 (1655 firms)/mqa14.pdf\n",
            "/content/drive/MyDrive/ASX annual reports/2014 (1655 firms)/lyl14.pdf\n",
            "/content/drive/MyDrive/ASX annual reports/2014 (1655 firms)/mcs14.pdf\n",
            "/content/drive/MyDrive/ASX annual reports/2014 (1655 firms)/mms14.pdf\n",
            "/content/drive/MyDrive/ASX annual reports/2014 (1655 firms)/mfc14.pdf\n",
            "/content/drive/MyDrive/ASX annual reports/2014 (1655 firms)/mbd14.pdf\n",
            "/content/drive/MyDrive/ASX annual reports/2014 (1655 firms)/msi14.pdf\n",
            "/content/drive/MyDrive/ASX annual reports/2014 (1655 firms)/lbl14.pdf\n",
            "/content/drive/MyDrive/ASX annual reports/2014 (1655 firms)/mnd14.pdf\n",
            "/content/drive/MyDrive/ASX annual reports/2014 (1655 firms)/mya14.pdf\n",
            "/content/drive/MyDrive/ASX annual reports/2014 (1655 firms)/nod14.pdf\n",
            "/content/drive/MyDrive/ASX annual reports/2014 (1655 firms)/olh14.pdf\n",
            "/content/drive/MyDrive/ASX annual reports/2014 (1655 firms)/nwh14.pdf\n",
            "/content/drive/MyDrive/ASX annual reports/2014 (1655 firms)/oec14.pdf\n",
            "/content/drive/MyDrive/ASX annual reports/2014 (1655 firms)/orh14.pdf\n",
            "/content/drive/MyDrive/ASX annual reports/2014 (1655 firms)/oti14.pdf\n",
            "/content/drive/MyDrive/ASX annual reports/2014 (1655 firms)/nam14.pdf\n",
            "/content/drive/MyDrive/ASX annual reports/2014 (1655 firms)/phk14.pdf\n",
            "/content/drive/MyDrive/ASX annual reports/2014 (1655 firms)/ofw14.pdf\n",
            "/content/drive/MyDrive/ASX annual reports/2014 (1655 firms)/ppx14.pdf\n",
            "/content/drive/MyDrive/ASX annual reports/2014 (1655 firms)/peh14.pdf\n",
            "/content/drive/MyDrive/ASX annual reports/2014 (1655 firms)/psz14.pdf\n",
            "/content/drive/MyDrive/ASX annual reports/2014 (1655 firms)/ppk14.pdf\n",
            "/content/drive/MyDrive/ASX annual reports/2014 (1655 firms)/otc14.pdf\n",
            "/content/drive/MyDrive/ASX annual reports/2014 (1655 firms)/pmp14.pdf\n",
            "/content/drive/MyDrive/ASX annual reports/2014 (1655 firms)/qxq14.pdf\n",
            "/content/drive/MyDrive/ASX annual reports/2014 (1655 firms)/ptb14.pdf\n",
            "/content/drive/MyDrive/ASX annual reports/2014 (1655 firms)/qub14.pdf\n",
            "/content/drive/MyDrive/ASX annual reports/2014 (1655 firms)/qhl14.pdf\n",
            "/content/drive/MyDrive/ASX annual reports/2014 (1655 firms)/rcm14.pdf\n",
            "/content/drive/MyDrive/ASX annual reports/2014 (1655 firms)/rec14.pdf\n",
            "/content/drive/MyDrive/ASX annual reports/2014 (1655 firms)/prg14.pdf\n",
            "/content/drive/MyDrive/ASX annual reports/2014 (1655 firms)/rcr14.pdf\n",
            "/content/drive/MyDrive/ASX annual reports/2014 (1655 firms)/rfx14.pdf\n",
            "/content/drive/MyDrive/ASX annual reports/2014 (1655 firms)/reh14.pdf\n",
            "/content/drive/MyDrive/ASX annual reports/2014 (1655 firms)/qan14.pdf\n",
            "/content/drive/MyDrive/ASX annual reports/2014 (1655 firms)/rql14.pdf\n",
            "/content/drive/MyDrive/ASX annual reports/2014 (1655 firms)/rub14.pdf\n",
            "/content/drive/MyDrive/ASX annual reports/2014 (1655 firms)/rex14.pdf\n",
            "/content/drive/MyDrive/ASX annual reports/2014 (1655 firms)/ris14.pdf\n",
            "/content/drive/MyDrive/ASX annual reports/2014 (1655 firms)/srh14.pdf\n",
            "/content/drive/MyDrive/ASX annual reports/2014 (1655 firms)/sai14.pdf\n",
            "/content/drive/MyDrive/ASX annual reports/2014 (1655 firms)/sav14.pdf\n",
            "/content/drive/MyDrive/ASX annual reports/2014 (1655 firms)/snd14.pdf\n",
            "/content/drive/MyDrive/ASX annual reports/2014 (1655 firms)/rwh14.pdf\n",
            "/content/drive/MyDrive/ASX annual reports/2014 (1655 firms)/ssm14.pdf\n",
            "/content/drive/MyDrive/ASX annual reports/2014 (1655 firms)/svw14.pdf\n",
            "/content/drive/MyDrive/ASX annual reports/2014 (1655 firms)/rft14.pdf\n",
            "/content/drive/MyDrive/ASX annual reports/2014 (1655 firms)/sdm14.pdf\n",
            "/content/drive/MyDrive/ASX annual reports/2014 (1655 firms)/sst14.pdf\n",
            "/content/drive/MyDrive/ASX annual reports/2014 (1655 firms)/sks14.pdf\n",
            "/content/drive/MyDrive/ASX annual reports/2014 (1655 firms)/tox14.pdf\n",
            "/content/drive/MyDrive/ASX annual reports/2014 (1655 firms)/swl14.pdf\n",
            "/content/drive/MyDrive/ASX annual reports/2014 (1655 firms)/tse14.pdf\n",
            "/content/drive/MyDrive/ASX annual reports/2014 (1655 firms)/wtp14.pdf\n",
            "/content/drive/MyDrive/ASX annual reports/2014 (1655 firms)/wds14.pdf\n",
            "/content/drive/MyDrive/ASX annual reports/2014 (1655 firms)/tti14.pdf\n",
            "/content/drive/MyDrive/ASX annual reports/2014 (1655 firms)/sle14.pdf\n",
            "/content/drive/MyDrive/ASX annual reports/2014 (1655 firms)/siv14.pdf\n",
            "/content/drive/MyDrive/ASX annual reports/2014 (1655 firms)/sit14.pdf\n",
            "/content/drive/MyDrive/ASX annual reports/2014 (1655 firms)/ske14.pdf\n",
            "/content/drive/MyDrive/ASX annual reports/2014 (1655 firms)/soo14.pdf\n",
            "/content/drive/MyDrive/ASX annual reports/2014 (1655 firms)/sts14.pdf\n",
            "/content/drive/MyDrive/ASX annual reports/2014 (1655 firms)/syp14.pdf\n",
            "/content/drive/MyDrive/ASX annual reports/2014 (1655 firms)/szg14.pdf\n",
            "/content/drive/MyDrive/ASX annual reports/2014 (1655 firms)/syd14.pdf\n",
            "/content/drive/MyDrive/ASX annual reports/2014 (1655 firms)/tpp14.pdf\n",
            "/content/drive/MyDrive/ASX annual reports/2014 (1655 firms)/tho14.pdf\n",
            "/content/drive/MyDrive/ASX annual reports/2014 (1655 firms)/tol14.pdf\n",
            "/content/drive/MyDrive/ASX annual reports/2014 (1655 firms)/tpi14.pdf\n",
            "/content/drive/MyDrive/ASX annual reports/2014 (1655 firms)/tup14.pdf\n",
            "/content/drive/MyDrive/ASX annual reports/2014 (1655 firms)/tcl14.pdf\n",
            "/content/drive/MyDrive/ASX annual reports/2014 (1655 firms)/ugl14.pdf\n",
            "/content/drive/MyDrive/ASX annual reports/2014 (1655 firms)/vmg14.pdf\n",
            "/content/drive/MyDrive/ASX annual reports/2014 (1655 firms)/vgp14.pdf\n",
            "/content/drive/MyDrive/ASX annual reports/2014 (1655 firms)/ved14.pdf\n",
            "/content/drive/MyDrive/ASX annual reports/2014 (1655 firms)/vah14.pdf\n",
            "/content/drive/MyDrive/ASX annual reports/2014 (1655 firms)/vip14.pdf\n",
            "/content/drive/MyDrive/ASX annual reports/2014 (1655 firms)/vie14.pdf\n",
            "/content/drive/MyDrive/ASX annual reports/2014 (1655 firms)/vtx14.pdf\n",
            "/content/drive/MyDrive/ASX annual reports/2014 (1655 firms)/xrf14.pdf\n",
            "/content/drive/MyDrive/ASX annual reports/2014 (1655 firms)/xte14.pdf\n",
            "/content/drive/MyDrive/ASX annual reports/2014 (1655 firms)/wll14.pdf\n",
            "/content/drive/MyDrive/ASX annual reports/2014 (1655 firms)/ypb14.pdf\n",
            "/content/drive/MyDrive/ASX annual reports/2014 (1655 firms)/zgl14.pdf\n",
            "/content/drive/MyDrive/ASX annual reports/2014 (1655 firms)/ace14.pdf\n",
            "/content/drive/MyDrive/ASX annual reports/2014 (1655 firms)/akg14.pdf\n",
            "/content/drive/MyDrive/ASX annual reports/2014 (1655 firms)/abv14.pdf\n",
            "/content/drive/MyDrive/ASX annual reports/2014 (1655 firms)/afj14.pdf\n",
            "/content/drive/MyDrive/ASX annual reports/2014 (1655 firms)/acj14.pdf\n",
            "/content/drive/MyDrive/ASX annual reports/2014 (1655 firms)/ahd14.pdf\n",
            "/content/drive/MyDrive/ASX annual reports/2014 (1655 firms)/agi14.pdf\n",
            "/content/drive/MyDrive/ASX annual reports/2014 (1655 firms)/aqu14.pdf\n",
            "/content/drive/MyDrive/ASX annual reports/2014 (1655 firms)/apn14.pdf\n",
            "/content/drive/MyDrive/ASX annual reports/2014 (1655 firms)/arp14.pdf\n",
            "/content/drive/MyDrive/ASX annual reports/2014 (1655 firms)/ape14.pdf\n",
            "/content/drive/MyDrive/ASX annual reports/2014 (1655 firms)/afa14.pdf\n",
            "/content/drive/MyDrive/ASX annual reports/2014 (1655 firms)/aad14.pdf\n",
            "/content/drive/MyDrive/ASX annual reports/2014 (1655 firms)/atp14.pdf\n",
            "/content/drive/MyDrive/ASX annual reports/2014 (1655 firms)/ber14.pdf\n",
            "/content/drive/MyDrive/ASX annual reports/2014 (1655 firms)/all14.pdf\n",
            "/content/drive/MyDrive/ASX annual reports/2014 (1655 firms)/bbg14.pdf\n",
            "/content/drive/MyDrive/ASX annual reports/2014 (1655 firms)/bop14.pdf\n",
            "/content/drive/MyDrive/ASX annual reports/2014 (1655 firms)/ahe14.pdf\n",
            "/content/drive/MyDrive/ASX annual reports/2014 (1655 firms)/bic14.pdf\n",
            "/content/drive/MyDrive/ASX annual reports/2014 (1655 firms)/brg14.pdf\n",
            "/content/drive/MyDrive/ASX annual reports/2014 (1655 firms)/bpg14.pdf\n",
            "/content/drive/MyDrive/ASX annual reports/2014 (1655 firms)/akp14.pdf\n"
          ]
        }
      ]
    },
    {
      "cell_type": "markdown",
      "metadata": {
        "id": "i90NhSkBBaZP"
      },
      "source": [
        "check the number of files in the first list"
      ]
    },
    {
      "cell_type": "code",
      "metadata": {
        "id": "GIxYwCQF1yLR",
        "colab": {
          "base_uri": "https://localhost:8080/"
        },
        "outputId": "ef6494d4-0c83-4699-8397-7e4a63d96b3c"
      },
      "source": [
        "len(new_list1)"
      ],
      "execution_count": null,
      "outputs": [
        {
          "output_type": "execute_result",
          "data": {
            "text/plain": [
              "500"
            ]
          },
          "metadata": {},
          "execution_count": 7
        }
      ]
    },
    {
      "cell_type": "markdown",
      "metadata": {
        "id": "G8mYbEmiKNAR"
      },
      "source": [
        "### Step 3.2: List 2"
      ]
    },
    {
      "cell_type": "code",
      "metadata": {
        "id": "eAAT2LUCtr7U",
        "colab": {
          "base_uri": "https://localhost:8080/"
        },
        "outputId": "cb93b6fd-229c-4b60-b72c-cd3d770fbb8c"
      },
      "source": [
        "new_list2={}\n",
        "\n",
        "for file in file_list[500:1000]:   # start from 500, up to 1000 but not including\n",
        "  print(file)\n",
        "    \n",
        "  if file.endswith(\".pdf\"):\n",
        "    try:\n",
        "      with pdfplumber.open(file) as pdf:\n",
        "        fulltext = \"\"\n",
        "        try:\n",
        "          for page in pdf.pages:\n",
        "            try:\n",
        "              text = page.extract_text()\n",
        "              fulltext += str(text)\n",
        "            except:\n",
        "              fulltext = \"\"\n",
        "              print(\"Blank\")\n",
        "            finally:\n",
        "              pass\n",
        "        except:\n",
        "          pass\n",
        "    except:\n",
        "      pass\n",
        "        \n",
        "        \n",
        "    new_list2[file]=(fulltext) "
      ],
      "execution_count": null,
      "outputs": [
        {
          "output_type": "stream",
          "name": "stdout",
          "text": [
            "/content/drive/MyDrive/ASX annual reports/2014 (1655 firms)/cgw14.pdf\n",
            "/content/drive/MyDrive/ASX annual reports/2014 (1655 firms)/cik14.pdf\n",
            "/content/drive/MyDrive/ASX annual reports/2014 (1655 firms)/ckf14.pdf\n",
            "/content/drive/MyDrive/ASX annual reports/2014 (1655 firms)/ctd14.pdf\n",
            "/content/drive/MyDrive/ASX annual reports/2014 (1655 firms)/dlc14.pdf\n",
            "/content/drive/MyDrive/ASX annual reports/2014 (1655 firms)/dsh14.pdf\n",
            "/content/drive/MyDrive/ASX annual reports/2014 (1655 firms)/dvi14.pdf\n",
            "/content/drive/MyDrive/ASX annual reports/2014 (1655 firms)/dmp14.pdf\n",
            "/content/drive/MyDrive/ASX annual reports/2014 (1655 firms)/ddt14.pdf\n",
            "/content/drive/MyDrive/ASX annual reports/2014 (1655 firms)/cwn14.pdf\n",
            "/content/drive/MyDrive/ASX annual reports/2014 (1655 firms)/ebg14.pdf\n",
            "/content/drive/MyDrive/ASX annual reports/2014 (1655 firms)/fan14.pdf\n",
            "/content/drive/MyDrive/ASX annual reports/2014 (1655 firms)/dna14.pdf\n",
            "/content/drive/MyDrive/ASX annual reports/2014 (1655 firms)/egp14.pdf\n",
            "/content/drive/MyDrive/ASX annual reports/2014 (1655 firms)/ebt14.pdf\n",
            "/content/drive/MyDrive/ASX annual reports/2014 (1655 firms)/fun14.pdf\n",
            "/content/drive/MyDrive/ASX annual reports/2014 (1655 firms)/fwd14.pdf\n",
            "/content/drive/MyDrive/ASX annual reports/2014 (1655 firms)/flt14.pdf\n",
            "/content/drive/MyDrive/ASX annual reports/2014 (1655 firms)/gap14.pdf\n",
            "/content/drive/MyDrive/ASX annual reports/2014 (1655 firms)/gzl14.pdf\n",
            "/content/drive/MyDrive/ASX annual reports/2014 (1655 firms)/fln14.pdf\n",
            "/content/drive/MyDrive/ASX annual reports/2014 (1655 firms)/gle14.pdf\n",
            "/content/drive/MyDrive/ASX annual reports/2014 (1655 firms)/gxl14.pdf\n",
            "/content/drive/MyDrive/ASX annual reports/2014 (1655 firms)/hlo14.pdf\n",
            "/content/drive/MyDrive/ASX annual reports/2014 (1655 firms)/glb14.pdf\n",
            "/content/drive/MyDrive/ASX annual reports/2014 (1655 firms)/gud14.pdf\n",
            "/content/drive/MyDrive/ASX annual reports/2014 (1655 firms)/icp14.pdf\n",
            "/content/drive/MyDrive/ASX annual reports/2014 (1655 firms)/gem14.pdf\n",
            "/content/drive/MyDrive/ASX annual reports/2014 (1655 firms)/ict14.pdf\n",
            "/content/drive/MyDrive/ASX annual reports/2014 (1655 firms)/hvn14.pdf\n",
            "/content/drive/MyDrive/ASX annual reports/2014 (1655 firms)/idz14.pdf\n",
            "/content/drive/MyDrive/ASX annual reports/2014 (1655 firms)/idp14.pdf\n",
            "/content/drive/MyDrive/ASX annual reports/2014 (1655 firms)/jyc14.pdf\n",
            "/content/drive/MyDrive/ASX annual reports/2014 (1655 firms)/jbh14.pdf\n",
            "/content/drive/MyDrive/ASX annual reports/2014 (1655 firms)/isu14.pdf\n",
            "/content/drive/MyDrive/ASX annual reports/2014 (1655 firms)/jat14.pdf\n",
            "/content/drive/MyDrive/ASX annual reports/2014 (1655 firms)/jin14.pdf\n",
            "/content/drive/MyDrive/ASX annual reports/2014 (1655 firms)/las14.pdf\n",
            "/content/drive/MyDrive/ASX annual reports/2014 (1655 firms)/kmd14.pdf\n",
            "/content/drive/MyDrive/ASX annual reports/2014 (1655 firms)/ivc14.pdf\n",
            "/content/drive/MyDrive/ASX annual reports/2014 (1655 firms)/kfg14.pdf\n",
            "/content/drive/MyDrive/ASX annual reports/2014 (1655 firms)/kme14.pdf\n",
            "/content/drive/MyDrive/ASX annual reports/2014 (1655 firms)/mzu14.pdf\n",
            "/content/drive/MyDrive/ASX annual reports/2014 (1655 firms)/mui14.pdf\n",
            "/content/drive/MyDrive/ASX annual reports/2014 (1655 firms)/mhi14.pdf\n",
            "/content/drive/MyDrive/ASX annual reports/2014 (1655 firms)/krs14.pdf\n",
            "/content/drive/MyDrive/ASX annual reports/2014 (1655 firms)/nhh14.pdf\n",
            "/content/drive/MyDrive/ASX annual reports/2014 (1655 firms)/nvt14.pdf\n",
            "/content/drive/MyDrive/ASX annual reports/2014 (1655 firms)/lfc14.pdf\n",
            "/content/drive/MyDrive/ASX annual reports/2014 (1655 firms)/nbl14.pdf\n",
            "/content/drive/MyDrive/ASX annual reports/2014 (1655 firms)/nck14.pdf\n",
            "/content/drive/MyDrive/ASX annual reports/2014 (1655 firms)/orl14.pdf\n",
            "/content/drive/MyDrive/ASX annual reports/2014 (1655 firms)/qtm14.pdf\n",
            "/content/drive/MyDrive/ASX annual reports/2014 (1655 firms)/pmv14.pdf\n",
            "/content/drive/MyDrive/ASX annual reports/2014 (1655 firms)/qfx14.pdf\n",
            "/content/drive/MyDrive/ASX annual reports/2014 (1655 firms)/myr14.pdf\n",
            "/content/drive/MyDrive/ASX annual reports/2014 (1655 firms)/rma14.pdf\n",
            "/content/drive/MyDrive/ASX annual reports/2014 (1655 firms)/rct14.pdf\n",
            "/content/drive/MyDrive/ASX annual reports/2014 (1655 firms)/rdh14.pdf\n",
            "/content/drive/MyDrive/ASX annual reports/2014 (1655 firms)/shu14.pdf\n",
            "/content/drive/MyDrive/ASX annual reports/2014 (1655 firms)/rhl14.pdf\n",
            "/content/drive/MyDrive/ASX annual reports/2014 (1655 firms)/slk14.pdf\n",
            "/content/drive/MyDrive/ASX annual reports/2014 (1655 firms)/shp14.pdf\n",
            "/content/drive/MyDrive/ASX annual reports/2014 (1655 firms)/shj14.pdf\n",
            "/content/drive/MyDrive/ASX annual reports/2014 (1655 firms)/sfc14.pdf\n",
            "/content/drive/MyDrive/ASX annual reports/2014 (1655 firms)/sgh14.pdf\n",
            "/content/drive/MyDrive/ASX annual reports/2014 (1655 firms)/sfh14.pdf\n",
            "/content/drive/MyDrive/ASX annual reports/2014 (1655 firms)/skc14.pdf\n",
            "/content/drive/MyDrive/ASX annual reports/2014 (1655 firms)/sgu14.pdf\n",
            "/content/drive/MyDrive/ASX annual reports/2014 (1655 firms)/rfg14.pdf\n",
            "/content/drive/MyDrive/ASX annual reports/2014 (1655 firms)/twd14.pdf\n",
            "/content/drive/MyDrive/ASX annual reports/2014 (1655 firms)/tah14.pdf\n",
            "/content/drive/MyDrive/ASX annual reports/2014 (1655 firms)/snl14.pdf\n",
            "/content/drive/MyDrive/ASX annual reports/2014 (1655 firms)/sgn14.pdf\n",
            "/content/drive/MyDrive/ASX annual reports/2014 (1655 firms)/trs14.pdf\n",
            "/content/drive/MyDrive/ASX annual reports/2014 (1655 firms)/tts14.pdf\n",
            "/content/drive/MyDrive/ASX annual reports/2014 (1655 firms)/tyo14.pdf\n",
            "/content/drive/MyDrive/ASX annual reports/2014 (1655 firms)/tco14.pdf\n",
            "/content/drive/MyDrive/ASX annual reports/2014 (1655 firms)/tau14.pdf\n",
            "/content/drive/MyDrive/ASX annual reports/2014 (1655 firms)/ucw14.pdf\n",
            "/content/drive/MyDrive/ASX annual reports/2014 (1655 firms)/tta14.pdf\n",
            "/content/drive/MyDrive/ASX annual reports/2014 (1655 firms)/tme14.pdf\n",
            "/content/drive/MyDrive/ASX annual reports/2014 (1655 firms)/tga14.pdf\n",
            "/content/drive/MyDrive/ASX annual reports/2014 (1655 firms)/vmt14.pdf\n",
            "/content/drive/MyDrive/ASX annual reports/2014 (1655 firms)/web14.pdf\n",
            "/content/drive/MyDrive/ASX annual reports/2014 (1655 firms)/vet14.pdf\n",
            "/content/drive/MyDrive/ASX annual reports/2014 (1655 firms)/vtg14.pdf\n",
            "/content/drive/MyDrive/ASX annual reports/2014 (1655 firms)/yhl14.pdf\n",
            "/content/drive/MyDrive/ASX annual reports/2014 (1655 firms)/wtf14.pdf\n",
            "/content/drive/MyDrive/ASX annual reports/2014 (1655 firms)/wat14.pdf\n",
            "/content/drive/MyDrive/ASX annual reports/2014 (1655 firms)/sul14.pdf\n",
            "/content/drive/MyDrive/ASX annual reports/2014 (1655 firms)/ont14.pdf\n",
            "/content/drive/MyDrive/ASX annual reports/2014 (1655 firms)/acu14.pdf\n",
            "/content/drive/MyDrive/ASX annual reports/2014 (1655 firms)/amt14.pdf\n",
            "/content/drive/MyDrive/ASX annual reports/2014 (1655 firms)/acr14.pdf\n",
            "/content/drive/MyDrive/ASX annual reports/2014 (1655 firms)/ahz14.pdf\n",
            "/content/drive/MyDrive/ASX annual reports/2014 (1655 firms)/ado14.pdf\n",
            "/content/drive/MyDrive/ASX annual reports/2014 (1655 firms)/ann14.pdf\n",
            "/content/drive/MyDrive/ASX annual reports/2014 (1655 firms)/acl14.pdf\n",
            "/content/drive/MyDrive/ASX annual reports/2014 (1655 firms)/acg14.pdf\n",
            "/content/drive/MyDrive/ASX annual reports/2014 (1655 firms)/aap14.pdf\n",
            "/content/drive/MyDrive/ASX annual reports/2014 (1655 firms)/aop14.pdf\n",
            "/content/drive/MyDrive/ASX annual reports/2014 (1655 firms)/avx14.pdf\n",
            "/content/drive/MyDrive/ASX annual reports/2014 (1655 firms)/ajj14.pdf\n",
            "/content/drive/MyDrive/ASX annual reports/2014 (1655 firms)/aac14.pdf\n",
            "/content/drive/MyDrive/ASX annual reports/2014 (1655 firms)/avh14.pdf\n",
            "/content/drive/MyDrive/ASX annual reports/2014 (1655 firms)/avg14.pdf\n",
            "/content/drive/MyDrive/ASX annual reports/2014 (1655 firms)/bit14.pdf\n",
            "/content/drive/MyDrive/ASX annual reports/2014 (1655 firms)/api14.pdf\n",
            "/content/drive/MyDrive/ASX annual reports/2014 (1655 firms)/bxn14.pdf\n",
            "/content/drive/MyDrive/ASX annual reports/2014 (1655 firms)/bph14.pdf\n",
            "/content/drive/MyDrive/ASX annual reports/2014 (1655 firms)/bne14.pdf\n",
            "/content/drive/MyDrive/ASX annual reports/2014 (1655 firms)/bkl14.pdf\n",
            "/content/drive/MyDrive/ASX annual reports/2014 (1655 firms)/bga14.pdf\n",
            "/content/drive/MyDrive/ASX annual reports/2014 (1655 firms)/czz14.pdf\n",
            "/content/drive/MyDrive/ASX annual reports/2014 (1655 firms)/brc14.pdf\n",
            "/content/drive/MyDrive/ASX annual reports/2014 (1655 firms)/bno14.pdf\n",
            "/content/drive/MyDrive/ASX annual reports/2014 (1655 firms)/caj14.pdf\n",
            "/content/drive/MyDrive/ASX annual reports/2014 (1655 firms)/bug14.pdf\n",
            "/content/drive/MyDrive/ASX annual reports/2014 (1655 firms)/cdy14.pdf\n",
            "/content/drive/MyDrive/ASX annual reports/2014 (1655 firms)/cir14.pdf\n",
            "/content/drive/MyDrive/ASX annual reports/2014 (1655 firms)/cuv14.pdf\n",
            "/content/drive/MyDrive/ASX annual reports/2014 (1655 firms)/coh14.pdf\n",
            "/content/drive/MyDrive/ASX annual reports/2014 (1655 firms)/cgs14.pdf\n",
            "/content/drive/MyDrive/ASX annual reports/2014 (1655 firms)/cte14.pdf\n",
            "/content/drive/MyDrive/ASX annual reports/2014 (1655 firms)/css14.pdf\n",
            "/content/drive/MyDrive/ASX annual reports/2014 (1655 firms)/csl14.pdf\n",
            "/content/drive/MyDrive/ASX annual reports/2014 (1655 firms)/ccl14.pdf\n",
            "/content/drive/MyDrive/ASX annual reports/2014 (1655 firms)/dvl14.pdf\n",
            "/content/drive/MyDrive/ASX annual reports/2014 (1655 firms)/ebo14.pdf\n",
            "/content/drive/MyDrive/ASX annual reports/2014 (1655 firms)/dmy14.pdf\n",
            "/content/drive/MyDrive/ASX annual reports/2014 (1655 firms)/ffi14.pdf\n",
            "/content/drive/MyDrive/ASX annual reports/2014 (1655 firms)/elx14.pdf\n",
            "/content/drive/MyDrive/ASX annual reports/2014 (1655 firms)/cyp14.pdf\n",
            "/content/drive/MyDrive/ASX annual reports/2014 (1655 firms)/epa14.pdf\n",
            "/content/drive/MyDrive/ASX annual reports/2014 (1655 firms)/grb14.pdf\n",
            "/content/drive/MyDrive/ASX annual reports/2014 (1655 firms)/eld14.pdf\n",
            "/content/drive/MyDrive/ASX annual reports/2014 (1655 firms)/fph14.pdf\n",
            "/content/drive/MyDrive/ASX annual reports/2014 (1655 firms)/gid14.pdf\n",
            "/content/drive/MyDrive/ASX annual reports/2014 (1655 firms)/glh14.pdf\n",
            "/content/drive/MyDrive/ASX annual reports/2014 (1655 firms)/htx14.pdf\n",
            "/content/drive/MyDrive/ASX annual reports/2014 (1655 firms)/gff14.pdf\n",
            "/content/drive/MyDrive/ASX annual reports/2014 (1655 firms)/ics14.pdf\n",
            "/content/drive/MyDrive/ASX annual reports/2014 (1655 firms)/fnp14.pdf\n",
            "/content/drive/MyDrive/ASX annual reports/2014 (1655 firms)/idt14.pdf\n",
            "/content/drive/MyDrive/ASX annual reports/2014 (1655 firms)/fsf14.pdf\n",
            "/content/drive/MyDrive/ASX annual reports/2014 (1655 firms)/iil14.pdf\n",
            "/content/drive/MyDrive/ASX annual reports/2014 (1655 firms)/gnc14.pdf\n",
            "/content/drive/MyDrive/ASX annual reports/2014 (1655 firms)/lbt14.pdf\n",
            "/content/drive/MyDrive/ASX annual reports/2014 (1655 firms)/lct14.pdf\n",
            "/content/drive/MyDrive/ASX annual reports/2014 (1655 firms)/imi14.pdf\n",
            "/content/drive/MyDrive/ASX annual reports/2014 (1655 firms)/mla14.pdf\n",
            "/content/drive/MyDrive/ASX annual reports/2014 (1655 firms)/myx14.pdf\n",
            "/content/drive/MyDrive/ASX annual reports/2014 (1655 firms)/mgz14.pdf\n",
            "/content/drive/MyDrive/ASX annual reports/2014 (1655 firms)/ivx14.pdf\n",
            "/content/drive/MyDrive/ASX annual reports/2014 (1655 firms)/mti14.pdf\n",
            "/content/drive/MyDrive/ASX annual reports/2014 (1655 firms)/nan14.pdf\n",
            "/content/drive/MyDrive/ASX annual reports/2014 (1655 firms)/msb14.pdf\n",
            "/content/drive/MyDrive/ASX annual reports/2014 (1655 firms)/neu14.pdf\n",
            "/content/drive/MyDrive/ASX annual reports/2014 (1655 firms)/obj14.pdf\n",
            "/content/drive/MyDrive/ASX annual reports/2014 (1655 firms)/oil14.pdf\n",
            "/content/drive/MyDrive/ASX annual reports/2014 (1655 firms)/ozb14.pdf\n",
            "/content/drive/MyDrive/ASX annual reports/2014 (1655 firms)/mcp14.pdf\n",
            "/content/drive/MyDrive/ASX annual reports/2014 (1655 firms)/omi14.pdf\n",
            "/content/drive/MyDrive/ASX annual reports/2014 (1655 firms)/osp14.pdf\n",
            "/content/drive/MyDrive/ASX annual reports/2014 (1655 firms)/pgc14.pdf\n",
            "/content/drive/MyDrive/ASX annual reports/2014 (1655 firms)/phw14.pdf\n",
            "/content/drive/MyDrive/ASX annual reports/2014 (1655 firms)/paa14.pdf\n",
            "/content/drive/MyDrive/ASX annual reports/2014 (1655 firms)/pab14.pdf\n",
            "/content/drive/MyDrive/ASX annual reports/2014 (1655 firms)/pxs14.pdf\n",
            "/content/drive/MyDrive/ASX annual reports/2014 (1655 firms)/pry14.pdf\n",
            "/content/drive/MyDrive/ASX annual reports/2014 (1655 firms)/pyc14.pdf\n",
            "/content/drive/MyDrive/ASX annual reports/2014 (1655 firms)/pop14.pdf\n",
            "/content/drive/MyDrive/ASX annual reports/2014 (1655 firms)/nrt14.pdf\n",
            "/content/drive/MyDrive/ASX annual reports/2014 (1655 firms)/pva14.pdf\n",
            "/content/drive/MyDrive/ASX annual reports/2014 (1655 firms)/qrx14.pdf\n",
            "/content/drive/MyDrive/ASX annual reports/2014 (1655 firms)/rgp14.pdf\n",
            "/content/drive/MyDrive/ASX annual reports/2014 (1655 firms)/rgs14.pdf\n",
            "/content/drive/MyDrive/ASX annual reports/2014 (1655 firms)/pme14.pdf\n",
            "/content/drive/MyDrive/ASX annual reports/2014 (1655 firms)/rhs14.pdf\n",
            "/content/drive/MyDrive/ASX annual reports/2014 (1655 firms)/rht14.pdf\n",
            "/content/drive/MyDrive/ASX annual reports/2014 (1655 firms)/rva14.pdf\n",
            "/content/drive/MyDrive/ASX annual reports/2014 (1655 firms)/ric14.pdf\n",
            "/content/drive/MyDrive/ASX annual reports/2014 (1655 firms)/sie14.pdf\n",
            "/content/drive/MyDrive/ASX annual reports/2014 (1655 firms)/sfp14.pdf\n",
            "/content/drive/MyDrive/ASX annual reports/2014 (1655 firms)/sip14.pdf\n",
            "/content/drive/MyDrive/ASX annual reports/2014 (1655 firms)/shv14.pdf\n",
            "/content/drive/MyDrive/ASX annual reports/2014 (1655 firms)/srx14.pdf\n",
            "/content/drive/MyDrive/ASX annual reports/2014 (1655 firms)/rno14.pdf\n",
            "/content/drive/MyDrive/ASX annual reports/2014 (1655 firms)/soi14.pdf\n",
            "/content/drive/MyDrive/ASX annual reports/2014 (1655 firms)/som14.pdf\n",
            "/content/drive/MyDrive/ASX annual reports/2014 (1655 firms)/snz14.pdf\n",
            "/content/drive/MyDrive/ASX annual reports/2014 (1655 firms)/spl14.pdf\n",
            "/content/drive/MyDrive/ASX annual reports/2014 (1655 firms)/shl14.pdf\n",
            "/content/drive/MyDrive/ASX annual reports/2014 (1655 firms)/sbn14.pdf\n",
            "/content/drive/MyDrive/ASX annual reports/2014 (1655 firms)/tgr14.pdf\n",
            "/content/drive/MyDrive/ASX annual reports/2014 (1655 firms)/tis14.pdf\n",
            "/content/drive/MyDrive/ASX annual reports/2014 (1655 firms)/twe14.pdf\n",
            "/content/drive/MyDrive/ASX annual reports/2014 (1655 firms)/twh14.pdf\n",
            "/content/drive/MyDrive/ASX annual reports/2014 (1655 firms)/tan14.pdf\n",
            "/content/drive/MyDrive/ASX annual reports/2014 (1655 firms)/rhc14.pdf\n",
            "/content/drive/MyDrive/ASX annual reports/2014 (1655 firms)/vhl14.pdf\n",
            "/content/drive/MyDrive/ASX annual reports/2014 (1655 firms)/vla14.pdf\n",
            "/content/drive/MyDrive/ASX annual reports/2014 (1655 firms)/ucm14.pdf\n",
            "/content/drive/MyDrive/ASX annual reports/2014 (1655 firms)/ubi14.pdf\n",
            "/content/drive/MyDrive/ASX annual reports/2014 (1655 firms)/wcb14.pdf\n",
            "/content/drive/MyDrive/ASX annual reports/2014 (1655 firms)/vei14.pdf\n",
            "/content/drive/MyDrive/ASX annual reports/2014 (1655 firms)/vrt14.pdf\n",
            "/content/drive/MyDrive/ASX annual reports/2014 (1655 firms)/vsc14.pdf\n",
            "/content/drive/MyDrive/ASX annual reports/2014 (1655 firms)/yow14.pdf\n",
            "/content/drive/MyDrive/ASX annual reports/2014 (1655 firms)/wes14.pdf\n",
            "/content/drive/MyDrive/ASX annual reports/2014 (1655 firms)/wba14.pdf\n",
            "/content/drive/MyDrive/ASX annual reports/2014 (1655 firms)/wow14.pdf\n",
            "/content/drive/MyDrive/ASX annual reports/2014 (1655 firms)/ayi14.pdf\n",
            "/content/drive/MyDrive/ASX annual reports/2014 (1655 firms)/aha14.pdf\n",
            "/content/drive/MyDrive/ASX annual reports/2014 (1655 firms)/asw14.pdf\n",
            "/content/drive/MyDrive/ASX annual reports/2014 (1655 firms)/app14.pdf\n",
            "/content/drive/MyDrive/ASX annual reports/2014 (1655 firms)/auf14.pdf\n",
            "/content/drive/MyDrive/ASX annual reports/2014 (1655 firms)/akf14.pdf\n",
            "/content/drive/MyDrive/ASX annual reports/2014 (1655 firms)/alr14.pdf\n",
            "/content/drive/MyDrive/ASX annual reports/2014 (1655 firms)/abw14.pdf\n",
            "/content/drive/MyDrive/ASX annual reports/2014 (1655 firms)/agf14.pdf\n",
            "/content/drive/MyDrive/ASX annual reports/2014 (1655 firms)/amp14.pdf\n",
            "/content/drive/MyDrive/ASX annual reports/2014 (1655 firms)/asx14.pdf\n",
            "/content/drive/MyDrive/ASX annual reports/2014 (1655 firms)/afv14.pdf\n",
            "/content/drive/MyDrive/ASX annual reports/2014 (1655 firms)/ack14.pdf\n",
            "/content/drive/MyDrive/ASX annual reports/2014 (1655 firms)/aqf14.pdf\n",
            "/content/drive/MyDrive/ASX annual reports/2014 (1655 firms)/aub14.pdf\n",
            "/content/drive/MyDrive/ASX annual reports/2014 (1655 firms)/anz14.pdf\n",
            "/content/drive/MyDrive/ASX annual reports/2014 (1655 firms)/aef14.pdf\n",
            "/content/drive/MyDrive/ASX annual reports/2014 (1655 firms)/aky14.pdf\n",
            "/content/drive/MyDrive/ASX annual reports/2014 (1655 firms)/bfg14.pdf\n",
            "/content/drive/MyDrive/ASX annual reports/2014 (1655 firms)/imf14.pdf\n",
            "/content/drive/MyDrive/ASX annual reports/2014 (1655 firms)/btc14.pdf\n",
            "/content/drive/MyDrive/ASX annual reports/2014 (1655 firms)/ben14.pdf\n",
            "/content/drive/MyDrive/ASX annual reports/2014 (1655 firms)/bsn14.pdf\n",
            "/content/drive/MyDrive/ASX annual reports/2014 (1655 firms)/bla14.pdf\n",
            "/content/drive/MyDrive/ASX annual reports/2014 (1655 firms)/btt14.pdf\n",
            "/content/drive/MyDrive/ASX annual reports/2014 (1655 firms)/boq14.pdf\n",
            "/content/drive/MyDrive/ASX annual reports/2014 (1655 firms)/cfy14.pdf\n",
            "/content/drive/MyDrive/ASX annual reports/2014 (1655 firms)/cya14.pdf\n",
            "/content/drive/MyDrive/ASX annual reports/2014 (1655 firms)/ccv14.pdf\n",
            "/content/drive/MyDrive/ASX annual reports/2014 (1655 firms)/caf14.pdf\n",
            "/content/drive/MyDrive/ASX annual reports/2014 (1655 firms)/cii14.pdf\n",
            "/content/drive/MyDrive/ASX annual reports/2014 (1655 firms)/chf14.pdf\n",
            "/content/drive/MyDrive/ASX annual reports/2014 (1655 firms)/cgf14.pdf\n",
            "/content/drive/MyDrive/ASX annual reports/2014 (1655 firms)/bwf14.pdf\n",
            "/content/drive/MyDrive/ASX annual reports/2014 (1655 firms)/cvw14.pdf\n",
            "/content/drive/MyDrive/ASX annual reports/2014 (1655 firms)/chp14.pdf\n",
            "/content/drive/MyDrive/ASX annual reports/2014 (1655 firms)/ciw14.pdf\n",
            "/content/drive/MyDrive/ASX annual reports/2014 (1655 firms)/cot14.pdf\n",
            "/content/drive/MyDrive/ASX annual reports/2014 (1655 firms)/cba14.pdf\n",
            "/content/drive/MyDrive/ASX annual reports/2014 (1655 firms)/clh14.pdf\n",
            "/content/drive/MyDrive/ASX annual reports/2014 (1655 firms)/ccp14.pdf\n",
            "/content/drive/MyDrive/ASX annual reports/2014 (1655 firms)/cvc14.pdf\n",
            "/content/drive/MyDrive/ASX annual reports/2014 (1655 firms)/eas14.pdf\n",
            "/content/drive/MyDrive/ASX annual reports/2014 (1655 firms)/dcc14.pdf\n",
            "/content/drive/MyDrive/ASX annual reports/2014 (1655 firms)/ctn14.pdf\n",
            "/content/drive/MyDrive/ASX annual reports/2014 (1655 firms)/dva14.pdf\n",
            "/content/drive/MyDrive/ASX annual reports/2014 (1655 firms)/eml14.pdf\n",
            "/content/drive/MyDrive/ASX annual reports/2014 (1655 firms)/eqt14.pdf\n",
            "/content/drive/MyDrive/ASX annual reports/2014 (1655 firms)/cvo14.pdf\n",
            "/content/drive/MyDrive/ASX annual reports/2014 (1655 firms)/ezl14.pdf\n",
            "/content/drive/MyDrive/ASX annual reports/2014 (1655 firms)/fps14.pdf\n",
            "/content/drive/MyDrive/ASX annual reports/2014 (1655 firms)/fsa14.pdf\n",
            "/content/drive/MyDrive/ASX annual reports/2014 (1655 firms)/ggh14.pdf\n",
            "/content/drive/MyDrive/ASX annual reports/2014 (1655 firms)/grf14.pdf\n",
            "/content/drive/MyDrive/ASX annual reports/2014 (1655 firms)/gma14.pdf\n",
            "/content/drive/MyDrive/ASX annual reports/2014 (1655 firms)/ffg14.pdf\n",
            "/content/drive/MyDrive/ASX annual reports/2014 (1655 firms)/gmy14.pdf\n",
            "/content/drive/MyDrive/ASX annual reports/2014 (1655 firms)/fff14.pdf\n",
            "/content/drive/MyDrive/ASX annual reports/2014 (1655 firms)/gba14.pdf\n",
            "/content/drive/MyDrive/ASX annual reports/2014 (1655 firms)/gow14.pdf\n",
            "/content/drive/MyDrive/ASX annual reports/2014 (1655 firms)/hfa14.pdf\n",
            "/content/drive/MyDrive/ASX annual reports/2014 (1655 firms)/hls14.pdf\n",
            "/content/drive/MyDrive/ASX annual reports/2014 (1655 firms)/grp14.pdf\n",
            "/content/drive/MyDrive/ASX annual reports/2014 (1655 firms)/hhv14.pdf\n",
            "/content/drive/MyDrive/ASX annual reports/2014 (1655 firms)/hgg14.pdf\n",
            "/content/drive/MyDrive/ASX annual reports/2014 (1655 firms)/hub14.pdf\n",
            "/content/drive/MyDrive/ASX annual reports/2014 (1655 firms)/hhl14.pdf\n",
            "/content/drive/MyDrive/ASX annual reports/2014 (1655 firms)/hom14.pdf\n",
            "/content/drive/MyDrive/ASX annual reports/2014 (1655 firms)/ipa14.pdf\n",
            "/content/drive/MyDrive/ASX annual reports/2014 (1655 firms)/iag14.pdf\n",
            "/content/drive/MyDrive/ASX annual reports/2014 (1655 firms)/kam14.pdf\n",
            "/content/drive/MyDrive/ASX annual reports/2014 (1655 firms)/ipc14.pdf\n",
            "/content/drive/MyDrive/ASX annual reports/2014 (1655 firms)/ipe14.pdf\n",
            "/content/drive/MyDrive/ASX annual reports/2014 (1655 firms)/ifl14.pdf\n",
            "/content/drive/MyDrive/ASX annual reports/2014 (1655 firms)/kbc14.pdf\n",
            "/content/drive/MyDrive/ASX annual reports/2014 (1655 firms)/lce14.pdf\n",
            "/content/drive/MyDrive/ASX annual reports/2014 (1655 firms)/mfg14.pdf\n",
            "/content/drive/MyDrive/ASX annual reports/2014 (1655 firms)/mff14.pdf\n",
            "/content/drive/MyDrive/ASX annual reports/2014 (1655 firms)/mcx14.pdf\n",
            "/content/drive/MyDrive/ASX annual reports/2014 (1655 firms)/mws14.pdf\n",
            "/content/drive/MyDrive/ASX annual reports/2014 (1655 firms)/mny14.pdf\n",
            "/content/drive/MyDrive/ASX annual reports/2014 (1655 firms)/mut14.pdf\n",
            "/content/drive/MyDrive/ASX annual reports/2014 (1655 firms)/mch14.pdf\n",
            "/content/drive/MyDrive/ASX annual reports/2014 (1655 firms)/mqg14.pdf\n",
            "/content/drive/MyDrive/ASX annual reports/2014 (1655 firms)/moc14.pdf\n",
            "/content/drive/MyDrive/ASX annual reports/2014 (1655 firms)/mys14.pdf\n",
            "/content/drive/MyDrive/ASX annual reports/2014 (1655 firms)/ocp14.pdf\n",
            "/content/drive/MyDrive/ASX annual reports/2014 (1655 firms)/nhf14.pdf\n",
            "/content/drive/MyDrive/ASX annual reports/2014 (1655 firms)/oeq14.pdf\n",
            "/content/drive/MyDrive/ASX annual reports/2014 (1655 firms)/nsx14.pdf\n",
            "/content/drive/MyDrive/ASX annual reports/2014 (1655 firms)/onc14.pdf\n",
            "/content/drive/MyDrive/ASX annual reports/2014 (1655 firms)/ppt14.pdf\n",
            "/content/drive/MyDrive/ASX annual reports/2014 (1655 firms)/poh14.pdf\n",
            "/content/drive/MyDrive/ASX annual reports/2014 (1655 firms)/nab14.pdf\n",
            "/content/drive/MyDrive/ASX annual reports/2014 (1655 firms)/pfg14.pdf\n",
            "/content/drive/MyDrive/ASX annual reports/2014 (1655 firms)/ptm14.pdf\n",
            "/content/drive/MyDrive/ASX annual reports/2014 (1655 firms)/qst14.pdf\n",
            "/content/drive/MyDrive/ASX annual reports/2014 (1655 firms)/que14.pdf\n",
            "/content/drive/MyDrive/ASX annual reports/2014 (1655 firms)/pha14.pdf\n",
            "/content/drive/MyDrive/ASX annual reports/2014 (1655 firms)/rks14.pdf\n",
            "/content/drive/MyDrive/ASX annual reports/2014 (1655 firms)/sfn14.pdf\n",
            "/content/drive/MyDrive/ASX annual reports/2014 (1655 firms)/raf14.pdf\n",
            "/content/drive/MyDrive/ASX annual reports/2014 (1655 firms)/sor14.pdf\n",
            "/content/drive/MyDrive/ASX annual reports/2014 (1655 firms)/sdf14.pdf\n",
            "/content/drive/MyDrive/ASX annual reports/2014 (1655 firms)/qbe14.pdf\n",
            "/content/drive/MyDrive/ASX annual reports/2014 (1655 firms)/tag14.pdf\n",
            "/content/drive/MyDrive/ASX annual reports/2014 (1655 firms)/sbk14.pdf\n",
            "/content/drive/MyDrive/ASX annual reports/2014 (1655 firms)/sun14.pdf\n",
            "/content/drive/MyDrive/ASX annual reports/2014 (1655 firms)/tcn14.pdf\n",
            "/content/drive/MyDrive/ASX annual reports/2014 (1655 firms)/tsm14.pdf\n",
            "/content/drive/MyDrive/ASX annual reports/2014 (1655 firms)/twr14.pdf\n",
            "/content/drive/MyDrive/ASX annual reports/2014 (1655 firms)/tdi14.pdf\n",
            "/content/drive/MyDrive/ASX annual reports/2014 (1655 firms)/tpa14.pdf\n",
            "/content/drive/MyDrive/ASX annual reports/2014 (1655 firms)/vel14.pdf\n",
            "/content/drive/MyDrive/ASX annual reports/2014 (1655 firms)/wbc14.pdf\n",
            "/content/drive/MyDrive/ASX annual reports/2014 (1655 firms)/wbb14.pdf\n",
            "/content/drive/MyDrive/ASX annual reports/2014 (1655 firms)/wig14.pdf\n",
            "/content/drive/MyDrive/ASX annual reports/2014 (1655 firms)/ybr14.pdf\n",
            "/content/drive/MyDrive/ASX annual reports/2014 (1655 firms)/ada14.pdf\n",
            "/content/drive/MyDrive/ASX annual reports/2014 (1655 firms)/nnw14.pdf\n",
            "/content/drive/MyDrive/ASX annual reports/2014 (1655 firms)/adj14.pdf\n",
            "/content/drive/MyDrive/ASX annual reports/2014 (1655 firms)/alu14.pdf\n",
            "/content/drive/MyDrive/ASX annual reports/2014 (1655 firms)/aau14.pdf\n",
            "/content/drive/MyDrive/ASX annual reports/2014 (1655 firms)/asp14.pdf\n",
            "/content/drive/MyDrive/ASX annual reports/2014 (1655 firms)/amo14.pdf\n",
            "/content/drive/MyDrive/ASX annual reports/2014 (1655 firms)/ala14.pdf\n",
            "/content/drive/MyDrive/ASX annual reports/2014 (1655 firms)/bct14.pdf\n",
            "/content/drive/MyDrive/ASX annual reports/2014 (1655 firms)/amm14.pdf\n",
            "/content/drive/MyDrive/ASX annual reports/2014 (1655 firms)/byi14.pdf\n",
            "/content/drive/MyDrive/ASX annual reports/2014 (1655 firms)/blg14.pdf\n",
            "/content/drive/MyDrive/ASX annual reports/2014 (1655 firms)/bro14.pdf\n",
            "/content/drive/MyDrive/ASX annual reports/2014 (1655 firms)/clt14.pdf\n",
            "/content/drive/MyDrive/ASX annual reports/2014 (1655 firms)/cnu14.pdf\n",
            "/content/drive/MyDrive/ASX annual reports/2014 (1655 firms)/coj14.pdf\n",
            "/content/drive/MyDrive/ASX annual reports/2014 (1655 firms)/com14.pdf\n",
            "/content/drive/MyDrive/ASX annual reports/2014 (1655 firms)/coo14.pdf\n",
            "/content/drive/MyDrive/ASX annual reports/2014 (1655 firms)/bbl14.pdf\n",
            "/content/drive/MyDrive/ASX annual reports/2014 (1655 firms)/csv14.pdf\n",
            "/content/drive/MyDrive/ASX annual reports/2014 (1655 firms)/cpu14.pdf\n",
            "/content/drive/MyDrive/ASX annual reports/2014 (1655 firms)/dye14.pdf\n",
            "/content/drive/MyDrive/ASX annual reports/2014 (1655 firms)/dsx14.pdf\n"
          ]
        }
      ]
    },
    {
      "cell_type": "code",
      "metadata": {
        "id": "D9sIIRD6B_eL"
      },
      "source": [
        "len(new_list2)"
      ],
      "execution_count": null,
      "outputs": []
    },
    {
      "cell_type": "markdown",
      "metadata": {
        "id": "_pmKCKXvKRzb"
      },
      "source": [
        "### Step 3.3: List 3"
      ]
    },
    {
      "cell_type": "code",
      "metadata": {
        "id": "lrUmBC9Wt1Yk"
      },
      "source": [
        "new_list3={}\n",
        "\n",
        "for file in file_list[1000:]:   # start from 1000, to the end\n",
        "  print(file)\n",
        "    \n",
        "  if file.endswith(\".pdf\"):\n",
        "    try:\n",
        "      with pdfplumber.open(file) as pdf:\n",
        "        fulltext = \"\"\n",
        "        try:\n",
        "          for page in pdf.pages:\n",
        "            try:\n",
        "              text = page.extract_text()\n",
        "              fulltext += str(text)\n",
        "            except:\n",
        "              fulltext = \"\"\n",
        "              print(\"Blank\")\n",
        "            finally:\n",
        "              pass\n",
        "        except:\n",
        "          pass\n",
        "    except:\n",
        "      pass\n",
        "        \n",
        "        \n",
        "    new_list3[file]=(fulltext) "
      ],
      "execution_count": null,
      "outputs": []
    },
    {
      "cell_type": "code",
      "metadata": {
        "id": "_CkPkLl6B9G6"
      },
      "source": [
        "len(new_list3)"
      ],
      "execution_count": null,
      "outputs": []
    },
    {
      "cell_type": "markdown",
      "metadata": {
        "id": "lNsmRIQCCmGM"
      },
      "source": [
        "So far, all PDF files in the selected folder are extracted. "
      ]
    },
    {
      "cell_type": "markdown",
      "metadata": {
        "id": "Z138QCYECuJE"
      },
      "source": [
        "## Step 4: Save each generated list as a json file"
      ]
    },
    {
      "cell_type": "code",
      "metadata": {
        "id": "zM31ikmIckTa"
      },
      "source": [
        "import json"
      ],
      "execution_count": null,
      "outputs": []
    },
    {
      "cell_type": "markdown",
      "metadata": {
        "id": "1YOn1qLbC_a0"
      },
      "source": [
        "### Step 4.1: List 1\n",
        "\n",
        "##### Step 4.1.1: Create json files"
      ]
    },
    {
      "cell_type": "code",
      "metadata": {
        "id": "hPJKUQ8Ea9U6"
      },
      "source": [
        "json1 = json.dumps(new_list1)    # convert a Python object into a json string\n",
        "\n",
        "# open file for writing, \"w\" \n",
        "f = open(\"2014_1.json\",\"w\")      # create a new json file, called 2021_1\n",
        "\n",
        "# write json object to file\n",
        "f.write(json1)                   \n",
        "\n",
        "# close file\n",
        "f.close()\n"
      ],
      "execution_count": null,
      "outputs": []
    },
    {
      "cell_type": "markdown",
      "metadata": {
        "id": "8y1Zt_GaExyW"
      },
      "source": [
        "##### Step 4.1.2: Save & upload the created json files\n",
        "\n",
        "##### (1) right click to save the json file into my local machine\n",
        "\n",
        "##### (2) upload the json file to my Google Drive\n",
        "\n",
        "##### (3) open the json file in Python"
      ]
    },
    {
      "cell_type": "code",
      "metadata": {
        "id": "GhI4F7p_a-AT"
      },
      "source": [
        "#Open JSON file\n",
        "a1 = open('/content/drive/MyDrive/NEW dataset - MAJ/2014/2014_1.json', 'r')\n",
        "output1 = a1.read()\n",
        "\n",
        "#Convert JSON file to python dictionary\n",
        "final_list1 = json.loads(output1)\n",
        "final_list1"
      ],
      "execution_count": null,
      "outputs": []
    },
    {
      "cell_type": "code",
      "metadata": {
        "id": "gu_4tFtuhx1u"
      },
      "source": [
        "type(final_list1)"
      ],
      "execution_count": null,
      "outputs": []
    },
    {
      "cell_type": "markdown",
      "metadata": {
        "id": "VhQesR6VMD9F"
      },
      "source": [
        "### Step 4.2: List 2"
      ]
    },
    {
      "cell_type": "code",
      "metadata": {
        "id": "Hj4xme7LtTVa"
      },
      "source": [
        "json2 = json.dumps(new_list2)\n",
        "\n",
        "# open file for writing, \"w\" \n",
        "f = open(\"2014_2.json\",\"w\")\n",
        "\n",
        "# write json object to file\n",
        "f.write(json2)\n",
        "\n",
        "# close file\n",
        "f.close()"
      ],
      "execution_count": null,
      "outputs": []
    },
    {
      "cell_type": "code",
      "metadata": {
        "id": "FEpLsAjvtUg0"
      },
      "source": [
        "#Open JSON file\n",
        "a2 = open('/content/drive/MyDrive/NEW dataset - MAJ/2014/2014_2.json', 'r')\n",
        "output2 = a2.read()\n",
        "\n",
        "#Convert JSON file to python dictionary\n",
        "final_list2 = json.loads(output2)\n",
        "final_list2"
      ],
      "execution_count": null,
      "outputs": []
    },
    {
      "cell_type": "markdown",
      "metadata": {
        "id": "guOc46mLNEcl"
      },
      "source": [
        "### Step 4.3: List 3"
      ]
    },
    {
      "cell_type": "code",
      "metadata": {
        "id": "mjD349vjuLKG"
      },
      "source": [
        "json3 = json.dumps(new_list3)\n",
        "\n",
        "# open file for writing, \"w\" \n",
        "f = open(\"2014_3.json\",\"w\")\n",
        "\n",
        "# write json object to file\n",
        "f.write(json3)\n",
        "\n",
        "# close file\n",
        "f.close()"
      ],
      "execution_count": null,
      "outputs": []
    },
    {
      "cell_type": "code",
      "metadata": {
        "id": "SyZv4RUKuOXI"
      },
      "source": [
        "#Open JSON file\n",
        "a3 = open('/content/drive/MyDrive/NEW dataset - MAJ/2014/2014_3.json', 'r')\n",
        "output3 = a3.read()\n",
        "\n",
        "#Convert JSON file to python dictionary\n",
        "final_list3 = json.loads(output3)\n",
        "final_list3"
      ],
      "execution_count": null,
      "outputs": []
    },
    {
      "cell_type": "markdown",
      "metadata": {
        "id": "AIyIQ5-eOBkN"
      },
      "source": [
        "So far, all three json files are saved in Google Drive."
      ]
    },
    {
      "cell_type": "markdown",
      "metadata": {
        "id": "MmIQsoA1FzSN"
      },
      "source": [
        "## Step 5: Combine all three individual dictionaries"
      ]
    },
    {
      "cell_type": "code",
      "metadata": {
        "id": "LoRAv9s6uhUC"
      },
      "source": [
        "#Combine all dictionaries\n",
        "final_list = {**final_list1, **final_list2, **final_list3}   # number of dictionaries to be combined can be changed here"
      ],
      "execution_count": null,
      "outputs": []
    },
    {
      "cell_type": "code",
      "metadata": {
        "id": "Il2oO_VbumyA"
      },
      "source": [
        "json_final = json.dumps(final_list)\n",
        "\n",
        "# open file for writing, \"w\" \n",
        "f = open(\"2014_final.json\",\"w\")\n",
        "\n",
        "# write json object to file\n",
        "f.write(json_final)\n",
        "\n",
        "# close file\n",
        "f.close()"
      ],
      "execution_count": null,
      "outputs": []
    },
    {
      "cell_type": "code",
      "metadata": {
        "id": "TDGMyZEEusvO"
      },
      "source": [
        "#Open JSON file\n",
        "a = open('/content/drive/MyDrive/NEW dataset - MAJ/2014/2014_final.json', 'r')\n",
        "output = a.read()\n",
        "\n",
        "#Convert JSON file to python dictionary\n",
        "final_list = json.loads(output)\n",
        "final_list"
      ],
      "execution_count": null,
      "outputs": []
    },
    {
      "cell_type": "code",
      "metadata": {
        "id": "pYF6h2hadqds"
      },
      "source": [
        "len(final_list)"
      ],
      "execution_count": null,
      "outputs": []
    },
    {
      "cell_type": "markdown",
      "metadata": {
        "id": "9gH6_qLtHkzw"
      },
      "source": [
        "# All done!"
      ]
    },
    {
      "cell_type": "code",
      "metadata": {
        "id": "kvnCMOQGCWvS"
      },
      "source": [
        "pagen=[]\n",
        "for file in file_list:\n",
        "  # print(file)\n",
        "  n=(file.split('.pdf',0))\n",
        "  \n",
        "  \n",
        "  if file.endswith(\".pdf\"):\n",
        "    try:\n",
        "      with pdfplumber.open(file) as pdf:\n",
        "        pagen.append(len(pdf.pages))\n",
        "    except:\n",
        "        pagen.append('N/A')\n",
        "    finally:  \n",
        "      pass"
      ],
      "execution_count": null,
      "outputs": []
    },
    {
      "cell_type": "code",
      "metadata": {
        "id": "-bJUTa3rCh6r"
      },
      "source": [
        "#Readability + word count\n",
        "sc = []\n",
        "gf=[]\n",
        "kg=[]\n",
        "ke=[]\n",
        "dc=[]\n",
        "word_count=[]\n",
        "\n",
        "for k,v in final_list.items():\n",
        "  # print(k)\n",
        "  # print(len(v))\n",
        "  try:\n",
        "    sc.append(textstat.sentence_count(v))\n",
        "    gf.append(textstat.gunning_fog(v))\n",
        "    kg.append(textstat.flesch_kincaid_grade(v))\n",
        "    ke.append(textstat.flesch_reading_ease(v))\n",
        "    dc.append(textstat.dale_chall_readability_score(v))\n",
        "    word_count.append(textstat.lexicon_count(v, removepunct=True))\n",
        "    \n",
        "  except:\n",
        "    pass"
      ],
      "execution_count": null,
      "outputs": []
    },
    {
      "cell_type": "code",
      "metadata": {
        "id": "48zunr9JCmEe"
      },
      "source": [
        "asxcode=[]\n",
        "fyear=[]\n",
        "\n",
        "\n",
        "for file in file_list:\n",
        "  try:\n",
        "    n=(file.split('.pdf',0))\n",
        "    asxcode.append((file.rsplit('/content/drive/MyDrive/ASX annual reports/2004 (1359 firms)/')[1][0:3]).upper())\n",
        "    fyear.append((file.rsplit('/content/drive/MyDrive/ASX annual reports/2004 (1359 firms)/')[1][3:5]))\n",
        "    \n",
        "  except:\n",
        "    pass\n",
        "  "
      ],
      "execution_count": null,
      "outputs": []
    },
    {
      "cell_type": "code",
      "metadata": {
        "id": "8Gsj7y4hCmkT"
      },
      "source": [
        "from itertools import zip_longest\n",
        "data = [asxcode, fyear, sc, gf, kg, ke, dc, word_count, pagen]\n",
        "export_data = zip_longest(*data, fillvalue = '')\n",
        "with open('/content/drive/MyDrive/MAJ trial/NEW 2004 results.csv', 'w', encoding=\"ISO-8859-1\", newline='') as file:\n",
        "      write = csv.writer(file)\n",
        "      write.writerow(('asxcode', 'fyear', 'sc', 'gf', 'kg', 'ke', 'dc', 'word_count', 'pagen'))\n",
        "      write.writerows(export_data)"
      ],
      "execution_count": null,
      "outputs": []
    }
  ]
}