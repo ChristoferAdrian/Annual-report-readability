{
  "nbformat": 4,
  "nbformat_minor": 0,
  "metadata": {
    "colab": {
      "name": "ASX dataset - 2021",
      "provenance": [],
      "collapsed_sections": [],
      "include_colab_link": true
    },
    "kernelspec": {
      "display_name": "Python 3",
      "name": "python3"
    },
    "language_info": {
      "name": "python"
    }
  },
  "cells": [
    {
      "cell_type": "markdown",
      "metadata": {
        "id": "view-in-github",
        "colab_type": "text"
      },
      "source": [
        "<a href=\"https://colab.research.google.com/github/ChristoferAdrian/Annual-report-readability/blob/main/ASX_dataset_2021.ipynb\" target=\"_parent\"><img src=\"https://colab.research.google.com/assets/colab-badge.svg\" alt=\"Open In Colab\"/></a>"
      ]
    },
    {
      "cell_type": "markdown",
      "metadata": {
        "id": "TAaqfVP1Ke0r"
      },
      "source": [
        "# Codes to extract 2021 ASX annual reports\n",
        "\n",
        "##### Remember to change the file names & paths from Step 2 to Step 5, according the year"
      ]
    },
    {
      "cell_type": "markdown",
      "metadata": {
        "id": "e8OxPJ9j_Jal"
      },
      "source": [
        "## Step 1: Import all necessary modules"
      ]
    },
    {
      "cell_type": "code",
      "metadata": {
        "id": "izEVi1wasicJ",
        "colab": {
          "base_uri": "https://localhost:8080/"
        },
        "outputId": "1a04704c-cb18-4668-b07d-96c18370be11"
      },
      "source": [
        "!pip install textstat\n",
        "!pip install PyPDF2\n",
        "!pip install -U textblob\n",
        "!pip install pdfplumber\n",
        "import os\n",
        "import glob\n",
        "import textstat\n",
        "import csv\n",
        "import PyPDF2\n",
        "from textblob import TextBlob\n",
        "import pdfplumber"
      ],
      "execution_count": null,
      "outputs": [
        {
          "output_type": "stream",
          "name": "stdout",
          "text": [
            "Collecting textstat\n",
            "  Downloading textstat-0.7.2-py3-none-any.whl (101 kB)\n",
            "\u001b[K     |████████████████████████████████| 101 kB 4.3 MB/s \n",
            "\u001b[?25hCollecting pyphen\n",
            "  Downloading pyphen-0.11.0-py3-none-any.whl (2.0 MB)\n",
            "\u001b[K     |████████████████████████████████| 2.0 MB 21.1 MB/s \n",
            "\u001b[?25hInstalling collected packages: pyphen, textstat\n",
            "Successfully installed pyphen-0.11.0 textstat-0.7.2\n",
            "Collecting PyPDF2\n",
            "  Downloading PyPDF2-1.26.0.tar.gz (77 kB)\n",
            "\u001b[K     |████████████████████████████████| 77 kB 3.4 MB/s \n",
            "\u001b[?25hBuilding wheels for collected packages: PyPDF2\n",
            "  Building wheel for PyPDF2 (setup.py) ... \u001b[?25l\u001b[?25hdone\n",
            "  Created wheel for PyPDF2: filename=PyPDF2-1.26.0-py3-none-any.whl size=61101 sha256=cf7070ee6d880464b28cd59b1eac52fb430aa52df6bd13807c79481649e365a6\n",
            "  Stored in directory: /root/.cache/pip/wheels/80/1a/24/648467ade3a77ed20f35cfd2badd32134e96dd25ca811e64b3\n",
            "Successfully built PyPDF2\n",
            "Installing collected packages: PyPDF2\n",
            "Successfully installed PyPDF2-1.26.0\n",
            "Requirement already satisfied: textblob in /usr/local/lib/python3.7/dist-packages (0.15.3)\n",
            "Requirement already satisfied: nltk>=3.1 in /usr/local/lib/python3.7/dist-packages (from textblob) (3.2.5)\n",
            "Requirement already satisfied: six in /usr/local/lib/python3.7/dist-packages (from nltk>=3.1->textblob) (1.15.0)\n",
            "Collecting pdfplumber\n",
            "  Downloading pdfplumber-0.5.28.tar.gz (45 kB)\n",
            "\u001b[K     |████████████████████████████████| 45 kB 1.7 MB/s \n",
            "\u001b[?25hCollecting pdfminer.six==20200517\n",
            "  Downloading pdfminer.six-20200517-py3-none-any.whl (5.6 MB)\n",
            "\u001b[K     |████████████████████████████████| 5.6 MB 7.9 MB/s \n",
            "\u001b[?25hRequirement already satisfied: Pillow>=7.0.0 in /usr/local/lib/python3.7/dist-packages (from pdfplumber) (7.1.2)\n",
            "Collecting Wand\n",
            "  Downloading Wand-0.6.7-py2.py3-none-any.whl (139 kB)\n",
            "\u001b[K     |████████████████████████████████| 139 kB 66.7 MB/s \n",
            "\u001b[?25hCollecting pycryptodome\n",
            "  Downloading pycryptodome-3.11.0-cp35-abi3-manylinux2010_x86_64.whl (1.9 MB)\n",
            "\u001b[K     |████████████████████████████████| 1.9 MB 41.9 MB/s \n",
            "\u001b[?25hRequirement already satisfied: sortedcontainers in /usr/local/lib/python3.7/dist-packages (from pdfminer.six==20200517->pdfplumber) (2.4.0)\n",
            "Requirement already satisfied: chardet in /usr/local/lib/python3.7/dist-packages (from pdfminer.six==20200517->pdfplumber) (3.0.4)\n",
            "Building wheels for collected packages: pdfplumber\n",
            "  Building wheel for pdfplumber (setup.py) ... \u001b[?25l\u001b[?25hdone\n",
            "  Created wheel for pdfplumber: filename=pdfplumber-0.5.28-py3-none-any.whl size=32240 sha256=b3ccf210ed2d6be57009017649fd89e935a75efcdc86dffff706070ac73b3414\n",
            "  Stored in directory: /root/.cache/pip/wheels/f2/b1/a0/c0a77b756d580f53b3806ae0e0b3ec945a8d05fca1d6e10cc1\n",
            "Successfully built pdfplumber\n",
            "Installing collected packages: pycryptodome, Wand, pdfminer.six, pdfplumber\n",
            "Successfully installed Wand-0.6.7 pdfminer.six-20200517 pdfplumber-0.5.28 pycryptodome-3.11.0\n"
          ]
        }
      ]
    },
    {
      "cell_type": "markdown",
      "metadata": {
        "id": "SeSEa0jh_tWK"
      },
      "source": [
        "## Step 2: Connect to my Google Drive"
      ]
    },
    {
      "cell_type": "code",
      "metadata": {
        "colab": {
          "base_uri": "https://localhost:8080/"
        },
        "id": "q1mRC6_qsofR",
        "outputId": "8b0004b7-a91f-494c-f68d-1bd9101f8b8c"
      },
      "source": [
        "from google.colab import drive\n",
        "drive.mount('/content/drive')"
      ],
      "execution_count": null,
      "outputs": [
        {
          "output_type": "stream",
          "name": "stdout",
          "text": [
            "Mounted at /content/drive\n"
          ]
        }
      ]
    },
    {
      "cell_type": "markdown",
      "metadata": {
        "id": "dIq-YKSC_920"
      },
      "source": [
        "Change to the path of the selected folder here"
      ]
    },
    {
      "cell_type": "code",
      "metadata": {
        "id": "ua612vczs8BJ"
      },
      "source": [
        "TARGET_FILES = r'/content/drive/MyDrive/ASX annual reports/2021 (774 firms)/*.pdf'\n",
        "file_list = glob.glob(TARGET_FILES)"
      ],
      "execution_count": null,
      "outputs": []
    },
    {
      "cell_type": "code",
      "metadata": {
        "colab": {
          "base_uri": "https://localhost:8080/"
        },
        "id": "7muXRbOun9U7",
        "outputId": "073860bb-227e-467b-a9cc-f075e2aaf9ed"
      },
      "source": [
        "print(file_list)"
      ],
      "execution_count": null,
      "outputs": [
        {
          "output_type": "stream",
          "name": "stdout",
          "text": [
            "['/content/drive/MyDrive/ASX annual reports/2021 (774 firms)/tdo21.pdf', '/content/drive/MyDrive/ASX annual reports/2021 (774 firms)/auh21.pdf', '/content/drive/MyDrive/ASX annual reports/2021 (774 firms)/age21.pdf', '/content/drive/MyDrive/ASX annual reports/2021 (774 firms)/bky21.pdf', '/content/drive/MyDrive/ASX annual reports/2021 (774 firms)/blz21.pdf', '/content/drive/MyDrive/ASX annual reports/2021 (774 firms)/bpt21.pdf', '/content/drive/MyDrive/ASX annual reports/2021 (774 firms)/cvn21.pdf', '/content/drive/MyDrive/ASX annual reports/2021 (774 firms)/coe21.pdf', '/content/drive/MyDrive/ASX annual reports/2021 (774 firms)/ccj21.pdf', '/content/drive/MyDrive/ASX annual reports/2021 (774 firms)/cue21.pdf', '/content/drive/MyDrive/ASX annual reports/2021 (774 firms)/cel21.pdf', '/content/drive/MyDrive/ASX annual reports/2021 (774 firms)/coi21.pdf', '/content/drive/MyDrive/ASX annual reports/2021 (774 firms)/dyl21.pdf', '/content/drive/MyDrive/ASX annual reports/2021 (774 firms)/eer21.pdf', '/content/drive/MyDrive/ASX annual reports/2021 (774 firms)/epm21.pdf', '/content/drive/MyDrive/ASX annual reports/2021 (774 firms)/ctp21.pdf', '/content/drive/MyDrive/ASX annual reports/2021 (774 firms)/dev21.pdf', '/content/drive/MyDrive/ASX annual reports/2021 (774 firms)/el821.pdf', '/content/drive/MyDrive/ASX annual reports/2021 (774 firms)/fzr21.pdf', '/content/drive/MyDrive/ASX annual reports/2021 (774 firms)/eqx21.pdf', '/content/drive/MyDrive/ASX annual reports/2021 (774 firms)/fme21.pdf', '/content/drive/MyDrive/ASX annual reports/2021 (774 firms)/ggx21.pdf', '/content/drive/MyDrive/ASX annual reports/2021 (774 firms)/gll21.pdf', '/content/drive/MyDrive/ASX annual reports/2021 (774 firms)/gev21.pdf', '/content/drive/MyDrive/ASX annual reports/2021 (774 firms)/exr21.pdf', '/content/drive/MyDrive/ASX annual reports/2021 (774 firms)/ivr21.pdf', '/content/drive/MyDrive/ASX annual reports/2021 (774 firms)/key21.pdf', '/content/drive/MyDrive/ASX annual reports/2021 (774 firms)/hzn21.pdf', '/content/drive/MyDrive/ASX annual reports/2021 (774 firms)/mhc21.pdf', '/content/drive/MyDrive/ASX annual reports/2021 (774 firms)/lck21.pdf', '/content/drive/MyDrive/ASX annual reports/2021 (774 firms)/meu21.pdf', '/content/drive/MyDrive/ASX annual reports/2021 (774 firms)/kar21.pdf', '/content/drive/MyDrive/ASX annual reports/2021 (774 firms)/mel21.pdf', '/content/drive/MyDrive/ASX annual reports/2021 (774 firms)/mce21.pdf', '/content/drive/MyDrive/ASX annual reports/2021 (774 firms)/nse21.pdf', '/content/drive/MyDrive/ASX annual reports/2021 (774 firms)/nzo21.pdf', '/content/drive/MyDrive/ASX annual reports/2021 (774 firms)/nhc21.pdf', '/content/drive/MyDrive/ASX annual reports/2021 (774 firms)/nxg21.pdf', '/content/drive/MyDrive/ASX annual reports/2021 (774 firms)/nwe21.pdf', '/content/drive/MyDrive/ASX annual reports/2021 (774 firms)/nae21.pdf', '/content/drive/MyDrive/ASX annual reports/2021 (774 firms)/ngy21.pdf', '/content/drive/MyDrive/ASX annual reports/2021 (774 firms)/mrm21.pdf', '/content/drive/MyDrive/ASX annual reports/2021 (774 firms)/oxx21.pdf', '/content/drive/MyDrive/ASX annual reports/2021 (774 firms)/oel21.pdf', '/content/drive/MyDrive/ASX annual reports/2021 (774 firms)/prm21.pdf', '/content/drive/MyDrive/ASX annual reports/2021 (774 firms)/pdn21.pdf', '/content/drive/MyDrive/ASX annual reports/2021 (774 firms)/oex21.pdf', '/content/drive/MyDrive/ASX annual reports/2021 (774 firms)/rey21.pdf', '/content/drive/MyDrive/ASX annual reports/2021 (774 firms)/rlt21.pdf', '/content/drive/MyDrive/ASX annual reports/2021 (774 firms)/gas21.pdf', '/content/drive/MyDrive/ASX annual reports/2021 (774 firms)/org21.pdf', '/content/drive/MyDrive/ASX annual reports/2021 (774 firms)/tmk21.pdf', '/content/drive/MyDrive/ASX annual reports/2021 (774 firms)/tou21.pdf', '/content/drive/MyDrive/ASX annual reports/2021 (774 firms)/tsc21.pdf', '/content/drive/MyDrive/ASX annual reports/2021 (774 firms)/wgo21.pdf', '/content/drive/MyDrive/ASX annual reports/2021 (774 firms)/stx21.pdf', '/content/drive/MyDrive/ASX annual reports/2021 (774 firms)/sxy21.pdf', '/content/drive/MyDrive/ASX annual reports/2021 (774 firms)/wec21.pdf', '/content/drive/MyDrive/ASX annual reports/2021 (774 firms)/whc21.pdf', '/content/drive/MyDrive/ASX annual reports/2021 (774 firms)/wor21.pdf', '/content/drive/MyDrive/ASX annual reports/2021 (774 firms)/ano21.pdf', '/content/drive/MyDrive/ASX annual reports/2021 (774 firms)/ais21.pdf', '/content/drive/MyDrive/ASX annual reports/2021 (774 firms)/aml21.pdf', '/content/drive/MyDrive/ASX annual reports/2021 (774 firms)/amn21.pdf', '/content/drive/MyDrive/ASX annual reports/2021 (774 firms)/alb21.pdf', '/content/drive/MyDrive/ASX annual reports/2021 (774 firms)/aiv21.pdf', '/content/drive/MyDrive/ASX annual reports/2021 (774 firms)/agr21.pdf', '/content/drive/MyDrive/ASX annual reports/2021 (774 firms)/al821.pdf', '/content/drive/MyDrive/ASX annual reports/2021 (774 firms)/ajx21.pdf', '/content/drive/MyDrive/ASX annual reports/2021 (774 firms)/alk21.pdf', '/content/drive/MyDrive/ASX annual reports/2021 (774 firms)/arn21.pdf', '/content/drive/MyDrive/ASX annual reports/2021 (774 firms)/aly21.pdf', '/content/drive/MyDrive/ASX annual reports/2021 (774 firms)/ahq21.pdf', '/content/drive/MyDrive/ASX annual reports/2021 (774 firms)/amc21.pdf', '/content/drive/MyDrive/ASX annual reports/2021 (774 firms)/aqi21.pdf', '/content/drive/MyDrive/ASX annual reports/2021 (774 firms)/abr21.pdf', '/content/drive/MyDrive/ASX annual reports/2021 (774 firms)/azi21.pdf', '/content/drive/MyDrive/ASX annual reports/2021 (774 firms)/a4n21.pdf', '/content/drive/MyDrive/ASX annual reports/2021 (774 firms)/arr21.pdf', '/content/drive/MyDrive/ASX annual reports/2021 (774 firms)/anx21.pdf', '/content/drive/MyDrive/ASX annual reports/2021 (774 firms)/aar21.pdf', '/content/drive/MyDrive/ASX annual reports/2021 (774 firms)/azy21.pdf', '/content/drive/MyDrive/ASX annual reports/2021 (774 firms)/awv21.pdf', '/content/drive/MyDrive/ASX annual reports/2021 (774 firms)/aon21.pdf', '/content/drive/MyDrive/ASX annual reports/2021 (774 firms)/aru21.pdf', '/content/drive/MyDrive/ASX annual reports/2021 (774 firms)/axe21.pdf', '/content/drive/MyDrive/ASX annual reports/2021 (774 firms)/adv21.pdf', '/content/drive/MyDrive/ASX annual reports/2021 (774 firms)/arl21.pdf', '/content/drive/MyDrive/ASX annual reports/2021 (774 firms)/ard21.pdf', '/content/drive/MyDrive/ASX annual reports/2021 (774 firms)/ahk21.pdf', '/content/drive/MyDrive/ASX annual reports/2021 (774 firms)/aaj21.pdf', '/content/drive/MyDrive/ASX annual reports/2021 (774 firms)/amd21.pdf', '/content/drive/MyDrive/ASX annual reports/2021 (774 firms)/are21.pdf', '/content/drive/MyDrive/ASX annual reports/2021 (774 firms)/akm21.pdf', '/content/drive/MyDrive/ASX annual reports/2021 (774 firms)/as221.pdf', '/content/drive/MyDrive/ASX annual reports/2021 (774 firms)/aro21.pdf', '/content/drive/MyDrive/ASX annual reports/2021 (774 firms)/ahn21.pdf', '/content/drive/MyDrive/ASX annual reports/2021 (774 firms)/ami21.pdf', '/content/drive/MyDrive/ASX annual reports/2021 (774 firms)/aur21.pdf', '/content/drive/MyDrive/ASX annual reports/2021 (774 firms)/anw21.pdf', '/content/drive/MyDrive/ASX annual reports/2021 (774 firms)/aou21.pdf', '/content/drive/MyDrive/ASX annual reports/2021 (774 firms)/aoa21.pdf', '/content/drive/MyDrive/ASX annual reports/2021 (774 firms)/aqd21.pdf', '/content/drive/MyDrive/ASX annual reports/2021 (774 firms)/auz21.pdf', '/content/drive/MyDrive/ASX annual reports/2021 (774 firms)/apc21.pdf', '/content/drive/MyDrive/ASX annual reports/2021 (774 firms)/asm21.pdf', '/content/drive/MyDrive/ASX annual reports/2021 (774 firms)/asq21.pdf', '/content/drive/MyDrive/ASX annual reports/2021 (774 firms)/ar321.pdf', '/content/drive/MyDrive/ASX annual reports/2021 (774 firms)/aev21.pdf', '/content/drive/MyDrive/ASX annual reports/2021 (774 firms)/avl21.pdf', '/content/drive/MyDrive/ASX annual reports/2021 (774 firms)/azs21.pdf', '/content/drive/MyDrive/ASX annual reports/2021 (774 firms)/bmr21.pdf', '/content/drive/MyDrive/ASX annual reports/2021 (774 firms)/bmm21.pdf', '/content/drive/MyDrive/ASX annual reports/2021 (774 firms)/bmn21.pdf', '/content/drive/MyDrive/ASX annual reports/2021 (774 firms)/bgd21.pdf', '/content/drive/MyDrive/ASX annual reports/2021 (774 firms)/bar21.pdf', '/content/drive/MyDrive/ASX annual reports/2021 (774 firms)/bse21.pdf', '/content/drive/MyDrive/ASX annual reports/2021 (774 firms)/brl21.pdf', '/content/drive/MyDrive/ASX annual reports/2021 (774 firms)/bci21.pdf', '/content/drive/MyDrive/ASX annual reports/2021 (774 firms)/bcn21.pdf', '/content/drive/MyDrive/ASX annual reports/2021 (774 firms)/bnz21.pdf', '/content/drive/MyDrive/ASX annual reports/2021 (774 firms)/bgl21.pdf', '/content/drive/MyDrive/ASX annual reports/2021 (774 firms)/bri21.pdf', '/content/drive/MyDrive/ASX annual reports/2021 (774 firms)/bgt21.pdf', '/content/drive/MyDrive/ASX annual reports/2021 (774 firms)/bis21.pdf', '/content/drive/MyDrive/ASX annual reports/2021 (774 firms)/bhp21.pdf', '/content/drive/MyDrive/ASX annual reports/2021 (774 firms)/bc821.pdf', '/content/drive/MyDrive/ASX annual reports/2021 (774 firms)/bca21.pdf', '/content/drive/MyDrive/ASX annual reports/2021 (774 firms)/bkt21.pdf', '/content/drive/MyDrive/ASX annual reports/2021 (774 firms)/bem21.pdf', '/content/drive/MyDrive/ASX annual reports/2021 (774 firms)/bsl21.pdf', '/content/drive/MyDrive/ASX annual reports/2021 (774 firms)/bml21.pdf', '/content/drive/MyDrive/ASX annual reports/2021 (774 firms)/boa21.pdf', '/content/drive/MyDrive/ASX annual reports/2021 (774 firms)/bld21.pdf', '/content/drive/MyDrive/ASX annual reports/2021 (774 firms)/bcb21.pdf', '/content/drive/MyDrive/ASX annual reports/2021 (774 firms)/boe21.pdf', '/content/drive/MyDrive/ASX annual reports/2021 (774 firms)/brb21.pdf', '/content/drive/MyDrive/ASX annual reports/2021 (774 firms)/bpm21.pdf', '/content/drive/MyDrive/ASX annual reports/2021 (774 firms)/bkw21.pdf', '/content/drive/MyDrive/ASX annual reports/2021 (774 firms)/bck21.pdf', '/content/drive/MyDrive/ASX annual reports/2021 (774 firms)/cad21.pdf', '/content/drive/MyDrive/ASX annual reports/2021 (774 firms)/bux21.pdf', '/content/drive/MyDrive/ASX annual reports/2021 (774 firms)/bnr21.pdf', '/content/drive/MyDrive/ASX annual reports/2021 (774 firms)/cai21.pdf', '/content/drive/MyDrive/ASX annual reports/2021 (774 firms)/cnr21.pdf', '/content/drive/MyDrive/ASX annual reports/2021 (774 firms)/cmm21.pdf', '/content/drive/MyDrive/ASX annual reports/2021 (774 firms)/cwx21.pdf', '/content/drive/MyDrive/ASX annual reports/2021 (774 firms)/cg121.pdf', '/content/drive/MyDrive/ASX annual reports/2021 (774 firms)/cnb21.pdf', '/content/drive/MyDrive/ASX annual reports/2021 (774 firms)/cav21.pdf', '/content/drive/MyDrive/ASX annual reports/2021 (774 firms)/cmd21.pdf', '/content/drive/MyDrive/ASX annual reports/2021 (774 firms)/cdt21.pdf', '/content/drive/MyDrive/ASX annual reports/2021 (774 firms)/ccz21.pdf', '/content/drive/MyDrive/ASX annual reports/2021 (774 firms)/cnl21.pdf', '/content/drive/MyDrive/ASX annual reports/2021 (774 firms)/cst21.pdf', '/content/drive/MyDrive/ASX annual reports/2021 (774 firms)/cxm21.pdf', '/content/drive/MyDrive/ASX annual reports/2021 (774 firms)/cpn21.pdf', '/content/drive/MyDrive/ASX annual reports/2021 (774 firms)/cvs21.pdf', '/content/drive/MyDrive/ASX annual reports/2021 (774 firms)/chn21.pdf', '/content/drive/MyDrive/ASX annual reports/2021 (774 firms)/cpt21.pdf', '/content/drive/MyDrive/ASX annual reports/2021 (774 firms)/chr21.pdf', '/content/drive/MyDrive/ASX annual reports/2021 (774 firms)/cia21.pdf', '/content/drive/MyDrive/ASX annual reports/2021 (774 firms)/clv21.pdf', '/content/drive/MyDrive/ASX annual reports/2021 (774 firms)/cto21.pdf', '/content/drive/MyDrive/ASX annual reports/2021 (774 firms)/cob21.pdf', '/content/drive/MyDrive/ASX annual reports/2021 (774 firms)/cbe21.pdf', '/content/drive/MyDrive/ASX annual reports/2021 (774 firms)/cdr21.pdf', '/content/drive/MyDrive/ASX annual reports/2021 (774 firms)/chk21.pdf', '/content/drive/MyDrive/ASX annual reports/2021 (774 firms)/cnj21.pdf', '/content/drive/MyDrive/ASX annual reports/2021 (774 firms)/cse21.pdf', '/content/drive/MyDrive/ASX annual reports/2021 (774 firms)/cr121.pdf', '/content/drive/MyDrive/ASX annual reports/2021 (774 firms)/czn21.pdf', '/content/drive/MyDrive/ASX annual reports/2021 (774 firms)/cgn21.pdf', '/content/drive/MyDrive/ASX annual reports/2021 (774 firms)/cxo21.pdf', '/content/drive/MyDrive/ASX annual reports/2021 (774 firms)/csr21.pdf', '/content/drive/MyDrive/ASX annual reports/2021 (774 firms)/dcn21.pdf', '/content/drive/MyDrive/ASX annual reports/2021 (774 firms)/dtr21.pdf', '/content/drive/MyDrive/ASX annual reports/2021 (774 firms)/cul21.pdf', '/content/drive/MyDrive/ASX annual reports/2021 (774 firms)/czr21.pdf', '/content/drive/MyDrive/ASX annual reports/2021 (774 firms)/dm121.pdf', '/content/drive/MyDrive/ASX annual reports/2021 (774 firms)/ddh21.pdf', '/content/drive/MyDrive/ASX annual reports/2021 (774 firms)/deg21.pdf', '/content/drive/MyDrive/ASX annual reports/2021 (774 firms)/dgl21.pdf', '/content/drive/MyDrive/ASX annual reports/2021 (774 firms)/drr21.pdf', '/content/drive/MyDrive/ASX annual reports/2021 (774 firms)/dgo21.pdf', '/content/drive/MyDrive/ASX annual reports/2021 (774 firms)/daf21.pdf', '/content/drive/MyDrive/ASX annual reports/2021 (774 firms)/dcx21.pdf', '/content/drive/MyDrive/ASX annual reports/2021 (774 firms)/dme21.pdf', '/content/drive/MyDrive/ASX annual reports/2021 (774 firms)/dre21.pdf', '/content/drive/MyDrive/ASX annual reports/2021 (774 firms)/dex21.pdf', '/content/drive/MyDrive/ASX annual reports/2021 (774 firms)/dkm21.pdf', '/content/drive/MyDrive/ASX annual reports/2021 (774 firms)/e2m21.pdf', '/content/drive/MyDrive/ASX annual reports/2021 (774 firms)/efe21.pdf', '/content/drive/MyDrive/ASX annual reports/2021 (774 firms)/egr21.pdf', '/content/drive/MyDrive/ASX annual reports/2021 (774 firms)/elt21.pdf', '/content/drive/MyDrive/ASX annual reports/2021 (774 firms)/emr21.pdf', '/content/drive/MyDrive/ASX annual reports/2021 (774 firms)/erm21.pdf', '/content/drive/MyDrive/ASX annual reports/2021 (774 firms)/erl21.pdf', '/content/drive/MyDrive/ASX annual reports/2021 (774 firms)/enx21.pdf', '/content/drive/MyDrive/ASX annual reports/2021 (774 firms)/eqr21.pdf', '/content/drive/MyDrive/ASX annual reports/2021 (774 firms)/erw21.pdf', '/content/drive/MyDrive/ASX annual reports/2021 (774 firms)/esr21.pdf', '/content/drive/MyDrive/ASX annual reports/2021 (774 firms)/ess21.pdf', '/content/drive/MyDrive/ASX annual reports/2021 (774 firms)/eur21.pdf', '/content/drive/MyDrive/ASX annual reports/2021 (774 firms)/evn21.pdf', '/content/drive/MyDrive/ASX annual reports/2021 (774 firms)/fex21.pdf', '/content/drive/MyDrive/ASX annual reports/2021 (774 firms)/fin21.pdf', '/content/drive/MyDrive/ASX annual reports/2021 (774 firms)/frb21.pdf', '/content/drive/MyDrive/ASX annual reports/2021 (774 firms)/fgr21.pdf', '/content/drive/MyDrive/ASX annual reports/2021 (774 firms)/fbu21.pdf', '/content/drive/MyDrive/ASX annual reports/2021 (774 firms)/fg121.pdf', '/content/drive/MyDrive/ASX annual reports/2021 (774 firms)/fmg21.pdf', '/content/drive/MyDrive/ASX annual reports/2021 (774 firms)/fhs21.pdf', '/content/drive/MyDrive/ASX annual reports/2021 (774 firms)/fnt21.pdf', '/content/drive/MyDrive/ASX annual reports/2021 (774 firms)/fyi21.pdf', '/content/drive/MyDrive/ASX annual reports/2021 (774 firms)/g1a21.pdf', '/content/drive/MyDrive/ASX annual reports/2021 (774 firms)/gal21.pdf', '/content/drive/MyDrive/ASX annual reports/2021 (774 firms)/ges21.pdf', '/content/drive/MyDrive/ASX annual reports/2021 (774 firms)/gcy21.pdf', '/content/drive/MyDrive/ASX annual reports/2021 (774 firms)/gl121.pdf', '/content/drive/MyDrive/ASX annual reports/2021 (774 firms)/gmd21.pdf', '/content/drive/MyDrive/ASX annual reports/2021 (774 firms)/gbe21.pdf', '/content/drive/MyDrive/ASX annual reports/2021 (774 firms)/gti21.pdf', '/content/drive/MyDrive/ASX annual reports/2021 (774 firms)/gme21.pdf', '/content/drive/MyDrive/ASX annual reports/2021 (774 firms)/gib21.pdf', '/content/drive/MyDrive/ASX annual reports/2021 (774 firms)/grl21.pdf', '/content/drive/MyDrive/ASX annual reports/2021 (774 firms)/gcr21.pdf', '/content/drive/MyDrive/ASX annual reports/2021 (774 firms)/gng21.pdf', '/content/drive/MyDrive/ASX annual reports/2021 (774 firms)/g5021.pdf', '/content/drive/MyDrive/ASX annual reports/2021 (774 firms)/gsm21.pdf', '/content/drive/MyDrive/ASX annual reports/2021 (774 firms)/gbr21.pdf', '/content/drive/MyDrive/ASX annual reports/2021 (774 firms)/gnm21.pdf', '/content/drive/MyDrive/ASX annual reports/2021 (774 firms)/gsn21.pdf', '/content/drive/MyDrive/ASX annual reports/2021 (774 firms)/gte21.pdf', '/content/drive/MyDrive/ASX annual reports/2021 (774 firms)/hmx21.pdf', '/content/drive/MyDrive/ASX annual reports/2021 (774 firms)/hhm21.pdf', '/content/drive/MyDrive/ASX annual reports/2021 (774 firms)/hzr21.pdf', '/content/drive/MyDrive/ASX annual reports/2021 (774 firms)/hwk21.pdf', '/content/drive/MyDrive/ASX annual reports/2021 (774 firms)/hxg21.pdf', '/content/drive/MyDrive/ASX annual reports/2021 (774 firms)/hrn21.pdf', '/content/drive/MyDrive/ASX annual reports/2021 (774 firms)/icl21.pdf', '/content/drive/MyDrive/ASX annual reports/2021 (774 firms)/hum21.pdf', '/content/drive/MyDrive/ASX annual reports/2021 (774 firms)/hnr21.pdf', '/content/drive/MyDrive/ASX annual reports/2021 (774 firms)/imm21.pdf', '/content/drive/MyDrive/ASX annual reports/2021 (774 firms)/hrz21.pdf', '/content/drive/MyDrive/ASX annual reports/2021 (774 firms)/ipt21.pdf', '/content/drive/MyDrive/ASX annual reports/2021 (774 firms)/ind21.pdf', '/content/drive/MyDrive/ASX annual reports/2021 (774 firms)/igo21.pdf', '/content/drive/MyDrive/ASX annual reports/2021 (774 firms)/imd21.pdf', '/content/drive/MyDrive/ASX annual reports/2021 (774 firms)/ibg21.pdf', '/content/drive/MyDrive/ASX annual reports/2021 (774 firms)/inr21.pdf', '/content/drive/MyDrive/ASX annual reports/2021 (774 firms)/jdr21.pdf', '/content/drive/MyDrive/ASX annual reports/2021 (774 firms)/jrl21.pdf', '/content/drive/MyDrive/ASX annual reports/2021 (774 firms)/ird21.pdf', '/content/drive/MyDrive/ASX annual reports/2021 (774 firms)/jhx21.pdf', '/content/drive/MyDrive/ASX annual reports/2021 (774 firms)/jms21.pdf', '/content/drive/MyDrive/ASX annual reports/2021 (774 firms)/jal21.pdf', '/content/drive/MyDrive/ASX annual reports/2021 (774 firms)/kai21.pdf', '/content/drive/MyDrive/ASX annual reports/2021 (774 firms)/kzr21.pdf', '/content/drive/MyDrive/ASX annual reports/2021 (774 firms)/kis21.pdf', '/content/drive/MyDrive/ASX annual reports/2021 (774 firms)/jno21.pdf', '/content/drive/MyDrive/ASX annual reports/2021 (774 firms)/kpt21.pdf', '/content/drive/MyDrive/ASX annual reports/2021 (774 firms)/kin21.pdf', '/content/drive/MyDrive/ASX annual reports/2021 (774 firms)/krr21.pdf', '/content/drive/MyDrive/ASX annual reports/2021 (774 firms)/ksn21.pdf', '/content/drive/MyDrive/ASX annual reports/2021 (774 firms)/kni21.pdf', '/content/drive/MyDrive/ASX annual reports/2021 (774 firms)/kwr21.pdf', '/content/drive/MyDrive/ASX annual reports/2021 (774 firms)/kfm21.pdf', '/content/drive/MyDrive/ASX annual reports/2021 (774 firms)/kmt21.pdf', '/content/drive/MyDrive/ASX annual reports/2021 (774 firms)/lsa21.pdf', '/content/drive/MyDrive/ASX annual reports/2021 (774 firms)/lmg21.pdf', '/content/drive/MyDrive/ASX annual reports/2021 (774 firms)/ler21.pdf', '/content/drive/MyDrive/ASX annual reports/2021 (774 firms)/lcy21.pdf', '/content/drive/MyDrive/ASX annual reports/2021 (774 firms)/lpd21.pdf', '/content/drive/MyDrive/ASX annual reports/2021 (774 firms)/llo21.pdf', '/content/drive/MyDrive/ASX annual reports/2021 (774 firms)/ltr21.pdf', '/content/drive/MyDrive/ASX annual reports/2021 (774 firms)/lel21.pdf', '/content/drive/MyDrive/ASX annual reports/2021 (774 firms)/ldr21.pdf', '/content/drive/MyDrive/ASX annual reports/2021 (774 firms)/lm821.pdf', '/content/drive/MyDrive/ASX annual reports/2021 (774 firms)/lyc21.pdf', '/content/drive/MyDrive/ASX annual reports/2021 (774 firms)/mio21.pdf', '/content/drive/MyDrive/ASX annual reports/2021 (774 firms)/mld21.pdf', '/content/drive/MyDrive/ASX annual reports/2021 (774 firms)/mah21.pdf', '/content/drive/MyDrive/ASX annual reports/2021 (774 firms)/mag21.pdf', '/content/drive/MyDrive/ASX annual reports/2021 (774 firms)/m2421.pdf', '/content/drive/MyDrive/ASX annual reports/2021 (774 firms)/mye21.pdf', '/content/drive/MyDrive/ASX annual reports/2021 (774 firms)/mzz21.pdf', '/content/drive/MyDrive/ASX annual reports/2021 (774 firms)/mxr21.pdf', '/content/drive/MyDrive/ASX annual reports/2021 (774 firms)/mhk21.pdf', '/content/drive/MyDrive/ASX annual reports/2021 (774 firms)/mbk21.pdf', '/content/drive/MyDrive/ASX annual reports/2021 (774 firms)/mlm21.pdf', '/content/drive/MyDrive/ASX annual reports/2021 (774 firms)/mml21.pdf', '/content/drive/MyDrive/ASX annual reports/2021 (774 firms)/mls21.pdf', '/content/drive/MyDrive/ASX annual reports/2021 (774 firms)/mkr21.pdf', '/content/drive/MyDrive/ASX annual reports/2021 (774 firms)/mm821.pdf', '/content/drive/MyDrive/ASX annual reports/2021 (774 firms)/mcr21.pdf', '/content/drive/MyDrive/ASX annual reports/2021 (774 firms)/min21.pdf', '/content/drive/MyDrive/ASX annual reports/2021 (774 firms)/mep21.pdf', '/content/drive/MyDrive/ASX annual reports/2021 (774 firms)/mwy21.pdf', '/content/drive/MyDrive/ASX annual reports/2021 (774 firms)/mrr21.pdf', '/content/drive/MyDrive/ASX annual reports/2021 (774 firms)/msv21.pdf', '/content/drive/MyDrive/ASX annual reports/2021 (774 firms)/m2r21.pdf', '/content/drive/MyDrive/ASX annual reports/2021 (774 firms)/mth21.pdf', '/content/drive/MyDrive/ASX annual reports/2021 (774 firms)/mrz21.pdf', '/content/drive/MyDrive/ASX annual reports/2021 (774 firms)/mgx21.pdf', '/content/drive/MyDrive/ASX annual reports/2021 (774 firms)/mtb21.pdf', '/content/drive/MyDrive/ASX annual reports/2021 (774 firms)/mgv21.pdf', '/content/drive/MyDrive/ASX annual reports/2021 (774 firms)/nag21.pdf', '/content/drive/MyDrive/ASX annual reports/2021 (774 firms)/myl21.pdf', '/content/drive/MyDrive/ASX annual reports/2021 (774 firms)/nmr21.pdf', '/content/drive/MyDrive/ASX annual reports/2021 (774 firms)/nml21.pdf', '/content/drive/MyDrive/ASX annual reports/2021 (774 firms)/ncm21.pdf', '/content/drive/MyDrive/ASX annual reports/2021 (774 firms)/nkl21.pdf', '/content/drive/MyDrive/ASX annual reports/2021 (774 firms)/ntl21.pdf', '/content/drive/MyDrive/ASX annual reports/2021 (774 firms)/nxm21.pdf', '/content/drive/MyDrive/ASX annual reports/2021 (774 firms)/nsm21.pdf', '/content/drive/MyDrive/ASX annual reports/2021 (774 firms)/ntu21.pdf', '/content/drive/MyDrive/ASX annual reports/2021 (774 firms)/nst21.pdf', '/content/drive/MyDrive/ASX annual reports/2021 (774 firms)/nwm21.pdf', '/content/drive/MyDrive/ASX annual reports/2021 (774 firms)/odm21.pdf', '/content/drive/MyDrive/ASX annual reports/2021 (774 firms)/oar21.pdf', '/content/drive/MyDrive/ASX annual reports/2021 (774 firms)/nva21.pdf', '/content/drive/MyDrive/ASX annual reports/2021 (774 firms)/ook21.pdf', '/content/drive/MyDrive/ASX annual reports/2021 (774 firms)/ody21.pdf', '/content/drive/MyDrive/ASX annual reports/2021 (774 firms)/orr21.pdf', '/content/drive/MyDrive/ASX annual reports/2021 (774 firms)/orm21.pdf', '/content/drive/MyDrive/ASX annual reports/2021 (774 firms)/onx21.pdf', '/content/drive/MyDrive/ASX annual reports/2021 (774 firms)/orn21.pdf', '/content/drive/MyDrive/ASX annual reports/2021 (774 firms)/pgh21.pdf', '/content/drive/MyDrive/ASX annual reports/2021 (774 firms)/ora21.pdf', '/content/drive/MyDrive/ASX annual reports/2021 (774 firms)/pck21.pdf', '/content/drive/MyDrive/ASX annual reports/2021 (774 firms)/ore21.pdf', '/content/drive/MyDrive/ASX annual reports/2021 (774 firms)/ozm21.pdf', '/content/drive/MyDrive/ASX annual reports/2021 (774 firms)/psl21.pdf', '/content/drive/MyDrive/ASX annual reports/2021 (774 firms)/pfe21.pdf', '/content/drive/MyDrive/ASX annual reports/2021 (774 firms)/pf121.pdf', '/content/drive/MyDrive/ASX annual reports/2021 (774 firms)/pnn21.pdf', '/content/drive/MyDrive/ASX annual reports/2021 (774 firms)/pnr21.pdf', '/content/drive/MyDrive/ASX annual reports/2021 (774 firms)/pan21.pdf', '/content/drive/MyDrive/ASX annual reports/2021 (774 firms)/pek21.pdf', '/content/drive/MyDrive/ASX annual reports/2021 (774 firms)/pgd21.pdf', '/content/drive/MyDrive/ASX annual reports/2021 (774 firms)/pua21.pdf', '/content/drive/MyDrive/ASX annual reports/2021 (774 firms)/pec21.pdf', '/content/drive/MyDrive/ASX annual reports/2021 (774 firms)/pru21.pdf', '/content/drive/MyDrive/ASX annual reports/2021 (774 firms)/prn21.pdf', '/content/drive/MyDrive/ASX annual reports/2021 (774 firms)/ptr21.pdf', '/content/drive/MyDrive/ASX annual reports/2021 (774 firms)/pll21.pdf', '/content/drive/MyDrive/ASX annual reports/2021 (774 firms)/pls21.pdf', '/content/drive/MyDrive/ASX annual reports/2021 (774 firms)/pgm21.pdf', '/content/drive/MyDrive/ASX annual reports/2021 (774 firms)/pxx21.pdf', '/content/drive/MyDrive/ASX annual reports/2021 (774 firms)/pnx21.pdf', '/content/drive/MyDrive/ASX annual reports/2021 (774 firms)/pol21.pdf', '/content/drive/MyDrive/ASX annual reports/2021 (774 firms)/pos21.pdf', '/content/drive/MyDrive/ASX annual reports/2021 (774 firms)/pdz21.pdf', '/content/drive/MyDrive/ASX annual reports/2021 (774 firms)/pdi21.pdf', '/content/drive/MyDrive/ASX annual reports/2021 (774 firms)/ppg21.pdf', '/content/drive/MyDrive/ASX annual reports/2021 (774 firms)/qem21.pdf', '/content/drive/MyDrive/ASX annual reports/2021 (774 firms)/prx21.pdf', '/content/drive/MyDrive/ASX annual reports/2021 (774 firms)/qpm21.pdf', '/content/drive/MyDrive/ASX annual reports/2021 (774 firms)/qgl21.pdf', '/content/drive/MyDrive/ASX annual reports/2021 (774 firms)/qml21.pdf', '/content/drive/MyDrive/ASX annual reports/2021 (774 firms)/rfr21.pdf', '/content/drive/MyDrive/ASX annual reports/2021 (774 firms)/rag21.pdf', '/content/drive/MyDrive/ASX annual reports/2021 (774 firms)/rdn21.pdf', '/content/drive/MyDrive/ASX annual reports/2021 (774 firms)/rms21.pdf', '/content/drive/MyDrive/ASX annual reports/2021 (774 firms)/rnd21.pdf', '/content/drive/MyDrive/ASX annual reports/2021 (774 firms)/rbr21.pdf', '/content/drive/MyDrive/ASX annual reports/2021 (774 firms)/rhi21.pdf', '/content/drive/MyDrive/ASX annual reports/2021 (774 firms)/red21.pdf', '/content/drive/MyDrive/ASX annual reports/2021 (774 firms)/rdm21.pdf', '/content/drive/MyDrive/ASX annual reports/2021 (774 firms)/rvr21.pdf', '/content/drive/MyDrive/ASX annual reports/2021 (774 firms)/rcp21.pdf', '/content/drive/MyDrive/ASX annual reports/2021 (774 firms)/rrl21.pdf', '/content/drive/MyDrive/ASX annual reports/2021 (774 firms)/rds21.pdf', '/content/drive/MyDrive/ASX annual reports/2021 (774 firms)/rxm21.pdf', '/content/drive/MyDrive/ASX annual reports/2021 (774 firms)/s2r21.pdf', '/content/drive/MyDrive/ASX annual reports/2021 (774 firms)/rcr21.pdf', '/content/drive/MyDrive/ASX annual reports/2021 (774 firms)/rxl21.pdf', '/content/drive/MyDrive/ASX annual reports/2021 (774 firms)/sbr21.pdf', '/content/drive/MyDrive/ASX annual reports/2021 (774 firms)/sfr21.pdf', '/content/drive/MyDrive/ASX annual reports/2021 (774 firms)/smi21.pdf', '/content/drive/MyDrive/ASX annual reports/2021 (774 firms)/sdv21.pdf', '/content/drive/MyDrive/ASX annual reports/2021 (774 firms)/sfx21.pdf', '/content/drive/MyDrive/ASX annual reports/2021 (774 firms)/ses21.pdf', '/content/drive/MyDrive/ASX annual reports/2021 (774 firms)/shh21.pdf', '/content/drive/MyDrive/ASX annual reports/2021 (774 firms)/slr21.pdf', '/content/drive/MyDrive/ASX annual reports/2021 (774 firms)/svl21.pdf', '/content/drive/MyDrive/ASX annual reports/2021 (774 firms)/sgm21.pdf', '/content/drive/MyDrive/ASX annual reports/2021 (774 firms)/suh21.pdf', '/content/drive/MyDrive/ASX annual reports/2021 (774 firms)/s3221.pdf', '/content/drive/MyDrive/ASX annual reports/2021 (774 firms)/sbm21.pdf', '/content/drive/MyDrive/ASX annual reports/2021 (774 firms)/svm21.pdf', '/content/drive/MyDrive/ASX annual reports/2021 (774 firms)/srz21.pdf', '/content/drive/MyDrive/ASX annual reports/2021 (774 firms)/she21.pdf', '/content/drive/MyDrive/ASX annual reports/2021 (774 firms)/sgq21.pdf', '/content/drive/MyDrive/ASX annual reports/2021 (774 firms)/svy21.pdf', '/content/drive/MyDrive/ASX annual reports/2021 (774 firms)/ser21.pdf', '/content/drive/MyDrive/ASX annual reports/2021 (774 firms)/srk21.pdf', '/content/drive/MyDrive/ASX annual reports/2021 (774 firms)/shn21.pdf', '/content/drive/MyDrive/ASX annual reports/2021 (774 firms)/spq21.pdf', '/content/drive/MyDrive/ASX annual reports/2021 (774 firms)/spn21.pdf', '/content/drive/MyDrive/ASX annual reports/2021 (774 firms)/sta21.pdf', '/content/drive/MyDrive/ASX annual reports/2021 (774 firms)/stm21.pdf', '/content/drive/MyDrive/ASX annual reports/2021 (774 firms)/swk21.pdf', '/content/drive/MyDrive/ASX annual reports/2021 (774 firms)/suv21.pdf', '/content/drive/MyDrive/ASX annual reports/2021 (774 firms)/tlg21.pdf', '/content/drive/MyDrive/ASX annual reports/2021 (774 firms)/tlm21.pdf', '/content/drive/MyDrive/ASX annual reports/2021 (774 firms)/tam21.pdf', '/content/drive/MyDrive/ASX annual reports/2021 (774 firms)/tg121.pdf', '/content/drive/MyDrive/ASX annual reports/2021 (774 firms)/tar21.pdf', '/content/drive/MyDrive/ASX annual reports/2021 (774 firms)/tmt21.pdf', '/content/drive/MyDrive/ASX annual reports/2021 (774 firms)/tem21.pdf', '/content/drive/MyDrive/ASX annual reports/2021 (774 firms)/tmr21.pdf', '/content/drive/MyDrive/ASX annual reports/2021 (774 firms)/tng21.pdf', '/content/drive/MyDrive/ASX annual reports/2021 (774 firms)/tmx21.pdf', '/content/drive/MyDrive/ASX annual reports/2021 (774 firms)/ttt21.pdf', '/content/drive/MyDrive/ASX annual reports/2021 (774 firms)/tso21.pdf', '/content/drive/MyDrive/ASX annual reports/2021 (774 firms)/tkl21.pdf', '/content/drive/MyDrive/ASX annual reports/2021 (774 firms)/trt21.pdf', '/content/drive/MyDrive/ASX annual reports/2021 (774 firms)/tkm21.pdf', '/content/drive/MyDrive/ASX annual reports/2021 (774 firms)/tmg21.pdf', '/content/drive/MyDrive/ASX annual reports/2021 (774 firms)/tgn21.pdf', '/content/drive/MyDrive/ASX annual reports/2021 (774 firms)/trm21.pdf', '/content/drive/MyDrive/ASX annual reports/2021 (774 firms)/tyx21.pdf', '/content/drive/MyDrive/ASX annual reports/2021 (774 firms)/vr821.pdf', '/content/drive/MyDrive/ASX annual reports/2021 (774 firms)/vxr21.pdf', '/content/drive/MyDrive/ASX annual reports/2021 (774 firms)/vrc21.pdf', '/content/drive/MyDrive/ASX annual reports/2021 (774 firms)/via21.pdf', '/content/drive/MyDrive/ASX annual reports/2021 (774 firms)/vrx21.pdf', '/content/drive/MyDrive/ASX annual reports/2021 (774 firms)/vys21.pdf', '/content/drive/MyDrive/ASX annual reports/2021 (774 firms)/vul21.pdf', '/content/drive/MyDrive/ASX annual reports/2021 (774 firms)/wgn21.pdf', '/content/drive/MyDrive/ASX annual reports/2021 (774 firms)/wsa21.pdf', '/content/drive/MyDrive/ASX annual reports/2021 (774 firms)/wgx21.pdf', '/content/drive/MyDrive/ASX annual reports/2021 (774 firms)/wc821.pdf', '/content/drive/MyDrive/ASX annual reports/2021 (774 firms)/wml21.pdf', '/content/drive/MyDrive/ASX annual reports/2021 (774 firms)/wmg21.pdf', '/content/drive/MyDrive/ASX annual reports/2021 (774 firms)/xtc21.pdf', '/content/drive/MyDrive/ASX annual reports/2021 (774 firms)/yrl21.pdf', '/content/drive/MyDrive/ASX annual reports/2021 (774 firms)/znc21.pdf', '/content/drive/MyDrive/ASX annual reports/2021 (774 firms)/zeo21.pdf', '/content/drive/MyDrive/ASX annual reports/2021 (774 firms)/zim21.pdf', '/content/drive/MyDrive/ASX annual reports/2021 (774 firms)/zmi21.pdf', '/content/drive/MyDrive/ASX annual reports/2021 (774 firms)/zno21.pdf', '/content/drive/MyDrive/ASX annual reports/2021 (774 firms)/a2b21.pdf', '/content/drive/MyDrive/ASX annual reports/2021 (774 firms)/acf21.pdf', '/content/drive/MyDrive/ASX annual reports/2021 (774 firms)/aim21.pdf', '/content/drive/MyDrive/ASX annual reports/2021 (774 firms)/ajl21.pdf', '/content/drive/MyDrive/ASX annual reports/2021 (774 firms)/aqz21.pdf', '/content/drive/MyDrive/ASX annual reports/2021 (774 firms)/aiz21.pdf', '/content/drive/MyDrive/ASX annual reports/2021 (774 firms)/3da21.pdf', '/content/drive/MyDrive/ASX annual reports/2021 (774 firms)/ama21.pdf', '/content/drive/MyDrive/ASX annual reports/2021 (774 firms)/aqn21.pdf', '/content/drive/MyDrive/ASX annual reports/2021 (774 firms)/ara21.pdf', '/content/drive/MyDrive/ASX annual reports/2021 (774 firms)/amx21.pdf', '/content/drive/MyDrive/ASX annual reports/2021 (774 firms)/ash21.pdf', '/content/drive/MyDrive/ASX annual reports/2021 (774 firms)/alq21.pdf', '/content/drive/MyDrive/ASX annual reports/2021 (774 firms)/air21.pdf', '/content/drive/MyDrive/ASX annual reports/2021 (774 firms)/al321.pdf', '/content/drive/MyDrive/ASX annual reports/2021 (774 firms)/azj21.pdf', '/content/drive/MyDrive/ASX annual reports/2021 (774 firms)/bpp21.pdf', '/content/drive/MyDrive/ASX annual reports/2021 (774 firms)/asb21.pdf', '/content/drive/MyDrive/ASX annual reports/2021 (774 firms)/ang21.pdf', '/content/drive/MyDrive/ASX annual reports/2021 (774 firms)/a3d21.pdf', '/content/drive/MyDrive/ASX annual reports/2021 (774 firms)/aia21.pdf', '/content/drive/MyDrive/ASX annual reports/2021 (774 firms)/bmh21.pdf', '/content/drive/MyDrive/ASX annual reports/2021 (774 firms)/bsa21.pdf', '/content/drive/MyDrive/ASX annual reports/2021 (774 firms)/bol21.pdf', '/content/drive/MyDrive/ASX annual reports/2021 (774 firms)/chl21.pdf', '/content/drive/MyDrive/ASX annual reports/2021 (774 firms)/cdd21.pdf', '/content/drive/MyDrive/ASX annual reports/2021 (774 firms)/cfo21.pdf', '/content/drive/MyDrive/ASX annual reports/2021 (774 firms)/cvl21.pdf', '/content/drive/MyDrive/ASX annual reports/2021 (774 firms)/cyg21.pdf', '/content/drive/MyDrive/ASX annual reports/2021 (774 firms)/cup21.pdf', '/content/drive/MyDrive/ASX annual reports/2021 (774 firms)/bxb21.pdf', '/content/drive/MyDrive/ASX annual reports/2021 (774 firms)/clx21.pdf', '/content/drive/MyDrive/ASX annual reports/2021 (774 firms)/cwy21.pdf', '/content/drive/MyDrive/ASX annual reports/2021 (774 firms)/epy21.pdf', '/content/drive/MyDrive/ASX annual reports/2021 (774 firms)/ddb21.pdf', '/content/drive/MyDrive/ASX annual reports/2021 (774 firms)/ehl21.pdf', '/content/drive/MyDrive/ASX annual reports/2021 (774 firms)/dcg21.pdf', '/content/drive/MyDrive/ASX annual reports/2021 (774 firms)/eax21.pdf', '/content/drive/MyDrive/ASX annual reports/2021 (774 firms)/ect21.pdf', '/content/drive/MyDrive/ASX annual reports/2021 (774 firms)/emb21.pdf', '/content/drive/MyDrive/ASX annual reports/2021 (774 firms)/egn21.pdf', '/content/drive/MyDrive/ASX annual reports/2021 (774 firms)/evz21.pdf', '/content/drive/MyDrive/ASX annual reports/2021 (774 firms)/ecl21.pdf', '/content/drive/MyDrive/ASX annual reports/2021 (774 firms)/fos21.pdf', '/content/drive/MyDrive/ASX annual reports/2021 (774 firms)/gnp21.pdf', '/content/drive/MyDrive/ASX annual reports/2021 (774 firms)/fft21.pdf', '/content/drive/MyDrive/ASX annual reports/2021 (774 firms)/gwa21.pdf', '/content/drive/MyDrive/ASX annual reports/2021 (774 firms)/hit21.pdf', '/content/drive/MyDrive/ASX annual reports/2021 (774 firms)/ftc21.pdf', '/content/drive/MyDrive/ASX annual reports/2021 (774 firms)/hmi21.pdf', '/content/drive/MyDrive/ASX annual reports/2021 (774 firms)/hrl21.pdf', '/content/drive/MyDrive/ASX annual reports/2021 (774 firms)/ign21.pdf', '/content/drive/MyDrive/ASX annual reports/2021 (774 firms)/iph21.pdf', '/content/drive/MyDrive/ASX annual reports/2021 (774 firms)/itg21.pdf', '/content/drive/MyDrive/ASX annual reports/2021 (774 firms)/egl21.pdf', '/content/drive/MyDrive/ASX annual reports/2021 (774 firms)/ksc21.pdf', '/content/drive/MyDrive/ASX annual reports/2021 (774 firms)/ktg21.pdf', '/content/drive/MyDrive/ASX annual reports/2021 (774 firms)/kpg21.pdf', '/content/drive/MyDrive/ASX annual reports/2021 (774 firms)/kov21.pdf', '/content/drive/MyDrive/ASX annual reports/2021 (774 firms)/lyl21.pdf', '/content/drive/MyDrive/ASX annual reports/2021 (774 firms)/lbl21.pdf', '/content/drive/MyDrive/ASX annual reports/2021 (774 firms)/lau21.pdf', '/content/drive/MyDrive/ASX annual reports/2021 (774 firms)/mgh21.pdf', '/content/drive/MyDrive/ASX annual reports/2021 (774 firms)/jlg21.pdf', '/content/drive/MyDrive/ASX annual reports/2021 (774 firms)/myg21.pdf', '/content/drive/MyDrive/ASX annual reports/2021 (774 firms)/mxi21.pdf', '/content/drive/MyDrive/ASX annual reports/2021 (774 firms)/mil21.pdf', '/content/drive/MyDrive/ASX annual reports/2021 (774 firms)/mpp21.pdf', '/content/drive/MyDrive/ASX annual reports/2021 (774 firms)/mnd21.pdf', '/content/drive/MyDrive/ASX annual reports/2021 (774 firms)/mms21.pdf', '/content/drive/MyDrive/ASX annual reports/2021 (774 firms)/mad21.pdf', '/content/drive/MyDrive/ASX annual reports/2021 (774 firms)/nwh21.pdf', '/content/drive/MyDrive/ASX annual reports/2021 (774 firms)/pkd21.pdf', '/content/drive/MyDrive/ASX annual reports/2021 (774 firms)/pg121.pdf', '/content/drive/MyDrive/ASX annual reports/2021 (774 firms)/nam21.pdf', '/content/drive/MyDrive/ASX annual reports/2021 (774 firms)/oec21.pdf', '/content/drive/MyDrive/ASX annual reports/2021 (774 firms)/opn21.pdf', '/content/drive/MyDrive/ASX annual reports/2021 (774 firms)/ppe21.pdf', '/content/drive/MyDrive/ASX annual reports/2021 (774 firms)/pow21.pdf', '/content/drive/MyDrive/ASX annual reports/2021 (774 firms)/ppk21.pdf', '/content/drive/MyDrive/ASX annual reports/2021 (774 firms)/ptb21.pdf', '/content/drive/MyDrive/ASX annual reports/2021 (774 firms)/qip21.pdf', '/content/drive/MyDrive/ASX annual reports/2021 (774 firms)/qhl21.pdf', '/content/drive/MyDrive/ASX annual reports/2021 (774 firms)/qan21.pdf', '/content/drive/MyDrive/ASX annual reports/2021 (774 firms)/qub21.pdf', '/content/drive/MyDrive/ASX annual reports/2021 (774 firms)/rdg21.pdf', '/content/drive/MyDrive/ASX annual reports/2021 (774 firms)/reh21.pdf', '/content/drive/MyDrive/ASX annual reports/2021 (774 firms)/rwc21.pdf', '/content/drive/MyDrive/ASX annual reports/2021 (774 firms)/rgi21.pdf', '/content/drive/MyDrive/ASX annual reports/2021 (774 firms)/sfg21.pdf', '/content/drive/MyDrive/ASX annual reports/2021 (774 firms)/rfx21.pdf', '/content/drive/MyDrive/ASX annual reports/2021 (774 firms)/srh21.pdf', '/content/drive/MyDrive/ASX annual reports/2021 (774 firms)/ssm21.pdf', '/content/drive/MyDrive/ASX annual reports/2021 (774 firms)/snd21.pdf', '/content/drive/MyDrive/ASX annual reports/2021 (774 firms)/siv21.pdf', '/content/drive/MyDrive/ASX annual reports/2021 (774 firms)/sgf21.pdf', '/content/drive/MyDrive/ASX annual reports/2021 (774 firms)/slh21.pdf', '/content/drive/MyDrive/ASX annual reports/2021 (774 firms)/svw21.pdf', '/content/drive/MyDrive/ASX annual reports/2021 (774 firms)/sks21.pdf', '/content/drive/MyDrive/ASX annual reports/2021 (774 firms)/sgi21.pdf', '/content/drive/MyDrive/ASX annual reports/2021 (774 firms)/srl21.pdf', '/content/drive/MyDrive/ASX annual reports/2021 (774 firms)/sxe21.pdf', '/content/drive/MyDrive/ASX annual reports/2021 (774 firms)/go221.pdf', '/content/drive/MyDrive/ASX annual reports/2021 (774 firms)/tps21.pdf', '/content/drive/MyDrive/ASX annual reports/2021 (774 firms)/srg21.pdf', '/content/drive/MyDrive/ASX annual reports/2021 (774 firms)/vee21.pdf', '/content/drive/MyDrive/ASX annual reports/2021 (774 firms)/tti21.pdf', '/content/drive/MyDrive/ASX annual reports/2021 (774 firms)/sop21.pdf', '/content/drive/MyDrive/ASX annual reports/2021 (774 firms)/vbc21.pdf', '/content/drive/MyDrive/ASX annual reports/2021 (774 firms)/xrf21.pdf', '/content/drive/MyDrive/ASX annual reports/2021 (774 firms)/vrs21.pdf', '/content/drive/MyDrive/ASX annual reports/2021 (774 firms)/tcl21.pdf', '/content/drive/MyDrive/ASX annual reports/2021 (774 firms)/3pl21.pdf', '/content/drive/MyDrive/ASX annual reports/2021 (774 firms)/akg21.pdf', '/content/drive/MyDrive/ASX annual reports/2021 (774 firms)/8vi21.pdf', '/content/drive/MyDrive/ASX annual reports/2021 (774 firms)/ax121.pdf', '/content/drive/MyDrive/ASX annual reports/2021 (774 firms)/agi21.pdf', '/content/drive/MyDrive/ASX annual reports/2021 (774 firms)/aby21.pdf', '/content/drive/MyDrive/ASX annual reports/2021 (774 firms)/atl21.pdf', '/content/drive/MyDrive/ASX annual reports/2021 (774 firms)/adh21.pdf', '/content/drive/MyDrive/ASX annual reports/2021 (774 firms)/ahx21.pdf', '/content/drive/MyDrive/ASX annual reports/2021 (774 firms)/afa21.pdf', '/content/drive/MyDrive/ASX annual reports/2021 (774 firms)/aua21.pdf', '/content/drive/MyDrive/ASX annual reports/2021 (774 firms)/atp21.pdf', '/content/drive/MyDrive/ASX annual reports/2021 (774 firms)/asg21.pdf', '/content/drive/MyDrive/ASX annual reports/2021 (774 firms)/bbn21.pdf', '/content/drive/MyDrive/ASX annual reports/2021 (774 firms)/alg21.pdf', '/content/drive/MyDrive/ASX annual reports/2021 (774 firms)/bst21.pdf', '/content/drive/MyDrive/ASX annual reports/2021 (774 firms)/arb21.pdf', '/content/drive/MyDrive/ASX annual reports/2021 (774 firms)/bet21.pdf', '/content/drive/MyDrive/ASX annual reports/2021 (774 firms)/bap21.pdf', '/content/drive/MyDrive/ASX annual reports/2021 (774 firms)/bda21.pdf', '/content/drive/MyDrive/ASX annual reports/2021 (774 firms)/bkg21.pdf', '/content/drive/MyDrive/ASX annual reports/2021 (774 firms)/brg21.pdf', '/content/drive/MyDrive/ASX annual reports/2021 (774 firms)/bgp21.pdf', '/content/drive/MyDrive/ASX annual reports/2021 (774 firms)/blx21.pdf', '/content/drive/MyDrive/ASX annual reports/2021 (774 firms)/bbt21.pdf', '/content/drive/MyDrive/ASX annual reports/2021 (774 firms)/cl821.pdf', '/content/drive/MyDrive/ASX annual reports/2021 (774 firms)/ctt21.pdf', '/content/drive/MyDrive/ASX annual reports/2021 (774 firms)/cbr21.pdf', '/content/drive/MyDrive/ASX annual reports/2021 (774 firms)/clu21.pdf', '/content/drive/MyDrive/ASX annual reports/2021 (774 firms)/ccx21.pdf', '/content/drive/MyDrive/ASX annual reports/2021 (774 firms)/ckf21.pdf', '/content/drive/MyDrive/ASX annual reports/2021 (774 firms)/cyq21.pdf', '/content/drive/MyDrive/ASX annual reports/2021 (774 firms)/ddt21.pdf', '/content/drive/MyDrive/ASX annual reports/2021 (774 firms)/dlc21.pdf', '/content/drive/MyDrive/ASX annual reports/2021 (774 firms)/dmc21.pdf', '/content/drive/MyDrive/ASX annual reports/2021 (774 firms)/cwn21.pdf', '/content/drive/MyDrive/ASX annual reports/2021 (774 firms)/dw821.pdf', '/content/drive/MyDrive/ASX annual reports/2021 (774 firms)/ctd21.pdf', '/content/drive/MyDrive/ASX annual reports/2021 (774 firms)/dmp21.pdf', '/content/drive/MyDrive/ASX annual reports/2021 (774 firms)/dsk21.pdf', '/content/drive/MyDrive/ASX annual reports/2021 (774 firms)/ebg21.pdf', '/content/drive/MyDrive/ASX annual reports/2021 (774 firms)/fwd21.pdf', '/content/drive/MyDrive/ASX annual reports/2021 (774 firms)/gle21.pdf', '/content/drive/MyDrive/ASX annual reports/2021 (774 firms)/gap21.pdf', '/content/drive/MyDrive/ASX annual reports/2021 (774 firms)/exp21.pdf', '/content/drive/MyDrive/ASX annual reports/2021 (774 firms)/enn21.pdf', '/content/drive/MyDrive/ASX annual reports/2021 (774 firms)/flt21.pdf', '/content/drive/MyDrive/ASX annual reports/2021 (774 firms)/ht821.pdf', '/content/drive/MyDrive/ASX annual reports/2021 (774 firms)/gud21.pdf', '/content/drive/MyDrive/ASX annual reports/2021 (774 firms)/isu21.pdf', '/content/drive/MyDrive/ASX annual reports/2021 (774 firms)/glb21.pdf', '/content/drive/MyDrive/ASX annual reports/2021 (774 firms)/jbh21.pdf', '/content/drive/MyDrive/ASX annual reports/2021 (774 firms)/iel21.pdf', '/content/drive/MyDrive/ASX annual reports/2021 (774 firms)/jay21.pdf', '/content/drive/MyDrive/ASX annual reports/2021 (774 firms)/jyc21.pdf', '/content/drive/MyDrive/ASX annual reports/2021 (774 firms)/kmd21.pdf', '/content/drive/MyDrive/ASX annual reports/2021 (774 firms)/jat21.pdf', '/content/drive/MyDrive/ASX annual reports/2021 (774 firms)/kme21.pdf', '/content/drive/MyDrive/ASX annual reports/2021 (774 firms)/hlo21.pdf', '/content/drive/MyDrive/ASX annual reports/2021 (774 firms)/jin21.pdf', '/content/drive/MyDrive/ASX annual reports/2021 (774 firms)/kgn21.pdf', '/content/drive/MyDrive/ASX annual reports/2021 (774 firms)/mph21.pdf', '/content/drive/MyDrive/ASX annual reports/2021 (774 firms)/mhi21.pdf', '/content/drive/MyDrive/ASX annual reports/2021 (774 firms)/ked21.pdf', '/content/drive/MyDrive/ASX annual reports/2021 (774 firms)/mpa21.pdf', '/content/drive/MyDrive/ASX annual reports/2021 (774 firms)/lov21.pdf', '/content/drive/MyDrive/ASX annual reports/2021 (774 firms)/mhj21.pdf', '/content/drive/MyDrive/ASX annual reports/2021 (774 firms)/mto21.pdf', '/content/drive/MyDrive/ASX annual reports/2021 (774 firms)/myr21.pdf', '/content/drive/MyDrive/ASX annual reports/2021 (774 firms)/myd21.pdf', '/content/drive/MyDrive/ASX annual reports/2021 (774 firms)/ntd21.pdf', '/content/drive/MyDrive/ASX annual reports/2021 (774 firms)/moz21.pdf', '/content/drive/MyDrive/ASX annual reports/2021 (774 firms)/pwr21.pdf', '/content/drive/MyDrive/ASX annual reports/2021 (774 firms)/mfb21.pdf', '/content/drive/MyDrive/ASX annual reports/2021 (774 firms)/nck21.pdf', '/content/drive/MyDrive/ASX annual reports/2021 (774 firms)/pwh21.pdf', '/content/drive/MyDrive/ASX annual reports/2021 (774 firms)/pfp21.pdf', '/content/drive/MyDrive/ASX annual reports/2021 (774 firms)/rbl21.pdf', '/content/drive/MyDrive/ASX annual reports/2021 (774 firms)/rfg21.pdf', '/content/drive/MyDrive/ASX annual reports/2021 (774 firms)/sfc21.pdf', '/content/drive/MyDrive/ASX annual reports/2021 (774 firms)/pbh21.pdf', '/content/drive/MyDrive/ASX annual reports/2021 (774 firms)/ssg21.pdf', '/content/drive/MyDrive/ASX annual reports/2021 (774 firms)/rdh21.pdf', '/content/drive/MyDrive/ASX annual reports/2021 (774 firms)/sct21.pdf', '/content/drive/MyDrive/ASX annual reports/2021 (774 firms)/rdc21.pdf', '/content/drive/MyDrive/ASX annual reports/2021 (774 firms)/sgh21.pdf', '/content/drive/MyDrive/ASX annual reports/2021 (774 firms)/slk21.pdf', '/content/drive/MyDrive/ASX annual reports/2021 (774 firms)/shj21.pdf', '/content/drive/MyDrive/ASX annual reports/2021 (774 firms)/six21.pdf', '/content/drive/MyDrive/ASX annual reports/2021 (774 firms)/snl21.pdf', '/content/drive/MyDrive/ASX annual reports/2021 (774 firms)/sio21.pdf', '/content/drive/MyDrive/ASX annual reports/2021 (774 firms)/twd21.pdf', '/content/drive/MyDrive/ASX annual reports/2021 (774 firms)/sul21.pdf', '/content/drive/MyDrive/ASX annual reports/2021 (774 firms)/tpw21.pdf', '/content/drive/MyDrive/ASX annual reports/2021 (774 firms)/trs21.pdf', '/content/drive/MyDrive/ASX annual reports/2021 (774 firms)/skc21.pdf', '/content/drive/MyDrive/ASX annual reports/2021 (774 firms)/tta21.pdf', '/content/drive/MyDrive/ASX annual reports/2021 (774 firms)/tga21.pdf', '/content/drive/MyDrive/ASX annual reports/2021 (774 firms)/sgr21.pdf', '/content/drive/MyDrive/ASX annual reports/2021 (774 firms)/uni21.pdf', '/content/drive/MyDrive/ASX annual reports/2021 (774 firms)/ucw21.pdf', '/content/drive/MyDrive/ASX annual reports/2021 (774 firms)/tra21.pdf', '/content/drive/MyDrive/ASX annual reports/2021 (774 firms)/tah21.pdf', '/content/drive/MyDrive/ASX annual reports/2021 (774 firms)/wat21.pdf', '/content/drive/MyDrive/ASX annual reports/2021 (774 firms)/vtg21.pdf', '/content/drive/MyDrive/ASX annual reports/2021 (774 firms)/vva21.pdf', '/content/drive/MyDrive/ASX annual reports/2021 (774 firms)/web21.pdf', '/content/drive/MyDrive/ASX annual reports/2021 (774 firms)/ann21.pdf', '/content/drive/MyDrive/ASX annual reports/2021 (774 firms)/a2m21.pdf', '/content/drive/MyDrive/ASX annual reports/2021 (774 firms)/aac21.pdf', '/content/drive/MyDrive/ASX annual reports/2021 (774 firms)/shl21.pdf', '/content/drive/MyDrive/ASX annual reports/2021 (774 firms)/twe21.pdf', '/content/drive/MyDrive/ASX annual reports/2021 (774 firms)/tot21.pdf', '/content/drive/MyDrive/ASX annual reports/2021 (774 firms)/ayi21.pdf', '/content/drive/MyDrive/ASX annual reports/2021 (774 firms)/8ih21.pdf', '/content/drive/MyDrive/ASX annual reports/2021 (774 firms)/avc21.pdf', '/content/drive/MyDrive/ASX annual reports/2021 (774 firms)/arc21.pdf', '/content/drive/MyDrive/ASX annual reports/2021 (774 firms)/aub21.pdf', '/content/drive/MyDrive/ASX annual reports/2021 (774 firms)/aef21.pdf', '/content/drive/MyDrive/ASX annual reports/2021 (774 firms)/aba21.pdf', '/content/drive/MyDrive/ASX annual reports/2021 (774 firms)/afg21.pdf', '/content/drive/MyDrive/ASX annual reports/2021 (774 firms)/ben21.pdf', '/content/drive/MyDrive/ASX annual reports/2021 (774 firms)/bir21.pdf', '/content/drive/MyDrive/ASX annual reports/2021 (774 firms)/bbc21.pdf', '/content/drive/MyDrive/ASX annual reports/2021 (774 firms)/asx21.pdf', '/content/drive/MyDrive/ASX annual reports/2021 (774 firms)/btn21.pdf', '/content/drive/MyDrive/ASX annual reports/2021 (774 firms)/bti21.pdf', '/content/drive/MyDrive/ASX annual reports/2021 (774 firms)/bwf21.pdf', '/content/drive/MyDrive/ASX annual reports/2021 (774 firms)/ccv21.pdf', '/content/drive/MyDrive/ASX annual reports/2021 (774 firms)/caf21.pdf', '/content/drive/MyDrive/ASX annual reports/2021 (774 firms)/cvw21.pdf', '/content/drive/MyDrive/ASX annual reports/2021 (774 firms)/cog21.pdf', '/content/drive/MyDrive/ASX annual reports/2021 (774 firms)/clh21.pdf', '/content/drive/MyDrive/ASX annual reports/2021 (774 firms)/cgf21.pdf', '/content/drive/MyDrive/ASX annual reports/2021 (774 firms)/cga21.pdf', '/content/drive/MyDrive/ASX annual reports/2021 (774 firms)/ci121.pdf', '/content/drive/MyDrive/ASX annual reports/2021 (774 firms)/cvc21.pdf', '/content/drive/MyDrive/ASX annual reports/2021 (774 firms)/ccp21.pdf', '/content/drive/MyDrive/ASX annual reports/2021 (774 firms)/eas21.pdf', '/content/drive/MyDrive/ASX annual reports/2021 (774 firms)/ep121.pdf', '/content/drive/MyDrive/ASX annual reports/2021 (774 firms)/cba21.pdf', '/content/drive/MyDrive/ASX annual reports/2021 (774 firms)/edc21.pdf', '/content/drive/MyDrive/ASX annual reports/2021 (774 firms)/ciw21.pdf', '/content/drive/MyDrive/ASX annual reports/2021 (774 firms)/ena21.pdf', '/content/drive/MyDrive/ASX annual reports/2021 (774 firms)/eqt21.pdf', '/content/drive/MyDrive/ASX annual reports/2021 (774 firms)/dbf21.pdf', '/content/drive/MyDrive/ASX annual reports/2021 (774 firms)/exo21.pdf', '/content/drive/MyDrive/ASX annual reports/2021 (774 firms)/fnx21.pdf', '/content/drive/MyDrive/ASX annual reports/2021 (774 firms)/fsa21.pdf', '/content/drive/MyDrive/ASX annual reports/2021 (774 firms)/ezl21.pdf', '/content/drive/MyDrive/ASX annual reports/2021 (774 firms)/eve21.pdf', '/content/drive/MyDrive/ASX annual reports/2021 (774 firms)/hmy21.pdf', '/content/drive/MyDrive/ASX annual reports/2021 (774 firms)/hub21.pdf', '/content/drive/MyDrive/ASX annual reports/2021 (774 firms)/fid21.pdf', '/content/drive/MyDrive/ASX annual reports/2021 (774 firms)/hgh21.pdf', '/content/drive/MyDrive/ASX annual reports/2021 (774 firms)/inv21.pdf', '/content/drive/MyDrive/ASX annual reports/2021 (774 firms)/iq321.pdf', '/content/drive/MyDrive/ASX annual reports/2021 (774 firms)/lfg21.pdf', '/content/drive/MyDrive/ASX annual reports/2021 (774 firms)/ifl21.pdf', '/content/drive/MyDrive/ASX annual reports/2021 (774 firms)/kam21.pdf', '/content/drive/MyDrive/ASX annual reports/2021 (774 firms)/iag21.pdf', '/content/drive/MyDrive/ASX annual reports/2021 (774 firms)/mfg21.pdf', '/content/drive/MyDrive/ASX annual reports/2021 (774 firms)/mai21.pdf', '/content/drive/MyDrive/ASX annual reports/2021 (774 firms)/gdg21.pdf', '/content/drive/MyDrive/ASX annual reports/2021 (774 firms)/mam21.pdf', '/content/drive/MyDrive/ASX annual reports/2021 (774 firms)/mny21.pdf', '/content/drive/MyDrive/ASX annual reports/2021 (774 firms)/mpr21.pdf', '/content/drive/MyDrive/ASX annual reports/2021 (774 firms)/mpl21.pdf', '/content/drive/MyDrive/ASX annual reports/2021 (774 firms)/mqg21.pdf', '/content/drive/MyDrive/ASX annual reports/2021 (774 firms)/mys21.pdf', '/content/drive/MyDrive/ASX annual reports/2021 (774 firms)/ngi21.pdf', '/content/drive/MyDrive/ASX annual reports/2021 (774 firms)/n1h21.pdf', '/content/drive/MyDrive/ASX annual reports/2021 (774 firms)/nhf21.pdf', '/content/drive/MyDrive/ASX annual reports/2021 (774 firms)/nwl21.pdf', '/content/drive/MyDrive/ASX annual reports/2021 (774 firms)/nsx21.pdf', '/content/drive/MyDrive/ASX annual reports/2021 (774 firms)/oeq21.pdf', '/content/drive/MyDrive/ASX annual reports/2021 (774 firms)/obl21.pdf', '/content/drive/MyDrive/ASX annual reports/2021 (774 firms)/ppt21.pdf', '/content/drive/MyDrive/ASX annual reports/2021 (774 firms)/pni21.pdf', '/content/drive/MyDrive/ASX annual reports/2021 (774 firms)/pcg21.pdf', '/content/drive/MyDrive/ASX annual reports/2021 (774 firms)/pnc21.pdf', '/content/drive/MyDrive/ASX annual reports/2021 (774 firms)/ptm21.pdf', '/content/drive/MyDrive/ASX annual reports/2021 (774 firms)/mme21.pdf', '/content/drive/MyDrive/ASX annual reports/2021 (774 firms)/pfg21.pdf', '/content/drive/MyDrive/ASX annual reports/2021 (774 firms)/psi21.pdf', '/content/drive/MyDrive/ASX annual reports/2021 (774 firms)/que21.pdf', '/content/drive/MyDrive/ASX annual reports/2021 (774 firms)/plt21.pdf', '/content/drive/MyDrive/ASX annual reports/2021 (774 firms)/opy21.pdf', '/content/drive/MyDrive/ASX annual reports/2021 (774 firms)/pgl21.pdf', '/content/drive/MyDrive/ASX annual reports/2021 (774 firms)/ras21.pdf', '/content/drive/MyDrive/ASX annual reports/2021 (774 firms)/qfe21.pdf', '/content/drive/MyDrive/ASX annual reports/2021 (774 firms)/rzi21.pdf', '/content/drive/MyDrive/ASX annual reports/2021 (774 firms)/rmc21.pdf', '/content/drive/MyDrive/ASX annual reports/2021 (774 firms)/swf21.pdf', '/content/drive/MyDrive/ASX annual reports/2021 (774 firms)/seq21.pdf', '/content/drive/MyDrive/ASX annual reports/2021 (774 firms)/sdf21.pdf', '/content/drive/MyDrive/ASX annual reports/2021 (774 firms)/tip21.pdf', '/content/drive/MyDrive/ASX annual reports/2021 (774 firms)/wzr21.pdf', '/content/drive/MyDrive/ASX annual reports/2021 (774 firms)/wtl21.pdf', '/content/drive/MyDrive/ASX annual reports/2021 (774 firms)/sor21.pdf', '/content/drive/MyDrive/ASX annual reports/2021 (774 firms)/sun21.pdf', '/content/drive/MyDrive/ASX annual reports/2021 (774 firms)/ybr21.pdf', '/content/drive/MyDrive/ASX annual reports/2021 (774 firms)/z1p21.pdf', '/content/drive/MyDrive/ASX annual reports/2021 (774 firms)/9sp21.pdf', '/content/drive/MyDrive/ASX annual reports/2021 (774 firms)/cnw21.pdf', '/content/drive/MyDrive/ASX annual reports/2021 (774 firms)/cpu21.pdf', '/content/drive/MyDrive/ASX annual reports/2021 (774 firms)/frx21.pdf', '/content/drive/MyDrive/ASX annual reports/2021 (774 firms)/rvs21.pdf', '/content/drive/MyDrive/ASX annual reports/2021 (774 firms)/rea21.pdf', '/content/drive/MyDrive/ASX annual reports/2021 (774 firms)/sek21.pdf', '/content/drive/MyDrive/ASX annual reports/2021 (774 firms)/xro21.pdf', '/content/drive/MyDrive/ASX annual reports/2021 (774 firms)/pph21.pdf', '/content/drive/MyDrive/ASX annual reports/2021 (774 firms)/sko21.pdf', '/content/drive/MyDrive/ASX annual reports/2021 (774 firms)/aqr21.pdf', '/content/drive/MyDrive/ASX annual reports/2021 (774 firms)/gdf21.pdf', '/content/drive/MyDrive/ASX annual reports/2021 (774 firms)/iap21.pdf', '/content/drive/MyDrive/ASX annual reports/2021 (774 firms)/vcx21.pdf', '/content/drive/MyDrive/ASX annual reports/2021 (774 firms)/llc21.pdf']\n"
          ]
        }
      ]
    },
    {
      "cell_type": "markdown",
      "metadata": {
        "id": "tx3afZbVAN2b"
      },
      "source": [
        "Check the number of files in this folder"
      ]
    },
    {
      "cell_type": "code",
      "metadata": {
        "colab": {
          "base_uri": "https://localhost:8080/"
        },
        "id": "OZc7OJure1px",
        "outputId": "8d3f4573-10fa-494e-bca2-e3c6f5965878"
      },
      "source": [
        "len(file_list)"
      ],
      "execution_count": null,
      "outputs": [
        {
          "output_type": "execute_result",
          "data": {
            "text/plain": [
              "774"
            ]
          },
          "metadata": {},
          "execution_count": 5
        }
      ]
    },
    {
      "cell_type": "markdown",
      "metadata": {
        "id": "6oRlSJ9bAkDh"
      },
      "source": [
        "## Step 3: Extract PDF files (around 500 each time)"
      ]
    },
    {
      "cell_type": "markdown",
      "metadata": {
        "id": "9oCRr5GlKDXp"
      },
      "source": [
        "### Step 3.1: List 1"
      ]
    },
    {
      "cell_type": "markdown",
      "metadata": {
        "id": "blqeFTlcA407"
      },
      "source": [
        "e.g., the following piece of code is to extract 500 PDF files (with index 0-499)"
      ]
    },
    {
      "cell_type": "code",
      "metadata": {
        "colab": {
          "base_uri": "https://localhost:8080/"
        },
        "id": "-UGuhBjCZPeA",
        "outputId": "035093ba-7451-496c-8d40-e93ae9c92e42"
      },
      "source": [
        "new_list1={}\n",
        "\n",
        "for file in file_list[:500]:   # start from 0, up to 500 but not including\n",
        "  print(file)\n",
        "    \n",
        "  if file.endswith(\".pdf\"):\n",
        "    try:\n",
        "      with pdfplumber.open(file) as pdf:\n",
        "        fulltext = \"\"\n",
        "        try:\n",
        "          for page in pdf.pages:\n",
        "            try:\n",
        "              text = page.extract_text()\n",
        "              fulltext += str(text)\n",
        "            except:\n",
        "              fulltext = \"\"\n",
        "              print(\"Blank\")\n",
        "            finally:\n",
        "              pass\n",
        "        except:\n",
        "          pass\n",
        "    except:\n",
        "      pass\n",
        "        \n",
        "        \n",
        "    new_list1[file]=(fulltext) "
      ],
      "execution_count": null,
      "outputs": [
        {
          "output_type": "stream",
          "name": "stdout",
          "text": [
            "/content/drive/MyDrive/ASX annual reports/2021 (774 firms)/tdo21.pdf\n",
            "/content/drive/MyDrive/ASX annual reports/2021 (774 firms)/auh21.pdf\n",
            "/content/drive/MyDrive/ASX annual reports/2021 (774 firms)/age21.pdf\n",
            "/content/drive/MyDrive/ASX annual reports/2021 (774 firms)/bky21.pdf\n",
            "/content/drive/MyDrive/ASX annual reports/2021 (774 firms)/blz21.pdf\n",
            "/content/drive/MyDrive/ASX annual reports/2021 (774 firms)/bpt21.pdf\n",
            "/content/drive/MyDrive/ASX annual reports/2021 (774 firms)/cvn21.pdf\n",
            "/content/drive/MyDrive/ASX annual reports/2021 (774 firms)/coe21.pdf\n",
            "/content/drive/MyDrive/ASX annual reports/2021 (774 firms)/ccj21.pdf\n",
            "/content/drive/MyDrive/ASX annual reports/2021 (774 firms)/cue21.pdf\n",
            "/content/drive/MyDrive/ASX annual reports/2021 (774 firms)/cel21.pdf\n",
            "/content/drive/MyDrive/ASX annual reports/2021 (774 firms)/coi21.pdf\n",
            "/content/drive/MyDrive/ASX annual reports/2021 (774 firms)/dyl21.pdf\n",
            "/content/drive/MyDrive/ASX annual reports/2021 (774 firms)/eer21.pdf\n",
            "/content/drive/MyDrive/ASX annual reports/2021 (774 firms)/epm21.pdf\n",
            "/content/drive/MyDrive/ASX annual reports/2021 (774 firms)/ctp21.pdf\n",
            "/content/drive/MyDrive/ASX annual reports/2021 (774 firms)/dev21.pdf\n",
            "/content/drive/MyDrive/ASX annual reports/2021 (774 firms)/el821.pdf\n",
            "/content/drive/MyDrive/ASX annual reports/2021 (774 firms)/fzr21.pdf\n",
            "/content/drive/MyDrive/ASX annual reports/2021 (774 firms)/eqx21.pdf\n",
            "/content/drive/MyDrive/ASX annual reports/2021 (774 firms)/fme21.pdf\n",
            "/content/drive/MyDrive/ASX annual reports/2021 (774 firms)/ggx21.pdf\n",
            "/content/drive/MyDrive/ASX annual reports/2021 (774 firms)/gll21.pdf\n",
            "/content/drive/MyDrive/ASX annual reports/2021 (774 firms)/gev21.pdf\n",
            "/content/drive/MyDrive/ASX annual reports/2021 (774 firms)/exr21.pdf\n",
            "/content/drive/MyDrive/ASX annual reports/2021 (774 firms)/ivr21.pdf\n",
            "/content/drive/MyDrive/ASX annual reports/2021 (774 firms)/key21.pdf\n",
            "/content/drive/MyDrive/ASX annual reports/2021 (774 firms)/hzn21.pdf\n",
            "/content/drive/MyDrive/ASX annual reports/2021 (774 firms)/mhc21.pdf\n",
            "/content/drive/MyDrive/ASX annual reports/2021 (774 firms)/lck21.pdf\n",
            "/content/drive/MyDrive/ASX annual reports/2021 (774 firms)/meu21.pdf\n",
            "/content/drive/MyDrive/ASX annual reports/2021 (774 firms)/kar21.pdf\n",
            "/content/drive/MyDrive/ASX annual reports/2021 (774 firms)/mel21.pdf\n",
            "/content/drive/MyDrive/ASX annual reports/2021 (774 firms)/mce21.pdf\n",
            "/content/drive/MyDrive/ASX annual reports/2021 (774 firms)/nse21.pdf\n",
            "/content/drive/MyDrive/ASX annual reports/2021 (774 firms)/nzo21.pdf\n",
            "/content/drive/MyDrive/ASX annual reports/2021 (774 firms)/nhc21.pdf\n",
            "/content/drive/MyDrive/ASX annual reports/2021 (774 firms)/nxg21.pdf\n",
            "/content/drive/MyDrive/ASX annual reports/2021 (774 firms)/nwe21.pdf\n",
            "/content/drive/MyDrive/ASX annual reports/2021 (774 firms)/nae21.pdf\n",
            "/content/drive/MyDrive/ASX annual reports/2021 (774 firms)/ngy21.pdf\n",
            "/content/drive/MyDrive/ASX annual reports/2021 (774 firms)/mrm21.pdf\n",
            "/content/drive/MyDrive/ASX annual reports/2021 (774 firms)/oxx21.pdf\n",
            "/content/drive/MyDrive/ASX annual reports/2021 (774 firms)/oel21.pdf\n",
            "/content/drive/MyDrive/ASX annual reports/2021 (774 firms)/prm21.pdf\n",
            "/content/drive/MyDrive/ASX annual reports/2021 (774 firms)/pdn21.pdf\n",
            "/content/drive/MyDrive/ASX annual reports/2021 (774 firms)/oex21.pdf\n",
            "/content/drive/MyDrive/ASX annual reports/2021 (774 firms)/rey21.pdf\n",
            "/content/drive/MyDrive/ASX annual reports/2021 (774 firms)/rlt21.pdf\n",
            "/content/drive/MyDrive/ASX annual reports/2021 (774 firms)/gas21.pdf\n",
            "/content/drive/MyDrive/ASX annual reports/2021 (774 firms)/org21.pdf\n",
            "/content/drive/MyDrive/ASX annual reports/2021 (774 firms)/tmk21.pdf\n",
            "/content/drive/MyDrive/ASX annual reports/2021 (774 firms)/tou21.pdf\n",
            "/content/drive/MyDrive/ASX annual reports/2021 (774 firms)/tsc21.pdf\n",
            "/content/drive/MyDrive/ASX annual reports/2021 (774 firms)/wgo21.pdf\n",
            "/content/drive/MyDrive/ASX annual reports/2021 (774 firms)/stx21.pdf\n",
            "/content/drive/MyDrive/ASX annual reports/2021 (774 firms)/sxy21.pdf\n",
            "/content/drive/MyDrive/ASX annual reports/2021 (774 firms)/wec21.pdf\n",
            "/content/drive/MyDrive/ASX annual reports/2021 (774 firms)/whc21.pdf\n",
            "/content/drive/MyDrive/ASX annual reports/2021 (774 firms)/wor21.pdf\n",
            "/content/drive/MyDrive/ASX annual reports/2021 (774 firms)/ano21.pdf\n",
            "/content/drive/MyDrive/ASX annual reports/2021 (774 firms)/ais21.pdf\n",
            "/content/drive/MyDrive/ASX annual reports/2021 (774 firms)/aml21.pdf\n",
            "/content/drive/MyDrive/ASX annual reports/2021 (774 firms)/amn21.pdf\n",
            "/content/drive/MyDrive/ASX annual reports/2021 (774 firms)/alb21.pdf\n",
            "/content/drive/MyDrive/ASX annual reports/2021 (774 firms)/aiv21.pdf\n",
            "/content/drive/MyDrive/ASX annual reports/2021 (774 firms)/agr21.pdf\n",
            "/content/drive/MyDrive/ASX annual reports/2021 (774 firms)/al821.pdf\n",
            "/content/drive/MyDrive/ASX annual reports/2021 (774 firms)/ajx21.pdf\n",
            "/content/drive/MyDrive/ASX annual reports/2021 (774 firms)/alk21.pdf\n",
            "/content/drive/MyDrive/ASX annual reports/2021 (774 firms)/arn21.pdf\n",
            "/content/drive/MyDrive/ASX annual reports/2021 (774 firms)/aly21.pdf\n",
            "/content/drive/MyDrive/ASX annual reports/2021 (774 firms)/ahq21.pdf\n",
            "/content/drive/MyDrive/ASX annual reports/2021 (774 firms)/amc21.pdf\n",
            "/content/drive/MyDrive/ASX annual reports/2021 (774 firms)/aqi21.pdf\n",
            "/content/drive/MyDrive/ASX annual reports/2021 (774 firms)/abr21.pdf\n",
            "/content/drive/MyDrive/ASX annual reports/2021 (774 firms)/azi21.pdf\n",
            "/content/drive/MyDrive/ASX annual reports/2021 (774 firms)/a4n21.pdf\n",
            "/content/drive/MyDrive/ASX annual reports/2021 (774 firms)/arr21.pdf\n",
            "/content/drive/MyDrive/ASX annual reports/2021 (774 firms)/anx21.pdf\n",
            "/content/drive/MyDrive/ASX annual reports/2021 (774 firms)/aar21.pdf\n",
            "/content/drive/MyDrive/ASX annual reports/2021 (774 firms)/azy21.pdf\n",
            "/content/drive/MyDrive/ASX annual reports/2021 (774 firms)/awv21.pdf\n",
            "/content/drive/MyDrive/ASX annual reports/2021 (774 firms)/aon21.pdf\n",
            "/content/drive/MyDrive/ASX annual reports/2021 (774 firms)/aru21.pdf\n",
            "/content/drive/MyDrive/ASX annual reports/2021 (774 firms)/axe21.pdf\n",
            "/content/drive/MyDrive/ASX annual reports/2021 (774 firms)/adv21.pdf\n",
            "/content/drive/MyDrive/ASX annual reports/2021 (774 firms)/arl21.pdf\n",
            "/content/drive/MyDrive/ASX annual reports/2021 (774 firms)/ard21.pdf\n",
            "/content/drive/MyDrive/ASX annual reports/2021 (774 firms)/ahk21.pdf\n",
            "/content/drive/MyDrive/ASX annual reports/2021 (774 firms)/aaj21.pdf\n",
            "/content/drive/MyDrive/ASX annual reports/2021 (774 firms)/amd21.pdf\n",
            "/content/drive/MyDrive/ASX annual reports/2021 (774 firms)/are21.pdf\n",
            "/content/drive/MyDrive/ASX annual reports/2021 (774 firms)/akm21.pdf\n",
            "/content/drive/MyDrive/ASX annual reports/2021 (774 firms)/as221.pdf\n",
            "/content/drive/MyDrive/ASX annual reports/2021 (774 firms)/aro21.pdf\n",
            "/content/drive/MyDrive/ASX annual reports/2021 (774 firms)/ahn21.pdf\n",
            "/content/drive/MyDrive/ASX annual reports/2021 (774 firms)/ami21.pdf\n",
            "/content/drive/MyDrive/ASX annual reports/2021 (774 firms)/aur21.pdf\n",
            "/content/drive/MyDrive/ASX annual reports/2021 (774 firms)/anw21.pdf\n",
            "/content/drive/MyDrive/ASX annual reports/2021 (774 firms)/aou21.pdf\n",
            "/content/drive/MyDrive/ASX annual reports/2021 (774 firms)/aoa21.pdf\n",
            "/content/drive/MyDrive/ASX annual reports/2021 (774 firms)/aqd21.pdf\n",
            "/content/drive/MyDrive/ASX annual reports/2021 (774 firms)/auz21.pdf\n",
            "/content/drive/MyDrive/ASX annual reports/2021 (774 firms)/apc21.pdf\n",
            "/content/drive/MyDrive/ASX annual reports/2021 (774 firms)/asm21.pdf\n",
            "/content/drive/MyDrive/ASX annual reports/2021 (774 firms)/asq21.pdf\n",
            "/content/drive/MyDrive/ASX annual reports/2021 (774 firms)/ar321.pdf\n",
            "/content/drive/MyDrive/ASX annual reports/2021 (774 firms)/aev21.pdf\n",
            "/content/drive/MyDrive/ASX annual reports/2021 (774 firms)/avl21.pdf\n",
            "/content/drive/MyDrive/ASX annual reports/2021 (774 firms)/azs21.pdf\n",
            "/content/drive/MyDrive/ASX annual reports/2021 (774 firms)/bmr21.pdf\n",
            "/content/drive/MyDrive/ASX annual reports/2021 (774 firms)/bmm21.pdf\n",
            "/content/drive/MyDrive/ASX annual reports/2021 (774 firms)/bmn21.pdf\n",
            "/content/drive/MyDrive/ASX annual reports/2021 (774 firms)/bgd21.pdf\n",
            "/content/drive/MyDrive/ASX annual reports/2021 (774 firms)/bar21.pdf\n",
            "/content/drive/MyDrive/ASX annual reports/2021 (774 firms)/bse21.pdf\n",
            "/content/drive/MyDrive/ASX annual reports/2021 (774 firms)/brl21.pdf\n",
            "/content/drive/MyDrive/ASX annual reports/2021 (774 firms)/bci21.pdf\n",
            "/content/drive/MyDrive/ASX annual reports/2021 (774 firms)/bcn21.pdf\n",
            "/content/drive/MyDrive/ASX annual reports/2021 (774 firms)/bnz21.pdf\n",
            "/content/drive/MyDrive/ASX annual reports/2021 (774 firms)/bgl21.pdf\n",
            "/content/drive/MyDrive/ASX annual reports/2021 (774 firms)/bri21.pdf\n",
            "/content/drive/MyDrive/ASX annual reports/2021 (774 firms)/bgt21.pdf\n",
            "/content/drive/MyDrive/ASX annual reports/2021 (774 firms)/bis21.pdf\n",
            "/content/drive/MyDrive/ASX annual reports/2021 (774 firms)/bhp21.pdf\n",
            "/content/drive/MyDrive/ASX annual reports/2021 (774 firms)/bc821.pdf\n",
            "/content/drive/MyDrive/ASX annual reports/2021 (774 firms)/bca21.pdf\n",
            "/content/drive/MyDrive/ASX annual reports/2021 (774 firms)/bkt21.pdf\n",
            "/content/drive/MyDrive/ASX annual reports/2021 (774 firms)/bem21.pdf\n",
            "/content/drive/MyDrive/ASX annual reports/2021 (774 firms)/bsl21.pdf\n",
            "/content/drive/MyDrive/ASX annual reports/2021 (774 firms)/bml21.pdf\n",
            "/content/drive/MyDrive/ASX annual reports/2021 (774 firms)/boa21.pdf\n",
            "/content/drive/MyDrive/ASX annual reports/2021 (774 firms)/bld21.pdf\n",
            "/content/drive/MyDrive/ASX annual reports/2021 (774 firms)/bcb21.pdf\n",
            "/content/drive/MyDrive/ASX annual reports/2021 (774 firms)/boe21.pdf\n",
            "/content/drive/MyDrive/ASX annual reports/2021 (774 firms)/brb21.pdf\n",
            "/content/drive/MyDrive/ASX annual reports/2021 (774 firms)/bpm21.pdf\n",
            "/content/drive/MyDrive/ASX annual reports/2021 (774 firms)/bkw21.pdf\n",
            "/content/drive/MyDrive/ASX annual reports/2021 (774 firms)/bck21.pdf\n",
            "/content/drive/MyDrive/ASX annual reports/2021 (774 firms)/cad21.pdf\n",
            "/content/drive/MyDrive/ASX annual reports/2021 (774 firms)/bux21.pdf\n",
            "/content/drive/MyDrive/ASX annual reports/2021 (774 firms)/bnr21.pdf\n",
            "/content/drive/MyDrive/ASX annual reports/2021 (774 firms)/cai21.pdf\n",
            "/content/drive/MyDrive/ASX annual reports/2021 (774 firms)/cnr21.pdf\n",
            "/content/drive/MyDrive/ASX annual reports/2021 (774 firms)/cmm21.pdf\n",
            "/content/drive/MyDrive/ASX annual reports/2021 (774 firms)/cwx21.pdf\n",
            "/content/drive/MyDrive/ASX annual reports/2021 (774 firms)/cg121.pdf\n",
            "/content/drive/MyDrive/ASX annual reports/2021 (774 firms)/cnb21.pdf\n",
            "/content/drive/MyDrive/ASX annual reports/2021 (774 firms)/cav21.pdf\n",
            "/content/drive/MyDrive/ASX annual reports/2021 (774 firms)/cmd21.pdf\n",
            "/content/drive/MyDrive/ASX annual reports/2021 (774 firms)/cdt21.pdf\n",
            "/content/drive/MyDrive/ASX annual reports/2021 (774 firms)/ccz21.pdf\n",
            "/content/drive/MyDrive/ASX annual reports/2021 (774 firms)/cnl21.pdf\n",
            "/content/drive/MyDrive/ASX annual reports/2021 (774 firms)/cst21.pdf\n",
            "/content/drive/MyDrive/ASX annual reports/2021 (774 firms)/cxm21.pdf\n",
            "/content/drive/MyDrive/ASX annual reports/2021 (774 firms)/cpn21.pdf\n",
            "/content/drive/MyDrive/ASX annual reports/2021 (774 firms)/cvs21.pdf\n",
            "/content/drive/MyDrive/ASX annual reports/2021 (774 firms)/chn21.pdf\n",
            "/content/drive/MyDrive/ASX annual reports/2021 (774 firms)/cpt21.pdf\n",
            "/content/drive/MyDrive/ASX annual reports/2021 (774 firms)/chr21.pdf\n",
            "/content/drive/MyDrive/ASX annual reports/2021 (774 firms)/cia21.pdf\n",
            "/content/drive/MyDrive/ASX annual reports/2021 (774 firms)/clv21.pdf\n",
            "/content/drive/MyDrive/ASX annual reports/2021 (774 firms)/cto21.pdf\n",
            "/content/drive/MyDrive/ASX annual reports/2021 (774 firms)/cob21.pdf\n",
            "/content/drive/MyDrive/ASX annual reports/2021 (774 firms)/cbe21.pdf\n",
            "/content/drive/MyDrive/ASX annual reports/2021 (774 firms)/cdr21.pdf\n",
            "/content/drive/MyDrive/ASX annual reports/2021 (774 firms)/chk21.pdf\n",
            "/content/drive/MyDrive/ASX annual reports/2021 (774 firms)/cnj21.pdf\n",
            "/content/drive/MyDrive/ASX annual reports/2021 (774 firms)/cse21.pdf\n",
            "/content/drive/MyDrive/ASX annual reports/2021 (774 firms)/cr121.pdf\n",
            "/content/drive/MyDrive/ASX annual reports/2021 (774 firms)/czn21.pdf\n",
            "/content/drive/MyDrive/ASX annual reports/2021 (774 firms)/cgn21.pdf\n",
            "/content/drive/MyDrive/ASX annual reports/2021 (774 firms)/cxo21.pdf\n",
            "/content/drive/MyDrive/ASX annual reports/2021 (774 firms)/csr21.pdf\n",
            "/content/drive/MyDrive/ASX annual reports/2021 (774 firms)/dcn21.pdf\n",
            "/content/drive/MyDrive/ASX annual reports/2021 (774 firms)/dtr21.pdf\n",
            "/content/drive/MyDrive/ASX annual reports/2021 (774 firms)/cul21.pdf\n",
            "/content/drive/MyDrive/ASX annual reports/2021 (774 firms)/czr21.pdf\n",
            "/content/drive/MyDrive/ASX annual reports/2021 (774 firms)/dm121.pdf\n",
            "/content/drive/MyDrive/ASX annual reports/2021 (774 firms)/ddh21.pdf\n",
            "/content/drive/MyDrive/ASX annual reports/2021 (774 firms)/deg21.pdf\n",
            "/content/drive/MyDrive/ASX annual reports/2021 (774 firms)/dgl21.pdf\n",
            "/content/drive/MyDrive/ASX annual reports/2021 (774 firms)/drr21.pdf\n",
            "/content/drive/MyDrive/ASX annual reports/2021 (774 firms)/dgo21.pdf\n",
            "/content/drive/MyDrive/ASX annual reports/2021 (774 firms)/daf21.pdf\n",
            "/content/drive/MyDrive/ASX annual reports/2021 (774 firms)/dcx21.pdf\n",
            "/content/drive/MyDrive/ASX annual reports/2021 (774 firms)/dme21.pdf\n",
            "/content/drive/MyDrive/ASX annual reports/2021 (774 firms)/dre21.pdf\n",
            "/content/drive/MyDrive/ASX annual reports/2021 (774 firms)/dex21.pdf\n",
            "/content/drive/MyDrive/ASX annual reports/2021 (774 firms)/dkm21.pdf\n",
            "/content/drive/MyDrive/ASX annual reports/2021 (774 firms)/e2m21.pdf\n",
            "/content/drive/MyDrive/ASX annual reports/2021 (774 firms)/efe21.pdf\n",
            "/content/drive/MyDrive/ASX annual reports/2021 (774 firms)/egr21.pdf\n",
            "/content/drive/MyDrive/ASX annual reports/2021 (774 firms)/elt21.pdf\n",
            "/content/drive/MyDrive/ASX annual reports/2021 (774 firms)/emr21.pdf\n",
            "/content/drive/MyDrive/ASX annual reports/2021 (774 firms)/erm21.pdf\n",
            "/content/drive/MyDrive/ASX annual reports/2021 (774 firms)/erl21.pdf\n",
            "/content/drive/MyDrive/ASX annual reports/2021 (774 firms)/enx21.pdf\n",
            "/content/drive/MyDrive/ASX annual reports/2021 (774 firms)/eqr21.pdf\n",
            "/content/drive/MyDrive/ASX annual reports/2021 (774 firms)/erw21.pdf\n",
            "/content/drive/MyDrive/ASX annual reports/2021 (774 firms)/esr21.pdf\n",
            "/content/drive/MyDrive/ASX annual reports/2021 (774 firms)/ess21.pdf\n",
            "/content/drive/MyDrive/ASX annual reports/2021 (774 firms)/eur21.pdf\n",
            "/content/drive/MyDrive/ASX annual reports/2021 (774 firms)/evn21.pdf\n",
            "/content/drive/MyDrive/ASX annual reports/2021 (774 firms)/fex21.pdf\n",
            "/content/drive/MyDrive/ASX annual reports/2021 (774 firms)/fin21.pdf\n",
            "/content/drive/MyDrive/ASX annual reports/2021 (774 firms)/frb21.pdf\n",
            "/content/drive/MyDrive/ASX annual reports/2021 (774 firms)/fgr21.pdf\n",
            "/content/drive/MyDrive/ASX annual reports/2021 (774 firms)/fbu21.pdf\n",
            "/content/drive/MyDrive/ASX annual reports/2021 (774 firms)/fg121.pdf\n",
            "/content/drive/MyDrive/ASX annual reports/2021 (774 firms)/fmg21.pdf\n",
            "/content/drive/MyDrive/ASX annual reports/2021 (774 firms)/fhs21.pdf\n",
            "/content/drive/MyDrive/ASX annual reports/2021 (774 firms)/fnt21.pdf\n",
            "/content/drive/MyDrive/ASX annual reports/2021 (774 firms)/fyi21.pdf\n",
            "/content/drive/MyDrive/ASX annual reports/2021 (774 firms)/g1a21.pdf\n",
            "/content/drive/MyDrive/ASX annual reports/2021 (774 firms)/gal21.pdf\n",
            "/content/drive/MyDrive/ASX annual reports/2021 (774 firms)/ges21.pdf\n",
            "/content/drive/MyDrive/ASX annual reports/2021 (774 firms)/gcy21.pdf\n",
            "/content/drive/MyDrive/ASX annual reports/2021 (774 firms)/gl121.pdf\n",
            "/content/drive/MyDrive/ASX annual reports/2021 (774 firms)/gmd21.pdf\n",
            "/content/drive/MyDrive/ASX annual reports/2021 (774 firms)/gbe21.pdf\n",
            "/content/drive/MyDrive/ASX annual reports/2021 (774 firms)/gti21.pdf\n",
            "/content/drive/MyDrive/ASX annual reports/2021 (774 firms)/gme21.pdf\n",
            "/content/drive/MyDrive/ASX annual reports/2021 (774 firms)/gib21.pdf\n",
            "/content/drive/MyDrive/ASX annual reports/2021 (774 firms)/grl21.pdf\n",
            "/content/drive/MyDrive/ASX annual reports/2021 (774 firms)/gcr21.pdf\n",
            "/content/drive/MyDrive/ASX annual reports/2021 (774 firms)/gng21.pdf\n",
            "/content/drive/MyDrive/ASX annual reports/2021 (774 firms)/g5021.pdf\n",
            "/content/drive/MyDrive/ASX annual reports/2021 (774 firms)/gsm21.pdf\n",
            "/content/drive/MyDrive/ASX annual reports/2021 (774 firms)/gbr21.pdf\n",
            "/content/drive/MyDrive/ASX annual reports/2021 (774 firms)/gnm21.pdf\n",
            "/content/drive/MyDrive/ASX annual reports/2021 (774 firms)/gsn21.pdf\n",
            "/content/drive/MyDrive/ASX annual reports/2021 (774 firms)/gte21.pdf\n",
            "/content/drive/MyDrive/ASX annual reports/2021 (774 firms)/hmx21.pdf\n",
            "/content/drive/MyDrive/ASX annual reports/2021 (774 firms)/hhm21.pdf\n",
            "/content/drive/MyDrive/ASX annual reports/2021 (774 firms)/hzr21.pdf\n",
            "/content/drive/MyDrive/ASX annual reports/2021 (774 firms)/hwk21.pdf\n",
            "/content/drive/MyDrive/ASX annual reports/2021 (774 firms)/hxg21.pdf\n",
            "/content/drive/MyDrive/ASX annual reports/2021 (774 firms)/hrn21.pdf\n",
            "/content/drive/MyDrive/ASX annual reports/2021 (774 firms)/icl21.pdf\n",
            "/content/drive/MyDrive/ASX annual reports/2021 (774 firms)/hum21.pdf\n",
            "/content/drive/MyDrive/ASX annual reports/2021 (774 firms)/hnr21.pdf\n",
            "/content/drive/MyDrive/ASX annual reports/2021 (774 firms)/imm21.pdf\n",
            "/content/drive/MyDrive/ASX annual reports/2021 (774 firms)/hrz21.pdf\n",
            "/content/drive/MyDrive/ASX annual reports/2021 (774 firms)/ipt21.pdf\n",
            "/content/drive/MyDrive/ASX annual reports/2021 (774 firms)/ind21.pdf\n",
            "/content/drive/MyDrive/ASX annual reports/2021 (774 firms)/igo21.pdf\n",
            "/content/drive/MyDrive/ASX annual reports/2021 (774 firms)/imd21.pdf\n",
            "/content/drive/MyDrive/ASX annual reports/2021 (774 firms)/ibg21.pdf\n",
            "/content/drive/MyDrive/ASX annual reports/2021 (774 firms)/inr21.pdf\n",
            "/content/drive/MyDrive/ASX annual reports/2021 (774 firms)/jdr21.pdf\n",
            "/content/drive/MyDrive/ASX annual reports/2021 (774 firms)/jrl21.pdf\n",
            "/content/drive/MyDrive/ASX annual reports/2021 (774 firms)/ird21.pdf\n",
            "/content/drive/MyDrive/ASX annual reports/2021 (774 firms)/jhx21.pdf\n",
            "/content/drive/MyDrive/ASX annual reports/2021 (774 firms)/jms21.pdf\n",
            "/content/drive/MyDrive/ASX annual reports/2021 (774 firms)/jal21.pdf\n",
            "/content/drive/MyDrive/ASX annual reports/2021 (774 firms)/kai21.pdf\n",
            "/content/drive/MyDrive/ASX annual reports/2021 (774 firms)/kzr21.pdf\n",
            "/content/drive/MyDrive/ASX annual reports/2021 (774 firms)/kis21.pdf\n",
            "/content/drive/MyDrive/ASX annual reports/2021 (774 firms)/jno21.pdf\n",
            "/content/drive/MyDrive/ASX annual reports/2021 (774 firms)/kpt21.pdf\n",
            "/content/drive/MyDrive/ASX annual reports/2021 (774 firms)/kin21.pdf\n",
            "/content/drive/MyDrive/ASX annual reports/2021 (774 firms)/krr21.pdf\n",
            "/content/drive/MyDrive/ASX annual reports/2021 (774 firms)/ksn21.pdf\n",
            "/content/drive/MyDrive/ASX annual reports/2021 (774 firms)/kni21.pdf\n",
            "/content/drive/MyDrive/ASX annual reports/2021 (774 firms)/kwr21.pdf\n",
            "/content/drive/MyDrive/ASX annual reports/2021 (774 firms)/kfm21.pdf\n",
            "/content/drive/MyDrive/ASX annual reports/2021 (774 firms)/kmt21.pdf\n",
            "/content/drive/MyDrive/ASX annual reports/2021 (774 firms)/lsa21.pdf\n",
            "/content/drive/MyDrive/ASX annual reports/2021 (774 firms)/lmg21.pdf\n",
            "/content/drive/MyDrive/ASX annual reports/2021 (774 firms)/ler21.pdf\n",
            "/content/drive/MyDrive/ASX annual reports/2021 (774 firms)/lcy21.pdf\n",
            "/content/drive/MyDrive/ASX annual reports/2021 (774 firms)/lpd21.pdf\n",
            "/content/drive/MyDrive/ASX annual reports/2021 (774 firms)/llo21.pdf\n",
            "/content/drive/MyDrive/ASX annual reports/2021 (774 firms)/ltr21.pdf\n",
            "/content/drive/MyDrive/ASX annual reports/2021 (774 firms)/lel21.pdf\n",
            "/content/drive/MyDrive/ASX annual reports/2021 (774 firms)/ldr21.pdf\n",
            "/content/drive/MyDrive/ASX annual reports/2021 (774 firms)/lm821.pdf\n",
            "/content/drive/MyDrive/ASX annual reports/2021 (774 firms)/lyc21.pdf\n",
            "/content/drive/MyDrive/ASX annual reports/2021 (774 firms)/mio21.pdf\n",
            "/content/drive/MyDrive/ASX annual reports/2021 (774 firms)/mld21.pdf\n",
            "/content/drive/MyDrive/ASX annual reports/2021 (774 firms)/mah21.pdf\n",
            "/content/drive/MyDrive/ASX annual reports/2021 (774 firms)/mag21.pdf\n",
            "/content/drive/MyDrive/ASX annual reports/2021 (774 firms)/m2421.pdf\n",
            "/content/drive/MyDrive/ASX annual reports/2021 (774 firms)/mye21.pdf\n",
            "/content/drive/MyDrive/ASX annual reports/2021 (774 firms)/mzz21.pdf\n",
            "/content/drive/MyDrive/ASX annual reports/2021 (774 firms)/mxr21.pdf\n",
            "/content/drive/MyDrive/ASX annual reports/2021 (774 firms)/mhk21.pdf\n",
            "/content/drive/MyDrive/ASX annual reports/2021 (774 firms)/mbk21.pdf\n",
            "/content/drive/MyDrive/ASX annual reports/2021 (774 firms)/mlm21.pdf\n",
            "/content/drive/MyDrive/ASX annual reports/2021 (774 firms)/mml21.pdf\n",
            "/content/drive/MyDrive/ASX annual reports/2021 (774 firms)/mls21.pdf\n",
            "/content/drive/MyDrive/ASX annual reports/2021 (774 firms)/mkr21.pdf\n",
            "/content/drive/MyDrive/ASX annual reports/2021 (774 firms)/mm821.pdf\n",
            "/content/drive/MyDrive/ASX annual reports/2021 (774 firms)/mcr21.pdf\n",
            "/content/drive/MyDrive/ASX annual reports/2021 (774 firms)/min21.pdf\n",
            "/content/drive/MyDrive/ASX annual reports/2021 (774 firms)/mep21.pdf\n",
            "/content/drive/MyDrive/ASX annual reports/2021 (774 firms)/mwy21.pdf\n",
            "/content/drive/MyDrive/ASX annual reports/2021 (774 firms)/mrr21.pdf\n",
            "/content/drive/MyDrive/ASX annual reports/2021 (774 firms)/msv21.pdf\n",
            "/content/drive/MyDrive/ASX annual reports/2021 (774 firms)/m2r21.pdf\n",
            "/content/drive/MyDrive/ASX annual reports/2021 (774 firms)/mth21.pdf\n",
            "/content/drive/MyDrive/ASX annual reports/2021 (774 firms)/mrz21.pdf\n",
            "/content/drive/MyDrive/ASX annual reports/2021 (774 firms)/mgx21.pdf\n",
            "/content/drive/MyDrive/ASX annual reports/2021 (774 firms)/mtb21.pdf\n",
            "/content/drive/MyDrive/ASX annual reports/2021 (774 firms)/mgv21.pdf\n",
            "/content/drive/MyDrive/ASX annual reports/2021 (774 firms)/nag21.pdf\n",
            "/content/drive/MyDrive/ASX annual reports/2021 (774 firms)/myl21.pdf\n",
            "/content/drive/MyDrive/ASX annual reports/2021 (774 firms)/nmr21.pdf\n",
            "/content/drive/MyDrive/ASX annual reports/2021 (774 firms)/nml21.pdf\n",
            "/content/drive/MyDrive/ASX annual reports/2021 (774 firms)/ncm21.pdf\n",
            "/content/drive/MyDrive/ASX annual reports/2021 (774 firms)/nkl21.pdf\n",
            "/content/drive/MyDrive/ASX annual reports/2021 (774 firms)/ntl21.pdf\n",
            "/content/drive/MyDrive/ASX annual reports/2021 (774 firms)/nxm21.pdf\n",
            "/content/drive/MyDrive/ASX annual reports/2021 (774 firms)/nsm21.pdf\n",
            "/content/drive/MyDrive/ASX annual reports/2021 (774 firms)/ntu21.pdf\n",
            "/content/drive/MyDrive/ASX annual reports/2021 (774 firms)/nst21.pdf\n",
            "/content/drive/MyDrive/ASX annual reports/2021 (774 firms)/nwm21.pdf\n",
            "/content/drive/MyDrive/ASX annual reports/2021 (774 firms)/odm21.pdf\n",
            "/content/drive/MyDrive/ASX annual reports/2021 (774 firms)/oar21.pdf\n",
            "/content/drive/MyDrive/ASX annual reports/2021 (774 firms)/nva21.pdf\n",
            "/content/drive/MyDrive/ASX annual reports/2021 (774 firms)/ook21.pdf\n",
            "/content/drive/MyDrive/ASX annual reports/2021 (774 firms)/ody21.pdf\n",
            "/content/drive/MyDrive/ASX annual reports/2021 (774 firms)/orr21.pdf\n",
            "/content/drive/MyDrive/ASX annual reports/2021 (774 firms)/orm21.pdf\n",
            "/content/drive/MyDrive/ASX annual reports/2021 (774 firms)/onx21.pdf\n",
            "/content/drive/MyDrive/ASX annual reports/2021 (774 firms)/orn21.pdf\n",
            "/content/drive/MyDrive/ASX annual reports/2021 (774 firms)/pgh21.pdf\n",
            "/content/drive/MyDrive/ASX annual reports/2021 (774 firms)/ora21.pdf\n",
            "/content/drive/MyDrive/ASX annual reports/2021 (774 firms)/pck21.pdf\n",
            "/content/drive/MyDrive/ASX annual reports/2021 (774 firms)/ore21.pdf\n",
            "/content/drive/MyDrive/ASX annual reports/2021 (774 firms)/ozm21.pdf\n",
            "/content/drive/MyDrive/ASX annual reports/2021 (774 firms)/psl21.pdf\n",
            "/content/drive/MyDrive/ASX annual reports/2021 (774 firms)/pfe21.pdf\n",
            "/content/drive/MyDrive/ASX annual reports/2021 (774 firms)/pf121.pdf\n",
            "/content/drive/MyDrive/ASX annual reports/2021 (774 firms)/pnn21.pdf\n",
            "/content/drive/MyDrive/ASX annual reports/2021 (774 firms)/pnr21.pdf\n",
            "/content/drive/MyDrive/ASX annual reports/2021 (774 firms)/pan21.pdf\n",
            "/content/drive/MyDrive/ASX annual reports/2021 (774 firms)/pek21.pdf\n",
            "/content/drive/MyDrive/ASX annual reports/2021 (774 firms)/pgd21.pdf\n",
            "/content/drive/MyDrive/ASX annual reports/2021 (774 firms)/pua21.pdf\n",
            "/content/drive/MyDrive/ASX annual reports/2021 (774 firms)/pec21.pdf\n",
            "/content/drive/MyDrive/ASX annual reports/2021 (774 firms)/pru21.pdf\n",
            "/content/drive/MyDrive/ASX annual reports/2021 (774 firms)/prn21.pdf\n",
            "/content/drive/MyDrive/ASX annual reports/2021 (774 firms)/ptr21.pdf\n",
            "/content/drive/MyDrive/ASX annual reports/2021 (774 firms)/pll21.pdf\n",
            "/content/drive/MyDrive/ASX annual reports/2021 (774 firms)/pls21.pdf\n",
            "/content/drive/MyDrive/ASX annual reports/2021 (774 firms)/pgm21.pdf\n",
            "/content/drive/MyDrive/ASX annual reports/2021 (774 firms)/pxx21.pdf\n",
            "/content/drive/MyDrive/ASX annual reports/2021 (774 firms)/pnx21.pdf\n",
            "/content/drive/MyDrive/ASX annual reports/2021 (774 firms)/pol21.pdf\n",
            "/content/drive/MyDrive/ASX annual reports/2021 (774 firms)/pos21.pdf\n",
            "/content/drive/MyDrive/ASX annual reports/2021 (774 firms)/pdz21.pdf\n",
            "/content/drive/MyDrive/ASX annual reports/2021 (774 firms)/pdi21.pdf\n",
            "/content/drive/MyDrive/ASX annual reports/2021 (774 firms)/ppg21.pdf\n",
            "/content/drive/MyDrive/ASX annual reports/2021 (774 firms)/qem21.pdf\n",
            "/content/drive/MyDrive/ASX annual reports/2021 (774 firms)/prx21.pdf\n",
            "/content/drive/MyDrive/ASX annual reports/2021 (774 firms)/qpm21.pdf\n",
            "/content/drive/MyDrive/ASX annual reports/2021 (774 firms)/qgl21.pdf\n",
            "/content/drive/MyDrive/ASX annual reports/2021 (774 firms)/qml21.pdf\n",
            "/content/drive/MyDrive/ASX annual reports/2021 (774 firms)/rfr21.pdf\n",
            "/content/drive/MyDrive/ASX annual reports/2021 (774 firms)/rag21.pdf\n",
            "/content/drive/MyDrive/ASX annual reports/2021 (774 firms)/rdn21.pdf\n",
            "/content/drive/MyDrive/ASX annual reports/2021 (774 firms)/rms21.pdf\n",
            "/content/drive/MyDrive/ASX annual reports/2021 (774 firms)/rnd21.pdf\n",
            "/content/drive/MyDrive/ASX annual reports/2021 (774 firms)/rbr21.pdf\n",
            "/content/drive/MyDrive/ASX annual reports/2021 (774 firms)/rhi21.pdf\n",
            "/content/drive/MyDrive/ASX annual reports/2021 (774 firms)/red21.pdf\n",
            "/content/drive/MyDrive/ASX annual reports/2021 (774 firms)/rdm21.pdf\n",
            "/content/drive/MyDrive/ASX annual reports/2021 (774 firms)/rvr21.pdf\n",
            "/content/drive/MyDrive/ASX annual reports/2021 (774 firms)/rcp21.pdf\n",
            "/content/drive/MyDrive/ASX annual reports/2021 (774 firms)/rrl21.pdf\n",
            "/content/drive/MyDrive/ASX annual reports/2021 (774 firms)/rds21.pdf\n",
            "/content/drive/MyDrive/ASX annual reports/2021 (774 firms)/rxm21.pdf\n",
            "/content/drive/MyDrive/ASX annual reports/2021 (774 firms)/s2r21.pdf\n",
            "/content/drive/MyDrive/ASX annual reports/2021 (774 firms)/rcr21.pdf\n",
            "/content/drive/MyDrive/ASX annual reports/2021 (774 firms)/rxl21.pdf\n",
            "/content/drive/MyDrive/ASX annual reports/2021 (774 firms)/sbr21.pdf\n",
            "/content/drive/MyDrive/ASX annual reports/2021 (774 firms)/sfr21.pdf\n",
            "/content/drive/MyDrive/ASX annual reports/2021 (774 firms)/smi21.pdf\n",
            "/content/drive/MyDrive/ASX annual reports/2021 (774 firms)/sdv21.pdf\n",
            "/content/drive/MyDrive/ASX annual reports/2021 (774 firms)/sfx21.pdf\n",
            "/content/drive/MyDrive/ASX annual reports/2021 (774 firms)/ses21.pdf\n",
            "/content/drive/MyDrive/ASX annual reports/2021 (774 firms)/shh21.pdf\n",
            "/content/drive/MyDrive/ASX annual reports/2021 (774 firms)/slr21.pdf\n",
            "/content/drive/MyDrive/ASX annual reports/2021 (774 firms)/svl21.pdf\n",
            "/content/drive/MyDrive/ASX annual reports/2021 (774 firms)/sgm21.pdf\n",
            "/content/drive/MyDrive/ASX annual reports/2021 (774 firms)/suh21.pdf\n",
            "/content/drive/MyDrive/ASX annual reports/2021 (774 firms)/s3221.pdf\n",
            "/content/drive/MyDrive/ASX annual reports/2021 (774 firms)/sbm21.pdf\n",
            "/content/drive/MyDrive/ASX annual reports/2021 (774 firms)/svm21.pdf\n",
            "/content/drive/MyDrive/ASX annual reports/2021 (774 firms)/srz21.pdf\n",
            "/content/drive/MyDrive/ASX annual reports/2021 (774 firms)/she21.pdf\n",
            "/content/drive/MyDrive/ASX annual reports/2021 (774 firms)/sgq21.pdf\n",
            "/content/drive/MyDrive/ASX annual reports/2021 (774 firms)/svy21.pdf\n",
            "/content/drive/MyDrive/ASX annual reports/2021 (774 firms)/ser21.pdf\n",
            "/content/drive/MyDrive/ASX annual reports/2021 (774 firms)/srk21.pdf\n",
            "/content/drive/MyDrive/ASX annual reports/2021 (774 firms)/shn21.pdf\n",
            "/content/drive/MyDrive/ASX annual reports/2021 (774 firms)/spq21.pdf\n",
            "/content/drive/MyDrive/ASX annual reports/2021 (774 firms)/spn21.pdf\n",
            "/content/drive/MyDrive/ASX annual reports/2021 (774 firms)/sta21.pdf\n",
            "/content/drive/MyDrive/ASX annual reports/2021 (774 firms)/stm21.pdf\n",
            "/content/drive/MyDrive/ASX annual reports/2021 (774 firms)/swk21.pdf\n",
            "/content/drive/MyDrive/ASX annual reports/2021 (774 firms)/suv21.pdf\n",
            "/content/drive/MyDrive/ASX annual reports/2021 (774 firms)/tlg21.pdf\n",
            "/content/drive/MyDrive/ASX annual reports/2021 (774 firms)/tlm21.pdf\n",
            "/content/drive/MyDrive/ASX annual reports/2021 (774 firms)/tam21.pdf\n",
            "/content/drive/MyDrive/ASX annual reports/2021 (774 firms)/tg121.pdf\n",
            "/content/drive/MyDrive/ASX annual reports/2021 (774 firms)/tar21.pdf\n",
            "/content/drive/MyDrive/ASX annual reports/2021 (774 firms)/tmt21.pdf\n",
            "/content/drive/MyDrive/ASX annual reports/2021 (774 firms)/tem21.pdf\n",
            "/content/drive/MyDrive/ASX annual reports/2021 (774 firms)/tmr21.pdf\n",
            "/content/drive/MyDrive/ASX annual reports/2021 (774 firms)/tng21.pdf\n",
            "/content/drive/MyDrive/ASX annual reports/2021 (774 firms)/tmx21.pdf\n",
            "/content/drive/MyDrive/ASX annual reports/2021 (774 firms)/ttt21.pdf\n",
            "/content/drive/MyDrive/ASX annual reports/2021 (774 firms)/tso21.pdf\n",
            "/content/drive/MyDrive/ASX annual reports/2021 (774 firms)/tkl21.pdf\n",
            "/content/drive/MyDrive/ASX annual reports/2021 (774 firms)/trt21.pdf\n",
            "/content/drive/MyDrive/ASX annual reports/2021 (774 firms)/tkm21.pdf\n",
            "/content/drive/MyDrive/ASX annual reports/2021 (774 firms)/tmg21.pdf\n",
            "/content/drive/MyDrive/ASX annual reports/2021 (774 firms)/tgn21.pdf\n",
            "/content/drive/MyDrive/ASX annual reports/2021 (774 firms)/trm21.pdf\n",
            "/content/drive/MyDrive/ASX annual reports/2021 (774 firms)/tyx21.pdf\n",
            "/content/drive/MyDrive/ASX annual reports/2021 (774 firms)/vr821.pdf\n",
            "/content/drive/MyDrive/ASX annual reports/2021 (774 firms)/vxr21.pdf\n",
            "/content/drive/MyDrive/ASX annual reports/2021 (774 firms)/vrc21.pdf\n",
            "/content/drive/MyDrive/ASX annual reports/2021 (774 firms)/via21.pdf\n",
            "/content/drive/MyDrive/ASX annual reports/2021 (774 firms)/vrx21.pdf\n",
            "/content/drive/MyDrive/ASX annual reports/2021 (774 firms)/vys21.pdf\n",
            "/content/drive/MyDrive/ASX annual reports/2021 (774 firms)/vul21.pdf\n",
            "/content/drive/MyDrive/ASX annual reports/2021 (774 firms)/wgn21.pdf\n",
            "/content/drive/MyDrive/ASX annual reports/2021 (774 firms)/wsa21.pdf\n",
            "/content/drive/MyDrive/ASX annual reports/2021 (774 firms)/wgx21.pdf\n",
            "/content/drive/MyDrive/ASX annual reports/2021 (774 firms)/wc821.pdf\n",
            "/content/drive/MyDrive/ASX annual reports/2021 (774 firms)/wml21.pdf\n",
            "/content/drive/MyDrive/ASX annual reports/2021 (774 firms)/wmg21.pdf\n",
            "/content/drive/MyDrive/ASX annual reports/2021 (774 firms)/xtc21.pdf\n",
            "/content/drive/MyDrive/ASX annual reports/2021 (774 firms)/yrl21.pdf\n",
            "/content/drive/MyDrive/ASX annual reports/2021 (774 firms)/znc21.pdf\n",
            "/content/drive/MyDrive/ASX annual reports/2021 (774 firms)/zeo21.pdf\n",
            "/content/drive/MyDrive/ASX annual reports/2021 (774 firms)/zim21.pdf\n",
            "/content/drive/MyDrive/ASX annual reports/2021 (774 firms)/zmi21.pdf\n",
            "/content/drive/MyDrive/ASX annual reports/2021 (774 firms)/zno21.pdf\n",
            "/content/drive/MyDrive/ASX annual reports/2021 (774 firms)/a2b21.pdf\n",
            "/content/drive/MyDrive/ASX annual reports/2021 (774 firms)/acf21.pdf\n",
            "/content/drive/MyDrive/ASX annual reports/2021 (774 firms)/aim21.pdf\n",
            "/content/drive/MyDrive/ASX annual reports/2021 (774 firms)/ajl21.pdf\n",
            "/content/drive/MyDrive/ASX annual reports/2021 (774 firms)/aqz21.pdf\n",
            "/content/drive/MyDrive/ASX annual reports/2021 (774 firms)/aiz21.pdf\n",
            "/content/drive/MyDrive/ASX annual reports/2021 (774 firms)/3da21.pdf\n",
            "/content/drive/MyDrive/ASX annual reports/2021 (774 firms)/ama21.pdf\n",
            "/content/drive/MyDrive/ASX annual reports/2021 (774 firms)/aqn21.pdf\n",
            "/content/drive/MyDrive/ASX annual reports/2021 (774 firms)/ara21.pdf\n",
            "/content/drive/MyDrive/ASX annual reports/2021 (774 firms)/amx21.pdf\n",
            "/content/drive/MyDrive/ASX annual reports/2021 (774 firms)/ash21.pdf\n",
            "/content/drive/MyDrive/ASX annual reports/2021 (774 firms)/alq21.pdf\n",
            "/content/drive/MyDrive/ASX annual reports/2021 (774 firms)/air21.pdf\n",
            "/content/drive/MyDrive/ASX annual reports/2021 (774 firms)/al321.pdf\n",
            "/content/drive/MyDrive/ASX annual reports/2021 (774 firms)/azj21.pdf\n",
            "/content/drive/MyDrive/ASX annual reports/2021 (774 firms)/bpp21.pdf\n",
            "/content/drive/MyDrive/ASX annual reports/2021 (774 firms)/asb21.pdf\n",
            "/content/drive/MyDrive/ASX annual reports/2021 (774 firms)/ang21.pdf\n",
            "/content/drive/MyDrive/ASX annual reports/2021 (774 firms)/a3d21.pdf\n",
            "/content/drive/MyDrive/ASX annual reports/2021 (774 firms)/aia21.pdf\n",
            "/content/drive/MyDrive/ASX annual reports/2021 (774 firms)/bmh21.pdf\n",
            "/content/drive/MyDrive/ASX annual reports/2021 (774 firms)/bsa21.pdf\n",
            "/content/drive/MyDrive/ASX annual reports/2021 (774 firms)/bol21.pdf\n",
            "/content/drive/MyDrive/ASX annual reports/2021 (774 firms)/chl21.pdf\n",
            "/content/drive/MyDrive/ASX annual reports/2021 (774 firms)/cdd21.pdf\n",
            "/content/drive/MyDrive/ASX annual reports/2021 (774 firms)/cfo21.pdf\n",
            "/content/drive/MyDrive/ASX annual reports/2021 (774 firms)/cvl21.pdf\n",
            "/content/drive/MyDrive/ASX annual reports/2021 (774 firms)/cyg21.pdf\n",
            "/content/drive/MyDrive/ASX annual reports/2021 (774 firms)/cup21.pdf\n",
            "/content/drive/MyDrive/ASX annual reports/2021 (774 firms)/bxb21.pdf\n",
            "/content/drive/MyDrive/ASX annual reports/2021 (774 firms)/clx21.pdf\n",
            "/content/drive/MyDrive/ASX annual reports/2021 (774 firms)/cwy21.pdf\n",
            "/content/drive/MyDrive/ASX annual reports/2021 (774 firms)/epy21.pdf\n",
            "/content/drive/MyDrive/ASX annual reports/2021 (774 firms)/ddb21.pdf\n",
            "/content/drive/MyDrive/ASX annual reports/2021 (774 firms)/ehl21.pdf\n",
            "/content/drive/MyDrive/ASX annual reports/2021 (774 firms)/dcg21.pdf\n",
            "/content/drive/MyDrive/ASX annual reports/2021 (774 firms)/eax21.pdf\n",
            "/content/drive/MyDrive/ASX annual reports/2021 (774 firms)/ect21.pdf\n",
            "/content/drive/MyDrive/ASX annual reports/2021 (774 firms)/emb21.pdf\n",
            "/content/drive/MyDrive/ASX annual reports/2021 (774 firms)/egn21.pdf\n",
            "/content/drive/MyDrive/ASX annual reports/2021 (774 firms)/evz21.pdf\n",
            "/content/drive/MyDrive/ASX annual reports/2021 (774 firms)/ecl21.pdf\n",
            "/content/drive/MyDrive/ASX annual reports/2021 (774 firms)/fos21.pdf\n",
            "/content/drive/MyDrive/ASX annual reports/2021 (774 firms)/gnp21.pdf\n",
            "/content/drive/MyDrive/ASX annual reports/2021 (774 firms)/fft21.pdf\n",
            "/content/drive/MyDrive/ASX annual reports/2021 (774 firms)/gwa21.pdf\n",
            "/content/drive/MyDrive/ASX annual reports/2021 (774 firms)/hit21.pdf\n",
            "/content/drive/MyDrive/ASX annual reports/2021 (774 firms)/ftc21.pdf\n",
            "/content/drive/MyDrive/ASX annual reports/2021 (774 firms)/hmi21.pdf\n",
            "/content/drive/MyDrive/ASX annual reports/2021 (774 firms)/hrl21.pdf\n",
            "/content/drive/MyDrive/ASX annual reports/2021 (774 firms)/ign21.pdf\n",
            "/content/drive/MyDrive/ASX annual reports/2021 (774 firms)/iph21.pdf\n",
            "/content/drive/MyDrive/ASX annual reports/2021 (774 firms)/itg21.pdf\n",
            "/content/drive/MyDrive/ASX annual reports/2021 (774 firms)/egl21.pdf\n",
            "/content/drive/MyDrive/ASX annual reports/2021 (774 firms)/ksc21.pdf\n"
          ]
        }
      ]
    },
    {
      "cell_type": "markdown",
      "metadata": {
        "id": "i90NhSkBBaZP"
      },
      "source": [
        "check the number of files in the first list"
      ]
    },
    {
      "cell_type": "code",
      "metadata": {
        "colab": {
          "base_uri": "https://localhost:8080/"
        },
        "id": "GIxYwCQF1yLR",
        "outputId": "05d197a8-8fbe-4c92-e254-ab28c369801f"
      },
      "source": [
        "len(new_list1)"
      ],
      "execution_count": null,
      "outputs": [
        {
          "output_type": "execute_result",
          "data": {
            "text/plain": [
              "500"
            ]
          },
          "metadata": {},
          "execution_count": 7
        }
      ]
    },
    {
      "cell_type": "markdown",
      "metadata": {
        "id": "G8mYbEmiKNAR"
      },
      "source": [
        "### Step 3.2: List 2"
      ]
    },
    {
      "cell_type": "code",
      "metadata": {
        "id": "eAAT2LUCtr7U",
        "colab": {
          "base_uri": "https://localhost:8080/"
        },
        "outputId": "be7cf670-71c9-4ec0-c6c8-6719b5b13811"
      },
      "source": [
        "new_list2={}\n",
        "\n",
        "for file in file_list[500:1000]:   # start from 500, up to 1000 but not including\n",
        "  print(file)\n",
        "    \n",
        "  if file.endswith(\".pdf\"):\n",
        "    try:\n",
        "      with pdfplumber.open(file) as pdf:\n",
        "        fulltext = \"\"\n",
        "        try:\n",
        "          for page in pdf.pages:\n",
        "            try:\n",
        "              text = page.extract_text()\n",
        "              fulltext += str(text)\n",
        "            except:\n",
        "              fulltext = \"\"\n",
        "              print(\"Blank\")\n",
        "            finally:\n",
        "              pass\n",
        "        except:\n",
        "          pass\n",
        "    except:\n",
        "      pass\n",
        "        \n",
        "        \n",
        "    new_list2[file]=(fulltext) "
      ],
      "execution_count": null,
      "outputs": [
        {
          "output_type": "stream",
          "name": "stdout",
          "text": [
            "/content/drive/MyDrive/ASX annual reports/2021 (774 firms)/ktg21.pdf\n",
            "/content/drive/MyDrive/ASX annual reports/2021 (774 firms)/kpg21.pdf\n",
            "/content/drive/MyDrive/ASX annual reports/2021 (774 firms)/kov21.pdf\n",
            "/content/drive/MyDrive/ASX annual reports/2021 (774 firms)/lyl21.pdf\n",
            "/content/drive/MyDrive/ASX annual reports/2021 (774 firms)/lbl21.pdf\n",
            "/content/drive/MyDrive/ASX annual reports/2021 (774 firms)/lau21.pdf\n",
            "/content/drive/MyDrive/ASX annual reports/2021 (774 firms)/mgh21.pdf\n",
            "/content/drive/MyDrive/ASX annual reports/2021 (774 firms)/jlg21.pdf\n",
            "/content/drive/MyDrive/ASX annual reports/2021 (774 firms)/myg21.pdf\n",
            "/content/drive/MyDrive/ASX annual reports/2021 (774 firms)/mxi21.pdf\n",
            "/content/drive/MyDrive/ASX annual reports/2021 (774 firms)/mil21.pdf\n",
            "/content/drive/MyDrive/ASX annual reports/2021 (774 firms)/mpp21.pdf\n",
            "/content/drive/MyDrive/ASX annual reports/2021 (774 firms)/mnd21.pdf\n",
            "/content/drive/MyDrive/ASX annual reports/2021 (774 firms)/mms21.pdf\n",
            "/content/drive/MyDrive/ASX annual reports/2021 (774 firms)/mad21.pdf\n",
            "/content/drive/MyDrive/ASX annual reports/2021 (774 firms)/nwh21.pdf\n",
            "/content/drive/MyDrive/ASX annual reports/2021 (774 firms)/pkd21.pdf\n",
            "/content/drive/MyDrive/ASX annual reports/2021 (774 firms)/pg121.pdf\n",
            "/content/drive/MyDrive/ASX annual reports/2021 (774 firms)/nam21.pdf\n",
            "/content/drive/MyDrive/ASX annual reports/2021 (774 firms)/oec21.pdf\n",
            "/content/drive/MyDrive/ASX annual reports/2021 (774 firms)/opn21.pdf\n",
            "/content/drive/MyDrive/ASX annual reports/2021 (774 firms)/ppe21.pdf\n",
            "/content/drive/MyDrive/ASX annual reports/2021 (774 firms)/pow21.pdf\n",
            "/content/drive/MyDrive/ASX annual reports/2021 (774 firms)/ppk21.pdf\n",
            "/content/drive/MyDrive/ASX annual reports/2021 (774 firms)/ptb21.pdf\n",
            "/content/drive/MyDrive/ASX annual reports/2021 (774 firms)/qip21.pdf\n",
            "/content/drive/MyDrive/ASX annual reports/2021 (774 firms)/qhl21.pdf\n",
            "/content/drive/MyDrive/ASX annual reports/2021 (774 firms)/qan21.pdf\n",
            "/content/drive/MyDrive/ASX annual reports/2021 (774 firms)/qub21.pdf\n",
            "/content/drive/MyDrive/ASX annual reports/2021 (774 firms)/rdg21.pdf\n",
            "/content/drive/MyDrive/ASX annual reports/2021 (774 firms)/reh21.pdf\n",
            "/content/drive/MyDrive/ASX annual reports/2021 (774 firms)/rwc21.pdf\n",
            "/content/drive/MyDrive/ASX annual reports/2021 (774 firms)/rgi21.pdf\n",
            "/content/drive/MyDrive/ASX annual reports/2021 (774 firms)/sfg21.pdf\n",
            "/content/drive/MyDrive/ASX annual reports/2021 (774 firms)/rfx21.pdf\n",
            "/content/drive/MyDrive/ASX annual reports/2021 (774 firms)/srh21.pdf\n",
            "/content/drive/MyDrive/ASX annual reports/2021 (774 firms)/ssm21.pdf\n",
            "/content/drive/MyDrive/ASX annual reports/2021 (774 firms)/snd21.pdf\n",
            "/content/drive/MyDrive/ASX annual reports/2021 (774 firms)/siv21.pdf\n",
            "/content/drive/MyDrive/ASX annual reports/2021 (774 firms)/sgf21.pdf\n",
            "/content/drive/MyDrive/ASX annual reports/2021 (774 firms)/slh21.pdf\n",
            "/content/drive/MyDrive/ASX annual reports/2021 (774 firms)/svw21.pdf\n",
            "/content/drive/MyDrive/ASX annual reports/2021 (774 firms)/sks21.pdf\n",
            "/content/drive/MyDrive/ASX annual reports/2021 (774 firms)/sgi21.pdf\n",
            "/content/drive/MyDrive/ASX annual reports/2021 (774 firms)/srl21.pdf\n",
            "/content/drive/MyDrive/ASX annual reports/2021 (774 firms)/sxe21.pdf\n",
            "/content/drive/MyDrive/ASX annual reports/2021 (774 firms)/go221.pdf\n",
            "/content/drive/MyDrive/ASX annual reports/2021 (774 firms)/tps21.pdf\n",
            "/content/drive/MyDrive/ASX annual reports/2021 (774 firms)/srg21.pdf\n",
            "/content/drive/MyDrive/ASX annual reports/2021 (774 firms)/vee21.pdf\n",
            "/content/drive/MyDrive/ASX annual reports/2021 (774 firms)/tti21.pdf\n",
            "/content/drive/MyDrive/ASX annual reports/2021 (774 firms)/sop21.pdf\n",
            "/content/drive/MyDrive/ASX annual reports/2021 (774 firms)/vbc21.pdf\n",
            "/content/drive/MyDrive/ASX annual reports/2021 (774 firms)/xrf21.pdf\n",
            "/content/drive/MyDrive/ASX annual reports/2021 (774 firms)/vrs21.pdf\n",
            "/content/drive/MyDrive/ASX annual reports/2021 (774 firms)/tcl21.pdf\n",
            "/content/drive/MyDrive/ASX annual reports/2021 (774 firms)/3pl21.pdf\n",
            "/content/drive/MyDrive/ASX annual reports/2021 (774 firms)/akg21.pdf\n",
            "/content/drive/MyDrive/ASX annual reports/2021 (774 firms)/8vi21.pdf\n",
            "/content/drive/MyDrive/ASX annual reports/2021 (774 firms)/ax121.pdf\n",
            "/content/drive/MyDrive/ASX annual reports/2021 (774 firms)/agi21.pdf\n",
            "/content/drive/MyDrive/ASX annual reports/2021 (774 firms)/aby21.pdf\n",
            "/content/drive/MyDrive/ASX annual reports/2021 (774 firms)/atl21.pdf\n",
            "/content/drive/MyDrive/ASX annual reports/2021 (774 firms)/adh21.pdf\n",
            "/content/drive/MyDrive/ASX annual reports/2021 (774 firms)/ahx21.pdf\n",
            "/content/drive/MyDrive/ASX annual reports/2021 (774 firms)/afa21.pdf\n",
            "/content/drive/MyDrive/ASX annual reports/2021 (774 firms)/aua21.pdf\n",
            "/content/drive/MyDrive/ASX annual reports/2021 (774 firms)/atp21.pdf\n",
            "/content/drive/MyDrive/ASX annual reports/2021 (774 firms)/asg21.pdf\n",
            "/content/drive/MyDrive/ASX annual reports/2021 (774 firms)/bbn21.pdf\n",
            "/content/drive/MyDrive/ASX annual reports/2021 (774 firms)/alg21.pdf\n",
            "/content/drive/MyDrive/ASX annual reports/2021 (774 firms)/bst21.pdf\n",
            "/content/drive/MyDrive/ASX annual reports/2021 (774 firms)/arb21.pdf\n",
            "/content/drive/MyDrive/ASX annual reports/2021 (774 firms)/bet21.pdf\n",
            "/content/drive/MyDrive/ASX annual reports/2021 (774 firms)/bap21.pdf\n",
            "/content/drive/MyDrive/ASX annual reports/2021 (774 firms)/bda21.pdf\n",
            "/content/drive/MyDrive/ASX annual reports/2021 (774 firms)/bkg21.pdf\n",
            "/content/drive/MyDrive/ASX annual reports/2021 (774 firms)/brg21.pdf\n",
            "/content/drive/MyDrive/ASX annual reports/2021 (774 firms)/bgp21.pdf\n",
            "/content/drive/MyDrive/ASX annual reports/2021 (774 firms)/blx21.pdf\n",
            "/content/drive/MyDrive/ASX annual reports/2021 (774 firms)/bbt21.pdf\n",
            "/content/drive/MyDrive/ASX annual reports/2021 (774 firms)/cl821.pdf\n",
            "/content/drive/MyDrive/ASX annual reports/2021 (774 firms)/ctt21.pdf\n",
            "/content/drive/MyDrive/ASX annual reports/2021 (774 firms)/cbr21.pdf\n",
            "/content/drive/MyDrive/ASX annual reports/2021 (774 firms)/clu21.pdf\n",
            "/content/drive/MyDrive/ASX annual reports/2021 (774 firms)/ccx21.pdf\n",
            "/content/drive/MyDrive/ASX annual reports/2021 (774 firms)/ckf21.pdf\n",
            "/content/drive/MyDrive/ASX annual reports/2021 (774 firms)/cyq21.pdf\n",
            "/content/drive/MyDrive/ASX annual reports/2021 (774 firms)/ddt21.pdf\n",
            "/content/drive/MyDrive/ASX annual reports/2021 (774 firms)/dlc21.pdf\n",
            "/content/drive/MyDrive/ASX annual reports/2021 (774 firms)/dmc21.pdf\n",
            "/content/drive/MyDrive/ASX annual reports/2021 (774 firms)/cwn21.pdf\n",
            "/content/drive/MyDrive/ASX annual reports/2021 (774 firms)/dw821.pdf\n",
            "/content/drive/MyDrive/ASX annual reports/2021 (774 firms)/ctd21.pdf\n",
            "/content/drive/MyDrive/ASX annual reports/2021 (774 firms)/dmp21.pdf\n",
            "/content/drive/MyDrive/ASX annual reports/2021 (774 firms)/dsk21.pdf\n",
            "/content/drive/MyDrive/ASX annual reports/2021 (774 firms)/ebg21.pdf\n",
            "/content/drive/MyDrive/ASX annual reports/2021 (774 firms)/fwd21.pdf\n",
            "/content/drive/MyDrive/ASX annual reports/2021 (774 firms)/gle21.pdf\n",
            "/content/drive/MyDrive/ASX annual reports/2021 (774 firms)/gap21.pdf\n",
            "/content/drive/MyDrive/ASX annual reports/2021 (774 firms)/exp21.pdf\n",
            "/content/drive/MyDrive/ASX annual reports/2021 (774 firms)/enn21.pdf\n",
            "/content/drive/MyDrive/ASX annual reports/2021 (774 firms)/flt21.pdf\n",
            "/content/drive/MyDrive/ASX annual reports/2021 (774 firms)/ht821.pdf\n",
            "/content/drive/MyDrive/ASX annual reports/2021 (774 firms)/gud21.pdf\n",
            "/content/drive/MyDrive/ASX annual reports/2021 (774 firms)/isu21.pdf\n",
            "/content/drive/MyDrive/ASX annual reports/2021 (774 firms)/glb21.pdf\n",
            "/content/drive/MyDrive/ASX annual reports/2021 (774 firms)/jbh21.pdf\n",
            "/content/drive/MyDrive/ASX annual reports/2021 (774 firms)/iel21.pdf\n",
            "/content/drive/MyDrive/ASX annual reports/2021 (774 firms)/jay21.pdf\n",
            "/content/drive/MyDrive/ASX annual reports/2021 (774 firms)/jyc21.pdf\n",
            "/content/drive/MyDrive/ASX annual reports/2021 (774 firms)/kmd21.pdf\n",
            "/content/drive/MyDrive/ASX annual reports/2021 (774 firms)/jat21.pdf\n",
            "/content/drive/MyDrive/ASX annual reports/2021 (774 firms)/kme21.pdf\n",
            "/content/drive/MyDrive/ASX annual reports/2021 (774 firms)/hlo21.pdf\n",
            "/content/drive/MyDrive/ASX annual reports/2021 (774 firms)/jin21.pdf\n",
            "/content/drive/MyDrive/ASX annual reports/2021 (774 firms)/kgn21.pdf\n",
            "/content/drive/MyDrive/ASX annual reports/2021 (774 firms)/mph21.pdf\n",
            "/content/drive/MyDrive/ASX annual reports/2021 (774 firms)/mhi21.pdf\n",
            "/content/drive/MyDrive/ASX annual reports/2021 (774 firms)/ked21.pdf\n",
            "/content/drive/MyDrive/ASX annual reports/2021 (774 firms)/mpa21.pdf\n",
            "/content/drive/MyDrive/ASX annual reports/2021 (774 firms)/lov21.pdf\n",
            "/content/drive/MyDrive/ASX annual reports/2021 (774 firms)/mhj21.pdf\n",
            "/content/drive/MyDrive/ASX annual reports/2021 (774 firms)/mto21.pdf\n",
            "/content/drive/MyDrive/ASX annual reports/2021 (774 firms)/myr21.pdf\n",
            "/content/drive/MyDrive/ASX annual reports/2021 (774 firms)/myd21.pdf\n",
            "/content/drive/MyDrive/ASX annual reports/2021 (774 firms)/ntd21.pdf\n",
            "/content/drive/MyDrive/ASX annual reports/2021 (774 firms)/moz21.pdf\n",
            "/content/drive/MyDrive/ASX annual reports/2021 (774 firms)/pwr21.pdf\n",
            "/content/drive/MyDrive/ASX annual reports/2021 (774 firms)/mfb21.pdf\n",
            "/content/drive/MyDrive/ASX annual reports/2021 (774 firms)/nck21.pdf\n",
            "/content/drive/MyDrive/ASX annual reports/2021 (774 firms)/pwh21.pdf\n",
            "/content/drive/MyDrive/ASX annual reports/2021 (774 firms)/pfp21.pdf\n",
            "/content/drive/MyDrive/ASX annual reports/2021 (774 firms)/rbl21.pdf\n",
            "/content/drive/MyDrive/ASX annual reports/2021 (774 firms)/rfg21.pdf\n",
            "/content/drive/MyDrive/ASX annual reports/2021 (774 firms)/sfc21.pdf\n",
            "/content/drive/MyDrive/ASX annual reports/2021 (774 firms)/pbh21.pdf\n",
            "/content/drive/MyDrive/ASX annual reports/2021 (774 firms)/ssg21.pdf\n",
            "/content/drive/MyDrive/ASX annual reports/2021 (774 firms)/rdh21.pdf\n",
            "/content/drive/MyDrive/ASX annual reports/2021 (774 firms)/sct21.pdf\n",
            "/content/drive/MyDrive/ASX annual reports/2021 (774 firms)/rdc21.pdf\n",
            "/content/drive/MyDrive/ASX annual reports/2021 (774 firms)/sgh21.pdf\n",
            "/content/drive/MyDrive/ASX annual reports/2021 (774 firms)/slk21.pdf\n",
            "/content/drive/MyDrive/ASX annual reports/2021 (774 firms)/shj21.pdf\n",
            "/content/drive/MyDrive/ASX annual reports/2021 (774 firms)/six21.pdf\n",
            "/content/drive/MyDrive/ASX annual reports/2021 (774 firms)/snl21.pdf\n",
            "/content/drive/MyDrive/ASX annual reports/2021 (774 firms)/sio21.pdf\n",
            "/content/drive/MyDrive/ASX annual reports/2021 (774 firms)/twd21.pdf\n",
            "/content/drive/MyDrive/ASX annual reports/2021 (774 firms)/sul21.pdf\n",
            "/content/drive/MyDrive/ASX annual reports/2021 (774 firms)/tpw21.pdf\n",
            "/content/drive/MyDrive/ASX annual reports/2021 (774 firms)/trs21.pdf\n",
            "/content/drive/MyDrive/ASX annual reports/2021 (774 firms)/skc21.pdf\n",
            "/content/drive/MyDrive/ASX annual reports/2021 (774 firms)/tta21.pdf\n",
            "/content/drive/MyDrive/ASX annual reports/2021 (774 firms)/tga21.pdf\n",
            "/content/drive/MyDrive/ASX annual reports/2021 (774 firms)/sgr21.pdf\n",
            "/content/drive/MyDrive/ASX annual reports/2021 (774 firms)/uni21.pdf\n",
            "/content/drive/MyDrive/ASX annual reports/2021 (774 firms)/ucw21.pdf\n",
            "/content/drive/MyDrive/ASX annual reports/2021 (774 firms)/tra21.pdf\n",
            "/content/drive/MyDrive/ASX annual reports/2021 (774 firms)/tah21.pdf\n",
            "/content/drive/MyDrive/ASX annual reports/2021 (774 firms)/wat21.pdf\n",
            "/content/drive/MyDrive/ASX annual reports/2021 (774 firms)/vtg21.pdf\n",
            "/content/drive/MyDrive/ASX annual reports/2021 (774 firms)/vva21.pdf\n",
            "/content/drive/MyDrive/ASX annual reports/2021 (774 firms)/web21.pdf\n",
            "/content/drive/MyDrive/ASX annual reports/2021 (774 firms)/ann21.pdf\n",
            "/content/drive/MyDrive/ASX annual reports/2021 (774 firms)/a2m21.pdf\n",
            "/content/drive/MyDrive/ASX annual reports/2021 (774 firms)/aac21.pdf\n",
            "/content/drive/MyDrive/ASX annual reports/2021 (774 firms)/shl21.pdf\n",
            "/content/drive/MyDrive/ASX annual reports/2021 (774 firms)/twe21.pdf\n",
            "/content/drive/MyDrive/ASX annual reports/2021 (774 firms)/tot21.pdf\n",
            "/content/drive/MyDrive/ASX annual reports/2021 (774 firms)/ayi21.pdf\n",
            "/content/drive/MyDrive/ASX annual reports/2021 (774 firms)/8ih21.pdf\n",
            "/content/drive/MyDrive/ASX annual reports/2021 (774 firms)/avc21.pdf\n",
            "/content/drive/MyDrive/ASX annual reports/2021 (774 firms)/arc21.pdf\n",
            "/content/drive/MyDrive/ASX annual reports/2021 (774 firms)/aub21.pdf\n",
            "/content/drive/MyDrive/ASX annual reports/2021 (774 firms)/aef21.pdf\n",
            "/content/drive/MyDrive/ASX annual reports/2021 (774 firms)/aba21.pdf\n",
            "/content/drive/MyDrive/ASX annual reports/2021 (774 firms)/afg21.pdf\n",
            "/content/drive/MyDrive/ASX annual reports/2021 (774 firms)/ben21.pdf\n",
            "/content/drive/MyDrive/ASX annual reports/2021 (774 firms)/bir21.pdf\n",
            "/content/drive/MyDrive/ASX annual reports/2021 (774 firms)/bbc21.pdf\n",
            "/content/drive/MyDrive/ASX annual reports/2021 (774 firms)/asx21.pdf\n",
            "/content/drive/MyDrive/ASX annual reports/2021 (774 firms)/btn21.pdf\n",
            "/content/drive/MyDrive/ASX annual reports/2021 (774 firms)/bti21.pdf\n",
            "/content/drive/MyDrive/ASX annual reports/2021 (774 firms)/bwf21.pdf\n",
            "/content/drive/MyDrive/ASX annual reports/2021 (774 firms)/ccv21.pdf\n",
            "/content/drive/MyDrive/ASX annual reports/2021 (774 firms)/caf21.pdf\n",
            "/content/drive/MyDrive/ASX annual reports/2021 (774 firms)/cvw21.pdf\n",
            "/content/drive/MyDrive/ASX annual reports/2021 (774 firms)/cog21.pdf\n",
            "/content/drive/MyDrive/ASX annual reports/2021 (774 firms)/clh21.pdf\n",
            "/content/drive/MyDrive/ASX annual reports/2021 (774 firms)/cgf21.pdf\n",
            "/content/drive/MyDrive/ASX annual reports/2021 (774 firms)/cga21.pdf\n",
            "/content/drive/MyDrive/ASX annual reports/2021 (774 firms)/ci121.pdf\n",
            "/content/drive/MyDrive/ASX annual reports/2021 (774 firms)/cvc21.pdf\n",
            "/content/drive/MyDrive/ASX annual reports/2021 (774 firms)/ccp21.pdf\n",
            "/content/drive/MyDrive/ASX annual reports/2021 (774 firms)/eas21.pdf\n",
            "/content/drive/MyDrive/ASX annual reports/2021 (774 firms)/ep121.pdf\n",
            "/content/drive/MyDrive/ASX annual reports/2021 (774 firms)/cba21.pdf\n",
            "/content/drive/MyDrive/ASX annual reports/2021 (774 firms)/edc21.pdf\n",
            "/content/drive/MyDrive/ASX annual reports/2021 (774 firms)/ciw21.pdf\n",
            "/content/drive/MyDrive/ASX annual reports/2021 (774 firms)/ena21.pdf\n",
            "/content/drive/MyDrive/ASX annual reports/2021 (774 firms)/eqt21.pdf\n",
            "/content/drive/MyDrive/ASX annual reports/2021 (774 firms)/dbf21.pdf\n",
            "/content/drive/MyDrive/ASX annual reports/2021 (774 firms)/exo21.pdf\n",
            "/content/drive/MyDrive/ASX annual reports/2021 (774 firms)/fnx21.pdf\n",
            "/content/drive/MyDrive/ASX annual reports/2021 (774 firms)/fsa21.pdf\n",
            "/content/drive/MyDrive/ASX annual reports/2021 (774 firms)/ezl21.pdf\n",
            "/content/drive/MyDrive/ASX annual reports/2021 (774 firms)/eve21.pdf\n",
            "/content/drive/MyDrive/ASX annual reports/2021 (774 firms)/hmy21.pdf\n",
            "/content/drive/MyDrive/ASX annual reports/2021 (774 firms)/hub21.pdf\n",
            "/content/drive/MyDrive/ASX annual reports/2021 (774 firms)/fid21.pdf\n",
            "/content/drive/MyDrive/ASX annual reports/2021 (774 firms)/hgh21.pdf\n",
            "/content/drive/MyDrive/ASX annual reports/2021 (774 firms)/inv21.pdf\n",
            "/content/drive/MyDrive/ASX annual reports/2021 (774 firms)/iq321.pdf\n",
            "/content/drive/MyDrive/ASX annual reports/2021 (774 firms)/lfg21.pdf\n",
            "/content/drive/MyDrive/ASX annual reports/2021 (774 firms)/ifl21.pdf\n",
            "/content/drive/MyDrive/ASX annual reports/2021 (774 firms)/kam21.pdf\n",
            "/content/drive/MyDrive/ASX annual reports/2021 (774 firms)/iag21.pdf\n",
            "/content/drive/MyDrive/ASX annual reports/2021 (774 firms)/mfg21.pdf\n",
            "/content/drive/MyDrive/ASX annual reports/2021 (774 firms)/mai21.pdf\n",
            "/content/drive/MyDrive/ASX annual reports/2021 (774 firms)/gdg21.pdf\n",
            "/content/drive/MyDrive/ASX annual reports/2021 (774 firms)/mam21.pdf\n",
            "/content/drive/MyDrive/ASX annual reports/2021 (774 firms)/mny21.pdf\n",
            "/content/drive/MyDrive/ASX annual reports/2021 (774 firms)/mpr21.pdf\n",
            "/content/drive/MyDrive/ASX annual reports/2021 (774 firms)/mpl21.pdf\n",
            "/content/drive/MyDrive/ASX annual reports/2021 (774 firms)/mqg21.pdf\n",
            "/content/drive/MyDrive/ASX annual reports/2021 (774 firms)/mys21.pdf\n",
            "/content/drive/MyDrive/ASX annual reports/2021 (774 firms)/ngi21.pdf\n",
            "/content/drive/MyDrive/ASX annual reports/2021 (774 firms)/n1h21.pdf\n",
            "/content/drive/MyDrive/ASX annual reports/2021 (774 firms)/nhf21.pdf\n",
            "/content/drive/MyDrive/ASX annual reports/2021 (774 firms)/nwl21.pdf\n",
            "/content/drive/MyDrive/ASX annual reports/2021 (774 firms)/nsx21.pdf\n",
            "/content/drive/MyDrive/ASX annual reports/2021 (774 firms)/oeq21.pdf\n",
            "/content/drive/MyDrive/ASX annual reports/2021 (774 firms)/obl21.pdf\n",
            "/content/drive/MyDrive/ASX annual reports/2021 (774 firms)/ppt21.pdf\n",
            "/content/drive/MyDrive/ASX annual reports/2021 (774 firms)/pni21.pdf\n",
            "/content/drive/MyDrive/ASX annual reports/2021 (774 firms)/pcg21.pdf\n",
            "/content/drive/MyDrive/ASX annual reports/2021 (774 firms)/pnc21.pdf\n",
            "/content/drive/MyDrive/ASX annual reports/2021 (774 firms)/ptm21.pdf\n",
            "/content/drive/MyDrive/ASX annual reports/2021 (774 firms)/mme21.pdf\n",
            "/content/drive/MyDrive/ASX annual reports/2021 (774 firms)/pfg21.pdf\n",
            "/content/drive/MyDrive/ASX annual reports/2021 (774 firms)/psi21.pdf\n",
            "/content/drive/MyDrive/ASX annual reports/2021 (774 firms)/que21.pdf\n",
            "/content/drive/MyDrive/ASX annual reports/2021 (774 firms)/plt21.pdf\n",
            "/content/drive/MyDrive/ASX annual reports/2021 (774 firms)/opy21.pdf\n",
            "/content/drive/MyDrive/ASX annual reports/2021 (774 firms)/pgl21.pdf\n",
            "/content/drive/MyDrive/ASX annual reports/2021 (774 firms)/ras21.pdf\n",
            "/content/drive/MyDrive/ASX annual reports/2021 (774 firms)/qfe21.pdf\n",
            "/content/drive/MyDrive/ASX annual reports/2021 (774 firms)/rzi21.pdf\n",
            "/content/drive/MyDrive/ASX annual reports/2021 (774 firms)/rmc21.pdf\n",
            "/content/drive/MyDrive/ASX annual reports/2021 (774 firms)/swf21.pdf\n",
            "/content/drive/MyDrive/ASX annual reports/2021 (774 firms)/seq21.pdf\n",
            "/content/drive/MyDrive/ASX annual reports/2021 (774 firms)/sdf21.pdf\n",
            "/content/drive/MyDrive/ASX annual reports/2021 (774 firms)/tip21.pdf\n",
            "/content/drive/MyDrive/ASX annual reports/2021 (774 firms)/wzr21.pdf\n",
            "/content/drive/MyDrive/ASX annual reports/2021 (774 firms)/wtl21.pdf\n",
            "/content/drive/MyDrive/ASX annual reports/2021 (774 firms)/sor21.pdf\n",
            "/content/drive/MyDrive/ASX annual reports/2021 (774 firms)/sun21.pdf\n",
            "/content/drive/MyDrive/ASX annual reports/2021 (774 firms)/ybr21.pdf\n",
            "/content/drive/MyDrive/ASX annual reports/2021 (774 firms)/z1p21.pdf\n",
            "/content/drive/MyDrive/ASX annual reports/2021 (774 firms)/9sp21.pdf\n",
            "/content/drive/MyDrive/ASX annual reports/2021 (774 firms)/cnw21.pdf\n",
            "/content/drive/MyDrive/ASX annual reports/2021 (774 firms)/cpu21.pdf\n",
            "/content/drive/MyDrive/ASX annual reports/2021 (774 firms)/frx21.pdf\n",
            "/content/drive/MyDrive/ASX annual reports/2021 (774 firms)/rvs21.pdf\n",
            "/content/drive/MyDrive/ASX annual reports/2021 (774 firms)/rea21.pdf\n",
            "/content/drive/MyDrive/ASX annual reports/2021 (774 firms)/sek21.pdf\n",
            "/content/drive/MyDrive/ASX annual reports/2021 (774 firms)/xro21.pdf\n",
            "/content/drive/MyDrive/ASX annual reports/2021 (774 firms)/pph21.pdf\n",
            "/content/drive/MyDrive/ASX annual reports/2021 (774 firms)/sko21.pdf\n",
            "/content/drive/MyDrive/ASX annual reports/2021 (774 firms)/aqr21.pdf\n",
            "/content/drive/MyDrive/ASX annual reports/2021 (774 firms)/gdf21.pdf\n",
            "/content/drive/MyDrive/ASX annual reports/2021 (774 firms)/iap21.pdf\n",
            "/content/drive/MyDrive/ASX annual reports/2021 (774 firms)/vcx21.pdf\n",
            "/content/drive/MyDrive/ASX annual reports/2021 (774 firms)/llc21.pdf\n"
          ]
        }
      ]
    },
    {
      "cell_type": "code",
      "metadata": {
        "id": "D9sIIRD6B_eL",
        "colab": {
          "base_uri": "https://localhost:8080/"
        },
        "outputId": "8549bf9c-fbc3-4dd6-9129-905e19e072b1"
      },
      "source": [
        "len(new_list2)"
      ],
      "execution_count": null,
      "outputs": [
        {
          "output_type": "execute_result",
          "data": {
            "text/plain": [
              "274"
            ]
          },
          "metadata": {},
          "execution_count": 14
        }
      ]
    },
    {
      "cell_type": "markdown",
      "metadata": {
        "id": "_pmKCKXvKRzb"
      },
      "source": [
        "### Step 3.3: List 3 (no need for 2021)"
      ]
    },
    {
      "cell_type": "code",
      "metadata": {
        "id": "lrUmBC9Wt1Yk",
        "colab": {
          "base_uri": "https://localhost:8080/"
        },
        "outputId": "1655adcb-d0c9-478f-db4e-6b2475130331"
      },
      "source": [
        "new_list3={}\n",
        "\n",
        "for file in file_list[1000:]:   # start from 1000, to the end\n",
        "  print(file)\n",
        "    \n",
        "  if file.endswith(\".pdf\"):\n",
        "    try:\n",
        "      with pdfplumber.open(file) as pdf:\n",
        "        fulltext = \"\"\n",
        "        try:\n",
        "          for page in pdf.pages:\n",
        "            try:\n",
        "              text = page.extract_text()\n",
        "              fulltext += str(text)\n",
        "            except:\n",
        "              fulltext = \"\"\n",
        "              print(\"Blank\")\n",
        "            finally:\n",
        "              pass\n",
        "        except:\n",
        "          pass\n",
        "    except:\n",
        "      pass\n",
        "        \n",
        "        \n",
        "    new_list3[file]=(fulltext) "
      ],
      "execution_count": null,
      "outputs": [
        {
          "output_type": "stream",
          "name": "stdout",
          "text": [
            "/content/drive/MyDrive/ASX annual reports/2004 (1359 firms)/aam04.pdf\n",
            "/content/drive/MyDrive/ASX annual reports/2004 (1359 firms)/aat04.pdf\n",
            "/content/drive/MyDrive/ASX annual reports/2004 (1359 firms)/aar04.pdf\n",
            "/content/drive/MyDrive/ASX annual reports/2004 (1359 firms)/aau04.pdf\n",
            "/content/drive/MyDrive/ASX annual reports/2004 (1359 firms)/aac04.pdf\n",
            "/content/drive/MyDrive/ASX annual reports/2004 (1359 firms)/abi04.pdf\n",
            "/content/drive/MyDrive/ASX annual reports/2004 (1359 firms)/abc04.pdf\n",
            "/content/drive/MyDrive/ASX annual reports/2004 (1359 firms)/abk04.pdf\n",
            "/content/drive/MyDrive/ASX annual reports/2004 (1359 firms)/abb04.pdf\n",
            "/content/drive/MyDrive/ASX annual reports/2004 (1359 firms)/acf04.pdf\n",
            "/content/drive/MyDrive/ASX annual reports/2004 (1359 firms)/ace04.pdf\n",
            "/content/drive/MyDrive/ASX annual reports/2004 (1359 firms)/acd04.pdf\n",
            "/content/drive/MyDrive/ASX annual reports/2004 (1359 firms)/acu04.pdf\n",
            "/content/drive/MyDrive/ASX annual reports/2004 (1359 firms)/abs04.pdf\n",
            "/content/drive/MyDrive/ASX annual reports/2004 (1359 firms)/acx04.pdf\n",
            "/content/drive/MyDrive/ASX annual reports/2004 (1359 firms)/ada04.pdf\n",
            "/content/drive/MyDrive/ASX annual reports/2004 (1359 firms)/adx04.pdf\n",
            "/content/drive/MyDrive/ASX annual reports/2004 (1359 firms)/ads04.pdf\n",
            "/content/drive/MyDrive/ASX annual reports/2004 (1359 firms)/adb04.pdf\n",
            "/content/drive/MyDrive/ASX annual reports/2004 (1359 firms)/adg04.pdf\n",
            "/content/drive/MyDrive/ASX annual reports/2004 (1359 firms)/adt04.pdf\n",
            "/content/drive/MyDrive/ASX annual reports/2004 (1359 firms)/adl04.pdf\n",
            "/content/drive/MyDrive/ASX annual reports/2004 (1359 firms)/abp04.pdf\n",
            "/content/drive/MyDrive/ASX annual reports/2004 (1359 firms)/aea04.pdf\n",
            "/content/drive/MyDrive/ASX annual reports/2004 (1359 firms)/acl04.pdf\n",
            "/content/drive/MyDrive/ASX annual reports/2004 (1359 firms)/ady04.pdf\n",
            "/content/drive/MyDrive/ASX annual reports/2004 (1359 firms)/adu04.pdf\n",
            "/content/drive/MyDrive/ASX annual reports/2004 (1359 firms)/aec04.pdf\n",
            "/content/drive/MyDrive/ASX annual reports/2004 (1359 firms)/adn04.pdf\n",
            "/content/drive/MyDrive/ASX annual reports/2004 (1359 firms)/adz04.pdf\n",
            "/content/drive/MyDrive/ASX annual reports/2004 (1359 firms)/aef04.pdf\n",
            "/content/drive/MyDrive/ASX annual reports/2004 (1359 firms)/aei04.pdf\n",
            "/content/drive/MyDrive/ASX annual reports/2004 (1359 firms)/aeo04.pdf\n",
            "/content/drive/MyDrive/ASX annual reports/2004 (1359 firms)/aet04.pdf\n",
            "/content/drive/MyDrive/ASX annual reports/2004 (1359 firms)/afl04.pdf\n",
            "/content/drive/MyDrive/ASX annual reports/2004 (1359 firms)/afi04.pdf\n",
            "/content/drive/MyDrive/ASX annual reports/2004 (1359 firms)/afm04.pdf\n",
            "/content/drive/MyDrive/ASX annual reports/2004 (1359 firms)/afc04.pdf\n",
            "/content/drive/MyDrive/ASX annual reports/2004 (1359 firms)/aft04.pdf\n",
            "/content/drive/MyDrive/ASX annual reports/2004 (1359 firms)/agc04.pdf\n",
            "/content/drive/MyDrive/ASX annual reports/2004 (1359 firms)/aex04.pdf\n",
            "/content/drive/MyDrive/ASX annual reports/2004 (1359 firms)/agg04.pdf\n",
            "/content/drive/MyDrive/ASX annual reports/2004 (1359 firms)/agp04.pdf\n",
            "/content/drive/MyDrive/ASX annual reports/2004 (1359 firms)/agm04.pdf\n",
            "/content/drive/MyDrive/ASX annual reports/2004 (1359 firms)/aen04.pdf\n",
            "/content/drive/MyDrive/ASX annual reports/2004 (1359 firms)/agl04.pdf\n",
            "Blank\n",
            "Blank\n",
            "Blank\n",
            "Blank\n",
            "Blank\n",
            "Blank\n",
            "Blank\n",
            "/content/drive/MyDrive/ASX annual reports/2004 (1359 firms)/agz04.pdf\n",
            "/content/drive/MyDrive/ASX annual reports/2004 (1359 firms)/agi04.pdf\n",
            "/content/drive/MyDrive/ASX annual reports/2004 (1359 firms)/ags04.pdf\n",
            "/content/drive/MyDrive/ASX annual reports/2004 (1359 firms)/agx04.pdf\n",
            "/content/drive/MyDrive/ASX annual reports/2004 (1359 firms)/ahc04.pdf\n",
            "/content/drive/MyDrive/ASX annual reports/2004 (1359 firms)/ahd04.pdf\n",
            "/content/drive/MyDrive/ASX annual reports/2004 (1359 firms)/ahg04.pdf\n",
            "/content/drive/MyDrive/ASX annual reports/2004 (1359 firms)/aho04.pdf\n",
            "/content/drive/MyDrive/ASX annual reports/2004 (1359 firms)/aia04.pdf\n",
            "/content/drive/MyDrive/ASX annual reports/2004 (1359 firms)/aig04.pdf\n",
            "/content/drive/MyDrive/ASX annual reports/2004 (1359 firms)/aiy04.pdf\n",
            "/content/drive/MyDrive/ASX annual reports/2004 (1359 firms)/aie04.pdf\n",
            "/content/drive/MyDrive/ASX annual reports/2004 (1359 firms)/aim04.pdf\n",
            "/content/drive/MyDrive/ASX annual reports/2004 (1359 firms)/aix04.pdf\n",
            "/content/drive/MyDrive/ASX annual reports/2004 (1359 firms)/ajl04.pdf\n",
            "/content/drive/MyDrive/ASX annual reports/2004 (1359 firms)/ahs04.pdf\n",
            "/content/drive/MyDrive/ASX annual reports/2004 (1359 firms)/ald04.pdf\n",
            "/content/drive/MyDrive/ASX annual reports/2004 (1359 firms)/akd04.pdf\n",
            "/content/drive/MyDrive/ASX annual reports/2004 (1359 firms)/ale04.pdf\n",
            "/content/drive/MyDrive/ASX annual reports/2004 (1359 firms)/alb04.pdf\n",
            "/content/drive/MyDrive/ASX annual reports/2004 (1359 firms)/alh04.pdf\n",
            "/content/drive/MyDrive/ASX annual reports/2004 (1359 firms)/alk04.pdf\n",
            "/content/drive/MyDrive/ASX annual reports/2004 (1359 firms)/alo04.pdf\n",
            "/content/drive/MyDrive/ASX annual reports/2004 (1359 firms)/alr04.pdf\n",
            "/content/drive/MyDrive/ASX annual reports/2004 (1359 firms)/all04.pdf\n",
            "/content/drive/MyDrive/ASX annual reports/2004 (1359 firms)/aln04.pdf\n",
            "/content/drive/MyDrive/ASX annual reports/2004 (1359 firms)/alw04.pdf\n",
            "/content/drive/MyDrive/ASX annual reports/2004 (1359 firms)/als04.pdf\n",
            "/content/drive/MyDrive/ASX annual reports/2004 (1359 firms)/alt04.pdf\n",
            "/content/drive/MyDrive/ASX annual reports/2004 (1359 firms)/alu04.pdf\n",
            "/content/drive/MyDrive/ASX annual reports/2004 (1359 firms)/amd04.pdf\n",
            "/content/drive/MyDrive/ASX annual reports/2004 (1359 firms)/alz04.pdf\n",
            "/content/drive/MyDrive/ASX annual reports/2004 (1359 firms)/amc04.pdf\n",
            "/content/drive/MyDrive/ASX annual reports/2004 (1359 firms)/amg04.pdf\n",
            "/content/drive/MyDrive/ASX annual reports/2004 (1359 firms)/aml04.pdf\n",
            "/content/drive/MyDrive/ASX annual reports/2004 (1359 firms)/amh04.pdf\n",
            "/content/drive/MyDrive/ASX annual reports/2004 (1359 firms)/amm04.pdf\n",
            "/content/drive/MyDrive/ASX annual reports/2004 (1359 firms)/amp04.pdf\n",
            "/content/drive/MyDrive/ASX annual reports/2004 (1359 firms)/aiz04.pdf\n",
            "/content/drive/MyDrive/ASX annual reports/2004 (1359 firms)/ane04.pdf\n",
            "/content/drive/MyDrive/ASX annual reports/2004 (1359 firms)/anc04.pdf\n",
            "/content/drive/MyDrive/ASX annual reports/2004 (1359 firms)/amu04.pdf\n",
            "/content/drive/MyDrive/ASX annual reports/2004 (1359 firms)/and04.pdf\n",
            "/content/drive/MyDrive/ASX annual reports/2004 (1359 firms)/ann04.pdf\n",
            "/content/drive/MyDrive/ASX annual reports/2004 (1359 firms)/anm04.pdf\n",
            "/content/drive/MyDrive/ASX annual reports/2004 (1359 firms)/anp04.pdf\n",
            "/content/drive/MyDrive/ASX annual reports/2004 (1359 firms)/anx04.pdf\n",
            "/content/drive/MyDrive/ASX annual reports/2004 (1359 firms)/anz04.pdf\n",
            "/content/drive/MyDrive/ASX annual reports/2004 (1359 firms)/aoe04.pdf\n",
            "/content/drive/MyDrive/ASX annual reports/2004 (1359 firms)/ape04.pdf\n",
            "/content/drive/MyDrive/ASX annual reports/2004 (1359 firms)/api04.pdf\n",
            "/content/drive/MyDrive/ASX annual reports/2004 (1359 firms)/amb04.pdf\n",
            "/content/drive/MyDrive/ASX annual reports/2004 (1359 firms)/apa04.pdf\n",
            "/content/drive/MyDrive/ASX annual reports/2004 (1359 firms)/apg04.pdf\n",
            "/content/drive/MyDrive/ASX annual reports/2004 (1359 firms)/apm04.pdf\n",
            "/content/drive/MyDrive/ASX annual reports/2004 (1359 firms)/apl04.pdf\n",
            "/content/drive/MyDrive/ASX annual reports/2004 (1359 firms)/apz04.pdf\n",
            "/content/drive/MyDrive/ASX annual reports/2004 (1359 firms)/aqd04.pdf\n",
            "/content/drive/MyDrive/ASX annual reports/2004 (1359 firms)/apn04.pdf\n",
            "/content/drive/MyDrive/ASX annual reports/2004 (1359 firms)/aqa04.pdf\n",
            "/content/drive/MyDrive/ASX annual reports/2004 (1359 firms)/arg04.pdf\n",
            "/content/drive/MyDrive/ASX annual reports/2004 (1359 firms)/aro04.pdf\n",
            "/content/drive/MyDrive/ASX annual reports/2004 (1359 firms)/aql04.pdf\n",
            "/content/drive/MyDrive/ASX annual reports/2004 (1359 firms)/aqp04.pdf\n",
            "/content/drive/MyDrive/ASX annual reports/2004 (1359 firms)/ara04.pdf\n",
            "/content/drive/MyDrive/ASX annual reports/2004 (1359 firms)/arp04.pdf\n",
            "/content/drive/MyDrive/ASX annual reports/2004 (1359 firms)/are04.pdf\n",
            "/content/drive/MyDrive/ASX annual reports/2004 (1359 firms)/aru04.pdf\n",
            "/content/drive/MyDrive/ASX annual reports/2004 (1359 firms)/arq04.pdf\n",
            "/content/drive/MyDrive/ASX annual reports/2004 (1359 firms)/ask04.pdf\n",
            "/content/drive/MyDrive/ASX annual reports/2004 (1359 firms)/arx04.pdf\n",
            "/content/drive/MyDrive/ASX annual reports/2004 (1359 firms)/asb04.pdf\n",
            "/content/drive/MyDrive/ASX annual reports/2004 (1359 firms)/asl04.pdf\n",
            "/content/drive/MyDrive/ASX annual reports/2004 (1359 firms)/asp04.pdf\n",
            "/content/drive/MyDrive/ASX annual reports/2004 (1359 firms)/asz04.pdf\n",
            "/content/drive/MyDrive/ASX annual reports/2004 (1359 firms)/asu04.pdf\n",
            "/content/drive/MyDrive/ASX annual reports/2004 (1359 firms)/asx04.pdf\n",
            "/content/drive/MyDrive/ASX annual reports/2004 (1359 firms)/asc04.pdf\n",
            "/content/drive/MyDrive/ASX annual reports/2004 (1359 firms)/atl04.pdf\n",
            "/content/drive/MyDrive/ASX annual reports/2004 (1359 firms)/ati04.pdf\n",
            "/content/drive/MyDrive/ASX annual reports/2004 (1359 firms)/atg04.pdf\n",
            "/content/drive/MyDrive/ASX annual reports/2004 (1359 firms)/atn04.pdf\n",
            "/content/drive/MyDrive/ASX annual reports/2004 (1359 firms)/atp04.pdf\n",
            "/content/drive/MyDrive/ASX annual reports/2004 (1359 firms)/aui04.pdf\n",
            "/content/drive/MyDrive/ASX annual reports/2004 (1359 firms)/atz04.pdf\n",
            "/content/drive/MyDrive/ASX annual reports/2004 (1359 firms)/auh04.pdf\n",
            "/content/drive/MyDrive/ASX annual reports/2004 (1359 firms)/aum04.pdf\n",
            "/content/drive/MyDrive/ASX annual reports/2004 (1359 firms)/aul04.pdf\n",
            "/content/drive/MyDrive/ASX annual reports/2004 (1359 firms)/auo04.pdf\n",
            "/content/drive/MyDrive/ASX annual reports/2004 (1359 firms)/atx04.pdf\n",
            "/content/drive/MyDrive/ASX annual reports/2004 (1359 firms)/aun04.pdf\n",
            "/content/drive/MyDrive/ASX annual reports/2004 (1359 firms)/aux04.pdf\n",
            "/content/drive/MyDrive/ASX annual reports/2004 (1359 firms)/auz04.pdf\n",
            "/content/drive/MyDrive/ASX annual reports/2004 (1359 firms)/ava04.pdf\n",
            "/content/drive/MyDrive/ASX annual reports/2004 (1359 firms)/avo04.pdf\n",
            "/content/drive/MyDrive/ASX annual reports/2004 (1359 firms)/avm04.pdf\n",
            "/content/drive/MyDrive/ASX annual reports/2004 (1359 firms)/avp04.pdf\n",
            "/content/drive/MyDrive/ASX annual reports/2004 (1359 firms)/avj04.pdf\n",
            "/content/drive/MyDrive/ASX annual reports/2004 (1359 firms)/awb04.pdf\n",
            "/content/drive/MyDrive/ASX annual reports/2004 (1359 firms)/avr04.pdf\n",
            "/content/drive/MyDrive/ASX annual reports/2004 (1359 firms)/avt04.pdf\n",
            "/content/drive/MyDrive/ASX annual reports/2004 (1359 firms)/awe04.pdf\n",
            "/content/drive/MyDrive/ASX annual reports/2004 (1359 firms)/awl04.pdf\n",
            "/content/drive/MyDrive/ASX annual reports/2004 (1359 firms)/avv04.pdf\n",
            "/content/drive/MyDrive/ASX annual reports/2004 (1359 firms)/awc04.pdf\n",
            "/content/drive/MyDrive/ASX annual reports/2004 (1359 firms)/axm04.pdf\n",
            "/content/drive/MyDrive/ASX annual reports/2004 (1359 firms)/axi04.pdf\n",
            "/content/drive/MyDrive/ASX annual reports/2004 (1359 firms)/axa04.pdf\n",
            "/content/drive/MyDrive/ASX annual reports/2004 (1359 firms)/azr04.pdf\n",
            "/content/drive/MyDrive/ASX annual reports/2004 (1359 firms)/ayo04.pdf\n",
            "/content/drive/MyDrive/ASX annual reports/2004 (1359 firms)/bar04.pdf\n",
            "/content/drive/MyDrive/ASX annual reports/2004 (1359 firms)/bbb04.pdf\n",
            "/content/drive/MyDrive/ASX annual reports/2004 (1359 firms)/awp04.pdf\n",
            "/content/drive/MyDrive/ASX annual reports/2004 (1359 firms)/atr04.pdf\n",
            "/content/drive/MyDrive/ASX annual reports/2004 (1359 firms)/bbg04.pdf\n",
            "/content/drive/MyDrive/ASX annual reports/2004 (1359 firms)/bax04.pdf\n",
            "/content/drive/MyDrive/ASX annual reports/2004 (1359 firms)/bbl04.pdf\n",
            "/content/drive/MyDrive/ASX annual reports/2004 (1359 firms)/bcd04.pdf\n",
            "/content/drive/MyDrive/ASX annual reports/2004 (1359 firms)/bds04.pdf\n",
            "/content/drive/MyDrive/ASX annual reports/2004 (1359 firms)/bcl04.pdf\n",
            "/content/drive/MyDrive/ASX annual reports/2004 (1359 firms)/bca04.pdf\n",
            "/content/drive/MyDrive/ASX annual reports/2004 (1359 firms)/bet04.pdf\n",
            "/content/drive/MyDrive/ASX annual reports/2004 (1359 firms)/bdl04.pdf\n",
            "/content/drive/MyDrive/ASX annual reports/2004 (1359 firms)/ben04.pdf\n",
            "/content/drive/MyDrive/ASX annual reports/2004 (1359 firms)/bel04.pdf\n",
            "/content/drive/MyDrive/ASX annual reports/2004 (1359 firms)/bfl04.pdf\n",
            "/content/drive/MyDrive/ASX annual reports/2004 (1359 firms)/bgd04.pdf\n",
            "/content/drive/MyDrive/ASX annual reports/2004 (1359 firms)/ber04.pdf\n",
            "/content/drive/MyDrive/ASX annual reports/2004 (1359 firms)/bgn04.pdf\n",
            "/content/drive/MyDrive/ASX annual reports/2004 (1359 firms)/bic04.pdf\n",
            "/content/drive/MyDrive/ASX annual reports/2004 (1359 firms)/bgf04.pdf\n",
            "/content/drive/MyDrive/ASX annual reports/2004 (1359 firms)/bit04.pdf\n",
            "/content/drive/MyDrive/ASX annual reports/2004 (1359 firms)/bka04.pdf\n",
            "/content/drive/MyDrive/ASX annual reports/2004 (1359 firms)/bhp04.pdf\n",
            "/content/drive/MyDrive/ASX annual reports/2004 (1359 firms)/bix04.pdf\n",
            "/content/drive/MyDrive/ASX annual reports/2004 (1359 firms)/bki04.pdf\n",
            "/content/drive/MyDrive/ASX annual reports/2004 (1359 firms)/bdg04.pdf\n",
            "/content/drive/MyDrive/ASX annual reports/2004 (1359 firms)/bkl04.pdf\n",
            "/content/drive/MyDrive/ASX annual reports/2004 (1359 firms)/bil04.pdf\n",
            "/content/drive/MyDrive/ASX annual reports/2004 (1359 firms)/bkw04.pdf\n",
            "/content/drive/MyDrive/ASX annual reports/2004 (1359 firms)/bkr04.pdf\n",
            "/content/drive/MyDrive/ASX annual reports/2004 (1359 firms)/bkm04.pdf\n",
            "/content/drive/MyDrive/ASX annual reports/2004 (1359 firms)/bkv04.pdf\n",
            "/content/drive/MyDrive/ASX annual reports/2004 (1359 firms)/blr04.pdf\n",
            "/content/drive/MyDrive/ASX annual reports/2004 (1359 firms)/bky04.pdf\n",
            "/content/drive/MyDrive/ASX annual reports/2004 (1359 firms)/bln04.pdf\n",
            "/content/drive/MyDrive/ASX annual reports/2004 (1359 firms)/bks04.pdf\n",
            "/content/drive/MyDrive/ASX annual reports/2004 (1359 firms)/blt04.pdf\n",
            "/content/drive/MyDrive/ASX annual reports/2004 (1359 firms)/bmo04.pdf\n",
            "/content/drive/MyDrive/ASX annual reports/2004 (1359 firms)/bne04.pdf\n",
            "/content/drive/MyDrive/ASX annual reports/2004 (1359 firms)/bld04.pdf\n",
            "/content/drive/MyDrive/ASX annual reports/2004 (1359 firms)/bmx04.pdf\n",
            "/content/drive/MyDrive/ASX annual reports/2004 (1359 firms)/blz04.pdf\n",
            "/content/drive/MyDrive/ASX annual reports/2004 (1359 firms)/blv04.pdf\n",
            "/content/drive/MyDrive/ASX annual reports/2004 (1359 firms)/bno04.pdf\n",
            "/content/drive/MyDrive/ASX annual reports/2004 (1359 firms)/boc04.pdf\n",
            "/content/drive/MyDrive/ASX annual reports/2004 (1359 firms)/bol04.pdf\n",
            "/content/drive/MyDrive/ASX annual reports/2004 (1359 firms)/bpc04.pdf\n",
            "/content/drive/MyDrive/ASX annual reports/2004 (1359 firms)/bos04.pdf\n",
            "/content/drive/MyDrive/ASX annual reports/2004 (1359 firms)/bqt04.pdf\n",
            "/content/drive/MyDrive/ASX annual reports/2004 (1359 firms)/bpo04.pdf\n",
            "/content/drive/MyDrive/ASX annual reports/2004 (1359 firms)/boq04.pdf\n",
            "/content/drive/MyDrive/ASX annual reports/2004 (1359 firms)/bpg04.pdf\n",
            "/content/drive/MyDrive/ASX annual reports/2004 (1359 firms)/bpt04.pdf\n",
            "/content/drive/MyDrive/ASX annual reports/2004 (1359 firms)/brc04.pdf\n",
            "/content/drive/MyDrive/ASX annual reports/2004 (1359 firms)/bro04.pdf\n",
            "/content/drive/MyDrive/ASX annual reports/2004 (1359 firms)/bsa04.pdf\n",
            "/content/drive/MyDrive/ASX annual reports/2004 (1359 firms)/bsn04.pdf\n",
            "/content/drive/MyDrive/ASX annual reports/2004 (1359 firms)/brz04.pdf\n",
            "/content/drive/MyDrive/ASX annual reports/2004 (1359 firms)/brw04.pdf\n",
            "/content/drive/MyDrive/ASX annual reports/2004 (1359 firms)/brk04.pdf\n",
            "/content/drive/MyDrive/ASX annual reports/2004 (1359 firms)/bso04.pdf\n",
            "/content/drive/MyDrive/ASX annual reports/2004 (1359 firms)/bsg04.pdf\n",
            "/content/drive/MyDrive/ASX annual reports/2004 (1359 firms)/bta04.pdf\n",
            "/content/drive/MyDrive/ASX annual reports/2004 (1359 firms)/btc04.pdf\n",
            "/content/drive/MyDrive/ASX annual reports/2004 (1359 firms)/btv04.pdf\n",
            "/content/drive/MyDrive/ASX annual reports/2004 (1359 firms)/buy04.pdf\n",
            "/content/drive/MyDrive/ASX annual reports/2004 (1359 firms)/bug04.pdf\n",
            "/content/drive/MyDrive/ASX annual reports/2004 (1359 firms)/byi04.pdf\n",
            "/content/drive/MyDrive/ASX annual reports/2004 (1359 firms)/bwp04.pdf\n",
            "/content/drive/MyDrive/ASX annual reports/2004 (1359 firms)/bwt04.pdf\n",
            "/content/drive/MyDrive/ASX annual reports/2004 (1359 firms)/bsl04.pdf\n",
            "/content/drive/MyDrive/ASX annual reports/2004 (1359 firms)/cag04.pdf\n",
            "/content/drive/MyDrive/ASX annual reports/2004 (1359 firms)/cal04.pdf\n",
            "/content/drive/MyDrive/ASX annual reports/2004 (1359 firms)/cbd04.pdf\n",
            "/content/drive/MyDrive/ASX annual reports/2004 (1359 firms)/caz04.pdf\n",
            "/content/drive/MyDrive/ASX annual reports/2004 (1359 firms)/cat04.pdf\n",
            "/content/drive/MyDrive/ASX annual reports/2004 (1359 firms)/caa04.pdf\n",
            "/content/drive/MyDrive/ASX annual reports/2004 (1359 firms)/cck04.pdf\n",
            "/content/drive/MyDrive/ASX annual reports/2004 (1359 firms)/cbh04.pdf\n",
            "/content/drive/MyDrive/ASX annual reports/2004 (1359 firms)/cab04.pdf\n",
            "/content/drive/MyDrive/ASX annual reports/2004 (1359 firms)/cch04.pdf\n",
            "/content/drive/MyDrive/ASX annual reports/2004 (1359 firms)/cba04.pdf\n",
            "/content/drive/MyDrive/ASX annual reports/2004 (1359 firms)/cbt04.pdf\n",
            "/content/drive/MyDrive/ASX annual reports/2004 (1359 firms)/ccl04.pdf\n",
            "/content/drive/MyDrive/ASX annual reports/2004 (1359 firms)/cco04.pdf\n",
            "/content/drive/MyDrive/ASX annual reports/2004 (1359 firms)/cce04.pdf\n",
            "/content/drive/MyDrive/ASX annual reports/2004 (1359 firms)/cdc04.pdf\n",
            "/content/drive/MyDrive/ASX annual reports/2004 (1359 firms)/ccv04.pdf\n",
            "/content/drive/MyDrive/ASX annual reports/2004 (1359 firms)/cdf04.pdf\n",
            "/content/drive/MyDrive/ASX annual reports/2004 (1359 firms)/cda04.pdf\n",
            "/content/drive/MyDrive/ASX annual reports/2004 (1359 firms)/ccp04.pdf\n",
            "/content/drive/MyDrive/ASX annual reports/2004 (1359 firms)/cdh04.pdf\n",
            "/content/drive/MyDrive/ASX annual reports/2004 (1359 firms)/cdl04.pdf\n",
            "/content/drive/MyDrive/ASX annual reports/2004 (1359 firms)/cdp04.pdf\n",
            "/content/drive/MyDrive/ASX annual reports/2004 (1359 firms)/cds04.pdf\n",
            "/content/drive/MyDrive/ASX annual reports/2004 (1359 firms)/cdx04.pdf\n",
            "/content/drive/MyDrive/ASX annual reports/2004 (1359 firms)/cdr04.pdf\n",
            "/content/drive/MyDrive/ASX annual reports/2004 (1359 firms)/cey04.pdf\n",
            "/content/drive/MyDrive/ASX annual reports/2004 (1359 firms)/cfi04.pdf\n",
            "/content/drive/MyDrive/ASX annual reports/2004 (1359 firms)/cfr04.pdf\n",
            "/content/drive/MyDrive/ASX annual reports/2004 (1359 firms)/cfs04.pdf\n",
            "/content/drive/MyDrive/ASX annual reports/2004 (1359 firms)/cgi04.pdf\n",
            "/content/drive/MyDrive/ASX annual reports/2004 (1359 firms)/cgm04.pdf\n",
            "/content/drive/MyDrive/ASX annual reports/2004 (1359 firms)/cep04.pdf\n",
            "/content/drive/MyDrive/ASX annual reports/2004 (1359 firms)/cgo04.pdf\n",
            "/content/drive/MyDrive/ASX annual reports/2004 (1359 firms)/cdo04.pdf\n",
            "/content/drive/MyDrive/ASX annual reports/2004 (1359 firms)/cgf04.pdf\n",
            "/content/drive/MyDrive/ASX annual reports/2004 (1359 firms)/chm04.pdf\n",
            "/content/drive/MyDrive/ASX annual reports/2004 (1359 firms)/cgx04.pdf\n",
            "/content/drive/MyDrive/ASX annual reports/2004 (1359 firms)/cho04.pdf\n",
            "/content/drive/MyDrive/ASX annual reports/2004 (1359 firms)/chl04.pdf\n",
            "/content/drive/MyDrive/ASX annual reports/2004 (1359 firms)/chf04.pdf\n",
            "/content/drive/MyDrive/ASX annual reports/2004 (1359 firms)/chp04.pdf\n",
            "/content/drive/MyDrive/ASX annual reports/2004 (1359 firms)/chr04.pdf\n",
            "/content/drive/MyDrive/ASX annual reports/2004 (1359 firms)/cid04.pdf\n",
            "/content/drive/MyDrive/ASX annual reports/2004 (1359 firms)/cin04.pdf\n",
            "/content/drive/MyDrive/ASX annual reports/2004 (1359 firms)/cir04.pdf\n",
            "/content/drive/MyDrive/ASX annual reports/2004 (1359 firms)/cht04.pdf\n",
            "/content/drive/MyDrive/ASX annual reports/2004 (1359 firms)/ciy04.pdf\n",
            "/content/drive/MyDrive/ASX annual reports/2004 (1359 firms)/chy04.pdf\n",
            "/content/drive/MyDrive/ASX annual reports/2004 (1359 firms)/chq04.pdf\n",
            "/content/drive/MyDrive/ASX annual reports/2004 (1359 firms)/cks04.pdf\n",
            "/content/drive/MyDrive/ASX annual reports/2004 (1359 firms)/ceq04.pdf\n",
            "/content/drive/MyDrive/ASX annual reports/2004 (1359 firms)/cll04.pdf\n",
            "/content/drive/MyDrive/ASX annual reports/2004 (1359 firms)/clh04.pdf\n",
            "/content/drive/MyDrive/ASX annual reports/2004 (1359 firms)/ckl04.pdf\n",
            "/content/drive/MyDrive/ASX annual reports/2004 (1359 firms)/ckr04.pdf\n",
            "/content/drive/MyDrive/ASX annual reports/2004 (1359 firms)/clk04.pdf\n",
            "/content/drive/MyDrive/ASX annual reports/2004 (1359 firms)/clt04.pdf\n",
            "/content/drive/MyDrive/ASX annual reports/2004 (1359 firms)/cmi04.pdf\n",
            "/content/drive/MyDrive/ASX annual reports/2004 (1359 firms)/clo04.pdf\n",
            "/content/drive/MyDrive/ASX annual reports/2004 (1359 firms)/cmo04.pdf\n",
            "/content/drive/MyDrive/ASX annual reports/2004 (1359 firms)/cmk04.pdf\n",
            "/content/drive/MyDrive/ASX annual reports/2004 (1359 firms)/clx04.pdf\n",
            "/content/drive/MyDrive/ASX annual reports/2004 (1359 firms)/cmq04.pdf\n",
            "/content/drive/MyDrive/ASX annual reports/2004 (1359 firms)/cmp04.pdf\n",
            "/content/drive/MyDrive/ASX annual reports/2004 (1359 firms)/cml04.pdf\n",
            "/content/drive/MyDrive/ASX annual reports/2004 (1359 firms)/clv04.pdf\n",
            "/content/drive/MyDrive/ASX annual reports/2004 (1359 firms)/cms04.pdf\n",
            "/content/drive/MyDrive/ASX annual reports/2004 (1359 firms)/cmr04.pdf\n",
            "/content/drive/MyDrive/ASX annual reports/2004 (1359 firms)/cmx04.pdf\n",
            "/content/drive/MyDrive/ASX annual reports/2004 (1359 firms)/cna04.pdf\n",
            "/content/drive/MyDrive/ASX annual reports/2004 (1359 firms)/cmw04.pdf\n",
            "/content/drive/MyDrive/ASX annual reports/2004 (1359 firms)/cne04.pdf\n",
            "/content/drive/MyDrive/ASX annual reports/2004 (1359 firms)/cnf04.pdf\n",
            "/content/drive/MyDrive/ASX annual reports/2004 (1359 firms)/cnr04.pdf\n",
            "/content/drive/MyDrive/ASX annual reports/2004 (1359 firms)/cnn04.pdf\n",
            "/content/drive/MyDrive/ASX annual reports/2004 (1359 firms)/cnd04.pdf\n",
            "/content/drive/MyDrive/ASX annual reports/2004 (1359 firms)/cnm04.pdf\n",
            "/content/drive/MyDrive/ASX annual reports/2004 (1359 firms)/cnb04.pdf\n",
            "/content/drive/MyDrive/ASX annual reports/2004 (1359 firms)/cnt04.pdf\n",
            "/content/drive/MyDrive/ASX annual reports/2004 (1359 firms)/coe04.pdf\n",
            "/content/drive/MyDrive/ASX annual reports/2004 (1359 firms)/coh04.pdf\n",
            "/content/drive/MyDrive/ASX annual reports/2004 (1359 firms)/coa04.pdf\n",
            "/content/drive/MyDrive/ASX annual reports/2004 (1359 firms)/cof04.pdf\n",
            "/content/drive/MyDrive/ASX annual reports/2004 (1359 firms)/cos04.pdf\n",
            "/content/drive/MyDrive/ASX annual reports/2004 (1359 firms)/coo04.pdf\n",
            "/content/drive/MyDrive/ASX annual reports/2004 (1359 firms)/com04.pdf\n",
            "/content/drive/MyDrive/ASX annual reports/2004 (1359 firms)/cpb04.pdf\n",
            "/content/drive/MyDrive/ASX annual reports/2004 (1359 firms)/cpa04.pdf\n",
            "/content/drive/MyDrive/ASX annual reports/2004 (1359 firms)/cpn04.pdf\n",
            "/content/drive/MyDrive/ASX annual reports/2004 (1359 firms)/cpi04.pdf\n",
            "/content/drive/MyDrive/ASX annual reports/2004 (1359 firms)/cpk04.pdf\n",
            "/content/drive/MyDrive/ASX annual reports/2004 (1359 firms)/cpc04.pdf\n",
            "/content/drive/MyDrive/ASX annual reports/2004 (1359 firms)/cps04.pdf\n",
            "/content/drive/MyDrive/ASX annual reports/2004 (1359 firms)/crm04.pdf\n",
            "/content/drive/MyDrive/ASX annual reports/2004 (1359 firms)/cqt04.pdf\n",
            "/content/drive/MyDrive/ASX annual reports/2004 (1359 firms)/crl04.pdf\n",
            "/content/drive/MyDrive/ASX annual reports/2004 (1359 firms)/cpu04.pdf\n",
            "/content/drive/MyDrive/ASX annual reports/2004 (1359 firms)/cou04.pdf\n",
            "/content/drive/MyDrive/ASX annual reports/2004 (1359 firms)/crd04.pdf\n",
            "/content/drive/MyDrive/ASX annual reports/2004 (1359 firms)/crg04.pdf\n",
            "/content/drive/MyDrive/ASX annual reports/2004 (1359 firms)/cre04.pdf\n",
            "/content/drive/MyDrive/ASX annual reports/2004 (1359 firms)/crt04.pdf\n",
            "/content/drive/MyDrive/ASX annual reports/2004 (1359 firms)/csg04.pdf\n",
            "/content/drive/MyDrive/ASX annual reports/2004 (1359 firms)/crp04.pdf\n",
            "/content/drive/MyDrive/ASX annual reports/2004 (1359 firms)/cru04.pdf\n",
            "/content/drive/MyDrive/ASX annual reports/2004 (1359 firms)/csl04.pdf\n",
            "/content/drive/MyDrive/ASX annual reports/2004 (1359 firms)/csh04.pdf\n",
            "/content/drive/MyDrive/ASX annual reports/2004 (1359 firms)/crs04.pdf\n",
            "/content/drive/MyDrive/ASX annual reports/2004 (1359 firms)/csy04.pdf\n",
            "/content/drive/MyDrive/ASX annual reports/2004 (1359 firms)/csm04.pdf\n",
            "/content/drive/MyDrive/ASX annual reports/2004 (1359 firms)/ctf04.pdf\n",
            "/content/drive/MyDrive/ASX annual reports/2004 (1359 firms)/cte04.pdf\n",
            "/content/drive/MyDrive/ASX annual reports/2004 (1359 firms)/cst04.pdf\n",
            "/content/drive/MyDrive/ASX annual reports/2004 (1359 firms)/csr04.pdf\n",
            "/content/drive/MyDrive/ASX annual reports/2004 (1359 firms)/ctl04.pdf\n",
            "/content/drive/MyDrive/ASX annual reports/2004 (1359 firms)/cti04.pdf\n",
            "/content/drive/MyDrive/ASX annual reports/2004 (1359 firms)/cty04.pdf\n",
            "/content/drive/MyDrive/ASX annual reports/2004 (1359 firms)/ctx04.pdf\n",
            "/content/drive/MyDrive/ASX annual reports/2004 (1359 firms)/cuo04.pdf\n",
            "/content/drive/MyDrive/ASX annual reports/2004 (1359 firms)/cto04.pdf\n",
            "/content/drive/MyDrive/ASX annual reports/2004 (1359 firms)/cus04.pdf\n",
            "/content/drive/MyDrive/ASX annual reports/2004 (1359 firms)/cvl04.pdf\n",
            "/content/drive/MyDrive/ASX annual reports/2004 (1359 firms)/cvc04.pdf\n",
            "/content/drive/MyDrive/ASX annual reports/2004 (1359 firms)/cue04.pdf\n",
            "/content/drive/MyDrive/ASX annual reports/2004 (1359 firms)/cvi04.pdf\n",
            "/content/drive/MyDrive/ASX annual reports/2004 (1359 firms)/cwg04.pdf\n",
            "/content/drive/MyDrive/ASX annual reports/2004 (1359 firms)/cvs04.pdf\n",
            "/content/drive/MyDrive/ASX annual reports/2004 (1359 firms)/cvn04.pdf\n",
            "/content/drive/MyDrive/ASX annual reports/2004 (1359 firms)/cwt04.pdf\n",
            "/content/drive/MyDrive/ASX annual reports/2004 (1359 firms)/cxl04.pdf\n"
          ]
        }
      ]
    },
    {
      "cell_type": "code",
      "metadata": {
        "colab": {
          "base_uri": "https://localhost:8080/"
        },
        "id": "_CkPkLl6B9G6",
        "outputId": "8a8c429d-bdfd-4fb6-fb79-932e1ed6f8a4"
      },
      "source": [
        "len(new_list3)"
      ],
      "execution_count": null,
      "outputs": [
        {
          "output_type": "execute_result",
          "data": {
            "text/plain": [
              "359"
            ]
          },
          "metadata": {},
          "execution_count": 9
        }
      ]
    },
    {
      "cell_type": "markdown",
      "metadata": {
        "id": "lNsmRIQCCmGM"
      },
      "source": [
        "So far, all PDF files in the selected folder are extracted. "
      ]
    },
    {
      "cell_type": "markdown",
      "metadata": {
        "id": "Z138QCYECuJE"
      },
      "source": [
        "## Step 4: Save each generated list as a json file"
      ]
    },
    {
      "cell_type": "code",
      "metadata": {
        "id": "zM31ikmIckTa"
      },
      "source": [
        "import json"
      ],
      "execution_count": null,
      "outputs": []
    },
    {
      "cell_type": "markdown",
      "metadata": {
        "id": "1YOn1qLbC_a0"
      },
      "source": [
        "### Step 4.1: List 1\n",
        "\n",
        "##### Step 4.1.1: Create json files"
      ]
    },
    {
      "cell_type": "code",
      "metadata": {
        "id": "hPJKUQ8Ea9U6"
      },
      "source": [
        "json1 = json.dumps(new_list1)    # convert a Python object into a json string\n",
        "\n",
        "# open file for writing, \"w\" \n",
        "f = open(\"2021_1.json\",\"w\")      # create a new json file, called 2021_1\n",
        "\n",
        "# write json object to file\n",
        "f.write(json1)                   \n",
        "\n",
        "# close file\n",
        "f.close()\n"
      ],
      "execution_count": null,
      "outputs": []
    },
    {
      "cell_type": "markdown",
      "metadata": {
        "id": "8y1Zt_GaExyW"
      },
      "source": [
        "##### Step 4.1.2: Save & upload the created json files\n",
        "\n",
        "##### (1) right click to save the json file into my local machine\n",
        "\n",
        "##### (2) upload the json file to my Google Drive\n",
        "\n",
        "##### (3) open the json file in Python"
      ]
    },
    {
      "cell_type": "code",
      "metadata": {
        "id": "GhI4F7p_a-AT"
      },
      "source": [
        "#Open JSON file\n",
        "a1 = open('/content/drive/MyDrive/NEW dataset - MAJ/2021/2021_1.json', 'r')\n",
        "output1 = a1.read()\n",
        "\n",
        "#Convert JSON file to python dictionary\n",
        "final_list1 = json.loads(output1)\n",
        "final_list1"
      ],
      "execution_count": null,
      "outputs": []
    },
    {
      "cell_type": "code",
      "metadata": {
        "colab": {
          "base_uri": "https://localhost:8080/"
        },
        "id": "gu_4tFtuhx1u",
        "outputId": "f3749ddf-dfda-44ca-a29e-2292b486cde9"
      },
      "source": [
        "type(final_list1)"
      ],
      "execution_count": null,
      "outputs": [
        {
          "output_type": "execute_result",
          "data": {
            "text/plain": [
              "dict"
            ]
          },
          "metadata": {},
          "execution_count": 12
        }
      ]
    },
    {
      "cell_type": "markdown",
      "metadata": {
        "id": "VhQesR6VMD9F"
      },
      "source": [
        "### Step 4.2: List 2"
      ]
    },
    {
      "cell_type": "code",
      "metadata": {
        "id": "Hj4xme7LtTVa"
      },
      "source": [
        "json2 = json.dumps(new_list2)\n",
        "\n",
        "# open file for writing, \"w\" \n",
        "f = open(\"2021_2.json\",\"w\")\n",
        "\n",
        "# write json object to file\n",
        "f.write(json2)\n",
        "\n",
        "# close file\n",
        "f.close()"
      ],
      "execution_count": null,
      "outputs": []
    },
    {
      "cell_type": "code",
      "metadata": {
        "id": "FEpLsAjvtUg0"
      },
      "source": [
        "#Open JSON file\n",
        "a2 = open('/content/drive/MyDrive/NEW dataset - MAJ/2021/2021_2.json', 'r')\n",
        "output2 = a2.read()\n",
        "\n",
        "#Convert JSON file to python dictionary\n",
        "final_list2 = json.loads(output2)\n",
        "final_list2"
      ],
      "execution_count": null,
      "outputs": []
    },
    {
      "cell_type": "code",
      "metadata": {
        "colab": {
          "base_uri": "https://localhost:8080/"
        },
        "id": "9zPVzWZ5zBeP",
        "outputId": "7a1d7f97-2fd3-470f-e7bd-6e900fc88587"
      },
      "source": [
        "type(final_list2)"
      ],
      "execution_count": null,
      "outputs": [
        {
          "output_type": "execute_result",
          "data": {
            "text/plain": [
              "dict"
            ]
          },
          "metadata": {},
          "execution_count": 17
        }
      ]
    },
    {
      "cell_type": "markdown",
      "metadata": {
        "id": "guOc46mLNEcl"
      },
      "source": [
        "### Step 4.3: List 3 (no need for 2021)"
      ]
    },
    {
      "cell_type": "code",
      "metadata": {
        "id": "mjD349vjuLKG"
      },
      "source": [
        "json3 = json.dumps(new_list3)\n",
        "\n",
        "# open file for writing, \"w\" \n",
        "f = open(\"2021_3.json\",\"w\")\n",
        "\n",
        "# write json object to file\n",
        "f.write(json3)\n",
        "\n",
        "# close file\n",
        "f.close()"
      ],
      "execution_count": null,
      "outputs": []
    },
    {
      "cell_type": "code",
      "metadata": {
        "id": "SyZv4RUKuOXI"
      },
      "source": [
        "#Open JSON file\n",
        "a3 = open('/content/drive/MyDrive/NEW dataset - MAJ/2021/2021_3.json', 'r')\n",
        "output3 = a3.read()\n",
        "\n",
        "#Convert JSON file to python dictionary\n",
        "final_list3 = json.loads(output3)\n",
        "final_list3"
      ],
      "execution_count": null,
      "outputs": []
    },
    {
      "cell_type": "code",
      "metadata": {
        "id": "PkPuc3HIzFOO"
      },
      "source": [
        "type(final_list3)"
      ],
      "execution_count": null,
      "outputs": []
    },
    {
      "cell_type": "markdown",
      "metadata": {
        "id": "AIyIQ5-eOBkN"
      },
      "source": [
        "So far, all three json files are saved in Google Drive."
      ]
    },
    {
      "cell_type": "markdown",
      "metadata": {
        "id": "MmIQsoA1FzSN"
      },
      "source": [
        "## Step 5: Combine all three individual dictionaries (only two for 2021)"
      ]
    },
    {
      "cell_type": "code",
      "metadata": {
        "id": "LoRAv9s6uhUC"
      },
      "source": [
        "#Combine all dictionaries\n",
        "#final_list = {**final_list1, **final_list2, **final_list3}\n",
        "\n",
        "final_list = {**final_list1, **final_list2}"
      ],
      "execution_count": null,
      "outputs": []
    },
    {
      "cell_type": "code",
      "metadata": {
        "id": "Il2oO_VbumyA"
      },
      "source": [
        "json_final = json.dumps(final_list)\n",
        "\n",
        "# open file for writing, \"w\" \n",
        "f = open(\"2021_final.json\",\"w\")\n",
        "\n",
        "# write json object to file\n",
        "f.write(json_final)\n",
        "\n",
        "# close file\n",
        "f.close()"
      ],
      "execution_count": null,
      "outputs": []
    },
    {
      "cell_type": "code",
      "metadata": {
        "id": "TDGMyZEEusvO"
      },
      "source": [
        "#Open JSON file\n",
        "a = open('/content/drive/MyDrive/NEW dataset - MAJ/2021/2021_final.json', 'r')\n",
        "output = a.read()\n",
        "\n",
        "#Convert JSON file to python dictionary\n",
        "final_list = json.loads(output)\n",
        "final_list"
      ],
      "execution_count": null,
      "outputs": []
    },
    {
      "cell_type": "code",
      "metadata": {
        "colab": {
          "base_uri": "https://localhost:8080/"
        },
        "id": "pYF6h2hadqds",
        "outputId": "17482b34-0b20-4fbf-ccaf-f7ecb9b70300"
      },
      "source": [
        "len(final_list)"
      ],
      "execution_count": null,
      "outputs": [
        {
          "output_type": "execute_result",
          "data": {
            "text/plain": [
              "774"
            ]
          },
          "metadata": {},
          "execution_count": 21
        }
      ]
    },
    {
      "cell_type": "markdown",
      "metadata": {
        "id": "9gH6_qLtHkzw"
      },
      "source": [
        "# All done!"
      ]
    },
    {
      "cell_type": "code",
      "metadata": {
        "id": "kvnCMOQGCWvS"
      },
      "source": [
        "pagen=[]\n",
        "for file in file_list:\n",
        "  # print(file)\n",
        "  n=(file.split('.pdf',0))\n",
        "  \n",
        "  \n",
        "  if file.endswith(\".pdf\"):\n",
        "    try:\n",
        "      with pdfplumber.open(file) as pdf:\n",
        "        pagen.append(len(pdf.pages))\n",
        "    except:\n",
        "        pagen.append('N/A')\n",
        "    finally:  \n",
        "      pass"
      ],
      "execution_count": null,
      "outputs": []
    },
    {
      "cell_type": "code",
      "metadata": {
        "id": "-bJUTa3rCh6r"
      },
      "source": [
        "#Readability + word count\n",
        "sc = []\n",
        "gf=[]\n",
        "kg=[]\n",
        "ke=[]\n",
        "dc=[]\n",
        "word_count=[]\n",
        "\n",
        "for k,v in final_list.items():\n",
        "  # print(k)\n",
        "  # print(len(v))\n",
        "  try:\n",
        "    sc.append(textstat.sentence_count(v))\n",
        "    gf.append(textstat.gunning_fog(v))\n",
        "    kg.append(textstat.flesch_kincaid_grade(v))\n",
        "    ke.append(textstat.flesch_reading_ease(v))\n",
        "    dc.append(textstat.dale_chall_readability_score(v))\n",
        "    word_count.append(textstat.lexicon_count(v, removepunct=True))\n",
        "    \n",
        "  except:\n",
        "    pass"
      ],
      "execution_count": null,
      "outputs": []
    },
    {
      "cell_type": "code",
      "metadata": {
        "id": "48zunr9JCmEe"
      },
      "source": [
        "asxcode=[]\n",
        "fyear=[]\n",
        "\n",
        "\n",
        "for file in file_list:\n",
        "  try:\n",
        "    n=(file.split('.pdf',0))\n",
        "    asxcode.append((file.rsplit('/content/drive/MyDrive/ASX annual reports/2004 (1359 firms)/')[1][0:3]).upper())\n",
        "    fyear.append((file.rsplit('/content/drive/MyDrive/ASX annual reports/2004 (1359 firms)/')[1][3:5]))\n",
        "    \n",
        "  except:\n",
        "    pass\n",
        "  "
      ],
      "execution_count": null,
      "outputs": []
    },
    {
      "cell_type": "code",
      "metadata": {
        "id": "8Gsj7y4hCmkT"
      },
      "source": [
        "from itertools import zip_longest\n",
        "data = [asxcode, fyear, sc, gf, kg, ke, dc, word_count, pagen]\n",
        "export_data = zip_longest(*data, fillvalue = '')\n",
        "with open('/content/drive/MyDrive/MAJ trial/NEW 2004 results.csv', 'w', encoding=\"ISO-8859-1\", newline='') as file:\n",
        "      write = csv.writer(file)\n",
        "      write.writerow(('asxcode', 'fyear', 'sc', 'gf', 'kg', 'ke', 'dc', 'word_count', 'pagen'))\n",
        "      write.writerows(export_data)"
      ],
      "execution_count": null,
      "outputs": []
    }
  ]
}