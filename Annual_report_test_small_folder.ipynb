{
  "nbformat": 4,
  "nbformat_minor": 0,
  "metadata": {
    "colab": {
      "name": "Annual report test - small folder",
      "provenance": [],
      "include_colab_link": true
    },
    "kernelspec": {
      "name": "python3",
      "display_name": "Python 3"
    },
    "language_info": {
      "name": "python"
    }
  },
  "cells": [
    {
      "cell_type": "markdown",
      "metadata": {
        "id": "view-in-github",
        "colab_type": "text"
      },
      "source": [
        "<a href=\"https://colab.research.google.com/github/ChristoferAdrian/Annual-report-readability/blob/main/Annual_report_test_small_folder.ipynb\" target=\"_parent\"><img src=\"https://colab.research.google.com/assets/colab-badge.svg\" alt=\"Open In Colab\"/></a>"
      ]
    },
    {
      "cell_type": "code",
      "metadata": {
        "colab": {
          "base_uri": "https://localhost:8080/"
        },
        "id": "izEVi1wasicJ",
        "outputId": "91141efe-280e-43d7-f388-d62f8b14f9ed"
      },
      "source": [
        "!pip install textstat\n",
        "!pip install PyPDF2\n",
        "!pip install -U textblob\n",
        "!pip install pdfplumber\n",
        "import os\n",
        "import glob\n",
        "import textstat\n",
        "import csv\n",
        "import PyPDF2\n",
        "from textblob import TextBlob\n",
        "import pdfplumber"
      ],
      "execution_count": null,
      "outputs": [
        {
          "output_type": "stream",
          "name": "stdout",
          "text": [
            "Collecting textstat\n",
            "  Downloading textstat-0.7.2-py3-none-any.whl (101 kB)\n",
            "\u001b[?25l\r\u001b[K     |███▏                            | 10 kB 25.9 MB/s eta 0:00:01\r\u001b[K     |██████▍                         | 20 kB 30.2 MB/s eta 0:00:01\r\u001b[K     |█████████▋                      | 30 kB 20.0 MB/s eta 0:00:01\r\u001b[K     |████████████▉                   | 40 kB 16.0 MB/s eta 0:00:01\r\u001b[K     |████████████████                | 51 kB 9.1 MB/s eta 0:00:01\r\u001b[K     |███████████████████▎            | 61 kB 8.4 MB/s eta 0:00:01\r\u001b[K     |██████████████████████▌         | 71 kB 8.9 MB/s eta 0:00:01\r\u001b[K     |█████████████████████████▊      | 81 kB 9.8 MB/s eta 0:00:01\r\u001b[K     |█████████████████████████████   | 92 kB 10.2 MB/s eta 0:00:01\r\u001b[K     |████████████████████████████████| 101 kB 4.7 MB/s \n",
            "\u001b[?25hCollecting pyphen\n",
            "  Downloading pyphen-0.11.0-py3-none-any.whl (2.0 MB)\n",
            "\u001b[K     |████████████████████████████████| 2.0 MB 65.7 MB/s \n",
            "\u001b[?25hInstalling collected packages: pyphen, textstat\n",
            "Successfully installed pyphen-0.11.0 textstat-0.7.2\n",
            "Collecting PyPDF2\n",
            "  Downloading PyPDF2-1.26.0.tar.gz (77 kB)\n",
            "\u001b[K     |████████████████████████████████| 77 kB 3.3 MB/s \n",
            "\u001b[?25hBuilding wheels for collected packages: PyPDF2\n",
            "  Building wheel for PyPDF2 (setup.py) ... \u001b[?25l\u001b[?25hdone\n",
            "  Created wheel for PyPDF2: filename=PyPDF2-1.26.0-py3-none-any.whl size=61101 sha256=1961c2a46ee78fc516f3f94143f7deef87f9b46f06f9ead421fda6b210a04f5c\n",
            "  Stored in directory: /root/.cache/pip/wheels/80/1a/24/648467ade3a77ed20f35cfd2badd32134e96dd25ca811e64b3\n",
            "Successfully built PyPDF2\n",
            "Installing collected packages: PyPDF2\n",
            "Successfully installed PyPDF2-1.26.0\n",
            "Requirement already satisfied: textblob in /usr/local/lib/python3.7/dist-packages (0.15.3)\n",
            "Requirement already satisfied: nltk>=3.1 in /usr/local/lib/python3.7/dist-packages (from textblob) (3.2.5)\n",
            "Requirement already satisfied: six in /usr/local/lib/python3.7/dist-packages (from nltk>=3.1->textblob) (1.15.0)\n",
            "Collecting pdfplumber\n",
            "  Downloading pdfplumber-0.5.28.tar.gz (45 kB)\n",
            "\u001b[K     |████████████████████████████████| 45 kB 2.1 MB/s \n",
            "\u001b[?25hCollecting pdfminer.six==20200517\n",
            "  Downloading pdfminer.six-20200517-py3-none-any.whl (5.6 MB)\n",
            "\u001b[K     |████████████████████████████████| 5.6 MB 15.2 MB/s \n",
            "\u001b[?25hRequirement already satisfied: Pillow>=7.0.0 in /usr/local/lib/python3.7/dist-packages (from pdfplumber) (7.1.2)\n",
            "Collecting Wand\n",
            "  Downloading Wand-0.6.7-py2.py3-none-any.whl (139 kB)\n",
            "\u001b[K     |████████████████████████████████| 139 kB 54.4 MB/s \n",
            "\u001b[?25hRequirement already satisfied: chardet in /usr/local/lib/python3.7/dist-packages (from pdfminer.six==20200517->pdfplumber) (3.0.4)\n",
            "Collecting pycryptodome\n",
            "  Downloading pycryptodome-3.10.4-cp35-abi3-manylinux2010_x86_64.whl (1.9 MB)\n",
            "\u001b[K     |████████████████████████████████| 1.9 MB 40.3 MB/s \n",
            "\u001b[?25hRequirement already satisfied: sortedcontainers in /usr/local/lib/python3.7/dist-packages (from pdfminer.six==20200517->pdfplumber) (2.4.0)\n",
            "Building wheels for collected packages: pdfplumber\n",
            "  Building wheel for pdfplumber (setup.py) ... \u001b[?25l\u001b[?25hdone\n",
            "  Created wheel for pdfplumber: filename=pdfplumber-0.5.28-py3-none-any.whl size=32240 sha256=a392356060dc4f49684ee96ec260c4d96ab5b4ae292fb73a7b5206f1c23ebd56\n",
            "  Stored in directory: /root/.cache/pip/wheels/f2/b1/a0/c0a77b756d580f53b3806ae0e0b3ec945a8d05fca1d6e10cc1\n",
            "Successfully built pdfplumber\n",
            "Installing collected packages: pycryptodome, Wand, pdfminer.six, pdfplumber\n",
            "Successfully installed Wand-0.6.7 pdfminer.six-20200517 pdfplumber-0.5.28 pycryptodome-3.10.4\n"
          ]
        }
      ]
    },
    {
      "cell_type": "code",
      "metadata": {
        "colab": {
          "base_uri": "https://localhost:8080/"
        },
        "id": "q1mRC6_qsofR",
        "outputId": "64420ab6-afea-48ae-e4d6-7d95e825f0f1"
      },
      "source": [
        "from google.colab import drive\n",
        "drive.mount('/content/drive')"
      ],
      "execution_count": null,
      "outputs": [
        {
          "output_type": "stream",
          "name": "stdout",
          "text": [
            "Mounted at /content/drive\n"
          ]
        }
      ]
    },
    {
      "cell_type": "code",
      "metadata": {
        "id": "ua612vczs8BJ"
      },
      "source": [
        "TARGET_FILES = r'/content/drive/MyDrive/Annual report/*.pdf'\n",
        "file_list = glob.glob(TARGET_FILES)"
      ],
      "execution_count": null,
      "outputs": []
    },
    {
      "cell_type": "code",
      "metadata": {
        "colab": {
          "base_uri": "https://localhost:8080/"
        },
        "id": "7muXRbOun9U7",
        "outputId": "53cdb474-8c42-419e-a721-6c0e1f88730c"
      },
      "source": [
        "print(file_list)"
      ],
      "execution_count": null,
      "outputs": [
        {
          "output_type": "stream",
          "name": "stdout",
          "text": [
            "['/content/drive/MyDrive/Annual report/bxb21.pdf', '/content/drive/MyDrive/Annual report/col21_02408239.pdf', '/content/drive/MyDrive/Annual report/cba21_02405695.pdf', '/content/drive/MyDrive/Annual report/bxb21_02408008.pdf', '/content/drive/MyDrive/Annual report/csl21_02408149.pdf', '/content/drive/MyDrive/Annual report/csl21_02417273.pdf', '/content/drive/MyDrive/Annual report/apt21_02411484.pdf', '/content/drive/MyDrive/Annual report/cba21.pdf', '/content/drive/MyDrive/Annual report/apt21.pdf', '/content/drive/MyDrive/Annual report/tcl21.pdf', '/content/drive/MyDrive/Annual report/fmg21_02414191.pdf', '/content/drive/MyDrive/Annual report/mqg21_02372430.pdf', '/content/drive/MyDrive/Annual report/fmg21_02414165.pdf', '/content/drive/MyDrive/Annual report/gmg21_02406147.pdf', '/content/drive/MyDrive/Annual report/mqg21.pdf', '/content/drive/MyDrive/Annual report/tls21_02413312.pdf', '/content/drive/MyDrive/Annual report/ncm21_02408862.pdf', '/content/drive/MyDrive/Annual report/tcl21_02404785.pdf', '/content/drive/MyDrive/Annual report/tls21_02413297.pdf', '/content/drive/MyDrive/Annual report/tls21_02406107.pdf', '/content/drive/MyDrive/Annual report/wes21_02413181.pdf', '/content/drive/MyDrive/Annual report/wow21.pdf', '/content/drive/MyDrive/Annual report/wow21_02412562.pdf', '/content/drive/MyDrive/Annual report/wes21_02413190.pdf']\n"
          ]
        }
      ]
    },
    {
      "cell_type": "code",
      "metadata": {
        "id": "rwQxB_hUtQPK"
      },
      "source": [
        "# new_list={}\n",
        "# name=[]\n",
        "# size=[]\n",
        "# pagen=[]\n",
        "# for file in file_list:\n",
        "#   print(file)\n",
        "#   n=(file.split('.pdf',0))\n",
        "#   name+=n\n",
        "#   size.append((os.stat(file).st_size)/1000000)\n",
        "    \n",
        "  \n",
        "#   if file.endswith(\".pdf\"):\n",
        "#     with open (file,'rb') as pdfobject:\n",
        "#       pdfreader=PyPDF2.PdfFileReader(pdfobject)\n",
        "#       page_numbers=pdfreader.numPages\n",
        "#       pagen.append(page_numbers)\n",
        "#       if pdfreader.isEncrypted == True:\n",
        "#         pass\n",
        "#       else:\n",
        "#           currentpage = 0\n",
        "#           text = \"\"\n",
        "#           while (currentpage <page_numbers):\n",
        "#             page=pdfreader.getPage(currentpage)\n",
        "#             try:\n",
        "#               text= text + page.extractText()\n",
        "#             except:\n",
        "#               print(currentpage) #to print the error page\n",
        "#             currentpage +=1\n",
        "#     new_list[file]=(text) "
      ],
      "execution_count": null,
      "outputs": []
    },
    {
      "cell_type": "code",
      "metadata": {
        "colab": {
          "base_uri": "https://localhost:8080/"
        },
        "id": "-UGuhBjCZPeA",
        "outputId": "f8add106-9220-4e00-85c2-cd3d5e71eab8"
      },
      "source": [
        "new_list={}\n",
        "name=[]\n",
        "size=[]\n",
        "pagen=[]\n",
        "for file in file_list:\n",
        "  print(file)\n",
        "  n=(file.split('.pdf',0))\n",
        "  name+=n\n",
        "  size.append((os.stat(file).st_size)/1000000)\n",
        "  \n",
        "  \n",
        "  if file.endswith(\".pdf\"):\n",
        "    fulltext = \"\"\n",
        "    with pdfplumber.open(file) as pdf:\n",
        "      pagen.append(len(pdf.pages))\n",
        "      for page in pdf.pages:\n",
        "        text = page.extract_text()\n",
        "        fulltext += str(text).lower()\n",
        "        \n",
        "    new_list[file]=(fulltext) "
      ],
      "execution_count": null,
      "outputs": [
        {
          "output_type": "stream",
          "name": "stdout",
          "text": [
            "/content/drive/MyDrive/Annual report/bxb21.pdf\n",
            "/content/drive/MyDrive/Annual report/col21_02408239.pdf\n",
            "/content/drive/MyDrive/Annual report/cba21_02405695.pdf\n",
            "/content/drive/MyDrive/Annual report/bxb21_02408008.pdf\n",
            "/content/drive/MyDrive/Annual report/csl21_02408149.pdf\n",
            "/content/drive/MyDrive/Annual report/csl21_02417273.pdf\n",
            "/content/drive/MyDrive/Annual report/apt21_02411484.pdf\n",
            "/content/drive/MyDrive/Annual report/cba21.pdf\n",
            "/content/drive/MyDrive/Annual report/apt21.pdf\n",
            "/content/drive/MyDrive/Annual report/tcl21.pdf\n",
            "/content/drive/MyDrive/Annual report/fmg21_02414191.pdf\n",
            "/content/drive/MyDrive/Annual report/mqg21_02372430.pdf\n",
            "/content/drive/MyDrive/Annual report/fmg21_02414165.pdf\n",
            "/content/drive/MyDrive/Annual report/gmg21_02406147.pdf\n",
            "/content/drive/MyDrive/Annual report/mqg21.pdf\n",
            "/content/drive/MyDrive/Annual report/tls21_02413312.pdf\n",
            "/content/drive/MyDrive/Annual report/ncm21_02408862.pdf\n",
            "/content/drive/MyDrive/Annual report/tcl21_02404785.pdf\n",
            "/content/drive/MyDrive/Annual report/tls21_02413297.pdf\n",
            "/content/drive/MyDrive/Annual report/tls21_02406107.pdf\n",
            "/content/drive/MyDrive/Annual report/wes21_02413181.pdf\n",
            "/content/drive/MyDrive/Annual report/wow21.pdf\n",
            "/content/drive/MyDrive/Annual report/wow21_02412562.pdf\n",
            "/content/drive/MyDrive/Annual report/wes21_02413190.pdf\n"
          ]
        }
      ]
    },
    {
      "cell_type": "code",
      "metadata": {
        "colab": {
          "base_uri": "https://localhost:8080/"
        },
        "id": "bMbuGEnAOQ0p",
        "outputId": "8a3cf017-e76b-43a1-a361-633243c28baf"
      },
      "source": [
        "sc=[]\n",
        "st=[]\n",
        "ct=[]\n",
        "count_sustainability=[]\n",
        "count_sustainable=[]\n",
        "count_covid=[]\n",
        "count_online=[]\n",
        "count_ecommerce=[]\n",
        "count_internet=[]\n",
        "count_cp=[]\n",
        "count_climate_change=[]\n",
        "count_climate_risk=[]\n",
        "count_climate_action=[]\n",
        "for k,v in new_list.items():\n",
        "  print(k)\n",
        "  print(len(v))\n",
        "  sc.append(textstat.sentence_count(v))\n",
        "  st.append(textstat.text_standard(v))\n",
        "  ct.append(textstat.lexicon_count(v, removepunct=True))\n",
        "  count_sustainability.append((v.count('sustainability')))\n",
        "  count_sustainable.append((v.count('sustainable')))\n",
        "  count_covid.append((v.count('covid')))\n",
        "  count_online.append((v.count('online')))\n",
        "  count_ecommerce.append((v.count('e-commerce')))\n",
        "  count_internet.append((v.count('internet')))\n",
        "  count_cp.append((v.count('click and pick')))\n",
        "  count_climate_change.append((v.count('climate change')))\n",
        "  count_climate_risk.append((v.count('climate risk')))\n",
        "  count_climate_action.append((v.count('climate action')))"
      ],
      "execution_count": null,
      "outputs": [
        {
          "output_type": "stream",
          "name": "stdout",
          "text": [
            "/content/drive/MyDrive/Annual report/bxb21.pdf\n",
            "407172\n",
            "/content/drive/MyDrive/Annual report/col21_02408239.pdf\n",
            "335617\n",
            "/content/drive/MyDrive/Annual report/cba21_02405695.pdf\n",
            "107490\n",
            "/content/drive/MyDrive/Annual report/bxb21_02408008.pdf\n",
            "121542\n",
            "/content/drive/MyDrive/Annual report/csl21_02408149.pdf\n",
            "333497\n",
            "/content/drive/MyDrive/Annual report/csl21_02417273.pdf\n",
            "545877\n",
            "/content/drive/MyDrive/Annual report/apt21_02411484.pdf\n",
            "100064\n",
            "/content/drive/MyDrive/Annual report/cba21.pdf\n",
            "1902344\n",
            "/content/drive/MyDrive/Annual report/apt21.pdf\n",
            "365947\n",
            "/content/drive/MyDrive/Annual report/tcl21.pdf\n",
            "1757029\n",
            "/content/drive/MyDrive/Annual report/fmg21_02414191.pdf\n",
            "86096\n",
            "/content/drive/MyDrive/Annual report/mqg21_02372430.pdf\n",
            "76299\n",
            "/content/drive/MyDrive/Annual report/fmg21_02414165.pdf\n",
            "409410\n",
            "/content/drive/MyDrive/Annual report/gmg21_02406147.pdf\n",
            "650868\n",
            "/content/drive/MyDrive/Annual report/mqg21.pdf\n",
            "949471\n",
            "/content/drive/MyDrive/Annual report/tls21_02413312.pdf\n",
            "131285\n",
            "/content/drive/MyDrive/Annual report/ncm21_02408862.pdf\n",
            "535648\n",
            "/content/drive/MyDrive/Annual report/tcl21_02404785.pdf\n",
            "69766\n",
            "/content/drive/MyDrive/Annual report/tls21_02413297.pdf\n",
            "894640\n",
            "/content/drive/MyDrive/Annual report/tls21_02406107.pdf\n",
            "566979\n",
            "/content/drive/MyDrive/Annual report/wes21_02413181.pdf\n",
            "722043\n",
            "/content/drive/MyDrive/Annual report/wow21.pdf\n",
            "930415\n",
            "/content/drive/MyDrive/Annual report/wow21_02412562.pdf\n",
            "80055\n",
            "/content/drive/MyDrive/Annual report/wes21_02413190.pdf\n",
            "112229\n"
          ]
        }
      ]
    },
    {
      "cell_type": "code",
      "metadata": {
        "id": "TJrbl4kPtW8h"
      },
      "source": [
        "# gf=[]\n",
        "# kg=[]\n",
        "# ke=[]\n",
        "# dc=[]\n",
        "# sc=[]\n",
        "# dif=[]\n",
        "# st=[]\n",
        "# ct=[]\n",
        "# sep=[]\n",
        "# ses=[]\n",
        "# count_sustainability=[]\n",
        "# count_sustainable=[]\n",
        "# count_covid=[]\n",
        "# count_loss=[]\n",
        "\n",
        "# for test in new_list:\n",
        "#   # print(test)\n",
        "#   #print(textstat.gunning_fog(test))\n",
        "#   #print(textstat.lexicon_count(test, removepunct=True))\n",
        "#   gf.append(textstat.gunning_fog(new_list[test]))\n",
        "#   kg.append(textstat.flesch_kincaid_grade(new_list[test]))\n",
        "#   ke.append(textstat.flesch_reading_ease(new_list[test]))\n",
        "#   dc.append(textstat.dale_chall_readability_score(new_list[test]))\n",
        "#   sc.append(textstat.sentence_count(new_list[test]))\n",
        "#   dif.append(textstat.difficult_words(new_list[test]))\n",
        "#   st.append(textstat.text_standard(new_list[test]))\n",
        "#   ct.append(textstat.lexicon_count(new_list[test], removepunct=True))\n",
        "#   sep.append(TextBlob(new_list[test]).sentiment.polarity)\n",
        "#   ses.append(TextBlob(new_list[test]).sentiment.subjectivity)\n",
        "#   count_sustainability.append((new_list[test]).count('sustainability'))\n",
        "#   count_sustainable.append((new_list[test]).count('sustainable'))\n",
        "#   count_covid.append((new_list[test]).count('covid')) \n",
        "#   count_loss.append((new_list[test]).count('loss'))\n"
      ],
      "execution_count": null,
      "outputs": []
    },
    {
      "cell_type": "code",
      "metadata": {
        "id": "aWMgWNvMOUuY"
      },
      "source": [
        "#Create variable sustain_intense --> how many times the word \"sustainability\" is disclosed\n",
        "#if >= 50 --> coded 50, if < 50 --> use the number\n",
        "\n",
        "sustain_intense=[]\n",
        "for i in count_sustainability:\n",
        "  if i >=50:\n",
        "    sustain_intense.append(50)\n",
        "  else:\n",
        "    sustain_intense.append(i)"
      ],
      "execution_count": null,
      "outputs": []
    },
    {
      "cell_type": "code",
      "metadata": {
        "colab": {
          "base_uri": "https://localhost:8080/"
        },
        "id": "Lq0svKEHK6Vw",
        "outputId": "c730b627-fe4a-45d4-8501-1699baedc74b"
      },
      "source": [
        "#Create variable sustain_intense_totalwords (count_sustainability/total words) and sustain_intense_pagen (count_sustainability/pagen)\n",
        "\n",
        "sustainability_totalwords_pagen = list(zip(count_sustainability, ct,pagen))\n",
        "sustainability_totalwords_pagen"
      ],
      "execution_count": null,
      "outputs": [
        {
          "output_type": "execute_result",
          "data": {
            "text/plain": [
              "[(45, 59812, 146),\n",
              " (47, 48559, 119),\n",
              " (0, 15944, 33),\n",
              " (23, 18190, 31),\n",
              " (19, 49895, 119),\n",
              " (38, 82124, 165),\n",
              " (3, 14988, 30),\n",
              " (210, 298135, 312),\n",
              " (11, 53988, 158),\n",
              " (117, 214586, 230),\n",
              " (16, 12367, 34),\n",
              " (2, 10924, 20),\n",
              " (51, 61587, 169),\n",
              " (58, 82373, 212),\n",
              " (19, 146699, 308),\n",
              " (26, 19815, 38),\n",
              " (34, 77417, 188),\n",
              " (20, 9870, 14),\n",
              " (46, 134333, 177),\n",
              " (10, 85242, 166),\n",
              " (76, 108379, 185),\n",
              " (80, 140593, 171),\n",
              " (21, 11702, 29),\n",
              " (9, 16237, 33)]"
            ]
          },
          "metadata": {},
          "execution_count": 30
        }
      ]
    },
    {
      "cell_type": "code",
      "metadata": {
        "id": "-CG7CSqpNtNK"
      },
      "source": [
        "sustain_intense_totalwords = []\n",
        "sustain_intense_pagen = []\n",
        "for a,b,c in sustainability_totalwords_pagen:\n",
        "  sustain_intense_totalwords.append(a/b)\n",
        "  sustain_intense_pagen.append(a/c)"
      ],
      "execution_count": null,
      "outputs": []
    },
    {
      "cell_type": "code",
      "metadata": {
        "colab": {
          "base_uri": "https://localhost:8080/"
        },
        "id": "_JV2SaSCN5m0",
        "outputId": "b9d7b944-bbfb-440d-a581-1e3186c40b27"
      },
      "source": [
        "sustain_intense_totalwords"
      ],
      "execution_count": null,
      "outputs": [
        {
          "output_type": "execute_result",
          "data": {
            "text/plain": [
              "[0.0007523573864776299,\n",
              " 0.0009678947260034185,\n",
              " 0.0,\n",
              " 0.0012644310060472787,\n",
              " 0.00038079967932658584,\n",
              " 0.00046271491890312213,\n",
              " 0.00020016012810248197,\n",
              " 0.0007043788887584483,\n",
              " 0.00020374898125509371,\n",
              " 0.0005452359426989645,\n",
              " 0.0012937656666936201,\n",
              " 0.0001830831197363603,\n",
              " 0.0008280968386185396,\n",
              " 0.0007041142121811759,\n",
              " 0.00012951690195570523,\n",
              " 0.0013121372697451426,\n",
              " 0.00043918002505909554,\n",
              " 0.002026342451874367,\n",
              " 0.0003424326114953139,\n",
              " 0.00011731306163628258,\n",
              " 0.0007012428607017964,\n",
              " 0.0005690183721806918,\n",
              " 0.0017945650316185267,\n",
              " 0.0005542895855145655]"
            ]
          },
          "metadata": {},
          "execution_count": 33
        }
      ]
    },
    {
      "cell_type": "code",
      "metadata": {
        "colab": {
          "base_uri": "https://localhost:8080/"
        },
        "id": "YW3GGntDN8A8",
        "outputId": "4e9c741f-1438-4bf9-e422-897a61f812b3"
      },
      "source": [
        "sustain_intense_pagen"
      ],
      "execution_count": null,
      "outputs": [
        {
          "output_type": "execute_result",
          "data": {
            "text/plain": [
              "[0.3082191780821918,\n",
              " 0.3949579831932773,\n",
              " 0.0,\n",
              " 0.7419354838709677,\n",
              " 0.15966386554621848,\n",
              " 0.23030303030303031,\n",
              " 0.1,\n",
              " 0.6730769230769231,\n",
              " 0.06962025316455696,\n",
              " 0.508695652173913,\n",
              " 0.47058823529411764,\n",
              " 0.1,\n",
              " 0.30177514792899407,\n",
              " 0.27358490566037735,\n",
              " 0.06168831168831169,\n",
              " 0.6842105263157895,\n",
              " 0.18085106382978725,\n",
              " 1.4285714285714286,\n",
              " 0.2598870056497175,\n",
              " 0.060240963855421686,\n",
              " 0.41081081081081083,\n",
              " 0.4678362573099415,\n",
              " 0.7241379310344828,\n",
              " 0.2727272727272727]"
            ]
          },
          "metadata": {},
          "execution_count": 34
        }
      ]
    },
    {
      "cell_type": "code",
      "metadata": {
        "id": "6KMSypD8OXRw"
      },
      "source": [
        "#Create variable sustain_basic --> If a firm makes a disclosure of the word “sustainability” or “sustainable” in the annual report then code 1, else coded 0; \n",
        "\n",
        "#Create dummy_sustainability and dummy_sustainable --> convert the continuous variable to dummy 1/0\n",
        "dummy_sustainability =[]\n",
        "dummy_sustainable =[]\n",
        "\n",
        "for i in count_sustainability:\n",
        "  if i > 0:\n",
        "    dummy_sustainability.append(1)\n",
        "  else:\n",
        "    dummy_sustainability.append(0)\n",
        "\n",
        "for i in count_sustainable:\n",
        "  if i > 0:\n",
        "    dummy_sustainable.append(1)\n",
        "  else:\n",
        "    dummy_sustainable.append(0)\n",
        "\n",
        "#Combine dummy_sustainability and dummy_sustainable as a list of tuples\n",
        "combined_sus_dummy = list(zip(dummy_sustainability, dummy_sustainable))"
      ],
      "execution_count": null,
      "outputs": []
    },
    {
      "cell_type": "code",
      "metadata": {
        "colab": {
          "base_uri": "https://localhost:8080/"
        },
        "id": "23i48sSqOX7A",
        "outputId": "c3c26835-6395-4bf6-88e5-d860a92704d1"
      },
      "source": [
        "#Create the variable sustain_basic\n",
        "# a+b >= 1 --> the firm at least discloses 'sustainability' or 'sustainable' or both\n",
        "sustain_basic = []\n",
        "for a,b in combined_sus_dummy:\n",
        "  if a+b >=1:\n",
        "    sustain_basic.append(1)\n",
        "  else:\n",
        "    sustain_basic.append(0)\n",
        "sustain_basic"
      ],
      "execution_count": null,
      "outputs": [
        {
          "output_type": "execute_result",
          "data": {
            "text/plain": [
              "[1, 1, 1, 1, 1, 1, 1, 1, 1, 1, 1, 1, 1, 1, 1, 1, 1, 1, 1, 1, 1, 1, 1, 1]"
            ]
          },
          "metadata": {},
          "execution_count": 20
        }
      ]
    },
    {
      "cell_type": "code",
      "metadata": {
        "id": "uooC1MTuOb6Q"
      },
      "source": [
        "#Create a variable firm_online_score\n",
        "#The keywords used to identify online business includes “online”, “e-commerce”, “internet”, click and pick”. (1 or 0 for each keyword)\n",
        "#We then add all these 4 keywords and get a score ranging from 0 to 4 for the variable\n",
        "\n",
        "#Create dummy variables --> convert continuous variables to dummy 1/0\n",
        "dummy_online = []\n",
        "dummy_ecommerce =[]\n",
        "dummy_internet = []\n",
        "dummy_cp = []\n",
        "\n",
        "for i in count_online:\n",
        "  if i > 0:\n",
        "    dummy_online.append(1)\n",
        "  else:\n",
        "    dummy_online.append(0)\n",
        "\n",
        "for i in count_ecommerce:\n",
        "  if i > 0:\n",
        "    dummy_ecommerce.append(1)\n",
        "  else:\n",
        "    dummy_ecommerce.append(0)\n",
        "\n",
        "for i in count_internet:\n",
        "  if i > 0:\n",
        "    dummy_internet.append(1)\n",
        "  else:\n",
        "    dummy_internet.append(0)\n",
        "\n",
        "for i in count_cp:\n",
        "  if i > 0:\n",
        "    dummy_cp.append(1)\n",
        "  else:\n",
        "    dummy_cp.append(0)\n"
      ],
      "execution_count": null,
      "outputs": []
    },
    {
      "cell_type": "code",
      "metadata": {
        "colab": {
          "base_uri": "https://localhost:8080/"
        },
        "id": "RElXbS8mOeV5",
        "outputId": "222327fe-e1c9-446f-8be7-e8abafb6a39f"
      },
      "source": [
        "#Combine dummy variables into a list of tuples\n",
        "combined_dummy = list(zip(dummy_online, dummy_ecommerce, dummy_internet, dummy_cp))\n",
        "combined_dummy"
      ],
      "execution_count": null,
      "outputs": [
        {
          "output_type": "execute_result",
          "data": {
            "text/plain": [
              "[(1, 1, 1, 0),\n",
              " (1, 0, 0, 0),\n",
              " (1, 0, 0, 0),\n",
              " (0, 0, 0, 0),\n",
              " (1, 0, 0, 0),\n",
              " (1, 0, 0, 0),\n",
              " (1, 1, 0, 0),\n",
              " (1, 0, 0, 0),\n",
              " (1, 0, 1, 0),\n",
              " (1, 1, 0, 0),\n",
              " (0, 0, 0, 0),\n",
              " (1, 0, 0, 0),\n",
              " (0, 0, 1, 0),\n",
              " (1, 1, 0, 0),\n",
              " (1, 1, 1, 0),\n",
              " (1, 0, 0, 0),\n",
              " (0, 0, 0, 0),\n",
              " (1, 0, 0, 0),\n",
              " (1, 1, 1, 0),\n",
              " (1, 1, 1, 0),\n",
              " (1, 1, 0, 0),\n",
              " (1, 1, 0, 0),\n",
              " (1, 0, 0, 0),\n",
              " (0, 0, 0, 0)]"
            ]
          },
          "metadata": {},
          "execution_count": 22
        }
      ]
    },
    {
      "cell_type": "code",
      "metadata": {
        "colab": {
          "base_uri": "https://localhost:8080/"
        },
        "id": "WKKftqkhOf-Y",
        "outputId": "d71ebd42-ceb5-4be2-c7d0-83925474f3cf"
      },
      "source": [
        "#Create firm_online_score --> the addition of all elements in the tuple\n",
        "firm_online_score = []\n",
        "for a,b,c,d in combined_dummy:\n",
        "  firm_online_score.append(a+b+c+d)\n",
        "firm_online_score"
      ],
      "execution_count": null,
      "outputs": [
        {
          "output_type": "execute_result",
          "data": {
            "text/plain": [
              "[3, 1, 1, 0, 1, 1, 2, 1, 2, 2, 0, 1, 1, 2, 3, 1, 0, 1, 3, 3, 2, 2, 1, 0]"
            ]
          },
          "metadata": {},
          "execution_count": 23
        }
      ]
    },
    {
      "cell_type": "code",
      "metadata": {
        "id": "0n9xh4EJPsSq"
      },
      "source": [
        "#Create variable climate --> If a firm discloses the phrase “climate change” or “climate risk” or “climate action” in the annual report then code 1, else coded 0; \n",
        "\n",
        "#Create dummy variables --> convert continuous variables to dummy 1/0\n",
        "dummy_climate_change =[]\n",
        "dummy_climate_risk =[]\n",
        "dummy_climate_action=[]\n",
        "\n",
        "for i in count_climate_change:\n",
        "  if i > 0:\n",
        "    dummy_climate_change.append(1)\n",
        "  else:\n",
        "    dummy_climate_change.append(0)\n",
        "\n",
        "for i in count_climate_risk:\n",
        "  if i > 0:\n",
        "    dummy_climate_risk.append(1)\n",
        "  else:\n",
        "    dummy_climate_risk.append(0)\n",
        "\n",
        "for i in count_climate_action:\n",
        "  if i > 0:\n",
        "    dummy_climate_action.append(1)\n",
        "  else:\n",
        "    dummy_climate_action.append(0)\n",
        "\n",
        "combined_climate_dummy = list(zip(dummy_climate_change, dummy_climate_risk, dummy_climate_action))"
      ],
      "execution_count": null,
      "outputs": []
    },
    {
      "cell_type": "code",
      "metadata": {
        "colab": {
          "base_uri": "https://localhost:8080/"
        },
        "id": "kHO9s-ZCQk19",
        "outputId": "2c4ced2c-7fb5-4f20-c784-7a79ff5ee1a0"
      },
      "source": [
        "#Create the variable climate --> if a+b+c >=1 it means the firm makes at least one disclosure\n",
        "climate=[]\n",
        "for a,b,c in combined_climate_dummy:\n",
        "  if a+b+c >=1:\n",
        "    climate.append(1)\n",
        "  else:\n",
        "    climate.append(0)\n",
        "climate"
      ],
      "execution_count": null,
      "outputs": [
        {
          "output_type": "execute_result",
          "data": {
            "text/plain": [
              "[1, 1, 1, 1, 1, 1, 1, 1, 1, 1, 1, 0, 1, 1, 1, 1, 1, 1, 1, 1, 1, 1, 1, 1]"
            ]
          },
          "metadata": {},
          "execution_count": 27
        }
      ]
    },
    {
      "cell_type": "code",
      "metadata": {
        "id": "UBHGDJ2VtbaR"
      },
      "source": [
        "ticker=[]\n",
        "year=[]\n",
        "full=[]\n",
        "\n",
        "for file in file_list:\n",
        "  n=(file.split('.pdf',0))\n",
        "  ticker.append((file.rsplit('/content/drive/MyDrive/Annual report/')[1][0:3]).upper())\n",
        "  year.append((file.rsplit('/content/drive/MyDrive/Annual report/')[1][3:5]))\n",
        "  m=(file.rsplit('/content/drive/MyDrive/Annual report/')[1][5])\n",
        "  \n",
        "  if m == '.':\n",
        "    full.append('full_report')\n",
        "  else:\n",
        "    full.append('corporate_governance')"
      ],
      "execution_count": null,
      "outputs": []
    },
    {
      "cell_type": "code",
      "metadata": {
        "id": "MJpDfhHHOk1Y"
      },
      "source": [
        "from itertools import zip_longest\n",
        "data = [ticker, year, full, sc,st,name,ct, pagen, size,count_sustainability,count_sustainable, sustain_basic, sustain_intense, sustain_intense_totalwords, sustain_intense_pagen, count_covid, count_online, count_ecommerce, count_internet, count_cp, firm_online_score, count_climate_change, count_climate_risk, count_climate_action, climate]\n",
        "export_data = zip_longest(*data, fillvalue = '')\n",
        "with open('/content/drive/MyDrive/Annual report/variables.csv', 'w', encoding=\"ISO-8859-1\", newline='') as file:\n",
        "      write = csv.writer(file)\n",
        "      write.writerow((\"TICKER\", \"YEAR\", \"FLAG-REPORT\",\"SENTENCE COUNT\",\"STANDARD READABILITY\",\"NAME\",\"TOTAL WORDS\",\"TOTAL PAGES\",\"FILE SIZE\",\"COUNT_SUSTAINABILITY\",'COUNT_SUSTAINABLE','SUSTAIN_BASIC', 'SUSTAIN_INTENSE', 'SUSTAIN_TOTALWORDS', 'SUSTAIN_PAGEN','COUNT_COVID', 'COUNT_ONLINE', 'COUNT_ECOMMERCE', 'COUNT_INTERNET', 'COUNT_CP','FIRM_ONLINE_SCORE','COUNT_CLIMATE_CHANGE','COUNT_CLIMATE_RISK','COUNT_CLIMATE_ACTION','CLIMATE'))\n",
        "      write.writerows(export_data)"
      ],
      "execution_count": null,
      "outputs": []
    },
    {
      "cell_type": "code",
      "metadata": {
        "id": "wixN7a78tjqT"
      },
      "source": [
        "# from itertools import zip_longest\n",
        "# data = [ticker, year, full, gf, kg,ke,dc,sc,dif,st,name,ct, pagen, size,sep,ses,count_sustainability,count_sustainable,count_covid,count_loss]\n",
        "# export_data = zip_longest(*data, fillvalue = '')\n",
        "# with open('/content/drive/MyDrive/Annual report/countwords_updated.csv', 'w', encoding=\"ISO-8859-1\", newline='') as file:\n",
        "#       write = csv.writer(file)\n",
        "#       write.writerow((\"TICKER\", \"YEAR\", \"FLAG-REPORT\", \"GUNNING FOG\", \"FLESCH-KINCAID GRADE\",\"FLESCH-READING EASE\",\"DALE-CHALL\",\"SENTENCE COUNT\",\"DIFFICULT WORDS\",\"STANDARD READABILITY\",\"NAME\",\"TOTAL WORDS\",\"TOTAL PAGES\",\"FILE SIZE\",\"SENTIMENT POLARITY\",\"SENTIMENT SUBJECTIVITY\", \"COUNT_SUSTAINABILITY\",\"COUNT_SUSTAINABLE\",\"COUNT_COVID\",\"COUNT_LOSS\"))\n",
        "#       write.writerows(export_data)"
      ],
      "execution_count": null,
      "outputs": []
    },
    {
      "cell_type": "code",
      "metadata": {
        "colab": {
          "base_uri": "https://localhost:8080/"
        },
        "id": "RFq5xOsXURd5",
        "outputId": "af6996de-f738-4b26-e518-0dc743a0f84b"
      },
      "source": [
        "print(full)"
      ],
      "execution_count": null,
      "outputs": [
        {
          "output_type": "stream",
          "name": "stdout",
          "text": [
            "['full_report', 'corporate_governance', 'corporate_governance', 'corporate_governance', 'corporate_governance', 'corporate_governance', 'corporate_governance', 'full_report', 'full_report', 'full_report', 'corporate_governance', 'corporate_governance', 'corporate_governance', 'corporate_governance', 'full_report', 'corporate_governance', 'corporate_governance', 'corporate_governance', 'corporate_governance', 'corporate_governance', 'corporate_governance', 'full_report', 'corporate_governance', 'corporate_governance']\n"
          ]
        }
      ]
    }
  ]
}